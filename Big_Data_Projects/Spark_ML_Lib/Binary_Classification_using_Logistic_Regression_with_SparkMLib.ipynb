{
 "cells": [
  {
   "cell_type": "markdown",
   "metadata": {
    "application/vnd.databricks.v1+cell": {
     "cellMetadata": {},
     "inputWidgets": {},
     "nuid": "ed20c1a8-809b-4c89-95b7-24f22633c5a5",
     "showTitle": false,
     "title": ""
    }
   },
   "source": [
    "<h1> Task 2 - Binary Classification using Logistic Regression   </h1>\n",
    "\n",
    "<h6> GOAL: The goal of this task is to build a machine learning pipeline including a classification model that predicts the `Attrition` (Yes or No) from the features included in the dataset (income, work years, education level, marital status, job role, and so on), which we used in the Lab 3 and Lab 4.  </h6>"
   ]
  },
  {
   "cell_type": "code",
   "execution_count": 0,
   "metadata": {
    "application/vnd.databricks.v1+cell": {
     "cellMetadata": {},
     "inputWidgets": {},
     "nuid": "bfaf5e2e-4cc0-4f54-a8fc-0f4c016e5a15",
     "showTitle": false,
     "title": ""
    }
   },
   "outputs": [],
   "source": [
    "#  IMPORTING THE NECESSARY LIBRARIES\n",
    "\n",
    "# To convert categorical variables to numeric\n",
    "from pyspark.ml.feature import StringIndexer\n",
    "\n",
    "# To combine the feature columns into one single column\n",
    "from pyspark.ml.feature import VectorAssembler\n",
    "\n",
    "# For logistic regression\n",
    "from pyspark.ml.classification import LogisticRegression\n",
    "\n",
    "#For building the Pipeline\n",
    "from pyspark.ml import Pipeline\n",
    "\n",
    "# For checking the accuracy\n",
    "from pyspark.ml.evaluation import BinaryClassificationEvaluator, MulticlassClassificationEvaluator\n",
    "\n",
    "\n",
    "# For Hyperparameter tuning\n",
    "from pyspark.ml.tuning import ParamGridBuilder, CrossValidator"
   ]
  },
  {
   "cell_type": "markdown",
   "metadata": {
    "application/vnd.databricks.v1+cell": {
     "cellMetadata": {},
     "inputWidgets": {},
     "nuid": "dc6411f8-60f5-401a-b36f-20c488537794",
     "showTitle": false,
     "title": ""
    }
   },
   "source": [
    "<h5> 2.2 Loading the dataset and displaying the schema</h5>"
   ]
  },
  {
   "cell_type": "code",
   "execution_count": 0,
   "metadata": {
    "application/vnd.databricks.v1+cell": {
     "cellMetadata": {},
     "inputWidgets": {},
     "nuid": "8aea64b5-3848-42fb-9d25-f4b210b97ef7",
     "showTitle": false,
     "title": ""
    }
   },
   "outputs": [],
   "source": [
    "# Loading the dataset\n",
    "df1 = spark.read.format(\"csv\").option(\"header\", \"true\").load(\"dbfs:/FileStore/shared_uploads/clvrashmika@gmail.com/EmployeeAttrition.csv\", inferSchema = \"true\")"
   ]
  },
  {
   "cell_type": "code",
   "execution_count": 0,
   "metadata": {
    "application/vnd.databricks.v1+cell": {
     "cellMetadata": {},
     "inputWidgets": {},
     "nuid": "ef70dd8e-9738-4f72-a657-853cf7523024",
     "showTitle": false,
     "title": ""
    }
   },
   "outputs": [
    {
     "name": "stdout",
     "output_type": "stream",
     "text": [
      "root\n",
      " |-- Age: integer (nullable = true)\n",
      " |-- Attrition: string (nullable = true)\n",
      " |-- BusinessTravel: string (nullable = true)\n",
      " |-- DailyRate: integer (nullable = true)\n",
      " |-- Department: string (nullable = true)\n",
      " |-- DistanceFromHome: integer (nullable = true)\n",
      " |-- Education: integer (nullable = true)\n",
      " |-- EducationField: string (nullable = true)\n",
      " |-- EmployeeCount: integer (nullable = true)\n",
      " |-- EmployeeNumber: integer (nullable = true)\n",
      " |-- EnvironmentSatisfaction: integer (nullable = true)\n",
      " |-- Gender: string (nullable = true)\n",
      " |-- HourlyRate: integer (nullable = true)\n",
      " |-- JobInvolvement: integer (nullable = true)\n",
      " |-- JobLevel: integer (nullable = true)\n",
      " |-- JobRole: string (nullable = true)\n",
      " |-- JobSatisfaction: integer (nullable = true)\n",
      " |-- MaritalStatus: string (nullable = true)\n",
      " |-- MonthlyIncome: integer (nullable = true)\n",
      " |-- MonthlyRate: integer (nullable = true)\n",
      " |-- NumCompaniesWorked: integer (nullable = true)\n",
      " |-- Over18: string (nullable = true)\n",
      " |-- OverTime: string (nullable = true)\n",
      " |-- PercentSalaryHike: integer (nullable = true)\n",
      " |-- PerformanceRating: integer (nullable = true)\n",
      " |-- RelationshipSatisfaction: integer (nullable = true)\n",
      " |-- StandardHours: integer (nullable = true)\n",
      " |-- StockOptionLevel: integer (nullable = true)\n",
      " |-- TotalWorkingYears: integer (nullable = true)\n",
      " |-- TrainingTimesLastYear: integer (nullable = true)\n",
      " |-- WorkLifeBalance: integer (nullable = true)\n",
      " |-- YearsAtCompany: integer (nullable = true)\n",
      " |-- YearsInCurrentRole: integer (nullable = true)\n",
      " |-- YearsSinceLastPromotion: integer (nullable = true)\n",
      " |-- YearsWithCurrManager: integer (nullable = true)\n",
      "\n"
     ]
    }
   ],
   "source": [
    "# Printing the dataset's schema\n",
    "df1.printSchema()"
   ]
  },
  {
   "cell_type": "markdown",
   "metadata": {
    "application/vnd.databricks.v1+cell": {
     "cellMetadata": {},
     "inputWidgets": {},
     "nuid": "6df101b7-197c-4376-937b-614648f1dc44",
     "showTitle": false,
     "title": ""
    }
   },
   "source": [
    "<h5> 2.3 Splitting the dataset into training and testing sets & Displaying distribution of HourlyRate and Education </h5>"
   ]
  },
  {
   "cell_type": "code",
   "execution_count": 0,
   "metadata": {
    "application/vnd.databricks.v1+cell": {
     "cellMetadata": {},
     "inputWidgets": {},
     "nuid": "94863c6e-201a-449d-848c-aa08b61f1ca1",
     "showTitle": false,
     "title": ""
    }
   },
   "outputs": [
    {
     "name": "stdout",
     "output_type": "stream",
     "text": [
      "1204\n",
      "266\n"
     ]
    }
   ],
   "source": [
    "# Splitting the dataset into train and test dataframes\n",
    "trainDF, testDF = df1.randomSplit([0.8, 0.2], seed=65)\n",
    "print(trainDF.cache().count()) # Cache because accessing training data multiple times\n",
    "print(testDF.count())"
   ]
  },
  {
   "cell_type": "code",
   "execution_count": 0,
   "metadata": {
    "application/vnd.databricks.v1+cell": {
     "cellMetadata": {},
     "inputWidgets": {},
     "nuid": "a31b1bbd-c028-46be-b72c-2a107bef8f72",
     "showTitle": false,
     "title": ""
    }
   },
   "outputs": [
    {
     "data": {
      "text/html": [
       "<style scoped>\n",
       "  .table-result-container {\n",
       "    max-height: 300px;\n",
       "    overflow: auto;\n",
       "  }\n",
       "  table, th, td {\n",
       "    border: 1px solid black;\n",
       "    border-collapse: collapse;\n",
       "  }\n",
       "  th, td {\n",
       "    padding: 5px;\n",
       "  }\n",
       "  th {\n",
       "    text-align: left;\n",
       "  }\n",
       "</style><div class='table-result-container'><table class='table-result'><thead style='background-color: white'><tr><th>summary</th><th>HourlyRate</th></tr></thead><tbody><tr><td>count</td><td>1204</td></tr><tr><td>mean</td><td>65.80481727574751</td></tr><tr><td>stddev</td><td>20.50677831411945</td></tr><tr><td>min</td><td>30</td></tr><tr><td>25%</td><td>48</td></tr><tr><td>50%</td><td>66</td></tr><tr><td>75%</td><td>84</td></tr><tr><td>max</td><td>100</td></tr></tbody></table></div>"
      ]
     },
     "metadata": {
      "application/vnd.databricks.v1+output": {
       "addedWidgets": {},
       "aggData": [],
       "aggError": "",
       "aggOverflow": false,
       "aggSchema": [],
       "aggSeriesLimitReached": false,
       "aggType": "",
       "arguments": {},
       "columnCustomDisplayInfos": {},
       "data": [
        [
         "count",
         "1204"
        ],
        [
         "mean",
         "65.80481727574751"
        ],
        [
         "stddev",
         "20.50677831411945"
        ],
        [
         "min",
         "30"
        ],
        [
         "25%",
         "48"
        ],
        [
         "50%",
         "66"
        ],
        [
         "75%",
         "84"
        ],
        [
         "max",
         "100"
        ]
       ],
       "datasetInfos": [],
       "dbfsResultPath": null,
       "isJsonSchema": true,
       "metadata": {},
       "overflow": false,
       "plotOptions": {
        "customPlotOptions": {},
        "displayType": "table",
        "pivotAggregation": null,
        "pivotColumns": null,
        "xColumns": null,
        "yColumns": null
       },
       "removedWidgets": [],
       "schema": [
        {
         "metadata": "{}",
         "name": "summary",
         "type": "\"string\""
        },
        {
         "metadata": "{}",
         "name": "HourlyRate",
         "type": "\"string\""
        }
       ],
       "type": "table"
      }
     },
     "output_type": "display_data"
    }
   ],
   "source": [
    "# Checking the distribution of the 'HourlyRate' field in the training dataset using the summary()\n",
    "display(trainDF.select('HourlyRate').summary())"
   ]
  },
  {
   "cell_type": "code",
   "execution_count": 0,
   "metadata": {
    "application/vnd.databricks.v1+cell": {
     "cellMetadata": {},
     "inputWidgets": {},
     "nuid": "81cca5ea-78ea-44c1-9f7f-d410cd8f8557",
     "showTitle": false,
     "title": ""
    }
   },
   "outputs": [
    {
     "data": {
      "text/html": [
       "<style scoped>\n",
       "  .table-result-container {\n",
       "    max-height: 300px;\n",
       "    overflow: auto;\n",
       "  }\n",
       "  table, th, td {\n",
       "    border: 1px solid black;\n",
       "    border-collapse: collapse;\n",
       "  }\n",
       "  th, td {\n",
       "    padding: 5px;\n",
       "  }\n",
       "  th {\n",
       "    text-align: left;\n",
       "  }\n",
       "</style><div class='table-result-container'><table class='table-result'><thead style='background-color: white'><tr><th>Education</th><th>count</th></tr></thead><tbody><tr><td>3</td><td>463</td></tr><tr><td>4</td><td>330</td></tr><tr><td>2</td><td>232</td></tr><tr><td>1</td><td>142</td></tr><tr><td>5</td><td>37</td></tr></tbody></table></div>"
      ]
     },
     "metadata": {
      "application/vnd.databricks.v1+output": {
       "addedWidgets": {},
       "aggData": [],
       "aggError": "",
       "aggOverflow": false,
       "aggSchema": [],
       "aggSeriesLimitReached": false,
       "aggType": "",
       "arguments": {},
       "columnCustomDisplayInfos": {},
       "data": [
        [
         3,
         463
        ],
        [
         4,
         330
        ],
        [
         2,
         232
        ],
        [
         1,
         142
        ],
        [
         5,
         37
        ]
       ],
       "datasetInfos": [],
       "dbfsResultPath": null,
       "isJsonSchema": true,
       "metadata": {},
       "overflow": false,
       "plotOptions": {
        "customPlotOptions": {},
        "displayType": "table",
        "pivotAggregation": null,
        "pivotColumns": null,
        "xColumns": null,
        "yColumns": null
       },
       "removedWidgets": [],
       "schema": [
        {
         "metadata": "{}",
         "name": "Education",
         "type": "\"integer\""
        },
        {
         "metadata": "{}",
         "name": "count",
         "type": "\"long\""
        }
       ],
       "type": "table"
      }
     },
     "output_type": "display_data"
    }
   ],
   "source": [
    "# Checking the distribution of the 'Education' field in the training dataset using groupBY\n",
    "display(trainDF.groupBy('Education').count().sort(\"count\", ascending = False))"
   ]
  },
  {
   "cell_type": "markdown",
   "metadata": {
    "application/vnd.databricks.v1+cell": {
     "cellMetadata": {},
     "inputWidgets": {},
     "nuid": "d273ed88-093b-4be5-a2f9-a4b8b2a19c0f",
     "showTitle": false,
     "title": ""
    }
   },
   "source": [
    "<h5> 2.4 Feature Processing </h5>"
   ]
  },
  {
   "cell_type": "code",
   "execution_count": 0,
   "metadata": {
    "application/vnd.databricks.v1+cell": {
     "cellMetadata": {},
     "inputWidgets": {},
     "nuid": "5d307552-cf4f-4bb2-9b86-f6541e33e0db",
     "showTitle": false,
     "title": ""
    }
   },
   "outputs": [],
   "source": [
    "#  2.4.1 - Selecting 5 categorical cols from the dataset\n",
    "categorical_cols = [\"Department\", \"EducationField\", \"Gender\", \"JobRole\", \"MaritalStatus\"]\n",
    "\n",
    "# Coverting the above columns to numerical using stringIndexer\n",
    "stringIndexer = StringIndexer(inputCols=categorical_cols, outputCols=[i + \"IndexedCol\" for i in categorical_cols])\n",
    "\n",
    "# 2.4.2 - Setting the Attritition Feature (Yes/No) as a label\n",
    "# Converting to a numeric value\n",
    "labelToNum = StringIndexer(inputCol=\"Attrition\", outputCol=\"NewAttritionCol\")\n",
    "labelToNum\n",
    "\n",
    "#Applying this to the dataset\n",
    "stringIndexerModel = stringIndexer.fit(trainDF)\n",
    "\n",
    "labelIndexerModel = labelToNum.fit(trainDF)"
   ]
  },
  {
   "cell_type": "code",
   "execution_count": 0,
   "metadata": {
    "application/vnd.databricks.v1+cell": {
     "cellMetadata": {},
     "inputWidgets": {},
     "nuid": "88a48299-2942-4dcb-a254-febc5b4f353c",
     "showTitle": false,
     "title": ""
    }
   },
   "outputs": [],
   "source": [
    "#  2.4.3 and 2.4.4 \n",
    "#  Combining the feature columns into a new single feature \n",
    "numerical_columns = [\"Age\", \"DailyRate\", \"Education\", \"DistanceFromHome\", \"HourlyRate\", \"JobInvolvement\", \"JobLevel\", \"JobSatisfaction\", \"MonthlyIncome\", \"YearsAtCompany\", \"YearsInCurrentRole\", \"YearsWithCurrManager\", \"NumCompaniesWorked\", \"PerformanceRating\", \"EnvironmentSatisfaction\" ]\n",
    "\n",
    "vector_assembler = VectorAssembler(inputCols=numerical_columns, outputCol=\"features\")"
   ]
  },
  {
   "cell_type": "markdown",
   "metadata": {
    "application/vnd.databricks.v1+cell": {
     "cellMetadata": {},
     "inputWidgets": {},
     "nuid": "308e9a03-e237-453e-9d09-e2c41054d6da",
     "showTitle": false,
     "title": ""
    }
   },
   "source": [
    "<b> 2.5 Defining the Model <b>"
   ]
  },
  {
   "cell_type": "code",
   "execution_count": 0,
   "metadata": {
    "application/vnd.databricks.v1+cell": {
     "cellMetadata": {},
     "inputWidgets": {},
     "nuid": "d64fc75c-161b-4507-bca1-1c94b7e368e5",
     "showTitle": false,
     "title": ""
    }
   },
   "outputs": [],
   "source": [
    "# Defining the model for Logistic Regression\n",
    "log_regression = LogisticRegression(featuresCol=\"features\", labelCol=\"NewAttritionCol\", regParam=1.0)"
   ]
  },
  {
   "cell_type": "markdown",
   "metadata": {
    "application/vnd.databricks.v1+cell": {
     "cellMetadata": {},
     "inputWidgets": {},
     "nuid": "627e51ae-2b9e-49d6-a3cf-f5010881488f",
     "showTitle": false,
     "title": ""
    }
   },
   "source": [
    "<b> 2.6  -  Building the Pipeline  </b>"
   ]
  },
  {
   "cell_type": "code",
   "execution_count": 0,
   "metadata": {
    "application/vnd.databricks.v1+cell": {
     "cellMetadata": {},
     "inputWidgets": {},
     "nuid": "88290de9-5eb3-4720-800b-6940dbc1d180",
     "showTitle": false,
     "title": ""
    }
   },
   "outputs": [],
   "source": [
    "# Defining the pipeline based on the above created stages\n",
    "pipeline = Pipeline(stages=[stringIndexer, labelToNum, vector_assembler, log_regression])\n",
    "\n",
    "\n",
    "# Defining the pipeline model\n",
    "pipelineModel = pipeline.fit(trainDF)\n",
    "\n",
    "\n",
    "# Apply the pipeline model to the test database\n",
    "predDF = pipelineModel.transform(testDF)"
   ]
  },
  {
   "cell_type": "markdown",
   "metadata": {
    "application/vnd.databricks.v1+cell": {
     "cellMetadata": {},
     "inputWidgets": {},
     "nuid": "3e4bd466-ae27-4904-aee8-feb0041b6040",
     "showTitle": false,
     "title": ""
    }
   },
   "source": [
    "<b> 2.6 (Cont.) - Displaying the Predictions </b>"
   ]
  },
  {
   "cell_type": "code",
   "execution_count": 0,
   "metadata": {
    "application/vnd.databricks.v1+cell": {
     "cellMetadata": {},
     "inputWidgets": {},
     "nuid": "88267f50-0dd5-4589-a702-0d96fdbfd68b",
     "showTitle": false,
     "title": ""
    }
   },
   "outputs": [
    {
     "data": {
      "text/html": [
       "<style scoped>\n",
       "  .table-result-container {\n",
       "    max-height: 300px;\n",
       "    overflow: auto;\n",
       "  }\n",
       "  table, th, td {\n",
       "    border: 1px solid black;\n",
       "    border-collapse: collapse;\n",
       "  }\n",
       "  th, td {\n",
       "    padding: 5px;\n",
       "  }\n",
       "  th {\n",
       "    text-align: left;\n",
       "  }\n",
       "</style><div class='table-result-container'><table class='table-result'><thead style='background-color: white'><tr><th>features</th><th>NewAttritionCol</th><th>prediction</th><th>probability</th></tr></thead><tbody><tr><td>Map(vectorType -> dense, length -> 15, values -> List(18.0, 230.0, 3.0, 3.0, 54.0, 3.0, 1.0, 3.0, 1420.0, 0.0, 0.0, 0.0, 1.0, 3.0, 3.0))</td><td>1.0</td><td>0.0</td><td>Map(vectorType -> dense, length -> 2, values -> List(0.8101243950612148, 0.1898756049387852))</td></tr><tr><td>Map(vectorType -> dense, length -> 15, values -> List(19.0, 504.0, 3.0, 10.0, 96.0, 2.0, 1.0, 2.0, 1859.0, 1.0, 1.0, 0.0, 1.0, 4.0, 1.0))</td><td>1.0</td><td>0.0</td><td>Map(vectorType -> dense, length -> 2, values -> List(0.7910603382589526, 0.2089396617410474))</td></tr><tr><td>Map(vectorType -> dense, length -> 15, values -> List(20.0, 1097.0, 3.0, 11.0, 98.0, 2.0, 1.0, 1.0, 2600.0, 1.0, 0.0, 0.0, 1.0, 3.0, 4.0))</td><td>1.0</td><td>0.0</td><td>Map(vectorType -> dense, length -> 2, values -> List(0.8026752384918958, 0.19732476150810419))</td></tr><tr><td>Map(vectorType -> dense, length -> 15, values -> List(21.0, 984.0, 1.0, 1.0, 70.0, 2.0, 1.0, 2.0, 2070.0, 2.0, 2.0, 2.0, 1.0, 3.0, 4.0))</td><td>0.0</td><td>0.0</td><td>Map(vectorType -> dense, length -> 2, values -> List(0.8173454847286873, 0.1826545152713127))</td></tr><tr><td>Map(vectorType -> dense, length -> 15, values -> List(21.0, 1427.0, 1.0, 18.0, 65.0, 3.0, 1.0, 4.0, 2693.0, 1.0, 0.0, 0.0, 1.0, 3.0, 4.0))</td><td>1.0</td><td>0.0</td><td>Map(vectorType -> dense, length -> 2, values -> List(0.8216881516476776, 0.1783118483523224))</td></tr><tr><td>Map(vectorType -> dense, length -> 15, values -> List(22.0, 534.0, 3.0, 15.0, 59.0, 3.0, 1.0, 4.0, 2871.0, 0.0, 0.0, 0.0, 1.0, 3.0, 2.0))</td><td>0.0</td><td>0.0</td><td>Map(vectorType -> dense, length -> 2, values -> List(0.8094938330177999, 0.19050616698220013))</td></tr><tr><td>Map(vectorType -> dense, length -> 15, values -> List(22.0, 1256.0, 4.0, 3.0, 48.0, 2.0, 1.0, 4.0, 2853.0, 0.0, 0.0, 0.0, 0.0, 3.0, 3.0))</td><td>1.0</td><td>0.0</td><td>Map(vectorType -> dense, length -> 2, values -> List(0.8158633289543219, 0.1841366710456781))</td></tr><tr><td>Map(vectorType -> dense, length -> 15, values -> List(22.0, 391.0, 1.0, 7.0, 75.0, 3.0, 1.0, 2.0, 2472.0, 1.0, 0.0, 0.0, 1.0, 4.0, 4.0))</td><td>1.0</td><td>0.0</td><td>Map(vectorType -> dense, length -> 2, values -> List(0.8178307847695063, 0.18216921523049368))</td></tr><tr><td>Map(vectorType -> dense, length -> 15, values -> List(23.0, 885.0, 3.0, 4.0, 58.0, 4.0, 1.0, 1.0, 2819.0, 3.0, 2.0, 2.0, 2.0, 3.0, 1.0))</td><td>0.0</td><td>0.0</td><td>Map(vectorType -> dense, length -> 2, values -> List(0.8171309247768448, 0.1828690752231552))</td></tr><tr><td>Map(vectorType -> dense, length -> 15, values -> List(23.0, 638.0, 3.0, 9.0, 33.0, 3.0, 1.0, 1.0, 1790.0, 1.0, 0.0, 0.0, 1.0, 3.0, 4.0))</td><td>1.0</td><td>0.0</td><td>Map(vectorType -> dense, length -> 2, values -> List(0.8108506929139458, 0.18914930708605415))</td></tr><tr><td>Map(vectorType -> dense, length -> 15, values -> List(23.0, 427.0, 3.0, 7.0, 99.0, 3.0, 1.0, 4.0, 2275.0, 3.0, 2.0, 2.0, 1.0, 4.0, 3.0))</td><td>1.0</td><td>0.0</td><td>Map(vectorType -> dense, length -> 2, values -> List(0.8295359863485278, 0.17046401365147223))</td></tr><tr><td>Map(vectorType -> dense, length -> 15, values -> List(23.0, 1243.0, 3.0, 6.0, 63.0, 4.0, 1.0, 1.0, 1601.0, 0.0, 0.0, 0.0, 1.0, 4.0, 3.0))</td><td>1.0</td><td>0.0</td><td>Map(vectorType -> dense, length -> 2, values -> List(0.8218902734912683, 0.1781097265087317))</td></tr><tr><td>Map(vectorType -> dense, length -> 15, values -> List(24.0, 673.0, 2.0, 11.0, 96.0, 4.0, 2.0, 3.0, 4011.0, 4.0, 2.0, 3.0, 0.0, 3.0, 1.0))</td><td>0.0</td><td>0.0</td><td>Map(vectorType -> dense, length -> 2, values -> List(0.8338699652347565, 0.16613003476524346))</td></tr><tr><td>Map(vectorType -> dense, length -> 15, values -> List(24.0, 567.0, 1.0, 2.0, 32.0, 3.0, 1.0, 4.0, 3760.0, 6.0, 3.0, 3.0, 1.0, 3.0, 1.0))</td><td>0.0</td><td>0.0</td><td>Map(vectorType -> dense, length -> 2, values -> List(0.8263640913955932, 0.1736359086044068))</td></tr><tr><td>Map(vectorType -> dense, length -> 15, values -> List(24.0, 1371.0, 4.0, 10.0, 77.0, 3.0, 2.0, 3.0, 4260.0, 5.0, 2.0, 3.0, 1.0, 3.0, 4.0))</td><td>0.0</td><td>0.0</td><td>Map(vectorType -> dense, length -> 2, values -> List(0.8415967518935656, 0.15840324810643436))</td></tr><tr><td>Map(vectorType -> dense, length -> 15, values -> List(24.0, 381.0, 3.0, 9.0, 89.0, 3.0, 1.0, 1.0, 3172.0, 0.0, 0.0, 0.0, 2.0, 3.0, 2.0))</td><td>1.0</td><td>0.0</td><td>Map(vectorType -> dense, length -> 2, values -> List(0.8007523198409808, 0.19924768015901917))</td></tr><tr><td>Map(vectorType -> dense, length -> 15, values -> List(24.0, 1448.0, 1.0, 1.0, 62.0, 3.0, 1.0, 2.0, 3202.0, 5.0, 3.0, 4.0, 1.0, 3.0, 1.0))</td><td>1.0</td><td>0.0</td><td>Map(vectorType -> dense, length -> 2, values -> List(0.8242633762027145, 0.1757366237972855))</td></tr><tr><td>Map(vectorType -> dense, length -> 15, values -> List(25.0, 309.0, 3.0, 2.0, 82.0, 3.0, 1.0, 2.0, 2187.0, 2.0, 0.0, 2.0, 4.0, 3.0, 3.0))</td><td>0.0</td><td>0.0</td><td>Map(vectorType -> dense, length -> 2, values -> List(0.8135249418627557, 0.1864750581372443))</td></tr><tr><td>Map(vectorType -> dense, length -> 15, values -> List(25.0, 882.0, 1.0, 19.0, 67.0, 3.0, 1.0, 4.0, 3669.0, 3.0, 2.0, 2.0, 3.0, 3.0, 4.0))</td><td>0.0</td><td>0.0</td><td>Map(vectorType -> dense, length -> 2, values -> List(0.827239271267451, 0.172760728732549))</td></tr><tr><td>Map(vectorType -> dense, length -> 15, values -> List(25.0, 891.0, 2.0, 4.0, 99.0, 2.0, 2.0, 4.0, 4487.0, 5.0, 4.0, 3.0, 1.0, 3.0, 2.0))</td><td>0.0</td><td>0.0</td><td>Map(vectorType -> dense, length -> 2, values -> List(0.8322345209873373, 0.1677654790126627))</td></tr><tr><td>Map(vectorType -> dense, length -> 15, values -> List(25.0, 599.0, 1.0, 24.0, 73.0, 1.0, 1.0, 4.0, 1118.0, 1.0, 0.0, 0.0, 1.0, 3.0, 3.0))</td><td>1.0</td><td>0.0</td><td>Map(vectorType -> dense, length -> 2, values -> List(0.7911645780330435, 0.20883542196695648))</td></tr><tr><td>Map(vectorType -> dense, length -> 15, values -> List(26.0, 786.0, 3.0, 7.0, 76.0, 3.0, 1.0, 4.0, 2570.0, 7.0, 7.0, 7.0, 1.0, 4.0, 4.0))</td><td>0.0</td><td>0.0</td><td>Map(vectorType -> dense, length -> 2, values -> List(0.8540300918406354, 0.14596990815936461))</td></tr><tr><td>Map(vectorType -> dense, length -> 15, values -> List(26.0, 1479.0, 3.0, 1.0, 84.0, 3.0, 2.0, 2.0, 6397.0, 6.0, 5.0, 4.0, 1.0, 4.0, 3.0))</td><td>0.0</td><td>0.0</td><td>Map(vectorType -> dense, length -> 2, values -> List(0.8504061190707878, 0.14959388092921222))</td></tr><tr><td>Map(vectorType -> dense, length -> 15, values -> List(26.0, 572.0, 3.0, 10.0, 46.0, 3.0, 2.0, 4.0, 4684.0, 5.0, 3.0, 2.0, 1.0, 3.0, 3.0))</td><td>0.0</td><td>0.0</td><td>Map(vectorType -> dense, length -> 2, values -> List(0.8383462877789758, 0.1616537122210242))</td></tr><tr><td>Map(vectorType -> dense, length -> 15, values -> List(26.0, 1349.0, 3.0, 23.0, 90.0, 3.0, 1.0, 4.0, 2886.0, 3.0, 2.0, 2.0, 1.0, 4.0, 1.0))</td><td>0.0</td><td>0.0</td><td>Map(vectorType -> dense, length -> 2, values -> List(0.8194093800819006, 0.18059061991809944))</td></tr><tr><td>Map(vectorType -> dense, length -> 15, values -> List(26.0, 426.0, 4.0, 17.0, 58.0, 3.0, 1.0, 3.0, 2741.0, 7.0, 7.0, 0.0, 0.0, 3.0, 2.0))</td><td>1.0</td><td>0.0</td><td>Map(vectorType -> dense, length -> 2, values -> List(0.8254695302496329, 0.17453046975036712))</td></tr><tr><td>Map(vectorType -> dense, length -> 15, values -> List(26.0, 575.0, 1.0, 3.0, 73.0, 3.0, 1.0, 1.0, 3102.0, 6.0, 4.0, 4.0, 0.0, 4.0, 3.0))</td><td>1.0</td><td>0.0</td><td>Map(vectorType -> dense, length -> 2, values -> List(0.8329972953360083, 0.1670027046639917))</td></tr><tr><td>Map(vectorType -> dense, length -> 15, values -> List(26.0, 1330.0, 3.0, 21.0, 37.0, 3.0, 1.0, 3.0, 2377.0, 1.0, 1.0, 0.0, 1.0, 4.0, 1.0))</td><td>1.0</td><td>0.0</td><td>Map(vectorType -> dense, length -> 2, values -> List(0.8083418655341886, 0.19165813446581137))</td></tr><tr><td>Map(vectorType -> dense, length -> 15, values -> List(27.0, 1277.0, 5.0, 8.0, 87.0, 1.0, 1.0, 3.0, 4621.0, 3.0, 2.0, 2.0, 1.0, 3.0, 1.0))</td><td>0.0</td><td>0.0</td><td>Map(vectorType -> dense, length -> 2, values -> List(0.8040846399898188, 0.19591536001018117))</td></tr><tr><td>Map(vectorType -> dense, length -> 15, values -> List(27.0, 294.0, 2.0, 10.0, 32.0, 3.0, 3.0, 1.0, 8793.0, 9.0, 7.0, 7.0, 1.0, 4.0, 4.0))</td><td>0.0</td><td>0.0</td><td>Map(vectorType -> dense, length -> 2, values -> List(0.8582908555867358, 0.1417091444132642))</td></tr><tr><td>Map(vectorType -> dense, length -> 15, values -> List(27.0, 591.0, 3.0, 2.0, 87.0, 3.0, 1.0, 4.0, 2580.0, 4.0, 2.0, 2.0, 2.0, 3.0, 4.0))</td><td>0.0</td><td>0.0</td><td>Map(vectorType -> dense, length -> 2, values -> List(0.836612323636822, 0.16338767636317797))</td></tr><tr><td>Map(vectorType -> dense, length -> 15, values -> List(27.0, 618.0, 3.0, 4.0, 76.0, 3.0, 1.0, 3.0, 2318.0, 1.0, 1.0, 0.0, 1.0, 3.0, 2.0))</td><td>0.0</td><td>0.0</td><td>Map(vectorType -> dense, length -> 2, values -> List(0.8172029044771879, 0.1827970955228121))</td></tr><tr><td>Map(vectorType -> dense, length -> 15, values -> List(27.0, 975.0, 3.0, 7.0, 55.0, 2.0, 2.0, 1.0, 6811.0, 7.0, 6.0, 7.0, 8.0, 3.0, 4.0))</td><td>0.0</td><td>0.0</td><td>Map(vectorType -> dense, length -> 2, values -> List(0.8326867378867638, 0.16731326211323616))</td></tr><tr><td>Map(vectorType -> dense, length -> 15, values -> List(27.0, 1054.0, 3.0, 8.0, 67.0, 3.0, 1.0, 4.0, 3445.0, 6.0, 2.0, 4.0, 1.0, 3.0, 3.0))</td><td>0.0</td><td>0.0</td><td>Map(vectorType -> dense, length -> 2, values -> List(0.8376188253250741, 0.16238117467492585))</td></tr><tr><td>Map(vectorType -> dense, length -> 15, values -> List(27.0, 1291.0, 3.0, 11.0, 98.0, 4.0, 1.0, 4.0, 2534.0, 1.0, 0.0, 0.0, 8.0, 3.0, 3.0))</td><td>0.0</td><td>0.0</td><td>Map(vectorType -> dense, length -> 2, values -> List(0.8226598182115185, 0.17734018178848154))</td></tr><tr><td>Map(vectorType -> dense, length -> 15, values -> List(27.0, 1302.0, 3.0, 19.0, 67.0, 2.0, 1.0, 1.0, 4066.0, 7.0, 7.0, 7.0, 1.0, 3.0, 4.0))</td><td>0.0</td><td>0.0</td><td>Map(vectorType -> dense, length -> 2, values -> List(0.8326419707513074, 0.16735802924869259))</td></tr><tr><td>Map(vectorType -> dense, length -> 15, values -> List(27.0, 1377.0, 1.0, 11.0, 91.0, 3.0, 1.0, 1.0, 2099.0, 5.0, 0.0, 4.0, 0.0, 3.0, 2.0))</td><td>0.0</td><td>0.0</td><td>Map(vectorType -> dense, length -> 2, values -> List(0.8183992177226811, 0.1816007822773189))</td></tr><tr><td>Map(vectorType -> dense, length -> 15, values -> List(27.0, 135.0, 4.0, 17.0, 51.0, 3.0, 1.0, 3.0, 2394.0, 8.0, 2.0, 7.0, 1.0, 3.0, 4.0))</td><td>1.0</td><td>0.0</td><td>Map(vectorType -> dense, length -> 2, values -> List(0.834874307651118, 0.16512569234888197))</td></tr><tr><td>Map(vectorType -> dense, length -> 15, values -> List(27.0, 1420.0, 1.0, 2.0, 85.0, 3.0, 1.0, 1.0, 3041.0, 4.0, 3.0, 2.0, 0.0, 3.0, 3.0))</td><td>1.0</td><td>0.0</td><td>Map(vectorType -> dense, length -> 2, values -> List(0.829830541840354, 0.17016945815964601))</td></tr><tr><td>Map(vectorType -> dense, length -> 15, values -> List(28.0, 280.0, 2.0, 1.0, 43.0, 3.0, 1.0, 4.0, 2706.0, 3.0, 2.0, 2.0, 1.0, 3.0, 3.0))</td><td>0.0</td><td>0.0</td><td>Map(vectorType -> dense, length -> 2, values -> List(0.8317354257005818, 0.1682645742994182))</td></tr><tr><td>Map(vectorType -> dense, length -> 15, values -> List(28.0, 1476.0, 3.0, 1.0, 55.0, 1.0, 2.0, 4.0, 6674.0, 9.0, 8.0, 5.0, 0.0, 3.0, 3.0))</td><td>0.0</td><td>0.0</td><td>Map(vectorType -> dense, length -> 2, values -> List(0.8485005366558671, 0.1514994633441329))</td></tr><tr><td>Map(vectorType -> dense, length -> 15, values -> List(28.0, 193.0, 3.0, 2.0, 52.0, 2.0, 1.0, 4.0, 3867.0, 2.0, 2.0, 2.0, 1.0, 3.0, 4.0))</td><td>0.0</td><td>0.0</td><td>Map(vectorType -> dense, length -> 2, values -> List(0.8278035394581031, 0.17219646054189686))</td></tr><tr><td>Map(vectorType -> dense, length -> 15, values -> List(28.0, 304.0, 4.0, 9.0, 92.0, 3.0, 2.0, 4.0, 5253.0, 7.0, 5.0, 7.0, 1.0, 3.0, 2.0))</td><td>0.0</td><td>0.0</td><td>Map(vectorType -> dense, length -> 2, values -> List(0.8473191866582751, 0.1526808133417249))</td></tr><tr><td>Map(vectorType -> dense, length -> 15, values -> List(28.0, 640.0, 3.0, 1.0, 84.0, 3.0, 1.0, 1.0, 2080.0, 3.0, 2.0, 2.0, 2.0, 3.0, 4.0))</td><td>0.0</td><td>0.0</td><td>Map(vectorType -> dense, length -> 2, values -> List(0.8259719921873289, 0.17402800781267114))</td></tr><tr><td>Map(vectorType -> dense, length -> 15, values -> List(28.0, 866.0, 3.0, 5.0, 84.0, 3.0, 2.0, 1.0, 8463.0, 5.0, 4.0, 3.0, 0.0, 3.0, 4.0))</td><td>0.0</td><td>0.0</td><td>Map(vectorType -> dense, length -> 2, values -> List(0.846572559033481, 0.15342744096651895))</td></tr><tr><td>Map(vectorType -> dense, length -> 15, values -> List(28.0, 895.0, 2.0, 15.0, 50.0, 3.0, 1.0, 3.0, 2207.0, 4.0, 2.0, 2.0, 1.0, 3.0, 1.0))</td><td>0.0</td><td>0.0</td><td>Map(vectorType -> dense, length -> 2, values -> List(0.8149638169605226, 0.18503618303947744))</td></tr><tr><td>Map(vectorType -> dense, length -> 15, values -> List(28.0, 995.0, 3.0, 9.0, 77.0, 3.0, 1.0, 3.0, 2377.0, 2.0, 2.0, 2.0, 5.0, 3.0, 3.0))</td><td>0.0</td><td>0.0</td><td>Map(vectorType -> dense, length -> 2, values -> List(0.8212073871337813, 0.17879261286621873))</td></tr><tr><td>Map(vectorType -> dense, length -> 15, values -> List(28.0, 1179.0, 4.0, 19.0, 78.0, 2.0, 1.0, 1.0, 3196.0, 6.0, 5.0, 3.0, 1.0, 3.0, 4.0))</td><td>0.0</td><td>0.0</td><td>Map(vectorType -> dense, length -> 2, values -> List(0.8224151029316735, 0.17758489706832647))</td></tr><tr><td>Map(vectorType -> dense, length -> 15, values -> List(29.0, 1404.0, 3.0, 20.0, 84.0, 3.0, 1.0, 4.0, 2157.0, 3.0, 1.0, 2.0, 1.0, 3.0, 3.0))</td><td>0.0</td><td>0.0</td><td>Map(vectorType -> dense, length -> 2, values -> List(0.8275835854300426, 0.17241641456995738))</td></tr><tr><td>Map(vectorType -> dense, length -> 15, values -> List(29.0, 469.0, 3.0, 10.0, 42.0, 2.0, 2.0, 3.0, 5869.0, 5.0, 2.0, 4.0, 9.0, 3.0, 3.0))</td><td>0.0</td><td>0.0</td><td>Map(vectorType -> dense, length -> 2, values -> List(0.8176807380670293, 0.18231926193297066))</td></tr><tr><td>Map(vectorType -> dense, length -> 15, values -> List(29.0, 738.0, 5.0, 9.0, 30.0, 2.0, 1.0, 4.0, 3983.0, 3.0, 2.0, 2.0, 0.0, 3.0, 2.0))</td><td>0.0</td><td>0.0</td><td>Map(vectorType -> dense, length -> 2, values -> List(0.8204477334239354, 0.1795522665760646))</td></tr><tr><td>Map(vectorType -> dense, length -> 15, values -> List(29.0, 986.0, 4.0, 3.0, 93.0, 2.0, 3.0, 3.0, 11935.0, 10.0, 2.0, 7.0, 1.0, 3.0, 2.0))</td><td>0.0</td><td>0.0</td><td>Map(vectorType -> dense, length -> 2, values -> List(0.8515265937357139, 0.14847340626428607))</td></tr><tr><td>Map(vectorType -> dense, length -> 15, values -> List(29.0, 1082.0, 4.0, 9.0, 43.0, 3.0, 1.0, 3.0, 2974.0, 5.0, 3.0, 2.0, 9.0, 3.0, 4.0))</td><td>0.0</td><td>0.0</td><td>Map(vectorType -> dense, length -> 2, values -> List(0.824618179069535, 0.17538182093046495))</td></tr><tr><td>Map(vectorType -> dense, length -> 15, values -> List(29.0, 1370.0, 1.0, 3.0, 87.0, 3.0, 1.0, 1.0, 4723.0, 10.0, 9.0, 5.0, 1.0, 3.0, 2.0))</td><td>0.0</td><td>0.0</td><td>Map(vectorType -> dense, length -> 2, values -> List(0.8437898013640485, 0.15621019863595154))</td></tr><tr><td>Map(vectorType -> dense, length -> 15, values -> List(29.0, 1401.0, 1.0, 6.0, 54.0, 3.0, 1.0, 4.0, 3131.0, 10.0, 8.0, 8.0, 1.0, 3.0, 2.0))</td><td>0.0</td><td>0.0</td><td>Map(vectorType -> dense, length -> 2, values -> List(0.8525941895467157, 0.14740581045328427))</td></tr><tr><td>Map(vectorType -> dense, length -> 15, values -> List(29.0, 459.0, 2.0, 24.0, 73.0, 2.0, 1.0, 4.0, 2439.0, 1.0, 0.0, 0.0, 1.0, 4.0, 4.0))</td><td>1.0</td><td>0.0</td><td>Map(vectorType -> dense, length -> 2, values -> List(0.8133867252854803, 0.18661327471451972))</td></tr><tr><td>Map(vectorType -> dense, length -> 15, values -> List(29.0, 408.0, 1.0, 23.0, 45.0, 2.0, 3.0, 1.0, 7336.0, 11.0, 8.0, 10.0, 1.0, 3.0, 4.0))</td><td>1.0</td><td>0.0</td><td>Map(vectorType -> dense, length -> 2, values -> List(0.8497716881179648, 0.15022831188203523))</td></tr><tr><td>Map(vectorType -> dense, length -> 15, values -> List(29.0, 805.0, 2.0, 1.0, 36.0, 2.0, 1.0, 1.0, 2319.0, 1.0, 0.0, 0.0, 1.0, 3.0, 2.0))</td><td>1.0</td><td>0.0</td><td>Map(vectorType -> dense, length -> 2, values -> List(0.8007352218383653, 0.19926477816163468))</td></tr><tr><td>Map(vectorType -> dense, length -> 15, values -> List(29.0, 896.0, 1.0, 18.0, 86.0, 2.0, 1.0, 4.0, 2389.0, 4.0, 3.0, 1.0, 1.0, 3.0, 3.0))</td><td>1.0</td><td>0.0</td><td>Map(vectorType -> dense, length -> 2, values -> List(0.8195719343573304, 0.18042806564266956))</td></tr><tr><td>Map(vectorType -> dense, length -> 15, values -> List(30.0, 1400.0, 3.0, 3.0, 53.0, 3.0, 1.0, 4.0, 2097.0, 5.0, 3.0, 4.0, 4.0, 3.0, 3.0))</td><td>0.0</td><td>0.0</td><td>Map(vectorType -> dense, length -> 2, values -> List(0.8378586807754868, 0.16214131922451325))</td></tr><tr><td>Map(vectorType -> dense, length -> 15, values -> List(30.0, 1312.0, 3.0, 23.0, 96.0, 1.0, 1.0, 3.0, 2613.0, 10.0, 7.0, 9.0, 1.0, 4.0, 1.0))</td><td>0.0</td><td>0.0</td><td>Map(vectorType -> dense, length -> 2, values -> List(0.8234438544961666, 0.17655614550383336))</td></tr><tr><td>Map(vectorType -> dense, length -> 15, values -> List(30.0, 570.0, 3.0, 5.0, 30.0, 2.0, 2.0, 3.0, 6118.0, 10.0, 9.0, 2.0, 1.0, 3.0, 4.0))</td><td>0.0</td><td>0.0</td><td>Map(vectorType -> dense, length -> 2, values -> List(0.8490812425023656, 0.1509187574976344))</td></tr><tr><td>Map(vectorType -> dense, length -> 15, values -> List(30.0, 853.0, 4.0, 7.0, 49.0, 3.0, 2.0, 3.0, 3491.0, 10.0, 7.0, 9.0, 1.0, 3.0, 3.0))</td><td>0.0</td><td>0.0</td><td>Map(vectorType -> dense, length -> 2, values -> List(0.8569772554246187, 0.14302274457538133))</td></tr><tr><td>Map(vectorType -> dense, length -> 15, values -> List(30.0, 911.0, 2.0, 1.0, 76.0, 3.0, 1.0, 2.0, 3748.0, 12.0, 8.0, 7.0, 1.0, 3.0, 4.0))</td><td>0.0</td><td>0.0</td><td>Map(vectorType -> dense, length -> 2, values -> List(0.8562898165505219, 0.14371018344947806))</td></tr><tr><td>Map(vectorType -> dense, length -> 15, values -> List(30.0, 1138.0, 3.0, 6.0, 48.0, 2.0, 2.0, 4.0, 4627.0, 9.0, 2.0, 7.0, 0.0, 3.0, 1.0))</td><td>0.0</td><td>0.0</td><td>Map(vectorType -> dense, length -> 2, values -> List(0.8371312622128456, 0.16286873778715438))</td></tr><tr><td>Map(vectorType -> dense, length -> 15, values -> List(30.0, 1275.0, 2.0, 28.0, 64.0, 3.0, 2.0, 4.0, 5775.0, 10.0, 8.0, 9.0, 1.0, 3.0, 4.0))</td><td>0.0</td><td>0.0</td><td>Map(vectorType -> dense, length -> 2, values -> List(0.8611664246953155, 0.13883357530468454))</td></tr><tr><td>Map(vectorType -> dense, length -> 15, values -> List(30.0, 1427.0, 1.0, 2.0, 35.0, 2.0, 1.0, 4.0, 2720.0, 5.0, 3.0, 2.0, 0.0, 3.0, 2.0))</td><td>0.0</td><td>0.0</td><td>Map(vectorType -> dense, length -> 2, values -> List(0.8283879967271532, 0.17161200327284676))</td></tr><tr><td>Map(vectorType -> dense, length -> 15, values -> List(30.0, 109.0, 3.0, 5.0, 60.0, 3.0, 1.0, 2.0, 2422.0, 3.0, 2.0, 2.0, 0.0, 3.0, 2.0))</td><td>1.0</td><td>0.0</td><td>Map(vectorType -> dense, length -> 2, values -> List(0.8202628493798348, 0.17973715062016515))</td></tr><tr><td>Map(vectorType -> dense, length -> 15, values -> List(31.0, 106.0, 3.0, 2.0, 62.0, 2.0, 2.0, 1.0, 6410.0, 2.0, 2.0, 0.0, 3.0, 3.0, 1.0))</td><td>0.0</td><td>0.0</td><td>Map(vectorType -> dense, length -> 2, values -> List(0.8062946309921605, 0.19370536900783952))</td></tr><tr><td>Map(vectorType -> dense, length -> 15, values -> List(31.0, 192.0, 4.0, 2.0, 32.0, 3.0, 1.0, 4.0, 2695.0, 2.0, 2.0, 2.0, 0.0, 3.0, 3.0))</td><td>0.0</td><td>0.0</td><td>Map(vectorType -> dense, length -> 2, values -> List(0.8338909380609366, 0.16610906193906338))</td></tr><tr><td>Map(vectorType -> dense, length -> 15, values -> List(31.0, 311.0, 3.0, 20.0, 89.0, 3.0, 2.0, 3.0, 4197.0, 10.0, 8.0, 2.0, 1.0, 3.0, 2.0))</td><td>0.0</td><td>0.0</td><td>Map(vectorType -> dense, length -> 2, values -> List(0.8394439358855469, 0.1605560641144531))</td></tr><tr><td>Map(vectorType -> dense, length -> 15, values -> List(31.0, 741.0, 4.0, 2.0, 69.0, 3.0, 1.0, 3.0, 3477.0, 5.0, 2.0, 3.0, 1.0, 3.0, 2.0))</td><td>0.0</td><td>0.0</td><td>Map(vectorType -> dense, length -> 2, values -> List(0.8317429693848368, 0.16825703061516317))</td></tr><tr><td>Map(vectorType -> dense, length -> 15, values -> List(31.0, 828.0, 1.0, 2.0, 77.0, 3.0, 2.0, 4.0, 6582.0, 6.0, 5.0, 5.0, 4.0, 3.0, 2.0))</td><td>0.0</td><td>0.0</td><td>Map(vectorType -> dense, length -> 2, values -> List(0.847430825772189, 0.15256917422781102))</td></tr><tr><td>Map(vectorType -> dense, length -> 15, values -> List(31.0, 1003.0, 3.0, 5.0, 51.0, 3.0, 2.0, 3.0, 8346.0, 5.0, 2.0, 2.0, 1.0, 3.0, 1.0))</td><td>0.0</td><td>0.0</td><td>Map(vectorType -> dense, length -> 2, values -> List(0.8360322627307839, 0.1639677372692161))</td></tr><tr><td>Map(vectorType -> dense, length -> 15, values -> List(31.0, 1274.0, 1.0, 9.0, 33.0, 3.0, 3.0, 2.0, 10648.0, 13.0, 8.0, 8.0, 1.0, 4.0, 3.0))</td><td>0.0</td><td>0.0</td><td>Map(vectorType -> dense, length -> 2, values -> List(0.8701108680484587, 0.12988913195154128))</td></tr><tr><td>Map(vectorType -> dense, length -> 15, values -> List(31.0, 523.0, 3.0, 2.0, 94.0, 3.0, 1.0, 4.0, 3722.0, 2.0, 2.0, 2.0, 6.0, 3.0, 2.0))</td><td>1.0</td><td>0.0</td><td>Map(vectorType -> dense, length -> 2, values -> List(0.8237937986369338, 0.1762062013630662))</td></tr><tr><td>Map(vectorType -> dense, length -> 15, values -> List(32.0, 1109.0, 4.0, 29.0, 69.0, 3.0, 1.0, 3.0, 4025.0, 8.0, 7.0, 7.0, 9.0, 3.0, 4.0))</td><td>0.0</td><td>0.0</td><td>Map(vectorType -> dense, length -> 2, values -> List(0.8351374651456298, 0.1648625348543702))</td></tr><tr><td>Map(vectorType -> dense, length -> 15, values -> List(32.0, 1146.0, 4.0, 15.0, 34.0, 3.0, 2.0, 4.0, 6667.0, 5.0, 1.0, 2.0, 5.0, 3.0, 3.0))</td><td>0.0</td><td>0.0</td><td>Map(vectorType -> dense, length -> 2, values -> List(0.8357620503496315, 0.16423794965036853))</td></tr><tr><td>Map(vectorType -> dense, length -> 15, values -> List(32.0, 379.0, 2.0, 5.0, 48.0, 3.0, 2.0, 2.0, 6524.0, 10.0, 8.0, 3.0, 1.0, 3.0, 2.0))</td><td>0.0</td><td>0.0</td><td>Map(vectorType -> dense, length -> 2, values -> List(0.8463592137604036, 0.15364078623959643))</td></tr><tr><td>Map(vectorType -> dense, length -> 15, values -> List(32.0, 585.0, 3.0, 10.0, 56.0, 3.0, 1.0, 3.0, 3433.0, 5.0, 2.0, 3.0, 6.0, 3.0, 1.0))</td><td>0.0</td><td>0.0</td><td>Map(vectorType -> dense, length -> 2, values -> List(0.8147602629570865, 0.18523973704291352))</td></tr><tr><td>Map(vectorType -> dense, length -> 15, values -> List(32.0, 967.0, 3.0, 8.0, 43.0, 3.0, 3.0, 4.0, 8998.0, 9.0, 8.0, 7.0, 1.0, 3.0, 2.0))</td><td>0.0</td><td>0.0</td><td>Map(vectorType -> dense, length -> 2, values -> List(0.8655060544317916, 0.13449394556820837))</td></tr><tr><td>Map(vectorType -> dense, length -> 15, values -> List(32.0, 1316.0, 2.0, 2.0, 38.0, 3.0, 2.0, 3.0, 4998.0, 8.0, 7.0, 7.0, 4.0, 3.0, 4.0))</td><td>0.0</td><td>0.0</td><td>Map(vectorType -> dense, length -> 2, values -> List(0.8593187273851025, 0.1406812726148975))</td></tr><tr><td>Map(vectorType -> dense, length -> 15, values -> List(32.0, 267.0, 4.0, 29.0, 49.0, 2.0, 1.0, 2.0, 2837.0, 6.0, 2.0, 1.0, 1.0, 3.0, 3.0))</td><td>0.0</td><td>0.0</td><td>Map(vectorType -> dense, length -> 2, values -> List(0.8056928492661188, 0.19430715073388116))</td></tr><tr><td>Map(vectorType -> dense, length -> 15, values -> List(32.0, 638.0, 2.0, 8.0, 91.0, 4.0, 2.0, 3.0, 5175.0, 5.0, 3.0, 3.0, 5.0, 3.0, 3.0))</td><td>0.0</td><td>0.0</td><td>Map(vectorType -> dense, length -> 2, values -> List(0.8451643778652123, 0.15483562213478774))</td></tr><tr><td>Map(vectorType -> dense, length -> 15, values -> List(32.0, 801.0, 4.0, 1.0, 48.0, 3.0, 3.0, 4.0, 10422.0, 14.0, 10.0, 7.0, 1.0, 3.0, 3.0))</td><td>0.0</td><td>0.0</td><td>Map(vectorType -> dense, length -> 2, values -> List(0.8778436271427601, 0.1221563728572399))</td></tr><tr><td>Map(vectorType -> dense, length -> 15, values -> List(32.0, 977.0, 3.0, 2.0, 45.0, 3.0, 2.0, 2.0, 5470.0, 9.0, 5.0, 6.0, 0.0, 3.0, 4.0))</td><td>0.0</td><td>0.0</td><td>Map(vectorType -> dense, length -> 2, values -> List(0.8576017872507588, 0.14239821274924125))</td></tr><tr><td>Map(vectorType -> dense, length -> 15, values -> List(32.0, 1093.0, 4.0, 6.0, 87.0, 3.0, 2.0, 3.0, 5010.0, 11.0, 8.0, 7.0, 1.0, 3.0, 2.0))</td><td>0.0</td><td>0.0</td><td>Map(vectorType -> dense, length -> 2, values -> List(0.8571778889446993, 0.14282211105530074))</td></tr><tr><td>Map(vectorType -> dense, length -> 15, values -> List(32.0, 1401.0, 2.0, 4.0, 56.0, 3.0, 1.0, 2.0, 3931.0, 4.0, 3.0, 2.0, 2.0, 3.0, 3.0))</td><td>0.0</td><td>0.0</td><td>Map(vectorType -> dense, length -> 2, values -> List(0.8333555274194717, 0.16664447258052828))</td></tr><tr><td>Map(vectorType -> dense, length -> 15, values -> List(32.0, 515.0, 3.0, 1.0, 62.0, 2.0, 1.0, 3.0, 3730.0, 3.0, 2.0, 2.0, 0.0, 3.0, 4.0))</td><td>1.0</td><td>0.0</td><td>Map(vectorType -> dense, length -> 2, values -> List(0.8311105875321556, 0.1688894124678444))</td></tr><tr><td>Map(vectorType -> dense, length -> 15, values -> List(32.0, 1259.0, 4.0, 2.0, 95.0, 3.0, 1.0, 2.0, 1393.0, 1.0, 0.0, 0.0, 1.0, 3.0, 4.0))</td><td>1.0</td><td>0.0</td><td>Map(vectorType -> dense, length -> 2, values -> List(0.8283356579420031, 0.17166434205799685))</td></tr><tr><td>Map(vectorType -> dense, length -> 15, values -> List(33.0, 750.0, 2.0, 22.0, 95.0, 3.0, 2.0, 2.0, 6146.0, 7.0, 7.0, 7.0, 0.0, 3.0, 3.0))</td><td>0.0</td><td>0.0</td><td>Map(vectorType -> dense, length -> 2, values -> List(0.8496153895019095, 0.1503846104980905))</td></tr><tr><td>Map(vectorType -> dense, length -> 15, values -> List(33.0, 1111.0, 1.0, 5.0, 61.0, 3.0, 2.0, 4.0, 9998.0, 5.0, 4.0, 2.0, 6.0, 3.0, 2.0))</td><td>0.0</td><td>0.0</td><td>Map(vectorType -> dense, length -> 2, values -> List(0.8431001790625148, 0.15689982093748522))</td></tr><tr><td>Map(vectorType -> dense, length -> 15, values -> List(33.0, 217.0, 4.0, 10.0, 43.0, 3.0, 2.0, 3.0, 5487.0, 10.0, 4.0, 9.0, 1.0, 3.0, 2.0))</td><td>0.0</td><td>0.0</td><td>Map(vectorType -> dense, length -> 2, values -> List(0.8487234215376037, 0.15127657846239628))</td></tr><tr><td>Map(vectorType -> dense, length -> 15, values -> List(33.0, 832.0, 4.0, 5.0, 63.0, 2.0, 1.0, 4.0, 2911.0, 2.0, 2.0, 2.0, 1.0, 3.0, 3.0))</td><td>0.0</td><td>0.0</td><td>Map(vectorType -> dense, length -> 2, values -> List(0.8273109382065419, 0.1726890617934581))</td></tr><tr><td>Map(vectorType -> dense, length -> 15, values -> List(33.0, 1069.0, 3.0, 1.0, 42.0, 2.0, 2.0, 4.0, 6949.0, 5.0, 0.0, 4.0, 0.0, 3.0, 2.0))</td><td>0.0</td><td>0.0</td><td>Map(vectorType -> dense, length -> 2, values -> List(0.8382230090762455, 0.16177699092375453))</td></tr><tr><td>Map(vectorType -> dense, length -> 15, values -> List(33.0, 1099.0, 4.0, 4.0, 82.0, 2.0, 1.0, 2.0, 3838.0, 5.0, 4.0, 2.0, 8.0, 3.0, 1.0))</td><td>0.0</td><td>0.0</td><td>Map(vectorType -> dense, length -> 2, values -> List(0.8073107925359327, 0.19268920746406726))</td></tr><tr><td>Map(vectorType -> dense, length -> 15, values -> List(33.0, 1076.0, 3.0, 3.0, 70.0, 3.0, 1.0, 1.0, 3348.0, 10.0, 8.0, 7.0, 1.0, 3.0, 1.0))</td><td>1.0</td><td>0.0</td><td>Map(vectorType -> dense, length -> 2, values -> List(0.8404247134710984, 0.15957528652890163))</td></tr><tr><td>Map(vectorType -> dense, length -> 15, values -> List(33.0, 118.0, 3.0, 16.0, 69.0, 3.0, 2.0, 1.0, 5324.0, 3.0, 2.0, 2.0, 5.0, 3.0, 1.0))</td><td>1.0</td><td>0.0</td><td>Map(vectorType -> dense, length -> 2, values -> List(0.8098544528251173, 0.19014554717488275))</td></tr><tr><td>Map(vectorType -> dense, length -> 15, values -> List(33.0, 350.0, 3.0, 5.0, 34.0, 3.0, 1.0, 3.0, 2851.0, 1.0, 0.0, 0.0, 1.0, 3.0, 4.0))</td><td>1.0</td><td>0.0</td><td>Map(vectorType -> dense, length -> 2, values -> List(0.8274780824896518, 0.17252191751034818))</td></tr><tr><td>Map(vectorType -> dense, length -> 15, values -> List(34.0, 1065.0, 4.0, 23.0, 72.0, 3.0, 2.0, 3.0, 4568.0, 9.0, 5.0, 7.0, 0.0, 4.0, 2.0))</td><td>0.0</td><td>0.0</td><td>Map(vectorType -> dense, length -> 2, values -> List(0.8488024534931358, 0.15119754650686423))</td></tr><tr><td>Map(vectorType -> dense, length -> 15, values -> List(34.0, 653.0, 4.0, 10.0, 92.0, 2.0, 2.0, 3.0, 5063.0, 8.0, 2.0, 7.0, 1.0, 3.0, 4.0))</td><td>0.0</td><td>0.0</td><td>Map(vectorType -> dense, length -> 2, values -> List(0.845263746907708, 0.154736253092292))</td></tr><tr><td>Map(vectorType -> dense, length -> 15, values -> List(34.0, 829.0, 3.0, 15.0, 71.0, 3.0, 4.0, 1.0, 17007.0, 14.0, 8.0, 9.0, 7.0, 3.0, 2.0))</td><td>0.0</td><td>0.0</td><td>Map(vectorType -> dense, length -> 2, values -> List(0.8650083377614829, 0.1349916622385171))</td></tr><tr><td>Map(vectorType -> dense, length -> 15, values -> List(34.0, 878.0, 4.0, 10.0, 43.0, 3.0, 1.0, 3.0, 3815.0, 5.0, 3.0, 0.0, 1.0, 3.0, 4.0))</td><td>0.0</td><td>0.0</td><td>Map(vectorType -> dense, length -> 2, values -> List(0.8370778850189069, 0.1629221149810931))</td></tr><tr><td>Map(vectorType -> dense, length -> 15, values -> List(34.0, 121.0, 4.0, 2.0, 86.0, 2.0, 1.0, 1.0, 4381.0, 6.0, 5.0, 3.0, 1.0, 3.0, 3.0))</td><td>0.0</td><td>0.0</td><td>Map(vectorType -> dense, length -> 2, values -> List(0.8265927065681599, 0.17340729343184014))</td></tr><tr><td>Map(vectorType -> dense, length -> 15, values -> List(34.0, 181.0, 4.0, 2.0, 97.0, 4.0, 1.0, 4.0, 2932.0, 5.0, 0.0, 2.0, 0.0, 3.0, 4.0))</td><td>0.0</td><td>0.0</td><td>Map(vectorType -> dense, length -> 2, values -> List(0.8489870407783571, 0.15101295922164293))</td></tr><tr><td>Map(vectorType -> dense, length -> 15, values -> List(34.0, 182.0, 4.0, 1.0, 72.0, 4.0, 1.0, 4.0, 3280.0, 4.0, 2.0, 3.0, 2.0, 3.0, 2.0))</td><td>0.0</td><td>0.0</td><td>Map(vectorType -> dense, length -> 2, values -> List(0.841493841834601, 0.15850615816539904))</td></tr><tr><td>Map(vectorType -> dense, length -> 15, values -> List(34.0, 254.0, 2.0, 1.0, 83.0, 2.0, 1.0, 4.0, 3622.0, 6.0, 5.0, 3.0, 1.0, 3.0, 2.0))</td><td>0.0</td><td>0.0</td><td>Map(vectorType -> dense, length -> 2, values -> List(0.8324219591394411, 0.16757804086055894))</td></tr><tr><td>Map(vectorType -> dense, length -> 15, values -> List(34.0, 258.0, 4.0, 21.0, 74.0, 4.0, 2.0, 4.0, 5337.0, 10.0, 7.0, 7.0, 1.0, 3.0, 4.0))</td><td>0.0</td><td>0.0</td><td>Map(vectorType -> dense, length -> 2, values -> List(0.866006889101277, 0.133993110898723))</td></tr><tr><td>Map(vectorType -> dense, length -> 15, values -> List(34.0, 401.0, 3.0, 1.0, 86.0, 2.0, 1.0, 2.0, 3294.0, 5.0, 4.0, 2.0, 5.0, 3.0, 4.0))</td><td>0.0</td><td>0.0</td><td>Map(vectorType -> dense, length -> 2, values -> List(0.8251565256026896, 0.1748434743973104))</td></tr><tr><td>Map(vectorType -> dense, length -> 15, values -> List(34.0, 507.0, 2.0, 15.0, 66.0, 3.0, 2.0, 1.0, 6125.0, 10.0, 8.0, 6.0, 1.0, 3.0, 3.0))</td><td>0.0</td><td>0.0</td><td>Map(vectorType -> dense, length -> 2, values -> List(0.8488528717321401, 0.15114712826785992))</td></tr><tr><td>Map(vectorType -> dense, length -> 15, values -> List(34.0, 704.0, 3.0, 28.0, 95.0, 2.0, 2.0, 3.0, 6712.0, 8.0, 7.0, 7.0, 1.0, 4.0, 4.0))</td><td>0.0</td><td>0.0</td><td>Map(vectorType -> dense, length -> 2, values -> List(0.8492335571261385, 0.15076644287386154))</td></tr><tr><td>Map(vectorType -> dense, length -> 15, values -> List(34.0, 829.0, 2.0, 3.0, 88.0, 3.0, 1.0, 4.0, 3737.0, 3.0, 2.0, 2.0, 0.0, 3.0, 3.0))</td><td>0.0</td><td>0.0</td><td>Map(vectorType -> dense, length -> 2, values -> List(0.8408290032225157, 0.15917099677748425))</td></tr><tr><td>Map(vectorType -> dense, length -> 15, values -> List(34.0, 943.0, 3.0, 9.0, 86.0, 3.0, 3.0, 4.0, 8500.0, 9.0, 7.0, 6.0, 0.0, 3.0, 4.0))</td><td>0.0</td><td>0.0</td><td>Map(vectorType -> dense, length -> 2, values -> List(0.8727180788389054, 0.1272819211610946))</td></tr><tr><td>Map(vectorType -> dense, length -> 15, values -> List(34.0, 1239.0, 4.0, 13.0, 39.0, 3.0, 3.0, 3.0, 8628.0, 8.0, 7.0, 1.0, 1.0, 3.0, 4.0))</td><td>0.0</td><td>0.0</td><td>Map(vectorType -> dense, length -> 2, values -> List(0.861120251721786, 0.13887974827821403))</td></tr><tr><td>Map(vectorType -> dense, length -> 15, values -> List(34.0, 1397.0, 5.0, 1.0, 42.0, 3.0, 1.0, 4.0, 2691.0, 10.0, 9.0, 8.0, 1.0, 3.0, 2.0))</td><td>0.0</td><td>0.0</td><td>Map(vectorType -> dense, length -> 2, values -> List(0.8588665926313752, 0.14113340736862479))</td></tr><tr><td>Map(vectorType -> dense, length -> 15, values -> List(34.0, 658.0, 3.0, 7.0, 66.0, 1.0, 2.0, 3.0, 6074.0, 9.0, 7.0, 6.0, 1.0, 4.0, 1.0))</td><td>1.0</td><td>0.0</td><td>Map(vectorType -> dense, length -> 2, values -> List(0.8344935384917206, 0.1655064615082794))</td></tr><tr><td>Map(vectorType -> dense, length -> 15, values -> List(35.0, 727.0, 3.0, 3.0, 41.0, 2.0, 1.0, 3.0, 1281.0, 1.0, 0.0, 0.0, 1.0, 3.0, 3.0))</td><td>0.0</td><td>0.0</td><td>Map(vectorType -> dense, length -> 2, values -> List(0.8157936957304104, 0.18420630426958962))</td></tr><tr><td>Map(vectorType -> dense, length -> 15, values -> List(35.0, 1097.0, 2.0, 11.0, 79.0, 2.0, 3.0, 1.0, 9884.0, 4.0, 0.0, 3.0, 2.0, 3.0, 3.0))</td><td>0.0</td><td>0.0</td><td>Map(vectorType -> dense, length -> 2, values -> List(0.8335843697825804, 0.16641563021741956))</td></tr><tr><td>Map(vectorType -> dense, length -> 15, values -> List(35.0, 146.0, 4.0, 2.0, 79.0, 2.0, 1.0, 4.0, 4930.0, 5.0, 4.0, 4.0, 0.0, 3.0, 1.0))</td><td>0.0</td><td>0.0</td><td>Map(vectorType -> dense, length -> 2, values -> List(0.8300848476088405, 0.1699151523911595))</td></tr><tr><td>Map(vectorType -> dense, length -> 15, values -> List(35.0, 144.0, 3.0, 22.0, 46.0, 1.0, 1.0, 3.0, 4230.0, 5.0, 4.0, 3.0, 0.0, 3.0, 4.0))</td><td>0.0</td><td>0.0</td><td>Map(vectorType -> dense, length -> 2, values -> List(0.8191480306333652, 0.18085196936663483))</td></tr><tr><td>Map(vectorType -> dense, length -> 15, values -> List(35.0, 384.0, 4.0, 8.0, 72.0, 3.0, 1.0, 4.0, 2572.0, 3.0, 2.0, 2.0, 1.0, 3.0, 1.0))</td><td>0.0</td><td>0.0</td><td>Map(vectorType -> dense, length -> 2, values -> List(0.8252882791282918, 0.17471172087170816))</td></tr><tr><td>Map(vectorType -> dense, length -> 15, values -> List(35.0, 464.0, 2.0, 4.0, 75.0, 3.0, 1.0, 4.0, 1951.0, 1.0, 0.0, 0.0, 1.0, 3.0, 3.0))</td><td>0.0</td><td>0.0</td><td>Map(vectorType -> dense, length -> 2, values -> List(0.828379193338958, 0.17162080666104196))</td></tr><tr><td>Map(vectorType -> dense, length -> 15, values -> List(35.0, 538.0, 2.0, 25.0, 54.0, 2.0, 2.0, 4.0, 3681.0, 3.0, 2.0, 2.0, 4.0, 3.0, 1.0))</td><td>0.0</td><td>0.0</td><td>Map(vectorType -> dense, length -> 2, values -> List(0.8100237220242085, 0.18997627797579153))</td></tr><tr><td>Map(vectorType -> dense, length -> 15, values -> List(35.0, 607.0, 3.0, 9.0, 66.0, 2.0, 3.0, 3.0, 10685.0, 17.0, 14.0, 15.0, 1.0, 4.0, 4.0))</td><td>0.0</td><td>0.0</td><td>Map(vectorType -> dense, length -> 2, values -> List(0.8871757025841195, 0.11282429741588051))</td></tr><tr><td>Map(vectorType -> dense, length -> 15, values -> List(35.0, 670.0, 4.0, 10.0, 51.0, 3.0, 2.0, 3.0, 6142.0, 5.0, 2.0, 4.0, 3.0, 3.0, 1.0))</td><td>0.0</td><td>0.0</td><td>Map(vectorType -> dense, length -> 2, values -> List(0.8324640929035364, 0.1675359070964636))</td></tr><tr><td>Map(vectorType -> dense, length -> 15, values -> List(35.0, 735.0, 1.0, 6.0, 66.0, 3.0, 1.0, 3.0, 3506.0, 3.0, 2.0, 2.0, 0.0, 3.0, 3.0))</td><td>0.0</td><td>0.0</td><td>Map(vectorType -> dense, length -> 2, values -> List(0.8354603229582072, 0.16453967704179284))</td></tr><tr><td>Map(vectorType -> dense, length -> 15, values -> List(35.0, 950.0, 3.0, 7.0, 59.0, 3.0, 3.0, 3.0, 10221.0, 8.0, 5.0, 6.0, 3.0, 4.0, 3.0))</td><td>0.0</td><td>0.0</td><td>Map(vectorType -> dense, length -> 2, values -> List(0.8636654232899352, 0.13633457671006477))</td></tr><tr><td>Map(vectorType -> dense, length -> 15, values -> List(35.0, 1224.0, 4.0, 7.0, 55.0, 3.0, 2.0, 4.0, 5204.0, 10.0, 8.0, 9.0, 1.0, 3.0, 3.0))</td><td>0.0</td><td>0.0</td><td>Map(vectorType -> dense, length -> 2, values -> List(0.8674257753408197, 0.13257422465918034))</td></tr><tr><td>Map(vectorType -> dense, length -> 15, values -> List(35.0, 1402.0, 4.0, 28.0, 98.0, 2.0, 1.0, 3.0, 2430.0, 5.0, 3.0, 2.0, 0.0, 4.0, 2.0))</td><td>0.0</td><td>0.0</td><td>Map(vectorType -> dense, length -> 2, values -> List(0.8200958100978221, 0.17990418990217794))</td></tr><tr><td>Map(vectorType -> dense, length -> 15, values -> List(35.0, 130.0, 4.0, 25.0, 96.0, 3.0, 1.0, 2.0, 2022.0, 10.0, 2.0, 8.0, 1.0, 3.0, 4.0))</td><td>1.0</td><td>0.0</td><td>Map(vectorType -> dense, length -> 2, values -> List(0.8363960804170594, 0.16360391958294063))</td></tr><tr><td>Map(vectorType -> dense, length -> 15, values -> List(36.0, 635.0, 4.0, 10.0, 32.0, 3.0, 3.0, 4.0, 9980.0, 10.0, 3.0, 7.0, 1.0, 3.0, 2.0))</td><td>0.0</td><td>0.0</td><td>Map(vectorType -> dense, length -> 2, values -> List(0.8606385391580061, 0.13936146084199386))</td></tr><tr><td>Map(vectorType -> dense, length -> 15, values -> List(36.0, 1105.0, 4.0, 24.0, 47.0, 3.0, 2.0, 2.0, 5674.0, 9.0, 8.0, 8.0, 7.0, 3.0, 2.0))</td><td>0.0</td><td>0.0</td><td>Map(vectorType -> dense, length -> 2, values -> List(0.8407199610031661, 0.15928003899683385))</td></tr><tr><td>Map(vectorType -> dense, length -> 15, values -> List(36.0, 1302.0, 4.0, 6.0, 80.0, 4.0, 2.0, 1.0, 5562.0, 3.0, 2.0, 2.0, 3.0, 3.0, 1.0))</td><td>0.0</td><td>0.0</td><td>Map(vectorType -> dense, length -> 2, values -> List(0.8350837352704867, 0.16491626472951326))</td></tr><tr><td>Map(vectorType -> dense, length -> 15, values -> List(36.0, 132.0, 3.0, 6.0, 55.0, 4.0, 1.0, 4.0, 3038.0, 1.0, 0.0, 0.0, 3.0, 3.0, 2.0))</td><td>0.0</td><td>0.0</td><td>Map(vectorType -> dense, length -> 2, values -> List(0.8288274561574148, 0.17117254384258518))</td></tr><tr><td>Map(vectorType -> dense, length -> 15, values -> List(36.0, 188.0, 4.0, 7.0, 65.0, 3.0, 1.0, 4.0, 4678.0, 6.0, 2.0, 1.0, 2.0, 3.0, 2.0))</td><td>0.0</td><td>0.0</td><td>Map(vectorType -> dense, length -> 2, values -> List(0.8316311038928332, 0.16836889610716677))</td></tr><tr><td>Map(vectorType -> dense, length -> 15, values -> List(36.0, 311.0, 3.0, 7.0, 77.0, 3.0, 1.0, 2.0, 2013.0, 4.0, 3.0, 3.0, 2.0, 3.0, 1.0))</td><td>0.0</td><td>0.0</td><td>Map(vectorType -> dense, length -> 2, values -> List(0.8202123703452988, 0.1797876296547012))</td></tr><tr><td>Map(vectorType -> dense, length -> 15, values -> List(36.0, 329.0, 3.0, 2.0, 96.0, 3.0, 1.0, 3.0, 2543.0, 2.0, 2.0, 2.0, 4.0, 3.0, 4.0))</td><td>0.0</td><td>0.0</td><td>Map(vectorType -> dense, length -> 2, values -> List(0.8338592998376821, 0.16614070016231786))</td></tr><tr><td>Map(vectorType -> dense, length -> 15, values -> List(36.0, 796.0, 5.0, 12.0, 51.0, 2.0, 3.0, 4.0, 8858.0, 14.0, 8.0, 8.0, 0.0, 3.0, 4.0))</td><td>0.0</td><td>0.0</td><td>Map(vectorType -> dense, length -> 2, values -> List(0.8714260146021904, 0.12857398539780962))</td></tr><tr><td>Map(vectorType -> dense, length -> 15, values -> List(36.0, 1040.0, 2.0, 3.0, 79.0, 4.0, 2.0, 1.0, 6842.0, 5.0, 4.0, 4.0, 6.0, 4.0, 4.0))</td><td>0.0</td><td>0.0</td><td>Map(vectorType -> dense, length -> 2, values -> List(0.8541608061937201, 0.14583919380627985))</td></tr><tr><td>Map(vectorType -> dense, length -> 15, values -> List(36.0, 1299.0, 3.0, 27.0, 94.0, 3.0, 2.0, 3.0, 5237.0, 7.0, 7.0, 7.0, 6.0, 3.0, 3.0))</td><td>0.0</td><td>0.0</td><td>Map(vectorType -> dense, length -> 2, values -> List(0.845609979791287, 0.15439002020871295))</td></tr><tr><td>Map(vectorType -> dense, length -> 15, values -> List(36.0, 885.0, 4.0, 16.0, 43.0, 4.0, 1.0, 1.0, 2743.0, 17.0, 13.0, 14.0, 1.0, 3.0, 3.0))</td><td>1.0</td><td>0.0</td><td>Map(vectorType -> dense, length -> 2, values -> List(0.8709946710508365, 0.1290053289491635))</td></tr><tr><td>Map(vectorType -> dense, length -> 15, values -> List(36.0, 1456.0, 5.0, 13.0, 96.0, 2.0, 2.0, 1.0, 6134.0, 2.0, 2.0, 2.0, 5.0, 3.0, 2.0))</td><td>1.0</td><td>0.0</td><td>Map(vectorType -> dense, length -> 2, values -> List(0.8167177995964661, 0.18328220040353393))</td></tr><tr><td>Map(vectorType -> dense, length -> 15, values -> List(37.0, 142.0, 4.0, 9.0, 69.0, 3.0, 3.0, 2.0, 8834.0, 9.0, 5.0, 7.0, 1.0, 3.0, 1.0))</td><td>0.0</td><td>0.0</td><td>Map(vectorType -> dense, length -> 2, values -> List(0.8511076485009303, 0.14889235149906965))</td></tr><tr><td>Map(vectorType -> dense, length -> 15, values -> List(37.0, 1231.0, 2.0, 21.0, 54.0, 3.0, 1.0, 4.0, 2973.0, 5.0, 4.0, 0.0, 5.0, 3.0, 3.0))</td><td>0.0</td><td>0.0</td><td>Map(vectorType -> dense, length -> 2, values -> List(0.8290842968935703, 0.17091570310642967))</td></tr><tr><td>Map(vectorType -> dense, length -> 15, values -> List(37.0, 1278.0, 4.0, 1.0, 31.0, 1.0, 2.0, 4.0, 9525.0, 6.0, 3.0, 3.0, 1.0, 3.0, 3.0))</td><td>0.0</td><td>0.0</td><td>Map(vectorType -> dense, length -> 2, values -> List(0.8429320250672078, 0.15706797493279223))</td></tr><tr><td>Map(vectorType -> dense, length -> 15, values -> List(37.0, 161.0, 3.0, 10.0, 42.0, 4.0, 3.0, 4.0, 13744.0, 16.0, 11.0, 8.0, 1.0, 4.0, 3.0))</td><td>0.0</td><td>0.0</td><td>Map(vectorType -> dense, length -> 2, values -> List(0.889365025949775, 0.11063497405022504))</td></tr><tr><td>Map(vectorType -> dense, length -> 15, values -> List(37.0, 446.0, 4.0, 1.0, 65.0, 3.0, 2.0, 2.0, 6447.0, 6.0, 5.0, 3.0, 6.0, 3.0, 2.0))</td><td>0.0</td><td>0.0</td><td>Map(vectorType -> dense, length -> 2, values -> List(0.8378956309004332, 0.16210436909956683))</td></tr><tr><td>Map(vectorType -> dense, length -> 15, values -> List(37.0, 571.0, 1.0, 10.0, 82.0, 3.0, 1.0, 1.0, 2782.0, 5.0, 3.0, 3.0, 0.0, 3.0, 4.0))</td><td>0.0</td><td>0.0</td><td>Map(vectorType -> dense, length -> 2, values -> List(0.8356305622906686, 0.16436943770933143))</td></tr><tr><td>Map(vectorType -> dense, length -> 15, values -> List(37.0, 1189.0, 3.0, 3.0, 87.0, 3.0, 3.0, 4.0, 7428.0, 5.0, 3.0, 3.0, 2.0, 3.0, 3.0))</td><td>0.0</td><td>0.0</td><td>Map(vectorType -> dense, length -> 2, values -> List(0.859165437290253, 0.14083456270974704))</td></tr><tr><td>Map(vectorType -> dense, length -> 15, values -> List(37.0, 1192.0, 2.0, 5.0, 61.0, 3.0, 2.0, 4.0, 6347.0, 6.0, 2.0, 4.0, 7.0, 3.0, 4.0))</td><td>0.0</td><td>0.0</td><td>Map(vectorType -> dense, length -> 2, values -> List(0.8495973596367932, 0.15040264036320683))</td></tr><tr><td>Map(vectorType -> dense, length -> 15, values -> List(37.0, 1470.0, 3.0, 10.0, 71.0, 3.0, 1.0, 2.0, 3936.0, 8.0, 4.0, 7.0, 1.0, 3.0, 2.0))</td><td>0.0</td><td>0.0</td><td>Map(vectorType -> dense, length -> 2, values -> List(0.8428555328777172, 0.1571444671222828))</td></tr><tr><td>Map(vectorType -> dense, length -> 15, values -> List(37.0, 504.0, 3.0, 10.0, 61.0, 3.0, 3.0, 3.0, 10048.0, 1.0, 0.0, 0.0, 6.0, 3.0, 1.0))</td><td>1.0</td><td>0.0</td><td>Map(vectorType -> dense, length -> 2, values -> List(0.8269705701596938, 0.17302942984030623))</td></tr><tr><td>Map(vectorType -> dense, length -> 15, values -> List(38.0, 888.0, 4.0, 10.0, 71.0, 3.0, 2.0, 3.0, 6077.0, 6.0, 3.0, 2.0, 3.0, 3.0, 3.0))</td><td>0.0</td><td>0.0</td><td>Map(vectorType -> dense, length -> 2, values -> List(0.844033056959033, 0.15596694304096703))</td></tr><tr><td>Map(vectorType -> dense, length -> 15, values -> List(38.0, 1189.0, 3.0, 1.0, 90.0, 3.0, 2.0, 4.0, 4735.0, 13.0, 11.0, 9.0, 7.0, 3.0, 4.0))</td><td>0.0</td><td>0.0</td><td>Map(vectorType -> dense, length -> 2, values -> List(0.8728869895415781, 0.12711301045842194))</td></tr><tr><td>Map(vectorType -> dense, length -> 15, values -> List(38.0, 1444.0, 4.0, 1.0, 88.0, 3.0, 1.0, 2.0, 2991.0, 6.0, 2.0, 2.0, 0.0, 3.0, 4.0))</td><td>0.0</td><td>0.0</td><td>Map(vectorType -> dense, length -> 2, values -> List(0.8458006087619476, 0.15419939123805237))</td></tr><tr><td>Map(vectorType -> dense, length -> 15, values -> List(38.0, 343.0, 2.0, 15.0, 92.0, 2.0, 3.0, 4.0, 11510.0, 11.0, 10.0, 9.0, 0.0, 3.0, 3.0))</td><td>0.0</td><td>0.0</td><td>Map(vectorType -> dense, length -> 2, values -> List(0.8710461755263122, 0.12895382447368775))</td></tr><tr><td>Map(vectorType -> dense, length -> 15, values -> List(38.0, 345.0, 2.0, 10.0, 100.0, 3.0, 2.0, 4.0, 5343.0, 10.0, 7.0, 9.0, 1.0, 3.0, 1.0))</td><td>0.0</td><td>0.0</td><td>Map(vectorType -> dense, length -> 2, values -> List(0.856216861886091, 0.14378313811390897))</td></tr><tr><td>Map(vectorType -> dense, length -> 15, values -> List(38.0, 702.0, 4.0, 1.0, 59.0, 2.0, 2.0, 4.0, 8686.0, 8.0, 3.0, 7.0, 4.0, 4.0, 1.0))</td><td>0.0</td><td>0.0</td><td>Map(vectorType -> dense, length -> 2, values -> List(0.8449716943179747, 0.1550283056820253))</td></tr><tr><td>Map(vectorType -> dense, length -> 15, values -> List(38.0, 849.0, 2.0, 25.0, 81.0, 2.0, 3.0, 2.0, 12061.0, 10.0, 8.0, 1.0, 3.0, 3.0, 1.0))</td><td>0.0</td><td>0.0</td><td>Map(vectorType -> dense, length -> 2, values -> List(0.8373231917345955, 0.16267680826540454))</td></tr><tr><td>Map(vectorType -> dense, length -> 15, values -> List(38.0, 1084.0, 3.0, 29.0, 54.0, 3.0, 2.0, 4.0, 6261.0, 7.0, 7.0, 7.0, 3.0, 3.0, 4.0))</td><td>0.0</td><td>0.0</td><td>Map(vectorType -> dense, length -> 2, values -> List(0.8570259499964864, 0.1429740500035136))</td></tr><tr><td>Map(vectorType -> dense, length -> 15, values -> List(38.0, 1206.0, 2.0, 9.0, 71.0, 3.0, 1.0, 4.0, 4771.0, 5.0, 2.0, 3.0, 2.0, 3.0, 2.0))</td><td>0.0</td><td>0.0</td><td>Map(vectorType -> dense, length -> 2, values -> List(0.8385471230821173, 0.16145287691788268))</td></tr><tr><td>Map(vectorType -> dense, length -> 15, values -> List(38.0, 1245.0, 3.0, 14.0, 80.0, 3.0, 2.0, 2.0, 9924.0, 9.0, 8.0, 7.0, 0.0, 3.0, 3.0))</td><td>0.0</td><td>0.0</td><td>Map(vectorType -> dense, length -> 2, values -> List(0.8639706150899681, 0.13602938491003191))</td></tr><tr><td>Map(vectorType -> dense, length -> 15, values -> List(38.0, 1261.0, 4.0, 2.0, 88.0, 3.0, 2.0, 3.0, 6553.0, 1.0, 0.0, 0.0, 9.0, 3.0, 4.0))</td><td>0.0</td><td>0.0</td><td>Map(vectorType -> dense, length -> 2, values -> List(0.8350828518466726, 0.16491714815332736))</td></tr><tr><td>Map(vectorType -> dense, length -> 15, values -> List(38.0, 1495.0, 2.0, 4.0, 87.0, 3.0, 1.0, 3.0, 3306.0, 0.0, 0.0, 0.0, 7.0, 3.0, 4.0))</td><td>0.0</td><td>0.0</td><td>Map(vectorType -> dense, length -> 2, values -> List(0.8280301527111983, 0.1719698472888017))</td></tr><tr><td>Map(vectorType -> dense, length -> 15, values -> List(38.0, 1495.0, 3.0, 10.0, 76.0, 3.0, 2.0, 3.0, 9824.0, 1.0, 0.0, 0.0, 3.0, 3.0, 3.0))</td><td>0.0</td><td>0.0</td><td>Map(vectorType -> dense, length -> 2, values -> List(0.8403591109257164, 0.15964088907428364))</td></tr><tr><td>Map(vectorType -> dense, length -> 15, values -> List(39.0, 766.0, 3.0, 20.0, 83.0, 3.0, 2.0, 4.0, 4127.0, 2.0, 1.0, 2.0, 2.0, 3.0, 3.0))</td><td>0.0</td><td>0.0</td><td>Map(vectorType -> dense, length -> 2, values -> List(0.8370563396216727, 0.1629436603783273))</td></tr><tr><td>Map(vectorType -> dense, length -> 15, values -> List(39.0, 116.0, 1.0, 24.0, 52.0, 3.0, 2.0, 4.0, 4108.0, 7.0, 7.0, 7.0, 7.0, 3.0, 1.0))</td><td>0.0</td><td>0.0</td><td>Map(vectorType -> dense, length -> 2, values -> List(0.8345091173257974, 0.16549088267420264))</td></tr><tr><td>Map(vectorType -> dense, length -> 15, values -> List(39.0, 903.0, 5.0, 2.0, 41.0, 4.0, 3.0, 3.0, 7880.0, 8.0, 7.0, 7.0, 0.0, 3.0, 1.0))</td><td>0.0</td><td>0.0</td><td>Map(vectorType -> dense, length -> 2, values -> List(0.8704440233361374, 0.12955597666386265))</td></tr><tr><td>Map(vectorType -> dense, length -> 15, values -> List(39.0, 1387.0, 5.0, 10.0, 76.0, 3.0, 2.0, 1.0, 5377.0, 7.0, 7.0, 7.0, 2.0, 3.0, 2.0))</td><td>0.0</td><td>0.0</td><td>Map(vectorType -> dense, length -> 2, values -> List(0.8498360462396648, 0.1501639537603352))</td></tr><tr><td>Map(vectorType -> dense, length -> 15, values -> List(39.0, 592.0, 3.0, 2.0, 54.0, 2.0, 1.0, 1.0, 3646.0, 1.0, 0.0, 0.0, 2.0, 4.0, 1.0))</td><td>1.0</td><td>0.0</td><td>Map(vectorType -> dense, length -> 2, values -> List(0.8050572226161475, 0.19494277738385246))</td></tr><tr><td>Map(vectorType -> dense, length -> 15, values -> List(39.0, 360.0, 3.0, 23.0, 93.0, 3.0, 1.0, 1.0, 3904.0, 5.0, 2.0, 3.0, 0.0, 3.0, 3.0))</td><td>1.0</td><td>0.0</td><td>Map(vectorType -> dense, length -> 2, values -> List(0.8258956349746347, 0.1741043650253653))</td></tr><tr><td>Map(vectorType -> dense, length -> 15, values -> List(39.0, 1122.0, 3.0, 6.0, 70.0, 3.0, 1.0, 1.0, 2404.0, 2.0, 2.0, 2.0, 7.0, 4.0, 4.0))</td><td>1.0</td><td>0.0</td><td>Map(vectorType -> dense, length -> 2, values -> List(0.8275670317148651, 0.17243296828513488))</td></tr><tr><td>Map(vectorType -> dense, length -> 15, values -> List(40.0, 218.0, 1.0, 8.0, 55.0, 2.0, 3.0, 2.0, 13757.0, 9.0, 8.0, 8.0, 2.0, 3.0, 4.0))</td><td>0.0</td><td>0.0</td><td>Map(vectorType -> dense, length -> 2, values -> List(0.8663256234397972, 0.13367437656020276))</td></tr><tr><td>Map(vectorType -> dense, length -> 15, values -> List(40.0, 692.0, 3.0, 11.0, 73.0, 3.0, 2.0, 3.0, 6323.0, 10.0, 9.0, 4.0, 1.0, 3.0, 4.0))</td><td>0.0</td><td>0.0</td><td>Map(vectorType -> dense, length -> 2, values -> List(0.8643495458793249, 0.1356504541206751))</td></tr><tr><td>Map(vectorType -> dense, length -> 15, values -> List(40.0, 118.0, 2.0, 14.0, 84.0, 3.0, 2.0, 1.0, 4639.0, 5.0, 4.0, 2.0, 1.0, 3.0, 4.0))</td><td>0.0</td><td>0.0</td><td>Map(vectorType -> dense, length -> 2, values -> List(0.8401493865250284, 0.15985061347497165))</td></tr><tr><td>Map(vectorType -> dense, length -> 15, values -> List(40.0, 302.0, 3.0, 6.0, 75.0, 3.0, 4.0, 3.0, 13237.0, 20.0, 6.0, 13.0, 7.0, 3.0, 2.0))</td><td>0.0</td><td>0.0</td><td>Map(vectorType -> dense, length -> 2, values -> List(0.8770981854689051, 0.12290181453109494))</td></tr><tr><td>Map(vectorType -> dense, length -> 15, values -> List(40.0, 329.0, 4.0, 1.0, 88.0, 3.0, 1.0, 2.0, 2387.0, 4.0, 2.0, 3.0, 3.0, 4.0, 2.0))</td><td>0.0</td><td>0.0</td><td>Map(vectorType -> dense, length -> 2, values -> List(0.8307751486544516, 0.16922485134554843))</td></tr><tr><td>Map(vectorType -> dense, length -> 15, values -> List(40.0, 369.0, 2.0, 8.0, 92.0, 3.0, 2.0, 1.0, 6516.0, 1.0, 0.0, 0.0, 2.0, 3.0, 2.0))</td><td>0.0</td><td>0.0</td><td>Map(vectorType -> dense, length -> 2, values -> List(0.823792729517019, 0.17620727048298102))</td></tr><tr><td>Map(vectorType -> dense, length -> 15, values -> List(40.0, 555.0, 3.0, 2.0, 78.0, 2.0, 2.0, 3.0, 3448.0, 1.0, 0.0, 0.0, 6.0, 4.0, 2.0))</td><td>0.0</td><td>0.0</td><td>Map(vectorType -> dense, length -> 2, values -> List(0.81791335288148, 0.18208664711851996))</td></tr><tr><td>Map(vectorType -> dense, length -> 15, values -> List(40.0, 884.0, 3.0, 15.0, 80.0, 2.0, 3.0, 3.0, 10435.0, 18.0, 15.0, 12.0, 1.0, 3.0, 1.0))</td><td>0.0</td><td>0.0</td><td>Map(vectorType -> dense, length -> 2, values -> List(0.8749137734446093, 0.1250862265553907))</td></tr><tr><td>Map(vectorType -> dense, length -> 15, values -> List(40.0, 905.0, 2.0, 19.0, 99.0, 3.0, 2.0, 4.0, 2741.0, 7.0, 2.0, 7.0, 8.0, 3.0, 3.0))</td><td>0.0</td><td>0.0</td><td>Map(vectorType -> dense, length -> 2, values -> List(0.8400978066213997, 0.15990219337860034))</td></tr><tr><td>Map(vectorType -> dense, length -> 15, values -> List(40.0, 989.0, 1.0, 4.0, 46.0, 3.0, 5.0, 3.0, 19033.0, 20.0, 8.0, 9.0, 1.0, 3.0, 4.0))</td><td>0.0</td><td>0.0</td><td>Map(vectorType -> dense, length -> 2, values -> List(0.899052242055459, 0.10094775794454103))</td></tr><tr><td>Map(vectorType -> dense, length -> 15, values -> List(40.0, 1300.0, 2.0, 24.0, 62.0, 3.0, 2.0, 4.0, 3319.0, 9.0, 8.0, 7.0, 1.0, 3.0, 1.0))</td><td>0.0</td><td>0.0</td><td>Map(vectorType -> dense, length -> 2, values -> List(0.8509588233306012, 0.14904117666939876))</td></tr><tr><td>Map(vectorType -> dense, length -> 15, values -> List(40.0, 1492.0, 4.0, 20.0, 61.0, 3.0, 3.0, 4.0, 10322.0, 11.0, 10.0, 1.0, 4.0, 4.0, 1.0))</td><td>0.0</td><td>0.0</td><td>Map(vectorType -> dense, length -> 2, values -> List(0.8600763902575964, 0.1399236097424036))</td></tr><tr><td>Map(vectorType -> dense, length -> 15, values -> List(41.0, 840.0, 3.0, 9.0, 64.0, 3.0, 5.0, 3.0, 19419.0, 18.0, 16.0, 11.0, 2.0, 3.0, 1.0))</td><td>0.0</td><td>0.0</td><td>Map(vectorType -> dense, length -> 2, values -> List(0.8975939803825864, 0.10240601961741358))</td></tr><tr><td>Map(vectorType -> dense, length -> 15, values -> List(41.0, 167.0, 4.0, 12.0, 46.0, 3.0, 1.0, 4.0, 4766.0, 1.0, 0.0, 0.0, 3.0, 3.0, 2.0))</td><td>0.0</td><td>0.0</td><td>Map(vectorType -> dense, length -> 2, values -> List(0.8227975403034615, 0.17720245969653847))</td></tr><tr><td>Map(vectorType -> dense, length -> 15, values -> List(41.0, 509.0, 2.0, 7.0, 43.0, 4.0, 1.0, 3.0, 3376.0, 10.0, 6.0, 8.0, 1.0, 3.0, 2.0))</td><td>0.0</td><td>0.0</td><td>Map(vectorType -> dense, length -> 2, values -> List(0.8579714575988255, 0.14202854240117446))</td></tr><tr><td>Map(vectorType -> dense, length -> 15, values -> List(41.0, 802.0, 1.0, 9.0, 96.0, 3.0, 3.0, 3.0, 8189.0, 9.0, 7.0, 7.0, 3.0, 3.0, 3.0))</td><td>0.0</td><td>0.0</td><td>Map(vectorType -> dense, length -> 2, values -> List(0.8665130251396301, 0.13348697486036987))</td></tr><tr><td>Map(vectorType -> dense, length -> 15, values -> List(41.0, 930.0, 3.0, 3.0, 57.0, 2.0, 2.0, 2.0, 8938.0, 5.0, 4.0, 4.0, 2.0, 3.0, 3.0))</td><td>0.0</td><td>0.0</td><td>Map(vectorType -> dense, length -> 2, values -> List(0.8452484728457504, 0.15475152715424956))</td></tr><tr><td>Map(vectorType -> dense, length -> 15, values -> List(41.0, 1276.0, 5.0, 2.0, 91.0, 3.0, 4.0, 1.0, 16595.0, 18.0, 16.0, 8.0, 7.0, 3.0, 2.0))</td><td>0.0</td><td>0.0</td><td>Map(vectorType -> dense, length -> 2, values -> List(0.8857578876509082, 0.11424211234909176))</td></tr><tr><td>Map(vectorType -> dense, length -> 15, values -> List(41.0, 1283.0, 5.0, 5.0, 90.0, 4.0, 1.0, 3.0, 2127.0, 4.0, 2.0, 3.0, 2.0, 3.0, 2.0))</td><td>0.0</td><td>0.0</td><td>Map(vectorType -> dense, length -> 2, values -> List(0.8447383031081294, 0.15526169689187064))</td></tr><tr><td>Map(vectorType -> dense, length -> 15, values -> List(41.0, 906.0, 2.0, 5.0, 95.0, 2.0, 1.0, 1.0, 2107.0, 1.0, 0.0, 0.0, 6.0, 3.0, 1.0))</td><td>1.0</td><td>0.0</td><td>Map(vectorType -> dense, length -> 2, values -> List(0.7956342364173509, 0.20436576358264913))</td></tr><tr><td>Map(vectorType -> dense, length -> 15, values -> List(41.0, 143.0, 3.0, 4.0, 56.0, 3.0, 2.0, 2.0, 9355.0, 8.0, 7.0, 7.0, 1.0, 3.0, 1.0))</td><td>1.0</td><td>0.0</td><td>Map(vectorType -> dense, length -> 2, values -> List(0.8531528376074722, 0.14684716239252782))</td></tr><tr><td>Map(vectorType -> dense, length -> 15, values -> List(41.0, 1360.0, 3.0, 12.0, 49.0, 3.0, 5.0, 3.0, 19545.0, 22.0, 15.0, 8.0, 1.0, 3.0, 2.0))</td><td>1.0</td><td>0.0</td><td>Map(vectorType -> dense, length -> 2, values -> List(0.8999781634359718, 0.10002183656402819))</td></tr><tr><td>Map(vectorType -> dense, length -> 15, values -> List(42.0, 495.0, 1.0, 2.0, 37.0, 3.0, 4.0, 3.0, 17861.0, 20.0, 8.0, 10.0, 0.0, 3.0, 3.0))</td><td>0.0</td><td>0.0</td><td>Map(vectorType -> dense, length -> 2, values -> List(0.8934013920225127, 0.10659860797748733))</td></tr><tr><td>Map(vectorType -> dense, length -> 15, values -> List(42.0, 926.0, 2.0, 21.0, 36.0, 3.0, 2.0, 3.0, 5265.0, 5.0, 3.0, 2.0, 2.0, 3.0, 3.0))</td><td>0.0</td><td>0.0</td><td>Map(vectorType -> dense, length -> 2, values -> List(0.8409740240300269, 0.15902597596997314))</td></tr><tr><td>Map(vectorType -> dense, length -> 15, values -> List(42.0, 288.0, 3.0, 2.0, 40.0, 3.0, 3.0, 4.0, 10124.0, 20.0, 8.0, 9.0, 2.0, 3.0, 4.0))</td><td>0.0</td><td>0.0</td><td>Map(vectorType -> dense, length -> 2, values -> List(0.8854256402990407, 0.1145743597009593))</td></tr><tr><td>Map(vectorType -> dense, length -> 15, values -> List(42.0, 419.0, 4.0, 12.0, 77.0, 3.0, 2.0, 4.0, 5087.0, 0.0, 0.0, 0.0, 3.0, 3.0, 2.0))</td><td>0.0</td><td>0.0</td><td>Map(vectorType -> dense, length -> 2, values -> List(0.8305093503358661, 0.16949064966413385))</td></tr><tr><td>Map(vectorType -> dense, length -> 15, values -> List(42.0, 603.0, 4.0, 7.0, 78.0, 4.0, 2.0, 2.0, 2372.0, 1.0, 0.0, 0.0, 6.0, 3.0, 2.0))</td><td>0.0</td><td>0.0</td><td>Map(vectorType -> dense, length -> 2, values -> List(0.8280718227206822, 0.17192817727931775))</td></tr><tr><td>Map(vectorType -> dense, length -> 15, values -> List(42.0, 932.0, 2.0, 1.0, 43.0, 2.0, 2.0, 4.0, 6062.0, 4.0, 3.0, 2.0, 9.0, 3.0, 4.0))</td><td>0.0</td><td>0.0</td><td>Map(vectorType -> dense, length -> 2, values -> List(0.8392045203276637, 0.16079547967233632))</td></tr><tr><td>Map(vectorType -> dense, length -> 15, values -> List(43.0, 313.0, 3.0, 21.0, 61.0, 3.0, 1.0, 4.0, 2258.0, 3.0, 2.0, 2.0, 7.0, 4.0, 4.0))</td><td>0.0</td><td>0.0</td><td>Map(vectorType -> dense, length -> 2, values -> List(0.8309926797110267, 0.16900732028897325))</td></tr><tr><td>Map(vectorType -> dense, length -> 15, values -> List(43.0, 957.0, 3.0, 28.0, 72.0, 4.0, 1.0, 3.0, 4739.0, 3.0, 2.0, 2.0, 4.0, 3.0, 2.0))</td><td>0.0</td><td>0.0</td><td>Map(vectorType -> dense, length -> 2, values -> List(0.831986852160707, 0.168013147839293))</td></tr><tr><td>Map(vectorType -> dense, length -> 15, values -> List(43.0, 589.0, 2.0, 14.0, 94.0, 3.0, 4.0, 1.0, 17159.0, 4.0, 1.0, 0.0, 6.0, 4.0, 2.0))</td><td>0.0</td><td>0.0</td><td>Map(vectorType -> dense, length -> 2, values -> List(0.8469038178218626, 0.15309618217813736))</td></tr><tr><td>Map(vectorType -> dense, length -> 15, values -> List(43.0, 782.0, 4.0, 6.0, 50.0, 2.0, 4.0, 4.0, 16627.0, 1.0, 0.0, 0.0, 4.0, 3.0, 2.0))</td><td>0.0</td><td>0.0</td><td>Map(vectorType -> dense, length -> 2, values -> List(0.8489224786580504, 0.15107752134194963))</td></tr><tr><td>Map(vectorType -> dense, length -> 15, values -> List(43.0, 1179.0, 3.0, 2.0, 73.0, 3.0, 2.0, 4.0, 7847.0, 10.0, 9.0, 8.0, 1.0, 3.0, 4.0))</td><td>0.0</td><td>0.0</td><td>Map(vectorType -> dense, length -> 2, values -> List(0.8797229596466285, 0.1202770403533715))</td></tr><tr><td>Map(vectorType -> dense, length -> 15, values -> List(44.0, 170.0, 4.0, 1.0, 78.0, 4.0, 2.0, 1.0, 5033.0, 2.0, 0.0, 2.0, 2.0, 3.0, 2.0))</td><td>0.0</td><td>0.0</td><td>Map(vectorType -> dense, length -> 2, values -> List(0.8393529558476566, 0.16064704415234343))</td></tr><tr><td>Map(vectorType -> dense, length -> 15, values -> List(44.0, 477.0, 4.0, 7.0, 42.0, 2.0, 3.0, 4.0, 10248.0, 22.0, 6.0, 17.0, 3.0, 3.0, 1.0))</td><td>0.0</td><td>0.0</td><td>Map(vectorType -> dense, length -> 2, values -> List(0.8747283743524193, 0.12527162564758065))</td></tr><tr><td>Map(vectorType -> dense, length -> 15, values -> List(44.0, 625.0, 3.0, 4.0, 50.0, 3.0, 2.0, 2.0, 5933.0, 5.0, 2.0, 3.0, 9.0, 3.0, 4.0))</td><td>0.0</td><td>0.0</td><td>Map(vectorType -> dense, length -> 2, values -> List(0.840166712914429, 0.15983328708557099))</td></tr><tr><td>Map(vectorType -> dense, length -> 15, values -> List(44.0, 986.0, 4.0, 8.0, 62.0, 4.0, 1.0, 4.0, 2818.0, 3.0, 2.0, 2.0, 2.0, 4.0, 1.0))</td><td>0.0</td><td>0.0</td><td>Map(vectorType -> dense, length -> 2, values -> List(0.8435223588879573, 0.15647764111204265))</td></tr><tr><td>Map(vectorType -> dense, length -> 15, values -> List(44.0, 621.0, 3.0, 15.0, 73.0, 3.0, 3.0, 4.0, 7978.0, 10.0, 7.0, 5.0, 1.0, 3.0, 1.0))</td><td>1.0</td><td>0.0</td><td>Map(vectorType -> dense, length -> 2, values -> List(0.8609031878403067, 0.13909681215969327))</td></tr><tr><td>Map(vectorType -> dense, length -> 15, values -> List(45.0, 194.0, 3.0, 9.0, 60.0, 3.0, 2.0, 2.0, 2348.0, 17.0, 9.0, 15.0, 8.0, 3.0, 2.0))</td><td>0.0</td><td>0.0</td><td>Map(vectorType -> dense, length -> 2, values -> List(0.8592837223422995, 0.14071627765770045))</td></tr><tr><td>Map(vectorType -> dense, length -> 15, values -> List(45.0, 1038.0, 3.0, 20.0, 95.0, 1.0, 3.0, 1.0, 10851.0, 7.0, 7.0, 7.0, 2.0, 3.0, 2.0))</td><td>0.0</td><td>0.0</td><td>Map(vectorType -> dense, length -> 2, values -> List(0.8428398174892683, 0.15716018251073172))</td></tr><tr><td>Map(vectorType -> dense, length -> 15, values -> List(46.0, 150.0, 4.0, 2.0, 60.0, 3.0, 2.0, 4.0, 7379.0, 6.0, 3.0, 4.0, 2.0, 3.0, 4.0))</td><td>0.0</td><td>0.0</td><td>Map(vectorType -> dense, length -> 2, values -> List(0.8616499889383142, 0.13835001106168576))</td></tr><tr><td>Map(vectorType -> dense, length -> 15, values -> List(46.0, 228.0, 3.0, 3.0, 51.0, 3.0, 4.0, 2.0, 16606.0, 13.0, 12.0, 1.0, 8.0, 3.0, 3.0))</td><td>0.0</td><td>0.0</td><td>Map(vectorType -> dense, length -> 2, values -> List(0.8738107826956462, 0.12618921730435384))</td></tr><tr><td>Map(vectorType -> dense, length -> 15, values -> List(46.0, 406.0, 1.0, 3.0, 52.0, 3.0, 4.0, 3.0, 17465.0, 12.0, 9.0, 9.0, 3.0, 3.0, 1.0))</td><td>0.0</td><td>0.0</td><td>Map(vectorType -> dense, length -> 2, values -> List(0.8811116287226303, 0.11888837127736973))</td></tr><tr><td>Map(vectorType -> dense, length -> 15, values -> List(46.0, 566.0, 2.0, 7.0, 75.0, 3.0, 3.0, 3.0, 10845.0, 8.0, 7.0, 7.0, 6.0, 3.0, 4.0))</td><td>0.0</td><td>0.0</td><td>Map(vectorType -> dense, length -> 2, values -> List(0.8709955192270997, 0.12900448077290028))</td></tr><tr><td>Map(vectorType -> dense, length -> 15, values -> List(46.0, 945.0, 2.0, 5.0, 80.0, 3.0, 2.0, 2.0, 5021.0, 4.0, 2.0, 2.0, 8.0, 4.0, 2.0))</td><td>0.0</td><td>0.0</td><td>Map(vectorType -> dense, length -> 2, values -> List(0.834651177162303, 0.16534882283769703))</td></tr><tr><td>Map(vectorType -> dense, length -> 15, values -> List(46.0, 377.0, 3.0, 9.0, 52.0, 3.0, 3.0, 4.0, 10096.0, 7.0, 7.0, 3.0, 4.0, 3.0, 1.0))</td><td>1.0</td><td>0.0</td><td>Map(vectorType -> dense, length -> 2, values -> List(0.8571112186586959, 0.14288878134130412))</td></tr><tr><td>Map(vectorType -> dense, length -> 15, values -> List(47.0, 202.0, 2.0, 2.0, 33.0, 3.0, 4.0, 4.0, 16752.0, 26.0, 14.0, 0.0, 1.0, 3.0, 3.0))</td><td>0.0</td><td>0.0</td><td>Map(vectorType -> dense, length -> 2, values -> List(0.894769578399061, 0.10523042160093898))</td></tr><tr><td>Map(vectorType -> dense, length -> 15, values -> List(47.0, 249.0, 2.0, 2.0, 35.0, 3.0, 2.0, 4.0, 4537.0, 7.0, 6.0, 7.0, 0.0, 4.0, 3.0))</td><td>0.0</td><td>0.0</td><td>Map(vectorType -> dense, length -> 2, values -> List(0.8678599366336491, 0.13214006336635087))</td></tr><tr><td>Map(vectorType -> dense, length -> 15, values -> List(47.0, 571.0, 3.0, 14.0, 78.0, 3.0, 2.0, 3.0, 4591.0, 5.0, 4.0, 2.0, 3.0, 3.0, 3.0))</td><td>0.0</td><td>0.0</td><td>Map(vectorType -> dense, length -> 2, values -> List(0.8459798330068387, 0.15402016699316134))</td></tr><tr><td>Map(vectorType -> dense, length -> 15, values -> List(47.0, 703.0, 4.0, 14.0, 42.0, 3.0, 2.0, 1.0, 4960.0, 7.0, 7.0, 7.0, 2.0, 3.0, 4.0))</td><td>0.0</td><td>0.0</td><td>Map(vectorType -> dense, length -> 2, values -> List(0.8574154028739198, 0.14258459712608018))</td></tr><tr><td>Map(vectorType -> dense, length -> 15, values -> List(47.0, 1176.0, 4.0, 26.0, 98.0, 3.0, 5.0, 3.0, 19658.0, 5.0, 2.0, 0.0, 3.0, 3.0, 4.0))</td><td>0.0</td><td>0.0</td><td>Map(vectorType -> dense, length -> 2, values -> List(0.8721945362995505, 0.12780546370044954))</td></tr><tr><td>Map(vectorType -> dense, length -> 15, values -> List(47.0, 1180.0, 3.0, 25.0, 84.0, 3.0, 3.0, 3.0, 8633.0, 17.0, 14.0, 11.0, 2.0, 4.0, 1.0))</td><td>0.0</td><td>0.0</td><td>Map(vectorType -> dense, length -> 2, values -> List(0.8791474435601445, 0.12085255643985549))</td></tr><tr><td>Map(vectorType -> dense, length -> 15, values -> List(47.0, 719.0, 2.0, 27.0, 77.0, 4.0, 2.0, 3.0, 6397.0, 5.0, 4.0, 3.0, 4.0, 3.0, 2.0))</td><td>1.0</td><td>0.0</td><td>Map(vectorType -> dense, length -> 2, values -> List(0.8467242763184262, 0.15327572368157383))</td></tr><tr><td>Map(vectorType -> dense, length -> 15, values -> List(48.0, 492.0, 4.0, 16.0, 96.0, 3.0, 2.0, 3.0, 6439.0, 8.0, 7.0, 7.0, 8.0, 3.0, 3.0))</td><td>0.0</td><td>0.0</td><td>Map(vectorType -> dense, length -> 2, values -> List(0.8536511031397828, 0.14634889686021724))</td></tr><tr><td>Map(vectorType -> dense, length -> 15, values -> List(48.0, 1224.0, 3.0, 10.0, 91.0, 2.0, 5.0, 2.0, 19665.0, 22.0, 10.0, 9.0, 4.0, 3.0, 4.0))</td><td>0.0</td><td>0.0</td><td>Map(vectorType -> dense, length -> 2, values -> List(0.8947020629699094, 0.1052979370300906))</td></tr><tr><td>Map(vectorType -> dense, length -> 15, values -> List(48.0, 1236.0, 4.0, 1.0, 40.0, 2.0, 4.0, 1.0, 15402.0, 3.0, 2.0, 2.0, 7.0, 3.0, 4.0))</td><td>0.0</td><td>0.0</td><td>Map(vectorType -> dense, length -> 2, values -> List(0.8555010848513194, 0.14449891514868063))</td></tr><tr><td>Map(vectorType -> dense, length -> 15, values -> List(48.0, 1355.0, 4.0, 4.0, 78.0, 2.0, 3.0, 3.0, 10999.0, 15.0, 11.0, 8.0, 7.0, 3.0, 3.0))</td><td>0.0</td><td>0.0</td><td>Map(vectorType -> dense, length -> 2, values -> List(0.874350609386003, 0.12564939061399705))</td></tr><tr><td>Map(vectorType -> dense, length -> 15, values -> List(49.0, 470.0, 4.0, 20.0, 96.0, 3.0, 2.0, 1.0, 6567.0, 15.0, 11.0, 11.0, 1.0, 3.0, 3.0))</td><td>0.0</td><td>0.0</td><td>Map(vectorType -> dense, length -> 2, values -> List(0.8699701503580072, 0.13002984964199282))</td></tr><tr><td>Map(vectorType -> dense, length -> 15, values -> List(49.0, 809.0, 3.0, 1.0, 36.0, 3.0, 4.0, 3.0, 15379.0, 8.0, 7.0, 0.0, 4.0, 3.0, 3.0))</td><td>0.0</td><td>0.0</td><td>Map(vectorType -> dense, length -> 2, values -> List(0.8744023858575181, 0.12559761414248194))</td></tr><tr><td>Map(vectorType -> dense, length -> 15, values -> List(50.0, 809.0, 3.0, 12.0, 77.0, 3.0, 3.0, 4.0, 9208.0, 2.0, 2.0, 1.0, 4.0, 3.0, 3.0))</td><td>0.0</td><td>0.0</td><td>Map(vectorType -> dense, length -> 2, values -> List(0.8552801441503277, 0.14471985584967229))</td></tr><tr><td>Map(vectorType -> dense, length -> 15, values -> List(50.0, 264.0, 3.0, 9.0, 59.0, 3.0, 5.0, 3.0, 19331.0, 1.0, 0.0, 0.0, 4.0, 3.0, 3.0))</td><td>0.0</td><td>0.0</td><td>Map(vectorType -> dense, length -> 2, values -> List(0.8659811764729535, 0.13401882352704653))</td></tr><tr><td>Map(vectorType -> dense, length -> 15, values -> List(50.0, 804.0, 3.0, 9.0, 64.0, 3.0, 1.0, 4.0, 2380.0, 1.0, 0.0, 0.0, 4.0, 3.0, 1.0))</td><td>0.0</td><td>0.0</td><td>Map(vectorType -> dense, length -> 2, values -> List(0.8243716364280324, 0.17562836357196765))</td></tr><tr><td>Map(vectorType -> dense, length -> 15, values -> List(50.0, 1126.0, 2.0, 1.0, 66.0, 3.0, 4.0, 4.0, 17399.0, 5.0, 4.0, 3.0, 9.0, 4.0, 4.0))</td><td>0.0</td><td>0.0</td><td>Map(vectorType -> dense, length -> 2, values -> List(0.8786175181418857, 0.12138248185811429))</td></tr><tr><td>Map(vectorType -> dense, length -> 15, values -> List(50.0, 562.0, 2.0, 8.0, 50.0, 3.0, 2.0, 3.0, 6796.0, 4.0, 3.0, 3.0, 3.0, 3.0, 2.0))</td><td>1.0</td><td>0.0</td><td>Map(vectorType -> dense, length -> 2, values -> List(0.847022219674598, 0.152977780325402))</td></tr><tr><td>Map(vectorType -> dense, length -> 15, values -> List(50.0, 410.0, 3.0, 28.0, 39.0, 2.0, 3.0, 1.0, 10854.0, 3.0, 2.0, 0.0, 4.0, 3.0, 4.0))</td><td>1.0</td><td>0.0</td><td>Map(vectorType -> dense, length -> 2, values -> List(0.833374986378879, 0.16662501362112103))</td></tr><tr><td>Map(vectorType -> dense, length -> 15, values -> List(51.0, 684.0, 3.0, 6.0, 51.0, 3.0, 5.0, 3.0, 19537.0, 20.0, 18.0, 15.0, 7.0, 3.0, 1.0))</td><td>0.0</td><td>0.0</td><td>Map(vectorType -> dense, length -> 2, values -> List(0.9039169713272779, 0.09608302867272212))</td></tr><tr><td>Map(vectorType -> dense, length -> 15, values -> List(51.0, 1469.0, 4.0, 8.0, 81.0, 2.0, 3.0, 2.0, 12490.0, 10.0, 9.0, 7.0, 5.0, 3.0, 2.0))</td><td>0.0</td><td>0.0</td><td>Map(vectorType -> dense, length -> 2, values -> List(0.8659374943721125, 0.13406250562788746))</td></tr><tr><td>Map(vectorType -> dense, length -> 15, values -> List(51.0, 1150.0, 4.0, 8.0, 53.0, 1.0, 3.0, 4.0, 10650.0, 4.0, 2.0, 3.0, 2.0, 3.0, 1.0))</td><td>1.0</td><td>0.0</td><td>Map(vectorType -> dense, length -> 2, values -> List(0.8423080884004448, 0.1576919115995552))</td></tr><tr><td>Map(vectorType -> dense, length -> 15, values -> List(52.0, 771.0, 4.0, 2.0, 79.0, 2.0, 5.0, 3.0, 19068.0, 33.0, 7.0, 12.0, 1.0, 3.0, 1.0))</td><td>0.0</td><td>0.0</td><td>Map(vectorType -> dense, length -> 2, values -> List(0.897795387643578, 0.10220461235642198))</td></tr><tr><td>Map(vectorType -> dense, length -> 15, values -> List(52.0, 1323.0, 3.0, 2.0, 89.0, 2.0, 1.0, 4.0, 3212.0, 2.0, 2.0, 2.0, 7.0, 3.0, 3.0))</td><td>0.0</td><td>0.0</td><td>Map(vectorType -> dense, length -> 2, values -> List(0.8353329245711026, 0.16466707542889736))</td></tr><tr><td>Map(vectorType -> dense, length -> 15, values -> List(52.0, 266.0, 1.0, 2.0, 57.0, 1.0, 5.0, 4.0, 19845.0, 32.0, 14.0, 9.0, 1.0, 3.0, 1.0))</td><td>1.0</td><td>0.0</td><td>Map(vectorType -> dense, length -> 2, values -> List(0.8968865041818415, 0.10311349581815854))</td></tr><tr><td>Map(vectorType -> dense, length -> 15, values -> List(53.0, 661.0, 4.0, 1.0, 60.0, 2.0, 4.0, 3.0, 12965.0, 3.0, 2.0, 2.0, 4.0, 4.0, 1.0))</td><td>0.0</td><td>0.0</td><td>Map(vectorType -> dense, length -> 2, values -> List(0.8543362158476071, 0.1456637841523929))</td></tr><tr><td>Map(vectorType -> dense, length -> 15, values -> List(53.0, 447.0, 3.0, 2.0, 39.0, 4.0, 4.0, 2.0, 16598.0, 9.0, 8.0, 8.0, 4.0, 3.0, 4.0))</td><td>0.0</td><td>0.0</td><td>Map(vectorType -> dense, length -> 2, values -> List(0.8932262316140496, 0.10677376838595043))</td></tr><tr><td>Map(vectorType -> dense, length -> 15, values -> List(53.0, 1084.0, 2.0, 13.0, 57.0, 4.0, 2.0, 1.0, 4450.0, 4.0, 2.0, 3.0, 1.0, 3.0, 4.0))</td><td>0.0</td><td>0.0</td><td>Map(vectorType -> dense, length -> 2, values -> List(0.8576417597169139, 0.14235824028308608))</td></tr><tr><td>Map(vectorType -> dense, length -> 15, values -> List(53.0, 1436.0, 2.0, 6.0, 34.0, 3.0, 2.0, 3.0, 2306.0, 7.0, 7.0, 5.0, 2.0, 4.0, 2.0))</td><td>0.0</td><td>0.0</td><td>Map(vectorType -> dense, length -> 2, values -> List(0.8614440117153979, 0.13855598828460214))</td></tr><tr><td>Map(vectorType -> dense, length -> 15, values -> List(54.0, 1147.0, 3.0, 3.0, 52.0, 3.0, 2.0, 1.0, 5940.0, 6.0, 2.0, 5.0, 2.0, 3.0, 4.0))</td><td>0.0</td><td>0.0</td><td>Map(vectorType -> dense, length -> 2, values -> List(0.8586668995939599, 0.14133310040604008))</td></tr><tr><td>Map(vectorType -> dense, length -> 15, values -> List(54.0, 1441.0, 3.0, 17.0, 56.0, 3.0, 3.0, 3.0, 10739.0, 10.0, 7.0, 8.0, 8.0, 3.0, 3.0))</td><td>0.0</td><td>0.0</td><td>Map(vectorType -> dense, length -> 2, values -> List(0.870605730000223, 0.129394269999777))</td></tr><tr><td>Map(vectorType -> dense, length -> 15, values -> List(55.0, 147.0, 2.0, 20.0, 37.0, 3.0, 2.0, 4.0, 5415.0, 10.0, 7.0, 8.0, 3.0, 3.0, 2.0))</td><td>0.0</td><td>0.0</td><td>Map(vectorType -> dense, length -> 2, values -> List(0.8606319659757425, 0.13936803402425746))</td></tr><tr><td>Map(vectorType -> dense, length -> 15, values -> List(55.0, 282.0, 2.0, 2.0, 58.0, 1.0, 5.0, 3.0, 19187.0, 19.0, 9.0, 11.0, 4.0, 3.0, 4.0))</td><td>0.0</td><td>0.0</td><td>Map(vectorType -> dense, length -> 2, values -> List(0.8925938724201307, 0.10740612757986934))</td></tr><tr><td>Map(vectorType -> dense, length -> 15, values -> List(55.0, 452.0, 3.0, 1.0, 81.0, 3.0, 5.0, 1.0, 19045.0, 36.0, 10.0, 13.0, 0.0, 3.0, 4.0))</td><td>0.0</td><td>0.0</td><td>Map(vectorType -> dense, length -> 2, values -> List(0.9136858425601389, 0.08631415743986115))</td></tr><tr><td>Map(vectorType -> dense, length -> 15, values -> List(55.0, 478.0, 3.0, 2.0, 60.0, 2.0, 5.0, 1.0, 19038.0, 1.0, 0.0, 0.0, 8.0, 3.0, 3.0))</td><td>0.0</td><td>0.0</td><td>Map(vectorType -> dense, length -> 2, values -> List(0.8532235097626936, 0.14677649023730643))</td></tr><tr><td>Map(vectorType -> dense, length -> 15, values -> List(55.0, 685.0, 5.0, 26.0, 60.0, 2.0, 5.0, 4.0, 19586.0, 36.0, 6.0, 13.0, 1.0, 4.0, 3.0))</td><td>0.0</td><td>0.0</td><td>Map(vectorType -> dense, length -> 2, values -> List(0.9031045993215087, 0.09689540067849134))</td></tr><tr><td>Map(vectorType -> dense, length -> 15, values -> List(55.0, 836.0, 3.0, 8.0, 33.0, 3.0, 4.0, 3.0, 14756.0, 5.0, 0.0, 2.0, 2.0, 3.0, 4.0))</td><td>0.0</td><td>0.0</td><td>Map(vectorType -> dense, length -> 2, values -> List(0.8726355906905825, 0.1273644093094175))</td></tr><tr><td>Map(vectorType -> dense, length -> 15, values -> List(55.0, 1117.0, 5.0, 18.0, 83.0, 3.0, 4.0, 2.0, 16835.0, 10.0, 9.0, 7.0, 3.0, 4.0, 1.0))</td><td>0.0</td><td>0.0</td><td>Map(vectorType -> dense, length -> 2, values -> List(0.8794390925666662, 0.12056090743333381))</td></tr><tr><td>Map(vectorType -> dense, length -> 15, values -> List(55.0, 267.0, 4.0, 13.0, 85.0, 4.0, 4.0, 3.0, 13695.0, 19.0, 7.0, 8.0, 6.0, 3.0, 1.0))</td><td>1.0</td><td>0.0</td><td>Map(vectorType -> dense, length -> 2, values -> List(0.8825832957728078, 0.11741670422719219))</td></tr><tr><td>Map(vectorType -> dense, length -> 15, values -> List(56.0, 1255.0, 2.0, 1.0, 90.0, 3.0, 1.0, 1.0, 2066.0, 3.0, 2.0, 0.0, 2.0, 4.0, 1.0))</td><td>0.0</td><td>0.0</td><td>Map(vectorType -> dense, length -> 2, values -> List(0.8334535249434751, 0.16654647505652487))</td></tr><tr><td>Map(vectorType -> dense, length -> 15, values -> List(56.0, 1400.0, 3.0, 7.0, 49.0, 1.0, 3.0, 4.0, 7260.0, 6.0, 4.0, 2.0, 4.0, 3.0, 4.0))</td><td>0.0</td><td>0.0</td><td>Map(vectorType -> dense, length -> 2, values -> List(0.855596420519865, 0.14440357948013505))</td></tr><tr><td>Map(vectorType -> dense, length -> 15, values -> List(58.0, 1216.0, 4.0, 15.0, 87.0, 3.0, 4.0, 3.0, 15787.0, 2.0, 2.0, 2.0, 2.0, 3.0, 1.0))</td><td>0.0</td><td>0.0</td><td>Map(vectorType -> dense, length -> 2, values -> List(0.8648482952162344, 0.1351517047837656))</td></tr><tr><td>Map(vectorType -> dense, length -> 15, values -> List(58.0, 605.0, 3.0, 21.0, 72.0, 3.0, 4.0, 4.0, 17875.0, 1.0, 0.0, 0.0, 4.0, 3.0, 4.0))</td><td>0.0</td><td>0.0</td><td>Map(vectorType -> dense, length -> 2, values -> List(0.8683675266746246, 0.13163247332537542))</td></tr><tr><td>Map(vectorType -> dense, length -> 15, values -> List(58.0, 1272.0, 3.0, 5.0, 37.0, 2.0, 3.0, 2.0, 10552.0, 6.0, 0.0, 4.0, 2.0, 3.0, 3.0))</td><td>0.0</td><td>0.0</td><td>Map(vectorType -> dense, length -> 2, values -> List(0.8573396604074744, 0.14266033959252555))</td></tr><tr><td>Map(vectorType -> dense, length -> 15, values -> List(58.0, 781.0, 1.0, 2.0, 57.0, 2.0, 1.0, 4.0, 2380.0, 1.0, 0.0, 0.0, 9.0, 3.0, 4.0))</td><td>1.0</td><td>0.0</td><td>Map(vectorType -> dense, length -> 2, values -> List(0.8299375632917402, 0.17006243670825982))</td></tr><tr><td>Map(vectorType -> dense, length -> 15, values -> List(58.0, 289.0, 3.0, 2.0, 51.0, 3.0, 1.0, 3.0, 2479.0, 1.0, 0.0, 0.0, 4.0, 4.0, 4.0))</td><td>1.0</td><td>0.0</td><td>Map(vectorType -> dense, length -> 2, values -> List(0.843054252069951, 0.156945747930049))</td></tr><tr><td>Map(vectorType -> dense, length -> 15, values -> List(59.0, 818.0, 2.0, 6.0, 52.0, 3.0, 1.0, 3.0, 2267.0, 2.0, 2.0, 2.0, 8.0, 3.0, 2.0))</td><td>0.0</td><td>0.0</td><td>Map(vectorType -> dense, length -> 2, values -> List(0.8331025576081662, 0.1668974423918338))</td></tr><tr><td>Map(vectorType -> dense, length -> 15, values -> List(60.0, 422.0, 3.0, 7.0, 41.0, 3.0, 5.0, 1.0, 19566.0, 29.0, 8.0, 10.0, 5.0, 3.0, 1.0))</td><td>0.0</td><td>0.0</td><td>Map(vectorType -> dense, length -> 2, values -> List(0.8930437411590748, 0.10695625884092519))</td></tr></tbody></table></div>"
      ]
     },
     "metadata": {
      "application/vnd.databricks.v1+output": {
       "addedWidgets": {},
       "aggData": [],
       "aggError": "",
       "aggOverflow": false,
       "aggSchema": [],
       "aggSeriesLimitReached": false,
       "aggType": "",
       "arguments": {},
       "columnCustomDisplayInfos": {},
       "data": [
        [
         {
          "length": 15,
          "values": [
           18,
           230,
           3,
           3,
           54,
           3,
           1,
           3,
           1420,
           0,
           0,
           0,
           1,
           3,
           3
          ],
          "vectorType": "dense"
         },
         1,
         0,
         {
          "length": 2,
          "values": [
           0.8101243950612148,
           0.1898756049387852
          ],
          "vectorType": "dense"
         }
        ],
        [
         {
          "length": 15,
          "values": [
           19,
           504,
           3,
           10,
           96,
           2,
           1,
           2,
           1859,
           1,
           1,
           0,
           1,
           4,
           1
          ],
          "vectorType": "dense"
         },
         1,
         0,
         {
          "length": 2,
          "values": [
           0.7910603382589526,
           0.2089396617410474
          ],
          "vectorType": "dense"
         }
        ],
        [
         {
          "length": 15,
          "values": [
           20,
           1097,
           3,
           11,
           98,
           2,
           1,
           1,
           2600,
           1,
           0,
           0,
           1,
           3,
           4
          ],
          "vectorType": "dense"
         },
         1,
         0,
         {
          "length": 2,
          "values": [
           0.8026752384918958,
           0.19732476150810419
          ],
          "vectorType": "dense"
         }
        ],
        [
         {
          "length": 15,
          "values": [
           21,
           984,
           1,
           1,
           70,
           2,
           1,
           2,
           2070,
           2,
           2,
           2,
           1,
           3,
           4
          ],
          "vectorType": "dense"
         },
         0,
         0,
         {
          "length": 2,
          "values": [
           0.8173454847286873,
           0.1826545152713127
          ],
          "vectorType": "dense"
         }
        ],
        [
         {
          "length": 15,
          "values": [
           21,
           1427,
           1,
           18,
           65,
           3,
           1,
           4,
           2693,
           1,
           0,
           0,
           1,
           3,
           4
          ],
          "vectorType": "dense"
         },
         1,
         0,
         {
          "length": 2,
          "values": [
           0.8216881516476776,
           0.1783118483523224
          ],
          "vectorType": "dense"
         }
        ],
        [
         {
          "length": 15,
          "values": [
           22,
           534,
           3,
           15,
           59,
           3,
           1,
           4,
           2871,
           0,
           0,
           0,
           1,
           3,
           2
          ],
          "vectorType": "dense"
         },
         0,
         0,
         {
          "length": 2,
          "values": [
           0.8094938330177999,
           0.19050616698220013
          ],
          "vectorType": "dense"
         }
        ],
        [
         {
          "length": 15,
          "values": [
           22,
           1256,
           4,
           3,
           48,
           2,
           1,
           4,
           2853,
           0,
           0,
           0,
           0,
           3,
           3
          ],
          "vectorType": "dense"
         },
         1,
         0,
         {
          "length": 2,
          "values": [
           0.8158633289543219,
           0.1841366710456781
          ],
          "vectorType": "dense"
         }
        ],
        [
         {
          "length": 15,
          "values": [
           22,
           391,
           1,
           7,
           75,
           3,
           1,
           2,
           2472,
           1,
           0,
           0,
           1,
           4,
           4
          ],
          "vectorType": "dense"
         },
         1,
         0,
         {
          "length": 2,
          "values": [
           0.8178307847695063,
           0.18216921523049368
          ],
          "vectorType": "dense"
         }
        ],
        [
         {
          "length": 15,
          "values": [
           23,
           885,
           3,
           4,
           58,
           4,
           1,
           1,
           2819,
           3,
           2,
           2,
           2,
           3,
           1
          ],
          "vectorType": "dense"
         },
         0,
         0,
         {
          "length": 2,
          "values": [
           0.8171309247768448,
           0.1828690752231552
          ],
          "vectorType": "dense"
         }
        ],
        [
         {
          "length": 15,
          "values": [
           23,
           638,
           3,
           9,
           33,
           3,
           1,
           1,
           1790,
           1,
           0,
           0,
           1,
           3,
           4
          ],
          "vectorType": "dense"
         },
         1,
         0,
         {
          "length": 2,
          "values": [
           0.8108506929139458,
           0.18914930708605415
          ],
          "vectorType": "dense"
         }
        ],
        [
         {
          "length": 15,
          "values": [
           23,
           427,
           3,
           7,
           99,
           3,
           1,
           4,
           2275,
           3,
           2,
           2,
           1,
           4,
           3
          ],
          "vectorType": "dense"
         },
         1,
         0,
         {
          "length": 2,
          "values": [
           0.8295359863485278,
           0.17046401365147223
          ],
          "vectorType": "dense"
         }
        ],
        [
         {
          "length": 15,
          "values": [
           23,
           1243,
           3,
           6,
           63,
           4,
           1,
           1,
           1601,
           0,
           0,
           0,
           1,
           4,
           3
          ],
          "vectorType": "dense"
         },
         1,
         0,
         {
          "length": 2,
          "values": [
           0.8218902734912683,
           0.1781097265087317
          ],
          "vectorType": "dense"
         }
        ],
        [
         {
          "length": 15,
          "values": [
           24,
           673,
           2,
           11,
           96,
           4,
           2,
           3,
           4011,
           4,
           2,
           3,
           0,
           3,
           1
          ],
          "vectorType": "dense"
         },
         0,
         0,
         {
          "length": 2,
          "values": [
           0.8338699652347565,
           0.16613003476524346
          ],
          "vectorType": "dense"
         }
        ],
        [
         {
          "length": 15,
          "values": [
           24,
           567,
           1,
           2,
           32,
           3,
           1,
           4,
           3760,
           6,
           3,
           3,
           1,
           3,
           1
          ],
          "vectorType": "dense"
         },
         0,
         0,
         {
          "length": 2,
          "values": [
           0.8263640913955932,
           0.1736359086044068
          ],
          "vectorType": "dense"
         }
        ],
        [
         {
          "length": 15,
          "values": [
           24,
           1371,
           4,
           10,
           77,
           3,
           2,
           3,
           4260,
           5,
           2,
           3,
           1,
           3,
           4
          ],
          "vectorType": "dense"
         },
         0,
         0,
         {
          "length": 2,
          "values": [
           0.8415967518935656,
           0.15840324810643436
          ],
          "vectorType": "dense"
         }
        ],
        [
         {
          "length": 15,
          "values": [
           24,
           381,
           3,
           9,
           89,
           3,
           1,
           1,
           3172,
           0,
           0,
           0,
           2,
           3,
           2
          ],
          "vectorType": "dense"
         },
         1,
         0,
         {
          "length": 2,
          "values": [
           0.8007523198409808,
           0.19924768015901917
          ],
          "vectorType": "dense"
         }
        ],
        [
         {
          "length": 15,
          "values": [
           24,
           1448,
           1,
           1,
           62,
           3,
           1,
           2,
           3202,
           5,
           3,
           4,
           1,
           3,
           1
          ],
          "vectorType": "dense"
         },
         1,
         0,
         {
          "length": 2,
          "values": [
           0.8242633762027145,
           0.1757366237972855
          ],
          "vectorType": "dense"
         }
        ],
        [
         {
          "length": 15,
          "values": [
           25,
           309,
           3,
           2,
           82,
           3,
           1,
           2,
           2187,
           2,
           0,
           2,
           4,
           3,
           3
          ],
          "vectorType": "dense"
         },
         0,
         0,
         {
          "length": 2,
          "values": [
           0.8135249418627557,
           0.1864750581372443
          ],
          "vectorType": "dense"
         }
        ],
        [
         {
          "length": 15,
          "values": [
           25,
           882,
           1,
           19,
           67,
           3,
           1,
           4,
           3669,
           3,
           2,
           2,
           3,
           3,
           4
          ],
          "vectorType": "dense"
         },
         0,
         0,
         {
          "length": 2,
          "values": [
           0.827239271267451,
           0.172760728732549
          ],
          "vectorType": "dense"
         }
        ],
        [
         {
          "length": 15,
          "values": [
           25,
           891,
           2,
           4,
           99,
           2,
           2,
           4,
           4487,
           5,
           4,
           3,
           1,
           3,
           2
          ],
          "vectorType": "dense"
         },
         0,
         0,
         {
          "length": 2,
          "values": [
           0.8322345209873373,
           0.1677654790126627
          ],
          "vectorType": "dense"
         }
        ],
        [
         {
          "length": 15,
          "values": [
           25,
           599,
           1,
           24,
           73,
           1,
           1,
           4,
           1118,
           1,
           0,
           0,
           1,
           3,
           3
          ],
          "vectorType": "dense"
         },
         1,
         0,
         {
          "length": 2,
          "values": [
           0.7911645780330435,
           0.20883542196695648
          ],
          "vectorType": "dense"
         }
        ],
        [
         {
          "length": 15,
          "values": [
           26,
           786,
           3,
           7,
           76,
           3,
           1,
           4,
           2570,
           7,
           7,
           7,
           1,
           4,
           4
          ],
          "vectorType": "dense"
         },
         0,
         0,
         {
          "length": 2,
          "values": [
           0.8540300918406354,
           0.14596990815936461
          ],
          "vectorType": "dense"
         }
        ],
        [
         {
          "length": 15,
          "values": [
           26,
           1479,
           3,
           1,
           84,
           3,
           2,
           2,
           6397,
           6,
           5,
           4,
           1,
           4,
           3
          ],
          "vectorType": "dense"
         },
         0,
         0,
         {
          "length": 2,
          "values": [
           0.8504061190707878,
           0.14959388092921222
          ],
          "vectorType": "dense"
         }
        ],
        [
         {
          "length": 15,
          "values": [
           26,
           572,
           3,
           10,
           46,
           3,
           2,
           4,
           4684,
           5,
           3,
           2,
           1,
           3,
           3
          ],
          "vectorType": "dense"
         },
         0,
         0,
         {
          "length": 2,
          "values": [
           0.8383462877789758,
           0.1616537122210242
          ],
          "vectorType": "dense"
         }
        ],
        [
         {
          "length": 15,
          "values": [
           26,
           1349,
           3,
           23,
           90,
           3,
           1,
           4,
           2886,
           3,
           2,
           2,
           1,
           4,
           1
          ],
          "vectorType": "dense"
         },
         0,
         0,
         {
          "length": 2,
          "values": [
           0.8194093800819006,
           0.18059061991809944
          ],
          "vectorType": "dense"
         }
        ],
        [
         {
          "length": 15,
          "values": [
           26,
           426,
           4,
           17,
           58,
           3,
           1,
           3,
           2741,
           7,
           7,
           0,
           0,
           3,
           2
          ],
          "vectorType": "dense"
         },
         1,
         0,
         {
          "length": 2,
          "values": [
           0.8254695302496329,
           0.17453046975036712
          ],
          "vectorType": "dense"
         }
        ],
        [
         {
          "length": 15,
          "values": [
           26,
           575,
           1,
           3,
           73,
           3,
           1,
           1,
           3102,
           6,
           4,
           4,
           0,
           4,
           3
          ],
          "vectorType": "dense"
         },
         1,
         0,
         {
          "length": 2,
          "values": [
           0.8329972953360083,
           0.1670027046639917
          ],
          "vectorType": "dense"
         }
        ],
        [
         {
          "length": 15,
          "values": [
           26,
           1330,
           3,
           21,
           37,
           3,
           1,
           3,
           2377,
           1,
           1,
           0,
           1,
           4,
           1
          ],
          "vectorType": "dense"
         },
         1,
         0,
         {
          "length": 2,
          "values": [
           0.8083418655341886,
           0.19165813446581137
          ],
          "vectorType": "dense"
         }
        ],
        [
         {
          "length": 15,
          "values": [
           27,
           1277,
           5,
           8,
           87,
           1,
           1,
           3,
           4621,
           3,
           2,
           2,
           1,
           3,
           1
          ],
          "vectorType": "dense"
         },
         0,
         0,
         {
          "length": 2,
          "values": [
           0.8040846399898188,
           0.19591536001018117
          ],
          "vectorType": "dense"
         }
        ],
        [
         {
          "length": 15,
          "values": [
           27,
           294,
           2,
           10,
           32,
           3,
           3,
           1,
           8793,
           9,
           7,
           7,
           1,
           4,
           4
          ],
          "vectorType": "dense"
         },
         0,
         0,
         {
          "length": 2,
          "values": [
           0.8582908555867358,
           0.1417091444132642
          ],
          "vectorType": "dense"
         }
        ],
        [
         {
          "length": 15,
          "values": [
           27,
           591,
           3,
           2,
           87,
           3,
           1,
           4,
           2580,
           4,
           2,
           2,
           2,
           3,
           4
          ],
          "vectorType": "dense"
         },
         0,
         0,
         {
          "length": 2,
          "values": [
           0.836612323636822,
           0.16338767636317797
          ],
          "vectorType": "dense"
         }
        ],
        [
         {
          "length": 15,
          "values": [
           27,
           618,
           3,
           4,
           76,
           3,
           1,
           3,
           2318,
           1,
           1,
           0,
           1,
           3,
           2
          ],
          "vectorType": "dense"
         },
         0,
         0,
         {
          "length": 2,
          "values": [
           0.8172029044771879,
           0.1827970955228121
          ],
          "vectorType": "dense"
         }
        ],
        [
         {
          "length": 15,
          "values": [
           27,
           975,
           3,
           7,
           55,
           2,
           2,
           1,
           6811,
           7,
           6,
           7,
           8,
           3,
           4
          ],
          "vectorType": "dense"
         },
         0,
         0,
         {
          "length": 2,
          "values": [
           0.8326867378867638,
           0.16731326211323616
          ],
          "vectorType": "dense"
         }
        ],
        [
         {
          "length": 15,
          "values": [
           27,
           1054,
           3,
           8,
           67,
           3,
           1,
           4,
           3445,
           6,
           2,
           4,
           1,
           3,
           3
          ],
          "vectorType": "dense"
         },
         0,
         0,
         {
          "length": 2,
          "values": [
           0.8376188253250741,
           0.16238117467492585
          ],
          "vectorType": "dense"
         }
        ],
        [
         {
          "length": 15,
          "values": [
           27,
           1291,
           3,
           11,
           98,
           4,
           1,
           4,
           2534,
           1,
           0,
           0,
           8,
           3,
           3
          ],
          "vectorType": "dense"
         },
         0,
         0,
         {
          "length": 2,
          "values": [
           0.8226598182115185,
           0.17734018178848154
          ],
          "vectorType": "dense"
         }
        ],
        [
         {
          "length": 15,
          "values": [
           27,
           1302,
           3,
           19,
           67,
           2,
           1,
           1,
           4066,
           7,
           7,
           7,
           1,
           3,
           4
          ],
          "vectorType": "dense"
         },
         0,
         0,
         {
          "length": 2,
          "values": [
           0.8326419707513074,
           0.16735802924869259
          ],
          "vectorType": "dense"
         }
        ],
        [
         {
          "length": 15,
          "values": [
           27,
           1377,
           1,
           11,
           91,
           3,
           1,
           1,
           2099,
           5,
           0,
           4,
           0,
           3,
           2
          ],
          "vectorType": "dense"
         },
         0,
         0,
         {
          "length": 2,
          "values": [
           0.8183992177226811,
           0.1816007822773189
          ],
          "vectorType": "dense"
         }
        ],
        [
         {
          "length": 15,
          "values": [
           27,
           135,
           4,
           17,
           51,
           3,
           1,
           3,
           2394,
           8,
           2,
           7,
           1,
           3,
           4
          ],
          "vectorType": "dense"
         },
         1,
         0,
         {
          "length": 2,
          "values": [
           0.834874307651118,
           0.16512569234888197
          ],
          "vectorType": "dense"
         }
        ],
        [
         {
          "length": 15,
          "values": [
           27,
           1420,
           1,
           2,
           85,
           3,
           1,
           1,
           3041,
           4,
           3,
           2,
           0,
           3,
           3
          ],
          "vectorType": "dense"
         },
         1,
         0,
         {
          "length": 2,
          "values": [
           0.829830541840354,
           0.17016945815964601
          ],
          "vectorType": "dense"
         }
        ],
        [
         {
          "length": 15,
          "values": [
           28,
           280,
           2,
           1,
           43,
           3,
           1,
           4,
           2706,
           3,
           2,
           2,
           1,
           3,
           3
          ],
          "vectorType": "dense"
         },
         0,
         0,
         {
          "length": 2,
          "values": [
           0.8317354257005818,
           0.1682645742994182
          ],
          "vectorType": "dense"
         }
        ],
        [
         {
          "length": 15,
          "values": [
           28,
           1476,
           3,
           1,
           55,
           1,
           2,
           4,
           6674,
           9,
           8,
           5,
           0,
           3,
           3
          ],
          "vectorType": "dense"
         },
         0,
         0,
         {
          "length": 2,
          "values": [
           0.8485005366558671,
           0.1514994633441329
          ],
          "vectorType": "dense"
         }
        ],
        [
         {
          "length": 15,
          "values": [
           28,
           193,
           3,
           2,
           52,
           2,
           1,
           4,
           3867,
           2,
           2,
           2,
           1,
           3,
           4
          ],
          "vectorType": "dense"
         },
         0,
         0,
         {
          "length": 2,
          "values": [
           0.8278035394581031,
           0.17219646054189686
          ],
          "vectorType": "dense"
         }
        ],
        [
         {
          "length": 15,
          "values": [
           28,
           304,
           4,
           9,
           92,
           3,
           2,
           4,
           5253,
           7,
           5,
           7,
           1,
           3,
           2
          ],
          "vectorType": "dense"
         },
         0,
         0,
         {
          "length": 2,
          "values": [
           0.8473191866582751,
           0.1526808133417249
          ],
          "vectorType": "dense"
         }
        ],
        [
         {
          "length": 15,
          "values": [
           28,
           640,
           3,
           1,
           84,
           3,
           1,
           1,
           2080,
           3,
           2,
           2,
           2,
           3,
           4
          ],
          "vectorType": "dense"
         },
         0,
         0,
         {
          "length": 2,
          "values": [
           0.8259719921873289,
           0.17402800781267114
          ],
          "vectorType": "dense"
         }
        ],
        [
         {
          "length": 15,
          "values": [
           28,
           866,
           3,
           5,
           84,
           3,
           2,
           1,
           8463,
           5,
           4,
           3,
           0,
           3,
           4
          ],
          "vectorType": "dense"
         },
         0,
         0,
         {
          "length": 2,
          "values": [
           0.846572559033481,
           0.15342744096651895
          ],
          "vectorType": "dense"
         }
        ],
        [
         {
          "length": 15,
          "values": [
           28,
           895,
           2,
           15,
           50,
           3,
           1,
           3,
           2207,
           4,
           2,
           2,
           1,
           3,
           1
          ],
          "vectorType": "dense"
         },
         0,
         0,
         {
          "length": 2,
          "values": [
           0.8149638169605226,
           0.18503618303947744
          ],
          "vectorType": "dense"
         }
        ],
        [
         {
          "length": 15,
          "values": [
           28,
           995,
           3,
           9,
           77,
           3,
           1,
           3,
           2377,
           2,
           2,
           2,
           5,
           3,
           3
          ],
          "vectorType": "dense"
         },
         0,
         0,
         {
          "length": 2,
          "values": [
           0.8212073871337813,
           0.17879261286621873
          ],
          "vectorType": "dense"
         }
        ],
        [
         {
          "length": 15,
          "values": [
           28,
           1179,
           4,
           19,
           78,
           2,
           1,
           1,
           3196,
           6,
           5,
           3,
           1,
           3,
           4
          ],
          "vectorType": "dense"
         },
         0,
         0,
         {
          "length": 2,
          "values": [
           0.8224151029316735,
           0.17758489706832647
          ],
          "vectorType": "dense"
         }
        ],
        [
         {
          "length": 15,
          "values": [
           29,
           1404,
           3,
           20,
           84,
           3,
           1,
           4,
           2157,
           3,
           1,
           2,
           1,
           3,
           3
          ],
          "vectorType": "dense"
         },
         0,
         0,
         {
          "length": 2,
          "values": [
           0.8275835854300426,
           0.17241641456995738
          ],
          "vectorType": "dense"
         }
        ],
        [
         {
          "length": 15,
          "values": [
           29,
           469,
           3,
           10,
           42,
           2,
           2,
           3,
           5869,
           5,
           2,
           4,
           9,
           3,
           3
          ],
          "vectorType": "dense"
         },
         0,
         0,
         {
          "length": 2,
          "values": [
           0.8176807380670293,
           0.18231926193297066
          ],
          "vectorType": "dense"
         }
        ],
        [
         {
          "length": 15,
          "values": [
           29,
           738,
           5,
           9,
           30,
           2,
           1,
           4,
           3983,
           3,
           2,
           2,
           0,
           3,
           2
          ],
          "vectorType": "dense"
         },
         0,
         0,
         {
          "length": 2,
          "values": [
           0.8204477334239354,
           0.1795522665760646
          ],
          "vectorType": "dense"
         }
        ],
        [
         {
          "length": 15,
          "values": [
           29,
           986,
           4,
           3,
           93,
           2,
           3,
           3,
           11935,
           10,
           2,
           7,
           1,
           3,
           2
          ],
          "vectorType": "dense"
         },
         0,
         0,
         {
          "length": 2,
          "values": [
           0.8515265937357139,
           0.14847340626428607
          ],
          "vectorType": "dense"
         }
        ],
        [
         {
          "length": 15,
          "values": [
           29,
           1082,
           4,
           9,
           43,
           3,
           1,
           3,
           2974,
           5,
           3,
           2,
           9,
           3,
           4
          ],
          "vectorType": "dense"
         },
         0,
         0,
         {
          "length": 2,
          "values": [
           0.824618179069535,
           0.17538182093046495
          ],
          "vectorType": "dense"
         }
        ],
        [
         {
          "length": 15,
          "values": [
           29,
           1370,
           1,
           3,
           87,
           3,
           1,
           1,
           4723,
           10,
           9,
           5,
           1,
           3,
           2
          ],
          "vectorType": "dense"
         },
         0,
         0,
         {
          "length": 2,
          "values": [
           0.8437898013640485,
           0.15621019863595154
          ],
          "vectorType": "dense"
         }
        ],
        [
         {
          "length": 15,
          "values": [
           29,
           1401,
           1,
           6,
           54,
           3,
           1,
           4,
           3131,
           10,
           8,
           8,
           1,
           3,
           2
          ],
          "vectorType": "dense"
         },
         0,
         0,
         {
          "length": 2,
          "values": [
           0.8525941895467157,
           0.14740581045328427
          ],
          "vectorType": "dense"
         }
        ],
        [
         {
          "length": 15,
          "values": [
           29,
           459,
           2,
           24,
           73,
           2,
           1,
           4,
           2439,
           1,
           0,
           0,
           1,
           4,
           4
          ],
          "vectorType": "dense"
         },
         1,
         0,
         {
          "length": 2,
          "values": [
           0.8133867252854803,
           0.18661327471451972
          ],
          "vectorType": "dense"
         }
        ],
        [
         {
          "length": 15,
          "values": [
           29,
           408,
           1,
           23,
           45,
           2,
           3,
           1,
           7336,
           11,
           8,
           10,
           1,
           3,
           4
          ],
          "vectorType": "dense"
         },
         1,
         0,
         {
          "length": 2,
          "values": [
           0.8497716881179648,
           0.15022831188203523
          ],
          "vectorType": "dense"
         }
        ],
        [
         {
          "length": 15,
          "values": [
           29,
           805,
           2,
           1,
           36,
           2,
           1,
           1,
           2319,
           1,
           0,
           0,
           1,
           3,
           2
          ],
          "vectorType": "dense"
         },
         1,
         0,
         {
          "length": 2,
          "values": [
           0.8007352218383653,
           0.19926477816163468
          ],
          "vectorType": "dense"
         }
        ],
        [
         {
          "length": 15,
          "values": [
           29,
           896,
           1,
           18,
           86,
           2,
           1,
           4,
           2389,
           4,
           3,
           1,
           1,
           3,
           3
          ],
          "vectorType": "dense"
         },
         1,
         0,
         {
          "length": 2,
          "values": [
           0.8195719343573304,
           0.18042806564266956
          ],
          "vectorType": "dense"
         }
        ],
        [
         {
          "length": 15,
          "values": [
           30,
           1400,
           3,
           3,
           53,
           3,
           1,
           4,
           2097,
           5,
           3,
           4,
           4,
           3,
           3
          ],
          "vectorType": "dense"
         },
         0,
         0,
         {
          "length": 2,
          "values": [
           0.8378586807754868,
           0.16214131922451325
          ],
          "vectorType": "dense"
         }
        ],
        [
         {
          "length": 15,
          "values": [
           30,
           1312,
           3,
           23,
           96,
           1,
           1,
           3,
           2613,
           10,
           7,
           9,
           1,
           4,
           1
          ],
          "vectorType": "dense"
         },
         0,
         0,
         {
          "length": 2,
          "values": [
           0.8234438544961666,
           0.17655614550383336
          ],
          "vectorType": "dense"
         }
        ],
        [
         {
          "length": 15,
          "values": [
           30,
           570,
           3,
           5,
           30,
           2,
           2,
           3,
           6118,
           10,
           9,
           2,
           1,
           3,
           4
          ],
          "vectorType": "dense"
         },
         0,
         0,
         {
          "length": 2,
          "values": [
           0.8490812425023656,
           0.1509187574976344
          ],
          "vectorType": "dense"
         }
        ],
        [
         {
          "length": 15,
          "values": [
           30,
           853,
           4,
           7,
           49,
           3,
           2,
           3,
           3491,
           10,
           7,
           9,
           1,
           3,
           3
          ],
          "vectorType": "dense"
         },
         0,
         0,
         {
          "length": 2,
          "values": [
           0.8569772554246187,
           0.14302274457538133
          ],
          "vectorType": "dense"
         }
        ],
        [
         {
          "length": 15,
          "values": [
           30,
           911,
           2,
           1,
           76,
           3,
           1,
           2,
           3748,
           12,
           8,
           7,
           1,
           3,
           4
          ],
          "vectorType": "dense"
         },
         0,
         0,
         {
          "length": 2,
          "values": [
           0.8562898165505219,
           0.14371018344947806
          ],
          "vectorType": "dense"
         }
        ],
        [
         {
          "length": 15,
          "values": [
           30,
           1138,
           3,
           6,
           48,
           2,
           2,
           4,
           4627,
           9,
           2,
           7,
           0,
           3,
           1
          ],
          "vectorType": "dense"
         },
         0,
         0,
         {
          "length": 2,
          "values": [
           0.8371312622128456,
           0.16286873778715438
          ],
          "vectorType": "dense"
         }
        ],
        [
         {
          "length": 15,
          "values": [
           30,
           1275,
           2,
           28,
           64,
           3,
           2,
           4,
           5775,
           10,
           8,
           9,
           1,
           3,
           4
          ],
          "vectorType": "dense"
         },
         0,
         0,
         {
          "length": 2,
          "values": [
           0.8611664246953155,
           0.13883357530468454
          ],
          "vectorType": "dense"
         }
        ],
        [
         {
          "length": 15,
          "values": [
           30,
           1427,
           1,
           2,
           35,
           2,
           1,
           4,
           2720,
           5,
           3,
           2,
           0,
           3,
           2
          ],
          "vectorType": "dense"
         },
         0,
         0,
         {
          "length": 2,
          "values": [
           0.8283879967271532,
           0.17161200327284676
          ],
          "vectorType": "dense"
         }
        ],
        [
         {
          "length": 15,
          "values": [
           30,
           109,
           3,
           5,
           60,
           3,
           1,
           2,
           2422,
           3,
           2,
           2,
           0,
           3,
           2
          ],
          "vectorType": "dense"
         },
         1,
         0,
         {
          "length": 2,
          "values": [
           0.8202628493798348,
           0.17973715062016515
          ],
          "vectorType": "dense"
         }
        ],
        [
         {
          "length": 15,
          "values": [
           31,
           106,
           3,
           2,
           62,
           2,
           2,
           1,
           6410,
           2,
           2,
           0,
           3,
           3,
           1
          ],
          "vectorType": "dense"
         },
         0,
         0,
         {
          "length": 2,
          "values": [
           0.8062946309921605,
           0.19370536900783952
          ],
          "vectorType": "dense"
         }
        ],
        [
         {
          "length": 15,
          "values": [
           31,
           192,
           4,
           2,
           32,
           3,
           1,
           4,
           2695,
           2,
           2,
           2,
           0,
           3,
           3
          ],
          "vectorType": "dense"
         },
         0,
         0,
         {
          "length": 2,
          "values": [
           0.8338909380609366,
           0.16610906193906338
          ],
          "vectorType": "dense"
         }
        ],
        [
         {
          "length": 15,
          "values": [
           31,
           311,
           3,
           20,
           89,
           3,
           2,
           3,
           4197,
           10,
           8,
           2,
           1,
           3,
           2
          ],
          "vectorType": "dense"
         },
         0,
         0,
         {
          "length": 2,
          "values": [
           0.8394439358855469,
           0.1605560641144531
          ],
          "vectorType": "dense"
         }
        ],
        [
         {
          "length": 15,
          "values": [
           31,
           741,
           4,
           2,
           69,
           3,
           1,
           3,
           3477,
           5,
           2,
           3,
           1,
           3,
           2
          ],
          "vectorType": "dense"
         },
         0,
         0,
         {
          "length": 2,
          "values": [
           0.8317429693848368,
           0.16825703061516317
          ],
          "vectorType": "dense"
         }
        ],
        [
         {
          "length": 15,
          "values": [
           31,
           828,
           1,
           2,
           77,
           3,
           2,
           4,
           6582,
           6,
           5,
           5,
           4,
           3,
           2
          ],
          "vectorType": "dense"
         },
         0,
         0,
         {
          "length": 2,
          "values": [
           0.847430825772189,
           0.15256917422781102
          ],
          "vectorType": "dense"
         }
        ],
        [
         {
          "length": 15,
          "values": [
           31,
           1003,
           3,
           5,
           51,
           3,
           2,
           3,
           8346,
           5,
           2,
           2,
           1,
           3,
           1
          ],
          "vectorType": "dense"
         },
         0,
         0,
         {
          "length": 2,
          "values": [
           0.8360322627307839,
           0.1639677372692161
          ],
          "vectorType": "dense"
         }
        ],
        [
         {
          "length": 15,
          "values": [
           31,
           1274,
           1,
           9,
           33,
           3,
           3,
           2,
           10648,
           13,
           8,
           8,
           1,
           4,
           3
          ],
          "vectorType": "dense"
         },
         0,
         0,
         {
          "length": 2,
          "values": [
           0.8701108680484587,
           0.12988913195154128
          ],
          "vectorType": "dense"
         }
        ],
        [
         {
          "length": 15,
          "values": [
           31,
           523,
           3,
           2,
           94,
           3,
           1,
           4,
           3722,
           2,
           2,
           2,
           6,
           3,
           2
          ],
          "vectorType": "dense"
         },
         1,
         0,
         {
          "length": 2,
          "values": [
           0.8237937986369338,
           0.1762062013630662
          ],
          "vectorType": "dense"
         }
        ],
        [
         {
          "length": 15,
          "values": [
           32,
           1109,
           4,
           29,
           69,
           3,
           1,
           3,
           4025,
           8,
           7,
           7,
           9,
           3,
           4
          ],
          "vectorType": "dense"
         },
         0,
         0,
         {
          "length": 2,
          "values": [
           0.8351374651456298,
           0.1648625348543702
          ],
          "vectorType": "dense"
         }
        ],
        [
         {
          "length": 15,
          "values": [
           32,
           1146,
           4,
           15,
           34,
           3,
           2,
           4,
           6667,
           5,
           1,
           2,
           5,
           3,
           3
          ],
          "vectorType": "dense"
         },
         0,
         0,
         {
          "length": 2,
          "values": [
           0.8357620503496315,
           0.16423794965036853
          ],
          "vectorType": "dense"
         }
        ],
        [
         {
          "length": 15,
          "values": [
           32,
           379,
           2,
           5,
           48,
           3,
           2,
           2,
           6524,
           10,
           8,
           3,
           1,
           3,
           2
          ],
          "vectorType": "dense"
         },
         0,
         0,
         {
          "length": 2,
          "values": [
           0.8463592137604036,
           0.15364078623959643
          ],
          "vectorType": "dense"
         }
        ],
        [
         {
          "length": 15,
          "values": [
           32,
           585,
           3,
           10,
           56,
           3,
           1,
           3,
           3433,
           5,
           2,
           3,
           6,
           3,
           1
          ],
          "vectorType": "dense"
         },
         0,
         0,
         {
          "length": 2,
          "values": [
           0.8147602629570865,
           0.18523973704291352
          ],
          "vectorType": "dense"
         }
        ],
        [
         {
          "length": 15,
          "values": [
           32,
           967,
           3,
           8,
           43,
           3,
           3,
           4,
           8998,
           9,
           8,
           7,
           1,
           3,
           2
          ],
          "vectorType": "dense"
         },
         0,
         0,
         {
          "length": 2,
          "values": [
           0.8655060544317916,
           0.13449394556820837
          ],
          "vectorType": "dense"
         }
        ],
        [
         {
          "length": 15,
          "values": [
           32,
           1316,
           2,
           2,
           38,
           3,
           2,
           3,
           4998,
           8,
           7,
           7,
           4,
           3,
           4
          ],
          "vectorType": "dense"
         },
         0,
         0,
         {
          "length": 2,
          "values": [
           0.8593187273851025,
           0.1406812726148975
          ],
          "vectorType": "dense"
         }
        ],
        [
         {
          "length": 15,
          "values": [
           32,
           267,
           4,
           29,
           49,
           2,
           1,
           2,
           2837,
           6,
           2,
           1,
           1,
           3,
           3
          ],
          "vectorType": "dense"
         },
         0,
         0,
         {
          "length": 2,
          "values": [
           0.8056928492661188,
           0.19430715073388116
          ],
          "vectorType": "dense"
         }
        ],
        [
         {
          "length": 15,
          "values": [
           32,
           638,
           2,
           8,
           91,
           4,
           2,
           3,
           5175,
           5,
           3,
           3,
           5,
           3,
           3
          ],
          "vectorType": "dense"
         },
         0,
         0,
         {
          "length": 2,
          "values": [
           0.8451643778652123,
           0.15483562213478774
          ],
          "vectorType": "dense"
         }
        ],
        [
         {
          "length": 15,
          "values": [
           32,
           801,
           4,
           1,
           48,
           3,
           3,
           4,
           10422,
           14,
           10,
           7,
           1,
           3,
           3
          ],
          "vectorType": "dense"
         },
         0,
         0,
         {
          "length": 2,
          "values": [
           0.8778436271427601,
           0.1221563728572399
          ],
          "vectorType": "dense"
         }
        ],
        [
         {
          "length": 15,
          "values": [
           32,
           977,
           3,
           2,
           45,
           3,
           2,
           2,
           5470,
           9,
           5,
           6,
           0,
           3,
           4
          ],
          "vectorType": "dense"
         },
         0,
         0,
         {
          "length": 2,
          "values": [
           0.8576017872507588,
           0.14239821274924125
          ],
          "vectorType": "dense"
         }
        ],
        [
         {
          "length": 15,
          "values": [
           32,
           1093,
           4,
           6,
           87,
           3,
           2,
           3,
           5010,
           11,
           8,
           7,
           1,
           3,
           2
          ],
          "vectorType": "dense"
         },
         0,
         0,
         {
          "length": 2,
          "values": [
           0.8571778889446993,
           0.14282211105530074
          ],
          "vectorType": "dense"
         }
        ],
        [
         {
          "length": 15,
          "values": [
           32,
           1401,
           2,
           4,
           56,
           3,
           1,
           2,
           3931,
           4,
           3,
           2,
           2,
           3,
           3
          ],
          "vectorType": "dense"
         },
         0,
         0,
         {
          "length": 2,
          "values": [
           0.8333555274194717,
           0.16664447258052828
          ],
          "vectorType": "dense"
         }
        ],
        [
         {
          "length": 15,
          "values": [
           32,
           515,
           3,
           1,
           62,
           2,
           1,
           3,
           3730,
           3,
           2,
           2,
           0,
           3,
           4
          ],
          "vectorType": "dense"
         },
         1,
         0,
         {
          "length": 2,
          "values": [
           0.8311105875321556,
           0.1688894124678444
          ],
          "vectorType": "dense"
         }
        ],
        [
         {
          "length": 15,
          "values": [
           32,
           1259,
           4,
           2,
           95,
           3,
           1,
           2,
           1393,
           1,
           0,
           0,
           1,
           3,
           4
          ],
          "vectorType": "dense"
         },
         1,
         0,
         {
          "length": 2,
          "values": [
           0.8283356579420031,
           0.17166434205799685
          ],
          "vectorType": "dense"
         }
        ],
        [
         {
          "length": 15,
          "values": [
           33,
           750,
           2,
           22,
           95,
           3,
           2,
           2,
           6146,
           7,
           7,
           7,
           0,
           3,
           3
          ],
          "vectorType": "dense"
         },
         0,
         0,
         {
          "length": 2,
          "values": [
           0.8496153895019095,
           0.1503846104980905
          ],
          "vectorType": "dense"
         }
        ],
        [
         {
          "length": 15,
          "values": [
           33,
           1111,
           1,
           5,
           61,
           3,
           2,
           4,
           9998,
           5,
           4,
           2,
           6,
           3,
           2
          ],
          "vectorType": "dense"
         },
         0,
         0,
         {
          "length": 2,
          "values": [
           0.8431001790625148,
           0.15689982093748522
          ],
          "vectorType": "dense"
         }
        ],
        [
         {
          "length": 15,
          "values": [
           33,
           217,
           4,
           10,
           43,
           3,
           2,
           3,
           5487,
           10,
           4,
           9,
           1,
           3,
           2
          ],
          "vectorType": "dense"
         },
         0,
         0,
         {
          "length": 2,
          "values": [
           0.8487234215376037,
           0.15127657846239628
          ],
          "vectorType": "dense"
         }
        ],
        [
         {
          "length": 15,
          "values": [
           33,
           832,
           4,
           5,
           63,
           2,
           1,
           4,
           2911,
           2,
           2,
           2,
           1,
           3,
           3
          ],
          "vectorType": "dense"
         },
         0,
         0,
         {
          "length": 2,
          "values": [
           0.8273109382065419,
           0.1726890617934581
          ],
          "vectorType": "dense"
         }
        ],
        [
         {
          "length": 15,
          "values": [
           33,
           1069,
           3,
           1,
           42,
           2,
           2,
           4,
           6949,
           5,
           0,
           4,
           0,
           3,
           2
          ],
          "vectorType": "dense"
         },
         0,
         0,
         {
          "length": 2,
          "values": [
           0.8382230090762455,
           0.16177699092375453
          ],
          "vectorType": "dense"
         }
        ],
        [
         {
          "length": 15,
          "values": [
           33,
           1099,
           4,
           4,
           82,
           2,
           1,
           2,
           3838,
           5,
           4,
           2,
           8,
           3,
           1
          ],
          "vectorType": "dense"
         },
         0,
         0,
         {
          "length": 2,
          "values": [
           0.8073107925359327,
           0.19268920746406726
          ],
          "vectorType": "dense"
         }
        ],
        [
         {
          "length": 15,
          "values": [
           33,
           1076,
           3,
           3,
           70,
           3,
           1,
           1,
           3348,
           10,
           8,
           7,
           1,
           3,
           1
          ],
          "vectorType": "dense"
         },
         1,
         0,
         {
          "length": 2,
          "values": [
           0.8404247134710984,
           0.15957528652890163
          ],
          "vectorType": "dense"
         }
        ],
        [
         {
          "length": 15,
          "values": [
           33,
           118,
           3,
           16,
           69,
           3,
           2,
           1,
           5324,
           3,
           2,
           2,
           5,
           3,
           1
          ],
          "vectorType": "dense"
         },
         1,
         0,
         {
          "length": 2,
          "values": [
           0.8098544528251173,
           0.19014554717488275
          ],
          "vectorType": "dense"
         }
        ],
        [
         {
          "length": 15,
          "values": [
           33,
           350,
           3,
           5,
           34,
           3,
           1,
           3,
           2851,
           1,
           0,
           0,
           1,
           3,
           4
          ],
          "vectorType": "dense"
         },
         1,
         0,
         {
          "length": 2,
          "values": [
           0.8274780824896518,
           0.17252191751034818
          ],
          "vectorType": "dense"
         }
        ],
        [
         {
          "length": 15,
          "values": [
           34,
           1065,
           4,
           23,
           72,
           3,
           2,
           3,
           4568,
           9,
           5,
           7,
           0,
           4,
           2
          ],
          "vectorType": "dense"
         },
         0,
         0,
         {
          "length": 2,
          "values": [
           0.8488024534931358,
           0.15119754650686423
          ],
          "vectorType": "dense"
         }
        ],
        [
         {
          "length": 15,
          "values": [
           34,
           653,
           4,
           10,
           92,
           2,
           2,
           3,
           5063,
           8,
           2,
           7,
           1,
           3,
           4
          ],
          "vectorType": "dense"
         },
         0,
         0,
         {
          "length": 2,
          "values": [
           0.845263746907708,
           0.154736253092292
          ],
          "vectorType": "dense"
         }
        ],
        [
         {
          "length": 15,
          "values": [
           34,
           829,
           3,
           15,
           71,
           3,
           4,
           1,
           17007,
           14,
           8,
           9,
           7,
           3,
           2
          ],
          "vectorType": "dense"
         },
         0,
         0,
         {
          "length": 2,
          "values": [
           0.8650083377614829,
           0.1349916622385171
          ],
          "vectorType": "dense"
         }
        ],
        [
         {
          "length": 15,
          "values": [
           34,
           878,
           4,
           10,
           43,
           3,
           1,
           3,
           3815,
           5,
           3,
           0,
           1,
           3,
           4
          ],
          "vectorType": "dense"
         },
         0,
         0,
         {
          "length": 2,
          "values": [
           0.8370778850189069,
           0.1629221149810931
          ],
          "vectorType": "dense"
         }
        ],
        [
         {
          "length": 15,
          "values": [
           34,
           121,
           4,
           2,
           86,
           2,
           1,
           1,
           4381,
           6,
           5,
           3,
           1,
           3,
           3
          ],
          "vectorType": "dense"
         },
         0,
         0,
         {
          "length": 2,
          "values": [
           0.8265927065681599,
           0.17340729343184014
          ],
          "vectorType": "dense"
         }
        ],
        [
         {
          "length": 15,
          "values": [
           34,
           181,
           4,
           2,
           97,
           4,
           1,
           4,
           2932,
           5,
           0,
           2,
           0,
           3,
           4
          ],
          "vectorType": "dense"
         },
         0,
         0,
         {
          "length": 2,
          "values": [
           0.8489870407783571,
           0.15101295922164293
          ],
          "vectorType": "dense"
         }
        ],
        [
         {
          "length": 15,
          "values": [
           34,
           182,
           4,
           1,
           72,
           4,
           1,
           4,
           3280,
           4,
           2,
           3,
           2,
           3,
           2
          ],
          "vectorType": "dense"
         },
         0,
         0,
         {
          "length": 2,
          "values": [
           0.841493841834601,
           0.15850615816539904
          ],
          "vectorType": "dense"
         }
        ],
        [
         {
          "length": 15,
          "values": [
           34,
           254,
           2,
           1,
           83,
           2,
           1,
           4,
           3622,
           6,
           5,
           3,
           1,
           3,
           2
          ],
          "vectorType": "dense"
         },
         0,
         0,
         {
          "length": 2,
          "values": [
           0.8324219591394411,
           0.16757804086055894
          ],
          "vectorType": "dense"
         }
        ],
        [
         {
          "length": 15,
          "values": [
           34,
           258,
           4,
           21,
           74,
           4,
           2,
           4,
           5337,
           10,
           7,
           7,
           1,
           3,
           4
          ],
          "vectorType": "dense"
         },
         0,
         0,
         {
          "length": 2,
          "values": [
           0.866006889101277,
           0.133993110898723
          ],
          "vectorType": "dense"
         }
        ],
        [
         {
          "length": 15,
          "values": [
           34,
           401,
           3,
           1,
           86,
           2,
           1,
           2,
           3294,
           5,
           4,
           2,
           5,
           3,
           4
          ],
          "vectorType": "dense"
         },
         0,
         0,
         {
          "length": 2,
          "values": [
           0.8251565256026896,
           0.1748434743973104
          ],
          "vectorType": "dense"
         }
        ],
        [
         {
          "length": 15,
          "values": [
           34,
           507,
           2,
           15,
           66,
           3,
           2,
           1,
           6125,
           10,
           8,
           6,
           1,
           3,
           3
          ],
          "vectorType": "dense"
         },
         0,
         0,
         {
          "length": 2,
          "values": [
           0.8488528717321401,
           0.15114712826785992
          ],
          "vectorType": "dense"
         }
        ],
        [
         {
          "length": 15,
          "values": [
           34,
           704,
           3,
           28,
           95,
           2,
           2,
           3,
           6712,
           8,
           7,
           7,
           1,
           4,
           4
          ],
          "vectorType": "dense"
         },
         0,
         0,
         {
          "length": 2,
          "values": [
           0.8492335571261385,
           0.15076644287386154
          ],
          "vectorType": "dense"
         }
        ],
        [
         {
          "length": 15,
          "values": [
           34,
           829,
           2,
           3,
           88,
           3,
           1,
           4,
           3737,
           3,
           2,
           2,
           0,
           3,
           3
          ],
          "vectorType": "dense"
         },
         0,
         0,
         {
          "length": 2,
          "values": [
           0.8408290032225157,
           0.15917099677748425
          ],
          "vectorType": "dense"
         }
        ],
        [
         {
          "length": 15,
          "values": [
           34,
           943,
           3,
           9,
           86,
           3,
           3,
           4,
           8500,
           9,
           7,
           6,
           0,
           3,
           4
          ],
          "vectorType": "dense"
         },
         0,
         0,
         {
          "length": 2,
          "values": [
           0.8727180788389054,
           0.1272819211610946
          ],
          "vectorType": "dense"
         }
        ],
        [
         {
          "length": 15,
          "values": [
           34,
           1239,
           4,
           13,
           39,
           3,
           3,
           3,
           8628,
           8,
           7,
           1,
           1,
           3,
           4
          ],
          "vectorType": "dense"
         },
         0,
         0,
         {
          "length": 2,
          "values": [
           0.861120251721786,
           0.13887974827821403
          ],
          "vectorType": "dense"
         }
        ],
        [
         {
          "length": 15,
          "values": [
           34,
           1397,
           5,
           1,
           42,
           3,
           1,
           4,
           2691,
           10,
           9,
           8,
           1,
           3,
           2
          ],
          "vectorType": "dense"
         },
         0,
         0,
         {
          "length": 2,
          "values": [
           0.8588665926313752,
           0.14113340736862479
          ],
          "vectorType": "dense"
         }
        ],
        [
         {
          "length": 15,
          "values": [
           34,
           658,
           3,
           7,
           66,
           1,
           2,
           3,
           6074,
           9,
           7,
           6,
           1,
           4,
           1
          ],
          "vectorType": "dense"
         },
         1,
         0,
         {
          "length": 2,
          "values": [
           0.8344935384917206,
           0.1655064615082794
          ],
          "vectorType": "dense"
         }
        ],
        [
         {
          "length": 15,
          "values": [
           35,
           727,
           3,
           3,
           41,
           2,
           1,
           3,
           1281,
           1,
           0,
           0,
           1,
           3,
           3
          ],
          "vectorType": "dense"
         },
         0,
         0,
         {
          "length": 2,
          "values": [
           0.8157936957304104,
           0.18420630426958962
          ],
          "vectorType": "dense"
         }
        ],
        [
         {
          "length": 15,
          "values": [
           35,
           1097,
           2,
           11,
           79,
           2,
           3,
           1,
           9884,
           4,
           0,
           3,
           2,
           3,
           3
          ],
          "vectorType": "dense"
         },
         0,
         0,
         {
          "length": 2,
          "values": [
           0.8335843697825804,
           0.16641563021741956
          ],
          "vectorType": "dense"
         }
        ],
        [
         {
          "length": 15,
          "values": [
           35,
           146,
           4,
           2,
           79,
           2,
           1,
           4,
           4930,
           5,
           4,
           4,
           0,
           3,
           1
          ],
          "vectorType": "dense"
         },
         0,
         0,
         {
          "length": 2,
          "values": [
           0.8300848476088405,
           0.1699151523911595
          ],
          "vectorType": "dense"
         }
        ],
        [
         {
          "length": 15,
          "values": [
           35,
           144,
           3,
           22,
           46,
           1,
           1,
           3,
           4230,
           5,
           4,
           3,
           0,
           3,
           4
          ],
          "vectorType": "dense"
         },
         0,
         0,
         {
          "length": 2,
          "values": [
           0.8191480306333652,
           0.18085196936663483
          ],
          "vectorType": "dense"
         }
        ],
        [
         {
          "length": 15,
          "values": [
           35,
           384,
           4,
           8,
           72,
           3,
           1,
           4,
           2572,
           3,
           2,
           2,
           1,
           3,
           1
          ],
          "vectorType": "dense"
         },
         0,
         0,
         {
          "length": 2,
          "values": [
           0.8252882791282918,
           0.17471172087170816
          ],
          "vectorType": "dense"
         }
        ],
        [
         {
          "length": 15,
          "values": [
           35,
           464,
           2,
           4,
           75,
           3,
           1,
           4,
           1951,
           1,
           0,
           0,
           1,
           3,
           3
          ],
          "vectorType": "dense"
         },
         0,
         0,
         {
          "length": 2,
          "values": [
           0.828379193338958,
           0.17162080666104196
          ],
          "vectorType": "dense"
         }
        ],
        [
         {
          "length": 15,
          "values": [
           35,
           538,
           2,
           25,
           54,
           2,
           2,
           4,
           3681,
           3,
           2,
           2,
           4,
           3,
           1
          ],
          "vectorType": "dense"
         },
         0,
         0,
         {
          "length": 2,
          "values": [
           0.8100237220242085,
           0.18997627797579153
          ],
          "vectorType": "dense"
         }
        ],
        [
         {
          "length": 15,
          "values": [
           35,
           607,
           3,
           9,
           66,
           2,
           3,
           3,
           10685,
           17,
           14,
           15,
           1,
           4,
           4
          ],
          "vectorType": "dense"
         },
         0,
         0,
         {
          "length": 2,
          "values": [
           0.8871757025841195,
           0.11282429741588051
          ],
          "vectorType": "dense"
         }
        ],
        [
         {
          "length": 15,
          "values": [
           35,
           670,
           4,
           10,
           51,
           3,
           2,
           3,
           6142,
           5,
           2,
           4,
           3,
           3,
           1
          ],
          "vectorType": "dense"
         },
         0,
         0,
         {
          "length": 2,
          "values": [
           0.8324640929035364,
           0.1675359070964636
          ],
          "vectorType": "dense"
         }
        ],
        [
         {
          "length": 15,
          "values": [
           35,
           735,
           1,
           6,
           66,
           3,
           1,
           3,
           3506,
           3,
           2,
           2,
           0,
           3,
           3
          ],
          "vectorType": "dense"
         },
         0,
         0,
         {
          "length": 2,
          "values": [
           0.8354603229582072,
           0.16453967704179284
          ],
          "vectorType": "dense"
         }
        ],
        [
         {
          "length": 15,
          "values": [
           35,
           950,
           3,
           7,
           59,
           3,
           3,
           3,
           10221,
           8,
           5,
           6,
           3,
           4,
           3
          ],
          "vectorType": "dense"
         },
         0,
         0,
         {
          "length": 2,
          "values": [
           0.8636654232899352,
           0.13633457671006477
          ],
          "vectorType": "dense"
         }
        ],
        [
         {
          "length": 15,
          "values": [
           35,
           1224,
           4,
           7,
           55,
           3,
           2,
           4,
           5204,
           10,
           8,
           9,
           1,
           3,
           3
          ],
          "vectorType": "dense"
         },
         0,
         0,
         {
          "length": 2,
          "values": [
           0.8674257753408197,
           0.13257422465918034
          ],
          "vectorType": "dense"
         }
        ],
        [
         {
          "length": 15,
          "values": [
           35,
           1402,
           4,
           28,
           98,
           2,
           1,
           3,
           2430,
           5,
           3,
           2,
           0,
           4,
           2
          ],
          "vectorType": "dense"
         },
         0,
         0,
         {
          "length": 2,
          "values": [
           0.8200958100978221,
           0.17990418990217794
          ],
          "vectorType": "dense"
         }
        ],
        [
         {
          "length": 15,
          "values": [
           35,
           130,
           4,
           25,
           96,
           3,
           1,
           2,
           2022,
           10,
           2,
           8,
           1,
           3,
           4
          ],
          "vectorType": "dense"
         },
         1,
         0,
         {
          "length": 2,
          "values": [
           0.8363960804170594,
           0.16360391958294063
          ],
          "vectorType": "dense"
         }
        ],
        [
         {
          "length": 15,
          "values": [
           36,
           635,
           4,
           10,
           32,
           3,
           3,
           4,
           9980,
           10,
           3,
           7,
           1,
           3,
           2
          ],
          "vectorType": "dense"
         },
         0,
         0,
         {
          "length": 2,
          "values": [
           0.8606385391580061,
           0.13936146084199386
          ],
          "vectorType": "dense"
         }
        ],
        [
         {
          "length": 15,
          "values": [
           36,
           1105,
           4,
           24,
           47,
           3,
           2,
           2,
           5674,
           9,
           8,
           8,
           7,
           3,
           2
          ],
          "vectorType": "dense"
         },
         0,
         0,
         {
          "length": 2,
          "values": [
           0.8407199610031661,
           0.15928003899683385
          ],
          "vectorType": "dense"
         }
        ],
        [
         {
          "length": 15,
          "values": [
           36,
           1302,
           4,
           6,
           80,
           4,
           2,
           1,
           5562,
           3,
           2,
           2,
           3,
           3,
           1
          ],
          "vectorType": "dense"
         },
         0,
         0,
         {
          "length": 2,
          "values": [
           0.8350837352704867,
           0.16491626472951326
          ],
          "vectorType": "dense"
         }
        ],
        [
         {
          "length": 15,
          "values": [
           36,
           132,
           3,
           6,
           55,
           4,
           1,
           4,
           3038,
           1,
           0,
           0,
           3,
           3,
           2
          ],
          "vectorType": "dense"
         },
         0,
         0,
         {
          "length": 2,
          "values": [
           0.8288274561574148,
           0.17117254384258518
          ],
          "vectorType": "dense"
         }
        ],
        [
         {
          "length": 15,
          "values": [
           36,
           188,
           4,
           7,
           65,
           3,
           1,
           4,
           4678,
           6,
           2,
           1,
           2,
           3,
           2
          ],
          "vectorType": "dense"
         },
         0,
         0,
         {
          "length": 2,
          "values": [
           0.8316311038928332,
           0.16836889610716677
          ],
          "vectorType": "dense"
         }
        ],
        [
         {
          "length": 15,
          "values": [
           36,
           311,
           3,
           7,
           77,
           3,
           1,
           2,
           2013,
           4,
           3,
           3,
           2,
           3,
           1
          ],
          "vectorType": "dense"
         },
         0,
         0,
         {
          "length": 2,
          "values": [
           0.8202123703452988,
           0.1797876296547012
          ],
          "vectorType": "dense"
         }
        ],
        [
         {
          "length": 15,
          "values": [
           36,
           329,
           3,
           2,
           96,
           3,
           1,
           3,
           2543,
           2,
           2,
           2,
           4,
           3,
           4
          ],
          "vectorType": "dense"
         },
         0,
         0,
         {
          "length": 2,
          "values": [
           0.8338592998376821,
           0.16614070016231786
          ],
          "vectorType": "dense"
         }
        ],
        [
         {
          "length": 15,
          "values": [
           36,
           796,
           5,
           12,
           51,
           2,
           3,
           4,
           8858,
           14,
           8,
           8,
           0,
           3,
           4
          ],
          "vectorType": "dense"
         },
         0,
         0,
         {
          "length": 2,
          "values": [
           0.8714260146021904,
           0.12857398539780962
          ],
          "vectorType": "dense"
         }
        ],
        [
         {
          "length": 15,
          "values": [
           36,
           1040,
           2,
           3,
           79,
           4,
           2,
           1,
           6842,
           5,
           4,
           4,
           6,
           4,
           4
          ],
          "vectorType": "dense"
         },
         0,
         0,
         {
          "length": 2,
          "values": [
           0.8541608061937201,
           0.14583919380627985
          ],
          "vectorType": "dense"
         }
        ],
        [
         {
          "length": 15,
          "values": [
           36,
           1299,
           3,
           27,
           94,
           3,
           2,
           3,
           5237,
           7,
           7,
           7,
           6,
           3,
           3
          ],
          "vectorType": "dense"
         },
         0,
         0,
         {
          "length": 2,
          "values": [
           0.845609979791287,
           0.15439002020871295
          ],
          "vectorType": "dense"
         }
        ],
        [
         {
          "length": 15,
          "values": [
           36,
           885,
           4,
           16,
           43,
           4,
           1,
           1,
           2743,
           17,
           13,
           14,
           1,
           3,
           3
          ],
          "vectorType": "dense"
         },
         1,
         0,
         {
          "length": 2,
          "values": [
           0.8709946710508365,
           0.1290053289491635
          ],
          "vectorType": "dense"
         }
        ],
        [
         {
          "length": 15,
          "values": [
           36,
           1456,
           5,
           13,
           96,
           2,
           2,
           1,
           6134,
           2,
           2,
           2,
           5,
           3,
           2
          ],
          "vectorType": "dense"
         },
         1,
         0,
         {
          "length": 2,
          "values": [
           0.8167177995964661,
           0.18328220040353393
          ],
          "vectorType": "dense"
         }
        ],
        [
         {
          "length": 15,
          "values": [
           37,
           142,
           4,
           9,
           69,
           3,
           3,
           2,
           8834,
           9,
           5,
           7,
           1,
           3,
           1
          ],
          "vectorType": "dense"
         },
         0,
         0,
         {
          "length": 2,
          "values": [
           0.8511076485009303,
           0.14889235149906965
          ],
          "vectorType": "dense"
         }
        ],
        [
         {
          "length": 15,
          "values": [
           37,
           1231,
           2,
           21,
           54,
           3,
           1,
           4,
           2973,
           5,
           4,
           0,
           5,
           3,
           3
          ],
          "vectorType": "dense"
         },
         0,
         0,
         {
          "length": 2,
          "values": [
           0.8290842968935703,
           0.17091570310642967
          ],
          "vectorType": "dense"
         }
        ],
        [
         {
          "length": 15,
          "values": [
           37,
           1278,
           4,
           1,
           31,
           1,
           2,
           4,
           9525,
           6,
           3,
           3,
           1,
           3,
           3
          ],
          "vectorType": "dense"
         },
         0,
         0,
         {
          "length": 2,
          "values": [
           0.8429320250672078,
           0.15706797493279223
          ],
          "vectorType": "dense"
         }
        ],
        [
         {
          "length": 15,
          "values": [
           37,
           161,
           3,
           10,
           42,
           4,
           3,
           4,
           13744,
           16,
           11,
           8,
           1,
           4,
           3
          ],
          "vectorType": "dense"
         },
         0,
         0,
         {
          "length": 2,
          "values": [
           0.889365025949775,
           0.11063497405022504
          ],
          "vectorType": "dense"
         }
        ],
        [
         {
          "length": 15,
          "values": [
           37,
           446,
           4,
           1,
           65,
           3,
           2,
           2,
           6447,
           6,
           5,
           3,
           6,
           3,
           2
          ],
          "vectorType": "dense"
         },
         0,
         0,
         {
          "length": 2,
          "values": [
           0.8378956309004332,
           0.16210436909956683
          ],
          "vectorType": "dense"
         }
        ],
        [
         {
          "length": 15,
          "values": [
           37,
           571,
           1,
           10,
           82,
           3,
           1,
           1,
           2782,
           5,
           3,
           3,
           0,
           3,
           4
          ],
          "vectorType": "dense"
         },
         0,
         0,
         {
          "length": 2,
          "values": [
           0.8356305622906686,
           0.16436943770933143
          ],
          "vectorType": "dense"
         }
        ],
        [
         {
          "length": 15,
          "values": [
           37,
           1189,
           3,
           3,
           87,
           3,
           3,
           4,
           7428,
           5,
           3,
           3,
           2,
           3,
           3
          ],
          "vectorType": "dense"
         },
         0,
         0,
         {
          "length": 2,
          "values": [
           0.859165437290253,
           0.14083456270974704
          ],
          "vectorType": "dense"
         }
        ],
        [
         {
          "length": 15,
          "values": [
           37,
           1192,
           2,
           5,
           61,
           3,
           2,
           4,
           6347,
           6,
           2,
           4,
           7,
           3,
           4
          ],
          "vectorType": "dense"
         },
         0,
         0,
         {
          "length": 2,
          "values": [
           0.8495973596367932,
           0.15040264036320683
          ],
          "vectorType": "dense"
         }
        ],
        [
         {
          "length": 15,
          "values": [
           37,
           1470,
           3,
           10,
           71,
           3,
           1,
           2,
           3936,
           8,
           4,
           7,
           1,
           3,
           2
          ],
          "vectorType": "dense"
         },
         0,
         0,
         {
          "length": 2,
          "values": [
           0.8428555328777172,
           0.1571444671222828
          ],
          "vectorType": "dense"
         }
        ],
        [
         {
          "length": 15,
          "values": [
           37,
           504,
           3,
           10,
           61,
           3,
           3,
           3,
           10048,
           1,
           0,
           0,
           6,
           3,
           1
          ],
          "vectorType": "dense"
         },
         1,
         0,
         {
          "length": 2,
          "values": [
           0.8269705701596938,
           0.17302942984030623
          ],
          "vectorType": "dense"
         }
        ],
        [
         {
          "length": 15,
          "values": [
           38,
           888,
           4,
           10,
           71,
           3,
           2,
           3,
           6077,
           6,
           3,
           2,
           3,
           3,
           3
          ],
          "vectorType": "dense"
         },
         0,
         0,
         {
          "length": 2,
          "values": [
           0.844033056959033,
           0.15596694304096703
          ],
          "vectorType": "dense"
         }
        ],
        [
         {
          "length": 15,
          "values": [
           38,
           1189,
           3,
           1,
           90,
           3,
           2,
           4,
           4735,
           13,
           11,
           9,
           7,
           3,
           4
          ],
          "vectorType": "dense"
         },
         0,
         0,
         {
          "length": 2,
          "values": [
           0.8728869895415781,
           0.12711301045842194
          ],
          "vectorType": "dense"
         }
        ],
        [
         {
          "length": 15,
          "values": [
           38,
           1444,
           4,
           1,
           88,
           3,
           1,
           2,
           2991,
           6,
           2,
           2,
           0,
           3,
           4
          ],
          "vectorType": "dense"
         },
         0,
         0,
         {
          "length": 2,
          "values": [
           0.8458006087619476,
           0.15419939123805237
          ],
          "vectorType": "dense"
         }
        ],
        [
         {
          "length": 15,
          "values": [
           38,
           343,
           2,
           15,
           92,
           2,
           3,
           4,
           11510,
           11,
           10,
           9,
           0,
           3,
           3
          ],
          "vectorType": "dense"
         },
         0,
         0,
         {
          "length": 2,
          "values": [
           0.8710461755263122,
           0.12895382447368775
          ],
          "vectorType": "dense"
         }
        ],
        [
         {
          "length": 15,
          "values": [
           38,
           345,
           2,
           10,
           100,
           3,
           2,
           4,
           5343,
           10,
           7,
           9,
           1,
           3,
           1
          ],
          "vectorType": "dense"
         },
         0,
         0,
         {
          "length": 2,
          "values": [
           0.856216861886091,
           0.14378313811390897
          ],
          "vectorType": "dense"
         }
        ],
        [
         {
          "length": 15,
          "values": [
           38,
           702,
           4,
           1,
           59,
           2,
           2,
           4,
           8686,
           8,
           3,
           7,
           4,
           4,
           1
          ],
          "vectorType": "dense"
         },
         0,
         0,
         {
          "length": 2,
          "values": [
           0.8449716943179747,
           0.1550283056820253
          ],
          "vectorType": "dense"
         }
        ],
        [
         {
          "length": 15,
          "values": [
           38,
           849,
           2,
           25,
           81,
           2,
           3,
           2,
           12061,
           10,
           8,
           1,
           3,
           3,
           1
          ],
          "vectorType": "dense"
         },
         0,
         0,
         {
          "length": 2,
          "values": [
           0.8373231917345955,
           0.16267680826540454
          ],
          "vectorType": "dense"
         }
        ],
        [
         {
          "length": 15,
          "values": [
           38,
           1084,
           3,
           29,
           54,
           3,
           2,
           4,
           6261,
           7,
           7,
           7,
           3,
           3,
           4
          ],
          "vectorType": "dense"
         },
         0,
         0,
         {
          "length": 2,
          "values": [
           0.8570259499964864,
           0.1429740500035136
          ],
          "vectorType": "dense"
         }
        ],
        [
         {
          "length": 15,
          "values": [
           38,
           1206,
           2,
           9,
           71,
           3,
           1,
           4,
           4771,
           5,
           2,
           3,
           2,
           3,
           2
          ],
          "vectorType": "dense"
         },
         0,
         0,
         {
          "length": 2,
          "values": [
           0.8385471230821173,
           0.16145287691788268
          ],
          "vectorType": "dense"
         }
        ],
        [
         {
          "length": 15,
          "values": [
           38,
           1245,
           3,
           14,
           80,
           3,
           2,
           2,
           9924,
           9,
           8,
           7,
           0,
           3,
           3
          ],
          "vectorType": "dense"
         },
         0,
         0,
         {
          "length": 2,
          "values": [
           0.8639706150899681,
           0.13602938491003191
          ],
          "vectorType": "dense"
         }
        ],
        [
         {
          "length": 15,
          "values": [
           38,
           1261,
           4,
           2,
           88,
           3,
           2,
           3,
           6553,
           1,
           0,
           0,
           9,
           3,
           4
          ],
          "vectorType": "dense"
         },
         0,
         0,
         {
          "length": 2,
          "values": [
           0.8350828518466726,
           0.16491714815332736
          ],
          "vectorType": "dense"
         }
        ],
        [
         {
          "length": 15,
          "values": [
           38,
           1495,
           2,
           4,
           87,
           3,
           1,
           3,
           3306,
           0,
           0,
           0,
           7,
           3,
           4
          ],
          "vectorType": "dense"
         },
         0,
         0,
         {
          "length": 2,
          "values": [
           0.8280301527111983,
           0.1719698472888017
          ],
          "vectorType": "dense"
         }
        ],
        [
         {
          "length": 15,
          "values": [
           38,
           1495,
           3,
           10,
           76,
           3,
           2,
           3,
           9824,
           1,
           0,
           0,
           3,
           3,
           3
          ],
          "vectorType": "dense"
         },
         0,
         0,
         {
          "length": 2,
          "values": [
           0.8403591109257164,
           0.15964088907428364
          ],
          "vectorType": "dense"
         }
        ],
        [
         {
          "length": 15,
          "values": [
           39,
           766,
           3,
           20,
           83,
           3,
           2,
           4,
           4127,
           2,
           1,
           2,
           2,
           3,
           3
          ],
          "vectorType": "dense"
         },
         0,
         0,
         {
          "length": 2,
          "values": [
           0.8370563396216727,
           0.1629436603783273
          ],
          "vectorType": "dense"
         }
        ],
        [
         {
          "length": 15,
          "values": [
           39,
           116,
           1,
           24,
           52,
           3,
           2,
           4,
           4108,
           7,
           7,
           7,
           7,
           3,
           1
          ],
          "vectorType": "dense"
         },
         0,
         0,
         {
          "length": 2,
          "values": [
           0.8345091173257974,
           0.16549088267420264
          ],
          "vectorType": "dense"
         }
        ],
        [
         {
          "length": 15,
          "values": [
           39,
           903,
           5,
           2,
           41,
           4,
           3,
           3,
           7880,
           8,
           7,
           7,
           0,
           3,
           1
          ],
          "vectorType": "dense"
         },
         0,
         0,
         {
          "length": 2,
          "values": [
           0.8704440233361374,
           0.12955597666386265
          ],
          "vectorType": "dense"
         }
        ],
        [
         {
          "length": 15,
          "values": [
           39,
           1387,
           5,
           10,
           76,
           3,
           2,
           1,
           5377,
           7,
           7,
           7,
           2,
           3,
           2
          ],
          "vectorType": "dense"
         },
         0,
         0,
         {
          "length": 2,
          "values": [
           0.8498360462396648,
           0.1501639537603352
          ],
          "vectorType": "dense"
         }
        ],
        [
         {
          "length": 15,
          "values": [
           39,
           592,
           3,
           2,
           54,
           2,
           1,
           1,
           3646,
           1,
           0,
           0,
           2,
           4,
           1
          ],
          "vectorType": "dense"
         },
         1,
         0,
         {
          "length": 2,
          "values": [
           0.8050572226161475,
           0.19494277738385246
          ],
          "vectorType": "dense"
         }
        ],
        [
         {
          "length": 15,
          "values": [
           39,
           360,
           3,
           23,
           93,
           3,
           1,
           1,
           3904,
           5,
           2,
           3,
           0,
           3,
           3
          ],
          "vectorType": "dense"
         },
         1,
         0,
         {
          "length": 2,
          "values": [
           0.8258956349746347,
           0.1741043650253653
          ],
          "vectorType": "dense"
         }
        ],
        [
         {
          "length": 15,
          "values": [
           39,
           1122,
           3,
           6,
           70,
           3,
           1,
           1,
           2404,
           2,
           2,
           2,
           7,
           4,
           4
          ],
          "vectorType": "dense"
         },
         1,
         0,
         {
          "length": 2,
          "values": [
           0.8275670317148651,
           0.17243296828513488
          ],
          "vectorType": "dense"
         }
        ],
        [
         {
          "length": 15,
          "values": [
           40,
           218,
           1,
           8,
           55,
           2,
           3,
           2,
           13757,
           9,
           8,
           8,
           2,
           3,
           4
          ],
          "vectorType": "dense"
         },
         0,
         0,
         {
          "length": 2,
          "values": [
           0.8663256234397972,
           0.13367437656020276
          ],
          "vectorType": "dense"
         }
        ],
        [
         {
          "length": 15,
          "values": [
           40,
           692,
           3,
           11,
           73,
           3,
           2,
           3,
           6323,
           10,
           9,
           4,
           1,
           3,
           4
          ],
          "vectorType": "dense"
         },
         0,
         0,
         {
          "length": 2,
          "values": [
           0.8643495458793249,
           0.1356504541206751
          ],
          "vectorType": "dense"
         }
        ],
        [
         {
          "length": 15,
          "values": [
           40,
           118,
           2,
           14,
           84,
           3,
           2,
           1,
           4639,
           5,
           4,
           2,
           1,
           3,
           4
          ],
          "vectorType": "dense"
         },
         0,
         0,
         {
          "length": 2,
          "values": [
           0.8401493865250284,
           0.15985061347497165
          ],
          "vectorType": "dense"
         }
        ],
        [
         {
          "length": 15,
          "values": [
           40,
           302,
           3,
           6,
           75,
           3,
           4,
           3,
           13237,
           20,
           6,
           13,
           7,
           3,
           2
          ],
          "vectorType": "dense"
         },
         0,
         0,
         {
          "length": 2,
          "values": [
           0.8770981854689051,
           0.12290181453109494
          ],
          "vectorType": "dense"
         }
        ],
        [
         {
          "length": 15,
          "values": [
           40,
           329,
           4,
           1,
           88,
           3,
           1,
           2,
           2387,
           4,
           2,
           3,
           3,
           4,
           2
          ],
          "vectorType": "dense"
         },
         0,
         0,
         {
          "length": 2,
          "values": [
           0.8307751486544516,
           0.16922485134554843
          ],
          "vectorType": "dense"
         }
        ],
        [
         {
          "length": 15,
          "values": [
           40,
           369,
           2,
           8,
           92,
           3,
           2,
           1,
           6516,
           1,
           0,
           0,
           2,
           3,
           2
          ],
          "vectorType": "dense"
         },
         0,
         0,
         {
          "length": 2,
          "values": [
           0.823792729517019,
           0.17620727048298102
          ],
          "vectorType": "dense"
         }
        ],
        [
         {
          "length": 15,
          "values": [
           40,
           555,
           3,
           2,
           78,
           2,
           2,
           3,
           3448,
           1,
           0,
           0,
           6,
           4,
           2
          ],
          "vectorType": "dense"
         },
         0,
         0,
         {
          "length": 2,
          "values": [
           0.81791335288148,
           0.18208664711851996
          ],
          "vectorType": "dense"
         }
        ],
        [
         {
          "length": 15,
          "values": [
           40,
           884,
           3,
           15,
           80,
           2,
           3,
           3,
           10435,
           18,
           15,
           12,
           1,
           3,
           1
          ],
          "vectorType": "dense"
         },
         0,
         0,
         {
          "length": 2,
          "values": [
           0.8749137734446093,
           0.1250862265553907
          ],
          "vectorType": "dense"
         }
        ],
        [
         {
          "length": 15,
          "values": [
           40,
           905,
           2,
           19,
           99,
           3,
           2,
           4,
           2741,
           7,
           2,
           7,
           8,
           3,
           3
          ],
          "vectorType": "dense"
         },
         0,
         0,
         {
          "length": 2,
          "values": [
           0.8400978066213997,
           0.15990219337860034
          ],
          "vectorType": "dense"
         }
        ],
        [
         {
          "length": 15,
          "values": [
           40,
           989,
           1,
           4,
           46,
           3,
           5,
           3,
           19033,
           20,
           8,
           9,
           1,
           3,
           4
          ],
          "vectorType": "dense"
         },
         0,
         0,
         {
          "length": 2,
          "values": [
           0.899052242055459,
           0.10094775794454103
          ],
          "vectorType": "dense"
         }
        ],
        [
         {
          "length": 15,
          "values": [
           40,
           1300,
           2,
           24,
           62,
           3,
           2,
           4,
           3319,
           9,
           8,
           7,
           1,
           3,
           1
          ],
          "vectorType": "dense"
         },
         0,
         0,
         {
          "length": 2,
          "values": [
           0.8509588233306012,
           0.14904117666939876
          ],
          "vectorType": "dense"
         }
        ],
        [
         {
          "length": 15,
          "values": [
           40,
           1492,
           4,
           20,
           61,
           3,
           3,
           4,
           10322,
           11,
           10,
           1,
           4,
           4,
           1
          ],
          "vectorType": "dense"
         },
         0,
         0,
         {
          "length": 2,
          "values": [
           0.8600763902575964,
           0.1399236097424036
          ],
          "vectorType": "dense"
         }
        ],
        [
         {
          "length": 15,
          "values": [
           41,
           840,
           3,
           9,
           64,
           3,
           5,
           3,
           19419,
           18,
           16,
           11,
           2,
           3,
           1
          ],
          "vectorType": "dense"
         },
         0,
         0,
         {
          "length": 2,
          "values": [
           0.8975939803825864,
           0.10240601961741358
          ],
          "vectorType": "dense"
         }
        ],
        [
         {
          "length": 15,
          "values": [
           41,
           167,
           4,
           12,
           46,
           3,
           1,
           4,
           4766,
           1,
           0,
           0,
           3,
           3,
           2
          ],
          "vectorType": "dense"
         },
         0,
         0,
         {
          "length": 2,
          "values": [
           0.8227975403034615,
           0.17720245969653847
          ],
          "vectorType": "dense"
         }
        ],
        [
         {
          "length": 15,
          "values": [
           41,
           509,
           2,
           7,
           43,
           4,
           1,
           3,
           3376,
           10,
           6,
           8,
           1,
           3,
           2
          ],
          "vectorType": "dense"
         },
         0,
         0,
         {
          "length": 2,
          "values": [
           0.8579714575988255,
           0.14202854240117446
          ],
          "vectorType": "dense"
         }
        ],
        [
         {
          "length": 15,
          "values": [
           41,
           802,
           1,
           9,
           96,
           3,
           3,
           3,
           8189,
           9,
           7,
           7,
           3,
           3,
           3
          ],
          "vectorType": "dense"
         },
         0,
         0,
         {
          "length": 2,
          "values": [
           0.8665130251396301,
           0.13348697486036987
          ],
          "vectorType": "dense"
         }
        ],
        [
         {
          "length": 15,
          "values": [
           41,
           930,
           3,
           3,
           57,
           2,
           2,
           2,
           8938,
           5,
           4,
           4,
           2,
           3,
           3
          ],
          "vectorType": "dense"
         },
         0,
         0,
         {
          "length": 2,
          "values": [
           0.8452484728457504,
           0.15475152715424956
          ],
          "vectorType": "dense"
         }
        ],
        [
         {
          "length": 15,
          "values": [
           41,
           1276,
           5,
           2,
           91,
           3,
           4,
           1,
           16595,
           18,
           16,
           8,
           7,
           3,
           2
          ],
          "vectorType": "dense"
         },
         0,
         0,
         {
          "length": 2,
          "values": [
           0.8857578876509082,
           0.11424211234909176
          ],
          "vectorType": "dense"
         }
        ],
        [
         {
          "length": 15,
          "values": [
           41,
           1283,
           5,
           5,
           90,
           4,
           1,
           3,
           2127,
           4,
           2,
           3,
           2,
           3,
           2
          ],
          "vectorType": "dense"
         },
         0,
         0,
         {
          "length": 2,
          "values": [
           0.8447383031081294,
           0.15526169689187064
          ],
          "vectorType": "dense"
         }
        ],
        [
         {
          "length": 15,
          "values": [
           41,
           906,
           2,
           5,
           95,
           2,
           1,
           1,
           2107,
           1,
           0,
           0,
           6,
           3,
           1
          ],
          "vectorType": "dense"
         },
         1,
         0,
         {
          "length": 2,
          "values": [
           0.7956342364173509,
           0.20436576358264913
          ],
          "vectorType": "dense"
         }
        ],
        [
         {
          "length": 15,
          "values": [
           41,
           143,
           3,
           4,
           56,
           3,
           2,
           2,
           9355,
           8,
           7,
           7,
           1,
           3,
           1
          ],
          "vectorType": "dense"
         },
         1,
         0,
         {
          "length": 2,
          "values": [
           0.8531528376074722,
           0.14684716239252782
          ],
          "vectorType": "dense"
         }
        ],
        [
         {
          "length": 15,
          "values": [
           41,
           1360,
           3,
           12,
           49,
           3,
           5,
           3,
           19545,
           22,
           15,
           8,
           1,
           3,
           2
          ],
          "vectorType": "dense"
         },
         1,
         0,
         {
          "length": 2,
          "values": [
           0.8999781634359718,
           0.10002183656402819
          ],
          "vectorType": "dense"
         }
        ],
        [
         {
          "length": 15,
          "values": [
           42,
           495,
           1,
           2,
           37,
           3,
           4,
           3,
           17861,
           20,
           8,
           10,
           0,
           3,
           3
          ],
          "vectorType": "dense"
         },
         0,
         0,
         {
          "length": 2,
          "values": [
           0.8934013920225127,
           0.10659860797748733
          ],
          "vectorType": "dense"
         }
        ],
        [
         {
          "length": 15,
          "values": [
           42,
           926,
           2,
           21,
           36,
           3,
           2,
           3,
           5265,
           5,
           3,
           2,
           2,
           3,
           3
          ],
          "vectorType": "dense"
         },
         0,
         0,
         {
          "length": 2,
          "values": [
           0.8409740240300269,
           0.15902597596997314
          ],
          "vectorType": "dense"
         }
        ],
        [
         {
          "length": 15,
          "values": [
           42,
           288,
           3,
           2,
           40,
           3,
           3,
           4,
           10124,
           20,
           8,
           9,
           2,
           3,
           4
          ],
          "vectorType": "dense"
         },
         0,
         0,
         {
          "length": 2,
          "values": [
           0.8854256402990407,
           0.1145743597009593
          ],
          "vectorType": "dense"
         }
        ],
        [
         {
          "length": 15,
          "values": [
           42,
           419,
           4,
           12,
           77,
           3,
           2,
           4,
           5087,
           0,
           0,
           0,
           3,
           3,
           2
          ],
          "vectorType": "dense"
         },
         0,
         0,
         {
          "length": 2,
          "values": [
           0.8305093503358661,
           0.16949064966413385
          ],
          "vectorType": "dense"
         }
        ],
        [
         {
          "length": 15,
          "values": [
           42,
           603,
           4,
           7,
           78,
           4,
           2,
           2,
           2372,
           1,
           0,
           0,
           6,
           3,
           2
          ],
          "vectorType": "dense"
         },
         0,
         0,
         {
          "length": 2,
          "values": [
           0.8280718227206822,
           0.17192817727931775
          ],
          "vectorType": "dense"
         }
        ],
        [
         {
          "length": 15,
          "values": [
           42,
           932,
           2,
           1,
           43,
           2,
           2,
           4,
           6062,
           4,
           3,
           2,
           9,
           3,
           4
          ],
          "vectorType": "dense"
         },
         0,
         0,
         {
          "length": 2,
          "values": [
           0.8392045203276637,
           0.16079547967233632
          ],
          "vectorType": "dense"
         }
        ],
        [
         {
          "length": 15,
          "values": [
           43,
           313,
           3,
           21,
           61,
           3,
           1,
           4,
           2258,
           3,
           2,
           2,
           7,
           4,
           4
          ],
          "vectorType": "dense"
         },
         0,
         0,
         {
          "length": 2,
          "values": [
           0.8309926797110267,
           0.16900732028897325
          ],
          "vectorType": "dense"
         }
        ],
        [
         {
          "length": 15,
          "values": [
           43,
           957,
           3,
           28,
           72,
           4,
           1,
           3,
           4739,
           3,
           2,
           2,
           4,
           3,
           2
          ],
          "vectorType": "dense"
         },
         0,
         0,
         {
          "length": 2,
          "values": [
           0.831986852160707,
           0.168013147839293
          ],
          "vectorType": "dense"
         }
        ],
        [
         {
          "length": 15,
          "values": [
           43,
           589,
           2,
           14,
           94,
           3,
           4,
           1,
           17159,
           4,
           1,
           0,
           6,
           4,
           2
          ],
          "vectorType": "dense"
         },
         0,
         0,
         {
          "length": 2,
          "values": [
           0.8469038178218626,
           0.15309618217813736
          ],
          "vectorType": "dense"
         }
        ],
        [
         {
          "length": 15,
          "values": [
           43,
           782,
           4,
           6,
           50,
           2,
           4,
           4,
           16627,
           1,
           0,
           0,
           4,
           3,
           2
          ],
          "vectorType": "dense"
         },
         0,
         0,
         {
          "length": 2,
          "values": [
           0.8489224786580504,
           0.15107752134194963
          ],
          "vectorType": "dense"
         }
        ],
        [
         {
          "length": 15,
          "values": [
           43,
           1179,
           3,
           2,
           73,
           3,
           2,
           4,
           7847,
           10,
           9,
           8,
           1,
           3,
           4
          ],
          "vectorType": "dense"
         },
         0,
         0,
         {
          "length": 2,
          "values": [
           0.8797229596466285,
           0.1202770403533715
          ],
          "vectorType": "dense"
         }
        ],
        [
         {
          "length": 15,
          "values": [
           44,
           170,
           4,
           1,
           78,
           4,
           2,
           1,
           5033,
           2,
           0,
           2,
           2,
           3,
           2
          ],
          "vectorType": "dense"
         },
         0,
         0,
         {
          "length": 2,
          "values": [
           0.8393529558476566,
           0.16064704415234343
          ],
          "vectorType": "dense"
         }
        ],
        [
         {
          "length": 15,
          "values": [
           44,
           477,
           4,
           7,
           42,
           2,
           3,
           4,
           10248,
           22,
           6,
           17,
           3,
           3,
           1
          ],
          "vectorType": "dense"
         },
         0,
         0,
         {
          "length": 2,
          "values": [
           0.8747283743524193,
           0.12527162564758065
          ],
          "vectorType": "dense"
         }
        ],
        [
         {
          "length": 15,
          "values": [
           44,
           625,
           3,
           4,
           50,
           3,
           2,
           2,
           5933,
           5,
           2,
           3,
           9,
           3,
           4
          ],
          "vectorType": "dense"
         },
         0,
         0,
         {
          "length": 2,
          "values": [
           0.840166712914429,
           0.15983328708557099
          ],
          "vectorType": "dense"
         }
        ],
        [
         {
          "length": 15,
          "values": [
           44,
           986,
           4,
           8,
           62,
           4,
           1,
           4,
           2818,
           3,
           2,
           2,
           2,
           4,
           1
          ],
          "vectorType": "dense"
         },
         0,
         0,
         {
          "length": 2,
          "values": [
           0.8435223588879573,
           0.15647764111204265
          ],
          "vectorType": "dense"
         }
        ],
        [
         {
          "length": 15,
          "values": [
           44,
           621,
           3,
           15,
           73,
           3,
           3,
           4,
           7978,
           10,
           7,
           5,
           1,
           3,
           1
          ],
          "vectorType": "dense"
         },
         1,
         0,
         {
          "length": 2,
          "values": [
           0.8609031878403067,
           0.13909681215969327
          ],
          "vectorType": "dense"
         }
        ],
        [
         {
          "length": 15,
          "values": [
           45,
           194,
           3,
           9,
           60,
           3,
           2,
           2,
           2348,
           17,
           9,
           15,
           8,
           3,
           2
          ],
          "vectorType": "dense"
         },
         0,
         0,
         {
          "length": 2,
          "values": [
           0.8592837223422995,
           0.14071627765770045
          ],
          "vectorType": "dense"
         }
        ],
        [
         {
          "length": 15,
          "values": [
           45,
           1038,
           3,
           20,
           95,
           1,
           3,
           1,
           10851,
           7,
           7,
           7,
           2,
           3,
           2
          ],
          "vectorType": "dense"
         },
         0,
         0,
         {
          "length": 2,
          "values": [
           0.8428398174892683,
           0.15716018251073172
          ],
          "vectorType": "dense"
         }
        ],
        [
         {
          "length": 15,
          "values": [
           46,
           150,
           4,
           2,
           60,
           3,
           2,
           4,
           7379,
           6,
           3,
           4,
           2,
           3,
           4
          ],
          "vectorType": "dense"
         },
         0,
         0,
         {
          "length": 2,
          "values": [
           0.8616499889383142,
           0.13835001106168576
          ],
          "vectorType": "dense"
         }
        ],
        [
         {
          "length": 15,
          "values": [
           46,
           228,
           3,
           3,
           51,
           3,
           4,
           2,
           16606,
           13,
           12,
           1,
           8,
           3,
           3
          ],
          "vectorType": "dense"
         },
         0,
         0,
         {
          "length": 2,
          "values": [
           0.8738107826956462,
           0.12618921730435384
          ],
          "vectorType": "dense"
         }
        ],
        [
         {
          "length": 15,
          "values": [
           46,
           406,
           1,
           3,
           52,
           3,
           4,
           3,
           17465,
           12,
           9,
           9,
           3,
           3,
           1
          ],
          "vectorType": "dense"
         },
         0,
         0,
         {
          "length": 2,
          "values": [
           0.8811116287226303,
           0.11888837127736973
          ],
          "vectorType": "dense"
         }
        ],
        [
         {
          "length": 15,
          "values": [
           46,
           566,
           2,
           7,
           75,
           3,
           3,
           3,
           10845,
           8,
           7,
           7,
           6,
           3,
           4
          ],
          "vectorType": "dense"
         },
         0,
         0,
         {
          "length": 2,
          "values": [
           0.8709955192270997,
           0.12900448077290028
          ],
          "vectorType": "dense"
         }
        ],
        [
         {
          "length": 15,
          "values": [
           46,
           945,
           2,
           5,
           80,
           3,
           2,
           2,
           5021,
           4,
           2,
           2,
           8,
           4,
           2
          ],
          "vectorType": "dense"
         },
         0,
         0,
         {
          "length": 2,
          "values": [
           0.834651177162303,
           0.16534882283769703
          ],
          "vectorType": "dense"
         }
        ],
        [
         {
          "length": 15,
          "values": [
           46,
           377,
           3,
           9,
           52,
           3,
           3,
           4,
           10096,
           7,
           7,
           3,
           4,
           3,
           1
          ],
          "vectorType": "dense"
         },
         1,
         0,
         {
          "length": 2,
          "values": [
           0.8571112186586959,
           0.14288878134130412
          ],
          "vectorType": "dense"
         }
        ],
        [
         {
          "length": 15,
          "values": [
           47,
           202,
           2,
           2,
           33,
           3,
           4,
           4,
           16752,
           26,
           14,
           0,
           1,
           3,
           3
          ],
          "vectorType": "dense"
         },
         0,
         0,
         {
          "length": 2,
          "values": [
           0.894769578399061,
           0.10523042160093898
          ],
          "vectorType": "dense"
         }
        ],
        [
         {
          "length": 15,
          "values": [
           47,
           249,
           2,
           2,
           35,
           3,
           2,
           4,
           4537,
           7,
           6,
           7,
           0,
           4,
           3
          ],
          "vectorType": "dense"
         },
         0,
         0,
         {
          "length": 2,
          "values": [
           0.8678599366336491,
           0.13214006336635087
          ],
          "vectorType": "dense"
         }
        ],
        [
         {
          "length": 15,
          "values": [
           47,
           571,
           3,
           14,
           78,
           3,
           2,
           3,
           4591,
           5,
           4,
           2,
           3,
           3,
           3
          ],
          "vectorType": "dense"
         },
         0,
         0,
         {
          "length": 2,
          "values": [
           0.8459798330068387,
           0.15402016699316134
          ],
          "vectorType": "dense"
         }
        ],
        [
         {
          "length": 15,
          "values": [
           47,
           703,
           4,
           14,
           42,
           3,
           2,
           1,
           4960,
           7,
           7,
           7,
           2,
           3,
           4
          ],
          "vectorType": "dense"
         },
         0,
         0,
         {
          "length": 2,
          "values": [
           0.8574154028739198,
           0.14258459712608018
          ],
          "vectorType": "dense"
         }
        ],
        [
         {
          "length": 15,
          "values": [
           47,
           1176,
           4,
           26,
           98,
           3,
           5,
           3,
           19658,
           5,
           2,
           0,
           3,
           3,
           4
          ],
          "vectorType": "dense"
         },
         0,
         0,
         {
          "length": 2,
          "values": [
           0.8721945362995505,
           0.12780546370044954
          ],
          "vectorType": "dense"
         }
        ],
        [
         {
          "length": 15,
          "values": [
           47,
           1180,
           3,
           25,
           84,
           3,
           3,
           3,
           8633,
           17,
           14,
           11,
           2,
           4,
           1
          ],
          "vectorType": "dense"
         },
         0,
         0,
         {
          "length": 2,
          "values": [
           0.8791474435601445,
           0.12085255643985549
          ],
          "vectorType": "dense"
         }
        ],
        [
         {
          "length": 15,
          "values": [
           47,
           719,
           2,
           27,
           77,
           4,
           2,
           3,
           6397,
           5,
           4,
           3,
           4,
           3,
           2
          ],
          "vectorType": "dense"
         },
         1,
         0,
         {
          "length": 2,
          "values": [
           0.8467242763184262,
           0.15327572368157383
          ],
          "vectorType": "dense"
         }
        ],
        [
         {
          "length": 15,
          "values": [
           48,
           492,
           4,
           16,
           96,
           3,
           2,
           3,
           6439,
           8,
           7,
           7,
           8,
           3,
           3
          ],
          "vectorType": "dense"
         },
         0,
         0,
         {
          "length": 2,
          "values": [
           0.8536511031397828,
           0.14634889686021724
          ],
          "vectorType": "dense"
         }
        ],
        [
         {
          "length": 15,
          "values": [
           48,
           1224,
           3,
           10,
           91,
           2,
           5,
           2,
           19665,
           22,
           10,
           9,
           4,
           3,
           4
          ],
          "vectorType": "dense"
         },
         0,
         0,
         {
          "length": 2,
          "values": [
           0.8947020629699094,
           0.1052979370300906
          ],
          "vectorType": "dense"
         }
        ],
        [
         {
          "length": 15,
          "values": [
           48,
           1236,
           4,
           1,
           40,
           2,
           4,
           1,
           15402,
           3,
           2,
           2,
           7,
           3,
           4
          ],
          "vectorType": "dense"
         },
         0,
         0,
         {
          "length": 2,
          "values": [
           0.8555010848513194,
           0.14449891514868063
          ],
          "vectorType": "dense"
         }
        ],
        [
         {
          "length": 15,
          "values": [
           48,
           1355,
           4,
           4,
           78,
           2,
           3,
           3,
           10999,
           15,
           11,
           8,
           7,
           3,
           3
          ],
          "vectorType": "dense"
         },
         0,
         0,
         {
          "length": 2,
          "values": [
           0.874350609386003,
           0.12564939061399705
          ],
          "vectorType": "dense"
         }
        ],
        [
         {
          "length": 15,
          "values": [
           49,
           470,
           4,
           20,
           96,
           3,
           2,
           1,
           6567,
           15,
           11,
           11,
           1,
           3,
           3
          ],
          "vectorType": "dense"
         },
         0,
         0,
         {
          "length": 2,
          "values": [
           0.8699701503580072,
           0.13002984964199282
          ],
          "vectorType": "dense"
         }
        ],
        [
         {
          "length": 15,
          "values": [
           49,
           809,
           3,
           1,
           36,
           3,
           4,
           3,
           15379,
           8,
           7,
           0,
           4,
           3,
           3
          ],
          "vectorType": "dense"
         },
         0,
         0,
         {
          "length": 2,
          "values": [
           0.8744023858575181,
           0.12559761414248194
          ],
          "vectorType": "dense"
         }
        ],
        [
         {
          "length": 15,
          "values": [
           50,
           809,
           3,
           12,
           77,
           3,
           3,
           4,
           9208,
           2,
           2,
           1,
           4,
           3,
           3
          ],
          "vectorType": "dense"
         },
         0,
         0,
         {
          "length": 2,
          "values": [
           0.8552801441503277,
           0.14471985584967229
          ],
          "vectorType": "dense"
         }
        ],
        [
         {
          "length": 15,
          "values": [
           50,
           264,
           3,
           9,
           59,
           3,
           5,
           3,
           19331,
           1,
           0,
           0,
           4,
           3,
           3
          ],
          "vectorType": "dense"
         },
         0,
         0,
         {
          "length": 2,
          "values": [
           0.8659811764729535,
           0.13401882352704653
          ],
          "vectorType": "dense"
         }
        ],
        [
         {
          "length": 15,
          "values": [
           50,
           804,
           3,
           9,
           64,
           3,
           1,
           4,
           2380,
           1,
           0,
           0,
           4,
           3,
           1
          ],
          "vectorType": "dense"
         },
         0,
         0,
         {
          "length": 2,
          "values": [
           0.8243716364280324,
           0.17562836357196765
          ],
          "vectorType": "dense"
         }
        ],
        [
         {
          "length": 15,
          "values": [
           50,
           1126,
           2,
           1,
           66,
           3,
           4,
           4,
           17399,
           5,
           4,
           3,
           9,
           4,
           4
          ],
          "vectorType": "dense"
         },
         0,
         0,
         {
          "length": 2,
          "values": [
           0.8786175181418857,
           0.12138248185811429
          ],
          "vectorType": "dense"
         }
        ],
        [
         {
          "length": 15,
          "values": [
           50,
           562,
           2,
           8,
           50,
           3,
           2,
           3,
           6796,
           4,
           3,
           3,
           3,
           3,
           2
          ],
          "vectorType": "dense"
         },
         1,
         0,
         {
          "length": 2,
          "values": [
           0.847022219674598,
           0.152977780325402
          ],
          "vectorType": "dense"
         }
        ],
        [
         {
          "length": 15,
          "values": [
           50,
           410,
           3,
           28,
           39,
           2,
           3,
           1,
           10854,
           3,
           2,
           0,
           4,
           3,
           4
          ],
          "vectorType": "dense"
         },
         1,
         0,
         {
          "length": 2,
          "values": [
           0.833374986378879,
           0.16662501362112103
          ],
          "vectorType": "dense"
         }
        ],
        [
         {
          "length": 15,
          "values": [
           51,
           684,
           3,
           6,
           51,
           3,
           5,
           3,
           19537,
           20,
           18,
           15,
           7,
           3,
           1
          ],
          "vectorType": "dense"
         },
         0,
         0,
         {
          "length": 2,
          "values": [
           0.9039169713272779,
           0.09608302867272212
          ],
          "vectorType": "dense"
         }
        ],
        [
         {
          "length": 15,
          "values": [
           51,
           1469,
           4,
           8,
           81,
           2,
           3,
           2,
           12490,
           10,
           9,
           7,
           5,
           3,
           2
          ],
          "vectorType": "dense"
         },
         0,
         0,
         {
          "length": 2,
          "values": [
           0.8659374943721125,
           0.13406250562788746
          ],
          "vectorType": "dense"
         }
        ],
        [
         {
          "length": 15,
          "values": [
           51,
           1150,
           4,
           8,
           53,
           1,
           3,
           4,
           10650,
           4,
           2,
           3,
           2,
           3,
           1
          ],
          "vectorType": "dense"
         },
         1,
         0,
         {
          "length": 2,
          "values": [
           0.8423080884004448,
           0.1576919115995552
          ],
          "vectorType": "dense"
         }
        ],
        [
         {
          "length": 15,
          "values": [
           52,
           771,
           4,
           2,
           79,
           2,
           5,
           3,
           19068,
           33,
           7,
           12,
           1,
           3,
           1
          ],
          "vectorType": "dense"
         },
         0,
         0,
         {
          "length": 2,
          "values": [
           0.897795387643578,
           0.10220461235642198
          ],
          "vectorType": "dense"
         }
        ],
        [
         {
          "length": 15,
          "values": [
           52,
           1323,
           3,
           2,
           89,
           2,
           1,
           4,
           3212,
           2,
           2,
           2,
           7,
           3,
           3
          ],
          "vectorType": "dense"
         },
         0,
         0,
         {
          "length": 2,
          "values": [
           0.8353329245711026,
           0.16466707542889736
          ],
          "vectorType": "dense"
         }
        ],
        [
         {
          "length": 15,
          "values": [
           52,
           266,
           1,
           2,
           57,
           1,
           5,
           4,
           19845,
           32,
           14,
           9,
           1,
           3,
           1
          ],
          "vectorType": "dense"
         },
         1,
         0,
         {
          "length": 2,
          "values": [
           0.8968865041818415,
           0.10311349581815854
          ],
          "vectorType": "dense"
         }
        ],
        [
         {
          "length": 15,
          "values": [
           53,
           661,
           4,
           1,
           60,
           2,
           4,
           3,
           12965,
           3,
           2,
           2,
           4,
           4,
           1
          ],
          "vectorType": "dense"
         },
         0,
         0,
         {
          "length": 2,
          "values": [
           0.8543362158476071,
           0.1456637841523929
          ],
          "vectorType": "dense"
         }
        ],
        [
         {
          "length": 15,
          "values": [
           53,
           447,
           3,
           2,
           39,
           4,
           4,
           2,
           16598,
           9,
           8,
           8,
           4,
           3,
           4
          ],
          "vectorType": "dense"
         },
         0,
         0,
         {
          "length": 2,
          "values": [
           0.8932262316140496,
           0.10677376838595043
          ],
          "vectorType": "dense"
         }
        ],
        [
         {
          "length": 15,
          "values": [
           53,
           1084,
           2,
           13,
           57,
           4,
           2,
           1,
           4450,
           4,
           2,
           3,
           1,
           3,
           4
          ],
          "vectorType": "dense"
         },
         0,
         0,
         {
          "length": 2,
          "values": [
           0.8576417597169139,
           0.14235824028308608
          ],
          "vectorType": "dense"
         }
        ],
        [
         {
          "length": 15,
          "values": [
           53,
           1436,
           2,
           6,
           34,
           3,
           2,
           3,
           2306,
           7,
           7,
           5,
           2,
           4,
           2
          ],
          "vectorType": "dense"
         },
         0,
         0,
         {
          "length": 2,
          "values": [
           0.8614440117153979,
           0.13855598828460214
          ],
          "vectorType": "dense"
         }
        ],
        [
         {
          "length": 15,
          "values": [
           54,
           1147,
           3,
           3,
           52,
           3,
           2,
           1,
           5940,
           6,
           2,
           5,
           2,
           3,
           4
          ],
          "vectorType": "dense"
         },
         0,
         0,
         {
          "length": 2,
          "values": [
           0.8586668995939599,
           0.14133310040604008
          ],
          "vectorType": "dense"
         }
        ],
        [
         {
          "length": 15,
          "values": [
           54,
           1441,
           3,
           17,
           56,
           3,
           3,
           3,
           10739,
           10,
           7,
           8,
           8,
           3,
           3
          ],
          "vectorType": "dense"
         },
         0,
         0,
         {
          "length": 2,
          "values": [
           0.870605730000223,
           0.129394269999777
          ],
          "vectorType": "dense"
         }
        ],
        [
         {
          "length": 15,
          "values": [
           55,
           147,
           2,
           20,
           37,
           3,
           2,
           4,
           5415,
           10,
           7,
           8,
           3,
           3,
           2
          ],
          "vectorType": "dense"
         },
         0,
         0,
         {
          "length": 2,
          "values": [
           0.8606319659757425,
           0.13936803402425746
          ],
          "vectorType": "dense"
         }
        ],
        [
         {
          "length": 15,
          "values": [
           55,
           282,
           2,
           2,
           58,
           1,
           5,
           3,
           19187,
           19,
           9,
           11,
           4,
           3,
           4
          ],
          "vectorType": "dense"
         },
         0,
         0,
         {
          "length": 2,
          "values": [
           0.8925938724201307,
           0.10740612757986934
          ],
          "vectorType": "dense"
         }
        ],
        [
         {
          "length": 15,
          "values": [
           55,
           452,
           3,
           1,
           81,
           3,
           5,
           1,
           19045,
           36,
           10,
           13,
           0,
           3,
           4
          ],
          "vectorType": "dense"
         },
         0,
         0,
         {
          "length": 2,
          "values": [
           0.9136858425601389,
           0.08631415743986115
          ],
          "vectorType": "dense"
         }
        ],
        [
         {
          "length": 15,
          "values": [
           55,
           478,
           3,
           2,
           60,
           2,
           5,
           1,
           19038,
           1,
           0,
           0,
           8,
           3,
           3
          ],
          "vectorType": "dense"
         },
         0,
         0,
         {
          "length": 2,
          "values": [
           0.8532235097626936,
           0.14677649023730643
          ],
          "vectorType": "dense"
         }
        ],
        [
         {
          "length": 15,
          "values": [
           55,
           685,
           5,
           26,
           60,
           2,
           5,
           4,
           19586,
           36,
           6,
           13,
           1,
           4,
           3
          ],
          "vectorType": "dense"
         },
         0,
         0,
         {
          "length": 2,
          "values": [
           0.9031045993215087,
           0.09689540067849134
          ],
          "vectorType": "dense"
         }
        ],
        [
         {
          "length": 15,
          "values": [
           55,
           836,
           3,
           8,
           33,
           3,
           4,
           3,
           14756,
           5,
           0,
           2,
           2,
           3,
           4
          ],
          "vectorType": "dense"
         },
         0,
         0,
         {
          "length": 2,
          "values": [
           0.8726355906905825,
           0.1273644093094175
          ],
          "vectorType": "dense"
         }
        ],
        [
         {
          "length": 15,
          "values": [
           55,
           1117,
           5,
           18,
           83,
           3,
           4,
           2,
           16835,
           10,
           9,
           7,
           3,
           4,
           1
          ],
          "vectorType": "dense"
         },
         0,
         0,
         {
          "length": 2,
          "values": [
           0.8794390925666662,
           0.12056090743333381
          ],
          "vectorType": "dense"
         }
        ],
        [
         {
          "length": 15,
          "values": [
           55,
           267,
           4,
           13,
           85,
           4,
           4,
           3,
           13695,
           19,
           7,
           8,
           6,
           3,
           1
          ],
          "vectorType": "dense"
         },
         1,
         0,
         {
          "length": 2,
          "values": [
           0.8825832957728078,
           0.11741670422719219
          ],
          "vectorType": "dense"
         }
        ],
        [
         {
          "length": 15,
          "values": [
           56,
           1255,
           2,
           1,
           90,
           3,
           1,
           1,
           2066,
           3,
           2,
           0,
           2,
           4,
           1
          ],
          "vectorType": "dense"
         },
         0,
         0,
         {
          "length": 2,
          "values": [
           0.8334535249434751,
           0.16654647505652487
          ],
          "vectorType": "dense"
         }
        ],
        [
         {
          "length": 15,
          "values": [
           56,
           1400,
           3,
           7,
           49,
           1,
           3,
           4,
           7260,
           6,
           4,
           2,
           4,
           3,
           4
          ],
          "vectorType": "dense"
         },
         0,
         0,
         {
          "length": 2,
          "values": [
           0.855596420519865,
           0.14440357948013505
          ],
          "vectorType": "dense"
         }
        ],
        [
         {
          "length": 15,
          "values": [
           58,
           1216,
           4,
           15,
           87,
           3,
           4,
           3,
           15787,
           2,
           2,
           2,
           2,
           3,
           1
          ],
          "vectorType": "dense"
         },
         0,
         0,
         {
          "length": 2,
          "values": [
           0.8648482952162344,
           0.1351517047837656
          ],
          "vectorType": "dense"
         }
        ],
        [
         {
          "length": 15,
          "values": [
           58,
           605,
           3,
           21,
           72,
           3,
           4,
           4,
           17875,
           1,
           0,
           0,
           4,
           3,
           4
          ],
          "vectorType": "dense"
         },
         0,
         0,
         {
          "length": 2,
          "values": [
           0.8683675266746246,
           0.13163247332537542
          ],
          "vectorType": "dense"
         }
        ],
        [
         {
          "length": 15,
          "values": [
           58,
           1272,
           3,
           5,
           37,
           2,
           3,
           2,
           10552,
           6,
           0,
           4,
           2,
           3,
           3
          ],
          "vectorType": "dense"
         },
         0,
         0,
         {
          "length": 2,
          "values": [
           0.8573396604074744,
           0.14266033959252555
          ],
          "vectorType": "dense"
         }
        ],
        [
         {
          "length": 15,
          "values": [
           58,
           781,
           1,
           2,
           57,
           2,
           1,
           4,
           2380,
           1,
           0,
           0,
           9,
           3,
           4
          ],
          "vectorType": "dense"
         },
         1,
         0,
         {
          "length": 2,
          "values": [
           0.8299375632917402,
           0.17006243670825982
          ],
          "vectorType": "dense"
         }
        ],
        [
         {
          "length": 15,
          "values": [
           58,
           289,
           3,
           2,
           51,
           3,
           1,
           3,
           2479,
           1,
           0,
           0,
           4,
           4,
           4
          ],
          "vectorType": "dense"
         },
         1,
         0,
         {
          "length": 2,
          "values": [
           0.843054252069951,
           0.156945747930049
          ],
          "vectorType": "dense"
         }
        ],
        [
         {
          "length": 15,
          "values": [
           59,
           818,
           2,
           6,
           52,
           3,
           1,
           3,
           2267,
           2,
           2,
           2,
           8,
           3,
           2
          ],
          "vectorType": "dense"
         },
         0,
         0,
         {
          "length": 2,
          "values": [
           0.8331025576081662,
           0.1668974423918338
          ],
          "vectorType": "dense"
         }
        ],
        [
         {
          "length": 15,
          "values": [
           60,
           422,
           3,
           7,
           41,
           3,
           5,
           1,
           19566,
           29,
           8,
           10,
           5,
           3,
           1
          ],
          "vectorType": "dense"
         },
         0,
         0,
         {
          "length": 2,
          "values": [
           0.8930437411590748,
           0.10695625884092519
          ],
          "vectorType": "dense"
         }
        ]
       ],
       "datasetInfos": [],
       "dbfsResultPath": null,
       "isJsonSchema": true,
       "metadata": {},
       "overflow": false,
       "plotOptions": {
        "customPlotOptions": {},
        "displayType": "table",
        "pivotAggregation": null,
        "pivotColumns": null,
        "xColumns": null,
        "yColumns": null
       },
       "removedWidgets": [],
       "schema": [
        {
         "metadata": "{\"ml_attr\":{\"attrs\":{\"numeric\":[{\"idx\":0,\"name\":\"Age\"},{\"idx\":1,\"name\":\"DailyRate\"},{\"idx\":2,\"name\":\"Education\"},{\"idx\":3,\"name\":\"DistanceFromHome\"},{\"idx\":4,\"name\":\"HourlyRate\"},{\"idx\":5,\"name\":\"JobInvolvement\"},{\"idx\":6,\"name\":\"JobLevel\"},{\"idx\":7,\"name\":\"JobSatisfaction\"},{\"idx\":8,\"name\":\"MonthlyIncome\"},{\"idx\":9,\"name\":\"YearsAtCompany\"},{\"idx\":10,\"name\":\"YearsInCurrentRole\"},{\"idx\":11,\"name\":\"YearsWithCurrManager\"},{\"idx\":12,\"name\":\"NumCompaniesWorked\"},{\"idx\":13,\"name\":\"PerformanceRating\"},{\"idx\":14,\"name\":\"EnvironmentSatisfaction\"}]},\"num_attrs\":15}}",
         "name": "features",
         "type": "{\"type\":\"udt\",\"class\":\"org.apache.spark.ml.linalg.VectorUDT\",\"pyClass\":\"pyspark.ml.linalg.VectorUDT\",\"sqlType\":{\"type\":\"struct\",\"fields\":[{\"name\":\"type\",\"type\":\"byte\",\"nullable\":false,\"metadata\":{}},{\"name\":\"size\",\"type\":\"integer\",\"nullable\":true,\"metadata\":{}},{\"name\":\"indices\",\"type\":{\"type\":\"array\",\"elementType\":\"integer\",\"containsNull\":false},\"nullable\":true,\"metadata\":{}},{\"name\":\"values\",\"type\":{\"type\":\"array\",\"elementType\":\"double\",\"containsNull\":false},\"nullable\":true,\"metadata\":{}}]}}"
        },
        {
         "metadata": "{\"ml_attr\":{\"vals\":[\"No\",\"Yes\"],\"type\":\"nominal\",\"name\":\"NewAttritionCol\"}}",
         "name": "NewAttritionCol",
         "type": "\"double\""
        },
        {
         "metadata": "{\"ml_attr\":{\"type\":\"nominal\",\"num_vals\":2}}",
         "name": "prediction",
         "type": "\"double\""
        },
        {
         "metadata": "{\"ml_attr\":{\"num_attrs\":2}}",
         "name": "probability",
         "type": "{\"type\":\"udt\",\"class\":\"org.apache.spark.ml.linalg.VectorUDT\",\"pyClass\":\"pyspark.ml.linalg.VectorUDT\",\"sqlType\":{\"type\":\"struct\",\"fields\":[{\"name\":\"type\",\"type\":\"byte\",\"nullable\":false,\"metadata\":{}},{\"name\":\"size\",\"type\":\"integer\",\"nullable\":true,\"metadata\":{}},{\"name\":\"indices\",\"type\":{\"type\":\"array\",\"elementType\":\"integer\",\"containsNull\":false},\"nullable\":true,\"metadata\":{}},{\"name\":\"values\",\"type\":{\"type\":\"array\",\"elementType\":\"double\",\"containsNull\":false},\"nullable\":true,\"metadata\":{}}]}}"
        }
       ],
       "type": "table"
      }
     },
     "output_type": "display_data"
    }
   ],
   "source": [
    "display(predDF.select(\"features\", \"NewAttritionCol\", \"prediction\", \"probability\"))"
   ]
  },
  {
   "cell_type": "markdown",
   "metadata": {
    "application/vnd.databricks.v1+cell": {
     "cellMetadata": {},
     "inputWidgets": {},
     "nuid": "88626b27-71ea-4d31-8922-696a26af8504",
     "showTitle": false,
     "title": ""
    }
   },
   "source": [
    "<b> 2.7 - Evaluating the Model </b>"
   ]
  },
  {
   "cell_type": "code",
   "execution_count": 0,
   "metadata": {
    "application/vnd.databricks.v1+cell": {
     "cellMetadata": {},
     "inputWidgets": {},
     "nuid": "9d1b04f0-4029-4c06-a63a-d7c1b144a667",
     "showTitle": false,
     "title": ""
    }
   },
   "outputs": [
    {
     "data": {
      "text/html": [
       "<style scoped>\n",
       "  .table-result-container {\n",
       "    max-height: 300px;\n",
       "    overflow: auto;\n",
       "  }\n",
       "  table, th, td {\n",
       "    border: 1px solid black;\n",
       "    border-collapse: collapse;\n",
       "  }\n",
       "  th, td {\n",
       "    padding: 5px;\n",
       "  }\n",
       "  th {\n",
       "    text-align: left;\n",
       "  }\n",
       "</style><div class='table-result-container'><table class='table-result'><thead style='background-color: white'><tr><th>False Positive Rate</th><th>True Positive Rate</th><th>Threshold</th></tr></thead><tbody><tr><td>0.0</td><td>0.0</td><td>0.2089396617410474</td></tr><tr><td>0.0</td><td>0.041666666666666664</td><td>0.2089396617410474</td></tr><tr><td>0.0</td><td>0.08333333333333333</td><td>0.20883542196695648</td></tr><tr><td>0.0</td><td>0.125</td><td>0.19926477816163468</td></tr><tr><td>0.0</td><td>0.16666666666666666</td><td>0.19732476150810419</td></tr><tr><td>0.011904761904761904</td><td>0.16666666666666666</td><td>0.19591536001018117</td></tr><tr><td>0.023809523809523808</td><td>0.16666666666666666</td><td>0.19430715073388116</td></tr><tr><td>0.03571428571428571</td><td>0.16666666666666666</td><td>0.19370536900783952</td></tr><tr><td>0.03571428571428571</td><td>0.20833333333333334</td><td>0.19165813446581137</td></tr><tr><td>0.03571428571428571</td><td>0.25</td><td>0.1898756049387852</td></tr><tr><td>0.047619047619047616</td><td>0.25</td><td>0.1828690752231552</td></tr><tr><td>0.05952380952380952</td><td>0.25</td><td>0.1827970955228121</td></tr><tr><td>0.07142857142857142</td><td>0.25</td><td>0.1826545152713127</td></tr><tr><td>0.08333333333333333</td><td>0.25</td><td>0.18231926193297066</td></tr><tr><td>0.08333333333333333</td><td>0.2916666666666667</td><td>0.18216921523049368</td></tr><tr><td>0.09523809523809523</td><td>0.2916666666666667</td><td>0.17990418990217794</td></tr><tr><td>0.10714285714285714</td><td>0.2916666666666667</td><td>0.17879261286621873</td></tr><tr><td>0.10714285714285714</td><td>0.3333333333333333</td><td>0.1781097265087317</td></tr><tr><td>0.11904761904761904</td><td>0.3333333333333333</td><td>0.17620727048298102</td></tr><tr><td>0.13095238095238096</td><td>0.3333333333333333</td><td>0.1748434743973104</td></tr><tr><td>0.13095238095238096</td><td>0.375</td><td>0.1741043650253653</td></tr><tr><td>0.14285714285714285</td><td>0.375</td><td>0.17402800781267114</td></tr><tr><td>0.15476190476190477</td><td>0.375</td><td>0.17340729343184014</td></tr><tr><td>0.16666666666666666</td><td>0.375</td><td>0.1726890617934581</td></tr><tr><td>0.16666666666666666</td><td>0.4166666666666667</td><td>0.17243296828513488</td></tr><tr><td>0.17857142857142858</td><td>0.4166666666666667</td><td>0.17241641456995738</td></tr><tr><td>0.19047619047619047</td><td>0.4166666666666667</td><td>0.1719698472888017</td></tr><tr><td>0.20238095238095238</td><td>0.4166666666666667</td><td>0.17192817727931775</td></tr><tr><td>0.20238095238095238</td><td>0.4583333333333333</td><td>0.17046401365147223</td></tr><tr><td>0.20238095238095238</td><td>0.5</td><td>0.17016945815964601</td></tr><tr><td>0.20238095238095238</td><td>0.5416666666666666</td><td>0.17006243670825982</td></tr><tr><td>0.20238095238095238</td><td>0.5833333333333334</td><td>0.1688894124678444</td></tr><tr><td>0.21428571428571427</td><td>0.5833333333333334</td><td>0.16836889610716677</td></tr><tr><td>0.2261904761904762</td><td>0.5833333333333334</td><td>0.16825703061516317</td></tr><tr><td>0.23809523809523808</td><td>0.5833333333333334</td><td>0.1677654790126627</td></tr><tr><td>0.25</td><td>0.5833333333333334</td><td>0.16735802924869259</td></tr><tr><td>0.2619047619047619</td><td>0.5833333333333334</td><td>0.16731326211323616</td></tr><tr><td>0.2619047619047619</td><td>0.625</td><td>0.1670027046639917</td></tr><tr><td>0.27380952380952384</td><td>0.625</td><td>0.1668974423918338</td></tr><tr><td>0.2857142857142857</td><td>0.625</td><td>0.16654647505652487</td></tr><tr><td>0.2857142857142857</td><td>0.6666666666666666</td><td>0.1655064615082794</td></tr><tr><td>0.2857142857142857</td><td>0.7083333333333334</td><td>0.16512569234888197</td></tr><tr><td>0.2976190476190476</td><td>0.7083333333333334</td><td>0.16491626472951326</td></tr><tr><td>0.30952380952380953</td><td>0.7083333333333334</td><td>0.16436943770933143</td></tr><tr><td>0.32142857142857145</td><td>0.7083333333333334</td><td>0.16423794965036853</td></tr><tr><td>0.3333333333333333</td><td>0.7083333333333334</td><td>0.1639677372692161</td></tr><tr><td>0.34523809523809523</td><td>0.7083333333333334</td><td>0.16338767636317797</td></tr><tr><td>0.35714285714285715</td><td>0.7083333333333334</td><td>0.16286873778715438</td></tr><tr><td>0.36904761904761907</td><td>0.7083333333333334</td><td>0.16267680826540454</td></tr><tr><td>0.38095238095238093</td><td>0.7083333333333334</td><td>0.16214131922451325</td></tr><tr><td>0.39285714285714285</td><td>0.7083333333333334</td><td>0.16210436909956683</td></tr><tr><td>0.40476190476190477</td><td>0.7083333333333334</td><td>0.16177699092375453</td></tr><tr><td>0.4166666666666667</td><td>0.7083333333333334</td><td>0.16145287691788268</td></tr><tr><td>0.42857142857142855</td><td>0.7083333333333334</td><td>0.1605560641144531</td></tr><tr><td>0.44047619047619047</td><td>0.7083333333333334</td><td>0.15985061347497165</td></tr><tr><td>0.4523809523809524</td><td>0.7083333333333334</td><td>0.15964088907428364</td></tr><tr><td>0.4523809523809524</td><td>0.75</td><td>0.15957528652890163</td></tr><tr><td>0.4642857142857143</td><td>0.75</td><td>0.15928003899683385</td></tr><tr><td>0.47619047619047616</td><td>0.75</td><td>0.15850615816539904</td></tr><tr><td>0.4880952380952381</td><td>0.75</td><td>0.15840324810643436</td></tr><tr><td>0.4880952380952381</td><td>0.7916666666666666</td><td>0.156945747930049</td></tr><tr><td>0.5</td><td>0.7916666666666666</td><td>0.15526169689187064</td></tr><tr><td>0.5119047619047619</td><td>0.7916666666666666</td><td>0.15475152715424956</td></tr><tr><td>0.5238095238095238</td><td>0.7916666666666666</td><td>0.154736253092292</td></tr><tr><td>0.5357142857142857</td><td>0.7916666666666666</td><td>0.15364078623959643</td></tr><tr><td>0.5476190476190477</td><td>0.7916666666666666</td><td>0.1526808133417249</td></tr><tr><td>0.5595238095238095</td><td>0.7916666666666666</td><td>0.15119754650686423</td></tr><tr><td>0.5714285714285714</td><td>0.7916666666666666</td><td>0.15101295922164293</td></tr><tr><td>0.5833333333333334</td><td>0.7916666666666666</td><td>0.1509187574976344</td></tr><tr><td>0.5952380952380952</td><td>0.7916666666666666</td><td>0.1503846104980905</td></tr><tr><td>0.5952380952380952</td><td>0.8333333333333334</td><td>0.15022831188203523</td></tr><tr><td>0.6071428571428571</td><td>0.8333333333333334</td><td>0.14959388092921222</td></tr><tr><td>0.6190476190476191</td><td>0.8333333333333334</td><td>0.14677649023730643</td></tr><tr><td>0.6309523809523809</td><td>0.8333333333333334</td><td>0.14471985584967229</td></tr><tr><td>0.6428571428571429</td><td>0.8333333333333334</td><td>0.14449891514868063</td></tr><tr><td>0.6547619047619048</td><td>0.8333333333333334</td><td>0.14440357948013505</td></tr><tr><td>0.6666666666666666</td><td>0.8333333333333334</td><td>0.1429740500035136</td></tr><tr><td>0.6785714285714286</td><td>0.8333333333333334</td><td>0.14239821274924125</td></tr><tr><td>0.6904761904761905</td><td>0.8333333333333334</td><td>0.14083456270974704</td></tr><tr><td>0.7023809523809523</td><td>0.8333333333333334</td><td>0.1406812726148975</td></tr><tr><td>0.7142857142857143</td><td>0.8333333333333334</td><td>0.1399236097424036</td></tr><tr><td>0.7261904761904762</td><td>0.8333333333333334</td><td>0.13936803402425746</td></tr><tr><td>0.7380952380952381</td><td>0.8333333333333334</td><td>0.13855598828460214</td></tr><tr><td>0.75</td><td>0.8333333333333334</td><td>0.13835001106168576</td></tr><tr><td>0.7619047619047619</td><td>0.8333333333333334</td><td>0.1356504541206751</td></tr><tr><td>0.7738095238095238</td><td>0.8333333333333334</td><td>0.1351517047837656</td></tr><tr><td>0.7857142857142857</td><td>0.8333333333333334</td><td>0.13449394556820837</td></tr><tr><td>0.7976190476190477</td><td>0.8333333333333334</td><td>0.13401882352704653</td></tr><tr><td>0.8095238095238095</td><td>0.8333333333333334</td><td>0.133993110898723</td></tr><tr><td>0.8214285714285714</td><td>0.8333333333333334</td><td>0.13367437656020276</td></tr><tr><td>0.8333333333333334</td><td>0.8333333333333334</td><td>0.13214006336635087</td></tr><tr><td>0.8452380952380952</td><td>0.8333333333333334</td><td>0.129394269999777</td></tr><tr><td>0.8452380952380952</td><td>0.875</td><td>0.1290053289491635</td></tr><tr><td>0.8571428571428571</td><td>0.875</td><td>0.12900448077290028</td></tr><tr><td>0.8690476190476191</td><td>0.875</td><td>0.12895382447368775</td></tr><tr><td>0.8809523809523809</td><td>0.875</td><td>0.12780546370044954</td></tr><tr><td>0.8928571428571429</td><td>0.875</td><td>0.1273644093094175</td></tr><tr><td>0.9047619047619048</td><td>0.875</td><td>0.12618921730435384</td></tr><tr><td>0.9166666666666666</td><td>0.875</td><td>0.12527162564758065</td></tr><tr><td>0.9285714285714286</td><td>0.875</td><td>0.12138248185811429</td></tr><tr><td>0.9404761904761905</td><td>0.875</td><td>0.11888837127736973</td></tr><tr><td>0.9404761904761905</td><td>0.9166666666666666</td><td>0.11741670422719219</td></tr><tr><td>0.9523809523809523</td><td>0.9166666666666666</td><td>0.11282429741588051</td></tr><tr><td>0.9642857142857143</td><td>0.9166666666666666</td><td>0.10740612757986934</td></tr><tr><td>0.9761904761904762</td><td>0.9166666666666666</td><td>0.10695625884092519</td></tr><tr><td>0.9880952380952381</td><td>0.9166666666666666</td><td>0.10659860797748733</td></tr><tr><td>0.9880952380952381</td><td>0.9583333333333334</td><td>0.10311349581815854</td></tr><tr><td>1.0</td><td>0.9583333333333334</td><td>0.10240601961741358</td></tr><tr><td>1.0</td><td>1.0</td><td>0.10002183656402819</td></tr><tr><td>1.0</td><td>1.0</td><td>0.10002183656402819</td></tr></tbody></table></div>"
      ]
     },
     "metadata": {
      "application/vnd.databricks.v1+output": {
       "addedWidgets": {},
       "aggData": [],
       "aggError": "",
       "aggOverflow": false,
       "aggSchema": [],
       "aggSeriesLimitReached": false,
       "aggType": "",
       "arguments": {},
       "columnCustomDisplayInfos": {},
       "data": [
        [
         0,
         0,
         0.2089396617410474
        ],
        [
         0,
         0.041666666666666664,
         0.2089396617410474
        ],
        [
         0,
         0.08333333333333333,
         0.20883542196695648
        ],
        [
         0,
         0.125,
         0.19926477816163468
        ],
        [
         0,
         0.16666666666666666,
         0.19732476150810419
        ],
        [
         0.011904761904761904,
         0.16666666666666666,
         0.19591536001018117
        ],
        [
         0.023809523809523808,
         0.16666666666666666,
         0.19430715073388116
        ],
        [
         0.03571428571428571,
         0.16666666666666666,
         0.19370536900783952
        ],
        [
         0.03571428571428571,
         0.20833333333333334,
         0.19165813446581137
        ],
        [
         0.03571428571428571,
         0.25,
         0.1898756049387852
        ],
        [
         0.047619047619047616,
         0.25,
         0.1828690752231552
        ],
        [
         0.05952380952380952,
         0.25,
         0.1827970955228121
        ],
        [
         0.07142857142857142,
         0.25,
         0.1826545152713127
        ],
        [
         0.08333333333333333,
         0.25,
         0.18231926193297066
        ],
        [
         0.08333333333333333,
         0.2916666666666667,
         0.18216921523049368
        ],
        [
         0.09523809523809523,
         0.2916666666666667,
         0.17990418990217794
        ],
        [
         0.10714285714285714,
         0.2916666666666667,
         0.17879261286621873
        ],
        [
         0.10714285714285714,
         0.3333333333333333,
         0.1781097265087317
        ],
        [
         0.11904761904761904,
         0.3333333333333333,
         0.17620727048298102
        ],
        [
         0.13095238095238096,
         0.3333333333333333,
         0.1748434743973104
        ],
        [
         0.13095238095238096,
         0.375,
         0.1741043650253653
        ],
        [
         0.14285714285714285,
         0.375,
         0.17402800781267114
        ],
        [
         0.15476190476190477,
         0.375,
         0.17340729343184014
        ],
        [
         0.16666666666666666,
         0.375,
         0.1726890617934581
        ],
        [
         0.16666666666666666,
         0.4166666666666667,
         0.17243296828513488
        ],
        [
         0.17857142857142858,
         0.4166666666666667,
         0.17241641456995738
        ],
        [
         0.19047619047619047,
         0.4166666666666667,
         0.1719698472888017
        ],
        [
         0.20238095238095238,
         0.4166666666666667,
         0.17192817727931775
        ],
        [
         0.20238095238095238,
         0.4583333333333333,
         0.17046401365147223
        ],
        [
         0.20238095238095238,
         0.5,
         0.17016945815964601
        ],
        [
         0.20238095238095238,
         0.5416666666666666,
         0.17006243670825982
        ],
        [
         0.20238095238095238,
         0.5833333333333334,
         0.1688894124678444
        ],
        [
         0.21428571428571427,
         0.5833333333333334,
         0.16836889610716677
        ],
        [
         0.2261904761904762,
         0.5833333333333334,
         0.16825703061516317
        ],
        [
         0.23809523809523808,
         0.5833333333333334,
         0.1677654790126627
        ],
        [
         0.25,
         0.5833333333333334,
         0.16735802924869259
        ],
        [
         0.2619047619047619,
         0.5833333333333334,
         0.16731326211323616
        ],
        [
         0.2619047619047619,
         0.625,
         0.1670027046639917
        ],
        [
         0.27380952380952384,
         0.625,
         0.1668974423918338
        ],
        [
         0.2857142857142857,
         0.625,
         0.16654647505652487
        ],
        [
         0.2857142857142857,
         0.6666666666666666,
         0.1655064615082794
        ],
        [
         0.2857142857142857,
         0.7083333333333334,
         0.16512569234888197
        ],
        [
         0.2976190476190476,
         0.7083333333333334,
         0.16491626472951326
        ],
        [
         0.30952380952380953,
         0.7083333333333334,
         0.16436943770933143
        ],
        [
         0.32142857142857145,
         0.7083333333333334,
         0.16423794965036853
        ],
        [
         0.3333333333333333,
         0.7083333333333334,
         0.1639677372692161
        ],
        [
         0.34523809523809523,
         0.7083333333333334,
         0.16338767636317797
        ],
        [
         0.35714285714285715,
         0.7083333333333334,
         0.16286873778715438
        ],
        [
         0.36904761904761907,
         0.7083333333333334,
         0.16267680826540454
        ],
        [
         0.38095238095238093,
         0.7083333333333334,
         0.16214131922451325
        ],
        [
         0.39285714285714285,
         0.7083333333333334,
         0.16210436909956683
        ],
        [
         0.40476190476190477,
         0.7083333333333334,
         0.16177699092375453
        ],
        [
         0.4166666666666667,
         0.7083333333333334,
         0.16145287691788268
        ],
        [
         0.42857142857142855,
         0.7083333333333334,
         0.1605560641144531
        ],
        [
         0.44047619047619047,
         0.7083333333333334,
         0.15985061347497165
        ],
        [
         0.4523809523809524,
         0.7083333333333334,
         0.15964088907428364
        ],
        [
         0.4523809523809524,
         0.75,
         0.15957528652890163
        ],
        [
         0.4642857142857143,
         0.75,
         0.15928003899683385
        ],
        [
         0.47619047619047616,
         0.75,
         0.15850615816539904
        ],
        [
         0.4880952380952381,
         0.75,
         0.15840324810643436
        ],
        [
         0.4880952380952381,
         0.7916666666666666,
         0.156945747930049
        ],
        [
         0.5,
         0.7916666666666666,
         0.15526169689187064
        ],
        [
         0.5119047619047619,
         0.7916666666666666,
         0.15475152715424956
        ],
        [
         0.5238095238095238,
         0.7916666666666666,
         0.154736253092292
        ],
        [
         0.5357142857142857,
         0.7916666666666666,
         0.15364078623959643
        ],
        [
         0.5476190476190477,
         0.7916666666666666,
         0.1526808133417249
        ],
        [
         0.5595238095238095,
         0.7916666666666666,
         0.15119754650686423
        ],
        [
         0.5714285714285714,
         0.7916666666666666,
         0.15101295922164293
        ],
        [
         0.5833333333333334,
         0.7916666666666666,
         0.1509187574976344
        ],
        [
         0.5952380952380952,
         0.7916666666666666,
         0.1503846104980905
        ],
        [
         0.5952380952380952,
         0.8333333333333334,
         0.15022831188203523
        ],
        [
         0.6071428571428571,
         0.8333333333333334,
         0.14959388092921222
        ],
        [
         0.6190476190476191,
         0.8333333333333334,
         0.14677649023730643
        ],
        [
         0.6309523809523809,
         0.8333333333333334,
         0.14471985584967229
        ],
        [
         0.6428571428571429,
         0.8333333333333334,
         0.14449891514868063
        ],
        [
         0.6547619047619048,
         0.8333333333333334,
         0.14440357948013505
        ],
        [
         0.6666666666666666,
         0.8333333333333334,
         0.1429740500035136
        ],
        [
         0.6785714285714286,
         0.8333333333333334,
         0.14239821274924125
        ],
        [
         0.6904761904761905,
         0.8333333333333334,
         0.14083456270974704
        ],
        [
         0.7023809523809523,
         0.8333333333333334,
         0.1406812726148975
        ],
        [
         0.7142857142857143,
         0.8333333333333334,
         0.1399236097424036
        ],
        [
         0.7261904761904762,
         0.8333333333333334,
         0.13936803402425746
        ],
        [
         0.7380952380952381,
         0.8333333333333334,
         0.13855598828460214
        ],
        [
         0.75,
         0.8333333333333334,
         0.13835001106168576
        ],
        [
         0.7619047619047619,
         0.8333333333333334,
         0.1356504541206751
        ],
        [
         0.7738095238095238,
         0.8333333333333334,
         0.1351517047837656
        ],
        [
         0.7857142857142857,
         0.8333333333333334,
         0.13449394556820837
        ],
        [
         0.7976190476190477,
         0.8333333333333334,
         0.13401882352704653
        ],
        [
         0.8095238095238095,
         0.8333333333333334,
         0.133993110898723
        ],
        [
         0.8214285714285714,
         0.8333333333333334,
         0.13367437656020276
        ],
        [
         0.8333333333333334,
         0.8333333333333334,
         0.13214006336635087
        ],
        [
         0.8452380952380952,
         0.8333333333333334,
         0.129394269999777
        ],
        [
         0.8452380952380952,
         0.875,
         0.1290053289491635
        ],
        [
         0.8571428571428571,
         0.875,
         0.12900448077290028
        ],
        [
         0.8690476190476191,
         0.875,
         0.12895382447368775
        ],
        [
         0.8809523809523809,
         0.875,
         0.12780546370044954
        ],
        [
         0.8928571428571429,
         0.875,
         0.1273644093094175
        ],
        [
         0.9047619047619048,
         0.875,
         0.12618921730435384
        ],
        [
         0.9166666666666666,
         0.875,
         0.12527162564758065
        ],
        [
         0.9285714285714286,
         0.875,
         0.12138248185811429
        ],
        [
         0.9404761904761905,
         0.875,
         0.11888837127736973
        ],
        [
         0.9404761904761905,
         0.9166666666666666,
         0.11741670422719219
        ],
        [
         0.9523809523809523,
         0.9166666666666666,
         0.11282429741588051
        ],
        [
         0.9642857142857143,
         0.9166666666666666,
         0.10740612757986934
        ],
        [
         0.9761904761904762,
         0.9166666666666666,
         0.10695625884092519
        ],
        [
         0.9880952380952381,
         0.9166666666666666,
         0.10659860797748733
        ],
        [
         0.9880952380952381,
         0.9583333333333334,
         0.10311349581815854
        ],
        [
         1,
         0.9583333333333334,
         0.10240601961741358
        ],
        [
         1,
         1,
         0.10002183656402819
        ],
        [
         1,
         1,
         0.10002183656402819
        ]
       ],
       "datasetInfos": [],
       "dbfsResultPath": null,
       "isJsonSchema": true,
       "metadata": {},
       "overflow": false,
       "plotOptions": {
        "customPlotOptions": {},
        "displayType": "ROC",
        "pivotAggregation": null,
        "pivotColumns": null,
        "xColumns": [],
        "yColumns": [
         "False Positive Rate",
         "True Positive Rate",
         "Threshold"
        ]
       },
       "removedWidgets": [],
       "schema": [
        {
         "metadata": "{}",
         "name": "False Positive Rate",
         "type": "\"double\""
        },
        {
         "metadata": "{}",
         "name": "True Positive Rate",
         "type": "\"double\""
        },
        {
         "metadata": "{}",
         "name": "Threshold",
         "type": "\"double\""
        }
       ],
       "type": "table"
      }
     },
     "output_type": "display_data"
    }
   ],
   "source": [
    "# Plotting the ROC curve\n",
    "display(pipelineModel.stages[-1], predDF.drop(\"prediction\", \"rawPrediction\", \"probability\"), \"ROC\")"
   ]
  },
  {
   "cell_type": "code",
   "execution_count": 0,
   "metadata": {
    "application/vnd.databricks.v1+cell": {
     "cellMetadata": {},
     "inputWidgets": {},
     "nuid": "12312079-e4b6-4b6e-aca4-b5db0c0c43d2",
     "showTitle": false,
     "title": ""
    }
   },
   "outputs": [
    {
     "name": "stdout",
     "output_type": "stream",
     "text": [
      "Area under ROC curve:  0.7369510015987963\n",
      "Accuracy:  0.8157894736842105\n"
     ]
    }
   ],
   "source": [
    "# Printing the area under the curve and the accuracy\n",
    "binary_class_eval = BinaryClassificationEvaluator(metricName=\"areaUnderROC\", labelCol=\"NewAttritionCol\")\n",
    "\n",
    "print(\"Area under ROC curve: \", binary_class_eval.evaluate(predDF))\n",
    "\n",
    "multi_class_eval = MulticlassClassificationEvaluator(metricName=\"accuracy\", labelCol=\"NewAttritionCol\")\n",
    "\n",
    "print(\"Accuracy: \", multi_class_eval.evaluate(predDF))"
   ]
  },
  {
   "cell_type": "markdown",
   "metadata": {
    "application/vnd.databricks.v1+cell": {
     "cellMetadata": {},
     "inputWidgets": {},
     "nuid": "e5e4c3e4-7eea-4cce-a6f7-3db83aba79de",
     "showTitle": false,
     "title": ""
    }
   },
   "source": [
    "<b> 2.8 - Hyperparameter Tuning </b>"
   ]
  },
  {
   "cell_type": "code",
   "execution_count": 0,
   "metadata": {
    "application/vnd.databricks.v1+cell": {
     "cellMetadata": {},
     "inputWidgets": {},
     "nuid": "004ba899-928d-437c-b15e-9ce9a2be676d",
     "showTitle": false,
     "title": ""
    }
   },
   "outputs": [],
   "source": [
    "# Using ParamGridBuilder\n",
    "parameterGrid = (ParamGridBuilder()\n",
    "                 .addGrid(log_regression.regParam, [0.01, 0.5, 2.0])\n",
    "                 .addGrid(log_regression.elasticNetParam, [0.0, 0.5, 1.0])\n",
    "                 .build())"
   ]
  },
  {
   "cell_type": "code",
   "execution_count": 0,
   "metadata": {
    "application/vnd.databricks.v1+cell": {
     "cellMetadata": {},
     "inputWidgets": {},
     "nuid": "f6148e87-5747-47ad-bd81-ec9b2c246ae7",
     "showTitle": false,
     "title": ""
    }
   },
   "outputs": [],
   "source": [
    "# Using CrossValidator\n",
    "\n",
    "#Creating a 3-fold CrossValidator\n",
    "cross_validator = CrossValidator(estimator=pipeline, estimatorParamMaps=parameterGrid, evaluator=binary_class_eval, numFolds=3)\n",
    "\n",
    "# Running the cross validations to find the best model \n",
    "cross_validator_model = cross_validator.fit(trainDF)"
   ]
  },
  {
   "cell_type": "markdown",
   "metadata": {
    "application/vnd.databricks.v1+cell": {
     "cellMetadata": {},
     "inputWidgets": {},
     "nuid": "2ecc182e-e8b5-449a-b2ea-41d338d7a109",
     "showTitle": false,
     "title": ""
    }
   },
   "source": [
    "<b>2.9 -  Make predictions and Evaluate the model performance </b>"
   ]
  },
  {
   "cell_type": "code",
   "execution_count": 0,
   "metadata": {
    "application/vnd.databricks.v1+cell": {
     "cellMetadata": {},
     "inputWidgets": {},
     "nuid": "a3561b53-419f-456f-a530-a5b7457b18fc",
     "showTitle": false,
     "title": ""
    }
   },
   "outputs": [
    {
     "name": "stdout",
     "output_type": "stream",
     "text": [
      "Area under ROC curve:  0.7123107307439106\n",
      "Accuracy:  0.8157894736842105\n"
     ]
    }
   ],
   "source": [
    "cvPredDF = cross_validator_model.transform(testDF)\n",
    "\n",
    "\n",
    "#Evaluating the Model performance \n",
    "print(\"Area under ROC curve: \", binary_class_eval.evaluate(cvPredDF))\n",
    "print(\"Accuracy: \", multi_class_eval.evaluate(cvPredDF))"
   ]
  },
  {
   "cell_type": "markdown",
   "metadata": {
    "application/vnd.databricks.v1+cell": {
     "cellMetadata": {},
     "inputWidgets": {},
     "nuid": "247405fb-edab-4eb6-8c52-bc02e8e167ce",
     "showTitle": false,
     "title": ""
    }
   },
   "source": [
    "<b> 2.10 Use SQL Commands </b>"
   ]
  },
  {
   "cell_type": "code",
   "execution_count": 0,
   "metadata": {
    "application/vnd.databricks.v1+cell": {
     "cellMetadata": {},
     "inputWidgets": {},
     "nuid": "eb8b1651-e16c-4a13-897d-72fbd789944a",
     "showTitle": false,
     "title": ""
    }
   },
   "outputs": [],
   "source": [
    "# 2.10.1 Creating a temporary view of the predictions dataset\n",
    "cvPredDF.createOrReplaceTempView(\"finalPredictions\")"
   ]
  },
  {
   "cell_type": "markdown",
   "metadata": {
    "application/vnd.databricks.v1+cell": {
     "cellMetadata": {},
     "inputWidgets": {},
     "nuid": "ce2fe979-1ee1-4833-ac6d-cacbcea8a2a2",
     "showTitle": false,
     "title": ""
    }
   },
   "source": [
    "<b> 2.10.2  Displaying the predictions grouped by JobRole - Bar Chart</b>"
   ]
  },
  {
   "cell_type": "code",
   "execution_count": 0,
   "metadata": {
    "application/vnd.databricks.v1+cell": {
     "cellMetadata": {
      "implicitDf": true
     },
     "inputWidgets": {},
     "nuid": "531adba4-cfb7-41be-9f21-dbfec175a8dd",
     "showTitle": false,
     "title": ""
    }
   },
   "outputs": [
    {
     "data": {
      "text/html": [
       "<style scoped>\n",
       "  .table-result-container {\n",
       "    max-height: 300px;\n",
       "    overflow: auto;\n",
       "  }\n",
       "  table, th, td {\n",
       "    border: 1px solid black;\n",
       "    border-collapse: collapse;\n",
       "  }\n",
       "  th, td {\n",
       "    padding: 5px;\n",
       "  }\n",
       "  th {\n",
       "    text-align: left;\n",
       "  }\n",
       "</style><div class='table-result-container'><table class='table-result'><thead style='background-color: white'><tr><th>JobRole</th><th>prediction</th><th>Count</th></tr></thead><tbody><tr><td>Healthcare Representative</td><td>0.0</td><td>20</td></tr><tr><td>Human Resources</td><td>0.0</td><td>9</td></tr><tr><td>Laboratory Technician</td><td>0.0</td><td>58</td></tr><tr><td>Laboratory Technician</td><td>1.0</td><td>1</td></tr><tr><td>Manager</td><td>0.0</td><td>19</td></tr><tr><td>Manufacturing Director</td><td>0.0</td><td>26</td></tr><tr><td>Research Director</td><td>0.0</td><td>17</td></tr><tr><td>Research Scientist</td><td>1.0</td><td>1</td></tr><tr><td>Research Scientist</td><td>0.0</td><td>51</td></tr><tr><td>Sales Executive</td><td>0.0</td><td>51</td></tr><tr><td>Sales Representative</td><td>0.0</td><td>13</td></tr></tbody></table></div>"
      ]
     },
     "metadata": {
      "application/vnd.databricks.v1+output": {
       "addedWidgets": {},
       "aggData": [],
       "aggError": "",
       "aggOverflow": false,
       "aggSchema": [],
       "aggSeriesLimitReached": false,
       "aggType": "",
       "arguments": {},
       "columnCustomDisplayInfos": {},
       "data": [
        [
         "Healthcare Representative",
         0,
         20
        ],
        [
         "Human Resources",
         0,
         9
        ],
        [
         "Laboratory Technician",
         0,
         58
        ],
        [
         "Laboratory Technician",
         1,
         1
        ],
        [
         "Manager",
         0,
         19
        ],
        [
         "Manufacturing Director",
         0,
         26
        ],
        [
         "Research Director",
         0,
         17
        ],
        [
         "Research Scientist",
         1,
         1
        ],
        [
         "Research Scientist",
         0,
         51
        ],
        [
         "Sales Executive",
         0,
         51
        ],
        [
         "Sales Representative",
         0,
         13
        ]
       ],
       "datasetInfos": [],
       "dbfsResultPath": null,
       "isJsonSchema": true,
       "metadata": {},
       "overflow": false,
       "plotOptions": {
        "customPlotOptions": {},
        "displayType": "table",
        "pivotAggregation": null,
        "pivotColumns": null,
        "xColumns": null,
        "yColumns": null
       },
       "removedWidgets": [],
       "schema": [
        {
         "metadata": "{}",
         "name": "JobRole",
         "type": "\"string\""
        },
        {
         "metadata": "{\"ml_attr\":{\"type\":\"nominal\",\"num_vals\":2}}",
         "name": "prediction",
         "type": "\"double\""
        },
        {
         "metadata": "{}",
         "name": "Count",
         "type": "\"long\""
        }
       ],
       "type": "table"
      }
     },
     "output_type": "display_data"
    },
    {
     "data": {
      "text/plain": [
       "Output can only be rendered in Databricks"
      ]
     },
     "metadata": {
      "application/vnd.databricks.v1.subcommand+json": {
       "bindings": {},
       "collapsed": false,
       "command": "%sql WITH q AS (SELECT JobRole, prediction, count(1||2) as Count\nFROM finalPredictions\nGroup By JobRole, prediction\nOrder By JobRole) SELECT `JobRole`,SUM(`Count`) `column_1c29b7682`,`prediction` FROM q GROUP BY `JobRole`,`prediction`",
       "commandTitle": "Visualization 1",
       "commandType": "auto",
       "commandVersion": 0,
       "commentThread": [],
       "commentsVisible": false,
       "contentSha256Hex": null,
       "customPlotOptions": {
        "redashChart": [
         {
          "key": "type",
          "value": "CHART"
         },
         {
          "key": "options",
          "value": {
           "alignYAxesAtZero": true,
           "coefficient": 1,
           "columnConfigurationMap": {
            "series": {
             "column": "prediction",
             "id": "column_1c29b7685"
            },
            "x": {
             "column": "JobRole",
             "id": "column_1c29b7684"
            },
            "y": [
             {
              "column": "Count",
              "id": "column_1c29b7682",
              "transform": "SUM"
             }
            ]
           },
           "dateTimeFormat": "DD/MM/YYYY HH:mm",
           "direction": {
            "type": "counterclockwise"
           },
           "error_y": {
            "type": "data",
            "visible": true
           },
           "globalSeriesType": "column",
           "hideYAxes": false,
           "isAggregationOn": true,
           "legend": {
            "enabled": true,
            "placement": "right",
            "traceorder": "normal"
           },
           "missingValuesAsZero": true,
           "numberFormat": "0,0[.]00000",
           "percentFormat": "0[.]00%",
           "series": {
            "error_y": {
             "type": "data",
             "visible": true
            },
            "stacking": null
           },
           "seriesOptions": {
            "0": {
             "color": "#002FB4",
             "name": ""
            },
            "1": {
             "color": "#FB8D3D"
            },
            "column_1c29b7682": {
             "name": "Count",
             "type": "column",
             "yAxis": 0
            }
           },
           "showDataLabels": false,
           "sizemode": "diameter",
           "sortX": true,
           "sortY": true,
           "swappedAxes": false,
           "textFormat": "",
           "useAggregationsUi": true,
           "valuesOptions": {},
           "version": 2,
           "xAxis": {
            "labels": {
             "enabled": true
            },
            "title": {
             "text": null
            },
            "type": "-"
           },
           "yAxis": [
            {
             "title": {
              "text": "Count"
             },
             "type": "-"
            },
            {
             "opposite": true,
             "type": "-"
            }
           ]
          }
         }
        ]
       },
       "datasetPreviewNameToCmdIdMap": {},
       "diffDeletes": [],
       "diffInserts": [],
       "displayType": "redashChart",
       "error": null,
       "errorSummary": null,
       "errorTraceType": null,
       "finishTime": 0,
       "globalVars": {},
       "guid": "2df27832-d9a6-45bb-a91d-67a854c22d38",
       "height": "auto",
       "hideCommandCode": false,
       "hideCommandResult": false,
       "iPythonMetadata": null,
       "inputWidgets": {},
       "isLockedInExamMode": false,
       "latestUser": "a user",
       "latestUserId": null,
       "listResultMetadata": null,
       "metadata": {
        "implicitDf": true
       },
       "nuid": "bcaaa6f2-2ba6-4684-8890-1fca90aae68c",
       "origId": 3737847178568123,
       "parentHierarchy": [
        "a4c0ffb2-2f35-48eb-8b13-10979892b211"
       ],
       "pivotAggregation": null,
       "pivotColumns": null,
       "position": 20,
       "resultDbfsErrorMessage": null,
       "resultDbfsStatus": "INLINED_IN_TREE",
       "results": null,
       "showCommandTitle": false,
       "startTime": 0,
       "state": "finished",
       "streamStates": {},
       "subcommandOptions": {
        "queryPlan": {
         "groups": [
          {
           "column": "JobRole",
           "type": "column"
          },
          {
           "column": "prediction",
           "type": "column"
          }
         ],
         "selects": [
          {
           "column": "JobRole",
           "type": "column"
          },
          {
           "alias": "column_1c29b7682",
           "args": [
            {
             "column": "Count",
             "type": "column"
            }
           ],
           "function": "SUM",
           "type": "function"
          },
          {
           "column": "prediction",
           "type": "column"
          }
         ]
        }
       },
       "submitTime": 0,
       "subtype": "tableResultSubCmd.visualization",
       "tableResultIndex": 0,
       "useConsistentColors": false,
       "version": "CommandV1",
       "width": "auto",
       "workflows": [],
       "xColumns": null,
       "yColumns": null
      }
     },
     "output_type": "display_data"
    }
   ],
   "source": [
    "%sql\n",
    "SELECT JobRole, prediction, count(1||2) as Count\n",
    "FROM finalPredictions\n",
    "Group By JobRole, prediction\n",
    "Order By JobRole"
   ]
  },
  {
   "cell_type": "markdown",
   "metadata": {
    "application/vnd.databricks.v1+cell": {
     "cellMetadata": {},
     "inputWidgets": {},
     "nuid": "09d05afd-166b-4a48-bcf9-11d59c4f51fc",
     "showTitle": false,
     "title": ""
    }
   },
   "source": [
    "<b> 2.10.3  Displaying the predictions grouped by Age - Bar Chart </b>"
   ]
  },
  {
   "cell_type": "code",
   "execution_count": 0,
   "metadata": {
    "application/vnd.databricks.v1+cell": {
     "cellMetadata": {
      "implicitDf": true
     },
     "inputWidgets": {},
     "nuid": "29f29710-5060-4e5b-8165-747392db7f4f",
     "showTitle": false,
     "title": ""
    }
   },
   "outputs": [
    {
     "data": {
      "text/html": [
       "<style scoped>\n",
       "  .table-result-container {\n",
       "    max-height: 300px;\n",
       "    overflow: auto;\n",
       "  }\n",
       "  table, th, td {\n",
       "    border: 1px solid black;\n",
       "    border-collapse: collapse;\n",
       "  }\n",
       "  th, td {\n",
       "    padding: 5px;\n",
       "  }\n",
       "  th {\n",
       "    text-align: left;\n",
       "  }\n",
       "</style><div class='table-result-container'><table class='table-result'><thead style='background-color: white'><tr><th>Age</th><th>prediction</th><th>Count</th></tr></thead><tbody><tr><td>18</td><td>0.0</td><td>1</td></tr><tr><td>19</td><td>1.0</td><td>1</td></tr><tr><td>20</td><td>0.0</td><td>1</td></tr><tr><td>21</td><td>0.0</td><td>2</td></tr><tr><td>22</td><td>0.0</td><td>3</td></tr><tr><td>23</td><td>0.0</td><td>4</td></tr><tr><td>24</td><td>0.0</td><td>5</td></tr><tr><td>25</td><td>0.0</td><td>4</td></tr><tr><td>26</td><td>0.0</td><td>7</td></tr><tr><td>27</td><td>0.0</td><td>11</td></tr><tr><td>28</td><td>0.0</td><td>9</td></tr><tr><td>29</td><td>0.0</td><td>11</td></tr><tr><td>30</td><td>0.0</td><td>9</td></tr><tr><td>31</td><td>0.0</td><td>8</td></tr><tr><td>32</td><td>0.0</td><td>14</td></tr><tr><td>33</td><td>0.0</td><td>8</td></tr><tr><td>33</td><td>1.0</td><td>1</td></tr><tr><td>34</td><td>0.0</td><td>17</td></tr><tr><td>35</td><td>0.0</td><td>14</td></tr><tr><td>36</td><td>0.0</td><td>12</td></tr><tr><td>37</td><td>0.0</td><td>10</td></tr><tr><td>38</td><td>0.0</td><td>13</td></tr><tr><td>39</td><td>0.0</td><td>7</td></tr><tr><td>40</td><td>0.0</td><td>12</td></tr><tr><td>41</td><td>0.0</td><td>10</td></tr><tr><td>42</td><td>0.0</td><td>6</td></tr><tr><td>43</td><td>0.0</td><td>5</td></tr><tr><td>44</td><td>0.0</td><td>5</td></tr><tr><td>45</td><td>0.0</td><td>2</td></tr><tr><td>46</td><td>0.0</td><td>6</td></tr><tr><td>47</td><td>0.0</td><td>7</td></tr><tr><td>48</td><td>0.0</td><td>4</td></tr><tr><td>49</td><td>0.0</td><td>2</td></tr><tr><td>50</td><td>0.0</td><td>6</td></tr><tr><td>51</td><td>0.0</td><td>3</td></tr><tr><td>52</td><td>0.0</td><td>3</td></tr><tr><td>53</td><td>0.0</td><td>4</td></tr><tr><td>54</td><td>0.0</td><td>2</td></tr><tr><td>55</td><td>0.0</td><td>8</td></tr><tr><td>56</td><td>0.0</td><td>2</td></tr><tr><td>58</td><td>0.0</td><td>5</td></tr><tr><td>59</td><td>0.0</td><td>1</td></tr><tr><td>60</td><td>0.0</td><td>1</td></tr></tbody></table></div>"
      ]
     },
     "metadata": {
      "application/vnd.databricks.v1+output": {
       "addedWidgets": {},
       "aggData": [],
       "aggError": "",
       "aggOverflow": false,
       "aggSchema": [],
       "aggSeriesLimitReached": false,
       "aggType": "",
       "arguments": {},
       "columnCustomDisplayInfos": {},
       "data": [
        [
         18,
         0,
         1
        ],
        [
         19,
         1,
         1
        ],
        [
         20,
         0,
         1
        ],
        [
         21,
         0,
         2
        ],
        [
         22,
         0,
         3
        ],
        [
         23,
         0,
         4
        ],
        [
         24,
         0,
         5
        ],
        [
         25,
         0,
         4
        ],
        [
         26,
         0,
         7
        ],
        [
         27,
         0,
         11
        ],
        [
         28,
         0,
         9
        ],
        [
         29,
         0,
         11
        ],
        [
         30,
         0,
         9
        ],
        [
         31,
         0,
         8
        ],
        [
         32,
         0,
         14
        ],
        [
         33,
         0,
         8
        ],
        [
         33,
         1,
         1
        ],
        [
         34,
         0,
         17
        ],
        [
         35,
         0,
         14
        ],
        [
         36,
         0,
         12
        ],
        [
         37,
         0,
         10
        ],
        [
         38,
         0,
         13
        ],
        [
         39,
         0,
         7
        ],
        [
         40,
         0,
         12
        ],
        [
         41,
         0,
         10
        ],
        [
         42,
         0,
         6
        ],
        [
         43,
         0,
         5
        ],
        [
         44,
         0,
         5
        ],
        [
         45,
         0,
         2
        ],
        [
         46,
         0,
         6
        ],
        [
         47,
         0,
         7
        ],
        [
         48,
         0,
         4
        ],
        [
         49,
         0,
         2
        ],
        [
         50,
         0,
         6
        ],
        [
         51,
         0,
         3
        ],
        [
         52,
         0,
         3
        ],
        [
         53,
         0,
         4
        ],
        [
         54,
         0,
         2
        ],
        [
         55,
         0,
         8
        ],
        [
         56,
         0,
         2
        ],
        [
         58,
         0,
         5
        ],
        [
         59,
         0,
         1
        ],
        [
         60,
         0,
         1
        ]
       ],
       "datasetInfos": [],
       "dbfsResultPath": null,
       "isJsonSchema": true,
       "metadata": {},
       "overflow": false,
       "plotOptions": {
        "customPlotOptions": {},
        "displayType": "table",
        "pivotAggregation": null,
        "pivotColumns": null,
        "xColumns": null,
        "yColumns": null
       },
       "removedWidgets": [],
       "schema": [
        {
         "metadata": "{}",
         "name": "Age",
         "type": "\"integer\""
        },
        {
         "metadata": "{\"ml_attr\":{\"type\":\"nominal\",\"num_vals\":2}}",
         "name": "prediction",
         "type": "\"double\""
        },
        {
         "metadata": "{}",
         "name": "Count",
         "type": "\"long\""
        }
       ],
       "type": "table"
      }
     },
     "output_type": "display_data"
    },
    {
     "data": {
      "text/plain": [
       "Output can only be rendered in Databricks"
      ]
     },
     "metadata": {
      "application/vnd.databricks.v1.subcommand+json": {
       "bindings": {},
       "collapsed": false,
       "command": "%sql WITH q AS (SELECT Age, prediction, count(1||2) as Count\nFROM finalPredictions\nGroup By Age, prediction\nOrder By Age) SELECT `Age`,SUM(`Count`) `column_1c29b76810`,`prediction` FROM q GROUP BY `Age`,`prediction`",
       "commandTitle": "Visualization 1",
       "commandType": "auto",
       "commandVersion": 0,
       "commentThread": [],
       "commentsVisible": false,
       "contentSha256Hex": null,
       "customPlotOptions": {
        "redashChart": [
         {
          "key": "type",
          "value": "CHART"
         },
         {
          "key": "options",
          "value": {
           "alignYAxesAtZero": true,
           "coefficient": 1,
           "columnConfigurationMap": {
            "series": {
             "column": "prediction",
             "id": "column_1c29b76811"
            },
            "x": {
             "column": "Age",
             "id": "column_1c29b7688"
            },
            "y": [
             {
              "column": "Count",
              "id": "column_1c29b76810",
              "transform": "SUM"
             }
            ]
           },
           "dateTimeFormat": "DD/MM/YYYY HH:mm",
           "direction": {
            "type": "counterclockwise"
           },
           "error_y": {
            "type": "data",
            "visible": true
           },
           "globalSeriesType": "column",
           "hideXAxis": false,
           "isAggregationOn": true,
           "legend": {
            "enabled": true,
            "placement": "right",
            "traceorder": "normal"
           },
           "missingValuesAsZero": true,
           "numberFormat": "0,0[.]00000",
           "percentFormat": "0[.]00%",
           "reverseX": false,
           "series": {
            "error_y": {
             "type": "data",
             "visible": true
            },
            "stacking": null
           },
           "seriesOptions": {
            "1": {
             "color": "#FB8D3D"
            },
            "column_1c29b76810": {
             "type": "column",
             "yAxis": 0
            }
           },
           "showDataLabels": false,
           "sizemode": "diameter",
           "sortX": true,
           "sortY": true,
           "swappedAxes": false,
           "textFormat": "",
           "useAggregationsUi": true,
           "valuesOptions": {},
           "version": 2,
           "xAxis": {
            "labels": {
             "enabled": true
            },
            "type": "category"
           },
           "yAxis": [
            {
             "title": {
              "text": "Count"
             },
             "type": "-"
            },
            {
             "opposite": true,
             "type": "-"
            }
           ]
          }
         }
        ]
       },
       "datasetPreviewNameToCmdIdMap": {},
       "diffDeletes": [],
       "diffInserts": [],
       "displayType": "redashChart",
       "error": null,
       "errorSummary": null,
       "errorTraceType": null,
       "finishTime": 0,
       "globalVars": {},
       "guid": "718ba716-d066-4d0b-b936-75895c825beb",
       "height": "auto",
       "hideCommandCode": false,
       "hideCommandResult": false,
       "iPythonMetadata": null,
       "inputWidgets": {},
       "isLockedInExamMode": false,
       "latestUser": "a user",
       "latestUserId": null,
       "listResultMetadata": null,
       "metadata": {
        "implicitDf": true
       },
       "nuid": "b5c9e02d-96bb-4939-8062-a0b0f829bb92",
       "origId": 3737847178568126,
       "parentHierarchy": [
        "a2f9cf7a-1c94-4909-bb59-b8aa676e98ab"
       ],
       "pivotAggregation": null,
       "pivotColumns": null,
       "position": 22,
       "resultDbfsErrorMessage": null,
       "resultDbfsStatus": "INLINED_IN_TREE",
       "results": null,
       "showCommandTitle": false,
       "startTime": 0,
       "state": "finished",
       "streamStates": {},
       "subcommandOptions": {
        "queryPlan": {
         "groups": [
          {
           "column": "Age",
           "type": "column"
          },
          {
           "column": "prediction",
           "type": "column"
          }
         ],
         "selects": [
          {
           "column": "Age",
           "type": "column"
          },
          {
           "alias": "column_1c29b76810",
           "args": [
            {
             "column": "Count",
             "type": "column"
            }
           ],
           "function": "SUM",
           "type": "function"
          },
          {
           "column": "prediction",
           "type": "column"
          }
         ]
        }
       },
       "submitTime": 0,
       "subtype": "tableResultSubCmd.visualization",
       "tableResultIndex": 0,
       "useConsistentColors": false,
       "version": "CommandV1",
       "width": "auto",
       "workflows": [],
       "xColumns": null,
       "yColumns": null
      }
     },
     "output_type": "display_data"
    }
   ],
   "source": [
    "%sql\n",
    "SELECT Age, prediction, count(1||2) as Count\n",
    "FROM finalPredictions\n",
    "Group By Age, prediction\n",
    "Order By Age\n"
   ]
  },
  {
   "cell_type": "markdown",
   "metadata": {
    "application/vnd.databricks.v1+cell": {
     "cellMetadata": {},
     "inputWidgets": {},
     "nuid": "8bbc1610-3393-4ade-b8bb-6ea0bf665de3",
     "showTitle": false,
     "title": ""
    }
   },
   "source": [
    "<h3> References: </h3>\n",
    "\n",
    "<p>\n",
    "  <b>1.</b>  Dr. Liao’s Code Examples & Tutorials: Blackboard/Liao_PySpark_basic_databricks.html\n",
    "  <br>\n",
    "  <b>2.</b> PySpark: https://spark.apache.org/docs/2.4.0/api/python/pyspark.html  \n",
    "</p>"
   ]
  }
 ],
 "metadata": {
  "application/vnd.databricks.v1+notebook": {
   "dashboards": [],
   "language": "python",
   "notebookMetadata": {
    "mostRecentlyExecutedCommandWithImplicitDF": {
     "commandId": 3737847178568126,
     "dataframes": [
      "_sqldf"
     ]
    },
    "pythonIndentUnit": 4
   },
   "notebookName": "AIT614-Sec005_Lab5.2_RashmikaCalve",
   "notebookOrigID": 550258958559787,
   "widgets": {}
  },
  "kernelspec": {
   "display_name": "Python 3 (ipykernel)",
   "language": "python",
   "name": "python3"
  },
  "language_info": {
   "codemirror_mode": {
    "name": "ipython",
    "version": 3
   },
   "file_extension": ".py",
   "mimetype": "text/x-python",
   "name": "python",
   "nbconvert_exporter": "python",
   "pygments_lexer": "ipython3",
   "version": "3.9.7"
  }
 },
 "nbformat": 4,
 "nbformat_minor": 1
}
