{
 "cells": [
  {
   "cell_type": "markdown",
   "metadata": {
    "application/vnd.databricks.v1+cell": {
     "cellMetadata": {},
     "inputWidgets": {},
     "nuid": "7cef9bc9-c6d6-44ee-ac81-b2d91258a576",
     "showTitle": false,
     "title": ""
    }
   },
   "source": [
    "<h1> Task 1 - Market Basket Analysis and Product Recommendation  </h1>\n",
    "\n",
    "<h6> GOAL: The goal of this task is to use Spark MLlib to build a model to generate association rules to quickly run the market basket analysis to uncover associations between different items, then further to provide recommendations for purchase on a distributed platform.   </h6>"
   ]
  },
  {
   "cell_type": "code",
   "execution_count": 0,
   "metadata": {
    "application/vnd.databricks.v1+cell": {
     "cellMetadata": {},
     "inputWidgets": {},
     "nuid": "9ce906f5-4bb2-43af-913e-c1ea778bbb39",
     "showTitle": false,
     "title": ""
    }
   },
   "outputs": [],
   "source": [
    "# Importing the library\n",
    "from pyspark.ml.fpm import FPGrowth"
   ]
  },
  {
   "cell_type": "code",
   "execution_count": 0,
   "metadata": {
    "application/vnd.databricks.v1+cell": {
     "cellMetadata": {},
     "inputWidgets": {},
     "nuid": "11de495e-29c3-47f7-b685-a65344be47d9",
     "showTitle": false,
     "title": ""
    }
   },
   "outputs": [],
   "source": [
    "# 1.3 - Creating the training set\n",
    "# Reading the dataframe\n",
    "train_df = spark.read.format(\"csv\").option(\"header\", \"false\").load(\"dbfs:/FileStore/shared_uploads/clvrashmika@gmail.com/Lab5_Part1_TrainData.csv\")"
   ]
  },
  {
   "cell_type": "code",
   "execution_count": 0,
   "metadata": {
    "application/vnd.databricks.v1+cell": {
     "cellMetadata": {},
     "inputWidgets": {},
     "nuid": "683ef21e-07f1-4b8b-9ff5-e27fdd80f2d7",
     "showTitle": false,
     "title": ""
    }
   },
   "outputs": [
    {
     "data": {
      "text/html": [
       "<style scoped>\n",
       "  .table-result-container {\n",
       "    max-height: 300px;\n",
       "    overflow: auto;\n",
       "  }\n",
       "  table, th, td {\n",
       "    border: 1px solid black;\n",
       "    border-collapse: collapse;\n",
       "  }\n",
       "  th, td {\n",
       "    padding: 5px;\n",
       "  }\n",
       "  th {\n",
       "    text-align: left;\n",
       "  }\n",
       "</style><div class='table-result-container'><table class='table-result'><thead style='background-color: white'><tr><th>_c0</th><th>_c1</th><th>_c2</th><th>_c3</th><th>_c4</th></tr></thead><tbody><tr><td>bread</td><td>null</td><td>null</td><td>null</td><td>null</td></tr><tr><td>peanut butter</td><td> apple</td><td>null</td><td>null</td><td>null</td></tr><tr><td> peanut butter</td><td> bread</td><td>null</td><td>null</td><td>null</td></tr><tr><td>peanut butter</td><td> bread</td><td> apple</td><td>null</td><td>null</td></tr><tr><td>peanut butter</td><td> bread</td><td> milk</td><td>null</td><td>null</td></tr><tr><td>peanut butter</td><td> bread</td><td> milk</td><td> chocolate</td><td>null</td></tr><tr><td>bread</td><td> milk</td><td> orange</td><td>null</td><td>null</td></tr><tr><td>apple</td><td> chocolate</td><td> milk</td><td>null</td><td>null</td></tr><tr><td>peanut butter</td><td> milk</td><td> chocolate</td><td> apple</td><td>null</td></tr><tr><td>cheese</td><td> bread</td><td> milk</td><td> potatoes </td><td>null</td></tr><tr><td>cheese</td><td> pasta</td><td> ketchup</td><td>null</td><td>null</td></tr><tr><td>milk</td><td> cheese</td><td> pasta</td><td> ketchup</td><td>null</td></tr><tr><td>pasta</td><td> ketchup</td><td> cheese</td><td> potatoes</td><td> milk</td></tr><tr><td>bread</td><td> milk</td><td> chocolate</td><td> pasta</td><td>null</td></tr><tr><td> milk</td><td> pasta</td><td> potatoes</td><td> ketchup</td><td> bread</td></tr><tr><td>apple</td><td> chocolate</td><td> pasta</td><td>null</td><td>null</td></tr><tr><td>milk</td><td>bread</td><td>null</td><td>null</td><td>null</td></tr><tr><td>apple</td><td>milk</td><td>null</td><td>null</td><td>null</td></tr><tr><td>milk</td><td>chocolate</td><td>null</td><td>null</td><td>null</td></tr><tr><td>milk</td><td>null</td><td>null</td><td>null</td><td>null</td></tr></tbody></table></div>"
      ]
     },
     "metadata": {
      "application/vnd.databricks.v1+output": {
       "addedWidgets": {},
       "aggData": [],
       "aggError": "",
       "aggOverflow": false,
       "aggSchema": [],
       "aggSeriesLimitReached": false,
       "aggType": "",
       "arguments": {},
       "columnCustomDisplayInfos": {},
       "data": [
        [
         "bread",
         null,
         null,
         null,
         null
        ],
        [
         "peanut butter",
         " apple",
         null,
         null,
         null
        ],
        [
         " peanut butter",
         " bread",
         null,
         null,
         null
        ],
        [
         "peanut butter",
         " bread",
         " apple",
         null,
         null
        ],
        [
         "peanut butter",
         " bread",
         " milk",
         null,
         null
        ],
        [
         "peanut butter",
         " bread",
         " milk",
         " chocolate",
         null
        ],
        [
         "bread",
         " milk",
         " orange",
         null,
         null
        ],
        [
         "apple",
         " chocolate",
         " milk",
         null,
         null
        ],
        [
         "peanut butter",
         " milk",
         " chocolate",
         " apple",
         null
        ],
        [
         "cheese",
         " bread",
         " milk",
         " potatoes ",
         null
        ],
        [
         "cheese",
         " pasta",
         " ketchup",
         null,
         null
        ],
        [
         "milk",
         " cheese",
         " pasta",
         " ketchup",
         null
        ],
        [
         "pasta",
         " ketchup",
         " cheese",
         " potatoes",
         " milk"
        ],
        [
         "bread",
         " milk",
         " chocolate",
         " pasta",
         null
        ],
        [
         " milk",
         " pasta",
         " potatoes",
         " ketchup",
         " bread"
        ],
        [
         "apple",
         " chocolate",
         " pasta",
         null,
         null
        ],
        [
         "milk",
         "bread",
         null,
         null,
         null
        ],
        [
         "apple",
         "milk",
         null,
         null,
         null
        ],
        [
         "milk",
         "chocolate",
         null,
         null,
         null
        ],
        [
         "milk",
         null,
         null,
         null,
         null
        ]
       ],
       "datasetInfos": [],
       "dbfsResultPath": null,
       "isJsonSchema": true,
       "metadata": {},
       "overflow": false,
       "plotOptions": {
        "customPlotOptions": {},
        "displayType": "table",
        "pivotAggregation": null,
        "pivotColumns": null,
        "xColumns": null,
        "yColumns": null
       },
       "removedWidgets": [],
       "schema": [
        {
         "metadata": "{}",
         "name": "_c0",
         "type": "\"string\""
        },
        {
         "metadata": "{}",
         "name": "_c1",
         "type": "\"string\""
        },
        {
         "metadata": "{}",
         "name": "_c2",
         "type": "\"string\""
        },
        {
         "metadata": "{}",
         "name": "_c3",
         "type": "\"string\""
        },
        {
         "metadata": "{}",
         "name": "_c4",
         "type": "\"string\""
        }
       ],
       "type": "table"
      }
     },
     "output_type": "display_data"
    }
   ],
   "source": [
    "# Displaying the dataframe\n",
    "display(train_df)"
   ]
  },
  {
   "cell_type": "code",
   "execution_count": 0,
   "metadata": {
    "application/vnd.databricks.v1+cell": {
     "cellMetadata": {},
     "inputWidgets": {},
     "nuid": "a9697620-9275-4947-8874-778646911163",
     "showTitle": false,
     "title": ""
    }
   },
   "outputs": [],
   "source": [
    "# Modifying the dataframe to perform analysis\n",
    "count = 0\n",
    "mylist = []\n",
    "for row in train_df.collect():\n",
    "    temp = (count,list(filter(None, row)))\n",
    "    mylist.append(temp)\n",
    "    count = count + 1"
   ]
  },
  {
   "cell_type": "code",
   "execution_count": 0,
   "metadata": {
    "application/vnd.databricks.v1+cell": {
     "cellMetadata": {},
     "inputWidgets": {},
     "nuid": "6b6cbb37-5651-4f6c-85b8-b8ea70f834de",
     "showTitle": false,
     "title": ""
    }
   },
   "outputs": [
    {
     "name": "stdout",
     "output_type": "stream",
     "text": [
      "Out[122]: [(0, ['bread']),\n",
      " (1, ['peanut butter', ' apple']),\n",
      " (2, [' peanut butter', ' bread']),\n",
      " (3, ['peanut butter', ' bread', ' apple']),\n",
      " (4, ['peanut butter', ' bread', ' milk']),\n",
      " (5, ['peanut butter', ' bread', ' milk', ' chocolate']),\n",
      " (6, ['bread', ' milk', ' orange']),\n",
      " (7, ['apple', ' chocolate', ' milk']),\n",
      " (8, ['peanut butter', ' milk', ' chocolate', ' apple']),\n",
      " (9, ['cheese', ' bread', ' milk', ' potatoes ']),\n",
      " (10, ['cheese', ' pasta', ' ketchup']),\n",
      " (11, ['milk', ' cheese', ' pasta', ' ketchup']),\n",
      " (12, ['pasta', ' ketchup', ' cheese', ' potatoes', ' milk']),\n",
      " (13, ['bread', ' milk', ' chocolate', ' pasta']),\n",
      " (14, [' milk', ' pasta', ' potatoes', ' ketchup', ' bread']),\n",
      " (15, ['apple', ' chocolate', ' pasta']),\n",
      " (16, ['milk', 'bread']),\n",
      " (17, ['apple', 'milk']),\n",
      " (18, ['milk', 'chocolate']),\n",
      " (19, ['milk'])]"
     ]
    }
   ],
   "source": [
    "# Printing the list to show the new format\n",
    "mylist"
   ]
  },
  {
   "cell_type": "code",
   "execution_count": 0,
   "metadata": {
    "application/vnd.databricks.v1+cell": {
     "cellMetadata": {},
     "inputWidgets": {},
     "nuid": "26b94215-b0c4-4b0b-8cb6-b24236ae038e",
     "showTitle": false,
     "title": ""
    }
   },
   "outputs": [],
   "source": [
    "# Creating a new dataframe from the above list\n",
    "train_df1 = spark.createDataFrame(mylist, [\"id\", \"items\"])"
   ]
  },
  {
   "cell_type": "code",
   "execution_count": 0,
   "metadata": {
    "application/vnd.databricks.v1+cell": {
     "cellMetadata": {},
     "inputWidgets": {},
     "nuid": "8c6870da-7ea4-4925-b4a3-37ca8a416acd",
     "showTitle": false,
     "title": ""
    }
   },
   "outputs": [],
   "source": [
    "# 1.4 - FP Growth Model\n",
    "fpGrowth = FPGrowth(itemsCol=\"items\", minSupport=0.05, minConfidence=0.07)\n",
    "model = fpGrowth.fit(train_df1)"
   ]
  },
  {
   "cell_type": "code",
   "execution_count": 0,
   "metadata": {
    "application/vnd.databricks.v1+cell": {
     "cellMetadata": {},
     "inputWidgets": {},
     "nuid": "ab6555f5-0ede-46ef-a73d-1ad8eb5f3505",
     "showTitle": false,
     "title": ""
    }
   },
   "outputs": [
    {
     "name": "stdout",
     "output_type": "stream",
     "text": [
      "+--------------------+----+\n",
      "|               items|freq|\n",
      "+--------------------+----+\n",
      "|            [ apple]|   3|\n",
      "|[ apple, peanut b...|   3|\n",
      "|[ apple, peanut b...|   1|\n",
      "|[ apple, peanut b...|   1|\n",
      "|[ apple, peanut b...|   1|\n",
      "|[ apple, peanut b...|   1|\n",
      "|    [ apple,  bread]|   1|\n",
      "|[ apple,  chocolate]|   1|\n",
      "|[ apple,  chocola...|   1|\n",
      "|     [ apple,  milk]|   1|\n",
      "|             [pasta]|   1|\n",
      "|   [pasta,  ketchup]|   1|\n",
      "|[pasta,  ketchup,...|   1|\n",
      "|  [pasta,  potatoes]|   1|\n",
      "|[pasta,  potatoes...|   1|\n",
      "|[pasta,  potatoes...|   1|\n",
      "|[pasta,  potatoes...|   1|\n",
      "|    [pasta,  cheese]|   1|\n",
      "|[pasta,  cheese, ...|   1|\n",
      "|[pasta,  cheese, ...|   1|\n",
      "+--------------------+----+\n",
      "only showing top 20 rows\n",
      "\n"
     ]
    }
   ],
   "source": [
    "#1.5 -  Display frequent itemsets.\n",
    "model.freqItemsets.show()"
   ]
  },
  {
   "cell_type": "code",
   "execution_count": 0,
   "metadata": {
    "application/vnd.databricks.v1+cell": {
     "cellMetadata": {},
     "inputWidgets": {},
     "nuid": "91fd7248-9f52-4bd3-a7c5-a9608c69f9cc",
     "showTitle": false,
     "title": ""
    }
   },
   "outputs": [
    {
     "data": {
      "text/html": [
       "<style scoped>\n",
       "  .table-result-container {\n",
       "    max-height: 300px;\n",
       "    overflow: auto;\n",
       "  }\n",
       "  table, th, td {\n",
       "    border: 1px solid black;\n",
       "    border-collapse: collapse;\n",
       "  }\n",
       "  th, td {\n",
       "    padding: 5px;\n",
       "  }\n",
       "  th {\n",
       "    text-align: left;\n",
       "  }\n",
       "</style><div class='table-result-container'><table class='table-result'><thead style='background-color: white'><tr><th>antecedent</th><th>consequent</th><th>confidence</th><th>lift</th><th>support</th></tr></thead><tbody><tr><td>List( potatoes ,  milk)</td><td>List(cheese)</td><td>1.0</td><td>10.0</td><td>0.05</td></tr><tr><td>List( potatoes ,  milk)</td><td>List( bread)</td><td>1.0</td><td>3.3333333333333335</td><td>0.05</td></tr><tr><td>List( potatoes )</td><td>List(cheese)</td><td>1.0</td><td>10.0</td><td>0.05</td></tr><tr><td>List( potatoes )</td><td>List( bread)</td><td>1.0</td><td>3.3333333333333335</td><td>0.05</td></tr><tr><td>List( potatoes )</td><td>List( milk)</td><td>1.0</td><td>2.2222222222222223</td><td>0.05</td></tr><tr><td>List( potatoes)</td><td>List(pasta)</td><td>0.5</td><td>10.0</td><td>0.05</td></tr><tr><td>List( potatoes)</td><td>List( pasta)</td><td>0.5</td><td>2.0</td><td>0.05</td></tr><tr><td>List( potatoes)</td><td>List( ketchup)</td><td>1.0</td><td>5.0</td><td>0.1</td></tr><tr><td>List( potatoes)</td><td>List( bread)</td><td>0.5</td><td>1.6666666666666667</td><td>0.05</td></tr><tr><td>List( potatoes)</td><td>List( milk)</td><td>1.0</td><td>2.2222222222222223</td><td>0.1</td></tr><tr><td>List( potatoes)</td><td>List( cheese)</td><td>0.5</td><td>5.0</td><td>0.05</td></tr><tr><td>List(milk)</td><td>List(apple)</td><td>0.2</td><td>1.3333333333333335</td><td>0.05</td></tr><tr><td>List(milk)</td><td>List( pasta)</td><td>0.2</td><td>0.8</td><td>0.05</td></tr><tr><td>List(milk)</td><td>List( cheese)</td><td>0.2</td><td>2.0</td><td>0.05</td></tr><tr><td>List(milk)</td><td>List(chocolate)</td><td>0.2</td><td>4.0</td><td>0.05</td></tr><tr><td>List(milk)</td><td>List(bread)</td><td>0.2</td><td>1.0</td><td>0.05</td></tr><tr><td>List(milk)</td><td>List( ketchup)</td><td>0.2</td><td>1.0</td><td>0.05</td></tr><tr><td>List(bread,  pasta)</td><td>List( chocolate)</td><td>1.0</td><td>4.0</td><td>0.05</td></tr><tr><td>List(bread,  pasta)</td><td>List( milk)</td><td>1.0</td><td>2.2222222222222223</td><td>0.05</td></tr><tr><td>List(peanut butter,  chocolate)</td><td>List( apple)</td><td>0.5</td><td>3.3333333333333335</td><td>0.05</td></tr><tr><td>List(peanut butter,  chocolate)</td><td>List( bread)</td><td>0.5</td><td>1.6666666666666667</td><td>0.05</td></tr><tr><td>List(peanut butter,  chocolate)</td><td>List( milk)</td><td>1.0</td><td>2.2222222222222223</td><td>0.1</td></tr><tr><td>List( chocolate,  milk)</td><td>List( apple)</td><td>0.25</td><td>1.6666666666666667</td><td>0.05</td></tr><tr><td>List( chocolate,  milk)</td><td>List(apple)</td><td>0.25</td><td>1.6666666666666667</td><td>0.05</td></tr><tr><td>List( chocolate,  milk)</td><td>List( bread)</td><td>0.25</td><td>0.8333333333333334</td><td>0.05</td></tr><tr><td>List( chocolate,  milk)</td><td>List( pasta)</td><td>0.25</td><td>1.0</td><td>0.05</td></tr><tr><td>List( chocolate,  milk)</td><td>List(peanut butter)</td><td>0.5</td><td>2.0</td><td>0.1</td></tr><tr><td>List( chocolate,  milk)</td><td>List(bread)</td><td>0.25</td><td>1.25</td><td>0.05</td></tr><tr><td>List(peanut butter,  chocolate,  milk)</td><td>List( apple)</td><td>0.5</td><td>3.3333333333333335</td><td>0.05</td></tr><tr><td>List(peanut butter,  chocolate,  milk)</td><td>List( bread)</td><td>0.5</td><td>1.6666666666666667</td><td>0.05</td></tr><tr><td>List(pasta,  cheese,  ketchup)</td><td>List( milk)</td><td>1.0</td><td>2.2222222222222223</td><td>0.05</td></tr><tr><td>List(pasta,  cheese,  ketchup)</td><td>List( potatoes)</td><td>1.0</td><td>10.0</td><td>0.05</td></tr><tr><td>List( ketchup)</td><td>List(pasta)</td><td>0.25</td><td>5.0</td><td>0.05</td></tr><tr><td>List( ketchup)</td><td>List( potatoes)</td><td>0.5</td><td>5.0</td><td>0.1</td></tr><tr><td>List( ketchup)</td><td>List(cheese)</td><td>0.25</td><td>2.5</td><td>0.05</td></tr><tr><td>List( ketchup)</td><td>List( cheese)</td><td>0.5</td><td>5.0</td><td>0.1</td></tr><tr><td>List( ketchup)</td><td>List(milk)</td><td>0.25</td><td>1.0</td><td>0.05</td></tr><tr><td>List( ketchup)</td><td>List( pasta)</td><td>0.75</td><td>3.0</td><td>0.15</td></tr><tr><td>List( ketchup)</td><td>List( bread)</td><td>0.25</td><td>0.8333333333333334</td><td>0.05</td></tr><tr><td>List( ketchup)</td><td>List( milk)</td><td>0.5</td><td>1.1111111111111112</td><td>0.1</td></tr><tr><td>List( cheese)</td><td>List(pasta)</td><td>0.5</td><td>10.0</td><td>0.05</td></tr><tr><td>List( cheese)</td><td>List(milk)</td><td>0.5</td><td>2.0</td><td>0.05</td></tr><tr><td>List( cheese)</td><td>List( pasta)</td><td>0.5</td><td>2.0</td><td>0.05</td></tr><tr><td>List( cheese)</td><td>List( ketchup)</td><td>1.0</td><td>5.0</td><td>0.1</td></tr><tr><td>List( cheese)</td><td>List( potatoes)</td><td>0.5</td><td>5.0</td><td>0.05</td></tr><tr><td>List( cheese)</td><td>List( milk)</td><td>0.5</td><td>1.1111111111111112</td><td>0.05</td></tr><tr><td>List(pasta,  ketchup)</td><td>List( milk)</td><td>1.0</td><td>2.2222222222222223</td><td>0.05</td></tr><tr><td>List(pasta,  ketchup)</td><td>List( potatoes)</td><td>1.0</td><td>10.0</td><td>0.05</td></tr><tr><td>List(pasta,  ketchup)</td><td>List( cheese)</td><td>1.0</td><td>10.0</td><td>0.05</td></tr><tr><td>List(pasta,  cheese,  potatoes,  milk)</td><td>List( ketchup)</td><td>1.0</td><td>5.0</td><td>0.05</td></tr><tr><td>List(pasta,  cheese,  ketchup,  milk)</td><td>List( potatoes)</td><td>1.0</td><td>10.0</td><td>0.05</td></tr><tr><td>List(cheese)</td><td>List( pasta)</td><td>0.5</td><td>2.0</td><td>0.05</td></tr><tr><td>List(cheese)</td><td>List( ketchup)</td><td>0.5</td><td>2.5</td><td>0.05</td></tr><tr><td>List(cheese)</td><td>List( bread)</td><td>0.5</td><td>1.6666666666666667</td><td>0.05</td></tr><tr><td>List(cheese)</td><td>List( milk)</td><td>0.5</td><td>1.1111111111111112</td><td>0.05</td></tr><tr><td>List(cheese)</td><td>List( potatoes )</td><td>0.5</td><td>10.0</td><td>0.05</td></tr><tr><td>List(pasta,  cheese)</td><td>List( ketchup)</td><td>1.0</td><td>5.0</td><td>0.05</td></tr><tr><td>List(pasta,  cheese)</td><td>List( potatoes)</td><td>1.0</td><td>10.0</td><td>0.05</td></tr><tr><td>List(pasta,  cheese)</td><td>List( milk)</td><td>1.0</td><td>2.2222222222222223</td><td>0.05</td></tr><tr><td>List( cheese,  ketchup)</td><td>List(pasta)</td><td>0.5</td><td>10.0</td><td>0.05</td></tr><tr><td>List( cheese,  ketchup)</td><td>List(milk)</td><td>0.5</td><td>2.0</td><td>0.05</td></tr><tr><td>List( cheese,  ketchup)</td><td>List( pasta)</td><td>0.5</td><td>2.0</td><td>0.05</td></tr><tr><td>List( cheese,  ketchup)</td><td>List( milk)</td><td>0.5</td><td>1.1111111111111112</td><td>0.05</td></tr><tr><td>List( cheese,  ketchup)</td><td>List( potatoes)</td><td>0.5</td><td>5.0</td><td>0.05</td></tr><tr><td>List(apple)</td><td>List(milk)</td><td>0.3333333333333333</td><td>1.3333333333333333</td><td>0.05</td></tr><tr><td>List(apple)</td><td>List( pasta)</td><td>0.3333333333333333</td><td>1.3333333333333333</td><td>0.05</td></tr><tr><td>List(apple)</td><td>List( chocolate)</td><td>0.6666666666666666</td><td>2.6666666666666665</td><td>0.1</td></tr><tr><td>List(apple)</td><td>List( milk)</td><td>0.3333333333333333</td><td>0.7407407407407407</td><td>0.05</td></tr><tr><td>List( apple,  milk)</td><td>List(peanut butter)</td><td>1.0</td><td>4.0</td><td>0.05</td></tr><tr><td>List( apple,  milk)</td><td>List( chocolate)</td><td>1.0</td><td>4.0</td><td>0.05</td></tr><tr><td>List( chocolate,  bread)</td><td>List( milk)</td><td>1.0</td><td>2.2222222222222223</td><td>0.05</td></tr><tr><td>List( chocolate,  bread)</td><td>List(peanut butter)</td><td>1.0</td><td>4.0</td><td>0.05</td></tr><tr><td>List( cheese,  ketchup,  pasta)</td><td>List(milk)</td><td>1.0</td><td>4.0</td><td>0.05</td></tr><tr><td>List( peanut butter)</td><td>List( bread)</td><td>1.0</td><td>3.3333333333333335</td><td>0.05</td></tr><tr><td>List(bread,  milk)</td><td>List( pasta)</td><td>0.5</td><td>2.0</td><td>0.05</td></tr><tr><td>List(bread,  milk)</td><td>List( chocolate)</td><td>0.5</td><td>2.0</td><td>0.05</td></tr><tr><td>List(bread,  milk)</td><td>List( orange)</td><td>0.5</td><td>10.0</td><td>0.05</td></tr><tr><td>List( orange,  milk)</td><td>List(bread)</td><td>1.0</td><td>5.0</td><td>0.05</td></tr><tr><td>List( cheese,  potatoes,  ketchup,  milk)</td><td>List(pasta)</td><td>1.0</td><td>20.0</td><td>0.05</td></tr><tr><td>List( potatoes,  ketchup)</td><td>List(pasta)</td><td>0.5</td><td>10.0</td><td>0.05</td></tr><tr><td>List( potatoes,  ketchup)</td><td>List( pasta)</td><td>0.5</td><td>2.0</td><td>0.05</td></tr><tr><td>List( potatoes,  ketchup)</td><td>List( bread)</td><td>0.5</td><td>1.6666666666666667</td><td>0.05</td></tr><tr><td>List( potatoes,  ketchup)</td><td>List( milk)</td><td>1.0</td><td>2.2222222222222223</td><td>0.1</td></tr><tr><td>List( potatoes,  ketchup)</td><td>List( cheese)</td><td>0.5</td><td>5.0</td><td>0.05</td></tr><tr><td>List( potatoes,  ketchup,  milk)</td><td>List(pasta)</td><td>0.5</td><td>10.0</td><td>0.05</td></tr><tr><td>List( potatoes,  ketchup,  milk)</td><td>List( pasta)</td><td>0.5</td><td>2.0</td><td>0.05</td></tr><tr><td>List( potatoes,  ketchup,  milk)</td><td>List( bread)</td><td>0.5</td><td>1.6666666666666667</td><td>0.05</td></tr><tr><td>List( potatoes,  ketchup,  milk)</td><td>List( cheese)</td><td>0.5</td><td>5.0</td><td>0.05</td></tr><tr><td>List( cheese,  pasta)</td><td>List(milk)</td><td>1.0</td><td>4.0</td><td>0.05</td></tr><tr><td>List( cheese,  pasta)</td><td>List( ketchup)</td><td>1.0</td><td>5.0</td><td>0.05</td></tr><tr><td>List( pasta)</td><td>List(apple)</td><td>0.2</td><td>1.3333333333333335</td><td>0.05</td></tr><tr><td>List( pasta)</td><td>List( potatoes)</td><td>0.2</td><td>2.0</td><td>0.05</td></tr><tr><td>List( pasta)</td><td>List(cheese)</td><td>0.2</td><td>2.0</td><td>0.05</td></tr><tr><td>List( pasta)</td><td>List(milk)</td><td>0.2</td><td>0.8</td><td>0.05</td></tr><tr><td>List( pasta)</td><td>List( bread)</td><td>0.2</td><td>0.6666666666666667</td><td>0.05</td></tr><tr><td>List( pasta)</td><td>List( chocolate)</td><td>0.4</td><td>1.6</td><td>0.1</td></tr><tr><td>List( pasta)</td><td>List( milk)</td><td>0.4</td><td>0.888888888888889</td><td>0.1</td></tr><tr><td>List( pasta)</td><td>List( cheese)</td><td>0.2</td><td>2.0</td><td>0.05</td></tr><tr><td>List( pasta)</td><td>List(bread)</td><td>0.2</td><td>1.0</td><td>0.05</td></tr><tr><td>List( pasta)</td><td>List( ketchup)</td><td>0.6</td><td>2.9999999999999996</td><td>0.15</td></tr><tr><td>List(pasta,  cheese,  potatoes,  ketchup)</td><td>List( milk)</td><td>1.0</td><td>2.2222222222222223</td><td>0.05</td></tr><tr><td>List( ketchup,  bread)</td><td>List( potatoes)</td><td>1.0</td><td>10.0</td><td>0.05</td></tr><tr><td>List( ketchup,  bread)</td><td>List( pasta)</td><td>1.0</td><td>4.0</td><td>0.05</td></tr><tr><td>List( ketchup,  bread)</td><td>List( milk)</td><td>1.0</td><td>2.2222222222222223</td><td>0.05</td></tr><tr><td>List( potatoes , cheese,  bread)</td><td>List( milk)</td><td>1.0</td><td>2.2222222222222223</td><td>0.05</td></tr><tr><td>List( chocolate,  bread,  milk)</td><td>List(peanut butter)</td><td>1.0</td><td>4.0</td><td>0.05</td></tr><tr><td>List( orange)</td><td>List(bread)</td><td>1.0</td><td>5.0</td><td>0.05</td></tr><tr><td>List( orange)</td><td>List( milk)</td><td>1.0</td><td>2.2222222222222223</td><td>0.05</td></tr><tr><td>List( cheese,  ketchup, milk)</td><td>List( pasta)</td><td>1.0</td><td>4.0</td><td>0.05</td></tr><tr><td>List( pasta,  chocolate)</td><td>List(apple)</td><td>0.5</td><td>3.3333333333333335</td><td>0.05</td></tr><tr><td>List( pasta,  chocolate)</td><td>List( milk)</td><td>0.5</td><td>1.1111111111111112</td><td>0.05</td></tr><tr><td>List( pasta,  chocolate)</td><td>List(bread)</td><td>0.5</td><td>2.5</td><td>0.05</td></tr><tr><td>List( potatoes,  pasta)</td><td>List( bread)</td><td>1.0</td><td>3.3333333333333335</td><td>0.05</td></tr><tr><td>List( potatoes,  pasta)</td><td>List( milk)</td><td>1.0</td><td>2.2222222222222223</td><td>0.05</td></tr><tr><td>List( potatoes,  pasta)</td><td>List( ketchup)</td><td>1.0</td><td>5.0</td><td>0.05</td></tr><tr><td>List( apple,  chocolate)</td><td>List(peanut butter)</td><td>1.0</td><td>4.0</td><td>0.05</td></tr><tr><td>List( apple,  chocolate)</td><td>List( milk)</td><td>1.0</td><td>2.2222222222222223</td><td>0.05</td></tr><tr><td>List( cheese,  milk)</td><td>List(pasta)</td><td>1.0</td><td>20.0</td><td>0.05</td></tr><tr><td>List( cheese,  milk)</td><td>List( ketchup)</td><td>1.0</td><td>5.0</td><td>0.05</td></tr><tr><td>List( cheese,  milk)</td><td>List( potatoes)</td><td>1.0</td><td>10.0</td><td>0.05</td></tr><tr><td>List(pasta)</td><td>List( ketchup)</td><td>1.0</td><td>5.0</td><td>0.05</td></tr><tr><td>List(pasta)</td><td>List( potatoes)</td><td>1.0</td><td>10.0</td><td>0.05</td></tr><tr><td>List(pasta)</td><td>List( cheese)</td><td>1.0</td><td>10.0</td><td>0.05</td></tr><tr><td>List(pasta)</td><td>List( milk)</td><td>1.0</td><td>2.2222222222222223</td><td>0.05</td></tr><tr><td>List( pasta,  milk)</td><td>List( potatoes)</td><td>0.5</td><td>5.0</td><td>0.05</td></tr><tr><td>List( pasta,  milk)</td><td>List( bread)</td><td>0.5</td><td>1.6666666666666667</td><td>0.05</td></tr><tr><td>List( pasta,  milk)</td><td>List( chocolate)</td><td>0.5</td><td>2.0</td><td>0.05</td></tr><tr><td>List( pasta,  milk)</td><td>List(bread)</td><td>0.5</td><td>2.5</td><td>0.05</td></tr><tr><td>List( pasta,  milk)</td><td>List( ketchup)</td><td>0.5</td><td>2.5</td><td>0.05</td></tr><tr><td>List( pasta,  bread,  milk)</td><td>List( potatoes)</td><td>1.0</td><td>10.0</td><td>0.05</td></tr><tr><td>List( pasta,  bread,  milk)</td><td>List( ketchup)</td><td>1.0</td><td>5.0</td><td>0.05</td></tr><tr><td>List( potatoes , cheese,  milk)</td><td>List( bread)</td><td>1.0</td><td>3.3333333333333335</td><td>0.05</td></tr><tr><td>List(bread)</td><td>List(milk)</td><td>0.25</td><td>1.0</td><td>0.05</td></tr><tr><td>List(bread)</td><td>List( pasta)</td><td>0.25</td><td>1.0</td><td>0.05</td></tr><tr><td>List(bread)</td><td>List( chocolate)</td><td>0.25</td><td>1.0</td><td>0.05</td></tr><tr><td>List(bread)</td><td>List( milk)</td><td>0.5</td><td>1.1111111111111112</td><td>0.1</td></tr><tr><td>List(bread)</td><td>List( orange)</td><td>0.25</td><td>5.0</td><td>0.05</td></tr><tr><td>List(peanut butter,  bread)</td><td>List( apple)</td><td>0.3333333333333333</td><td>2.2222222222222223</td><td>0.05</td></tr><tr><td>List(peanut butter,  bread)</td><td>List( milk)</td><td>0.6666666666666666</td><td>1.4814814814814814</td><td>0.1</td></tr><tr><td>List(peanut butter,  bread)</td><td>List( chocolate)</td><td>0.3333333333333333</td><td>1.3333333333333333</td><td>0.05</td></tr><tr><td>List( bread,  milk)</td><td>List( potatoes)</td><td>0.25</td><td>2.5</td><td>0.05</td></tr><tr><td>List( bread,  milk)</td><td>List(cheese)</td><td>0.25</td><td>2.5</td><td>0.05</td></tr><tr><td>List( bread,  milk)</td><td>List( chocolate)</td><td>0.25</td><td>1.0</td><td>0.05</td></tr><tr><td>List( bread,  milk)</td><td>List( pasta)</td><td>0.25</td><td>1.0</td><td>0.05</td></tr><tr><td>List( bread,  milk)</td><td>List(peanut butter)</td><td>0.5</td><td>2.0</td><td>0.1</td></tr><tr><td>List( bread,  milk)</td><td>List( potatoes )</td><td>0.25</td><td>5.0</td><td>0.05</td></tr><tr><td>List( bread,  milk)</td><td>List( ketchup)</td><td>0.25</td><td>1.25</td><td>0.05</td></tr><tr><td>List( apple, peanut butter,  chocolate)</td><td>List( milk)</td><td>1.0</td><td>2.2222222222222223</td><td>0.05</td></tr><tr><td>List(pasta,  cheese,  milk)</td><td>List( ketchup)</td><td>1.0</td><td>5.0</td><td>0.05</td></tr><tr><td>List(pasta,  cheese,  milk)</td><td>List( potatoes)</td><td>1.0</td><td>10.0</td><td>0.05</td></tr><tr><td>List( potatoes,  pasta,  milk)</td><td>List( bread)</td><td>1.0</td><td>3.3333333333333335</td><td>0.05</td></tr><tr><td>List( potatoes,  pasta,  milk)</td><td>List( ketchup)</td><td>1.0</td><td>5.0</td><td>0.05</td></tr><tr><td>List( ketchup,  pasta, milk)</td><td>List( cheese)</td><td>1.0</td><td>10.0</td><td>0.05</td></tr><tr><td>List( potatoes,  bread,  milk)</td><td>List( pasta)</td><td>1.0</td><td>4.0</td><td>0.05</td></tr><tr><td>List( potatoes,  bread,  milk)</td><td>List( ketchup)</td><td>1.0</td><td>5.0</td><td>0.05</td></tr><tr><td>List( pasta,  bread)</td><td>List( potatoes)</td><td>1.0</td><td>10.0</td><td>0.05</td></tr><tr><td>List( pasta,  bread)</td><td>List( milk)</td><td>1.0</td><td>2.2222222222222223</td><td>0.05</td></tr><tr><td>List( pasta,  bread)</td><td>List( ketchup)</td><td>1.0</td><td>5.0</td><td>0.05</td></tr><tr><td>List(cheese,  pasta)</td><td>List( ketchup)</td><td>1.0</td><td>5.0</td><td>0.05</td></tr><tr><td>List(apple,  milk)</td><td>List( chocolate)</td><td>1.0</td><td>4.0</td><td>0.05</td></tr><tr><td>List( potatoes,  ketchup,  pasta)</td><td>List( bread)</td><td>1.0</td><td>3.3333333333333335</td><td>0.05</td></tr><tr><td>List( potatoes,  ketchup,  pasta)</td><td>List( milk)</td><td>1.0</td><td>2.2222222222222223</td><td>0.05</td></tr><tr><td>List(pasta,  potatoes,  ketchup)</td><td>List( milk)</td><td>1.0</td><td>2.2222222222222223</td><td>0.05</td></tr><tr><td>List(pasta,  potatoes,  ketchup)</td><td>List( cheese)</td><td>1.0</td><td>10.0</td><td>0.05</td></tr><tr><td>List( ketchup, milk)</td><td>List( cheese)</td><td>1.0</td><td>10.0</td><td>0.05</td></tr><tr><td>List( ketchup, milk)</td><td>List( pasta)</td><td>1.0</td><td>4.0</td><td>0.05</td></tr><tr><td>List( potatoes,  ketchup,  pasta,  milk)</td><td>List( bread)</td><td>1.0</td><td>3.3333333333333335</td><td>0.05</td></tr><tr><td>List(peanut butter,  chocolate,  bread)</td><td>List( milk)</td><td>1.0</td><td>2.2222222222222223</td><td>0.05</td></tr><tr><td>List(apple,  pasta)</td><td>List( chocolate)</td><td>1.0</td><td>4.0</td><td>0.05</td></tr><tr><td>List(pasta,  milk)</td><td>List( ketchup)</td><td>1.0</td><td>5.0</td><td>0.05</td></tr><tr><td>List(pasta,  milk)</td><td>List( potatoes)</td><td>1.0</td><td>10.0</td><td>0.05</td></tr><tr><td>List(pasta,  milk)</td><td>List( cheese)</td><td>1.0</td><td>10.0</td><td>0.05</td></tr><tr><td>List(bread,  chocolate,  milk)</td><td>List( pasta)</td><td>1.0</td><td>4.0</td><td>0.05</td></tr><tr><td>List(pasta,  ketchup,  milk)</td><td>List( potatoes)</td><td>1.0</td><td>10.0</td><td>0.05</td></tr><tr><td>List(pasta,  ketchup,  milk)</td><td>List( cheese)</td><td>1.0</td><td>10.0</td><td>0.05</td></tr><tr><td>List( apple,  bread)</td><td>List(peanut butter)</td><td>1.0</td><td>4.0</td><td>0.05</td></tr><tr><td>List( potatoes,  ketchup,  bread,  milk)</td><td>List( pasta)</td><td>1.0</td><td>4.0</td><td>0.05</td></tr><tr><td>List( potatoes,  ketchup,  bread)</td><td>List( pasta)</td><td>1.0</td><td>4.0</td><td>0.05</td></tr><tr><td>List( potatoes,  ketchup,  bread)</td><td>List( milk)</td><td>1.0</td><td>2.2222222222222223</td><td>0.05</td></tr><tr><td>List( potatoes,  pasta,  bread,  milk)</td><td>List( ketchup)</td><td>1.0</td><td>5.0</td><td>0.05</td></tr><tr><td>List(bread,  pasta,  milk)</td><td>List( chocolate)</td><td>1.0</td><td>4.0</td><td>0.05</td></tr><tr><td>List(bread,  chocolate)</td><td>List( pasta)</td><td>1.0</td><td>4.0</td><td>0.05</td></tr><tr><td>List(bread,  chocolate)</td><td>List( milk)</td><td>1.0</td><td>2.2222222222222223</td><td>0.05</td></tr><tr><td>List( potatoes ,  bread)</td><td>List(cheese)</td><td>1.0</td><td>10.0</td><td>0.05</td></tr><tr><td>List( potatoes ,  bread)</td><td>List( milk)</td><td>1.0</td><td>2.2222222222222223</td><td>0.05</td></tr><tr><td>List( potatoes,  ketchup,  pasta,  bread)</td><td>List( milk)</td><td>1.0</td><td>2.2222222222222223</td><td>0.05</td></tr><tr><td>List(apple,  chocolate)</td><td>List( pasta)</td><td>0.5</td><td>2.0</td><td>0.05</td></tr><tr><td>List(apple,  chocolate)</td><td>List( milk)</td><td>0.5</td><td>1.1111111111111112</td><td>0.05</td></tr><tr><td>List( potatoes,  pasta,  bread)</td><td>List( milk)</td><td>1.0</td><td>2.2222222222222223</td><td>0.05</td></tr><tr><td>List( potatoes,  pasta,  bread)</td><td>List( ketchup)</td><td>1.0</td><td>5.0</td><td>0.05</td></tr><tr><td>List( ketchup,  pasta,  bread,  milk)</td><td>List( potatoes)</td><td>1.0</td><td>10.0</td><td>0.05</td></tr><tr><td>List( apple, peanut butter,  milk)</td><td>List( chocolate)</td><td>1.0</td><td>4.0</td><td>0.05</td></tr><tr><td>List( cheese,  ketchup,  milk)</td><td>List(pasta)</td><td>1.0</td><td>20.0</td><td>0.05</td></tr><tr><td>List( cheese,  ketchup,  milk)</td><td>List( potatoes)</td><td>1.0</td><td>10.0</td><td>0.05</td></tr><tr><td>List( ketchup,  pasta)</td><td>List( potatoes)</td><td>0.3333333333333333</td><td>3.333333333333333</td><td>0.05</td></tr><tr><td>List( ketchup,  pasta)</td><td>List(cheese)</td><td>0.3333333333333333</td><td>3.333333333333333</td><td>0.05</td></tr><tr><td>List( ketchup,  pasta)</td><td>List( cheese)</td><td>0.3333333333333333</td><td>3.333333333333333</td><td>0.05</td></tr><tr><td>List( ketchup,  pasta)</td><td>List(milk)</td><td>0.3333333333333333</td><td>1.3333333333333333</td><td>0.05</td></tr><tr><td>List( ketchup,  pasta)</td><td>List( bread)</td><td>0.3333333333333333</td><td>1.1111111111111112</td><td>0.05</td></tr><tr><td>List( ketchup,  pasta)</td><td>List( milk)</td><td>0.3333333333333333</td><td>0.7407407407407407</td><td>0.05</td></tr><tr><td>List( potatoes,  bread)</td><td>List( pasta)</td><td>1.0</td><td>4.0</td><td>0.05</td></tr><tr><td>List( potatoes,  bread)</td><td>List( ketchup)</td><td>1.0</td><td>5.0</td><td>0.05</td></tr><tr><td>List( potatoes,  bread)</td><td>List( milk)</td><td>1.0</td><td>2.2222222222222223</td><td>0.05</td></tr><tr><td>List( potatoes,  milk)</td><td>List(pasta)</td><td>0.5</td><td>10.0</td><td>0.05</td></tr><tr><td>List( potatoes,  milk)</td><td>List( pasta)</td><td>0.5</td><td>2.0</td><td>0.05</td></tr><tr><td>List( potatoes,  milk)</td><td>List( ketchup)</td><td>1.0</td><td>5.0</td><td>0.1</td></tr><tr><td>List( potatoes,  milk)</td><td>List( bread)</td><td>0.5</td><td>1.6666666666666667</td><td>0.05</td></tr><tr><td>List( potatoes,  milk)</td><td>List( cheese)</td><td>0.5</td><td>5.0</td><td>0.05</td></tr><tr><td>List(bread,  pasta,  chocolate)</td><td>List( milk)</td><td>1.0</td><td>2.2222222222222223</td><td>0.05</td></tr><tr><td>List( ketchup,  pasta,  bread)</td><td>List( potatoes)</td><td>1.0</td><td>10.0</td><td>0.05</td></tr><tr><td>List( ketchup,  pasta,  bread)</td><td>List( milk)</td><td>1.0</td><td>2.2222222222222223</td><td>0.05</td></tr><tr><td>List( pasta,  chocolate,  milk)</td><td>List(bread)</td><td>1.0</td><td>5.0</td><td>0.05</td></tr><tr><td>List(cheese,  ketchup)</td><td>List( pasta)</td><td>1.0</td><td>4.0</td><td>0.05</td></tr><tr><td>List( cheese,  potatoes,  ketchup)</td><td>List(pasta)</td><td>1.0</td><td>20.0</td><td>0.05</td></tr><tr><td>List( cheese,  potatoes,  ketchup)</td><td>List( milk)</td><td>1.0</td><td>2.2222222222222223</td><td>0.05</td></tr><tr><td>List( potatoes , cheese)</td><td>List( bread)</td><td>1.0</td><td>3.3333333333333335</td><td>0.05</td></tr><tr><td>List( potatoes , cheese)</td><td>List( milk)</td><td>1.0</td><td>2.2222222222222223</td><td>0.05</td></tr><tr><td>List(peanut butter,  bread,  milk)</td><td>List( chocolate)</td><td>0.5</td><td>2.0</td><td>0.05</td></tr><tr><td>List( ketchup,  pasta,  milk)</td><td>List( potatoes)</td><td>1.0</td><td>10.0</td><td>0.05</td></tr><tr><td>List( ketchup,  pasta,  milk)</td><td>List( bread)</td><td>1.0</td><td>3.3333333333333335</td><td>0.05</td></tr><tr><td>List( apple, peanut butter)</td><td>List( bread)</td><td>0.3333333333333333</td><td>1.1111111111111112</td><td>0.05</td></tr><tr><td>List( apple, peanut butter)</td><td>List( chocolate)</td><td>0.3333333333333333</td><td>1.3333333333333333</td><td>0.05</td></tr><tr><td>List( apple, peanut butter)</td><td>List( milk)</td><td>0.3333333333333333</td><td>0.7407407407407407</td><td>0.05</td></tr><tr><td>List( orange, bread)</td><td>List( milk)</td><td>1.0</td><td>2.2222222222222223</td><td>0.05</td></tr><tr><td>List(pasta,  potatoes)</td><td>List( ketchup)</td><td>1.0</td><td>5.0</td><td>0.05</td></tr><tr><td>List(pasta,  potatoes)</td><td>List( milk)</td><td>1.0</td><td>2.2222222222222223</td><td>0.05</td></tr><tr><td>List(pasta,  potatoes)</td><td>List( cheese)</td><td>1.0</td><td>10.0</td><td>0.05</td></tr><tr><td>List( apple,  chocolate,  milk)</td><td>List(peanut butter)</td><td>1.0</td><td>4.0</td><td>0.05</td></tr><tr><td>List( bread)</td><td>List( apple)</td><td>0.16666666666666666</td><td>1.1111111111111112</td><td>0.05</td></tr><tr><td>List( bread)</td><td>List( peanut butter)</td><td>0.16666666666666666</td><td>3.333333333333333</td><td>0.05</td></tr><tr><td>List( bread)</td><td>List( milk)</td><td>0.6666666666666666</td><td>1.4814814814814814</td><td>0.2</td></tr><tr><td>List( bread)</td><td>List( potatoes)</td><td>0.16666666666666666</td><td>1.6666666666666665</td><td>0.05</td></tr><tr><td>List( bread)</td><td>List(cheese)</td><td>0.16666666666666666</td><td>1.6666666666666665</td><td>0.05</td></tr><tr><td>List( bread)</td><td>List( chocolate)</td><td>0.16666666666666666</td><td>0.6666666666666666</td><td>0.05</td></tr><tr><td>List( bread)</td><td>List( pasta)</td><td>0.16666666666666666</td><td>0.6666666666666666</td><td>0.05</td></tr><tr><td>List( bread)</td><td>List(peanut butter)</td><td>0.5</td><td>2.0</td><td>0.15</td></tr><tr><td>List( bread)</td><td>List( potatoes )</td><td>0.16666666666666666</td><td>3.333333333333333</td><td>0.05</td></tr><tr><td>List( bread)</td><td>List( ketchup)</td><td>0.16666666666666666</td><td>0.8333333333333333</td><td>0.05</td></tr><tr><td>List(peanut butter)</td><td>List( apple)</td><td>0.6</td><td>4.0</td><td>0.15</td></tr><tr><td>List(peanut butter)</td><td>List( bread)</td><td>0.6</td><td>2.0</td><td>0.15</td></tr><tr><td>List(peanut butter)</td><td>List( chocolate)</td><td>0.4</td><td>1.6</td><td>0.1</td></tr><tr><td>List(peanut butter)</td><td>List( milk)</td><td>0.6</td><td>1.3333333333333333</td><td>0.15</td></tr><tr><td>List(cheese,  bread)</td><td>List( milk)</td><td>1.0</td><td>2.2222222222222223</td><td>0.05</td></tr><tr><td>List(cheese,  bread)</td><td>List( potatoes )</td><td>1.0</td><td>20.0</td><td>0.05</td></tr><tr><td>List( chocolate)</td><td>List( apple)</td><td>0.2</td><td>1.3333333333333335</td><td>0.05</td></tr><tr><td>List( chocolate)</td><td>List(apple)</td><td>0.4</td><td>2.666666666666667</td><td>0.1</td></tr><tr><td>List( chocolate)</td><td>List( bread)</td><td>0.2</td><td>0.6666666666666667</td><td>0.05</td></tr><tr><td>List( chocolate)</td><td>List( milk)</td><td>0.8</td><td>1.777777777777778</td><td>0.2</td></tr><tr><td>List( chocolate)</td><td>List( pasta)</td><td>0.4</td><td>1.6</td><td>0.1</td></tr><tr><td>List( chocolate)</td><td>List(peanut butter)</td><td>0.4</td><td>1.6</td><td>0.1</td></tr><tr><td>List( chocolate)</td><td>List(bread)</td><td>0.2</td><td>1.0</td><td>0.05</td></tr><tr><td>List( cheese,  potatoes,  milk)</td><td>List(pasta)</td><td>1.0</td><td>20.0</td><td>0.05</td></tr><tr><td>List( cheese,  potatoes,  milk)</td><td>List( ketchup)</td><td>1.0</td><td>5.0</td><td>0.05</td></tr><tr><td>List( ketchup,  milk)</td><td>List(pasta)</td><td>0.5</td><td>10.0</td><td>0.05</td></tr><tr><td>List( ketchup,  milk)</td><td>List( potatoes)</td><td>1.0</td><td>10.0</td><td>0.1</td></tr><tr><td>List( ketchup,  milk)</td><td>List( cheese)</td><td>0.5</td><td>5.0</td><td>0.05</td></tr><tr><td>List( ketchup,  milk)</td><td>List( pasta)</td><td>0.5</td><td>2.0</td><td>0.05</td></tr><tr><td>List( ketchup,  milk)</td><td>List( bread)</td><td>0.5</td><td>1.6666666666666667</td><td>0.05</td></tr><tr><td>List( cheese, milk)</td><td>List( pasta)</td><td>1.0</td><td>4.0</td><td>0.05</td></tr><tr><td>List( cheese, milk)</td><td>List( ketchup)</td><td>1.0</td><td>5.0</td><td>0.05</td></tr><tr><td>List( milk)</td><td>List( apple)</td><td>0.1111111111111111</td><td>0.7407407407407407</td><td>0.05</td></tr><tr><td>List( milk)</td><td>List(pasta)</td><td>0.1111111111111111</td><td>2.222222222222222</td><td>0.05</td></tr><tr><td>List( milk)</td><td>List( bread)</td><td>0.4444444444444444</td><td>1.4814814814814814</td><td>0.2</td></tr><tr><td>List( milk)</td><td>List(apple)</td><td>0.1111111111111111</td><td>0.7407407407407407</td><td>0.05</td></tr><tr><td>List( milk)</td><td>List( potatoes)</td><td>0.2222222222222222</td><td>2.222222222222222</td><td>0.1</td></tr><tr><td>List( milk)</td><td>List(cheese)</td><td>0.1111111111111111</td><td>1.111111111111111</td><td>0.05</td></tr><tr><td>List( milk)</td><td>List( chocolate)</td><td>0.4444444444444444</td><td>1.7777777777777777</td><td>0.2</td></tr><tr><td>List( milk)</td><td>List( pasta)</td><td>0.2222222222222222</td><td>0.8888888888888888</td><td>0.1</td></tr><tr><td>List( milk)</td><td>List( cheese)</td><td>0.1111111111111111</td><td>1.111111111111111</td><td>0.05</td></tr><tr><td>List( milk)</td><td>List(peanut butter)</td><td>0.3333333333333333</td><td>1.3333333333333333</td><td>0.15</td></tr><tr><td>List( milk)</td><td>List( potatoes )</td><td>0.1111111111111111</td><td>2.222222222222222</td><td>0.05</td></tr><tr><td>List( milk)</td><td>List(bread)</td><td>0.2222222222222222</td><td>1.111111111111111</td><td>0.1</td></tr><tr><td>List( milk)</td><td>List( ketchup)</td><td>0.2222222222222222</td><td>1.111111111111111</td><td>0.1</td></tr><tr><td>List( milk)</td><td>List( orange)</td><td>0.1111111111111111</td><td>2.222222222222222</td><td>0.05</td></tr><tr><td>List(chocolate)</td><td>List(milk)</td><td>1.0</td><td>4.0</td><td>0.05</td></tr><tr><td>List( ketchup,  bread,  milk)</td><td>List( potatoes)</td><td>1.0</td><td>10.0</td><td>0.05</td></tr><tr><td>List( ketchup,  bread,  milk)</td><td>List( pasta)</td><td>1.0</td><td>4.0</td><td>0.05</td></tr><tr><td>List( apple)</td><td>List(peanut butter)</td><td>1.0</td><td>4.0</td><td>0.15</td></tr><tr><td>List( apple)</td><td>List( bread)</td><td>0.3333333333333333</td><td>1.1111111111111112</td><td>0.05</td></tr><tr><td>List( apple)</td><td>List( chocolate)</td><td>0.3333333333333333</td><td>1.3333333333333333</td><td>0.05</td></tr><tr><td>List( apple)</td><td>List( milk)</td><td>0.3333333333333333</td><td>0.7407407407407407</td><td>0.05</td></tr><tr><td>List( cheese,  potatoes)</td><td>List(pasta)</td><td>1.0</td><td>20.0</td><td>0.05</td></tr><tr><td>List( cheese,  potatoes)</td><td>List( ketchup)</td><td>1.0</td><td>5.0</td><td>0.05</td></tr><tr><td>List( cheese,  potatoes)</td><td>List( milk)</td><td>1.0</td><td>2.2222222222222223</td><td>0.05</td></tr><tr><td>List(pasta,  cheese,  potatoes)</td><td>List( ketchup)</td><td>1.0</td><td>5.0</td><td>0.05</td></tr><tr><td>List(pasta,  cheese,  potatoes)</td><td>List( milk)</td><td>1.0</td><td>2.2222222222222223</td><td>0.05</td></tr><tr><td>List( pasta, milk)</td><td>List( cheese)</td><td>1.0</td><td>10.0</td><td>0.05</td></tr><tr><td>List( pasta, milk)</td><td>List( ketchup)</td><td>1.0</td><td>5.0</td><td>0.05</td></tr><tr><td>List(cheese,  bread,  milk)</td><td>List( potatoes )</td><td>1.0</td><td>20.0</td><td>0.05</td></tr><tr><td>List(pasta,  potatoes,  ketchup,  milk)</td><td>List( cheese)</td><td>1.0</td><td>10.0</td><td>0.05</td></tr><tr><td>List(pasta,  potatoes,  milk)</td><td>List( ketchup)</td><td>1.0</td><td>5.0</td><td>0.05</td></tr><tr><td>List(pasta,  potatoes,  milk)</td><td>List( cheese)</td><td>1.0</td><td>10.0</td><td>0.05</td></tr><tr><td>List( cheese,  pasta, milk)</td><td>List( ketchup)</td><td>1.0</td><td>5.0</td><td>0.05</td></tr><tr><td>List(cheese,  milk)</td><td>List( bread)</td><td>1.0</td><td>3.3333333333333335</td><td>0.05</td></tr><tr><td>List(cheese,  milk)</td><td>List( potatoes )</td><td>1.0</td><td>20.0</td><td>0.05</td></tr><tr><td>List(peanut butter,  milk)</td><td>List( apple)</td><td>0.3333333333333333</td><td>2.2222222222222223</td><td>0.05</td></tr><tr><td>List(peanut butter,  milk)</td><td>List( bread)</td><td>0.6666666666666666</td><td>2.2222222222222223</td><td>0.1</td></tr><tr><td>List(peanut butter,  milk)</td><td>List( chocolate)</td><td>0.6666666666666666</td><td>2.6666666666666665</td><td>0.1</td></tr><tr><td>List( potatoes ,  bread,  milk)</td><td>List(cheese)</td><td>1.0</td><td>10.0</td><td>0.05</td></tr></tbody></table></div>"
      ]
     },
     "metadata": {
      "application/vnd.databricks.v1+output": {
       "addedWidgets": {},
       "aggData": [],
       "aggError": "",
       "aggOverflow": false,
       "aggSchema": [],
       "aggSeriesLimitReached": false,
       "aggType": "",
       "arguments": {},
       "columnCustomDisplayInfos": {},
       "data": [
        [
         [
          " potatoes ",
          " milk"
         ],
         [
          "cheese"
         ],
         1,
         10,
         0.05
        ],
        [
         [
          " potatoes ",
          " milk"
         ],
         [
          " bread"
         ],
         1,
         3.3333333333333335,
         0.05
        ],
        [
         [
          " potatoes "
         ],
         [
          "cheese"
         ],
         1,
         10,
         0.05
        ],
        [
         [
          " potatoes "
         ],
         [
          " bread"
         ],
         1,
         3.3333333333333335,
         0.05
        ],
        [
         [
          " potatoes "
         ],
         [
          " milk"
         ],
         1,
         2.2222222222222223,
         0.05
        ],
        [
         [
          " potatoes"
         ],
         [
          "pasta"
         ],
         0.5,
         10,
         0.05
        ],
        [
         [
          " potatoes"
         ],
         [
          " pasta"
         ],
         0.5,
         2,
         0.05
        ],
        [
         [
          " potatoes"
         ],
         [
          " ketchup"
         ],
         1,
         5,
         0.1
        ],
        [
         [
          " potatoes"
         ],
         [
          " bread"
         ],
         0.5,
         1.6666666666666667,
         0.05
        ],
        [
         [
          " potatoes"
         ],
         [
          " milk"
         ],
         1,
         2.2222222222222223,
         0.1
        ],
        [
         [
          " potatoes"
         ],
         [
          " cheese"
         ],
         0.5,
         5,
         0.05
        ],
        [
         [
          "milk"
         ],
         [
          "apple"
         ],
         0.2,
         1.3333333333333335,
         0.05
        ],
        [
         [
          "milk"
         ],
         [
          " pasta"
         ],
         0.2,
         0.8,
         0.05
        ],
        [
         [
          "milk"
         ],
         [
          " cheese"
         ],
         0.2,
         2,
         0.05
        ],
        [
         [
          "milk"
         ],
         [
          "chocolate"
         ],
         0.2,
         4,
         0.05
        ],
        [
         [
          "milk"
         ],
         [
          "bread"
         ],
         0.2,
         1,
         0.05
        ],
        [
         [
          "milk"
         ],
         [
          " ketchup"
         ],
         0.2,
         1,
         0.05
        ],
        [
         [
          "bread",
          " pasta"
         ],
         [
          " chocolate"
         ],
         1,
         4,
         0.05
        ],
        [
         [
          "bread",
          " pasta"
         ],
         [
          " milk"
         ],
         1,
         2.2222222222222223,
         0.05
        ],
        [
         [
          "peanut butter",
          " chocolate"
         ],
         [
          " apple"
         ],
         0.5,
         3.3333333333333335,
         0.05
        ],
        [
         [
          "peanut butter",
          " chocolate"
         ],
         [
          " bread"
         ],
         0.5,
         1.6666666666666667,
         0.05
        ],
        [
         [
          "peanut butter",
          " chocolate"
         ],
         [
          " milk"
         ],
         1,
         2.2222222222222223,
         0.1
        ],
        [
         [
          " chocolate",
          " milk"
         ],
         [
          " apple"
         ],
         0.25,
         1.6666666666666667,
         0.05
        ],
        [
         [
          " chocolate",
          " milk"
         ],
         [
          "apple"
         ],
         0.25,
         1.6666666666666667,
         0.05
        ],
        [
         [
          " chocolate",
          " milk"
         ],
         [
          " bread"
         ],
         0.25,
         0.8333333333333334,
         0.05
        ],
        [
         [
          " chocolate",
          " milk"
         ],
         [
          " pasta"
         ],
         0.25,
         1,
         0.05
        ],
        [
         [
          " chocolate",
          " milk"
         ],
         [
          "peanut butter"
         ],
         0.5,
         2,
         0.1
        ],
        [
         [
          " chocolate",
          " milk"
         ],
         [
          "bread"
         ],
         0.25,
         1.25,
         0.05
        ],
        [
         [
          "peanut butter",
          " chocolate",
          " milk"
         ],
         [
          " apple"
         ],
         0.5,
         3.3333333333333335,
         0.05
        ],
        [
         [
          "peanut butter",
          " chocolate",
          " milk"
         ],
         [
          " bread"
         ],
         0.5,
         1.6666666666666667,
         0.05
        ],
        [
         [
          "pasta",
          " cheese",
          " ketchup"
         ],
         [
          " milk"
         ],
         1,
         2.2222222222222223,
         0.05
        ],
        [
         [
          "pasta",
          " cheese",
          " ketchup"
         ],
         [
          " potatoes"
         ],
         1,
         10,
         0.05
        ],
        [
         [
          " ketchup"
         ],
         [
          "pasta"
         ],
         0.25,
         5,
         0.05
        ],
        [
         [
          " ketchup"
         ],
         [
          " potatoes"
         ],
         0.5,
         5,
         0.1
        ],
        [
         [
          " ketchup"
         ],
         [
          "cheese"
         ],
         0.25,
         2.5,
         0.05
        ],
        [
         [
          " ketchup"
         ],
         [
          " cheese"
         ],
         0.5,
         5,
         0.1
        ],
        [
         [
          " ketchup"
         ],
         [
          "milk"
         ],
         0.25,
         1,
         0.05
        ],
        [
         [
          " ketchup"
         ],
         [
          " pasta"
         ],
         0.75,
         3,
         0.15
        ],
        [
         [
          " ketchup"
         ],
         [
          " bread"
         ],
         0.25,
         0.8333333333333334,
         0.05
        ],
        [
         [
          " ketchup"
         ],
         [
          " milk"
         ],
         0.5,
         1.1111111111111112,
         0.1
        ],
        [
         [
          " cheese"
         ],
         [
          "pasta"
         ],
         0.5,
         10,
         0.05
        ],
        [
         [
          " cheese"
         ],
         [
          "milk"
         ],
         0.5,
         2,
         0.05
        ],
        [
         [
          " cheese"
         ],
         [
          " pasta"
         ],
         0.5,
         2,
         0.05
        ],
        [
         [
          " cheese"
         ],
         [
          " ketchup"
         ],
         1,
         5,
         0.1
        ],
        [
         [
          " cheese"
         ],
         [
          " potatoes"
         ],
         0.5,
         5,
         0.05
        ],
        [
         [
          " cheese"
         ],
         [
          " milk"
         ],
         0.5,
         1.1111111111111112,
         0.05
        ],
        [
         [
          "pasta",
          " ketchup"
         ],
         [
          " milk"
         ],
         1,
         2.2222222222222223,
         0.05
        ],
        [
         [
          "pasta",
          " ketchup"
         ],
         [
          " potatoes"
         ],
         1,
         10,
         0.05
        ],
        [
         [
          "pasta",
          " ketchup"
         ],
         [
          " cheese"
         ],
         1,
         10,
         0.05
        ],
        [
         [
          "pasta",
          " cheese",
          " potatoes",
          " milk"
         ],
         [
          " ketchup"
         ],
         1,
         5,
         0.05
        ],
        [
         [
          "pasta",
          " cheese",
          " ketchup",
          " milk"
         ],
         [
          " potatoes"
         ],
         1,
         10,
         0.05
        ],
        [
         [
          "cheese"
         ],
         [
          " pasta"
         ],
         0.5,
         2,
         0.05
        ],
        [
         [
          "cheese"
         ],
         [
          " ketchup"
         ],
         0.5,
         2.5,
         0.05
        ],
        [
         [
          "cheese"
         ],
         [
          " bread"
         ],
         0.5,
         1.6666666666666667,
         0.05
        ],
        [
         [
          "cheese"
         ],
         [
          " milk"
         ],
         0.5,
         1.1111111111111112,
         0.05
        ],
        [
         [
          "cheese"
         ],
         [
          " potatoes "
         ],
         0.5,
         10,
         0.05
        ],
        [
         [
          "pasta",
          " cheese"
         ],
         [
          " ketchup"
         ],
         1,
         5,
         0.05
        ],
        [
         [
          "pasta",
          " cheese"
         ],
         [
          " potatoes"
         ],
         1,
         10,
         0.05
        ],
        [
         [
          "pasta",
          " cheese"
         ],
         [
          " milk"
         ],
         1,
         2.2222222222222223,
         0.05
        ],
        [
         [
          " cheese",
          " ketchup"
         ],
         [
          "pasta"
         ],
         0.5,
         10,
         0.05
        ],
        [
         [
          " cheese",
          " ketchup"
         ],
         [
          "milk"
         ],
         0.5,
         2,
         0.05
        ],
        [
         [
          " cheese",
          " ketchup"
         ],
         [
          " pasta"
         ],
         0.5,
         2,
         0.05
        ],
        [
         [
          " cheese",
          " ketchup"
         ],
         [
          " milk"
         ],
         0.5,
         1.1111111111111112,
         0.05
        ],
        [
         [
          " cheese",
          " ketchup"
         ],
         [
          " potatoes"
         ],
         0.5,
         5,
         0.05
        ],
        [
         [
          "apple"
         ],
         [
          "milk"
         ],
         0.3333333333333333,
         1.3333333333333333,
         0.05
        ],
        [
         [
          "apple"
         ],
         [
          " pasta"
         ],
         0.3333333333333333,
         1.3333333333333333,
         0.05
        ],
        [
         [
          "apple"
         ],
         [
          " chocolate"
         ],
         0.6666666666666666,
         2.6666666666666665,
         0.1
        ],
        [
         [
          "apple"
         ],
         [
          " milk"
         ],
         0.3333333333333333,
         0.7407407407407407,
         0.05
        ],
        [
         [
          " apple",
          " milk"
         ],
         [
          "peanut butter"
         ],
         1,
         4,
         0.05
        ],
        [
         [
          " apple",
          " milk"
         ],
         [
          " chocolate"
         ],
         1,
         4,
         0.05
        ],
        [
         [
          " chocolate",
          " bread"
         ],
         [
          " milk"
         ],
         1,
         2.2222222222222223,
         0.05
        ],
        [
         [
          " chocolate",
          " bread"
         ],
         [
          "peanut butter"
         ],
         1,
         4,
         0.05
        ],
        [
         [
          " cheese",
          " ketchup",
          " pasta"
         ],
         [
          "milk"
         ],
         1,
         4,
         0.05
        ],
        [
         [
          " peanut butter"
         ],
         [
          " bread"
         ],
         1,
         3.3333333333333335,
         0.05
        ],
        [
         [
          "bread",
          " milk"
         ],
         [
          " pasta"
         ],
         0.5,
         2,
         0.05
        ],
        [
         [
          "bread",
          " milk"
         ],
         [
          " chocolate"
         ],
         0.5,
         2,
         0.05
        ],
        [
         [
          "bread",
          " milk"
         ],
         [
          " orange"
         ],
         0.5,
         10,
         0.05
        ],
        [
         [
          " orange",
          " milk"
         ],
         [
          "bread"
         ],
         1,
         5,
         0.05
        ],
        [
         [
          " cheese",
          " potatoes",
          " ketchup",
          " milk"
         ],
         [
          "pasta"
         ],
         1,
         20,
         0.05
        ],
        [
         [
          " potatoes",
          " ketchup"
         ],
         [
          "pasta"
         ],
         0.5,
         10,
         0.05
        ],
        [
         [
          " potatoes",
          " ketchup"
         ],
         [
          " pasta"
         ],
         0.5,
         2,
         0.05
        ],
        [
         [
          " potatoes",
          " ketchup"
         ],
         [
          " bread"
         ],
         0.5,
         1.6666666666666667,
         0.05
        ],
        [
         [
          " potatoes",
          " ketchup"
         ],
         [
          " milk"
         ],
         1,
         2.2222222222222223,
         0.1
        ],
        [
         [
          " potatoes",
          " ketchup"
         ],
         [
          " cheese"
         ],
         0.5,
         5,
         0.05
        ],
        [
         [
          " potatoes",
          " ketchup",
          " milk"
         ],
         [
          "pasta"
         ],
         0.5,
         10,
         0.05
        ],
        [
         [
          " potatoes",
          " ketchup",
          " milk"
         ],
         [
          " pasta"
         ],
         0.5,
         2,
         0.05
        ],
        [
         [
          " potatoes",
          " ketchup",
          " milk"
         ],
         [
          " bread"
         ],
         0.5,
         1.6666666666666667,
         0.05
        ],
        [
         [
          " potatoes",
          " ketchup",
          " milk"
         ],
         [
          " cheese"
         ],
         0.5,
         5,
         0.05
        ],
        [
         [
          " cheese",
          " pasta"
         ],
         [
          "milk"
         ],
         1,
         4,
         0.05
        ],
        [
         [
          " cheese",
          " pasta"
         ],
         [
          " ketchup"
         ],
         1,
         5,
         0.05
        ],
        [
         [
          " pasta"
         ],
         [
          "apple"
         ],
         0.2,
         1.3333333333333335,
         0.05
        ],
        [
         [
          " pasta"
         ],
         [
          " potatoes"
         ],
         0.2,
         2,
         0.05
        ],
        [
         [
          " pasta"
         ],
         [
          "cheese"
         ],
         0.2,
         2,
         0.05
        ],
        [
         [
          " pasta"
         ],
         [
          "milk"
         ],
         0.2,
         0.8,
         0.05
        ],
        [
         [
          " pasta"
         ],
         [
          " bread"
         ],
         0.2,
         0.6666666666666667,
         0.05
        ],
        [
         [
          " pasta"
         ],
         [
          " chocolate"
         ],
         0.4,
         1.6,
         0.1
        ],
        [
         [
          " pasta"
         ],
         [
          " milk"
         ],
         0.4,
         0.888888888888889,
         0.1
        ],
        [
         [
          " pasta"
         ],
         [
          " cheese"
         ],
         0.2,
         2,
         0.05
        ],
        [
         [
          " pasta"
         ],
         [
          "bread"
         ],
         0.2,
         1,
         0.05
        ],
        [
         [
          " pasta"
         ],
         [
          " ketchup"
         ],
         0.6,
         2.9999999999999996,
         0.15
        ],
        [
         [
          "pasta",
          " cheese",
          " potatoes",
          " ketchup"
         ],
         [
          " milk"
         ],
         1,
         2.2222222222222223,
         0.05
        ],
        [
         [
          " ketchup",
          " bread"
         ],
         [
          " potatoes"
         ],
         1,
         10,
         0.05
        ],
        [
         [
          " ketchup",
          " bread"
         ],
         [
          " pasta"
         ],
         1,
         4,
         0.05
        ],
        [
         [
          " ketchup",
          " bread"
         ],
         [
          " milk"
         ],
         1,
         2.2222222222222223,
         0.05
        ],
        [
         [
          " potatoes ",
          "cheese",
          " bread"
         ],
         [
          " milk"
         ],
         1,
         2.2222222222222223,
         0.05
        ],
        [
         [
          " chocolate",
          " bread",
          " milk"
         ],
         [
          "peanut butter"
         ],
         1,
         4,
         0.05
        ],
        [
         [
          " orange"
         ],
         [
          "bread"
         ],
         1,
         5,
         0.05
        ],
        [
         [
          " orange"
         ],
         [
          " milk"
         ],
         1,
         2.2222222222222223,
         0.05
        ],
        [
         [
          " cheese",
          " ketchup",
          "milk"
         ],
         [
          " pasta"
         ],
         1,
         4,
         0.05
        ],
        [
         [
          " pasta",
          " chocolate"
         ],
         [
          "apple"
         ],
         0.5,
         3.3333333333333335,
         0.05
        ],
        [
         [
          " pasta",
          " chocolate"
         ],
         [
          " milk"
         ],
         0.5,
         1.1111111111111112,
         0.05
        ],
        [
         [
          " pasta",
          " chocolate"
         ],
         [
          "bread"
         ],
         0.5,
         2.5,
         0.05
        ],
        [
         [
          " potatoes",
          " pasta"
         ],
         [
          " bread"
         ],
         1,
         3.3333333333333335,
         0.05
        ],
        [
         [
          " potatoes",
          " pasta"
         ],
         [
          " milk"
         ],
         1,
         2.2222222222222223,
         0.05
        ],
        [
         [
          " potatoes",
          " pasta"
         ],
         [
          " ketchup"
         ],
         1,
         5,
         0.05
        ],
        [
         [
          " apple",
          " chocolate"
         ],
         [
          "peanut butter"
         ],
         1,
         4,
         0.05
        ],
        [
         [
          " apple",
          " chocolate"
         ],
         [
          " milk"
         ],
         1,
         2.2222222222222223,
         0.05
        ],
        [
         [
          " cheese",
          " milk"
         ],
         [
          "pasta"
         ],
         1,
         20,
         0.05
        ],
        [
         [
          " cheese",
          " milk"
         ],
         [
          " ketchup"
         ],
         1,
         5,
         0.05
        ],
        [
         [
          " cheese",
          " milk"
         ],
         [
          " potatoes"
         ],
         1,
         10,
         0.05
        ],
        [
         [
          "pasta"
         ],
         [
          " ketchup"
         ],
         1,
         5,
         0.05
        ],
        [
         [
          "pasta"
         ],
         [
          " potatoes"
         ],
         1,
         10,
         0.05
        ],
        [
         [
          "pasta"
         ],
         [
          " cheese"
         ],
         1,
         10,
         0.05
        ],
        [
         [
          "pasta"
         ],
         [
          " milk"
         ],
         1,
         2.2222222222222223,
         0.05
        ],
        [
         [
          " pasta",
          " milk"
         ],
         [
          " potatoes"
         ],
         0.5,
         5,
         0.05
        ],
        [
         [
          " pasta",
          " milk"
         ],
         [
          " bread"
         ],
         0.5,
         1.6666666666666667,
         0.05
        ],
        [
         [
          " pasta",
          " milk"
         ],
         [
          " chocolate"
         ],
         0.5,
         2,
         0.05
        ],
        [
         [
          " pasta",
          " milk"
         ],
         [
          "bread"
         ],
         0.5,
         2.5,
         0.05
        ],
        [
         [
          " pasta",
          " milk"
         ],
         [
          " ketchup"
         ],
         0.5,
         2.5,
         0.05
        ],
        [
         [
          " pasta",
          " bread",
          " milk"
         ],
         [
          " potatoes"
         ],
         1,
         10,
         0.05
        ],
        [
         [
          " pasta",
          " bread",
          " milk"
         ],
         [
          " ketchup"
         ],
         1,
         5,
         0.05
        ],
        [
         [
          " potatoes ",
          "cheese",
          " milk"
         ],
         [
          " bread"
         ],
         1,
         3.3333333333333335,
         0.05
        ],
        [
         [
          "bread"
         ],
         [
          "milk"
         ],
         0.25,
         1,
         0.05
        ],
        [
         [
          "bread"
         ],
         [
          " pasta"
         ],
         0.25,
         1,
         0.05
        ],
        [
         [
          "bread"
         ],
         [
          " chocolate"
         ],
         0.25,
         1,
         0.05
        ],
        [
         [
          "bread"
         ],
         [
          " milk"
         ],
         0.5,
         1.1111111111111112,
         0.1
        ],
        [
         [
          "bread"
         ],
         [
          " orange"
         ],
         0.25,
         5,
         0.05
        ],
        [
         [
          "peanut butter",
          " bread"
         ],
         [
          " apple"
         ],
         0.3333333333333333,
         2.2222222222222223,
         0.05
        ],
        [
         [
          "peanut butter",
          " bread"
         ],
         [
          " milk"
         ],
         0.6666666666666666,
         1.4814814814814814,
         0.1
        ],
        [
         [
          "peanut butter",
          " bread"
         ],
         [
          " chocolate"
         ],
         0.3333333333333333,
         1.3333333333333333,
         0.05
        ],
        [
         [
          " bread",
          " milk"
         ],
         [
          " potatoes"
         ],
         0.25,
         2.5,
         0.05
        ],
        [
         [
          " bread",
          " milk"
         ],
         [
          "cheese"
         ],
         0.25,
         2.5,
         0.05
        ],
        [
         [
          " bread",
          " milk"
         ],
         [
          " chocolate"
         ],
         0.25,
         1,
         0.05
        ],
        [
         [
          " bread",
          " milk"
         ],
         [
          " pasta"
         ],
         0.25,
         1,
         0.05
        ],
        [
         [
          " bread",
          " milk"
         ],
         [
          "peanut butter"
         ],
         0.5,
         2,
         0.1
        ],
        [
         [
          " bread",
          " milk"
         ],
         [
          " potatoes "
         ],
         0.25,
         5,
         0.05
        ],
        [
         [
          " bread",
          " milk"
         ],
         [
          " ketchup"
         ],
         0.25,
         1.25,
         0.05
        ],
        [
         [
          " apple",
          "peanut butter",
          " chocolate"
         ],
         [
          " milk"
         ],
         1,
         2.2222222222222223,
         0.05
        ],
        [
         [
          "pasta",
          " cheese",
          " milk"
         ],
         [
          " ketchup"
         ],
         1,
         5,
         0.05
        ],
        [
         [
          "pasta",
          " cheese",
          " milk"
         ],
         [
          " potatoes"
         ],
         1,
         10,
         0.05
        ],
        [
         [
          " potatoes",
          " pasta",
          " milk"
         ],
         [
          " bread"
         ],
         1,
         3.3333333333333335,
         0.05
        ],
        [
         [
          " potatoes",
          " pasta",
          " milk"
         ],
         [
          " ketchup"
         ],
         1,
         5,
         0.05
        ],
        [
         [
          " ketchup",
          " pasta",
          "milk"
         ],
         [
          " cheese"
         ],
         1,
         10,
         0.05
        ],
        [
         [
          " potatoes",
          " bread",
          " milk"
         ],
         [
          " pasta"
         ],
         1,
         4,
         0.05
        ],
        [
         [
          " potatoes",
          " bread",
          " milk"
         ],
         [
          " ketchup"
         ],
         1,
         5,
         0.05
        ],
        [
         [
          " pasta",
          " bread"
         ],
         [
          " potatoes"
         ],
         1,
         10,
         0.05
        ],
        [
         [
          " pasta",
          " bread"
         ],
         [
          " milk"
         ],
         1,
         2.2222222222222223,
         0.05
        ],
        [
         [
          " pasta",
          " bread"
         ],
         [
          " ketchup"
         ],
         1,
         5,
         0.05
        ],
        [
         [
          "cheese",
          " pasta"
         ],
         [
          " ketchup"
         ],
         1,
         5,
         0.05
        ],
        [
         [
          "apple",
          " milk"
         ],
         [
          " chocolate"
         ],
         1,
         4,
         0.05
        ],
        [
         [
          " potatoes",
          " ketchup",
          " pasta"
         ],
         [
          " bread"
         ],
         1,
         3.3333333333333335,
         0.05
        ],
        [
         [
          " potatoes",
          " ketchup",
          " pasta"
         ],
         [
          " milk"
         ],
         1,
         2.2222222222222223,
         0.05
        ],
        [
         [
          "pasta",
          " potatoes",
          " ketchup"
         ],
         [
          " milk"
         ],
         1,
         2.2222222222222223,
         0.05
        ],
        [
         [
          "pasta",
          " potatoes",
          " ketchup"
         ],
         [
          " cheese"
         ],
         1,
         10,
         0.05
        ],
        [
         [
          " ketchup",
          "milk"
         ],
         [
          " cheese"
         ],
         1,
         10,
         0.05
        ],
        [
         [
          " ketchup",
          "milk"
         ],
         [
          " pasta"
         ],
         1,
         4,
         0.05
        ],
        [
         [
          " potatoes",
          " ketchup",
          " pasta",
          " milk"
         ],
         [
          " bread"
         ],
         1,
         3.3333333333333335,
         0.05
        ],
        [
         [
          "peanut butter",
          " chocolate",
          " bread"
         ],
         [
          " milk"
         ],
         1,
         2.2222222222222223,
         0.05
        ],
        [
         [
          "apple",
          " pasta"
         ],
         [
          " chocolate"
         ],
         1,
         4,
         0.05
        ],
        [
         [
          "pasta",
          " milk"
         ],
         [
          " ketchup"
         ],
         1,
         5,
         0.05
        ],
        [
         [
          "pasta",
          " milk"
         ],
         [
          " potatoes"
         ],
         1,
         10,
         0.05
        ],
        [
         [
          "pasta",
          " milk"
         ],
         [
          " cheese"
         ],
         1,
         10,
         0.05
        ],
        [
         [
          "bread",
          " chocolate",
          " milk"
         ],
         [
          " pasta"
         ],
         1,
         4,
         0.05
        ],
        [
         [
          "pasta",
          " ketchup",
          " milk"
         ],
         [
          " potatoes"
         ],
         1,
         10,
         0.05
        ],
        [
         [
          "pasta",
          " ketchup",
          " milk"
         ],
         [
          " cheese"
         ],
         1,
         10,
         0.05
        ],
        [
         [
          " apple",
          " bread"
         ],
         [
          "peanut butter"
         ],
         1,
         4,
         0.05
        ],
        [
         [
          " potatoes",
          " ketchup",
          " bread",
          " milk"
         ],
         [
          " pasta"
         ],
         1,
         4,
         0.05
        ],
        [
         [
          " potatoes",
          " ketchup",
          " bread"
         ],
         [
          " pasta"
         ],
         1,
         4,
         0.05
        ],
        [
         [
          " potatoes",
          " ketchup",
          " bread"
         ],
         [
          " milk"
         ],
         1,
         2.2222222222222223,
         0.05
        ],
        [
         [
          " potatoes",
          " pasta",
          " bread",
          " milk"
         ],
         [
          " ketchup"
         ],
         1,
         5,
         0.05
        ],
        [
         [
          "bread",
          " pasta",
          " milk"
         ],
         [
          " chocolate"
         ],
         1,
         4,
         0.05
        ],
        [
         [
          "bread",
          " chocolate"
         ],
         [
          " pasta"
         ],
         1,
         4,
         0.05
        ],
        [
         [
          "bread",
          " chocolate"
         ],
         [
          " milk"
         ],
         1,
         2.2222222222222223,
         0.05
        ],
        [
         [
          " potatoes ",
          " bread"
         ],
         [
          "cheese"
         ],
         1,
         10,
         0.05
        ],
        [
         [
          " potatoes ",
          " bread"
         ],
         [
          " milk"
         ],
         1,
         2.2222222222222223,
         0.05
        ],
        [
         [
          " potatoes",
          " ketchup",
          " pasta",
          " bread"
         ],
         [
          " milk"
         ],
         1,
         2.2222222222222223,
         0.05
        ],
        [
         [
          "apple",
          " chocolate"
         ],
         [
          " pasta"
         ],
         0.5,
         2,
         0.05
        ],
        [
         [
          "apple",
          " chocolate"
         ],
         [
          " milk"
         ],
         0.5,
         1.1111111111111112,
         0.05
        ],
        [
         [
          " potatoes",
          " pasta",
          " bread"
         ],
         [
          " milk"
         ],
         1,
         2.2222222222222223,
         0.05
        ],
        [
         [
          " potatoes",
          " pasta",
          " bread"
         ],
         [
          " ketchup"
         ],
         1,
         5,
         0.05
        ],
        [
         [
          " ketchup",
          " pasta",
          " bread",
          " milk"
         ],
         [
          " potatoes"
         ],
         1,
         10,
         0.05
        ],
        [
         [
          " apple",
          "peanut butter",
          " milk"
         ],
         [
          " chocolate"
         ],
         1,
         4,
         0.05
        ],
        [
         [
          " cheese",
          " ketchup",
          " milk"
         ],
         [
          "pasta"
         ],
         1,
         20,
         0.05
        ],
        [
         [
          " cheese",
          " ketchup",
          " milk"
         ],
         [
          " potatoes"
         ],
         1,
         10,
         0.05
        ],
        [
         [
          " ketchup",
          " pasta"
         ],
         [
          " potatoes"
         ],
         0.3333333333333333,
         3.333333333333333,
         0.05
        ],
        [
         [
          " ketchup",
          " pasta"
         ],
         [
          "cheese"
         ],
         0.3333333333333333,
         3.333333333333333,
         0.05
        ],
        [
         [
          " ketchup",
          " pasta"
         ],
         [
          " cheese"
         ],
         0.3333333333333333,
         3.333333333333333,
         0.05
        ],
        [
         [
          " ketchup",
          " pasta"
         ],
         [
          "milk"
         ],
         0.3333333333333333,
         1.3333333333333333,
         0.05
        ],
        [
         [
          " ketchup",
          " pasta"
         ],
         [
          " bread"
         ],
         0.3333333333333333,
         1.1111111111111112,
         0.05
        ],
        [
         [
          " ketchup",
          " pasta"
         ],
         [
          " milk"
         ],
         0.3333333333333333,
         0.7407407407407407,
         0.05
        ],
        [
         [
          " potatoes",
          " bread"
         ],
         [
          " pasta"
         ],
         1,
         4,
         0.05
        ],
        [
         [
          " potatoes",
          " bread"
         ],
         [
          " ketchup"
         ],
         1,
         5,
         0.05
        ],
        [
         [
          " potatoes",
          " bread"
         ],
         [
          " milk"
         ],
         1,
         2.2222222222222223,
         0.05
        ],
        [
         [
          " potatoes",
          " milk"
         ],
         [
          "pasta"
         ],
         0.5,
         10,
         0.05
        ],
        [
         [
          " potatoes",
          " milk"
         ],
         [
          " pasta"
         ],
         0.5,
         2,
         0.05
        ],
        [
         [
          " potatoes",
          " milk"
         ],
         [
          " ketchup"
         ],
         1,
         5,
         0.1
        ],
        [
         [
          " potatoes",
          " milk"
         ],
         [
          " bread"
         ],
         0.5,
         1.6666666666666667,
         0.05
        ],
        [
         [
          " potatoes",
          " milk"
         ],
         [
          " cheese"
         ],
         0.5,
         5,
         0.05
        ],
        [
         [
          "bread",
          " pasta",
          " chocolate"
         ],
         [
          " milk"
         ],
         1,
         2.2222222222222223,
         0.05
        ],
        [
         [
          " ketchup",
          " pasta",
          " bread"
         ],
         [
          " potatoes"
         ],
         1,
         10,
         0.05
        ],
        [
         [
          " ketchup",
          " pasta",
          " bread"
         ],
         [
          " milk"
         ],
         1,
         2.2222222222222223,
         0.05
        ],
        [
         [
          " pasta",
          " chocolate",
          " milk"
         ],
         [
          "bread"
         ],
         1,
         5,
         0.05
        ],
        [
         [
          "cheese",
          " ketchup"
         ],
         [
          " pasta"
         ],
         1,
         4,
         0.05
        ],
        [
         [
          " cheese",
          " potatoes",
          " ketchup"
         ],
         [
          "pasta"
         ],
         1,
         20,
         0.05
        ],
        [
         [
          " cheese",
          " potatoes",
          " ketchup"
         ],
         [
          " milk"
         ],
         1,
         2.2222222222222223,
         0.05
        ],
        [
         [
          " potatoes ",
          "cheese"
         ],
         [
          " bread"
         ],
         1,
         3.3333333333333335,
         0.05
        ],
        [
         [
          " potatoes ",
          "cheese"
         ],
         [
          " milk"
         ],
         1,
         2.2222222222222223,
         0.05
        ],
        [
         [
          "peanut butter",
          " bread",
          " milk"
         ],
         [
          " chocolate"
         ],
         0.5,
         2,
         0.05
        ],
        [
         [
          " ketchup",
          " pasta",
          " milk"
         ],
         [
          " potatoes"
         ],
         1,
         10,
         0.05
        ],
        [
         [
          " ketchup",
          " pasta",
          " milk"
         ],
         [
          " bread"
         ],
         1,
         3.3333333333333335,
         0.05
        ],
        [
         [
          " apple",
          "peanut butter"
         ],
         [
          " bread"
         ],
         0.3333333333333333,
         1.1111111111111112,
         0.05
        ],
        [
         [
          " apple",
          "peanut butter"
         ],
         [
          " chocolate"
         ],
         0.3333333333333333,
         1.3333333333333333,
         0.05
        ],
        [
         [
          " apple",
          "peanut butter"
         ],
         [
          " milk"
         ],
         0.3333333333333333,
         0.7407407407407407,
         0.05
        ],
        [
         [
          " orange",
          "bread"
         ],
         [
          " milk"
         ],
         1,
         2.2222222222222223,
         0.05
        ],
        [
         [
          "pasta",
          " potatoes"
         ],
         [
          " ketchup"
         ],
         1,
         5,
         0.05
        ],
        [
         [
          "pasta",
          " potatoes"
         ],
         [
          " milk"
         ],
         1,
         2.2222222222222223,
         0.05
        ],
        [
         [
          "pasta",
          " potatoes"
         ],
         [
          " cheese"
         ],
         1,
         10,
         0.05
        ],
        [
         [
          " apple",
          " chocolate",
          " milk"
         ],
         [
          "peanut butter"
         ],
         1,
         4,
         0.05
        ],
        [
         [
          " bread"
         ],
         [
          " apple"
         ],
         0.16666666666666666,
         1.1111111111111112,
         0.05
        ],
        [
         [
          " bread"
         ],
         [
          " peanut butter"
         ],
         0.16666666666666666,
         3.333333333333333,
         0.05
        ],
        [
         [
          " bread"
         ],
         [
          " milk"
         ],
         0.6666666666666666,
         1.4814814814814814,
         0.2
        ],
        [
         [
          " bread"
         ],
         [
          " potatoes"
         ],
         0.16666666666666666,
         1.6666666666666665,
         0.05
        ],
        [
         [
          " bread"
         ],
         [
          "cheese"
         ],
         0.16666666666666666,
         1.6666666666666665,
         0.05
        ],
        [
         [
          " bread"
         ],
         [
          " chocolate"
         ],
         0.16666666666666666,
         0.6666666666666666,
         0.05
        ],
        [
         [
          " bread"
         ],
         [
          " pasta"
         ],
         0.16666666666666666,
         0.6666666666666666,
         0.05
        ],
        [
         [
          " bread"
         ],
         [
          "peanut butter"
         ],
         0.5,
         2,
         0.15
        ],
        [
         [
          " bread"
         ],
         [
          " potatoes "
         ],
         0.16666666666666666,
         3.333333333333333,
         0.05
        ],
        [
         [
          " bread"
         ],
         [
          " ketchup"
         ],
         0.16666666666666666,
         0.8333333333333333,
         0.05
        ],
        [
         [
          "peanut butter"
         ],
         [
          " apple"
         ],
         0.6,
         4,
         0.15
        ],
        [
         [
          "peanut butter"
         ],
         [
          " bread"
         ],
         0.6,
         2,
         0.15
        ],
        [
         [
          "peanut butter"
         ],
         [
          " chocolate"
         ],
         0.4,
         1.6,
         0.1
        ],
        [
         [
          "peanut butter"
         ],
         [
          " milk"
         ],
         0.6,
         1.3333333333333333,
         0.15
        ],
        [
         [
          "cheese",
          " bread"
         ],
         [
          " milk"
         ],
         1,
         2.2222222222222223,
         0.05
        ],
        [
         [
          "cheese",
          " bread"
         ],
         [
          " potatoes "
         ],
         1,
         20,
         0.05
        ],
        [
         [
          " chocolate"
         ],
         [
          " apple"
         ],
         0.2,
         1.3333333333333335,
         0.05
        ],
        [
         [
          " chocolate"
         ],
         [
          "apple"
         ],
         0.4,
         2.666666666666667,
         0.1
        ],
        [
         [
          " chocolate"
         ],
         [
          " bread"
         ],
         0.2,
         0.6666666666666667,
         0.05
        ],
        [
         [
          " chocolate"
         ],
         [
          " milk"
         ],
         0.8,
         1.777777777777778,
         0.2
        ],
        [
         [
          " chocolate"
         ],
         [
          " pasta"
         ],
         0.4,
         1.6,
         0.1
        ],
        [
         [
          " chocolate"
         ],
         [
          "peanut butter"
         ],
         0.4,
         1.6,
         0.1
        ],
        [
         [
          " chocolate"
         ],
         [
          "bread"
         ],
         0.2,
         1,
         0.05
        ],
        [
         [
          " cheese",
          " potatoes",
          " milk"
         ],
         [
          "pasta"
         ],
         1,
         20,
         0.05
        ],
        [
         [
          " cheese",
          " potatoes",
          " milk"
         ],
         [
          " ketchup"
         ],
         1,
         5,
         0.05
        ],
        [
         [
          " ketchup",
          " milk"
         ],
         [
          "pasta"
         ],
         0.5,
         10,
         0.05
        ],
        [
         [
          " ketchup",
          " milk"
         ],
         [
          " potatoes"
         ],
         1,
         10,
         0.1
        ],
        [
         [
          " ketchup",
          " milk"
         ],
         [
          " cheese"
         ],
         0.5,
         5,
         0.05
        ],
        [
         [
          " ketchup",
          " milk"
         ],
         [
          " pasta"
         ],
         0.5,
         2,
         0.05
        ],
        [
         [
          " ketchup",
          " milk"
         ],
         [
          " bread"
         ],
         0.5,
         1.6666666666666667,
         0.05
        ],
        [
         [
          " cheese",
          "milk"
         ],
         [
          " pasta"
         ],
         1,
         4,
         0.05
        ],
        [
         [
          " cheese",
          "milk"
         ],
         [
          " ketchup"
         ],
         1,
         5,
         0.05
        ],
        [
         [
          " milk"
         ],
         [
          " apple"
         ],
         0.1111111111111111,
         0.7407407407407407,
         0.05
        ],
        [
         [
          " milk"
         ],
         [
          "pasta"
         ],
         0.1111111111111111,
         2.222222222222222,
         0.05
        ],
        [
         [
          " milk"
         ],
         [
          " bread"
         ],
         0.4444444444444444,
         1.4814814814814814,
         0.2
        ],
        [
         [
          " milk"
         ],
         [
          "apple"
         ],
         0.1111111111111111,
         0.7407407407407407,
         0.05
        ],
        [
         [
          " milk"
         ],
         [
          " potatoes"
         ],
         0.2222222222222222,
         2.222222222222222,
         0.1
        ],
        [
         [
          " milk"
         ],
         [
          "cheese"
         ],
         0.1111111111111111,
         1.111111111111111,
         0.05
        ],
        [
         [
          " milk"
         ],
         [
          " chocolate"
         ],
         0.4444444444444444,
         1.7777777777777777,
         0.2
        ],
        [
         [
          " milk"
         ],
         [
          " pasta"
         ],
         0.2222222222222222,
         0.8888888888888888,
         0.1
        ],
        [
         [
          " milk"
         ],
         [
          " cheese"
         ],
         0.1111111111111111,
         1.111111111111111,
         0.05
        ],
        [
         [
          " milk"
         ],
         [
          "peanut butter"
         ],
         0.3333333333333333,
         1.3333333333333333,
         0.15
        ],
        [
         [
          " milk"
         ],
         [
          " potatoes "
         ],
         0.1111111111111111,
         2.222222222222222,
         0.05
        ],
        [
         [
          " milk"
         ],
         [
          "bread"
         ],
         0.2222222222222222,
         1.111111111111111,
         0.1
        ],
        [
         [
          " milk"
         ],
         [
          " ketchup"
         ],
         0.2222222222222222,
         1.111111111111111,
         0.1
        ],
        [
         [
          " milk"
         ],
         [
          " orange"
         ],
         0.1111111111111111,
         2.222222222222222,
         0.05
        ],
        [
         [
          "chocolate"
         ],
         [
          "milk"
         ],
         1,
         4,
         0.05
        ],
        [
         [
          " ketchup",
          " bread",
          " milk"
         ],
         [
          " potatoes"
         ],
         1,
         10,
         0.05
        ],
        [
         [
          " ketchup",
          " bread",
          " milk"
         ],
         [
          " pasta"
         ],
         1,
         4,
         0.05
        ],
        [
         [
          " apple"
         ],
         [
          "peanut butter"
         ],
         1,
         4,
         0.15
        ],
        [
         [
          " apple"
         ],
         [
          " bread"
         ],
         0.3333333333333333,
         1.1111111111111112,
         0.05
        ],
        [
         [
          " apple"
         ],
         [
          " chocolate"
         ],
         0.3333333333333333,
         1.3333333333333333,
         0.05
        ],
        [
         [
          " apple"
         ],
         [
          " milk"
         ],
         0.3333333333333333,
         0.7407407407407407,
         0.05
        ],
        [
         [
          " cheese",
          " potatoes"
         ],
         [
          "pasta"
         ],
         1,
         20,
         0.05
        ],
        [
         [
          " cheese",
          " potatoes"
         ],
         [
          " ketchup"
         ],
         1,
         5,
         0.05
        ],
        [
         [
          " cheese",
          " potatoes"
         ],
         [
          " milk"
         ],
         1,
         2.2222222222222223,
         0.05
        ],
        [
         [
          "pasta",
          " cheese",
          " potatoes"
         ],
         [
          " ketchup"
         ],
         1,
         5,
         0.05
        ],
        [
         [
          "pasta",
          " cheese",
          " potatoes"
         ],
         [
          " milk"
         ],
         1,
         2.2222222222222223,
         0.05
        ],
        [
         [
          " pasta",
          "milk"
         ],
         [
          " cheese"
         ],
         1,
         10,
         0.05
        ],
        [
         [
          " pasta",
          "milk"
         ],
         [
          " ketchup"
         ],
         1,
         5,
         0.05
        ],
        [
         [
          "cheese",
          " bread",
          " milk"
         ],
         [
          " potatoes "
         ],
         1,
         20,
         0.05
        ],
        [
         [
          "pasta",
          " potatoes",
          " ketchup",
          " milk"
         ],
         [
          " cheese"
         ],
         1,
         10,
         0.05
        ],
        [
         [
          "pasta",
          " potatoes",
          " milk"
         ],
         [
          " ketchup"
         ],
         1,
         5,
         0.05
        ],
        [
         [
          "pasta",
          " potatoes",
          " milk"
         ],
         [
          " cheese"
         ],
         1,
         10,
         0.05
        ],
        [
         [
          " cheese",
          " pasta",
          "milk"
         ],
         [
          " ketchup"
         ],
         1,
         5,
         0.05
        ],
        [
         [
          "cheese",
          " milk"
         ],
         [
          " bread"
         ],
         1,
         3.3333333333333335,
         0.05
        ],
        [
         [
          "cheese",
          " milk"
         ],
         [
          " potatoes "
         ],
         1,
         20,
         0.05
        ],
        [
         [
          "peanut butter",
          " milk"
         ],
         [
          " apple"
         ],
         0.3333333333333333,
         2.2222222222222223,
         0.05
        ],
        [
         [
          "peanut butter",
          " milk"
         ],
         [
          " bread"
         ],
         0.6666666666666666,
         2.2222222222222223,
         0.1
        ],
        [
         [
          "peanut butter",
          " milk"
         ],
         [
          " chocolate"
         ],
         0.6666666666666666,
         2.6666666666666665,
         0.1
        ],
        [
         [
          " potatoes ",
          " bread",
          " milk"
         ],
         [
          "cheese"
         ],
         1,
         10,
         0.05
        ]
       ],
       "datasetInfos": [],
       "dbfsResultPath": null,
       "isJsonSchema": true,
       "metadata": {},
       "overflow": false,
       "plotOptions": {
        "customPlotOptions": {},
        "displayType": "table",
        "pivotAggregation": null,
        "pivotColumns": null,
        "xColumns": null,
        "yColumns": null
       },
       "removedWidgets": [],
       "schema": [
        {
         "metadata": "{}",
         "name": "antecedent",
         "type": "{\"type\":\"array\",\"elementType\":\"string\",\"containsNull\":true}"
        },
        {
         "metadata": "{}",
         "name": "consequent",
         "type": "{\"type\":\"array\",\"elementType\":\"string\",\"containsNull\":true}"
        },
        {
         "metadata": "{}",
         "name": "confidence",
         "type": "\"double\""
        },
        {
         "metadata": "{}",
         "name": "lift",
         "type": "\"double\""
        },
        {
         "metadata": "{}",
         "name": "support",
         "type": "\"double\""
        }
       ],
       "type": "table"
      }
     },
     "output_type": "display_data"
    }
   ],
   "source": [
    "#1.6  Display generated association rules.\n",
    "display(model.associationRules)"
   ]
  },
  {
   "cell_type": "code",
   "execution_count": 0,
   "metadata": {
    "application/vnd.databricks.v1+cell": {
     "cellMetadata": {},
     "inputWidgets": {},
     "nuid": "dd4b3402-7d65-4f82-a03e-3961a6526ba7",
     "showTitle": false,
     "title": ""
    }
   },
   "outputs": [],
   "source": [
    "# 1.7 Creating a test set\n",
    "test_df = spark.createDataFrame([\n",
    "    (0, ['bread']),\n",
    "    (1, ['potatoes','milk']),\n",
    "    (2, ['chocolate']),\n",
    "    (3, ['pasta', 'cheese']),\n",
    "    (4, ['apple','milk']),\n",
    "    (5, ['milk']),\n",
    "    (6, ['chocolate', 'bread', 'milk']),\n",
    "    (7, ['bread', 'milk'])\n",
    "], [\"id\", \"items\"])"
   ]
  },
  {
   "cell_type": "code",
   "execution_count": 0,
   "metadata": {
    "application/vnd.databricks.v1+cell": {
     "cellMetadata": {},
     "inputWidgets": {},
     "nuid": "275968ec-a074-4837-8ce9-458f849a4b37",
     "showTitle": false,
     "title": ""
    }
   },
   "outputs": [
    {
     "data": {
      "text/html": [
       "<style scoped>\n",
       "  .table-result-container {\n",
       "    max-height: 300px;\n",
       "    overflow: auto;\n",
       "  }\n",
       "  table, th, td {\n",
       "    border: 1px solid black;\n",
       "    border-collapse: collapse;\n",
       "  }\n",
       "  th, td {\n",
       "    padding: 5px;\n",
       "  }\n",
       "  th {\n",
       "    text-align: left;\n",
       "  }\n",
       "</style><div class='table-result-container'><table class='table-result'><thead style='background-color: white'><tr><th>id</th><th>items</th><th>prediction</th></tr></thead><tbody><tr><td>0</td><td>List(bread)</td><td>List(milk,  pasta,  chocolate,  milk,  orange)</td></tr><tr><td>1</td><td>List(potatoes, milk)</td><td>List(apple,  pasta,  cheese, chocolate, bread,  ketchup)</td></tr><tr><td>2</td><td>List(chocolate)</td><td>List(milk)</td></tr><tr><td>3</td><td>List(pasta, cheese)</td><td>List( pasta,  ketchup,  bread,  milk,  potatoes ,  potatoes,  cheese)</td></tr><tr><td>4</td><td>List(apple, milk)</td><td>List( pasta,  cheese, chocolate, bread,  ketchup,  chocolate,  milk)</td></tr><tr><td>5</td><td>List(milk)</td><td>List(apple,  pasta,  cheese, chocolate, bread,  ketchup)</td></tr><tr><td>6</td><td>List(chocolate, bread, milk)</td><td>List(apple,  pasta,  cheese,  ketchup,  chocolate,  milk,  orange)</td></tr><tr><td>7</td><td>List(bread, milk)</td><td>List(apple,  pasta,  cheese, chocolate,  ketchup,  chocolate,  milk,  orange)</td></tr></tbody></table></div>"
      ]
     },
     "metadata": {
      "application/vnd.databricks.v1+output": {
       "addedWidgets": {},
       "aggData": [],
       "aggError": "",
       "aggOverflow": false,
       "aggSchema": [],
       "aggSeriesLimitReached": false,
       "aggType": "",
       "arguments": {},
       "columnCustomDisplayInfos": {},
       "data": [
        [
         0,
         [
          "bread"
         ],
         [
          "milk",
          " pasta",
          " chocolate",
          " milk",
          " orange"
         ]
        ],
        [
         1,
         [
          "potatoes",
          "milk"
         ],
         [
          "apple",
          " pasta",
          " cheese",
          "chocolate",
          "bread",
          " ketchup"
         ]
        ],
        [
         2,
         [
          "chocolate"
         ],
         [
          "milk"
         ]
        ],
        [
         3,
         [
          "pasta",
          "cheese"
         ],
         [
          " pasta",
          " ketchup",
          " bread",
          " milk",
          " potatoes ",
          " potatoes",
          " cheese"
         ]
        ],
        [
         4,
         [
          "apple",
          "milk"
         ],
         [
          " pasta",
          " cheese",
          "chocolate",
          "bread",
          " ketchup",
          " chocolate",
          " milk"
         ]
        ],
        [
         5,
         [
          "milk"
         ],
         [
          "apple",
          " pasta",
          " cheese",
          "chocolate",
          "bread",
          " ketchup"
         ]
        ],
        [
         6,
         [
          "chocolate",
          "bread",
          "milk"
         ],
         [
          "apple",
          " pasta",
          " cheese",
          " ketchup",
          " chocolate",
          " milk",
          " orange"
         ]
        ],
        [
         7,
         [
          "bread",
          "milk"
         ],
         [
          "apple",
          " pasta",
          " cheese",
          "chocolate",
          " ketchup",
          " chocolate",
          " milk",
          " orange"
         ]
        ]
       ],
       "datasetInfos": [],
       "dbfsResultPath": null,
       "isJsonSchema": true,
       "metadata": {},
       "overflow": false,
       "plotOptions": {
        "customPlotOptions": {},
        "displayType": "table",
        "pivotAggregation": null,
        "pivotColumns": null,
        "xColumns": null,
        "yColumns": null
       },
       "removedWidgets": [],
       "schema": [
        {
         "metadata": "{}",
         "name": "id",
         "type": "\"long\""
        },
        {
         "metadata": "{}",
         "name": "items",
         "type": "{\"type\":\"array\",\"elementType\":\"string\",\"containsNull\":true}"
        },
        {
         "metadata": "{}",
         "name": "prediction",
         "type": "{\"type\":\"array\",\"elementType\":\"string\",\"containsNull\":true}"
        }
       ],
       "type": "table"
      }
     },
     "output_type": "display_data"
    }
   ],
   "source": [
    "# 1.8 Making predictions\n",
    "# transform examines the input items against all the association rules and summarize the consequents as prediction\n",
    "display(model.transform(test_df))"
   ]
  },
  {
   "cell_type": "markdown",
   "metadata": {
    "application/vnd.databricks.v1+cell": {
     "cellMetadata": {},
     "inputWidgets": {},
     "nuid": "aa109986-37f7-47d3-b609-47aed6843bad",
     "showTitle": false,
     "title": ""
    }
   },
   "source": [
    "#####  1.10 Task 1 - Additional"
   ]
  },
  {
   "cell_type": "code",
   "execution_count": 0,
   "metadata": {
    "application/vnd.databricks.v1+cell": {
     "cellMetadata": {},
     "inputWidgets": {},
     "nuid": "8e6e9926-b557-4155-8624-172cb9d06669",
     "showTitle": false,
     "title": ""
    }
   },
   "outputs": [
    {
     "data": {
      "text/html": [
       "<style scoped>\n",
       "  .table-result-container {\n",
       "    max-height: 300px;\n",
       "    overflow: auto;\n",
       "  }\n",
       "  table, th, td {\n",
       "    border: 1px solid black;\n",
       "    border-collapse: collapse;\n",
       "  }\n",
       "  th, td {\n",
       "    padding: 5px;\n",
       "  }\n",
       "  th {\n",
       "    text-align: left;\n",
       "  }\n",
       "</style><div class='table-result-container'><table class='table-result'><thead style='background-color: white'><tr><th>_c0</th><th>_c1</th><th>_c2</th><th>_c3</th></tr></thead><tbody><tr><td>citrus fruit</td><td>semi-finished bread</td><td>margarine</td><td>ready soups</td></tr><tr><td>tropical fruit</td><td>yogurt</td><td>coffee</td><td>null</td></tr><tr><td>whole milk</td><td>null</td><td>null</td><td>null</td></tr><tr><td>pip fruit</td><td>yogurt</td><td>cream cheese</td><td>meat spreads</td></tr><tr><td>other vegetables</td><td>whole milk</td><td>condensed milk</td><td>long life bakery product</td></tr><tr><td>whole milk</td><td>butter</td><td>yogurt</td><td>rice</td></tr><tr><td>rolls/buns</td><td>null</td><td>null</td><td>null</td></tr><tr><td>other vegetables</td><td>UHT-milk</td><td>rolls/buns</td><td>bottled beer</td></tr><tr><td>pot plants</td><td>null</td><td>null</td><td>null</td></tr><tr><td>whole milk</td><td>cereals</td><td>null</td><td>null</td></tr><tr><td>tropical fruit</td><td>other vegetables</td><td>white bread</td><td>bottled water</td></tr><tr><td>citrus fruit</td><td>tropical fruit</td><td>whole milk</td><td>butter</td></tr><tr><td>beef</td><td>null</td><td>null</td><td>null</td></tr><tr><td>frankfurter</td><td>rolls/buns</td><td>soda</td><td>null</td></tr><tr><td>chicken</td><td>tropical fruit</td><td>null</td><td>null</td></tr><tr><td>butter</td><td>sugar</td><td>fruit/vegetable juice</td><td>newspapers</td></tr><tr><td>fruit/vegetable juice</td><td>null</td><td>null</td><td>null</td></tr><tr><td>packaged fruit/vegetables</td><td>null</td><td>null</td><td>null</td></tr><tr><td>chocolate</td><td>null</td><td>null</td><td>null</td></tr><tr><td>specialty bar</td><td>null</td><td>null</td><td>null</td></tr><tr><td>other vegetables</td><td>null</td><td>null</td><td>null</td></tr><tr><td>butter milk</td><td>pastry</td><td>null</td><td>null</td></tr><tr><td>whole milk</td><td>null</td><td>null</td><td>null</td></tr><tr><td>tropical fruit</td><td>cream cheese</td><td>processed cheese</td><td>detergent</td></tr><tr><td>tropical fruit</td><td>root vegetables</td><td>other vegetables</td><td>frozen dessert</td></tr><tr><td>bottled water</td><td>canned beer</td><td>null</td><td>null</td></tr><tr><td>yogurt</td><td>null</td><td>null</td><td>null</td></tr><tr><td>sausage</td><td>rolls/buns</td><td>soda</td><td>chocolate</td></tr><tr><td>other vegetables</td><td>null</td><td>null</td><td>null</td></tr><tr><td>brown bread</td><td>soda</td><td>fruit/vegetable juice</td><td>canned beer</td></tr><tr><td>yogurt</td><td>beverages</td><td>bottled water</td><td>specialty bar</td></tr><tr><td>hamburger meat</td><td>other vegetables</td><td>rolls/buns</td><td>spices</td></tr><tr><td>root vegetables</td><td>other vegetables</td><td>whole milk</td><td>beverages</td></tr><tr><td>pork</td><td>berries</td><td>other vegetables</td><td>whole milk</td></tr><tr><td>beef</td><td>grapes</td><td>detergent</td><td>null</td></tr><tr><td>pastry</td><td>soda</td><td>null</td><td>null</td></tr><tr><td>fruit/vegetable juice</td><td>null</td><td>null</td><td>null</td></tr><tr><td>canned beer</td><td>null</td><td>null</td><td>null</td></tr><tr><td>root vegetables</td><td>other vegetables</td><td>whole milk</td><td>dessert</td></tr><tr><td>citrus fruit</td><td>zwieback</td><td>newspapers</td><td>null</td></tr><tr><td>sausage</td><td>rolls/buns</td><td>soda</td><td>canned beer</td></tr><tr><td>tropical fruit</td><td>root vegetables</td><td>whole milk</td><td>yogurt</td></tr><tr><td>berries</td><td>yogurt</td><td>null</td><td>null</td></tr><tr><td>canned beer</td><td>null</td><td>null</td><td>null</td></tr><tr><td>butter milk</td><td>yogurt</td><td>cream cheese</td><td>spread cheese</td></tr><tr><td>coffee</td><td>null</td><td>null</td><td>null</td></tr><tr><td>pastry</td><td>bottled water</td><td>null</td><td>null</td></tr><tr><td>rolls/buns</td><td>null</td><td>null</td><td>null</td></tr><tr><td>misc. beverages</td><td>null</td><td>null</td><td>null</td></tr><tr><td>root vegetables</td><td>other vegetables</td><td>butter</td><td>curd</td></tr><tr><td>sausage</td><td>rolls/buns</td><td>cat food</td><td>newspapers</td></tr><tr><td>canned beer</td><td>null</td><td>null</td><td>null</td></tr><tr><td>ham</td><td>grapes</td><td>other vegetables</td><td>whole milk</td></tr><tr><td>turkey</td><td>tropical fruit</td><td>other vegetables</td><td>curd</td></tr><tr><td>whole milk</td><td>yogurt</td><td>processed cheese</td><td>pickled vegetables</td></tr><tr><td>whole milk</td><td>curd</td><td>yogurt</td><td>pastry</td></tr><tr><td>packaged fruit/vegetables</td><td>brown bread</td><td>canned beer</td><td>null</td></tr><tr><td>rolls/buns</td><td>oil</td><td>bottled water</td><td>chewing gum</td></tr><tr><td>ham</td><td>beef</td><td>whipped/sour cream</td><td>ice cream</td></tr><tr><td>rolls/buns</td><td>pastry</td><td>sugar</td><td>null</td></tr><tr><td>other vegetables</td><td>whole milk</td><td>frozen vegetables</td><td>canned fish</td></tr><tr><td>sausage</td><td>pastry</td><td>null</td><td>null</td></tr><tr><td>sausage</td><td>beef</td><td>whole milk</td><td>null</td></tr><tr><td>frankfurter</td><td>tropical fruit</td><td>rolls/buns</td><td>brown bread</td></tr><tr><td>rolls/buns</td><td>pastry</td><td>soda</td><td>null</td></tr><tr><td>whole milk</td><td>null</td><td>null</td><td>null</td></tr><tr><td>curd cheese</td><td>coffee</td><td>null</td><td>null</td></tr><tr><td>red/blush wine</td><td>newspapers</td><td>null</td><td>null</td></tr><tr><td>sausage</td><td>whole milk</td><td>curd</td><td>null</td></tr><tr><td>tropical fruit</td><td>pip fruit</td><td>berries</td><td>whole milk</td></tr><tr><td>red/blush wine</td><td>null</td><td>null</td><td>null</td></tr><tr><td>whole milk</td><td>butter</td><td>margarine</td><td>specialty fat</td></tr><tr><td>frankfurter</td><td>citrus fruit</td><td>whole milk</td><td>domestic eggs</td></tr><tr><td>whole milk</td><td>meat spreads</td><td>soda</td><td>null</td></tr><tr><td>frozen potato products</td><td>null</td><td>null</td><td>null</td></tr><tr><td>other vegetables</td><td>whole milk</td><td>rolls/buns</td><td>sugar</td></tr><tr><td>citrus fruit</td><td>whole milk</td><td>curd</td><td>butter milk</td></tr><tr><td>flour</td><td>salt</td><td>bottled water</td><td>fruit/vegetable juice</td></tr><tr><td>sugar</td><td>bottled water</td><td>soda</td><td>bottled beer</td></tr><tr><td>frozen meals</td><td>coffee</td><td>null</td><td>null</td></tr><tr><td>chocolate</td><td>null</td><td>null</td><td>null</td></tr><tr><td>root vegetables</td><td>whole milk</td><td>frozen vegetables</td><td>domestic eggs</td></tr><tr><td>root vegetables</td><td>onions</td><td>hard cheese</td><td>frozen vegetables</td></tr><tr><td>herbs</td><td>condensed milk</td><td>frozen vegetables</td><td>salt</td></tr><tr><td>bottled water</td><td>null</td><td>null</td><td>null</td></tr><tr><td>sausage</td><td>root vegetables</td><td>onions</td><td>yogurt</td></tr><tr><td>coffee</td><td>newspapers</td><td>null</td><td>null</td></tr><tr><td>pork</td><td>other vegetables</td><td>whipped/sour cream</td><td>null</td></tr><tr><td>berries</td><td>yogurt</td><td>null</td><td>null</td></tr><tr><td>soda</td><td>null</td><td>null</td><td>null</td></tr><tr><td>berries</td><td>null</td><td>null</td><td>null</td></tr><tr><td>fruit/vegetable juice</td><td>salty snack</td><td>candles</td><td>null</td></tr><tr><td>citrus fruit</td><td>butter milk</td><td>yogurt</td><td>cream cheese </td></tr><tr><td>pork</td><td>hamburger meat</td><td>citrus fruit</td><td>berries</td></tr><tr><td>detergent</td><td>null</td><td>null</td><td>null</td></tr><tr><td>grapes</td><td>photo/film</td><td>null</td><td>null</td></tr><tr><td>sausage</td><td>sliced cheese</td><td>rolls/buns</td><td>brown bread</td></tr><tr><td>chicken</td><td>hamburger meat</td><td>citrus fruit</td><td>tropical fruit</td></tr><tr><td>whole milk</td><td>yogurt</td><td>brown bread</td><td>null</td></tr><tr><td>citrus fruit</td><td>tropical fruit</td><td>null</td><td>null</td></tr><tr><td>soda</td><td>misc. beverages</td><td>null</td><td>null</td></tr><tr><td>sausage</td><td>pork</td><td>grapes</td><td>whole milk</td></tr><tr><td>frankfurter</td><td>rolls/buns</td><td>bottled water</td><td>null</td></tr><tr><td>sausage</td><td>whole milk</td><td>yogurt</td><td>coffee</td></tr><tr><td>soda</td><td>null</td><td>null</td><td>null</td></tr><tr><td>rolls/buns</td><td>fruit/vegetable juice</td><td>null</td><td>null</td></tr><tr><td>beef</td><td>citrus fruit</td><td>berries</td><td>root vegetables</td></tr><tr><td>whole milk</td><td>whipped/sour cream</td><td>rolls/buns</td><td>soda</td></tr><tr><td>processed cheese</td><td>null</td><td>null</td><td>null</td></tr><tr><td>tropical fruit</td><td>pip fruit</td><td>null</td><td>null</td></tr><tr><td>frankfurter</td><td>sausage</td><td>root vegetables</td><td>other vegetables</td></tr><tr><td>packaged fruit/vegetables</td><td>bottled water</td><td>null</td><td>null</td></tr><tr><td>whole milk</td><td>dessert</td><td>frozen vegetables</td><td>rolls/buns</td></tr><tr><td>berries</td><td>whipped/sour cream</td><td>null</td><td>null</td></tr><tr><td>citrus fruit</td><td>berries</td><td>UHT-milk</td><td>processed cheese</td></tr><tr><td>tropical fruit</td><td>whole milk</td><td>yogurt</td><td>null</td></tr><tr><td>hamburger meat</td><td>whole milk</td><td>frozen vegetables</td><td>rolls/buns</td></tr><tr><td>hamburger meat</td><td>other vegetables</td><td>whole milk</td><td>frozen vegetables</td></tr><tr><td>whole milk</td><td>cream cheese</td><td>soda</td><td>null</td></tr><tr><td>fish</td><td>other vegetables</td><td>pastry</td><td>margarine</td></tr><tr><td>frankfurter</td><td>sausage</td><td>long life bakery product</td><td>waffles</td></tr><tr><td>packaged fruit/vegetables</td><td>dessert</td><td>semi-finished bread</td><td>canned beer</td></tr><tr><td>pastry</td><td>soda</td><td>null</td><td>null</td></tr><tr><td>other vegetables</td><td>red/blush wine</td><td>null</td><td>null</td></tr><tr><td>misc. beverages</td><td>null</td><td>null</td><td>null</td></tr><tr><td>frankfurter</td><td>sausage</td><td>citrus fruit</td><td>tropical fruit</td></tr><tr><td>sparkling wine</td><td>null</td><td>null</td><td>null</td></tr><tr><td>specialty bar</td><td>null</td><td>null</td><td>null</td></tr><tr><td>sausage</td><td>butter milk</td><td>rolls/buns</td><td>null</td></tr><tr><td>curd cheese</td><td>null</td><td>null</td><td>null</td></tr><tr><td>frankfurter</td><td>dessert</td><td>null</td><td>null</td></tr><tr><td>whole milk</td><td>yogurt</td><td>beverages</td><td>brown bread</td></tr><tr><td>newspapers</td><td>null</td><td>null</td><td>null</td></tr><tr><td>berries</td><td>soda</td><td>null</td><td>null</td></tr><tr><td>curd</td><td>flour</td><td>liquor (appetizer)</td><td>null</td></tr><tr><td>tropical fruit</td><td>other vegetables</td><td>coffee</td><td>null</td></tr><tr><td>soda</td><td>null</td><td>null</td><td>null</td></tr><tr><td>rolls/buns</td><td>Instant food products</td><td>null</td><td>null</td></tr><tr><td>canned beer</td><td>null</td><td>null</td><td>null</td></tr><tr><td>canned beer</td><td>null</td><td>null</td><td>null</td></tr><tr><td>frankfurter</td><td>sausage</td><td>whole milk</td><td>rolls/buns</td></tr><tr><td>other vegetables</td><td>misc. beverages</td><td>canned beer</td><td>null</td></tr><tr><td>whole milk</td><td>frozen vegetables</td><td>null</td><td>null</td></tr><tr><td>whole milk</td><td>null</td><td>null</td><td>null</td></tr><tr><td>citrus fruit</td><td>butter</td><td>cream cheese</td><td>white bread</td></tr><tr><td>frankfurter</td><td>rolls/buns</td><td>null</td><td>null</td></tr><tr><td>frankfurter</td><td>ham</td><td>pip fruit</td><td>other vegetables</td></tr><tr><td>butter milk</td><td>yogurt</td><td>honey</td><td>soda</td></tr><tr><td>hamburger meat</td><td>citrus fruit</td><td>onions</td><td>rolls/buns</td></tr><tr><td>pasta</td><td>popcorn</td><td>null</td><td>null</td></tr><tr><td>other vegetables</td><td>whole milk</td><td>meat spreads</td><td>cake bar</td></tr><tr><td>sausage</td><td>pork</td><td>citrus fruit</td><td>dessert</td></tr><tr><td>rolls/buns</td><td>null</td><td>null</td><td>null</td></tr><tr><td>grapes</td><td>other vegetables</td><td>curd</td><td>dessert</td></tr><tr><td>root vegetables</td><td>other vegetables</td><td>whole milk</td><td>yogurt</td></tr><tr><td>coffee</td><td>shopping bags</td><td>null</td><td>null</td></tr><tr><td>popcorn</td><td>null</td><td>null</td><td>null</td></tr><tr><td>whole milk</td><td>rolls/buns</td><td>sugar</td><td>bottled water</td></tr><tr><td>tropical fruit</td><td>other vegetables</td><td>packaged fruit/vegetables</td><td>whole milk</td></tr><tr><td>beef</td><td>herbs</td><td>flour</td><td>cling film/bags</td></tr><tr><td>whole milk</td><td>butter</td><td>dessert</td><td>rolls/buns</td></tr><tr><td>frankfurter</td><td>soda</td><td>chewing gum</td><td>null</td></tr><tr><td>tropical fruit</td><td>specialty cheese</td><td>bottled water</td><td>null</td></tr><tr><td>canned beer</td><td>null</td><td>null</td><td>null</td></tr><tr><td>finished products</td><td>other vegetables</td><td>frozen vegetables</td><td>bottled beer</td></tr><tr><td>beverages</td><td>soda</td><td>null</td><td>null</td></tr><tr><td>hamburger meat</td><td>root vegetables</td><td>whole milk</td><td>null</td></tr><tr><td>whole milk</td><td>pastry</td><td>long life bakery product</td><td>null</td></tr><tr><td>finished products</td><td>white wine</td><td>shopping bags</td><td>null</td></tr><tr><td>other vegetables</td><td>null</td><td>null</td><td>null</td></tr><tr><td>ham</td><td>tropical fruit</td><td>other vegetables</td><td>whole milk</td></tr><tr><td>other vegetables</td><td>null</td><td>null</td><td>null</td></tr><tr><td>curd</td><td>butter milk</td><td>cocoa drinks</td><td>salty snack</td></tr><tr><td>bottled beer</td><td>null</td><td>null</td><td>null</td></tr><tr><td>curd</td><td>dessert</td><td>soda</td><td>salty snack</td></tr><tr><td>whole milk</td><td>cream cheese</td><td>cereals</td><td>dog food</td></tr><tr><td>whole milk</td><td>salt</td><td>null</td><td>null</td></tr><tr><td>dessert</td><td>ice cream</td><td>null</td><td>null</td></tr><tr><td>sausage</td><td>soft cheese</td><td>coffee</td><td>null</td></tr><tr><td>other vegetables</td><td>bottled water</td><td>waffles</td><td>dishes</td></tr><tr><td>ham</td><td>whole milk</td><td>rolls/buns</td><td>null</td></tr><tr><td>other vegetables</td><td>ice cream</td><td>null</td><td>null</td></tr><tr><td>other vegetables</td><td>bottled water</td><td>null</td><td>null</td></tr><tr><td>soda</td><td>bottled beer</td><td>white wine</td><td>prosecco</td></tr><tr><td>herbs</td><td>candy</td><td>null</td><td>null</td></tr><tr><td>frankfurter</td><td>ham</td><td>tropical fruit</td><td>pip fruit</td></tr><tr><td>rolls/buns</td><td>canned beer</td><td>null</td><td>null</td></tr><tr><td>curd</td><td>cream cheese</td><td>semi-finished bread</td><td>zwieback</td></tr><tr><td>frankfurter</td><td>tropical fruit</td><td>whole milk</td><td>spread cheese</td></tr><tr><td>other vegetables</td><td>null</td><td>null</td><td>null</td></tr><tr><td>dog food</td><td>null</td><td>null</td><td>null</td></tr><tr><td>specialty bar</td><td>null</td><td>null</td><td>null</td></tr><tr><td>curd</td><td>salt</td><td>liquor (appetizer)</td><td>detergent</td></tr><tr><td>frankfurter</td><td>rolls/buns</td><td>null</td><td>null</td></tr><tr><td>soda</td><td>null</td><td>null</td><td>null</td></tr><tr><td>beef</td><td>berries</td><td>root vegetables</td><td>whole milk</td></tr><tr><td>canned beer</td><td>null</td><td>null</td><td>null</td></tr><tr><td>pork</td><td>beef</td><td>pip fruit</td><td>herbs</td></tr><tr><td>frankfurter</td><td>citrus fruit</td><td>UHT-milk</td><td>margarine</td></tr><tr><td>sausage</td><td>bottled beer</td><td>liquor (appetizer)</td><td>null</td></tr><tr><td>canned beer</td><td>null</td><td>null</td><td>null</td></tr><tr><td>specialty chocolate</td><td>null</td><td>null</td><td>null</td></tr><tr><td>curd</td><td>rolls/buns</td><td>null</td><td>null</td></tr><tr><td>canned beer</td><td>null</td><td>null</td><td>null</td></tr><tr><td>whole milk</td><td>bottled water</td><td>newspapers</td><td>null</td></tr><tr><td>rolls/buns</td><td>chewing gum</td><td>null</td><td>null</td></tr><tr><td>pork</td><td>root vegetables</td><td>other vegetables</td><td>whole milk</td></tr><tr><td>citrus fruit</td><td>pastry</td><td>null</td><td>null</td></tr><tr><td>pot plants</td><td>null</td><td>null</td><td>null</td></tr><tr><td>rolls/buns</td><td>pastry</td><td>soda</td><td>null</td></tr><tr><td>butter</td><td>yogurt</td><td>bottled water</td><td>soda</td></tr><tr><td>condensed milk</td><td>sugar</td><td>coffee</td><td>shopping bags</td></tr><tr><td>sausage</td><td>other vegetables</td><td>yogurt</td><td>soda</td></tr><tr><td>whole milk</td><td>beverages</td><td>UHT-milk</td><td>soda</td></tr><tr><td>sausage</td><td>pork</td><td>beef</td><td>whole milk</td></tr><tr><td>beverages</td><td>null</td><td>null</td><td>null</td></tr><tr><td>beverages</td><td>specialty bar</td><td>null</td><td>null</td></tr><tr><td>bottled water</td><td>fruit/vegetable juice</td><td>null</td><td>null</td></tr><tr><td>newspapers</td><td>null</td><td>null</td><td>null</td></tr><tr><td>cleaner</td><td>female sanitary products</td><td>null</td><td>null</td></tr><tr><td>sausage</td><td>soda</td><td>newspapers</td><td>shopping bags</td></tr><tr><td>newspapers</td><td>null</td><td>null</td><td>null</td></tr><tr><td>sausage</td><td>beef</td><td>citrus fruit</td><td>other vegetables</td></tr><tr><td>misc. beverages</td><td>newspapers</td><td>null</td><td>null</td></tr><tr><td>white wine</td><td>null</td><td>null</td><td>null</td></tr><tr><td>sausage</td><td>sliced cheese</td><td>rolls/buns</td><td>soda</td></tr><tr><td>meat</td><td>curd</td><td>bottled beer</td><td>cake bar</td></tr><tr><td>frankfurter</td><td>meat</td><td>tropical fruit</td><td>onions</td></tr><tr><td>ice cream</td><td>rolls/buns</td><td>canned beer</td><td>null</td></tr><tr><td>canned beer</td><td>null</td><td>null</td><td>null</td></tr><tr><td>tropical fruit</td><td>berries</td><td>root vegetables</td><td>other vegetables</td></tr><tr><td>meat</td><td>citrus fruit</td><td>other vegetables</td><td>curd</td></tr><tr><td>whole milk</td><td>mustard</td><td>bottled water</td><td>null</td></tr><tr><td>sausage</td><td>beef</td><td>beverages</td><td>sliced cheese</td></tr><tr><td>frankfurter</td><td>sausage</td><td>root vegetables</td><td>butter</td></tr><tr><td>meat</td><td>other vegetables</td><td>butter</td><td>rolls/buns</td></tr><tr><td>root vegetables</td><td>beverages</td><td>Instant food products</td><td>pickled vegetables</td></tr><tr><td>root vegetables</td><td>herbs</td><td>other vegetables</td><td>whole milk</td></tr><tr><td>whole milk</td><td>whipped/sour cream</td><td>semi-finished bread</td><td>margarine</td></tr><tr><td>citrus fruit</td><td>whole milk</td><td>curd</td><td>dessert</td></tr><tr><td>citrus fruit</td><td>curd</td><td>pastry</td><td>margarine</td></tr><tr><td>other vegetables</td><td>whole milk</td><td>bottled water</td><td>soda</td></tr><tr><td>citrus fruit</td><td>whole milk</td><td>rolls/buns</td><td>null</td></tr><tr><td>sausage</td><td>oil</td><td>hygiene articles</td><td>napkins</td></tr><tr><td>frankfurter</td><td>beef</td><td>hamburger meat</td><td>grapes</td></tr><tr><td>hard cheese</td><td>rolls/buns</td><td>bottled water</td><td>newspapers</td></tr><tr><td>cream cheese</td><td>rolls/buns</td><td>soda</td><td>chocolate</td></tr><tr><td>turkey</td><td>beef</td><td>frozen vegetables</td><td>dishes</td></tr><tr><td>pork</td><td>other vegetables</td><td>whipped/sour cream</td><td>rolls/buns</td></tr><tr><td>whole milk</td><td>beverages</td><td>null</td><td>null</td></tr><tr><td>rolls/buns</td><td>soda</td><td>null</td><td>null</td></tr><tr><td>sausage</td><td>pip fruit</td><td>whole milk</td><td>curd</td></tr><tr><td>ice cream</td><td>null</td><td>null</td><td>null</td></tr><tr><td>liquor</td><td>null</td><td>null</td><td>null</td></tr><tr><td>pip fruit</td><td>other vegetables</td><td>fruit/vegetable juice</td><td>null</td></tr><tr><td>root vegetables</td><td>other vegetables</td><td>yogurt</td><td>null</td></tr><tr><td>soda</td><td>null</td><td>null</td><td>null</td></tr><tr><td>soda</td><td>null</td><td>null</td><td>null</td></tr><tr><td>sausage</td><td>citrus fruit</td><td>tropical fruit</td><td>other vegetables</td></tr><tr><td>root vegetables</td><td>whole milk</td><td>pet care</td><td>detergent</td></tr><tr><td>pork</td><td>berries</td><td>root vegetables</td><td>other vegetables</td></tr><tr><td>pork</td><td>null</td><td>null</td><td>null</td></tr><tr><td>chocolate</td><td>null</td><td>null</td><td>null</td></tr><tr><td>fruit/vegetable juice</td><td>null</td><td>null</td><td>null</td></tr><tr><td>pickled vegetables</td><td>coffee</td><td>null</td><td>null</td></tr><tr><td>bottled water</td><td>null</td><td>null</td><td>null</td></tr><tr><td>frankfurter</td><td>sausage</td><td>butter</td><td>whipped/sour cream</td></tr><tr><td>tropical fruit</td><td>pip fruit</td><td>onions</td><td>other vegetables</td></tr><tr><td>canned beer</td><td>null</td><td>null</td><td>null</td></tr><tr><td>root vegetables</td><td>null</td><td>null</td><td>null</td></tr><tr><td>meat</td><td>citrus fruit</td><td>berries</td><td>root vegetables</td></tr><tr><td>frankfurter</td><td>rolls/buns</td><td>bottled water</td><td>fruit/vegetable juice</td></tr><tr><td>tropical fruit</td><td>margarine</td><td>rum</td><td>null</td></tr><tr><td>tropical fruit</td><td>root vegetables</td><td>herbs</td><td>whole milk</td></tr><tr><td>citrus fruit</td><td>pip fruit</td><td>root vegetables</td><td>other vegetables</td></tr><tr><td>hamburger meat</td><td>other vegetables</td><td>whole milk</td><td>curd</td></tr><tr><td>chicken</td><td>pip fruit</td><td>other vegetables</td><td>whole milk</td></tr><tr><td>chicken</td><td>citrus fruit</td><td>tropical fruit</td><td>root vegetables</td></tr><tr><td>frankfurter</td><td>citrus fruit</td><td>onions</td><td>other vegetables</td></tr><tr><td>canned beer</td><td>null</td><td>null</td><td>null</td></tr><tr><td>turkey</td><td>pip fruit</td><td>salad dressing</td><td>pastry</td></tr><tr><td>packaged fruit/vegetables</td><td>whole milk</td><td>curd</td><td>yogurt</td></tr><tr><td>pasta</td><td>null</td><td>null</td><td>null</td></tr><tr><td>citrus fruit</td><td>tropical fruit</td><td>null</td><td>null</td></tr><tr><td>sausage</td><td>whole milk</td><td>yogurt</td><td>rolls/buns</td></tr><tr><td>whole milk</td><td>frozen meals</td><td>pastry</td><td>fruit/vegetable juice</td></tr><tr><td>canned beer</td><td>null</td><td>null</td><td>null</td></tr><tr><td>citrus fruit</td><td>sugar</td><td>sauces</td><td>null</td></tr><tr><td>liquor (appetizer)</td><td>null</td><td>null</td><td>null</td></tr><tr><td>citrus fruit</td><td>other vegetables</td><td>rolls/buns</td><td>salty snack</td></tr><tr><td>sausage</td><td>null</td><td>null</td><td>null</td></tr><tr><td>chicken</td><td>other vegetables</td><td>whole milk</td><td>vinegar</td></tr><tr><td>hamburger meat</td><td>root vegetables</td><td>other vegetables</td><td>whole milk</td></tr><tr><td>sausage</td><td>pork</td><td>other vegetables</td><td>dessert</td></tr><tr><td>beef</td><td>berries</td><td>root vegetables</td><td>whole milk</td></tr><tr><td>citrus fruit</td><td>packaged fruit/vegetables</td><td>yogurt</td><td>bottled water</td></tr><tr><td>UHT-milk</td><td>coffee</td><td>null</td><td>null</td></tr><tr><td>candy</td><td>null</td><td>null</td><td>null</td></tr><tr><td>newspapers</td><td>null</td><td>null</td><td>null</td></tr><tr><td>beef</td><td>citrus fruit</td><td>other vegetables</td><td>yogurt</td></tr><tr><td>sausage</td><td>rolls/buns</td><td>null</td><td>null</td></tr><tr><td>frankfurter</td><td>beef</td><td>root vegetables</td><td>curd</td></tr><tr><td>canned beer</td><td>null</td><td>null</td><td>null</td></tr><tr><td>bottled beer</td><td>null</td><td>null</td><td>null</td></tr><tr><td>onions</td><td>soda</td><td>chewing gum</td><td>chocolate</td></tr><tr><td>tropical fruit</td><td>packaged fruit/vegetables</td><td>cream cheese</td><td>white bread</td></tr><tr><td>bottled water</td><td>white wine</td><td>null</td><td>null</td></tr><tr><td>beef</td><td>white bread</td><td>pastry</td><td>pasta</td></tr><tr><td>sausage</td><td>chicken</td><td>tropical fruit</td><td>root vegetables</td></tr><tr><td>hair spray</td><td>null</td><td>null</td><td>null</td></tr><tr><td>chicken</td><td>whole milk</td><td>spices</td><td>long life bakery product</td></tr><tr><td>pork</td><td>citrus fruit</td><td>brown bread</td><td>pastry</td></tr><tr><td>ice cream</td><td>null</td><td>null</td><td>null</td></tr><tr><td>meat</td><td>hard cheese</td><td>bottled beer</td><td>null</td></tr><tr><td>other vegetables</td><td>yogurt</td><td>brown bread</td><td>instant coffee</td></tr><tr><td>bottled water</td><td>cake bar</td><td>null</td><td>null</td></tr><tr><td>tropical fruit</td><td>soda</td><td>salty snack</td><td>null</td></tr><tr><td>photo/film</td><td>null</td><td>null</td><td>null</td></tr><tr><td>sausage</td><td>citrus fruit</td><td>yogurt</td><td>coffee</td></tr><tr><td>grapes</td><td>root vegetables</td><td>null</td><td>null</td></tr><tr><td>domestic eggs</td><td>brown bread</td><td>photo/film</td><td>null</td></tr><tr><td>rolls/buns</td><td>canned fish</td><td>canned beer</td><td>null</td></tr><tr><td>tropical fruit</td><td>whole milk</td><td>null</td><td>null</td></tr><tr><td>chicken</td><td>null</td><td>null</td><td>null</td></tr><tr><td>frankfurter</td><td>other vegetables</td><td>yogurt</td><td>brown bread</td></tr><tr><td>berries</td><td>root vegetables</td><td>other vegetables</td><td>curd</td></tr><tr><td>margarine</td><td>hygiene articles</td><td>null</td><td>null</td></tr><tr><td>tropical fruit</td><td>yogurt</td><td>rolls/buns</td><td>soda</td></tr><tr><td>ham</td><td>other vegetables</td><td>whipped/sour cream</td><td>hard cheese</td></tr><tr><td>hamburger meat</td><td>white bread</td><td>salty snack</td><td>null</td></tr><tr><td>yogurt</td><td>mayonnaise</td><td>rolls/buns</td><td>soda</td></tr><tr><td>soda</td><td>specialty chocolate</td><td>null</td><td>null</td></tr><tr><td>yogurt</td><td>null</td><td>null</td><td>null</td></tr><tr><td>soda</td><td>null</td><td>null</td><td>null</td></tr><tr><td>bottled water</td><td>null</td><td>null</td><td>null</td></tr><tr><td>sausage</td><td>meat</td><td>hamburger meat</td><td>rubbing alcohol</td></tr><tr><td>citrus fruit</td><td>pip fruit</td><td>beverages</td><td>hard cheese</td></tr><tr><td>shopping bags</td><td>null</td><td>null</td><td>null</td></tr><tr><td>newspapers</td><td>null</td><td>null</td><td>null</td></tr><tr><td>frankfurter</td><td>other vegetables</td><td>whole milk</td><td>curd</td></tr><tr><td>sausage</td><td>citrus fruit</td><td>whole milk</td><td>canned beer</td></tr><tr><td>frankfurter</td><td>rolls/buns</td><td>null</td><td>null</td></tr><tr><td>salt</td><td>salty snack</td><td>cookware</td><td>null</td></tr><tr><td>oil</td><td>null</td><td>null</td><td>null</td></tr><tr><td>curd</td><td>beverages</td><td>cream cheese</td><td>rolls/buns</td></tr><tr><td>other vegetables</td><td>butter</td><td>specialty chocolate</td><td>null</td></tr><tr><td>citrus fruit</td><td>null</td><td>null</td><td>null</td></tr><tr><td>frankfurter</td><td>whole milk</td><td>butter milk</td><td>null</td></tr><tr><td>root vegetables</td><td>whole milk</td><td>butter</td><td>processed cheese</td></tr><tr><td>tropical fruit</td><td>whole milk</td><td>frozen meals</td><td>bottled beer</td></tr><tr><td>beef</td><td>hamburger meat</td><td>pip fruit</td><td>null</td></tr><tr><td>berries</td><td>whipped/sour cream</td><td>cereals</td><td>waffles</td></tr><tr><td>canned beer</td><td>null</td><td>null</td><td>null</td></tr><tr><td>whipped/sour cream</td><td>canned beer</td><td>red/blush wine</td><td>null</td></tr><tr><td>root vegetables</td><td>domestic eggs</td><td>margarine</td><td>chocolate marshmallow</td></tr><tr><td>whole milk</td><td>soda</td><td>null</td><td>null</td></tr><tr><td>beef</td><td>null</td><td>null</td><td>null</td></tr><tr><td>frozen vegetables</td><td>null</td><td>null</td><td>null</td></tr><tr><td>rolls/buns</td><td>bottled beer</td><td>null</td><td>null</td></tr><tr><td>whole milk</td><td>hygiene articles</td><td>null</td><td>null</td></tr><tr><td>whole milk</td><td>null</td><td>null</td><td>null</td></tr><tr><td>citrus fruit</td><td>whole milk</td><td>curd</td><td>soft cheese</td></tr><tr><td>pastry</td><td>fruit/vegetable juice</td><td>null</td><td>null</td></tr><tr><td>frankfurter</td><td>sausage</td><td>pork</td><td>pip fruit</td></tr><tr><td>tropical fruit</td><td>root vegetables</td><td>whole milk</td><td>whipped/sour cream</td></tr><tr><td>frankfurter</td><td>sausage</td><td>root vegetables</td><td>yogurt</td></tr><tr><td>berries</td><td>root vegetables</td><td>other vegetables</td><td>packaged fruit/vegetables</td></tr><tr><td>rolls/buns</td><td>brown bread</td><td>pastry</td><td>coffee</td></tr><tr><td>root vegetables</td><td>packaged fruit/vegetables</td><td>curd</td><td>dessert</td></tr><tr><td>yogurt</td><td>null</td><td>null</td><td>null</td></tr><tr><td>other vegetables</td><td>bottled water</td><td>null</td><td>null</td></tr><tr><td>berries</td><td>white bread</td><td>null</td><td>null</td></tr><tr><td>berries</td><td>coffee</td><td>null</td><td>null</td></tr><tr><td>other vegetables</td><td>butter milk</td><td>frozen meals</td><td>bottled water</td></tr><tr><td>rolls/buns</td><td>newspapers</td><td>null</td><td>null</td></tr><tr><td>ham</td><td>citrus fruit</td><td>whole milk</td><td>whipped/sour cream</td></tr><tr><td>whole milk</td><td>frozen dessert</td><td>salty snack</td><td>napkins</td></tr><tr><td>tropical fruit</td><td>butter milk</td><td>rolls/buns</td><td>bottled water</td></tr><tr><td>bottled water</td><td>null</td><td>null</td><td>null</td></tr><tr><td>butter milk</td><td>yogurt</td><td>null</td><td>null</td></tr><tr><td>newspapers</td><td>null</td><td>null</td><td>null</td></tr><tr><td>coffee</td><td>null</td><td>null</td><td>null</td></tr><tr><td>bottled beer</td><td>liquor</td><td>null</td><td>null</td></tr><tr><td>onions</td><td>butter</td><td>whipped/sour cream</td><td>hard cheese</td></tr><tr><td>hamburger meat</td><td>hard cheese</td><td>frozen meals</td><td>pasta</td></tr><tr><td>sausage</td><td>liver loaf</td><td>other vegetables</td><td>cream cheese</td></tr><tr><td>hard cheese</td><td>pastry</td><td>napkins</td><td>null</td></tr><tr><td>sausage</td><td>tropical fruit</td><td>condensed milk</td><td>rolls/buns</td></tr><tr><td>hamburger meat</td><td>null</td><td>null</td><td>null</td></tr><tr><td>onions</td><td>whole milk</td><td>beverages</td><td>frozen dessert</td></tr><tr><td>coffee</td><td>null</td><td>null</td><td>null</td></tr><tr><td>shopping bags</td><td>null</td><td>null</td><td>null</td></tr><tr><td>yogurt</td><td>rolls/buns</td><td>pastry</td><td>bottled water</td></tr><tr><td>soda</td><td>null</td><td>null</td><td>null</td></tr><tr><td>sliced cheese</td><td>null</td><td>null</td><td>null</td></tr><tr><td>sausage</td><td>whole milk</td><td>coffee</td><td>null</td></tr><tr><td>yogurt</td><td>chocolate</td><td>null</td><td>null</td></tr><tr><td>domestic eggs</td><td>rolls/buns</td><td>dish cleaner</td><td>hygiene articles</td></tr><tr><td>whole milk</td><td>null</td><td>null</td><td>null</td></tr><tr><td>meat</td><td>other vegetables</td><td>whole milk</td><td>whipped/sour cream</td></tr><tr><td>dish cleaner</td><td>bathroom cleaner</td><td>hygiene articles</td><td>napkins</td></tr><tr><td>other vegetables</td><td>red/blush wine</td><td>null</td><td>null</td></tr><tr><td>whole milk</td><td>butter milk</td><td>yogurt</td><td>sliced cheese</td></tr><tr><td>other vegetables</td><td>whole milk</td><td>rolls/buns</td><td>Instant food products</td></tr><tr><td>tropical fruit</td><td>other vegetables</td><td>null</td><td>null</td></tr><tr><td>baking powder</td><td>bottled water</td><td>salty snack</td><td>chewing gum</td></tr><tr><td>specialty bar</td><td>null</td><td>null</td><td>null</td></tr><tr><td>ice cream</td><td>null</td><td>null</td><td>null</td></tr><tr><td>frankfurter</td><td>yogurt</td><td>null</td><td>null</td></tr><tr><td>canned beer</td><td>null</td><td>null</td><td>null</td></tr><tr><td>bottled water</td><td>null</td><td>null</td><td>null</td></tr><tr><td>other vegetables</td><td>whole milk</td><td>rolls/buns</td><td>margarine</td></tr><tr><td>citrus fruit</td><td>tropical fruit</td><td>onions</td><td>other vegetables</td></tr><tr><td>sausage</td><td>ham</td><td>hamburger meat</td><td>whole milk</td></tr><tr><td>domestic eggs</td><td>rolls/buns</td><td>specialty bar</td><td>napkins</td></tr><tr><td>pork</td><td>citrus fruit</td><td>tropical fruit</td><td>root vegetables</td></tr><tr><td>specialty cheese</td><td>frozen vegetables</td><td>coffee</td><td>soda</td></tr><tr><td>pork</td><td>citrus fruit</td><td>pip fruit</td><td>yogurt</td></tr><tr><td>beef</td><td>berries</td><td>whipped/sour cream</td><td>domestic eggs</td></tr><tr><td>other vegetables</td><td>pet care</td><td>null</td><td>null</td></tr><tr><td>chicken</td><td>yogurt</td><td>sliced cheese</td><td>rolls/buns</td></tr><tr><td>soda</td><td>chewing gum</td><td>null</td><td>null</td></tr><tr><td>whole milk</td><td>null</td><td>null</td><td>null</td></tr><tr><td>rolls/buns</td><td>null</td><td>null</td><td>null</td></tr><tr><td>bottled beer</td><td>null</td><td>null</td><td>null</td></tr><tr><td>root vegetables</td><td>pastry</td><td>bottled water</td><td>male cosmetics</td></tr><tr><td>pastry</td><td>null</td><td>null</td><td>null</td></tr><tr><td>berries</td><td>pet care</td><td>cake bar</td><td>shopping bags</td></tr><tr><td>citrus fruit</td><td>tropical fruit</td><td>root vegetables</td><td>yogurt</td></tr><tr><td>whole milk</td><td>oil</td><td>canned fruit</td><td>fruit/vegetable juice</td></tr><tr><td>soda</td><td>misc. beverages</td><td>null</td><td>null</td></tr><tr><td>bottled water</td><td>soda</td><td>null</td><td>null</td></tr><tr><td>tropical fruit</td><td>other vegetables</td><td>rolls/buns</td><td>null</td></tr><tr><td>salty snack</td><td>null</td><td>null</td><td>null</td></tr><tr><td>bottled water</td><td>canned beer</td><td>null</td><td>null</td></tr><tr><td>chocolate</td><td>null</td><td>null</td><td>null</td></tr><tr><td>citrus fruit</td><td>UHT-milk</td><td>cream cheese</td><td>frozen vegetables</td></tr><tr><td>bottled water</td><td>canned beer</td><td>male cosmetics</td><td>null</td></tr><tr><td>onions</td><td>other vegetables</td><td>pastry</td><td>bottled water</td></tr><tr><td>dessert</td><td>oil</td><td>cat food</td><td>soda</td></tr><tr><td>beef</td><td>other vegetables</td><td>whole milk</td><td>frozen potato products</td></tr><tr><td>rolls/buns</td><td>zwieback</td><td>bottled water</td><td>misc. beverages</td></tr><tr><td>beef</td><td>tropical fruit</td><td>root vegetables</td><td>onions</td></tr><tr><td>soda</td><td>null</td><td>null</td><td>null</td></tr><tr><td>coffee</td><td>hygiene articles</td><td>null</td><td>null</td></tr><tr><td>rolls/buns</td><td>brown bread</td><td>bottled water</td><td>null</td></tr><tr><td>pork</td><td>beef</td><td>hamburger meat</td><td>other vegetables</td></tr><tr><td>soda</td><td>canned beer</td><td>liquor (appetizer)</td><td>hygiene articles</td></tr><tr><td>sausage</td><td>ham</td><td>other vegetables</td><td>ice cream</td></tr><tr><td>beef</td><td>root vegetables</td><td>other vegetables</td><td>rolls/buns</td></tr><tr><td>whole milk</td><td>butter</td><td>bottled water</td><td>bottled beer</td></tr><tr><td>pork</td><td>ice cream</td><td>hygiene articles</td><td>house keeping products</td></tr><tr><td>berries</td><td>packaged fruit/vegetables</td><td>whole milk</td><td>ice cream</td></tr><tr><td>sausage</td><td>other vegetables</td><td>curd</td><td>yogurt</td></tr><tr><td>bottled water</td><td>misc. beverages</td><td>cling film/bags</td><td>null</td></tr><tr><td>tropical fruit</td><td>other vegetables</td><td>packaged fruit/vegetables</td><td>whole milk</td></tr><tr><td>herbs</td><td>bottled water</td><td>null</td><td>null</td></tr><tr><td>yogurt</td><td>rolls/buns</td><td>null</td><td>null</td></tr><tr><td>Instant food products</td><td>null</td><td>null</td><td>null</td></tr><tr><td>specialty chocolate</td><td>null</td><td>null</td><td>null</td></tr><tr><td>coffee</td><td>null</td><td>null</td><td>null</td></tr><tr><td>bottled beer</td><td>liquor</td><td>null</td><td>null</td></tr><tr><td>beef</td><td>root vegetables</td><td>null</td><td>null</td></tr><tr><td>whole milk</td><td>honey</td><td>waffles</td><td>null</td></tr><tr><td>frankfurter</td><td>rolls/buns</td><td>pastry</td><td>snack products</td></tr><tr><td>frankfurter</td><td>sausage</td><td>liver loaf</td><td>root vegetables</td></tr><tr><td>other vegetables</td><td>whole milk</td><td>cream cheese </td><td>null</td></tr><tr><td>frankfurter</td><td>root vegetables</td><td>pickled vegetables</td><td>soda</td></tr><tr><td>whole milk</td><td>rolls/buns</td><td>newspapers</td><td>null</td></tr><tr><td>frankfurter</td><td>margarine</td><td>dental care</td><td>null</td></tr><tr><td>other vegetables</td><td>salty snack</td><td>null</td><td>null</td></tr><tr><td>bottled water</td><td>shopping bags</td><td>null</td><td>null</td></tr><tr><td>pork</td><td>onions</td><td>whole milk</td><td>butter</td></tr><tr><td>bottled water</td><td>null</td><td>null</td><td>null</td></tr><tr><td>other vegetables</td><td>whipped/sour cream</td><td>specialty cheese</td><td>domestic eggs</td></tr><tr><td>hamburger meat</td><td>whole milk</td><td>curd</td><td>pasta</td></tr><tr><td>hamburger meat</td><td>citrus fruit</td><td>other vegetables</td><td>null</td></tr><tr><td>shopping bags</td><td>null</td><td>null</td><td>null</td></tr><tr><td>whole milk</td><td>cream cheese</td><td>soda</td><td>fruit/vegetable juice</td></tr><tr><td>ice cream</td><td>null</td><td>null</td><td>null</td></tr><tr><td>pastry</td><td>bottled water</td><td>null</td><td>null</td></tr><tr><td>ham</td><td>pip fruit</td><td>whole milk</td><td>curd</td></tr><tr><td>frankfurter</td><td>soda</td><td>null</td><td>null</td></tr><tr><td>sausage</td><td>turkey</td><td>beef</td><td>root vegetables</td></tr><tr><td>bottled beer</td><td>null</td><td>null</td><td>null</td></tr><tr><td>bottled water</td><td>bottled beer</td><td>napkins</td><td>null</td></tr><tr><td>meat</td><td>other vegetables</td><td>hard cheese</td><td>frozen meals</td></tr><tr><td>dessert</td><td>candy</td><td>null</td><td>null</td></tr><tr><td>other vegetables</td><td>packaged fruit/vegetables</td><td>UHT-milk</td><td>bottled water</td></tr><tr><td>beverages</td><td>rolls/buns</td><td>soda</td><td>null</td></tr><tr><td>ham</td><td>mustard</td><td>canned fish</td><td>null</td></tr><tr><td>specialty bar</td><td>null</td><td>null</td><td>null</td></tr><tr><td>brown bread</td><td>soda</td><td>salty snack</td><td>shopping bags</td></tr><tr><td>whole milk</td><td>cream cheese</td><td>coffee</td><td>null</td></tr><tr><td>rolls/buns</td><td>pastry</td><td>red/blush wine</td><td>null</td></tr><tr><td>bottled beer</td><td>nut snack</td><td>null</td><td>null</td></tr><tr><td>pet care</td><td>bottled beer</td><td>null</td><td>null</td></tr><tr><td>citrus fruit</td><td>other vegetables</td><td>soda</td><td>null</td></tr><tr><td>pork</td><td>other vegetables</td><td>frozen vegetables</td><td>hygiene articles</td></tr><tr><td>other vegetables</td><td>shopping bags</td><td>null</td><td>null</td></tr><tr><td>white wine</td><td>detergent</td><td>null</td><td>null</td></tr><tr><td>whole milk</td><td>dessert</td><td>bottled water</td><td>null</td></tr><tr><td>pip fruit</td><td>white wine</td><td>shopping bags</td><td>null</td></tr><tr><td>sugar</td><td>soda</td><td>bottled beer</td><td>null</td></tr><tr><td>tropical fruit</td><td>pip fruit</td><td>rolls/buns</td><td>coffee</td></tr><tr><td>root vegetables</td><td>cream cheese</td><td>spread cheese</td><td>frozen dessert</td></tr><tr><td>soda</td><td>misc. beverages</td><td>null</td><td>null</td></tr><tr><td>whole milk</td><td>curd</td><td>null</td><td>null</td></tr><tr><td>tropical fruit</td><td>other vegetables</td><td>yogurt</td><td>bottled water</td></tr><tr><td>white bread</td><td>brown bread</td><td>null</td><td>null</td></tr><tr><td>brown bread</td><td>sugar</td><td>hygiene articles</td><td>null</td></tr><tr><td>tropical fruit</td><td>root vegetables</td><td>coffee</td><td>bottled water</td></tr><tr><td>domestic eggs</td><td>null</td><td>null</td><td>null</td></tr><tr><td>coffee</td><td>detergent</td><td>hygiene articles</td><td>photo/film</td></tr><tr><td>soda</td><td>null</td><td>null</td><td>null</td></tr><tr><td>whole milk</td><td>null</td><td>null</td><td>null</td></tr><tr><td>bottled beer</td><td>null</td><td>null</td><td>null</td></tr><tr><td>pork</td><td>beef</td><td>berries</td><td>packaged fruit/vegetables</td></tr><tr><td>other vegetables</td><td>yogurt</td><td>null</td><td>null</td></tr><tr><td>yogurt</td><td>bottled water</td><td>dishes</td><td>null</td></tr><tr><td>sparkling wine</td><td>null</td><td>null</td><td>null</td></tr><tr><td>bottled water</td><td>candy</td><td>null</td><td>null</td></tr><tr><td>citrus fruit</td><td>berries</td><td>other vegetables</td><td>butter milk</td></tr><tr><td>hamburger meat</td><td>root vegetables</td><td>other vegetables</td><td>whole milk</td></tr><tr><td>packaged fruit/vegetables</td><td>seasonal products</td><td>null</td><td>null</td></tr><tr><td>other vegetables</td><td>margarine</td><td>null</td><td>null</td></tr><tr><td>soda</td><td>null</td><td>null</td><td>null</td></tr><tr><td>whole milk</td><td>yogurt</td><td>frozen potato products</td><td>margarine</td></tr><tr><td>herbs</td><td>yogurt</td><td>null</td><td>null</td></tr><tr><td>citrus fruit</td><td>spread cheese</td><td>rolls/buns</td><td>soda</td></tr><tr><td>misc. beverages</td><td>null</td><td>null</td><td>null</td></tr><tr><td>female sanitary products</td><td>null</td><td>null</td><td>null</td></tr><tr><td>soda</td><td>null</td><td>null</td><td>null</td></tr><tr><td>tropical fruit</td><td>whole milk</td><td>beverages</td><td>white bread</td></tr><tr><td>soda</td><td>female sanitary products</td><td>null</td><td>null</td></tr><tr><td>white bread</td><td>bottled water</td><td>soda</td><td>waffles</td></tr><tr><td>coffee</td><td>chewing gum</td><td>chocolate marshmallow</td><td>null</td></tr><tr><td>tropical fruit</td><td>root vegetables</td><td>whole milk</td><td>frozen vegetables</td></tr><tr><td>pork</td><td>pip fruit</td><td>whole milk</td><td>butter milk</td></tr><tr><td>citrus fruit</td><td>bottled water</td><td>null</td><td>null</td></tr><tr><td>frankfurter</td><td>null</td><td>null</td><td>null</td></tr><tr><td>frankfurter</td><td>rolls/buns</td><td>null</td><td>null</td></tr><tr><td>frankfurter</td><td>tropical fruit</td><td>pip fruit</td><td>curd</td></tr><tr><td>other vegetables</td><td>null</td><td>null</td><td>null</td></tr><tr><td>yogurt</td><td>fruit/vegetable juice</td><td>newspapers</td><td>null</td></tr><tr><td>sausage</td><td>whole milk</td><td>yogurt</td><td>brown bread</td></tr><tr><td>whole milk</td><td>null</td><td>null</td><td>null</td></tr><tr><td>pip fruit</td><td>whole milk</td><td>curd</td><td>pastry</td></tr><tr><td>whole milk</td><td>null</td><td>null</td><td>null</td></tr><tr><td>root vegetables</td><td>other vegetables</td><td>null</td><td>null</td></tr><tr><td>onions</td><td>fruit/vegetable juice</td><td>null</td><td>null</td></tr><tr><td>specialty chocolate</td><td>null</td><td>null</td><td>null</td></tr><tr><td>hamburger meat</td><td>domestic eggs</td><td>null</td><td>null</td></tr><tr><td>photo/film</td><td>null</td><td>null</td><td>null</td></tr><tr><td>rolls/buns</td><td>soda</td><td>snack products</td><td>newspapers</td></tr><tr><td>canned beer</td><td>null</td><td>null</td><td>null</td></tr><tr><td>canned beer</td><td>null</td><td>null</td><td>null</td></tr><tr><td>other vegetables</td><td>curd</td><td>frozen meals</td><td>frozen potato products</td></tr><tr><td>canned beer</td><td>null</td><td>null</td><td>null</td></tr><tr><td>curd</td><td>whipped/sour cream</td><td>rolls/buns</td><td>zwieback</td></tr><tr><td>butter</td><td>fruit/vegetable juice</td><td>newspapers</td><td>null</td></tr><tr><td>other vegetables</td><td>whole milk</td><td>yogurt</td><td>domestic eggs</td></tr><tr><td>whole milk</td><td>null</td><td>null</td><td>null</td></tr><tr><td>beef</td><td>tropical fruit</td><td>herbs</td><td>whole milk</td></tr><tr><td>sausage</td><td>rolls/buns</td><td>null</td><td>null</td></tr><tr><td>soda</td><td>null</td><td>null</td><td>null</td></tr><tr><td>fruit/vegetable juice</td><td>long life bakery product</td><td>null</td><td>null</td></tr><tr><td>rolls/buns</td><td>coffee</td><td>long life bakery product</td><td>detergent</td></tr><tr><td>pip fruit</td><td>whole milk</td><td>bottled water</td><td>candy</td></tr><tr><td>frozen vegetables</td><td>bottled beer</td><td>liquor (appetizer)</td><td>chewing gum</td></tr><tr><td>beverages</td><td>null</td><td>null</td><td>null</td></tr><tr><td>hamburger meat</td><td>root vegetables</td><td>other vegetables</td><td>domestic eggs</td></tr><tr><td>root vegetables</td><td>other vegetables</td><td>whole milk</td><td>yogurt</td></tr><tr><td>canned beer</td><td>null</td><td>null</td><td>null</td></tr><tr><td>frozen vegetables</td><td>bottled beer</td><td>null</td><td>null</td></tr><tr><td>canned beer</td><td>null</td><td>null</td><td>null</td></tr><tr><td>newspapers</td><td>null</td><td>null</td><td>null</td></tr><tr><td>rolls/buns</td><td>null</td><td>null</td><td>null</td></tr><tr><td>hamburger meat</td><td>UHT-milk</td><td>salty snack</td><td>null</td></tr><tr><td>pip fruit</td><td>whole milk</td><td>curd</td><td>rum</td></tr><tr><td>canned beer</td><td>null</td><td>null</td><td>null</td></tr><tr><td>grapes</td><td>root vegetables</td><td>frozen vegetables</td><td>domestic eggs</td></tr><tr><td>root vegetables</td><td>packaged fruit/vegetables</td><td>butter</td><td>whipped/sour cream</td></tr><tr><td>citrus fruit</td><td>frozen vegetables</td><td>rolls/buns</td><td>canned beer</td></tr><tr><td>cling film/bags</td><td>pot plants</td><td>null</td><td>null</td></tr><tr><td>frankfurter</td><td>whole milk</td><td>rolls/buns</td><td>margarine</td></tr><tr><td>whole milk</td><td>red/blush wine</td><td>null</td><td>null</td></tr><tr><td>pork</td><td>tropical fruit</td><td>whole milk</td><td>curd</td></tr><tr><td>chicken</td><td>pastry</td><td>null</td><td>null</td></tr><tr><td>sausage</td><td>dish cleaner</td><td>dishes</td><td>null</td></tr><tr><td>specialty bar</td><td>null</td><td>null</td><td>null</td></tr><tr><td>whipped/sour cream</td><td>pastry</td><td>specialty bar</td><td>null</td></tr><tr><td>root vegetables</td><td>brown bread</td><td>null</td><td>null</td></tr><tr><td>rolls/buns</td><td>soda</td><td>null</td><td>null</td></tr><tr><td>other vegetables</td><td>bottled beer</td><td>red/blush wine</td><td>null</td></tr><tr><td>citrus fruit</td><td>tropical fruit</td><td>berries</td><td>root vegetables</td></tr><tr><td>whole milk</td><td>processed cheese</td><td>brown bread</td><td>pastry</td></tr><tr><td>frankfurter</td><td>sausage</td><td>tropical fruit</td><td>root vegetables</td></tr><tr><td>coffee</td><td>long life bakery product</td><td>null</td><td>null</td></tr><tr><td>ham</td><td>rolls/buns</td><td>white wine</td><td>null</td></tr><tr><td>canned beer</td><td>null</td><td>null</td><td>null</td></tr><tr><td>canned beer</td><td>null</td><td>null</td><td>null</td></tr><tr><td>canned beer</td><td>null</td><td>null</td><td>null</td></tr><tr><td>pip fruit</td><td>whole milk</td><td>canned fish</td><td>null</td></tr><tr><td>pork</td><td>pip fruit</td><td>other vegetables</td><td>whole milk</td></tr><tr><td>soap</td><td>null</td><td>null</td><td>null</td></tr><tr><td>pip fruit</td><td>butter</td><td>frozen meals</td><td>pasta</td></tr><tr><td>beef</td><td>hamburger meat</td><td>citrus fruit</td><td>whole milk</td></tr><tr><td>sausage</td><td>meat</td><td>other vegetables</td><td>whole milk</td></tr><tr><td>frozen chicken</td><td>null</td><td>null</td><td>null</td></tr><tr><td>soda</td><td>null</td><td>null</td><td>null</td></tr><tr><td>tropical fruit</td><td>curd</td><td>yogurt</td><td>rolls/buns</td></tr><tr><td>other vegetables</td><td>null</td><td>null</td><td>null</td></tr><tr><td>beef</td><td>citrus fruit</td><td>curd</td><td>rolls/buns</td></tr><tr><td>meat</td><td>pork</td><td>beef</td><td>citrus fruit</td></tr><tr><td>meat</td><td>hamburger meat</td><td>root vegetables</td><td>packaged fruit/vegetables</td></tr><tr><td>bottled water</td><td>soda</td><td>red/blush wine</td><td>long life bakery product</td></tr><tr><td>rolls/buns</td><td>null</td><td>null</td><td>null</td></tr><tr><td>pastry</td><td>canned beer</td><td>null</td><td>null</td></tr><tr><td>pork</td><td>whole milk</td><td>pastry</td><td>sauces</td></tr><tr><td>pip fruit</td><td>sliced cheese</td><td>pastry</td><td>white wine</td></tr><tr><td>beef</td><td>citrus fruit</td><td>tropical fruit</td><td>yogurt</td></tr><tr><td>beef</td><td>citrus fruit</td><td>berries</td><td>brown bread</td></tr><tr><td>rolls/buns</td><td>spices</td><td>null</td><td>null</td></tr><tr><td>citrus fruit</td><td>tropical fruit</td><td>herbs</td><td>whole milk</td></tr><tr><td>meat</td><td>beef</td><td>herbs</td><td>whole milk</td></tr><tr><td>beverages</td><td>pastry</td><td>bottled water</td><td>null</td></tr><tr><td>beef</td><td>citrus fruit</td><td>other vegetables</td><td>rolls/buns</td></tr><tr><td>ham</td><td>whole milk</td><td>white bread</td><td>margarine</td></tr><tr><td>hamburger meat</td><td>whole milk</td><td>oil</td><td>ketchup</td></tr><tr><td>beef</td><td>citrus fruit</td><td>other vegetables</td><td>butter milk</td></tr><tr><td>beef</td><td>citrus fruit</td><td>whole milk</td><td>domestic eggs</td></tr><tr><td>root vegetables</td><td>whole milk</td><td>detergent</td><td>null</td></tr><tr><td>citrus fruit</td><td>tropical fruit</td><td>grapes</td><td>other vegetables</td></tr><tr><td>yogurt</td><td>bottled water</td><td>null</td><td>null</td></tr><tr><td>tropical fruit</td><td>root vegetables</td><td>other vegetables</td><td>whipped/sour cream</td></tr><tr><td>frankfurter</td><td>root vegetables</td><td>newspapers</td><td>null</td></tr><tr><td>beef</td><td>other vegetables</td><td>whole milk</td><td>brown bread</td></tr><tr><td>shopping bags</td><td>null</td><td>null</td><td>null</td></tr><tr><td>canned beer</td><td>null</td><td>null</td><td>null</td></tr><tr><td>rolls/buns</td><td>canned beer</td><td>null</td><td>null</td></tr><tr><td>other vegetables</td><td>rolls/buns</td><td>meat spreads</td><td>bottled water</td></tr><tr><td>hamburger meat</td><td>other vegetables</td><td>yogurt</td><td>rolls/buns</td></tr><tr><td>hamburger meat</td><td>citrus fruit</td><td>root vegetables</td><td>rolls/buns</td></tr><tr><td>frankfurter</td><td>sausage</td><td>domestic eggs</td><td>soda</td></tr><tr><td>bottled beer</td><td>null</td><td>null</td><td>null</td></tr><tr><td>tropical fruit</td><td>domestic eggs</td><td>rolls/buns</td><td>pastry</td></tr><tr><td>soda</td><td>null</td><td>null</td><td>null</td></tr><tr><td>frankfurter</td><td>root vegetables</td><td>onions</td><td>other vegetables</td></tr><tr><td>chicken</td><td>hamburger meat</td><td>herbs</td><td>whipped/sour cream</td></tr><tr><td>coffee</td><td>soda</td><td>null</td><td>null</td></tr><tr><td>whole milk</td><td>null</td><td>null</td><td>null</td></tr><tr><td>margarine</td><td>null</td><td>null</td><td>null</td></tr><tr><td>tropical fruit</td><td>other vegetables</td><td>null</td><td>null</td></tr><tr><td>meat</td><td>other vegetables</td><td>null</td><td>null</td></tr><tr><td>cream cheese</td><td>bottled water</td><td>canned beer</td><td>null</td></tr><tr><td>newspapers</td><td>null</td><td>null</td><td>null</td></tr><tr><td>rolls/buns</td><td>pastry</td><td>newspapers</td><td>null</td></tr><tr><td>citrus fruit</td><td>other vegetables</td><td>whole milk</td><td>curd</td></tr><tr><td>whole milk</td><td>rolls/buns</td><td>detergent</td><td>null</td></tr><tr><td>frankfurter</td><td>citrus fruit</td><td>butter milk</td><td>UHT-milk</td></tr><tr><td>ham</td><td>other vegetables</td><td>butter</td><td>whipped/sour cream</td></tr><tr><td>frankfurter</td><td>citrus fruit</td><td>bottled beer</td><td>salty snack</td></tr><tr><td>sausage</td><td>onions</td><td>curd</td><td>yogurt</td></tr><tr><td>domestic eggs</td><td>null</td><td>null</td><td>null</td></tr><tr><td>whole milk</td><td>domestic eggs</td><td>rolls/buns</td><td>soda</td></tr><tr><td>rolls/buns</td><td>bottled beer</td><td>newspapers</td><td>null</td></tr><tr><td>whole milk</td><td>hard cheese</td><td>chocolate marshmallow</td><td>null</td></tr><tr><td>sausage</td><td>root vegetables</td><td>other vegetables</td><td>rolls/buns</td></tr><tr><td>curd</td><td>butter milk</td><td>yogurt</td><td>beverages</td></tr><tr><td>bottled water</td><td>null</td><td>null</td><td>null</td></tr><tr><td>beef</td><td>null</td><td>null</td><td>null</td></tr><tr><td>frankfurter</td><td>hamburger meat</td><td>whole milk</td><td>rolls/buns</td></tr><tr><td>chicken</td><td>butter</td><td>newspapers</td><td>null</td></tr><tr><td>sausage</td><td>meat</td><td>tropical fruit</td><td>pip fruit</td></tr><tr><td>pork</td><td>whole milk</td><td>whipped/sour cream</td><td>beverages</td></tr><tr><td>yogurt</td><td>pastry</td><td>coffee</td><td>null</td></tr><tr><td>whole milk</td><td>sliced cheese</td><td>margarine</td><td>cat food</td></tr><tr><td>frankfurter</td><td>ham</td><td>whole milk</td><td>yogurt</td></tr><tr><td>beef</td><td>whole milk</td><td>brown bread</td><td>specialty chocolate</td></tr><tr><td>pip fruit</td><td>other vegetables</td><td>butter milk</td><td>cream cheese</td></tr><tr><td>sausage</td><td>whole milk</td><td>rolls/buns</td><td>coffee</td></tr><tr><td>pastry</td><td>coffee</td><td>null</td><td>null</td></tr><tr><td>chicken</td><td>beef</td><td>specialty chocolate</td><td>null</td></tr><tr><td>root vegetables</td><td>other vegetables</td><td>whole milk</td><td>sliced cheese</td></tr><tr><td>whole milk</td><td>frozen meals</td><td>rolls/buns</td><td>null</td></tr><tr><td>detergent</td><td>null</td><td>null</td><td>null</td></tr><tr><td>rolls/buns</td><td>canned fish</td><td>null</td><td>null</td></tr><tr><td>house keeping products</td><td>null</td><td>null</td><td>null</td></tr><tr><td>yogurt</td><td>salt</td><td>jam</td><td>sparkling wine</td></tr><tr><td>tropical fruit</td><td>curd</td><td>sliced cheese</td><td>rolls/buns</td></tr><tr><td>tropical fruit</td><td>null</td><td>null</td><td>null</td></tr><tr><td>curd</td><td>UHT-milk</td><td>artif. sweetener</td><td>dental care</td></tr><tr><td>beef</td><td>berries</td><td>onions</td><td>rolls/buns</td></tr><tr><td>whole milk</td><td>brown bread</td><td>pasta</td><td>margarine</td></tr><tr><td>pork</td><td>UHT-milk</td><td>bottled water</td><td>soda</td></tr><tr><td>other vegetables</td><td>curd</td><td>yogurt</td><td>curd cheese</td></tr><tr><td>rolls/buns</td><td>soda</td><td>fruit/vegetable juice</td><td>canned beer</td></tr><tr><td>frankfurter</td><td>pip fruit</td><td>whole milk</td><td>rolls/buns</td></tr><tr><td>yogurt</td><td>hygiene articles</td><td>newspapers</td><td>shopping bags</td></tr><tr><td>whole milk</td><td>curd</td><td>sliced cheese</td><td>cat food</td></tr><tr><td>bottled water</td><td>candy</td><td>null</td><td>null</td></tr><tr><td>frankfurter</td><td>beef</td><td>butter</td><td>null</td></tr><tr><td>rolls/buns</td><td>soda</td><td>snack products</td><td>shopping bags</td></tr><tr><td>whole milk</td><td>pastry</td><td>bottled water</td><td>hygiene articles</td></tr><tr><td>rolls/buns</td><td>null</td><td>null</td><td>null</td></tr><tr><td>chicken</td><td>onions</td><td>other vegetables</td><td>whole milk</td></tr><tr><td>tropical fruit</td><td>onions</td><td>whole milk</td><td>butter</td></tr><tr><td>sausage</td><td>turkey</td><td>other vegetables</td><td>yogurt</td></tr><tr><td>sausage</td><td>other vegetables</td><td>whole milk</td><td>curd</td></tr><tr><td>frankfurter</td><td>citrus fruit</td><td>pastry</td><td>margarine</td></tr><tr><td>UHT-milk</td><td>frozen dessert</td><td>fruit/vegetable juice</td><td>decalcifier</td></tr><tr><td>rolls/buns</td><td>newspapers</td><td>null</td><td>null</td></tr><tr><td>canned beer</td><td>null</td><td>null</td><td>null</td></tr><tr><td>yogurt</td><td>specialty bar</td><td>null</td><td>null</td></tr><tr><td>whipped/sour cream</td><td>specialty bar</td><td>null</td><td>null</td></tr><tr><td>rolls/buns</td><td>canned beer</td><td>null</td><td>null</td></tr><tr><td>rolls/buns</td><td>null</td><td>null</td><td>null</td></tr><tr><td>beverages</td><td>rolls/buns</td><td>null</td><td>null</td></tr><tr><td>rolls/buns</td><td>null</td><td>null</td><td>null</td></tr><tr><td>rolls/buns</td><td>shopping bags</td><td>null</td><td>null</td></tr><tr><td>bottled beer</td><td>null</td><td>null</td><td>null</td></tr><tr><td>citrus fruit</td><td>curd</td><td>yogurt</td><td>sliced cheese</td></tr><tr><td>bottled water</td><td>soda</td><td>null</td><td>null</td></tr><tr><td>pastry</td><td>null</td><td>null</td><td>null</td></tr><tr><td>domestic eggs</td><td>rolls/buns</td><td>pastry</td><td>coffee</td></tr><tr><td>beef</td><td>pip fruit</td><td>root vegetables</td><td>rolls/buns</td></tr><tr><td>spread cheese</td><td>rolls/buns</td><td>bottled water</td><td>newspapers</td></tr><tr><td>tropical fruit</td><td>spread cheese</td><td>rolls/buns</td><td>soda</td></tr><tr><td>packaged fruit/vegetables</td><td>canned beer</td><td>candles</td><td>null</td></tr><tr><td>whole milk</td><td>yogurt</td><td>bottled beer</td><td>white wine</td></tr><tr><td>meat</td><td>beef</td><td>other vegetables</td><td>whole milk</td></tr><tr><td>onions</td><td>whole milk</td><td>bottled beer</td><td>liquor (appetizer)</td></tr><tr><td>frankfurter</td><td>grapes</td><td>other vegetables</td><td>butter milk</td></tr><tr><td>beef</td><td>rolls/buns</td><td>bottled beer</td><td>null</td></tr><tr><td>beef</td><td>null</td><td>null</td><td>null</td></tr><tr><td>sausage</td><td>bottled beer</td><td>liquor (appetizer)</td><td>null</td></tr><tr><td>chicken</td><td>onions</td><td>herbs</td><td>hygiene articles</td></tr><tr><td>canned beer</td><td>null</td><td>null</td><td>null</td></tr><tr><td>sausage</td><td>root vegetables</td><td>other vegetables</td><td>whole milk</td></tr><tr><td>tropical fruit</td><td>whole milk</td><td>curd</td><td>yogurt</td></tr><tr><td>frankfurter</td><td>rolls/buns</td><td>soda</td><td>abrasive cleaner</td></tr><tr><td>sausage</td><td>tropical fruit</td><td>semi-finished bread</td><td>null</td></tr><tr><td>beef</td><td>tropical fruit</td><td>root vegetables</td><td>yogurt</td></tr><tr><td>tropical fruit</td><td>pastry</td><td>flour</td><td>rum</td></tr><tr><td>yogurt</td><td>null</td><td>null</td><td>null</td></tr><tr><td>frankfurter</td><td>rolls/buns</td><td>mustard</td><td>null</td></tr><tr><td>bottled beer</td><td>null</td><td>null</td><td>null</td></tr><tr><td>grapes</td><td>soda</td><td>null</td><td>null</td></tr><tr><td>beverages</td><td>rolls/buns</td><td>null</td><td>null</td></tr><tr><td>curd</td><td>bottled beer</td><td>pot plants</td><td>null</td></tr><tr><td>ice cream</td><td>sugar</td><td>flower (seeds)</td><td>null</td></tr><tr><td>sausage</td><td>rolls/buns</td><td>soda</td><td>canned beer</td></tr><tr><td>other vegetables</td><td>null</td><td>null</td><td>null</td></tr><tr><td>dessert</td><td>beverages</td><td>bottled water</td><td>null</td></tr><tr><td>decalcifier</td><td>null</td><td>null</td><td>null</td></tr><tr><td>canned beer</td><td>null</td><td>null</td><td>null</td></tr><tr><td>coffee</td><td>null</td><td>null</td><td>null</td></tr><tr><td>berries</td><td>other vegetables</td><td>whole milk</td><td>whipped/sour cream</td></tr><tr><td>pork</td><td>tropical fruit</td><td>rolls/buns</td><td>semi-finished bread</td></tr><tr><td>frankfurter</td><td>chicken</td><td>pork</td><td>citrus fruit</td></tr><tr><td>pork</td><td>beef</td><td>whole milk</td><td>domestic eggs</td></tr><tr><td>frankfurter</td><td>pork</td><td>citrus fruit</td><td>root vegetables</td></tr><tr><td>frozen dessert</td><td>brandy</td><td>null</td><td>null</td></tr><tr><td>chicken</td><td>other vegetables</td><td>packaged fruit/vegetables</td><td>condensed milk</td></tr><tr><td>vinegar</td><td>oil</td><td>null</td><td>null</td></tr><tr><td>rolls/buns</td><td>soda</td><td>specialty bar</td><td>null</td></tr><tr><td>whole milk</td><td>null</td><td>null</td><td>null</td></tr><tr><td>pork</td><td>root vegetables</td><td>whole milk</td><td>whipped/sour cream</td></tr><tr><td>rolls/buns</td><td>newspapers</td><td>null</td><td>null</td></tr><tr><td>grapes</td><td>other vegetables</td><td>zwieback</td><td>Instant food products</td></tr><tr><td>frankfurter</td><td>citrus fruit</td><td>whipped/sour cream</td><td>cream cheese</td></tr><tr><td>finished products</td><td>root vegetables</td><td>packaged fruit/vegetables</td><td>yogurt</td></tr><tr><td>onions</td><td>other vegetables</td><td>flour</td><td>null</td></tr><tr><td>tropical fruit</td><td>whole milk</td><td>rolls/buns</td><td>null</td></tr><tr><td>other vegetables</td><td>cream cheese</td><td>tea</td><td>chocolate</td></tr><tr><td>ham</td><td>turkey</td><td>beef</td><td>other vegetables</td></tr><tr><td>other vegetables</td><td>whole milk</td><td>margarine</td><td>bottled beer</td></tr><tr><td>curd</td><td>null</td><td>null</td><td>null</td></tr><tr><td>sausage</td><td>beef</td><td>other vegetables</td><td>null</td></tr><tr><td>canned beer</td><td>liquor (appetizer)</td><td>chewing gum</td><td>null</td></tr><tr><td>ham</td><td>chicken</td><td>citrus fruit</td><td>berries</td></tr><tr><td>packaged fruit/vegetables</td><td>whole milk</td><td>dessert</td><td>yogurt</td></tr><tr><td>meat</td><td>rolls/buns</td><td>soda</td><td>specialty bar</td></tr><tr><td>whole milk</td><td>dessert</td><td>null</td><td>null</td></tr><tr><td>canned beer</td><td>null</td><td>null</td><td>null</td></tr><tr><td>chicken</td><td>UHT-milk</td><td>rolls/buns</td><td>coffee</td></tr><tr><td>rolls/buns</td><td>red/blush wine</td><td>newspapers</td><td>null</td></tr><tr><td>pet care</td><td>bottled water</td><td>null</td><td>null</td></tr><tr><td>root vegetables</td><td>other vegetables</td><td>soda</td><td>shopping bags</td></tr><tr><td>pastry</td><td>null</td><td>null</td><td>null</td></tr><tr><td>frankfurter</td><td>hamburger meat</td><td>whole milk</td><td>domestic eggs</td></tr><tr><td>chicken</td><td>grapes</td><td>whole milk</td><td>whipped/sour cream</td></tr><tr><td>frozen dessert</td><td>semi-finished bread</td><td>null</td><td>null</td></tr><tr><td>citrus fruit</td><td>tropical fruit</td><td>grapes</td><td>yogurt</td></tr><tr><td>sausage</td><td>pork</td><td>beef</td><td>berries</td></tr><tr><td>root vegetables</td><td>onions</td><td>other vegetables</td><td>packaged fruit/vegetables</td></tr><tr><td>root vegetables</td><td>whole milk</td><td>yogurt</td><td>rolls/buns</td></tr><tr><td>bottled beer</td><td>null</td><td>null</td><td>null</td></tr><tr><td>frankfurter</td><td>canned beer</td><td>null</td><td>null</td></tr><tr><td>root vegetables</td><td>whole milk</td><td>butter</td><td>coffee</td></tr><tr><td>berries</td><td>other vegetables</td><td>whipped/sour cream</td><td>UHT-milk</td></tr><tr><td>hamburger meat</td><td>null</td><td>null</td><td>null</td></tr><tr><td>tropical fruit</td><td>whole milk</td><td>rolls/buns</td><td>semi-finished bread</td></tr><tr><td>frankfurter</td><td>pork</td><td>beverages</td><td>frozen meals</td></tr><tr><td>frankfurter</td><td>sausage</td><td>frozen fish</td><td>margarine</td></tr><tr><td>soda</td><td>newspapers</td><td>null</td><td>null</td></tr><tr><td>ice cream</td><td>null</td><td>null</td><td>null</td></tr><tr><td>beef</td><td>whole milk</td><td>frozen vegetables</td><td>brown bread</td></tr><tr><td>whole milk</td><td>pastry</td><td>bottled water</td><td>newspapers</td></tr><tr><td>pork</td><td>fish</td><td>whole milk</td><td>butter</td></tr><tr><td>whole milk</td><td>chewing gum</td><td>null</td><td>null</td></tr><tr><td>bottled beer</td><td>null</td><td>null</td><td>null</td></tr><tr><td>pork</td><td>grapes</td><td>UHT-milk</td><td>brown bread</td></tr><tr><td>root vegetables</td><td>pot plants</td><td>null</td><td>null</td></tr><tr><td>canned beer</td><td>null</td><td>null</td><td>null</td></tr><tr><td>citrus fruit</td><td>root vegetables</td><td>whole milk</td><td>butter</td></tr><tr><td>pip fruit</td><td>herbs</td><td>other vegetables</td><td>whole milk</td></tr><tr><td>root vegetables</td><td>dessert</td><td>yogurt</td><td>cream cheese</td></tr><tr><td>tropical fruit</td><td>curd</td><td>rolls/buns</td><td>organic products</td></tr><tr><td>beef</td><td>root vegetables</td><td>other vegetables</td><td>whole milk</td></tr><tr><td>chicken</td><td>pork</td><td>whole milk</td><td>butter</td></tr><tr><td>citrus fruit</td><td>grapes</td><td>whole milk</td><td>rolls/buns</td></tr><tr><td>meat</td><td>beef</td><td>tropical fruit</td><td>pip fruit</td></tr><tr><td>cream cheese</td><td>spread cheese</td><td>rolls/buns</td><td>null</td></tr><tr><td>citrus fruit</td><td>herbs</td><td>whole milk</td><td>bottled water</td></tr><tr><td>specialty bar</td><td>null</td><td>null</td><td>null</td></tr><tr><td>meat</td><td>other vegetables</td><td>whole milk</td><td>beverages</td></tr><tr><td>citrus fruit</td><td>tropical fruit</td><td>pip fruit</td><td>null</td></tr><tr><td>frankfurter</td><td>beef</td><td>tropical fruit</td><td>root vegetables</td></tr><tr><td>citrus fruit</td><td>whole milk</td><td>null</td><td>null</td></tr><tr><td>turkey</td><td>root vegetables</td><td>other vegetables</td><td>curd</td></tr><tr><td>citrus fruit</td><td>onions</td><td>whole milk</td><td>curd</td></tr><tr><td>sausage</td><td>domestic eggs</td><td>null</td><td>null</td></tr><tr><td>newspapers</td><td>null</td><td>null</td><td>null</td></tr><tr><td>whole milk</td><td>yogurt</td><td>null</td><td>null</td></tr><tr><td>yogurt</td><td>null</td><td>null</td><td>null</td></tr><tr><td>yogurt</td><td>null</td><td>null</td><td>null</td></tr><tr><td>bottled water</td><td>null</td><td>null</td><td>null</td></tr><tr><td>berries</td><td>whole milk</td><td>whipped/sour cream</td><td>domestic eggs</td></tr><tr><td>packaged fruit/vegetables</td><td>whole milk</td><td>rolls/buns</td><td>pastry</td></tr><tr><td>frankfurter</td><td>soda</td><td>null</td><td>null</td></tr><tr><td>nuts/prunes</td><td>whole milk</td><td>semi-finished bread</td><td>jam</td></tr><tr><td>citrus fruit</td><td>other vegetables</td><td>packaged fruit/vegetables</td><td>whole milk</td></tr><tr><td>beef</td><td>citrus fruit</td><td>root vegetables</td><td>onions</td></tr><tr><td>whole milk</td><td>yogurt</td><td>frozen vegetables</td><td>coffee</td></tr><tr><td>other vegetables</td><td>whipped/sour cream</td><td>null</td><td>null</td></tr><tr><td>beef</td><td>other vegetables</td><td>null</td><td>null</td></tr><tr><td>fish</td><td>berries</td><td>other vegetables</td><td>whole milk</td></tr><tr><td>other vegetables</td><td>whole milk</td><td>curd</td><td>frozen vegetables</td></tr><tr><td>tropical fruit</td><td>berries</td><td>root vegetables</td><td>whole milk</td></tr><tr><td>coffee</td><td>null</td><td>null</td><td>null</td></tr><tr><td>sausage</td><td>pork</td><td>other vegetables</td><td>frozen fish</td></tr><tr><td>meat</td><td>root vegetables</td><td>whipped/sour cream</td><td>beverages</td></tr><tr><td>chicken</td><td>tropical fruit</td><td>pip fruit</td><td>root vegetables</td></tr><tr><td>berries</td><td>whole milk</td><td>whipped/sour cream</td><td>margarine</td></tr><tr><td>frozen meals</td><td>misc. beverages</td><td>null</td><td>null</td></tr><tr><td>whipped/sour cream</td><td>null</td><td>null</td><td>null</td></tr><tr><td>beef</td><td>root vegetables</td><td>bottled beer</td><td>chocolate</td></tr><tr><td>chicken</td><td>pork</td><td>other vegetables</td><td>whole milk</td></tr><tr><td>chicken</td><td>pork</td><td>hamburger meat</td><td>pip fruit</td></tr><tr><td>beef</td><td>tropical fruit</td><td>root vegetables</td><td>herbs</td></tr><tr><td>packaged fruit/vegetables</td><td>pickled vegetables</td><td>null</td><td>null</td></tr><tr><td>sugar</td><td>null</td><td>null</td><td>null</td></tr><tr><td>frankfurter</td><td>sausage</td><td>beef</td><td>root vegetables</td></tr><tr><td>berries</td><td>frozen vegetables</td><td>pet care</td><td>instant coffee</td></tr><tr><td>bottled water</td><td>soda</td><td>chewing gum</td><td>napkins</td></tr><tr><td>sausage</td><td>chicken</td><td>citrus fruit</td><td>berries</td></tr><tr><td>whole milk</td><td>UHT-milk</td><td>domestic eggs</td><td>soda</td></tr><tr><td>ice cream</td><td>rolls/buns</td><td>null</td><td>null</td></tr><tr><td>frankfurter</td><td>citrus fruit</td><td>tropical fruit</td><td>rolls/buns</td></tr><tr><td>root vegetables</td><td>whole milk</td><td>white bread</td><td>brown bread</td></tr><tr><td>sausage</td><td>rolls/buns</td><td>specialty chocolate</td><td>null</td></tr><tr><td>sausage</td><td>ham</td><td>citrus fruit</td><td>tropical fruit</td></tr><tr><td>beef</td><td>root vegetables</td><td>whole milk</td><td>cream cheese </td></tr><tr><td>fruit/vegetable juice</td><td>null</td><td>null</td><td>null</td></tr><tr><td>sugar</td><td>hygiene articles</td><td>null</td><td>null</td></tr><tr><td>berries</td><td>whipped/sour cream</td><td>null</td><td>null</td></tr><tr><td>yogurt</td><td>beverages</td><td>coffee</td><td>null</td></tr><tr><td>pork</td><td>beef</td><td>null</td><td>null</td></tr><tr><td>bottled beer</td><td>shopping bags</td><td>null</td><td>null</td></tr><tr><td>curd</td><td>butter milk</td><td>yogurt</td><td>sliced cheese</td></tr><tr><td>beef</td><td>Instant food products</td><td>canned beer</td><td>null</td></tr><tr><td>pork</td><td>berries</td><td>whipped/sour cream</td><td>beverages</td></tr><tr><td>white bread</td><td>null</td><td>null</td><td>null</td></tr><tr><td>grapes</td><td>whole milk</td><td>processed cheese</td><td>rolls/buns</td></tr><tr><td>potato products</td><td>flower (seeds)</td><td>null</td><td>null</td></tr><tr><td>root vegetables</td><td>onions</td><td>yogurt</td><td>rolls/buns</td></tr><tr><td>chicken</td><td>hamburger meat</td><td>UHT-milk</td><td>soda</td></tr><tr><td>chicken</td><td>other vegetables</td><td>salt</td><td>null</td></tr><tr><td>fish</td><td>cream cheese</td><td>coffee</td><td>null</td></tr><tr><td>canned beer</td><td>null</td><td>null</td><td>null</td></tr><tr><td>other vegetables</td><td>whole milk</td><td>frozen meals</td><td>rolls/buns</td></tr><tr><td>chicken</td><td>pork</td><td>whole milk</td><td>frozen vegetables</td></tr><tr><td>other vegetables</td><td>misc. beverages</td><td>null</td><td>null</td></tr><tr><td>tropical fruit</td><td>whole milk</td><td>null</td><td>null</td></tr><tr><td>whole milk</td><td>cake bar</td><td>newspapers</td><td>null</td></tr><tr><td>beef</td><td>hamburger meat</td><td>berries</td><td>pastry</td></tr><tr><td>sausage</td><td>grapes</td><td>rolls/buns</td><td>soda</td></tr><tr><td>whole milk</td><td>rolls/buns</td><td>chocolate</td><td>null</td></tr><tr><td>rolls/buns</td><td>soda</td><td>null</td><td>null</td></tr><tr><td>citrus fruit</td><td>tropical fruit</td><td>pip fruit</td><td>other vegetables</td></tr><tr><td>whole milk</td><td>sliced cheese</td><td>domestic eggs</td><td>artif. sweetener</td></tr><tr><td>pastry</td><td>soda</td><td>bottled beer</td><td>null</td></tr><tr><td>tropical fruit</td><td>other vegetables</td><td>whole milk</td><td>yogurt</td></tr><tr><td>sliced cheese</td><td>pastry</td><td>newspapers</td><td>null</td></tr><tr><td>soda</td><td>null</td><td>null</td><td>null</td></tr><tr><td>ham</td><td>citrus fruit</td><td>whole milk</td><td>dessert</td></tr><tr><td>salty snack</td><td>null</td><td>null</td><td>null</td></tr><tr><td>whole milk</td><td>curd</td><td>cream cheese</td><td>flour</td></tr><tr><td>root vegetables</td><td>whipped/sour cream</td><td>null</td><td>null</td></tr><tr><td>soda</td><td>canned beer</td><td>shopping bags</td><td>null</td></tr><tr><td>curd</td><td>roll products</td><td>margarine</td><td>bottled water</td></tr><tr><td>bottled water</td><td>soda</td><td>fruit/vegetable juice</td><td>bottled beer</td></tr><tr><td>packaged fruit/vegetables</td><td>pot plants</td><td>null</td><td>null</td></tr><tr><td>tropical fruit</td><td>root vegetables</td><td>frozen vegetables</td><td>ice cream</td></tr><tr><td>ham</td><td>beef</td><td>grapes</td><td>yogurt</td></tr><tr><td>pork</td><td>citrus fruit</td><td>UHT-milk</td><td>brown bread</td></tr><tr><td>beverages</td><td>rolls/buns</td><td>soda</td><td>misc. beverages</td></tr><tr><td>sausage</td><td>rolls/buns</td><td>soda</td><td>null</td></tr><tr><td>sausage</td><td>citrus fruit</td><td>whole milk</td><td>yogurt</td></tr><tr><td>root vegetables</td><td>whole milk</td><td>butter</td><td>yogurt</td></tr><tr><td>whole milk</td><td>cream cheese </td><td>null</td><td>null</td></tr><tr><td>frankfurter</td><td>turkey</td><td>root vegetables</td><td>other vegetables</td></tr><tr><td>soda</td><td>shopping bags</td><td>null</td><td>null</td></tr><tr><td>soda</td><td>bottled beer</td><td>null</td><td>null</td></tr><tr><td>frankfurter</td><td>popcorn</td><td>null</td><td>null</td></tr><tr><td>berries</td><td>whole milk</td><td>whipped/sour cream</td><td>pickled vegetables</td></tr><tr><td>canned beer</td><td>null</td><td>null</td><td>null</td></tr><tr><td>frankfurter</td><td>pork</td><td>white bread</td><td>canned vegetables</td></tr><tr><td>frankfurter</td><td>hamburger meat</td><td>whole milk</td><td>butter</td></tr><tr><td>berries</td><td>root vegetables</td><td>whole milk</td><td>beverages</td></tr><tr><td>frankfurter</td><td>rolls/buns</td><td>null</td><td>null</td></tr><tr><td>newspapers</td><td>null</td><td>null</td><td>null</td></tr><tr><td>frozen fish</td><td>newspapers</td><td>null</td><td>null</td></tr><tr><td>tropical fruit</td><td>newspapers</td><td>null</td><td>null</td></tr><tr><td>beef</td><td>grapes</td><td>berries</td><td>whole milk</td></tr><tr><td>rolls/buns</td><td>coffee</td><td>instant coffee</td><td>salty snack</td></tr><tr><td>specialty chocolate</td><td>pot plants</td><td>null</td><td>null</td></tr><tr><td>sparkling wine</td><td>dish cleaner</td><td>null</td><td>null</td></tr><tr><td>citrus fruit</td><td>napkins</td><td>shopping bags</td><td>null</td></tr><tr><td>onions</td><td>herbs</td><td>bottled beer</td><td>null</td></tr><tr><td>whole milk</td><td>pastry</td><td>detergent</td><td>candles</td></tr><tr><td>photo/film</td><td>null</td><td>null</td><td>null</td></tr><tr><td>hamburger meat</td><td>null</td><td>null</td><td>null</td></tr><tr><td>other vegetables</td><td>whole milk</td><td>white bread</td><td>chewing gum</td></tr><tr><td>whole milk</td><td>rolls/buns</td><td>shopping bags</td><td>null</td></tr><tr><td>pork</td><td>tropical fruit</td><td>grapes</td><td>hard cheese</td></tr><tr><td>tropical fruit</td><td>grapes</td><td>berries</td><td>other vegetables</td></tr><tr><td>chicken</td><td>pork</td><td>citrus fruit</td><td>other vegetables</td></tr><tr><td>other vegetables</td><td>chewing gum</td><td>null</td><td>null</td></tr><tr><td>sausage</td><td>bottled water</td><td>red/blush wine</td><td>null</td></tr><tr><td>whole milk</td><td>whipped/sour cream</td><td>baking powder</td><td>null</td></tr><tr><td>rolls/buns</td><td>coffee</td><td>null</td><td>null</td></tr><tr><td>hygiene articles</td><td>null</td><td>null</td><td>null</td></tr><tr><td>ice cream</td><td>newspapers</td><td>null</td><td>null</td></tr><tr><td>curd</td><td>whipped/sour cream</td><td>domestic eggs</td><td>flour</td></tr><tr><td>whole milk</td><td>frozen meals</td><td>newspapers</td><td>null</td></tr><tr><td>onions</td><td>whole milk</td><td>dessert</td><td>domestic eggs</td></tr><tr><td>finished products</td><td>organic sausage</td><td>sliced cheese</td><td>white bread</td></tr><tr><td>salt</td><td>dog food</td><td>long life bakery product</td><td>null</td></tr><tr><td>tropical fruit</td><td>root vegetables</td><td>other vegetables</td><td>domestic eggs</td></tr><tr><td>other vegetables</td><td>whole milk</td><td>yogurt</td><td>null</td></tr><tr><td>chocolate</td><td>null</td><td>null</td><td>null</td></tr><tr><td>ice cream</td><td>null</td><td>null</td><td>null</td></tr><tr><td>tropical fruit</td><td>oil</td><td>cat food</td><td>null</td></tr><tr><td>frankfurter</td><td>citrus fruit</td><td>whole milk</td><td>yogurt</td></tr><tr><td>butter</td><td>pasta</td><td>canned fish</td><td>softener</td></tr><tr><td>other vegetables</td><td>butter milk</td><td>frozen fish</td><td>salty snack</td></tr><tr><td>tropical fruit</td><td>pastry</td><td>canned beer</td><td>chocolate</td></tr><tr><td>citrus fruit</td><td>root vegetables</td><td>packaged fruit/vegetables</td><td>yogurt</td></tr><tr><td>UHT-milk</td><td>salt</td><td>soda</td><td>specialty chocolate</td></tr><tr><td>beef</td><td>null</td><td>null</td><td>null</td></tr><tr><td>curd</td><td>yogurt</td><td>spread cheese</td><td>sugar</td></tr><tr><td>citrus fruit</td><td>other vegetables</td><td>whole milk</td><td>dessert</td></tr><tr><td>yogurt</td><td>brown bread</td><td>bottled beer</td><td>white wine</td></tr><tr><td>bottled beer</td><td>liquor</td><td>red/blush wine</td><td>null</td></tr><tr><td>grapes</td><td>null</td><td>null</td><td>null</td></tr><tr><td>pork</td><td>other vegetables</td><td>soda</td><td>null</td></tr><tr><td>sausage</td><td>citrus fruit</td><td>berries</td><td>other vegetables</td></tr><tr><td>frankfurter</td><td>chicken</td><td>pork</td><td>tropical fruit</td></tr><tr><td>artif. sweetener</td><td>soda</td><td>photo/film</td><td>null</td></tr><tr><td>frankfurter</td><td>onions</td><td>butter</td><td>processed cheese</td></tr><tr><td>pip fruit</td><td>root vegetables</td><td>dessert</td><td>yogurt</td></tr><tr><td>frankfurter</td><td>whole milk</td><td>coffee</td><td>detergent</td></tr><tr><td>whole milk</td><td>newspapers</td><td>null</td><td>null</td></tr><tr><td>domestic eggs</td><td>hygiene articles</td><td>photo/film</td><td>flower soil/fertilizer</td></tr><tr><td>packaged fruit/vegetables</td><td>dessert</td><td>mayonnaise</td><td>oil</td></tr><tr><td>chicken</td><td>other vegetables</td><td>whipped/sour cream</td><td>frozen vegetables</td></tr><tr><td>pork</td><td>whole milk</td><td>curd</td><td>yogurt</td></tr><tr><td>citrus fruit</td><td>other vegetables</td><td>whole milk</td><td>curd</td></tr><tr><td>light bulbs</td><td>null</td><td>null</td><td>null</td></tr><tr><td>cream cheese</td><td>margarine</td><td>tea</td><td>null</td></tr><tr><td>sausage</td><td>curd</td><td>frozen meals</td><td>domestic eggs</td></tr><tr><td>citrus fruit</td><td>onions</td><td>null</td><td>null</td></tr><tr><td>other vegetables</td><td>whipped/sour cream</td><td>roll products </td><td>null</td></tr><tr><td>chicken</td><td>tropical fruit</td><td>pip fruit</td><td>root vegetables</td></tr><tr><td>ice cream</td><td>null</td><td>null</td><td>null</td></tr><tr><td>pork</td><td>beef</td><td>ice cream</td><td>rolls/buns</td></tr><tr><td>pork</td><td>tropical fruit</td><td>other vegetables</td><td>yogurt</td></tr></tbody></table>Showing the first 1000 rows.</div>"
      ]
     },
     "metadata": {
      "application/vnd.databricks.v1+output": {
       "addedWidgets": {},
       "aggData": [],
       "aggError": "",
       "aggOverflow": false,
       "aggSchema": [],
       "aggSeriesLimitReached": false,
       "aggType": "",
       "arguments": {},
       "columnCustomDisplayInfos": {},
       "data": [
        [
         "citrus fruit",
         "semi-finished bread",
         "margarine",
         "ready soups"
        ],
        [
         "tropical fruit",
         "yogurt",
         "coffee",
         null
        ],
        [
         "whole milk",
         null,
         null,
         null
        ],
        [
         "pip fruit",
         "yogurt",
         "cream cheese",
         "meat spreads"
        ],
        [
         "other vegetables",
         "whole milk",
         "condensed milk",
         "long life bakery product"
        ],
        [
         "whole milk",
         "butter",
         "yogurt",
         "rice"
        ],
        [
         "rolls/buns",
         null,
         null,
         null
        ],
        [
         "other vegetables",
         "UHT-milk",
         "rolls/buns",
         "bottled beer"
        ],
        [
         "pot plants",
         null,
         null,
         null
        ],
        [
         "whole milk",
         "cereals",
         null,
         null
        ],
        [
         "tropical fruit",
         "other vegetables",
         "white bread",
         "bottled water"
        ],
        [
         "citrus fruit",
         "tropical fruit",
         "whole milk",
         "butter"
        ],
        [
         "beef",
         null,
         null,
         null
        ],
        [
         "frankfurter",
         "rolls/buns",
         "soda",
         null
        ],
        [
         "chicken",
         "tropical fruit",
         null,
         null
        ],
        [
         "butter",
         "sugar",
         "fruit/vegetable juice",
         "newspapers"
        ],
        [
         "fruit/vegetable juice",
         null,
         null,
         null
        ],
        [
         "packaged fruit/vegetables",
         null,
         null,
         null
        ],
        [
         "chocolate",
         null,
         null,
         null
        ],
        [
         "specialty bar",
         null,
         null,
         null
        ],
        [
         "other vegetables",
         null,
         null,
         null
        ],
        [
         "butter milk",
         "pastry",
         null,
         null
        ],
        [
         "whole milk",
         null,
         null,
         null
        ],
        [
         "tropical fruit",
         "cream cheese",
         "processed cheese",
         "detergent"
        ],
        [
         "tropical fruit",
         "root vegetables",
         "other vegetables",
         "frozen dessert"
        ],
        [
         "bottled water",
         "canned beer",
         null,
         null
        ],
        [
         "yogurt",
         null,
         null,
         null
        ],
        [
         "sausage",
         "rolls/buns",
         "soda",
         "chocolate"
        ],
        [
         "other vegetables",
         null,
         null,
         null
        ],
        [
         "brown bread",
         "soda",
         "fruit/vegetable juice",
         "canned beer"
        ],
        [
         "yogurt",
         "beverages",
         "bottled water",
         "specialty bar"
        ],
        [
         "hamburger meat",
         "other vegetables",
         "rolls/buns",
         "spices"
        ],
        [
         "root vegetables",
         "other vegetables",
         "whole milk",
         "beverages"
        ],
        [
         "pork",
         "berries",
         "other vegetables",
         "whole milk"
        ],
        [
         "beef",
         "grapes",
         "detergent",
         null
        ],
        [
         "pastry",
         "soda",
         null,
         null
        ],
        [
         "fruit/vegetable juice",
         null,
         null,
         null
        ],
        [
         "canned beer",
         null,
         null,
         null
        ],
        [
         "root vegetables",
         "other vegetables",
         "whole milk",
         "dessert"
        ],
        [
         "citrus fruit",
         "zwieback",
         "newspapers",
         null
        ],
        [
         "sausage",
         "rolls/buns",
         "soda",
         "canned beer"
        ],
        [
         "tropical fruit",
         "root vegetables",
         "whole milk",
         "yogurt"
        ],
        [
         "berries",
         "yogurt",
         null,
         null
        ],
        [
         "canned beer",
         null,
         null,
         null
        ],
        [
         "butter milk",
         "yogurt",
         "cream cheese",
         "spread cheese"
        ],
        [
         "coffee",
         null,
         null,
         null
        ],
        [
         "pastry",
         "bottled water",
         null,
         null
        ],
        [
         "rolls/buns",
         null,
         null,
         null
        ],
        [
         "misc. beverages",
         null,
         null,
         null
        ],
        [
         "root vegetables",
         "other vegetables",
         "butter",
         "curd"
        ],
        [
         "sausage",
         "rolls/buns",
         "cat food",
         "newspapers"
        ],
        [
         "canned beer",
         null,
         null,
         null
        ],
        [
         "ham",
         "grapes",
         "other vegetables",
         "whole milk"
        ],
        [
         "turkey",
         "tropical fruit",
         "other vegetables",
         "curd"
        ],
        [
         "whole milk",
         "yogurt",
         "processed cheese",
         "pickled vegetables"
        ],
        [
         "whole milk",
         "curd",
         "yogurt",
         "pastry"
        ],
        [
         "packaged fruit/vegetables",
         "brown bread",
         "canned beer",
         null
        ],
        [
         "rolls/buns",
         "oil",
         "bottled water",
         "chewing gum"
        ],
        [
         "ham",
         "beef",
         "whipped/sour cream",
         "ice cream"
        ],
        [
         "rolls/buns",
         "pastry",
         "sugar",
         null
        ],
        [
         "other vegetables",
         "whole milk",
         "frozen vegetables",
         "canned fish"
        ],
        [
         "sausage",
         "pastry",
         null,
         null
        ],
        [
         "sausage",
         "beef",
         "whole milk",
         null
        ],
        [
         "frankfurter",
         "tropical fruit",
         "rolls/buns",
         "brown bread"
        ],
        [
         "rolls/buns",
         "pastry",
         "soda",
         null
        ],
        [
         "whole milk",
         null,
         null,
         null
        ],
        [
         "curd cheese",
         "coffee",
         null,
         null
        ],
        [
         "red/blush wine",
         "newspapers",
         null,
         null
        ],
        [
         "sausage",
         "whole milk",
         "curd",
         null
        ],
        [
         "tropical fruit",
         "pip fruit",
         "berries",
         "whole milk"
        ],
        [
         "red/blush wine",
         null,
         null,
         null
        ],
        [
         "whole milk",
         "butter",
         "margarine",
         "specialty fat"
        ],
        [
         "frankfurter",
         "citrus fruit",
         "whole milk",
         "domestic eggs"
        ],
        [
         "whole milk",
         "meat spreads",
         "soda",
         null
        ],
        [
         "frozen potato products",
         null,
         null,
         null
        ],
        [
         "other vegetables",
         "whole milk",
         "rolls/buns",
         "sugar"
        ],
        [
         "citrus fruit",
         "whole milk",
         "curd",
         "butter milk"
        ],
        [
         "flour",
         "salt",
         "bottled water",
         "fruit/vegetable juice"
        ],
        [
         "sugar",
         "bottled water",
         "soda",
         "bottled beer"
        ],
        [
         "frozen meals",
         "coffee",
         null,
         null
        ],
        [
         "chocolate",
         null,
         null,
         null
        ],
        [
         "root vegetables",
         "whole milk",
         "frozen vegetables",
         "domestic eggs"
        ],
        [
         "root vegetables",
         "onions",
         "hard cheese",
         "frozen vegetables"
        ],
        [
         "herbs",
         "condensed milk",
         "frozen vegetables",
         "salt"
        ],
        [
         "bottled water",
         null,
         null,
         null
        ],
        [
         "sausage",
         "root vegetables",
         "onions",
         "yogurt"
        ],
        [
         "coffee",
         "newspapers",
         null,
         null
        ],
        [
         "pork",
         "other vegetables",
         "whipped/sour cream",
         null
        ],
        [
         "berries",
         "yogurt",
         null,
         null
        ],
        [
         "soda",
         null,
         null,
         null
        ],
        [
         "berries",
         null,
         null,
         null
        ],
        [
         "fruit/vegetable juice",
         "salty snack",
         "candles",
         null
        ],
        [
         "citrus fruit",
         "butter milk",
         "yogurt",
         "cream cheese "
        ],
        [
         "pork",
         "hamburger meat",
         "citrus fruit",
         "berries"
        ],
        [
         "detergent",
         null,
         null,
         null
        ],
        [
         "grapes",
         "photo/film",
         null,
         null
        ],
        [
         "sausage",
         "sliced cheese",
         "rolls/buns",
         "brown bread"
        ],
        [
         "chicken",
         "hamburger meat",
         "citrus fruit",
         "tropical fruit"
        ],
        [
         "whole milk",
         "yogurt",
         "brown bread",
         null
        ],
        [
         "citrus fruit",
         "tropical fruit",
         null,
         null
        ],
        [
         "soda",
         "misc. beverages",
         null,
         null
        ],
        [
         "sausage",
         "pork",
         "grapes",
         "whole milk"
        ],
        [
         "frankfurter",
         "rolls/buns",
         "bottled water",
         null
        ],
        [
         "sausage",
         "whole milk",
         "yogurt",
         "coffee"
        ],
        [
         "soda",
         null,
         null,
         null
        ],
        [
         "rolls/buns",
         "fruit/vegetable juice",
         null,
         null
        ],
        [
         "beef",
         "citrus fruit",
         "berries",
         "root vegetables"
        ],
        [
         "whole milk",
         "whipped/sour cream",
         "rolls/buns",
         "soda"
        ],
        [
         "processed cheese",
         null,
         null,
         null
        ],
        [
         "tropical fruit",
         "pip fruit",
         null,
         null
        ],
        [
         "frankfurter",
         "sausage",
         "root vegetables",
         "other vegetables"
        ],
        [
         "packaged fruit/vegetables",
         "bottled water",
         null,
         null
        ],
        [
         "whole milk",
         "dessert",
         "frozen vegetables",
         "rolls/buns"
        ],
        [
         "berries",
         "whipped/sour cream",
         null,
         null
        ],
        [
         "citrus fruit",
         "berries",
         "UHT-milk",
         "processed cheese"
        ],
        [
         "tropical fruit",
         "whole milk",
         "yogurt",
         null
        ],
        [
         "hamburger meat",
         "whole milk",
         "frozen vegetables",
         "rolls/buns"
        ],
        [
         "hamburger meat",
         "other vegetables",
         "whole milk",
         "frozen vegetables"
        ],
        [
         "whole milk",
         "cream cheese",
         "soda",
         null
        ],
        [
         "fish",
         "other vegetables",
         "pastry",
         "margarine"
        ],
        [
         "frankfurter",
         "sausage",
         "long life bakery product",
         "waffles"
        ],
        [
         "packaged fruit/vegetables",
         "dessert",
         "semi-finished bread",
         "canned beer"
        ],
        [
         "pastry",
         "soda",
         null,
         null
        ],
        [
         "other vegetables",
         "red/blush wine",
         null,
         null
        ],
        [
         "misc. beverages",
         null,
         null,
         null
        ],
        [
         "frankfurter",
         "sausage",
         "citrus fruit",
         "tropical fruit"
        ],
        [
         "sparkling wine",
         null,
         null,
         null
        ],
        [
         "specialty bar",
         null,
         null,
         null
        ],
        [
         "sausage",
         "butter milk",
         "rolls/buns",
         null
        ],
        [
         "curd cheese",
         null,
         null,
         null
        ],
        [
         "frankfurter",
         "dessert",
         null,
         null
        ],
        [
         "whole milk",
         "yogurt",
         "beverages",
         "brown bread"
        ],
        [
         "newspapers",
         null,
         null,
         null
        ],
        [
         "berries",
         "soda",
         null,
         null
        ],
        [
         "curd",
         "flour",
         "liquor (appetizer)",
         null
        ],
        [
         "tropical fruit",
         "other vegetables",
         "coffee",
         null
        ],
        [
         "soda",
         null,
         null,
         null
        ],
        [
         "rolls/buns",
         "Instant food products",
         null,
         null
        ],
        [
         "canned beer",
         null,
         null,
         null
        ],
        [
         "canned beer",
         null,
         null,
         null
        ],
        [
         "frankfurter",
         "sausage",
         "whole milk",
         "rolls/buns"
        ],
        [
         "other vegetables",
         "misc. beverages",
         "canned beer",
         null
        ],
        [
         "whole milk",
         "frozen vegetables",
         null,
         null
        ],
        [
         "whole milk",
         null,
         null,
         null
        ],
        [
         "citrus fruit",
         "butter",
         "cream cheese",
         "white bread"
        ],
        [
         "frankfurter",
         "rolls/buns",
         null,
         null
        ],
        [
         "frankfurter",
         "ham",
         "pip fruit",
         "other vegetables"
        ],
        [
         "butter milk",
         "yogurt",
         "honey",
         "soda"
        ],
        [
         "hamburger meat",
         "citrus fruit",
         "onions",
         "rolls/buns"
        ],
        [
         "pasta",
         "popcorn",
         null,
         null
        ],
        [
         "other vegetables",
         "whole milk",
         "meat spreads",
         "cake bar"
        ],
        [
         "sausage",
         "pork",
         "citrus fruit",
         "dessert"
        ],
        [
         "rolls/buns",
         null,
         null,
         null
        ],
        [
         "grapes",
         "other vegetables",
         "curd",
         "dessert"
        ],
        [
         "root vegetables",
         "other vegetables",
         "whole milk",
         "yogurt"
        ],
        [
         "coffee",
         "shopping bags",
         null,
         null
        ],
        [
         "popcorn",
         null,
         null,
         null
        ],
        [
         "whole milk",
         "rolls/buns",
         "sugar",
         "bottled water"
        ],
        [
         "tropical fruit",
         "other vegetables",
         "packaged fruit/vegetables",
         "whole milk"
        ],
        [
         "beef",
         "herbs",
         "flour",
         "cling film/bags"
        ],
        [
         "whole milk",
         "butter",
         "dessert",
         "rolls/buns"
        ],
        [
         "frankfurter",
         "soda",
         "chewing gum",
         null
        ],
        [
         "tropical fruit",
         "specialty cheese",
         "bottled water",
         null
        ],
        [
         "canned beer",
         null,
         null,
         null
        ],
        [
         "finished products",
         "other vegetables",
         "frozen vegetables",
         "bottled beer"
        ],
        [
         "beverages",
         "soda",
         null,
         null
        ],
        [
         "hamburger meat",
         "root vegetables",
         "whole milk",
         null
        ],
        [
         "whole milk",
         "pastry",
         "long life bakery product",
         null
        ],
        [
         "finished products",
         "white wine",
         "shopping bags",
         null
        ],
        [
         "other vegetables",
         null,
         null,
         null
        ],
        [
         "ham",
         "tropical fruit",
         "other vegetables",
         "whole milk"
        ],
        [
         "other vegetables",
         null,
         null,
         null
        ],
        [
         "curd",
         "butter milk",
         "cocoa drinks",
         "salty snack"
        ],
        [
         "bottled beer",
         null,
         null,
         null
        ],
        [
         "curd",
         "dessert",
         "soda",
         "salty snack"
        ],
        [
         "whole milk",
         "cream cheese",
         "cereals",
         "dog food"
        ],
        [
         "whole milk",
         "salt",
         null,
         null
        ],
        [
         "dessert",
         "ice cream",
         null,
         null
        ],
        [
         "sausage",
         "soft cheese",
         "coffee",
         null
        ],
        [
         "other vegetables",
         "bottled water",
         "waffles",
         "dishes"
        ],
        [
         "ham",
         "whole milk",
         "rolls/buns",
         null
        ],
        [
         "other vegetables",
         "ice cream",
         null,
         null
        ],
        [
         "other vegetables",
         "bottled water",
         null,
         null
        ],
        [
         "soda",
         "bottled beer",
         "white wine",
         "prosecco"
        ],
        [
         "herbs",
         "candy",
         null,
         null
        ],
        [
         "frankfurter",
         "ham",
         "tropical fruit",
         "pip fruit"
        ],
        [
         "rolls/buns",
         "canned beer",
         null,
         null
        ],
        [
         "curd",
         "cream cheese",
         "semi-finished bread",
         "zwieback"
        ],
        [
         "frankfurter",
         "tropical fruit",
         "whole milk",
         "spread cheese"
        ],
        [
         "other vegetables",
         null,
         null,
         null
        ],
        [
         "dog food",
         null,
         null,
         null
        ],
        [
         "specialty bar",
         null,
         null,
         null
        ],
        [
         "curd",
         "salt",
         "liquor (appetizer)",
         "detergent"
        ],
        [
         "frankfurter",
         "rolls/buns",
         null,
         null
        ],
        [
         "soda",
         null,
         null,
         null
        ],
        [
         "beef",
         "berries",
         "root vegetables",
         "whole milk"
        ],
        [
         "canned beer",
         null,
         null,
         null
        ],
        [
         "pork",
         "beef",
         "pip fruit",
         "herbs"
        ],
        [
         "frankfurter",
         "citrus fruit",
         "UHT-milk",
         "margarine"
        ],
        [
         "sausage",
         "bottled beer",
         "liquor (appetizer)",
         null
        ],
        [
         "canned beer",
         null,
         null,
         null
        ],
        [
         "specialty chocolate",
         null,
         null,
         null
        ],
        [
         "curd",
         "rolls/buns",
         null,
         null
        ],
        [
         "canned beer",
         null,
         null,
         null
        ],
        [
         "whole milk",
         "bottled water",
         "newspapers",
         null
        ],
        [
         "rolls/buns",
         "chewing gum",
         null,
         null
        ],
        [
         "pork",
         "root vegetables",
         "other vegetables",
         "whole milk"
        ],
        [
         "citrus fruit",
         "pastry",
         null,
         null
        ],
        [
         "pot plants",
         null,
         null,
         null
        ],
        [
         "rolls/buns",
         "pastry",
         "soda",
         null
        ],
        [
         "butter",
         "yogurt",
         "bottled water",
         "soda"
        ],
        [
         "condensed milk",
         "sugar",
         "coffee",
         "shopping bags"
        ],
        [
         "sausage",
         "other vegetables",
         "yogurt",
         "soda"
        ],
        [
         "whole milk",
         "beverages",
         "UHT-milk",
         "soda"
        ],
        [
         "sausage",
         "pork",
         "beef",
         "whole milk"
        ],
        [
         "beverages",
         null,
         null,
         null
        ],
        [
         "beverages",
         "specialty bar",
         null,
         null
        ],
        [
         "bottled water",
         "fruit/vegetable juice",
         null,
         null
        ],
        [
         "newspapers",
         null,
         null,
         null
        ],
        [
         "cleaner",
         "female sanitary products",
         null,
         null
        ],
        [
         "sausage",
         "soda",
         "newspapers",
         "shopping bags"
        ],
        [
         "newspapers",
         null,
         null,
         null
        ],
        [
         "sausage",
         "beef",
         "citrus fruit",
         "other vegetables"
        ],
        [
         "misc. beverages",
         "newspapers",
         null,
         null
        ],
        [
         "white wine",
         null,
         null,
         null
        ],
        [
         "sausage",
         "sliced cheese",
         "rolls/buns",
         "soda"
        ],
        [
         "meat",
         "curd",
         "bottled beer",
         "cake bar"
        ],
        [
         "frankfurter",
         "meat",
         "tropical fruit",
         "onions"
        ],
        [
         "ice cream",
         "rolls/buns",
         "canned beer",
         null
        ],
        [
         "canned beer",
         null,
         null,
         null
        ],
        [
         "tropical fruit",
         "berries",
         "root vegetables",
         "other vegetables"
        ],
        [
         "meat",
         "citrus fruit",
         "other vegetables",
         "curd"
        ],
        [
         "whole milk",
         "mustard",
         "bottled water",
         null
        ],
        [
         "sausage",
         "beef",
         "beverages",
         "sliced cheese"
        ],
        [
         "frankfurter",
         "sausage",
         "root vegetables",
         "butter"
        ],
        [
         "meat",
         "other vegetables",
         "butter",
         "rolls/buns"
        ],
        [
         "root vegetables",
         "beverages",
         "Instant food products",
         "pickled vegetables"
        ],
        [
         "root vegetables",
         "herbs",
         "other vegetables",
         "whole milk"
        ],
        [
         "whole milk",
         "whipped/sour cream",
         "semi-finished bread",
         "margarine"
        ],
        [
         "citrus fruit",
         "whole milk",
         "curd",
         "dessert"
        ],
        [
         "citrus fruit",
         "curd",
         "pastry",
         "margarine"
        ],
        [
         "other vegetables",
         "whole milk",
         "bottled water",
         "soda"
        ],
        [
         "citrus fruit",
         "whole milk",
         "rolls/buns",
         null
        ],
        [
         "sausage",
         "oil",
         "hygiene articles",
         "napkins"
        ],
        [
         "frankfurter",
         "beef",
         "hamburger meat",
         "grapes"
        ],
        [
         "hard cheese",
         "rolls/buns",
         "bottled water",
         "newspapers"
        ],
        [
         "cream cheese",
         "rolls/buns",
         "soda",
         "chocolate"
        ],
        [
         "turkey",
         "beef",
         "frozen vegetables",
         "dishes"
        ],
        [
         "pork",
         "other vegetables",
         "whipped/sour cream",
         "rolls/buns"
        ],
        [
         "whole milk",
         "beverages",
         null,
         null
        ],
        [
         "rolls/buns",
         "soda",
         null,
         null
        ],
        [
         "sausage",
         "pip fruit",
         "whole milk",
         "curd"
        ],
        [
         "ice cream",
         null,
         null,
         null
        ],
        [
         "liquor",
         null,
         null,
         null
        ],
        [
         "pip fruit",
         "other vegetables",
         "fruit/vegetable juice",
         null
        ],
        [
         "root vegetables",
         "other vegetables",
         "yogurt",
         null
        ],
        [
         "soda",
         null,
         null,
         null
        ],
        [
         "soda",
         null,
         null,
         null
        ],
        [
         "sausage",
         "citrus fruit",
         "tropical fruit",
         "other vegetables"
        ],
        [
         "root vegetables",
         "whole milk",
         "pet care",
         "detergent"
        ],
        [
         "pork",
         "berries",
         "root vegetables",
         "other vegetables"
        ],
        [
         "pork",
         null,
         null,
         null
        ],
        [
         "chocolate",
         null,
         null,
         null
        ],
        [
         "fruit/vegetable juice",
         null,
         null,
         null
        ],
        [
         "pickled vegetables",
         "coffee",
         null,
         null
        ],
        [
         "bottled water",
         null,
         null,
         null
        ],
        [
         "frankfurter",
         "sausage",
         "butter",
         "whipped/sour cream"
        ],
        [
         "tropical fruit",
         "pip fruit",
         "onions",
         "other vegetables"
        ],
        [
         "canned beer",
         null,
         null,
         null
        ],
        [
         "root vegetables",
         null,
         null,
         null
        ],
        [
         "meat",
         "citrus fruit",
         "berries",
         "root vegetables"
        ],
        [
         "frankfurter",
         "rolls/buns",
         "bottled water",
         "fruit/vegetable juice"
        ],
        [
         "tropical fruit",
         "margarine",
         "rum",
         null
        ],
        [
         "tropical fruit",
         "root vegetables",
         "herbs",
         "whole milk"
        ],
        [
         "citrus fruit",
         "pip fruit",
         "root vegetables",
         "other vegetables"
        ],
        [
         "hamburger meat",
         "other vegetables",
         "whole milk",
         "curd"
        ],
        [
         "chicken",
         "pip fruit",
         "other vegetables",
         "whole milk"
        ],
        [
         "chicken",
         "citrus fruit",
         "tropical fruit",
         "root vegetables"
        ],
        [
         "frankfurter",
         "citrus fruit",
         "onions",
         "other vegetables"
        ],
        [
         "canned beer",
         null,
         null,
         null
        ],
        [
         "turkey",
         "pip fruit",
         "salad dressing",
         "pastry"
        ],
        [
         "packaged fruit/vegetables",
         "whole milk",
         "curd",
         "yogurt"
        ],
        [
         "pasta",
         null,
         null,
         null
        ],
        [
         "citrus fruit",
         "tropical fruit",
         null,
         null
        ],
        [
         "sausage",
         "whole milk",
         "yogurt",
         "rolls/buns"
        ],
        [
         "whole milk",
         "frozen meals",
         "pastry",
         "fruit/vegetable juice"
        ],
        [
         "canned beer",
         null,
         null,
         null
        ],
        [
         "citrus fruit",
         "sugar",
         "sauces",
         null
        ],
        [
         "liquor (appetizer)",
         null,
         null,
         null
        ],
        [
         "citrus fruit",
         "other vegetables",
         "rolls/buns",
         "salty snack"
        ],
        [
         "sausage",
         null,
         null,
         null
        ],
        [
         "chicken",
         "other vegetables",
         "whole milk",
         "vinegar"
        ],
        [
         "hamburger meat",
         "root vegetables",
         "other vegetables",
         "whole milk"
        ],
        [
         "sausage",
         "pork",
         "other vegetables",
         "dessert"
        ],
        [
         "beef",
         "berries",
         "root vegetables",
         "whole milk"
        ],
        [
         "citrus fruit",
         "packaged fruit/vegetables",
         "yogurt",
         "bottled water"
        ],
        [
         "UHT-milk",
         "coffee",
         null,
         null
        ],
        [
         "candy",
         null,
         null,
         null
        ],
        [
         "newspapers",
         null,
         null,
         null
        ],
        [
         "beef",
         "citrus fruit",
         "other vegetables",
         "yogurt"
        ],
        [
         "sausage",
         "rolls/buns",
         null,
         null
        ],
        [
         "frankfurter",
         "beef",
         "root vegetables",
         "curd"
        ],
        [
         "canned beer",
         null,
         null,
         null
        ],
        [
         "bottled beer",
         null,
         null,
         null
        ],
        [
         "onions",
         "soda",
         "chewing gum",
         "chocolate"
        ],
        [
         "tropical fruit",
         "packaged fruit/vegetables",
         "cream cheese",
         "white bread"
        ],
        [
         "bottled water",
         "white wine",
         null,
         null
        ],
        [
         "beef",
         "white bread",
         "pastry",
         "pasta"
        ],
        [
         "sausage",
         "chicken",
         "tropical fruit",
         "root vegetables"
        ],
        [
         "hair spray",
         null,
         null,
         null
        ],
        [
         "chicken",
         "whole milk",
         "spices",
         "long life bakery product"
        ],
        [
         "pork",
         "citrus fruit",
         "brown bread",
         "pastry"
        ],
        [
         "ice cream",
         null,
         null,
         null
        ],
        [
         "meat",
         "hard cheese",
         "bottled beer",
         null
        ],
        [
         "other vegetables",
         "yogurt",
         "brown bread",
         "instant coffee"
        ],
        [
         "bottled water",
         "cake bar",
         null,
         null
        ],
        [
         "tropical fruit",
         "soda",
         "salty snack",
         null
        ],
        [
         "photo/film",
         null,
         null,
         null
        ],
        [
         "sausage",
         "citrus fruit",
         "yogurt",
         "coffee"
        ],
        [
         "grapes",
         "root vegetables",
         null,
         null
        ],
        [
         "domestic eggs",
         "brown bread",
         "photo/film",
         null
        ],
        [
         "rolls/buns",
         "canned fish",
         "canned beer",
         null
        ],
        [
         "tropical fruit",
         "whole milk",
         null,
         null
        ],
        [
         "chicken",
         null,
         null,
         null
        ],
        [
         "frankfurter",
         "other vegetables",
         "yogurt",
         "brown bread"
        ],
        [
         "berries",
         "root vegetables",
         "other vegetables",
         "curd"
        ],
        [
         "margarine",
         "hygiene articles",
         null,
         null
        ],
        [
         "tropical fruit",
         "yogurt",
         "rolls/buns",
         "soda"
        ],
        [
         "ham",
         "other vegetables",
         "whipped/sour cream",
         "hard cheese"
        ],
        [
         "hamburger meat",
         "white bread",
         "salty snack",
         null
        ],
        [
         "yogurt",
         "mayonnaise",
         "rolls/buns",
         "soda"
        ],
        [
         "soda",
         "specialty chocolate",
         null,
         null
        ],
        [
         "yogurt",
         null,
         null,
         null
        ],
        [
         "soda",
         null,
         null,
         null
        ],
        [
         "bottled water",
         null,
         null,
         null
        ],
        [
         "sausage",
         "meat",
         "hamburger meat",
         "rubbing alcohol"
        ],
        [
         "citrus fruit",
         "pip fruit",
         "beverages",
         "hard cheese"
        ],
        [
         "shopping bags",
         null,
         null,
         null
        ],
        [
         "newspapers",
         null,
         null,
         null
        ],
        [
         "frankfurter",
         "other vegetables",
         "whole milk",
         "curd"
        ],
        [
         "sausage",
         "citrus fruit",
         "whole milk",
         "canned beer"
        ],
        [
         "frankfurter",
         "rolls/buns",
         null,
         null
        ],
        [
         "salt",
         "salty snack",
         "cookware",
         null
        ],
        [
         "oil",
         null,
         null,
         null
        ],
        [
         "curd",
         "beverages",
         "cream cheese",
         "rolls/buns"
        ],
        [
         "other vegetables",
         "butter",
         "specialty chocolate",
         null
        ],
        [
         "citrus fruit",
         null,
         null,
         null
        ],
        [
         "frankfurter",
         "whole milk",
         "butter milk",
         null
        ],
        [
         "root vegetables",
         "whole milk",
         "butter",
         "processed cheese"
        ],
        [
         "tropical fruit",
         "whole milk",
         "frozen meals",
         "bottled beer"
        ],
        [
         "beef",
         "hamburger meat",
         "pip fruit",
         null
        ],
        [
         "berries",
         "whipped/sour cream",
         "cereals",
         "waffles"
        ],
        [
         "canned beer",
         null,
         null,
         null
        ],
        [
         "whipped/sour cream",
         "canned beer",
         "red/blush wine",
         null
        ],
        [
         "root vegetables",
         "domestic eggs",
         "margarine",
         "chocolate marshmallow"
        ],
        [
         "whole milk",
         "soda",
         null,
         null
        ],
        [
         "beef",
         null,
         null,
         null
        ],
        [
         "frozen vegetables",
         null,
         null,
         null
        ],
        [
         "rolls/buns",
         "bottled beer",
         null,
         null
        ],
        [
         "whole milk",
         "hygiene articles",
         null,
         null
        ],
        [
         "whole milk",
         null,
         null,
         null
        ],
        [
         "citrus fruit",
         "whole milk",
         "curd",
         "soft cheese"
        ],
        [
         "pastry",
         "fruit/vegetable juice",
         null,
         null
        ],
        [
         "frankfurter",
         "sausage",
         "pork",
         "pip fruit"
        ],
        [
         "tropical fruit",
         "root vegetables",
         "whole milk",
         "whipped/sour cream"
        ],
        [
         "frankfurter",
         "sausage",
         "root vegetables",
         "yogurt"
        ],
        [
         "berries",
         "root vegetables",
         "other vegetables",
         "packaged fruit/vegetables"
        ],
        [
         "rolls/buns",
         "brown bread",
         "pastry",
         "coffee"
        ],
        [
         "root vegetables",
         "packaged fruit/vegetables",
         "curd",
         "dessert"
        ],
        [
         "yogurt",
         null,
         null,
         null
        ],
        [
         "other vegetables",
         "bottled water",
         null,
         null
        ],
        [
         "berries",
         "white bread",
         null,
         null
        ],
        [
         "berries",
         "coffee",
         null,
         null
        ],
        [
         "other vegetables",
         "butter milk",
         "frozen meals",
         "bottled water"
        ],
        [
         "rolls/buns",
         "newspapers",
         null,
         null
        ],
        [
         "ham",
         "citrus fruit",
         "whole milk",
         "whipped/sour cream"
        ],
        [
         "whole milk",
         "frozen dessert",
         "salty snack",
         "napkins"
        ],
        [
         "tropical fruit",
         "butter milk",
         "rolls/buns",
         "bottled water"
        ],
        [
         "bottled water",
         null,
         null,
         null
        ],
        [
         "butter milk",
         "yogurt",
         null,
         null
        ],
        [
         "newspapers",
         null,
         null,
         null
        ],
        [
         "coffee",
         null,
         null,
         null
        ],
        [
         "bottled beer",
         "liquor",
         null,
         null
        ],
        [
         "onions",
         "butter",
         "whipped/sour cream",
         "hard cheese"
        ],
        [
         "hamburger meat",
         "hard cheese",
         "frozen meals",
         "pasta"
        ],
        [
         "sausage",
         "liver loaf",
         "other vegetables",
         "cream cheese"
        ],
        [
         "hard cheese",
         "pastry",
         "napkins",
         null
        ],
        [
         "sausage",
         "tropical fruit",
         "condensed milk",
         "rolls/buns"
        ],
        [
         "hamburger meat",
         null,
         null,
         null
        ],
        [
         "onions",
         "whole milk",
         "beverages",
         "frozen dessert"
        ],
        [
         "coffee",
         null,
         null,
         null
        ],
        [
         "shopping bags",
         null,
         null,
         null
        ],
        [
         "yogurt",
         "rolls/buns",
         "pastry",
         "bottled water"
        ],
        [
         "soda",
         null,
         null,
         null
        ],
        [
         "sliced cheese",
         null,
         null,
         null
        ],
        [
         "sausage",
         "whole milk",
         "coffee",
         null
        ],
        [
         "yogurt",
         "chocolate",
         null,
         null
        ],
        [
         "domestic eggs",
         "rolls/buns",
         "dish cleaner",
         "hygiene articles"
        ],
        [
         "whole milk",
         null,
         null,
         null
        ],
        [
         "meat",
         "other vegetables",
         "whole milk",
         "whipped/sour cream"
        ],
        [
         "dish cleaner",
         "bathroom cleaner",
         "hygiene articles",
         "napkins"
        ],
        [
         "other vegetables",
         "red/blush wine",
         null,
         null
        ],
        [
         "whole milk",
         "butter milk",
         "yogurt",
         "sliced cheese"
        ],
        [
         "other vegetables",
         "whole milk",
         "rolls/buns",
         "Instant food products"
        ],
        [
         "tropical fruit",
         "other vegetables",
         null,
         null
        ],
        [
         "baking powder",
         "bottled water",
         "salty snack",
         "chewing gum"
        ],
        [
         "specialty bar",
         null,
         null,
         null
        ],
        [
         "ice cream",
         null,
         null,
         null
        ],
        [
         "frankfurter",
         "yogurt",
         null,
         null
        ],
        [
         "canned beer",
         null,
         null,
         null
        ],
        [
         "bottled water",
         null,
         null,
         null
        ],
        [
         "other vegetables",
         "whole milk",
         "rolls/buns",
         "margarine"
        ],
        [
         "citrus fruit",
         "tropical fruit",
         "onions",
         "other vegetables"
        ],
        [
         "sausage",
         "ham",
         "hamburger meat",
         "whole milk"
        ],
        [
         "domestic eggs",
         "rolls/buns",
         "specialty bar",
         "napkins"
        ],
        [
         "pork",
         "citrus fruit",
         "tropical fruit",
         "root vegetables"
        ],
        [
         "specialty cheese",
         "frozen vegetables",
         "coffee",
         "soda"
        ],
        [
         "pork",
         "citrus fruit",
         "pip fruit",
         "yogurt"
        ],
        [
         "beef",
         "berries",
         "whipped/sour cream",
         "domestic eggs"
        ],
        [
         "other vegetables",
         "pet care",
         null,
         null
        ],
        [
         "chicken",
         "yogurt",
         "sliced cheese",
         "rolls/buns"
        ],
        [
         "soda",
         "chewing gum",
         null,
         null
        ],
        [
         "whole milk",
         null,
         null,
         null
        ],
        [
         "rolls/buns",
         null,
         null,
         null
        ],
        [
         "bottled beer",
         null,
         null,
         null
        ],
        [
         "root vegetables",
         "pastry",
         "bottled water",
         "male cosmetics"
        ],
        [
         "pastry",
         null,
         null,
         null
        ],
        [
         "berries",
         "pet care",
         "cake bar",
         "shopping bags"
        ],
        [
         "citrus fruit",
         "tropical fruit",
         "root vegetables",
         "yogurt"
        ],
        [
         "whole milk",
         "oil",
         "canned fruit",
         "fruit/vegetable juice"
        ],
        [
         "soda",
         "misc. beverages",
         null,
         null
        ],
        [
         "bottled water",
         "soda",
         null,
         null
        ],
        [
         "tropical fruit",
         "other vegetables",
         "rolls/buns",
         null
        ],
        [
         "salty snack",
         null,
         null,
         null
        ],
        [
         "bottled water",
         "canned beer",
         null,
         null
        ],
        [
         "chocolate",
         null,
         null,
         null
        ],
        [
         "citrus fruit",
         "UHT-milk",
         "cream cheese",
         "frozen vegetables"
        ],
        [
         "bottled water",
         "canned beer",
         "male cosmetics",
         null
        ],
        [
         "onions",
         "other vegetables",
         "pastry",
         "bottled water"
        ],
        [
         "dessert",
         "oil",
         "cat food",
         "soda"
        ],
        [
         "beef",
         "other vegetables",
         "whole milk",
         "frozen potato products"
        ],
        [
         "rolls/buns",
         "zwieback",
         "bottled water",
         "misc. beverages"
        ],
        [
         "beef",
         "tropical fruit",
         "root vegetables",
         "onions"
        ],
        [
         "soda",
         null,
         null,
         null
        ],
        [
         "coffee",
         "hygiene articles",
         null,
         null
        ],
        [
         "rolls/buns",
         "brown bread",
         "bottled water",
         null
        ],
        [
         "pork",
         "beef",
         "hamburger meat",
         "other vegetables"
        ],
        [
         "soda",
         "canned beer",
         "liquor (appetizer)",
         "hygiene articles"
        ],
        [
         "sausage",
         "ham",
         "other vegetables",
         "ice cream"
        ],
        [
         "beef",
         "root vegetables",
         "other vegetables",
         "rolls/buns"
        ],
        [
         "whole milk",
         "butter",
         "bottled water",
         "bottled beer"
        ],
        [
         "pork",
         "ice cream",
         "hygiene articles",
         "house keeping products"
        ],
        [
         "berries",
         "packaged fruit/vegetables",
         "whole milk",
         "ice cream"
        ],
        [
         "sausage",
         "other vegetables",
         "curd",
         "yogurt"
        ],
        [
         "bottled water",
         "misc. beverages",
         "cling film/bags",
         null
        ],
        [
         "tropical fruit",
         "other vegetables",
         "packaged fruit/vegetables",
         "whole milk"
        ],
        [
         "herbs",
         "bottled water",
         null,
         null
        ],
        [
         "yogurt",
         "rolls/buns",
         null,
         null
        ],
        [
         "Instant food products",
         null,
         null,
         null
        ],
        [
         "specialty chocolate",
         null,
         null,
         null
        ],
        [
         "coffee",
         null,
         null,
         null
        ],
        [
         "bottled beer",
         "liquor",
         null,
         null
        ],
        [
         "beef",
         "root vegetables",
         null,
         null
        ],
        [
         "whole milk",
         "honey",
         "waffles",
         null
        ],
        [
         "frankfurter",
         "rolls/buns",
         "pastry",
         "snack products"
        ],
        [
         "frankfurter",
         "sausage",
         "liver loaf",
         "root vegetables"
        ],
        [
         "other vegetables",
         "whole milk",
         "cream cheese ",
         null
        ],
        [
         "frankfurter",
         "root vegetables",
         "pickled vegetables",
         "soda"
        ],
        [
         "whole milk",
         "rolls/buns",
         "newspapers",
         null
        ],
        [
         "frankfurter",
         "margarine",
         "dental care",
         null
        ],
        [
         "other vegetables",
         "salty snack",
         null,
         null
        ],
        [
         "bottled water",
         "shopping bags",
         null,
         null
        ],
        [
         "pork",
         "onions",
         "whole milk",
         "butter"
        ],
        [
         "bottled water",
         null,
         null,
         null
        ],
        [
         "other vegetables",
         "whipped/sour cream",
         "specialty cheese",
         "domestic eggs"
        ],
        [
         "hamburger meat",
         "whole milk",
         "curd",
         "pasta"
        ],
        [
         "hamburger meat",
         "citrus fruit",
         "other vegetables",
         null
        ],
        [
         "shopping bags",
         null,
         null,
         null
        ],
        [
         "whole milk",
         "cream cheese",
         "soda",
         "fruit/vegetable juice"
        ],
        [
         "ice cream",
         null,
         null,
         null
        ],
        [
         "pastry",
         "bottled water",
         null,
         null
        ],
        [
         "ham",
         "pip fruit",
         "whole milk",
         "curd"
        ],
        [
         "frankfurter",
         "soda",
         null,
         null
        ],
        [
         "sausage",
         "turkey",
         "beef",
         "root vegetables"
        ],
        [
         "bottled beer",
         null,
         null,
         null
        ],
        [
         "bottled water",
         "bottled beer",
         "napkins",
         null
        ],
        [
         "meat",
         "other vegetables",
         "hard cheese",
         "frozen meals"
        ],
        [
         "dessert",
         "candy",
         null,
         null
        ],
        [
         "other vegetables",
         "packaged fruit/vegetables",
         "UHT-milk",
         "bottled water"
        ],
        [
         "beverages",
         "rolls/buns",
         "soda",
         null
        ],
        [
         "ham",
         "mustard",
         "canned fish",
         null
        ],
        [
         "specialty bar",
         null,
         null,
         null
        ],
        [
         "brown bread",
         "soda",
         "salty snack",
         "shopping bags"
        ],
        [
         "whole milk",
         "cream cheese",
         "coffee",
         null
        ],
        [
         "rolls/buns",
         "pastry",
         "red/blush wine",
         null
        ],
        [
         "bottled beer",
         "nut snack",
         null,
         null
        ],
        [
         "pet care",
         "bottled beer",
         null,
         null
        ],
        [
         "citrus fruit",
         "other vegetables",
         "soda",
         null
        ],
        [
         "pork",
         "other vegetables",
         "frozen vegetables",
         "hygiene articles"
        ],
        [
         "other vegetables",
         "shopping bags",
         null,
         null
        ],
        [
         "white wine",
         "detergent",
         null,
         null
        ],
        [
         "whole milk",
         "dessert",
         "bottled water",
         null
        ],
        [
         "pip fruit",
         "white wine",
         "shopping bags",
         null
        ],
        [
         "sugar",
         "soda",
         "bottled beer",
         null
        ],
        [
         "tropical fruit",
         "pip fruit",
         "rolls/buns",
         "coffee"
        ],
        [
         "root vegetables",
         "cream cheese",
         "spread cheese",
         "frozen dessert"
        ],
        [
         "soda",
         "misc. beverages",
         null,
         null
        ],
        [
         "whole milk",
         "curd",
         null,
         null
        ],
        [
         "tropical fruit",
         "other vegetables",
         "yogurt",
         "bottled water"
        ],
        [
         "white bread",
         "brown bread",
         null,
         null
        ],
        [
         "brown bread",
         "sugar",
         "hygiene articles",
         null
        ],
        [
         "tropical fruit",
         "root vegetables",
         "coffee",
         "bottled water"
        ],
        [
         "domestic eggs",
         null,
         null,
         null
        ],
        [
         "coffee",
         "detergent",
         "hygiene articles",
         "photo/film"
        ],
        [
         "soda",
         null,
         null,
         null
        ],
        [
         "whole milk",
         null,
         null,
         null
        ],
        [
         "bottled beer",
         null,
         null,
         null
        ],
        [
         "pork",
         "beef",
         "berries",
         "packaged fruit/vegetables"
        ],
        [
         "other vegetables",
         "yogurt",
         null,
         null
        ],
        [
         "yogurt",
         "bottled water",
         "dishes",
         null
        ],
        [
         "sparkling wine",
         null,
         null,
         null
        ],
        [
         "bottled water",
         "candy",
         null,
         null
        ],
        [
         "citrus fruit",
         "berries",
         "other vegetables",
         "butter milk"
        ],
        [
         "hamburger meat",
         "root vegetables",
         "other vegetables",
         "whole milk"
        ],
        [
         "packaged fruit/vegetables",
         "seasonal products",
         null,
         null
        ],
        [
         "other vegetables",
         "margarine",
         null,
         null
        ],
        [
         "soda",
         null,
         null,
         null
        ],
        [
         "whole milk",
         "yogurt",
         "frozen potato products",
         "margarine"
        ],
        [
         "herbs",
         "yogurt",
         null,
         null
        ],
        [
         "citrus fruit",
         "spread cheese",
         "rolls/buns",
         "soda"
        ],
        [
         "misc. beverages",
         null,
         null,
         null
        ],
        [
         "female sanitary products",
         null,
         null,
         null
        ],
        [
         "soda",
         null,
         null,
         null
        ],
        [
         "tropical fruit",
         "whole milk",
         "beverages",
         "white bread"
        ],
        [
         "soda",
         "female sanitary products",
         null,
         null
        ],
        [
         "white bread",
         "bottled water",
         "soda",
         "waffles"
        ],
        [
         "coffee",
         "chewing gum",
         "chocolate marshmallow",
         null
        ],
        [
         "tropical fruit",
         "root vegetables",
         "whole milk",
         "frozen vegetables"
        ],
        [
         "pork",
         "pip fruit",
         "whole milk",
         "butter milk"
        ],
        [
         "citrus fruit",
         "bottled water",
         null,
         null
        ],
        [
         "frankfurter",
         null,
         null,
         null
        ],
        [
         "frankfurter",
         "rolls/buns",
         null,
         null
        ],
        [
         "frankfurter",
         "tropical fruit",
         "pip fruit",
         "curd"
        ],
        [
         "other vegetables",
         null,
         null,
         null
        ],
        [
         "yogurt",
         "fruit/vegetable juice",
         "newspapers",
         null
        ],
        [
         "sausage",
         "whole milk",
         "yogurt",
         "brown bread"
        ],
        [
         "whole milk",
         null,
         null,
         null
        ],
        [
         "pip fruit",
         "whole milk",
         "curd",
         "pastry"
        ],
        [
         "whole milk",
         null,
         null,
         null
        ],
        [
         "root vegetables",
         "other vegetables",
         null,
         null
        ],
        [
         "onions",
         "fruit/vegetable juice",
         null,
         null
        ],
        [
         "specialty chocolate",
         null,
         null,
         null
        ],
        [
         "hamburger meat",
         "domestic eggs",
         null,
         null
        ],
        [
         "photo/film",
         null,
         null,
         null
        ],
        [
         "rolls/buns",
         "soda",
         "snack products",
         "newspapers"
        ],
        [
         "canned beer",
         null,
         null,
         null
        ],
        [
         "canned beer",
         null,
         null,
         null
        ],
        [
         "other vegetables",
         "curd",
         "frozen meals",
         "frozen potato products"
        ],
        [
         "canned beer",
         null,
         null,
         null
        ],
        [
         "curd",
         "whipped/sour cream",
         "rolls/buns",
         "zwieback"
        ],
        [
         "butter",
         "fruit/vegetable juice",
         "newspapers",
         null
        ],
        [
         "other vegetables",
         "whole milk",
         "yogurt",
         "domestic eggs"
        ],
        [
         "whole milk",
         null,
         null,
         null
        ],
        [
         "beef",
         "tropical fruit",
         "herbs",
         "whole milk"
        ],
        [
         "sausage",
         "rolls/buns",
         null,
         null
        ],
        [
         "soda",
         null,
         null,
         null
        ],
        [
         "fruit/vegetable juice",
         "long life bakery product",
         null,
         null
        ],
        [
         "rolls/buns",
         "coffee",
         "long life bakery product",
         "detergent"
        ],
        [
         "pip fruit",
         "whole milk",
         "bottled water",
         "candy"
        ],
        [
         "frozen vegetables",
         "bottled beer",
         "liquor (appetizer)",
         "chewing gum"
        ],
        [
         "beverages",
         null,
         null,
         null
        ],
        [
         "hamburger meat",
         "root vegetables",
         "other vegetables",
         "domestic eggs"
        ],
        [
         "root vegetables",
         "other vegetables",
         "whole milk",
         "yogurt"
        ],
        [
         "canned beer",
         null,
         null,
         null
        ],
        [
         "frozen vegetables",
         "bottled beer",
         null,
         null
        ],
        [
         "canned beer",
         null,
         null,
         null
        ],
        [
         "newspapers",
         null,
         null,
         null
        ],
        [
         "rolls/buns",
         null,
         null,
         null
        ],
        [
         "hamburger meat",
         "UHT-milk",
         "salty snack",
         null
        ],
        [
         "pip fruit",
         "whole milk",
         "curd",
         "rum"
        ],
        [
         "canned beer",
         null,
         null,
         null
        ],
        [
         "grapes",
         "root vegetables",
         "frozen vegetables",
         "domestic eggs"
        ],
        [
         "root vegetables",
         "packaged fruit/vegetables",
         "butter",
         "whipped/sour cream"
        ],
        [
         "citrus fruit",
         "frozen vegetables",
         "rolls/buns",
         "canned beer"
        ],
        [
         "cling film/bags",
         "pot plants",
         null,
         null
        ],
        [
         "frankfurter",
         "whole milk",
         "rolls/buns",
         "margarine"
        ],
        [
         "whole milk",
         "red/blush wine",
         null,
         null
        ],
        [
         "pork",
         "tropical fruit",
         "whole milk",
         "curd"
        ],
        [
         "chicken",
         "pastry",
         null,
         null
        ],
        [
         "sausage",
         "dish cleaner",
         "dishes",
         null
        ],
        [
         "specialty bar",
         null,
         null,
         null
        ],
        [
         "whipped/sour cream",
         "pastry",
         "specialty bar",
         null
        ],
        [
         "root vegetables",
         "brown bread",
         null,
         null
        ],
        [
         "rolls/buns",
         "soda",
         null,
         null
        ],
        [
         "other vegetables",
         "bottled beer",
         "red/blush wine",
         null
        ],
        [
         "citrus fruit",
         "tropical fruit",
         "berries",
         "root vegetables"
        ],
        [
         "whole milk",
         "processed cheese",
         "brown bread",
         "pastry"
        ],
        [
         "frankfurter",
         "sausage",
         "tropical fruit",
         "root vegetables"
        ],
        [
         "coffee",
         "long life bakery product",
         null,
         null
        ],
        [
         "ham",
         "rolls/buns",
         "white wine",
         null
        ],
        [
         "canned beer",
         null,
         null,
         null
        ],
        [
         "canned beer",
         null,
         null,
         null
        ],
        [
         "canned beer",
         null,
         null,
         null
        ],
        [
         "pip fruit",
         "whole milk",
         "canned fish",
         null
        ],
        [
         "pork",
         "pip fruit",
         "other vegetables",
         "whole milk"
        ],
        [
         "soap",
         null,
         null,
         null
        ],
        [
         "pip fruit",
         "butter",
         "frozen meals",
         "pasta"
        ],
        [
         "beef",
         "hamburger meat",
         "citrus fruit",
         "whole milk"
        ],
        [
         "sausage",
         "meat",
         "other vegetables",
         "whole milk"
        ],
        [
         "frozen chicken",
         null,
         null,
         null
        ],
        [
         "soda",
         null,
         null,
         null
        ],
        [
         "tropical fruit",
         "curd",
         "yogurt",
         "rolls/buns"
        ],
        [
         "other vegetables",
         null,
         null,
         null
        ],
        [
         "beef",
         "citrus fruit",
         "curd",
         "rolls/buns"
        ],
        [
         "meat",
         "pork",
         "beef",
         "citrus fruit"
        ],
        [
         "meat",
         "hamburger meat",
         "root vegetables",
         "packaged fruit/vegetables"
        ],
        [
         "bottled water",
         "soda",
         "red/blush wine",
         "long life bakery product"
        ],
        [
         "rolls/buns",
         null,
         null,
         null
        ],
        [
         "pastry",
         "canned beer",
         null,
         null
        ],
        [
         "pork",
         "whole milk",
         "pastry",
         "sauces"
        ],
        [
         "pip fruit",
         "sliced cheese",
         "pastry",
         "white wine"
        ],
        [
         "beef",
         "citrus fruit",
         "tropical fruit",
         "yogurt"
        ],
        [
         "beef",
         "citrus fruit",
         "berries",
         "brown bread"
        ],
        [
         "rolls/buns",
         "spices",
         null,
         null
        ],
        [
         "citrus fruit",
         "tropical fruit",
         "herbs",
         "whole milk"
        ],
        [
         "meat",
         "beef",
         "herbs",
         "whole milk"
        ],
        [
         "beverages",
         "pastry",
         "bottled water",
         null
        ],
        [
         "beef",
         "citrus fruit",
         "other vegetables",
         "rolls/buns"
        ],
        [
         "ham",
         "whole milk",
         "white bread",
         "margarine"
        ],
        [
         "hamburger meat",
         "whole milk",
         "oil",
         "ketchup"
        ],
        [
         "beef",
         "citrus fruit",
         "other vegetables",
         "butter milk"
        ],
        [
         "beef",
         "citrus fruit",
         "whole milk",
         "domestic eggs"
        ],
        [
         "root vegetables",
         "whole milk",
         "detergent",
         null
        ],
        [
         "citrus fruit",
         "tropical fruit",
         "grapes",
         "other vegetables"
        ],
        [
         "yogurt",
         "bottled water",
         null,
         null
        ],
        [
         "tropical fruit",
         "root vegetables",
         "other vegetables",
         "whipped/sour cream"
        ],
        [
         "frankfurter",
         "root vegetables",
         "newspapers",
         null
        ],
        [
         "beef",
         "other vegetables",
         "whole milk",
         "brown bread"
        ],
        [
         "shopping bags",
         null,
         null,
         null
        ],
        [
         "canned beer",
         null,
         null,
         null
        ],
        [
         "rolls/buns",
         "canned beer",
         null,
         null
        ],
        [
         "other vegetables",
         "rolls/buns",
         "meat spreads",
         "bottled water"
        ],
        [
         "hamburger meat",
         "other vegetables",
         "yogurt",
         "rolls/buns"
        ],
        [
         "hamburger meat",
         "citrus fruit",
         "root vegetables",
         "rolls/buns"
        ],
        [
         "frankfurter",
         "sausage",
         "domestic eggs",
         "soda"
        ],
        [
         "bottled beer",
         null,
         null,
         null
        ],
        [
         "tropical fruit",
         "domestic eggs",
         "rolls/buns",
         "pastry"
        ],
        [
         "soda",
         null,
         null,
         null
        ],
        [
         "frankfurter",
         "root vegetables",
         "onions",
         "other vegetables"
        ],
        [
         "chicken",
         "hamburger meat",
         "herbs",
         "whipped/sour cream"
        ],
        [
         "coffee",
         "soda",
         null,
         null
        ],
        [
         "whole milk",
         null,
         null,
         null
        ],
        [
         "margarine",
         null,
         null,
         null
        ],
        [
         "tropical fruit",
         "other vegetables",
         null,
         null
        ],
        [
         "meat",
         "other vegetables",
         null,
         null
        ],
        [
         "cream cheese",
         "bottled water",
         "canned beer",
         null
        ],
        [
         "newspapers",
         null,
         null,
         null
        ],
        [
         "rolls/buns",
         "pastry",
         "newspapers",
         null
        ],
        [
         "citrus fruit",
         "other vegetables",
         "whole milk",
         "curd"
        ],
        [
         "whole milk",
         "rolls/buns",
         "detergent",
         null
        ],
        [
         "frankfurter",
         "citrus fruit",
         "butter milk",
         "UHT-milk"
        ],
        [
         "ham",
         "other vegetables",
         "butter",
         "whipped/sour cream"
        ],
        [
         "frankfurter",
         "citrus fruit",
         "bottled beer",
         "salty snack"
        ],
        [
         "sausage",
         "onions",
         "curd",
         "yogurt"
        ],
        [
         "domestic eggs",
         null,
         null,
         null
        ],
        [
         "whole milk",
         "domestic eggs",
         "rolls/buns",
         "soda"
        ],
        [
         "rolls/buns",
         "bottled beer",
         "newspapers",
         null
        ],
        [
         "whole milk",
         "hard cheese",
         "chocolate marshmallow",
         null
        ],
        [
         "sausage",
         "root vegetables",
         "other vegetables",
         "rolls/buns"
        ],
        [
         "curd",
         "butter milk",
         "yogurt",
         "beverages"
        ],
        [
         "bottled water",
         null,
         null,
         null
        ],
        [
         "beef",
         null,
         null,
         null
        ],
        [
         "frankfurter",
         "hamburger meat",
         "whole milk",
         "rolls/buns"
        ],
        [
         "chicken",
         "butter",
         "newspapers",
         null
        ],
        [
         "sausage",
         "meat",
         "tropical fruit",
         "pip fruit"
        ],
        [
         "pork",
         "whole milk",
         "whipped/sour cream",
         "beverages"
        ],
        [
         "yogurt",
         "pastry",
         "coffee",
         null
        ],
        [
         "whole milk",
         "sliced cheese",
         "margarine",
         "cat food"
        ],
        [
         "frankfurter",
         "ham",
         "whole milk",
         "yogurt"
        ],
        [
         "beef",
         "whole milk",
         "brown bread",
         "specialty chocolate"
        ],
        [
         "pip fruit",
         "other vegetables",
         "butter milk",
         "cream cheese"
        ],
        [
         "sausage",
         "whole milk",
         "rolls/buns",
         "coffee"
        ],
        [
         "pastry",
         "coffee",
         null,
         null
        ],
        [
         "chicken",
         "beef",
         "specialty chocolate",
         null
        ],
        [
         "root vegetables",
         "other vegetables",
         "whole milk",
         "sliced cheese"
        ],
        [
         "whole milk",
         "frozen meals",
         "rolls/buns",
         null
        ],
        [
         "detergent",
         null,
         null,
         null
        ],
        [
         "rolls/buns",
         "canned fish",
         null,
         null
        ],
        [
         "house keeping products",
         null,
         null,
         null
        ],
        [
         "yogurt",
         "salt",
         "jam",
         "sparkling wine"
        ],
        [
         "tropical fruit",
         "curd",
         "sliced cheese",
         "rolls/buns"
        ],
        [
         "tropical fruit",
         null,
         null,
         null
        ],
        [
         "curd",
         "UHT-milk",
         "artif. sweetener",
         "dental care"
        ],
        [
         "beef",
         "berries",
         "onions",
         "rolls/buns"
        ],
        [
         "whole milk",
         "brown bread",
         "pasta",
         "margarine"
        ],
        [
         "pork",
         "UHT-milk",
         "bottled water",
         "soda"
        ],
        [
         "other vegetables",
         "curd",
         "yogurt",
         "curd cheese"
        ],
        [
         "rolls/buns",
         "soda",
         "fruit/vegetable juice",
         "canned beer"
        ],
        [
         "frankfurter",
         "pip fruit",
         "whole milk",
         "rolls/buns"
        ],
        [
         "yogurt",
         "hygiene articles",
         "newspapers",
         "shopping bags"
        ],
        [
         "whole milk",
         "curd",
         "sliced cheese",
         "cat food"
        ],
        [
         "bottled water",
         "candy",
         null,
         null
        ],
        [
         "frankfurter",
         "beef",
         "butter",
         null
        ],
        [
         "rolls/buns",
         "soda",
         "snack products",
         "shopping bags"
        ],
        [
         "whole milk",
         "pastry",
         "bottled water",
         "hygiene articles"
        ],
        [
         "rolls/buns",
         null,
         null,
         null
        ],
        [
         "chicken",
         "onions",
         "other vegetables",
         "whole milk"
        ],
        [
         "tropical fruit",
         "onions",
         "whole milk",
         "butter"
        ],
        [
         "sausage",
         "turkey",
         "other vegetables",
         "yogurt"
        ],
        [
         "sausage",
         "other vegetables",
         "whole milk",
         "curd"
        ],
        [
         "frankfurter",
         "citrus fruit",
         "pastry",
         "margarine"
        ],
        [
         "UHT-milk",
         "frozen dessert",
         "fruit/vegetable juice",
         "decalcifier"
        ],
        [
         "rolls/buns",
         "newspapers",
         null,
         null
        ],
        [
         "canned beer",
         null,
         null,
         null
        ],
        [
         "yogurt",
         "specialty bar",
         null,
         null
        ],
        [
         "whipped/sour cream",
         "specialty bar",
         null,
         null
        ],
        [
         "rolls/buns",
         "canned beer",
         null,
         null
        ],
        [
         "rolls/buns",
         null,
         null,
         null
        ],
        [
         "beverages",
         "rolls/buns",
         null,
         null
        ],
        [
         "rolls/buns",
         null,
         null,
         null
        ],
        [
         "rolls/buns",
         "shopping bags",
         null,
         null
        ],
        [
         "bottled beer",
         null,
         null,
         null
        ],
        [
         "citrus fruit",
         "curd",
         "yogurt",
         "sliced cheese"
        ],
        [
         "bottled water",
         "soda",
         null,
         null
        ],
        [
         "pastry",
         null,
         null,
         null
        ],
        [
         "domestic eggs",
         "rolls/buns",
         "pastry",
         "coffee"
        ],
        [
         "beef",
         "pip fruit",
         "root vegetables",
         "rolls/buns"
        ],
        [
         "spread cheese",
         "rolls/buns",
         "bottled water",
         "newspapers"
        ],
        [
         "tropical fruit",
         "spread cheese",
         "rolls/buns",
         "soda"
        ],
        [
         "packaged fruit/vegetables",
         "canned beer",
         "candles",
         null
        ],
        [
         "whole milk",
         "yogurt",
         "bottled beer",
         "white wine"
        ],
        [
         "meat",
         "beef",
         "other vegetables",
         "whole milk"
        ],
        [
         "onions",
         "whole milk",
         "bottled beer",
         "liquor (appetizer)"
        ],
        [
         "frankfurter",
         "grapes",
         "other vegetables",
         "butter milk"
        ],
        [
         "beef",
         "rolls/buns",
         "bottled beer",
         null
        ],
        [
         "beef",
         null,
         null,
         null
        ],
        [
         "sausage",
         "bottled beer",
         "liquor (appetizer)",
         null
        ],
        [
         "chicken",
         "onions",
         "herbs",
         "hygiene articles"
        ],
        [
         "canned beer",
         null,
         null,
         null
        ],
        [
         "sausage",
         "root vegetables",
         "other vegetables",
         "whole milk"
        ],
        [
         "tropical fruit",
         "whole milk",
         "curd",
         "yogurt"
        ],
        [
         "frankfurter",
         "rolls/buns",
         "soda",
         "abrasive cleaner"
        ],
        [
         "sausage",
         "tropical fruit",
         "semi-finished bread",
         null
        ],
        [
         "beef",
         "tropical fruit",
         "root vegetables",
         "yogurt"
        ],
        [
         "tropical fruit",
         "pastry",
         "flour",
         "rum"
        ],
        [
         "yogurt",
         null,
         null,
         null
        ],
        [
         "frankfurter",
         "rolls/buns",
         "mustard",
         null
        ],
        [
         "bottled beer",
         null,
         null,
         null
        ],
        [
         "grapes",
         "soda",
         null,
         null
        ],
        [
         "beverages",
         "rolls/buns",
         null,
         null
        ],
        [
         "curd",
         "bottled beer",
         "pot plants",
         null
        ],
        [
         "ice cream",
         "sugar",
         "flower (seeds)",
         null
        ],
        [
         "sausage",
         "rolls/buns",
         "soda",
         "canned beer"
        ],
        [
         "other vegetables",
         null,
         null,
         null
        ],
        [
         "dessert",
         "beverages",
         "bottled water",
         null
        ],
        [
         "decalcifier",
         null,
         null,
         null
        ],
        [
         "canned beer",
         null,
         null,
         null
        ],
        [
         "coffee",
         null,
         null,
         null
        ],
        [
         "berries",
         "other vegetables",
         "whole milk",
         "whipped/sour cream"
        ],
        [
         "pork",
         "tropical fruit",
         "rolls/buns",
         "semi-finished bread"
        ],
        [
         "frankfurter",
         "chicken",
         "pork",
         "citrus fruit"
        ],
        [
         "pork",
         "beef",
         "whole milk",
         "domestic eggs"
        ],
        [
         "frankfurter",
         "pork",
         "citrus fruit",
         "root vegetables"
        ],
        [
         "frozen dessert",
         "brandy",
         null,
         null
        ],
        [
         "chicken",
         "other vegetables",
         "packaged fruit/vegetables",
         "condensed milk"
        ],
        [
         "vinegar",
         "oil",
         null,
         null
        ],
        [
         "rolls/buns",
         "soda",
         "specialty bar",
         null
        ],
        [
         "whole milk",
         null,
         null,
         null
        ],
        [
         "pork",
         "root vegetables",
         "whole milk",
         "whipped/sour cream"
        ],
        [
         "rolls/buns",
         "newspapers",
         null,
         null
        ],
        [
         "grapes",
         "other vegetables",
         "zwieback",
         "Instant food products"
        ],
        [
         "frankfurter",
         "citrus fruit",
         "whipped/sour cream",
         "cream cheese"
        ],
        [
         "finished products",
         "root vegetables",
         "packaged fruit/vegetables",
         "yogurt"
        ],
        [
         "onions",
         "other vegetables",
         "flour",
         null
        ],
        [
         "tropical fruit",
         "whole milk",
         "rolls/buns",
         null
        ],
        [
         "other vegetables",
         "cream cheese",
         "tea",
         "chocolate"
        ],
        [
         "ham",
         "turkey",
         "beef",
         "other vegetables"
        ],
        [
         "other vegetables",
         "whole milk",
         "margarine",
         "bottled beer"
        ],
        [
         "curd",
         null,
         null,
         null
        ],
        [
         "sausage",
         "beef",
         "other vegetables",
         null
        ],
        [
         "canned beer",
         "liquor (appetizer)",
         "chewing gum",
         null
        ],
        [
         "ham",
         "chicken",
         "citrus fruit",
         "berries"
        ],
        [
         "packaged fruit/vegetables",
         "whole milk",
         "dessert",
         "yogurt"
        ],
        [
         "meat",
         "rolls/buns",
         "soda",
         "specialty bar"
        ],
        [
         "whole milk",
         "dessert",
         null,
         null
        ],
        [
         "canned beer",
         null,
         null,
         null
        ],
        [
         "chicken",
         "UHT-milk",
         "rolls/buns",
         "coffee"
        ],
        [
         "rolls/buns",
         "red/blush wine",
         "newspapers",
         null
        ],
        [
         "pet care",
         "bottled water",
         null,
         null
        ],
        [
         "root vegetables",
         "other vegetables",
         "soda",
         "shopping bags"
        ],
        [
         "pastry",
         null,
         null,
         null
        ],
        [
         "frankfurter",
         "hamburger meat",
         "whole milk",
         "domestic eggs"
        ],
        [
         "chicken",
         "grapes",
         "whole milk",
         "whipped/sour cream"
        ],
        [
         "frozen dessert",
         "semi-finished bread",
         null,
         null
        ],
        [
         "citrus fruit",
         "tropical fruit",
         "grapes",
         "yogurt"
        ],
        [
         "sausage",
         "pork",
         "beef",
         "berries"
        ],
        [
         "root vegetables",
         "onions",
         "other vegetables",
         "packaged fruit/vegetables"
        ],
        [
         "root vegetables",
         "whole milk",
         "yogurt",
         "rolls/buns"
        ],
        [
         "bottled beer",
         null,
         null,
         null
        ],
        [
         "frankfurter",
         "canned beer",
         null,
         null
        ],
        [
         "root vegetables",
         "whole milk",
         "butter",
         "coffee"
        ],
        [
         "berries",
         "other vegetables",
         "whipped/sour cream",
         "UHT-milk"
        ],
        [
         "hamburger meat",
         null,
         null,
         null
        ],
        [
         "tropical fruit",
         "whole milk",
         "rolls/buns",
         "semi-finished bread"
        ],
        [
         "frankfurter",
         "pork",
         "beverages",
         "frozen meals"
        ],
        [
         "frankfurter",
         "sausage",
         "frozen fish",
         "margarine"
        ],
        [
         "soda",
         "newspapers",
         null,
         null
        ],
        [
         "ice cream",
         null,
         null,
         null
        ],
        [
         "beef",
         "whole milk",
         "frozen vegetables",
         "brown bread"
        ],
        [
         "whole milk",
         "pastry",
         "bottled water",
         "newspapers"
        ],
        [
         "pork",
         "fish",
         "whole milk",
         "butter"
        ],
        [
         "whole milk",
         "chewing gum",
         null,
         null
        ],
        [
         "bottled beer",
         null,
         null,
         null
        ],
        [
         "pork",
         "grapes",
         "UHT-milk",
         "brown bread"
        ],
        [
         "root vegetables",
         "pot plants",
         null,
         null
        ],
        [
         "canned beer",
         null,
         null,
         null
        ],
        [
         "citrus fruit",
         "root vegetables",
         "whole milk",
         "butter"
        ],
        [
         "pip fruit",
         "herbs",
         "other vegetables",
         "whole milk"
        ],
        [
         "root vegetables",
         "dessert",
         "yogurt",
         "cream cheese"
        ],
        [
         "tropical fruit",
         "curd",
         "rolls/buns",
         "organic products"
        ],
        [
         "beef",
         "root vegetables",
         "other vegetables",
         "whole milk"
        ],
        [
         "chicken",
         "pork",
         "whole milk",
         "butter"
        ],
        [
         "citrus fruit",
         "grapes",
         "whole milk",
         "rolls/buns"
        ],
        [
         "meat",
         "beef",
         "tropical fruit",
         "pip fruit"
        ],
        [
         "cream cheese",
         "spread cheese",
         "rolls/buns",
         null
        ],
        [
         "citrus fruit",
         "herbs",
         "whole milk",
         "bottled water"
        ],
        [
         "specialty bar",
         null,
         null,
         null
        ],
        [
         "meat",
         "other vegetables",
         "whole milk",
         "beverages"
        ],
        [
         "citrus fruit",
         "tropical fruit",
         "pip fruit",
         null
        ],
        [
         "frankfurter",
         "beef",
         "tropical fruit",
         "root vegetables"
        ],
        [
         "citrus fruit",
         "whole milk",
         null,
         null
        ],
        [
         "turkey",
         "root vegetables",
         "other vegetables",
         "curd"
        ],
        [
         "citrus fruit",
         "onions",
         "whole milk",
         "curd"
        ],
        [
         "sausage",
         "domestic eggs",
         null,
         null
        ],
        [
         "newspapers",
         null,
         null,
         null
        ],
        [
         "whole milk",
         "yogurt",
         null,
         null
        ],
        [
         "yogurt",
         null,
         null,
         null
        ],
        [
         "yogurt",
         null,
         null,
         null
        ],
        [
         "bottled water",
         null,
         null,
         null
        ],
        [
         "berries",
         "whole milk",
         "whipped/sour cream",
         "domestic eggs"
        ],
        [
         "packaged fruit/vegetables",
         "whole milk",
         "rolls/buns",
         "pastry"
        ],
        [
         "frankfurter",
         "soda",
         null,
         null
        ],
        [
         "nuts/prunes",
         "whole milk",
         "semi-finished bread",
         "jam"
        ],
        [
         "citrus fruit",
         "other vegetables",
         "packaged fruit/vegetables",
         "whole milk"
        ],
        [
         "beef",
         "citrus fruit",
         "root vegetables",
         "onions"
        ],
        [
         "whole milk",
         "yogurt",
         "frozen vegetables",
         "coffee"
        ],
        [
         "other vegetables",
         "whipped/sour cream",
         null,
         null
        ],
        [
         "beef",
         "other vegetables",
         null,
         null
        ],
        [
         "fish",
         "berries",
         "other vegetables",
         "whole milk"
        ],
        [
         "other vegetables",
         "whole milk",
         "curd",
         "frozen vegetables"
        ],
        [
         "tropical fruit",
         "berries",
         "root vegetables",
         "whole milk"
        ],
        [
         "coffee",
         null,
         null,
         null
        ],
        [
         "sausage",
         "pork",
         "other vegetables",
         "frozen fish"
        ],
        [
         "meat",
         "root vegetables",
         "whipped/sour cream",
         "beverages"
        ],
        [
         "chicken",
         "tropical fruit",
         "pip fruit",
         "root vegetables"
        ],
        [
         "berries",
         "whole milk",
         "whipped/sour cream",
         "margarine"
        ],
        [
         "frozen meals",
         "misc. beverages",
         null,
         null
        ],
        [
         "whipped/sour cream",
         null,
         null,
         null
        ],
        [
         "beef",
         "root vegetables",
         "bottled beer",
         "chocolate"
        ],
        [
         "chicken",
         "pork",
         "other vegetables",
         "whole milk"
        ],
        [
         "chicken",
         "pork",
         "hamburger meat",
         "pip fruit"
        ],
        [
         "beef",
         "tropical fruit",
         "root vegetables",
         "herbs"
        ],
        [
         "packaged fruit/vegetables",
         "pickled vegetables",
         null,
         null
        ],
        [
         "sugar",
         null,
         null,
         null
        ],
        [
         "frankfurter",
         "sausage",
         "beef",
         "root vegetables"
        ],
        [
         "berries",
         "frozen vegetables",
         "pet care",
         "instant coffee"
        ],
        [
         "bottled water",
         "soda",
         "chewing gum",
         "napkins"
        ],
        [
         "sausage",
         "chicken",
         "citrus fruit",
         "berries"
        ],
        [
         "whole milk",
         "UHT-milk",
         "domestic eggs",
         "soda"
        ],
        [
         "ice cream",
         "rolls/buns",
         null,
         null
        ],
        [
         "frankfurter",
         "citrus fruit",
         "tropical fruit",
         "rolls/buns"
        ],
        [
         "root vegetables",
         "whole milk",
         "white bread",
         "brown bread"
        ],
        [
         "sausage",
         "rolls/buns",
         "specialty chocolate",
         null
        ],
        [
         "sausage",
         "ham",
         "citrus fruit",
         "tropical fruit"
        ],
        [
         "beef",
         "root vegetables",
         "whole milk",
         "cream cheese "
        ],
        [
         "fruit/vegetable juice",
         null,
         null,
         null
        ],
        [
         "sugar",
         "hygiene articles",
         null,
         null
        ],
        [
         "berries",
         "whipped/sour cream",
         null,
         null
        ],
        [
         "yogurt",
         "beverages",
         "coffee",
         null
        ],
        [
         "pork",
         "beef",
         null,
         null
        ],
        [
         "bottled beer",
         "shopping bags",
         null,
         null
        ],
        [
         "curd",
         "butter milk",
         "yogurt",
         "sliced cheese"
        ],
        [
         "beef",
         "Instant food products",
         "canned beer",
         null
        ],
        [
         "pork",
         "berries",
         "whipped/sour cream",
         "beverages"
        ],
        [
         "white bread",
         null,
         null,
         null
        ],
        [
         "grapes",
         "whole milk",
         "processed cheese",
         "rolls/buns"
        ],
        [
         "potato products",
         "flower (seeds)",
         null,
         null
        ],
        [
         "root vegetables",
         "onions",
         "yogurt",
         "rolls/buns"
        ],
        [
         "chicken",
         "hamburger meat",
         "UHT-milk",
         "soda"
        ],
        [
         "chicken",
         "other vegetables",
         "salt",
         null
        ],
        [
         "fish",
         "cream cheese",
         "coffee",
         null
        ],
        [
         "canned beer",
         null,
         null,
         null
        ],
        [
         "other vegetables",
         "whole milk",
         "frozen meals",
         "rolls/buns"
        ],
        [
         "chicken",
         "pork",
         "whole milk",
         "frozen vegetables"
        ],
        [
         "other vegetables",
         "misc. beverages",
         null,
         null
        ],
        [
         "tropical fruit",
         "whole milk",
         null,
         null
        ],
        [
         "whole milk",
         "cake bar",
         "newspapers",
         null
        ],
        [
         "beef",
         "hamburger meat",
         "berries",
         "pastry"
        ],
        [
         "sausage",
         "grapes",
         "rolls/buns",
         "soda"
        ],
        [
         "whole milk",
         "rolls/buns",
         "chocolate",
         null
        ],
        [
         "rolls/buns",
         "soda",
         null,
         null
        ],
        [
         "citrus fruit",
         "tropical fruit",
         "pip fruit",
         "other vegetables"
        ],
        [
         "whole milk",
         "sliced cheese",
         "domestic eggs",
         "artif. sweetener"
        ],
        [
         "pastry",
         "soda",
         "bottled beer",
         null
        ],
        [
         "tropical fruit",
         "other vegetables",
         "whole milk",
         "yogurt"
        ],
        [
         "sliced cheese",
         "pastry",
         "newspapers",
         null
        ],
        [
         "soda",
         null,
         null,
         null
        ],
        [
         "ham",
         "citrus fruit",
         "whole milk",
         "dessert"
        ],
        [
         "salty snack",
         null,
         null,
         null
        ],
        [
         "whole milk",
         "curd",
         "cream cheese",
         "flour"
        ],
        [
         "root vegetables",
         "whipped/sour cream",
         null,
         null
        ],
        [
         "soda",
         "canned beer",
         "shopping bags",
         null
        ],
        [
         "curd",
         "roll products",
         "margarine",
         "bottled water"
        ],
        [
         "bottled water",
         "soda",
         "fruit/vegetable juice",
         "bottled beer"
        ],
        [
         "packaged fruit/vegetables",
         "pot plants",
         null,
         null
        ],
        [
         "tropical fruit",
         "root vegetables",
         "frozen vegetables",
         "ice cream"
        ],
        [
         "ham",
         "beef",
         "grapes",
         "yogurt"
        ],
        [
         "pork",
         "citrus fruit",
         "UHT-milk",
         "brown bread"
        ],
        [
         "beverages",
         "rolls/buns",
         "soda",
         "misc. beverages"
        ],
        [
         "sausage",
         "rolls/buns",
         "soda",
         null
        ],
        [
         "sausage",
         "citrus fruit",
         "whole milk",
         "yogurt"
        ],
        [
         "root vegetables",
         "whole milk",
         "butter",
         "yogurt"
        ],
        [
         "whole milk",
         "cream cheese ",
         null,
         null
        ],
        [
         "frankfurter",
         "turkey",
         "root vegetables",
         "other vegetables"
        ],
        [
         "soda",
         "shopping bags",
         null,
         null
        ],
        [
         "soda",
         "bottled beer",
         null,
         null
        ],
        [
         "frankfurter",
         "popcorn",
         null,
         null
        ],
        [
         "berries",
         "whole milk",
         "whipped/sour cream",
         "pickled vegetables"
        ],
        [
         "canned beer",
         null,
         null,
         null
        ],
        [
         "frankfurter",
         "pork",
         "white bread",
         "canned vegetables"
        ],
        [
         "frankfurter",
         "hamburger meat",
         "whole milk",
         "butter"
        ],
        [
         "berries",
         "root vegetables",
         "whole milk",
         "beverages"
        ],
        [
         "frankfurter",
         "rolls/buns",
         null,
         null
        ],
        [
         "newspapers",
         null,
         null,
         null
        ],
        [
         "frozen fish",
         "newspapers",
         null,
         null
        ],
        [
         "tropical fruit",
         "newspapers",
         null,
         null
        ],
        [
         "beef",
         "grapes",
         "berries",
         "whole milk"
        ],
        [
         "rolls/buns",
         "coffee",
         "instant coffee",
         "salty snack"
        ],
        [
         "specialty chocolate",
         "pot plants",
         null,
         null
        ],
        [
         "sparkling wine",
         "dish cleaner",
         null,
         null
        ],
        [
         "citrus fruit",
         "napkins",
         "shopping bags",
         null
        ],
        [
         "onions",
         "herbs",
         "bottled beer",
         null
        ],
        [
         "whole milk",
         "pastry",
         "detergent",
         "candles"
        ],
        [
         "photo/film",
         null,
         null,
         null
        ],
        [
         "hamburger meat",
         null,
         null,
         null
        ],
        [
         "other vegetables",
         "whole milk",
         "white bread",
         "chewing gum"
        ],
        [
         "whole milk",
         "rolls/buns",
         "shopping bags",
         null
        ],
        [
         "pork",
         "tropical fruit",
         "grapes",
         "hard cheese"
        ],
        [
         "tropical fruit",
         "grapes",
         "berries",
         "other vegetables"
        ],
        [
         "chicken",
         "pork",
         "citrus fruit",
         "other vegetables"
        ],
        [
         "other vegetables",
         "chewing gum",
         null,
         null
        ],
        [
         "sausage",
         "bottled water",
         "red/blush wine",
         null
        ],
        [
         "whole milk",
         "whipped/sour cream",
         "baking powder",
         null
        ],
        [
         "rolls/buns",
         "coffee",
         null,
         null
        ],
        [
         "hygiene articles",
         null,
         null,
         null
        ],
        [
         "ice cream",
         "newspapers",
         null,
         null
        ],
        [
         "curd",
         "whipped/sour cream",
         "domestic eggs",
         "flour"
        ],
        [
         "whole milk",
         "frozen meals",
         "newspapers",
         null
        ],
        [
         "onions",
         "whole milk",
         "dessert",
         "domestic eggs"
        ],
        [
         "finished products",
         "organic sausage",
         "sliced cheese",
         "white bread"
        ],
        [
         "salt",
         "dog food",
         "long life bakery product",
         null
        ],
        [
         "tropical fruit",
         "root vegetables",
         "other vegetables",
         "domestic eggs"
        ],
        [
         "other vegetables",
         "whole milk",
         "yogurt",
         null
        ],
        [
         "chocolate",
         null,
         null,
         null
        ],
        [
         "ice cream",
         null,
         null,
         null
        ],
        [
         "tropical fruit",
         "oil",
         "cat food",
         null
        ],
        [
         "frankfurter",
         "citrus fruit",
         "whole milk",
         "yogurt"
        ],
        [
         "butter",
         "pasta",
         "canned fish",
         "softener"
        ],
        [
         "other vegetables",
         "butter milk",
         "frozen fish",
         "salty snack"
        ],
        [
         "tropical fruit",
         "pastry",
         "canned beer",
         "chocolate"
        ],
        [
         "citrus fruit",
         "root vegetables",
         "packaged fruit/vegetables",
         "yogurt"
        ],
        [
         "UHT-milk",
         "salt",
         "soda",
         "specialty chocolate"
        ],
        [
         "beef",
         null,
         null,
         null
        ],
        [
         "curd",
         "yogurt",
         "spread cheese",
         "sugar"
        ],
        [
         "citrus fruit",
         "other vegetables",
         "whole milk",
         "dessert"
        ],
        [
         "yogurt",
         "brown bread",
         "bottled beer",
         "white wine"
        ],
        [
         "bottled beer",
         "liquor",
         "red/blush wine",
         null
        ],
        [
         "grapes",
         null,
         null,
         null
        ],
        [
         "pork",
         "other vegetables",
         "soda",
         null
        ],
        [
         "sausage",
         "citrus fruit",
         "berries",
         "other vegetables"
        ],
        [
         "frankfurter",
         "chicken",
         "pork",
         "tropical fruit"
        ],
        [
         "artif. sweetener",
         "soda",
         "photo/film",
         null
        ],
        [
         "frankfurter",
         "onions",
         "butter",
         "processed cheese"
        ],
        [
         "pip fruit",
         "root vegetables",
         "dessert",
         "yogurt"
        ],
        [
         "frankfurter",
         "whole milk",
         "coffee",
         "detergent"
        ],
        [
         "whole milk",
         "newspapers",
         null,
         null
        ],
        [
         "domestic eggs",
         "hygiene articles",
         "photo/film",
         "flower soil/fertilizer"
        ],
        [
         "packaged fruit/vegetables",
         "dessert",
         "mayonnaise",
         "oil"
        ],
        [
         "chicken",
         "other vegetables",
         "whipped/sour cream",
         "frozen vegetables"
        ],
        [
         "pork",
         "whole milk",
         "curd",
         "yogurt"
        ],
        [
         "citrus fruit",
         "other vegetables",
         "whole milk",
         "curd"
        ],
        [
         "light bulbs",
         null,
         null,
         null
        ],
        [
         "cream cheese",
         "margarine",
         "tea",
         null
        ],
        [
         "sausage",
         "curd",
         "frozen meals",
         "domestic eggs"
        ],
        [
         "citrus fruit",
         "onions",
         null,
         null
        ],
        [
         "other vegetables",
         "whipped/sour cream",
         "roll products ",
         null
        ],
        [
         "chicken",
         "tropical fruit",
         "pip fruit",
         "root vegetables"
        ],
        [
         "ice cream",
         null,
         null,
         null
        ],
        [
         "pork",
         "beef",
         "ice cream",
         "rolls/buns"
        ],
        [
         "pork",
         "tropical fruit",
         "other vegetables",
         "yogurt"
        ]
       ],
       "datasetInfos": [],
       "dbfsResultPath": null,
       "isJsonSchema": true,
       "metadata": {},
       "overflow": true,
       "plotOptions": {
        "customPlotOptions": {},
        "displayType": "table",
        "pivotAggregation": null,
        "pivotColumns": null,
        "xColumns": null,
        "yColumns": null
       },
       "removedWidgets": [],
       "schema": [
        {
         "metadata": "{}",
         "name": "_c0",
         "type": "\"string\""
        },
        {
         "metadata": "{}",
         "name": "_c1",
         "type": "\"string\""
        },
        {
         "metadata": "{}",
         "name": "_c2",
         "type": "\"string\""
        },
        {
         "metadata": "{}",
         "name": "_c3",
         "type": "\"string\""
        }
       ],
       "type": "table"
      }
     },
     "output_type": "display_data"
    }
   ],
   "source": [
    "# Reading and displaying the dataframe\n",
    "extra_df = spark.read.format(\"csv\").option(\"header\", \"false\").load(\"dbfs:/FileStore/shared_uploads/clvrashmika@gmail.com/groceries.csv\")\n",
    "display(extra_df)"
   ]
  },
  {
   "cell_type": "code",
   "execution_count": 0,
   "metadata": {
    "application/vnd.databricks.v1+cell": {
     "cellMetadata": {},
     "inputWidgets": {},
     "nuid": "778058ed-7b20-4abc-b01f-1d8448a88f2e",
     "showTitle": false,
     "title": ""
    }
   },
   "outputs": [],
   "source": [
    "# Modifying the dataframe to perform analysis\n",
    "count = 0\n",
    "mylist = []\n",
    "for row in extra_df.collect():\n",
    "    temp = (count,list(filter(None, row)))\n",
    "    mylist.append(temp)\n",
    "    count = count + 1\n",
    "    \n",
    "# Creating a new dataframe from the above list\n",
    "extra_df1 = spark.createDataFrame(mylist, [\"id\", \"items\"])"
   ]
  },
  {
   "cell_type": "code",
   "execution_count": 0,
   "metadata": {
    "application/vnd.databricks.v1+cell": {
     "cellMetadata": {},
     "inputWidgets": {},
     "nuid": "24b34538-39fe-4517-b8f7-0449a7f3e868",
     "showTitle": false,
     "title": ""
    }
   },
   "outputs": [
    {
     "name": "stdout",
     "output_type": "stream",
     "text": [
      "7884\n",
      "1951\n"
     ]
    }
   ],
   "source": [
    "# Splitting the dataset into train and test dataframes\n",
    "trainDF, testDF = extra_df1.randomSplit([0.8, 0.2], seed=25)\n",
    "print(trainDF.cache().count()) # Cache because accessing training data multiple times\n",
    "print(testDF.count())"
   ]
  },
  {
   "cell_type": "code",
   "execution_count": 0,
   "metadata": {
    "application/vnd.databricks.v1+cell": {
     "cellMetadata": {},
     "inputWidgets": {},
     "nuid": "9e2add43-65f3-4efa-9945-a0fa04ad295f",
     "showTitle": false,
     "title": ""
    }
   },
   "outputs": [],
   "source": [
    "# FP Growth Model\n",
    "fpGrowth = FPGrowth(itemsCol=\"items\", minSupport=0.01, minConfidence=0.01)\n",
    "model = fpGrowth.fit(trainDF)"
   ]
  },
  {
   "cell_type": "code",
   "execution_count": 0,
   "metadata": {
    "application/vnd.databricks.v1+cell": {
     "cellMetadata": {},
     "inputWidgets": {},
     "nuid": "5949150c-f747-4b13-8889-ffaa91572973",
     "showTitle": false,
     "title": ""
    }
   },
   "outputs": [
    {
     "data": {
      "text/html": [
       "<style scoped>\n",
       "  .table-result-container {\n",
       "    max-height: 300px;\n",
       "    overflow: auto;\n",
       "  }\n",
       "  table, th, td {\n",
       "    border: 1px solid black;\n",
       "    border-collapse: collapse;\n",
       "  }\n",
       "  th, td {\n",
       "    padding: 5px;\n",
       "  }\n",
       "  th {\n",
       "    text-align: left;\n",
       "  }\n",
       "</style><div class='table-result-container'><table class='table-result'><thead style='background-color: white'><tr><th>items</th><th>freq</th></tr></thead><tbody><tr><td>List(margarine)</td><td>209</td></tr><tr><td>List(citrus fruit)</td><td>644</td></tr><tr><td>List(citrus fruit, root vegetables)</td><td>109</td></tr><tr><td>List(citrus fruit, sausage)</td><td>86</td></tr><tr><td>List(citrus fruit, other vegetables)</td><td>151</td></tr><tr><td>List(citrus fruit, tropical fruit)</td><td>154</td></tr><tr><td>List(citrus fruit, yogurt)</td><td>87</td></tr><tr><td>List(citrus fruit, whole milk)</td><td>148</td></tr><tr><td>List(white wine)</td><td>92</td></tr><tr><td>List(frozen meals)</td><td>153</td></tr><tr><td>List(bottled beer)</td><td>381</td></tr><tr><td>List(hard cheese)</td><td>114</td></tr><tr><td>List(newspapers)</td><td>244</td></tr><tr><td>List(whole milk)</td><td>1771</td></tr><tr><td>List(chocolate)</td><td>152</td></tr><tr><td>List(chicken)</td><td>334</td></tr><tr><td>List(chicken, other vegetables)</td><td>102</td></tr><tr><td>List(chicken, whole milk)</td><td>79</td></tr><tr><td>List(herbs)</td><td>110</td></tr><tr><td>List(coffee)</td><td>243</td></tr><tr><td>List(other vegetables)</td><td>1363</td></tr><tr><td>List(other vegetables, whole milk)</td><td>409</td></tr><tr><td>List(pip fruit)</td><td>591</td></tr><tr><td>List(pip fruit, citrus fruit)</td><td>103</td></tr><tr><td>List(pip fruit, root vegetables)</td><td>96</td></tr><tr><td>List(pip fruit, sausage)</td><td>85</td></tr><tr><td>List(pip fruit, other vegetables)</td><td>129</td></tr><tr><td>List(pip fruit, tropical fruit)</td><td>163</td></tr><tr><td>List(pip fruit, whole milk)</td><td>145</td></tr><tr><td>List(candy)</td><td>90</td></tr><tr><td>List(ham)</td><td>207</td></tr><tr><td>List(napkins)</td><td>106</td></tr><tr><td>List(shopping bags)</td><td>238</td></tr><tr><td>List(rolls/buns)</td><td>980</td></tr><tr><td>List(rolls/buns, other vegetables)</td><td>111</td></tr><tr><td>List(rolls/buns, whole milk)</td><td>181</td></tr><tr><td>List(oil)</td><td>89</td></tr><tr><td>List(UHT-milk)</td><td>206</td></tr><tr><td>List(bottled water)</td><td>480</td></tr><tr><td>List(bottled water, whole milk)</td><td>82</td></tr><tr><td>List(whipped/sour cream)</td><td>325</td></tr><tr><td>List(whipped/sour cream, whole milk)</td><td>90</td></tr><tr><td>List(butter milk)</td><td>151</td></tr><tr><td>List(packaged fruit/vegetables)</td><td>83</td></tr><tr><td>List(frozen vegetables)</td><td>194</td></tr><tr><td>List(frankfurter)</td><td>477</td></tr><tr><td>List(frankfurter, other vegetables)</td><td>84</td></tr><tr><td>List(frankfurter, whole milk)</td><td>104</td></tr><tr><td>List(ice cream)</td><td>148</td></tr><tr><td>List(butter)</td><td>310</td></tr><tr><td>List(butter, whole milk)</td><td>121</td></tr><tr><td>List(dessert)</td><td>238</td></tr><tr><td>List(tropical fruit)</td><td>831</td></tr><tr><td>List(tropical fruit, other vegetables)</td><td>191</td></tr><tr><td>List(tropical fruit, whole milk)</td><td>211</td></tr><tr><td>List(sugar)</td><td>105</td></tr><tr><td>List(specialty chocolate)</td><td>130</td></tr><tr><td>List(curd)</td><td>303</td></tr><tr><td>List(curd, whole milk)</td><td>117</td></tr><tr><td>List(soda)</td><td>813</td></tr><tr><td>List(soda, rolls/buns)</td><td>130</td></tr><tr><td>List(waffles)</td><td>103</td></tr><tr><td>List(berries)</td><td>237</td></tr><tr><td>List(white bread)</td><td>184</td></tr><tr><td>List(canned beer)</td><td>463</td></tr><tr><td>List(long life bakery product)</td><td>103</td></tr><tr><td>List(meat)</td><td>214</td></tr><tr><td>List(root vegetables)</td><td>795</td></tr><tr><td>List(root vegetables, other vegetables)</td><td>268</td></tr><tr><td>List(root vegetables, tropical fruit)</td><td>134</td></tr><tr><td>List(root vegetables, whole milk)</td><td>244</td></tr><tr><td>List(pork)</td><td>459</td></tr><tr><td>List(pork, root vegetables)</td><td>86</td></tr><tr><td>List(pork, other vegetables)</td><td>115</td></tr><tr><td>List(pork, whole milk)</td><td>107</td></tr><tr><td>List(grapes)</td><td>163</td></tr><tr><td>List(misc. beverages)</td><td>128</td></tr><tr><td>List(brown bread)</td><td>292</td></tr><tr><td>List(cream cheese)</td><td>163</td></tr><tr><td>List(pastry)</td><td>429</td></tr><tr><td>List(pastry, whole milk)</td><td>101</td></tr><tr><td>List(salty snack)</td><td>120</td></tr><tr><td>List(hamburger meat)</td><td>269</td></tr><tr><td>List(hamburger meat, other vegetables)</td><td>80</td></tr><tr><td>List(sliced cheese)</td><td>102</td></tr><tr><td>List(onions)</td><td>213</td></tr><tr><td>List(yogurt)</td><td>793</td></tr><tr><td>List(yogurt, rolls/buns)</td><td>94</td></tr><tr><td>List(yogurt, other vegetables)</td><td>144</td></tr><tr><td>List(yogurt, tropical fruit)</td><td>106</td></tr><tr><td>List(yogurt, whole milk)</td><td>218</td></tr><tr><td>List(domestic eggs)</td><td>244</td></tr><tr><td>List(specialty bar)</td><td>119</td></tr><tr><td>List(chewing gum)</td><td>97</td></tr><tr><td>List(fruit/vegetable juice)</td><td>211</td></tr><tr><td>List(sausage)</td><td>756</td></tr><tr><td>List(sausage, rolls/buns)</td><td>138</td></tr><tr><td>List(sausage, root vegetables)</td><td>93</td></tr><tr><td>List(sausage, other vegetables)</td><td>164</td></tr><tr><td>List(sausage, tropical fruit)</td><td>100</td></tr><tr><td>List(sausage, whole milk)</td><td>160</td></tr><tr><td>List(beverages)</td><td>158</td></tr><tr><td>List(beef)</td><td>411</td></tr><tr><td>List(beef, root vegetables)</td><td>108</td></tr><tr><td>List(beef, other vegetables)</td><td>99</td></tr><tr><td>List(beef, whole milk)</td><td>105</td></tr></tbody></table></div>"
      ]
     },
     "metadata": {
      "application/vnd.databricks.v1+output": {
       "addedWidgets": {},
       "aggData": [],
       "aggError": "",
       "aggOverflow": false,
       "aggSchema": [],
       "aggSeriesLimitReached": false,
       "aggType": "",
       "arguments": {},
       "columnCustomDisplayInfos": {},
       "data": [
        [
         [
          "margarine"
         ],
         209
        ],
        [
         [
          "citrus fruit"
         ],
         644
        ],
        [
         [
          "citrus fruit",
          "root vegetables"
         ],
         109
        ],
        [
         [
          "citrus fruit",
          "sausage"
         ],
         86
        ],
        [
         [
          "citrus fruit",
          "other vegetables"
         ],
         151
        ],
        [
         [
          "citrus fruit",
          "tropical fruit"
         ],
         154
        ],
        [
         [
          "citrus fruit",
          "yogurt"
         ],
         87
        ],
        [
         [
          "citrus fruit",
          "whole milk"
         ],
         148
        ],
        [
         [
          "white wine"
         ],
         92
        ],
        [
         [
          "frozen meals"
         ],
         153
        ],
        [
         [
          "bottled beer"
         ],
         381
        ],
        [
         [
          "hard cheese"
         ],
         114
        ],
        [
         [
          "newspapers"
         ],
         244
        ],
        [
         [
          "whole milk"
         ],
         1771
        ],
        [
         [
          "chocolate"
         ],
         152
        ],
        [
         [
          "chicken"
         ],
         334
        ],
        [
         [
          "chicken",
          "other vegetables"
         ],
         102
        ],
        [
         [
          "chicken",
          "whole milk"
         ],
         79
        ],
        [
         [
          "herbs"
         ],
         110
        ],
        [
         [
          "coffee"
         ],
         243
        ],
        [
         [
          "other vegetables"
         ],
         1363
        ],
        [
         [
          "other vegetables",
          "whole milk"
         ],
         409
        ],
        [
         [
          "pip fruit"
         ],
         591
        ],
        [
         [
          "pip fruit",
          "citrus fruit"
         ],
         103
        ],
        [
         [
          "pip fruit",
          "root vegetables"
         ],
         96
        ],
        [
         [
          "pip fruit",
          "sausage"
         ],
         85
        ],
        [
         [
          "pip fruit",
          "other vegetables"
         ],
         129
        ],
        [
         [
          "pip fruit",
          "tropical fruit"
         ],
         163
        ],
        [
         [
          "pip fruit",
          "whole milk"
         ],
         145
        ],
        [
         [
          "candy"
         ],
         90
        ],
        [
         [
          "ham"
         ],
         207
        ],
        [
         [
          "napkins"
         ],
         106
        ],
        [
         [
          "shopping bags"
         ],
         238
        ],
        [
         [
          "rolls/buns"
         ],
         980
        ],
        [
         [
          "rolls/buns",
          "other vegetables"
         ],
         111
        ],
        [
         [
          "rolls/buns",
          "whole milk"
         ],
         181
        ],
        [
         [
          "oil"
         ],
         89
        ],
        [
         [
          "UHT-milk"
         ],
         206
        ],
        [
         [
          "bottled water"
         ],
         480
        ],
        [
         [
          "bottled water",
          "whole milk"
         ],
         82
        ],
        [
         [
          "whipped/sour cream"
         ],
         325
        ],
        [
         [
          "whipped/sour cream",
          "whole milk"
         ],
         90
        ],
        [
         [
          "butter milk"
         ],
         151
        ],
        [
         [
          "packaged fruit/vegetables"
         ],
         83
        ],
        [
         [
          "frozen vegetables"
         ],
         194
        ],
        [
         [
          "frankfurter"
         ],
         477
        ],
        [
         [
          "frankfurter",
          "other vegetables"
         ],
         84
        ],
        [
         [
          "frankfurter",
          "whole milk"
         ],
         104
        ],
        [
         [
          "ice cream"
         ],
         148
        ],
        [
         [
          "butter"
         ],
         310
        ],
        [
         [
          "butter",
          "whole milk"
         ],
         121
        ],
        [
         [
          "dessert"
         ],
         238
        ],
        [
         [
          "tropical fruit"
         ],
         831
        ],
        [
         [
          "tropical fruit",
          "other vegetables"
         ],
         191
        ],
        [
         [
          "tropical fruit",
          "whole milk"
         ],
         211
        ],
        [
         [
          "sugar"
         ],
         105
        ],
        [
         [
          "specialty chocolate"
         ],
         130
        ],
        [
         [
          "curd"
         ],
         303
        ],
        [
         [
          "curd",
          "whole milk"
         ],
         117
        ],
        [
         [
          "soda"
         ],
         813
        ],
        [
         [
          "soda",
          "rolls/buns"
         ],
         130
        ],
        [
         [
          "waffles"
         ],
         103
        ],
        [
         [
          "berries"
         ],
         237
        ],
        [
         [
          "white bread"
         ],
         184
        ],
        [
         [
          "canned beer"
         ],
         463
        ],
        [
         [
          "long life bakery product"
         ],
         103
        ],
        [
         [
          "meat"
         ],
         214
        ],
        [
         [
          "root vegetables"
         ],
         795
        ],
        [
         [
          "root vegetables",
          "other vegetables"
         ],
         268
        ],
        [
         [
          "root vegetables",
          "tropical fruit"
         ],
         134
        ],
        [
         [
          "root vegetables",
          "whole milk"
         ],
         244
        ],
        [
         [
          "pork"
         ],
         459
        ],
        [
         [
          "pork",
          "root vegetables"
         ],
         86
        ],
        [
         [
          "pork",
          "other vegetables"
         ],
         115
        ],
        [
         [
          "pork",
          "whole milk"
         ],
         107
        ],
        [
         [
          "grapes"
         ],
         163
        ],
        [
         [
          "misc. beverages"
         ],
         128
        ],
        [
         [
          "brown bread"
         ],
         292
        ],
        [
         [
          "cream cheese"
         ],
         163
        ],
        [
         [
          "pastry"
         ],
         429
        ],
        [
         [
          "pastry",
          "whole milk"
         ],
         101
        ],
        [
         [
          "salty snack"
         ],
         120
        ],
        [
         [
          "hamburger meat"
         ],
         269
        ],
        [
         [
          "hamburger meat",
          "other vegetables"
         ],
         80
        ],
        [
         [
          "sliced cheese"
         ],
         102
        ],
        [
         [
          "onions"
         ],
         213
        ],
        [
         [
          "yogurt"
         ],
         793
        ],
        [
         [
          "yogurt",
          "rolls/buns"
         ],
         94
        ],
        [
         [
          "yogurt",
          "other vegetables"
         ],
         144
        ],
        [
         [
          "yogurt",
          "tropical fruit"
         ],
         106
        ],
        [
         [
          "yogurt",
          "whole milk"
         ],
         218
        ],
        [
         [
          "domestic eggs"
         ],
         244
        ],
        [
         [
          "specialty bar"
         ],
         119
        ],
        [
         [
          "chewing gum"
         ],
         97
        ],
        [
         [
          "fruit/vegetable juice"
         ],
         211
        ],
        [
         [
          "sausage"
         ],
         756
        ],
        [
         [
          "sausage",
          "rolls/buns"
         ],
         138
        ],
        [
         [
          "sausage",
          "root vegetables"
         ],
         93
        ],
        [
         [
          "sausage",
          "other vegetables"
         ],
         164
        ],
        [
         [
          "sausage",
          "tropical fruit"
         ],
         100
        ],
        [
         [
          "sausage",
          "whole milk"
         ],
         160
        ],
        [
         [
          "beverages"
         ],
         158
        ],
        [
         [
          "beef"
         ],
         411
        ],
        [
         [
          "beef",
          "root vegetables"
         ],
         108
        ],
        [
         [
          "beef",
          "other vegetables"
         ],
         99
        ],
        [
         [
          "beef",
          "whole milk"
         ],
         105
        ]
       ],
       "datasetInfos": [],
       "dbfsResultPath": null,
       "isJsonSchema": true,
       "metadata": {},
       "overflow": false,
       "plotOptions": {
        "customPlotOptions": {},
        "displayType": "table",
        "pivotAggregation": null,
        "pivotColumns": null,
        "xColumns": null,
        "yColumns": null
       },
       "removedWidgets": [],
       "schema": [
        {
         "metadata": "{}",
         "name": "items",
         "type": "{\"type\":\"array\",\"elementType\":\"string\",\"containsNull\":true}"
        },
        {
         "metadata": "{}",
         "name": "freq",
         "type": "\"long\""
        }
       ],
       "type": "table"
      }
     },
     "output_type": "display_data"
    }
   ],
   "source": [
    "# Display frequent itemsets.\n",
    "display(model.freqItemsets)"
   ]
  },
  {
   "cell_type": "code",
   "execution_count": 0,
   "metadata": {
    "application/vnd.databricks.v1+cell": {
     "cellMetadata": {},
     "inputWidgets": {},
     "nuid": "c7afc699-0582-4ed3-8e82-8483a8314f90",
     "showTitle": false,
     "title": ""
    }
   },
   "outputs": [
    {
     "data": {
      "text/html": [
       "<style scoped>\n",
       "  .table-result-container {\n",
       "    max-height: 300px;\n",
       "    overflow: auto;\n",
       "  }\n",
       "  table, th, td {\n",
       "    border: 1px solid black;\n",
       "    border-collapse: collapse;\n",
       "  }\n",
       "  th, td {\n",
       "    padding: 5px;\n",
       "  }\n",
       "  th {\n",
       "    text-align: left;\n",
       "  }\n",
       "</style><div class='table-result-container'><table class='table-result'><thead style='background-color: white'><tr><th>antecedent</th><th>consequent</th><th>confidence</th><th>lift</th><th>support</th></tr></thead><tbody><tr><td>List(other vegetables)</td><td>List(citrus fruit)</td><td>0.1107850330154072</td><td>1.3562565221948297</td><td>0.01915271435819381</td></tr><tr><td>List(other vegetables)</td><td>List(chicken)</td><td>0.0748349229640499</td><td>1.7664626726005073</td><td>0.01293759512937595</td></tr><tr><td>List(other vegetables)</td><td>List(whole milk)</td><td>0.30007336757153336</td><td>1.3358432693020716</td><td>0.05187721968543886</td></tr><tr><td>List(other vegetables)</td><td>List(pip fruit)</td><td>0.0946441672780631</td><td>1.2625628000342632</td><td>0.016362252663622526</td></tr><tr><td>List(other vegetables)</td><td>List(rolls/buns)</td><td>0.08143800440205429</td><td>0.6551604354140775</td><td>0.014079147640791476</td></tr><tr><td>List(other vegetables)</td><td>List(frankfurter)</td><td>0.061628760088041086</td><td>1.018618751643849</td><td>0.0106544901065449</td></tr><tr><td>List(other vegetables)</td><td>List(tropical fruit)</td><td>0.1401320616287601</td><td>1.3294839637558902</td><td>0.024226281075596143</td></tr><tr><td>List(other vegetables)</td><td>List(root vegetables)</td><td>0.1966250917094644</td><td>1.9499273245753679</td><td>0.033992897006595635</td></tr><tr><td>List(other vegetables)</td><td>List(pork)</td><td>0.08437270726338958</td><td>1.4492253247593976</td><td>0.014586504312531709</td></tr><tr><td>List(other vegetables)</td><td>List(hamburger meat)</td><td>0.058694057226705794</td><td>1.7202377218414442</td><td>0.010147133434804667</td></tr><tr><td>List(other vegetables)</td><td>List(yogurt)</td><td>0.10564930300807043</td><td>1.0503645711420269</td><td>0.0182648401826484</td></tr><tr><td>List(other vegetables)</td><td>List(sausage)</td><td>0.12032281731474688</td><td>1.254795094853789</td><td>0.020801623541349568</td></tr><tr><td>List(other vegetables)</td><td>List(beef)</td><td>0.07263389581804842</td><td>1.393298381093659</td><td>0.012557077625570776</td></tr><tr><td>List(pastry)</td><td>List(whole milk)</td><td>0.23543123543123542</td><td>1.0480744551890797</td><td>0.012810755961440892</td></tr><tr><td>List(whipped/sour cream)</td><td>List(whole milk)</td><td>0.27692307692307694</td><td>1.2327846066976502</td><td>0.01141552511415525</td></tr><tr><td>List(yogurt)</td><td>List(citrus fruit)</td><td>0.10970996216897856</td><td>1.3430952511494207</td><td>0.011035007610350075</td></tr><tr><td>List(yogurt)</td><td>List(rolls/buns)</td><td>0.11853720050441362</td><td>0.953619682425303</td><td>0.011922881785895484</td></tr><tr><td>List(yogurt)</td><td>List(other vegetables)</td><td>0.18158890290037832</td><td>1.0503645711420269</td><td>0.0182648401826484</td></tr><tr><td>List(yogurt)</td><td>List(tropical fruit)</td><td>0.13366960907944514</td><td>1.2681723200750248</td><td>0.013444951801116184</td></tr><tr><td>List(yogurt)</td><td>List(whole milk)</td><td>0.27490542244640603</td><td>1.2238025694903811</td><td>0.027650938609842718</td></tr><tr><td>List(rolls/buns)</td><td>List(other vegetables)</td><td>0.11326530612244898</td><td>0.6551604354140775</td><td>0.014079147640791476</td></tr><tr><td>List(rolls/buns)</td><td>List(whole milk)</td><td>0.1846938775510204</td><td>0.8222058332084952</td><td>0.02295788939624556</td></tr><tr><td>List(rolls/buns)</td><td>List(soda)</td><td>0.1326530612244898</td><td>1.2863920475939454</td><td>0.016489091831557584</td></tr><tr><td>List(rolls/buns)</td><td>List(yogurt)</td><td>0.09591836734693877</td><td>0.953619682425303</td><td>0.011922881785895484</td></tr><tr><td>List(rolls/buns)</td><td>List(sausage)</td><td>0.14081632653061224</td><td>1.4685131195335277</td><td>0.01750380517503805</td></tr><tr><td>List(tropical fruit)</td><td>List(citrus fruit)</td><td>0.18531889290012032</td><td>2.2687176267461937</td><td>0.019533231861998984</td></tr><tr><td>List(tropical fruit)</td><td>List(pip fruit)</td><td>0.19614921780986763</td><td>2.6166504792098078</td><td>0.02067478437341451</td></tr><tr><td>List(tropical fruit)</td><td>List(other vegetables)</td><td>0.22984356197352587</td><td>1.32948396375589</td><td>0.024226281075596143</td></tr><tr><td>List(tropical fruit)</td><td>List(whole milk)</td><td>0.2539109506618532</td><td>1.1303410135618581</td><td>0.02676306443429731</td></tr><tr><td>List(tropical fruit)</td><td>List(root vegetables)</td><td>0.16125150421179302</td><td>1.5991281247871398</td><td>0.016996448503297817</td></tr><tr><td>List(tropical fruit)</td><td>List(yogurt)</td><td>0.12755716004813478</td><td>1.2681723200750248</td><td>0.013444951801116184</td></tr><tr><td>List(tropical fruit)</td><td>List(sausage)</td><td>0.12033694344163658</td><td>1.2549424101770672</td><td>0.012683916793505834</td></tr><tr><td>List(chicken)</td><td>List(other vegetables)</td><td>0.30538922155688625</td><td>1.766462672600507</td><td>0.01293759512937595</td></tr><tr><td>List(chicken)</td><td>List(whole milk)</td><td>0.23652694610778444</td><td>1.052952254722627</td><td>0.010020294266869609</td></tr><tr><td>List(bottled water)</td><td>List(whole milk)</td><td>0.17083333333333334</td><td>0.7605025409373236</td><td>0.010400811770674784</td></tr><tr><td>List(sausage)</td><td>List(citrus fruit)</td><td>0.11375661375661375</td><td>1.3926353149955635</td><td>0.010908168442415017</td></tr><tr><td>List(sausage)</td><td>List(pip fruit)</td><td>0.11243386243386243</td><td>1.4998791394730482</td><td>0.010781329274479959</td></tr><tr><td>List(sausage)</td><td>List(rolls/buns)</td><td>0.18253968253968253</td><td>1.4685131195335277</td><td>0.01750380517503805</td></tr><tr><td>List(sausage)</td><td>List(root vegetables)</td><td>0.12301587301587301</td><td>1.2199460916442049</td><td>0.011796042617960426</td></tr><tr><td>List(sausage)</td><td>List(other vegetables)</td><td>0.21693121693121692</td><td>1.2547950948537887</td><td>0.020801623541349568</td></tr><tr><td>List(sausage)</td><td>List(tropical fruit)</td><td>0.13227513227513227</td><td>1.2549424101770672</td><td>0.012683916793505834</td></tr><tr><td>List(sausage)</td><td>List(whole milk)</td><td>0.21164021164021163</td><td>0.9421634266354763</td><td>0.020294266869609334</td></tr><tr><td>List(curd)</td><td>List(whole milk)</td><td>0.38613861386138615</td><td>1.7189818360718059</td><td>0.014840182648401826</td></tr><tr><td>List(citrus fruit)</td><td>List(root vegetables)</td><td>0.16925465838509315</td><td>1.6784952537208484</td><td>0.013825469304921359</td></tr><tr><td>List(citrus fruit)</td><td>List(sausage)</td><td>0.13354037267080746</td><td>1.3926353149955635</td><td>0.010908168442415017</td></tr><tr><td>List(citrus fruit)</td><td>List(other vegetables)</td><td>0.234472049689441</td><td>1.3562565221948295</td><td>0.01915271435819381</td></tr><tr><td>List(citrus fruit)</td><td>List(tropical fruit)</td><td>0.2391304347826087</td><td>2.2687176267461937</td><td>0.019533231861998984</td></tr><tr><td>List(citrus fruit)</td><td>List(yogurt)</td><td>0.13509316770186336</td><td>1.343095251149421</td><td>0.011035007610350075</td></tr><tr><td>List(citrus fruit)</td><td>List(whole milk)</td><td>0.22981366459627328</td><td>1.023066590444392</td><td>0.018772196854388634</td></tr><tr><td>List(citrus fruit)</td><td>List(pip fruit)</td><td>0.15993788819875776</td><td>2.1335876659204844</td><td>0.013064434297311009</td></tr><tr><td>List(whole milk)</td><td>List(citrus fruit)</td><td>0.08356860530773574</td><td>1.0230665904443923</td><td>0.018772196854388634</td></tr><tr><td>List(whole milk)</td><td>List(chicken)</td><td>0.044607566346696784</td><td>1.052952254722627</td><td>0.010020294266869609</td></tr><tr><td>List(whole milk)</td><td>List(other vegetables)</td><td>0.23094297007340486</td><td>1.3358432693020719</td><td>0.05187721968543886</td></tr><tr><td>List(whole milk)</td><td>List(pip fruit)</td><td>0.0818746470920384</td><td>1.0922161043547052</td><td>0.01839167935058346</td></tr><tr><td>List(whole milk)</td><td>List(rolls/buns)</td><td>0.10220214568040654</td><td>0.8222058332084952</td><td>0.02295788939624556</td></tr><tr><td>List(whole milk)</td><td>List(bottled water)</td><td>0.04630152456239413</td><td>0.7605025409373236</td><td>0.010400811770674784</td></tr><tr><td>List(whole milk)</td><td>List(whipped/sour cream)</td><td>0.050818746470920384</td><td>1.2327846066976502</td><td>0.01141552511415525</td></tr><tr><td>List(whole milk)</td><td>List(frankfurter)</td><td>0.058723884810841336</td><td>0.9706060961188115</td><td>0.013191273465246067</td></tr><tr><td>List(whole milk)</td><td>List(butter)</td><td>0.06832298136645963</td><td>1.7376076938489282</td><td>0.015347539320142059</td></tr><tr><td>List(whole milk)</td><td>List(tropical fruit)</td><td>0.11914172783738002</td><td>1.1303410135618581</td><td>0.02676306443429731</td></tr><tr><td>List(whole milk)</td><td>List(curd)</td><td>0.0660643704121965</td><td>1.7189818360718059</td><td>0.014840182648401826</td></tr><tr><td>List(whole milk)</td><td>List(root vegetables)</td><td>0.13777526821005082</td><td>1.3663147353057115</td><td>0.030948756976154235</td></tr><tr><td>List(whole milk)</td><td>List(pork)</td><td>0.06041784302653868</td><td>1.0377653037499586</td><td>0.013571790969051242</td></tr><tr><td>List(whole milk)</td><td>List(pastry)</td><td>0.057029926595143984</td><td>1.0480744551890797</td><td>0.012810755961440892</td></tr><tr><td>List(whole milk)</td><td>List(yogurt)</td><td>0.12309429700734048</td><td>1.2238025694903814</td><td>0.027650938609842718</td></tr><tr><td>List(whole milk)</td><td>List(sausage)</td><td>0.09034443817052512</td><td>0.9421634266354764</td><td>0.020294266869609334</td></tr><tr><td>List(whole milk)</td><td>List(beef)</td><td>0.05928853754940711</td><td>1.1373012896338826</td><td>0.013318112633181126</td></tr><tr><td>List(frankfurter)</td><td>List(other vegetables)</td><td>0.1761006289308176</td><td>1.0186187516438487</td><td>0.0106544901065449</td></tr><tr><td>List(frankfurter)</td><td>List(whole milk)</td><td>0.2180293501048218</td><td>0.9706060961188114</td><td>0.013191273465246067</td></tr><tr><td>List(beef)</td><td>List(root vegetables)</td><td>0.26277372262773724</td><td>2.6059220493045037</td><td>0.0136986301369863</td></tr><tr><td>List(beef)</td><td>List(other vegetables)</td><td>0.24087591240875914</td><td>1.3932983810936588</td><td>0.012557077625570776</td></tr><tr><td>List(beef)</td><td>List(whole milk)</td><td>0.25547445255474455</td><td>1.1373012896338826</td><td>0.013318112633181126</td></tr><tr><td>List(soda)</td><td>List(rolls/buns)</td><td>0.15990159901599016</td><td>1.2863920475939454</td><td>0.016489091831557584</td></tr><tr><td>List(hamburger meat)</td><td>List(other vegetables)</td><td>0.29739776951672864</td><td>1.7202377218414442</td><td>0.010147133434804667</td></tr><tr><td>List(pip fruit)</td><td>List(citrus fruit)</td><td>0.17428087986463622</td><td>2.1335876659204844</td><td>0.013064434297311009</td></tr><tr><td>List(pip fruit)</td><td>List(root vegetables)</td><td>0.16243654822335024</td><td>1.6108801838904319</td><td>0.0121765601217656</td></tr><tr><td>List(pip fruit)</td><td>List(sausage)</td><td>0.14382402707275804</td><td>1.4998791394730482</td><td>0.010781329274479959</td></tr><tr><td>List(pip fruit)</td><td>List(other vegetables)</td><td>0.2182741116751269</td><td>1.262562800034263</td><td>0.016362252663622526</td></tr><tr><td>List(pip fruit)</td><td>List(tropical fruit)</td><td>0.27580372250423013</td><td>2.616650479209808</td><td>0.02067478437341451</td></tr><tr><td>List(pip fruit)</td><td>List(whole milk)</td><td>0.24534686971235195</td><td>1.0922161043547052</td><td>0.01839167935058346</td></tr><tr><td>List(root vegetables)</td><td>List(citrus fruit)</td><td>0.1371069182389937</td><td>1.6784952537208486</td><td>0.013825469304921359</td></tr><tr><td>List(root vegetables)</td><td>List(pip fruit)</td><td>0.12075471698113208</td><td>1.610880183890432</td><td>0.0121765601217656</td></tr><tr><td>List(root vegetables)</td><td>List(other vegetables)</td><td>0.3371069182389937</td><td>1.9499273245753677</td><td>0.033992897006595635</td></tr><tr><td>List(root vegetables)</td><td>List(tropical fruit)</td><td>0.16855345911949685</td><td>1.5991281247871398</td><td>0.016996448503297817</td></tr><tr><td>List(root vegetables)</td><td>List(whole milk)</td><td>0.3069182389937107</td><td>1.3663147353057115</td><td>0.030948756976154235</td></tr><tr><td>List(root vegetables)</td><td>List(pork)</td><td>0.10817610062893082</td><td>1.8580836108028118</td><td>0.010908168442415017</td></tr><tr><td>List(root vegetables)</td><td>List(sausage)</td><td>0.1169811320754717</td><td>1.2199460916442049</td><td>0.011796042617960426</td></tr><tr><td>List(root vegetables)</td><td>List(beef)</td><td>0.13584905660377358</td><td>2.6059220493045037</td><td>0.0136986301369863</td></tr><tr><td>List(pork)</td><td>List(root vegetables)</td><td>0.18736383442265794</td><td>1.8580836108028118</td><td>0.010908168442415017</td></tr><tr><td>List(pork)</td><td>List(other vegetables)</td><td>0.25054466230936817</td><td>1.4492253247593974</td><td>0.014586504312531709</td></tr><tr><td>List(pork)</td><td>List(whole milk)</td><td>0.23311546840958605</td><td>1.0377653037499583</td><td>0.013571790969051242</td></tr><tr><td>List(butter)</td><td>List(whole milk)</td><td>0.3903225806451613</td><td>1.737607693848928</td><td>0.015347539320142059</td></tr></tbody></table></div>"
      ]
     },
     "metadata": {
      "application/vnd.databricks.v1+output": {
       "addedWidgets": {},
       "aggData": [],
       "aggError": "",
       "aggOverflow": false,
       "aggSchema": [],
       "aggSeriesLimitReached": false,
       "aggType": "",
       "arguments": {},
       "columnCustomDisplayInfos": {},
       "data": [
        [
         [
          "other vegetables"
         ],
         [
          "citrus fruit"
         ],
         0.1107850330154072,
         1.3562565221948297,
         0.01915271435819381
        ],
        [
         [
          "other vegetables"
         ],
         [
          "chicken"
         ],
         0.0748349229640499,
         1.7664626726005073,
         0.01293759512937595
        ],
        [
         [
          "other vegetables"
         ],
         [
          "whole milk"
         ],
         0.30007336757153336,
         1.3358432693020716,
         0.05187721968543886
        ],
        [
         [
          "other vegetables"
         ],
         [
          "pip fruit"
         ],
         0.0946441672780631,
         1.2625628000342632,
         0.016362252663622526
        ],
        [
         [
          "other vegetables"
         ],
         [
          "rolls/buns"
         ],
         0.08143800440205429,
         0.6551604354140775,
         0.014079147640791476
        ],
        [
         [
          "other vegetables"
         ],
         [
          "frankfurter"
         ],
         0.061628760088041086,
         1.018618751643849,
         0.0106544901065449
        ],
        [
         [
          "other vegetables"
         ],
         [
          "tropical fruit"
         ],
         0.1401320616287601,
         1.3294839637558902,
         0.024226281075596143
        ],
        [
         [
          "other vegetables"
         ],
         [
          "root vegetables"
         ],
         0.1966250917094644,
         1.9499273245753679,
         0.033992897006595635
        ],
        [
         [
          "other vegetables"
         ],
         [
          "pork"
         ],
         0.08437270726338958,
         1.4492253247593976,
         0.014586504312531709
        ],
        [
         [
          "other vegetables"
         ],
         [
          "hamburger meat"
         ],
         0.058694057226705794,
         1.7202377218414442,
         0.010147133434804667
        ],
        [
         [
          "other vegetables"
         ],
         [
          "yogurt"
         ],
         0.10564930300807043,
         1.0503645711420269,
         0.0182648401826484
        ],
        [
         [
          "other vegetables"
         ],
         [
          "sausage"
         ],
         0.12032281731474688,
         1.254795094853789,
         0.020801623541349568
        ],
        [
         [
          "other vegetables"
         ],
         [
          "beef"
         ],
         0.07263389581804842,
         1.393298381093659,
         0.012557077625570776
        ],
        [
         [
          "pastry"
         ],
         [
          "whole milk"
         ],
         0.23543123543123542,
         1.0480744551890797,
         0.012810755961440892
        ],
        [
         [
          "whipped/sour cream"
         ],
         [
          "whole milk"
         ],
         0.27692307692307694,
         1.2327846066976502,
         0.01141552511415525
        ],
        [
         [
          "yogurt"
         ],
         [
          "citrus fruit"
         ],
         0.10970996216897856,
         1.3430952511494207,
         0.011035007610350075
        ],
        [
         [
          "yogurt"
         ],
         [
          "rolls/buns"
         ],
         0.11853720050441362,
         0.953619682425303,
         0.011922881785895484
        ],
        [
         [
          "yogurt"
         ],
         [
          "other vegetables"
         ],
         0.18158890290037832,
         1.0503645711420269,
         0.0182648401826484
        ],
        [
         [
          "yogurt"
         ],
         [
          "tropical fruit"
         ],
         0.13366960907944514,
         1.2681723200750248,
         0.013444951801116184
        ],
        [
         [
          "yogurt"
         ],
         [
          "whole milk"
         ],
         0.27490542244640603,
         1.2238025694903811,
         0.027650938609842718
        ],
        [
         [
          "rolls/buns"
         ],
         [
          "other vegetables"
         ],
         0.11326530612244898,
         0.6551604354140775,
         0.014079147640791476
        ],
        [
         [
          "rolls/buns"
         ],
         [
          "whole milk"
         ],
         0.1846938775510204,
         0.8222058332084952,
         0.02295788939624556
        ],
        [
         [
          "rolls/buns"
         ],
         [
          "soda"
         ],
         0.1326530612244898,
         1.2863920475939454,
         0.016489091831557584
        ],
        [
         [
          "rolls/buns"
         ],
         [
          "yogurt"
         ],
         0.09591836734693877,
         0.953619682425303,
         0.011922881785895484
        ],
        [
         [
          "rolls/buns"
         ],
         [
          "sausage"
         ],
         0.14081632653061224,
         1.4685131195335277,
         0.01750380517503805
        ],
        [
         [
          "tropical fruit"
         ],
         [
          "citrus fruit"
         ],
         0.18531889290012032,
         2.2687176267461937,
         0.019533231861998984
        ],
        [
         [
          "tropical fruit"
         ],
         [
          "pip fruit"
         ],
         0.19614921780986763,
         2.6166504792098078,
         0.02067478437341451
        ],
        [
         [
          "tropical fruit"
         ],
         [
          "other vegetables"
         ],
         0.22984356197352587,
         1.32948396375589,
         0.024226281075596143
        ],
        [
         [
          "tropical fruit"
         ],
         [
          "whole milk"
         ],
         0.2539109506618532,
         1.1303410135618581,
         0.02676306443429731
        ],
        [
         [
          "tropical fruit"
         ],
         [
          "root vegetables"
         ],
         0.16125150421179302,
         1.5991281247871398,
         0.016996448503297817
        ],
        [
         [
          "tropical fruit"
         ],
         [
          "yogurt"
         ],
         0.12755716004813478,
         1.2681723200750248,
         0.013444951801116184
        ],
        [
         [
          "tropical fruit"
         ],
         [
          "sausage"
         ],
         0.12033694344163658,
         1.2549424101770672,
         0.012683916793505834
        ],
        [
         [
          "chicken"
         ],
         [
          "other vegetables"
         ],
         0.30538922155688625,
         1.766462672600507,
         0.01293759512937595
        ],
        [
         [
          "chicken"
         ],
         [
          "whole milk"
         ],
         0.23652694610778444,
         1.052952254722627,
         0.010020294266869609
        ],
        [
         [
          "bottled water"
         ],
         [
          "whole milk"
         ],
         0.17083333333333334,
         0.7605025409373236,
         0.010400811770674784
        ],
        [
         [
          "sausage"
         ],
         [
          "citrus fruit"
         ],
         0.11375661375661375,
         1.3926353149955635,
         0.010908168442415017
        ],
        [
         [
          "sausage"
         ],
         [
          "pip fruit"
         ],
         0.11243386243386243,
         1.4998791394730482,
         0.010781329274479959
        ],
        [
         [
          "sausage"
         ],
         [
          "rolls/buns"
         ],
         0.18253968253968253,
         1.4685131195335277,
         0.01750380517503805
        ],
        [
         [
          "sausage"
         ],
         [
          "root vegetables"
         ],
         0.12301587301587301,
         1.2199460916442049,
         0.011796042617960426
        ],
        [
         [
          "sausage"
         ],
         [
          "other vegetables"
         ],
         0.21693121693121692,
         1.2547950948537887,
         0.020801623541349568
        ],
        [
         [
          "sausage"
         ],
         [
          "tropical fruit"
         ],
         0.13227513227513227,
         1.2549424101770672,
         0.012683916793505834
        ],
        [
         [
          "sausage"
         ],
         [
          "whole milk"
         ],
         0.21164021164021163,
         0.9421634266354763,
         0.020294266869609334
        ],
        [
         [
          "curd"
         ],
         [
          "whole milk"
         ],
         0.38613861386138615,
         1.7189818360718059,
         0.014840182648401826
        ],
        [
         [
          "citrus fruit"
         ],
         [
          "root vegetables"
         ],
         0.16925465838509315,
         1.6784952537208484,
         0.013825469304921359
        ],
        [
         [
          "citrus fruit"
         ],
         [
          "sausage"
         ],
         0.13354037267080746,
         1.3926353149955635,
         0.010908168442415017
        ],
        [
         [
          "citrus fruit"
         ],
         [
          "other vegetables"
         ],
         0.234472049689441,
         1.3562565221948295,
         0.01915271435819381
        ],
        [
         [
          "citrus fruit"
         ],
         [
          "tropical fruit"
         ],
         0.2391304347826087,
         2.2687176267461937,
         0.019533231861998984
        ],
        [
         [
          "citrus fruit"
         ],
         [
          "yogurt"
         ],
         0.13509316770186336,
         1.343095251149421,
         0.011035007610350075
        ],
        [
         [
          "citrus fruit"
         ],
         [
          "whole milk"
         ],
         0.22981366459627328,
         1.023066590444392,
         0.018772196854388634
        ],
        [
         [
          "citrus fruit"
         ],
         [
          "pip fruit"
         ],
         0.15993788819875776,
         2.1335876659204844,
         0.013064434297311009
        ],
        [
         [
          "whole milk"
         ],
         [
          "citrus fruit"
         ],
         0.08356860530773574,
         1.0230665904443923,
         0.018772196854388634
        ],
        [
         [
          "whole milk"
         ],
         [
          "chicken"
         ],
         0.044607566346696784,
         1.052952254722627,
         0.010020294266869609
        ],
        [
         [
          "whole milk"
         ],
         [
          "other vegetables"
         ],
         0.23094297007340486,
         1.3358432693020719,
         0.05187721968543886
        ],
        [
         [
          "whole milk"
         ],
         [
          "pip fruit"
         ],
         0.0818746470920384,
         1.0922161043547052,
         0.01839167935058346
        ],
        [
         [
          "whole milk"
         ],
         [
          "rolls/buns"
         ],
         0.10220214568040654,
         0.8222058332084952,
         0.02295788939624556
        ],
        [
         [
          "whole milk"
         ],
         [
          "bottled water"
         ],
         0.04630152456239413,
         0.7605025409373236,
         0.010400811770674784
        ],
        [
         [
          "whole milk"
         ],
         [
          "whipped/sour cream"
         ],
         0.050818746470920384,
         1.2327846066976502,
         0.01141552511415525
        ],
        [
         [
          "whole milk"
         ],
         [
          "frankfurter"
         ],
         0.058723884810841336,
         0.9706060961188115,
         0.013191273465246067
        ],
        [
         [
          "whole milk"
         ],
         [
          "butter"
         ],
         0.06832298136645963,
         1.7376076938489282,
         0.015347539320142059
        ],
        [
         [
          "whole milk"
         ],
         [
          "tropical fruit"
         ],
         0.11914172783738002,
         1.1303410135618581,
         0.02676306443429731
        ],
        [
         [
          "whole milk"
         ],
         [
          "curd"
         ],
         0.0660643704121965,
         1.7189818360718059,
         0.014840182648401826
        ],
        [
         [
          "whole milk"
         ],
         [
          "root vegetables"
         ],
         0.13777526821005082,
         1.3663147353057115,
         0.030948756976154235
        ],
        [
         [
          "whole milk"
         ],
         [
          "pork"
         ],
         0.06041784302653868,
         1.0377653037499586,
         0.013571790969051242
        ],
        [
         [
          "whole milk"
         ],
         [
          "pastry"
         ],
         0.057029926595143984,
         1.0480744551890797,
         0.012810755961440892
        ],
        [
         [
          "whole milk"
         ],
         [
          "yogurt"
         ],
         0.12309429700734048,
         1.2238025694903814,
         0.027650938609842718
        ],
        [
         [
          "whole milk"
         ],
         [
          "sausage"
         ],
         0.09034443817052512,
         0.9421634266354764,
         0.020294266869609334
        ],
        [
         [
          "whole milk"
         ],
         [
          "beef"
         ],
         0.05928853754940711,
         1.1373012896338826,
         0.013318112633181126
        ],
        [
         [
          "frankfurter"
         ],
         [
          "other vegetables"
         ],
         0.1761006289308176,
         1.0186187516438487,
         0.0106544901065449
        ],
        [
         [
          "frankfurter"
         ],
         [
          "whole milk"
         ],
         0.2180293501048218,
         0.9706060961188114,
         0.013191273465246067
        ],
        [
         [
          "beef"
         ],
         [
          "root vegetables"
         ],
         0.26277372262773724,
         2.6059220493045037,
         0.0136986301369863
        ],
        [
         [
          "beef"
         ],
         [
          "other vegetables"
         ],
         0.24087591240875914,
         1.3932983810936588,
         0.012557077625570776
        ],
        [
         [
          "beef"
         ],
         [
          "whole milk"
         ],
         0.25547445255474455,
         1.1373012896338826,
         0.013318112633181126
        ],
        [
         [
          "soda"
         ],
         [
          "rolls/buns"
         ],
         0.15990159901599016,
         1.2863920475939454,
         0.016489091831557584
        ],
        [
         [
          "hamburger meat"
         ],
         [
          "other vegetables"
         ],
         0.29739776951672864,
         1.7202377218414442,
         0.010147133434804667
        ],
        [
         [
          "pip fruit"
         ],
         [
          "citrus fruit"
         ],
         0.17428087986463622,
         2.1335876659204844,
         0.013064434297311009
        ],
        [
         [
          "pip fruit"
         ],
         [
          "root vegetables"
         ],
         0.16243654822335024,
         1.6108801838904319,
         0.0121765601217656
        ],
        [
         [
          "pip fruit"
         ],
         [
          "sausage"
         ],
         0.14382402707275804,
         1.4998791394730482,
         0.010781329274479959
        ],
        [
         [
          "pip fruit"
         ],
         [
          "other vegetables"
         ],
         0.2182741116751269,
         1.262562800034263,
         0.016362252663622526
        ],
        [
         [
          "pip fruit"
         ],
         [
          "tropical fruit"
         ],
         0.27580372250423013,
         2.616650479209808,
         0.02067478437341451
        ],
        [
         [
          "pip fruit"
         ],
         [
          "whole milk"
         ],
         0.24534686971235195,
         1.0922161043547052,
         0.01839167935058346
        ],
        [
         [
          "root vegetables"
         ],
         [
          "citrus fruit"
         ],
         0.1371069182389937,
         1.6784952537208486,
         0.013825469304921359
        ],
        [
         [
          "root vegetables"
         ],
         [
          "pip fruit"
         ],
         0.12075471698113208,
         1.610880183890432,
         0.0121765601217656
        ],
        [
         [
          "root vegetables"
         ],
         [
          "other vegetables"
         ],
         0.3371069182389937,
         1.9499273245753677,
         0.033992897006595635
        ],
        [
         [
          "root vegetables"
         ],
         [
          "tropical fruit"
         ],
         0.16855345911949685,
         1.5991281247871398,
         0.016996448503297817
        ],
        [
         [
          "root vegetables"
         ],
         [
          "whole milk"
         ],
         0.3069182389937107,
         1.3663147353057115,
         0.030948756976154235
        ],
        [
         [
          "root vegetables"
         ],
         [
          "pork"
         ],
         0.10817610062893082,
         1.8580836108028118,
         0.010908168442415017
        ],
        [
         [
          "root vegetables"
         ],
         [
          "sausage"
         ],
         0.1169811320754717,
         1.2199460916442049,
         0.011796042617960426
        ],
        [
         [
          "root vegetables"
         ],
         [
          "beef"
         ],
         0.13584905660377358,
         2.6059220493045037,
         0.0136986301369863
        ],
        [
         [
          "pork"
         ],
         [
          "root vegetables"
         ],
         0.18736383442265794,
         1.8580836108028118,
         0.010908168442415017
        ],
        [
         [
          "pork"
         ],
         [
          "other vegetables"
         ],
         0.25054466230936817,
         1.4492253247593974,
         0.014586504312531709
        ],
        [
         [
          "pork"
         ],
         [
          "whole milk"
         ],
         0.23311546840958605,
         1.0377653037499583,
         0.013571790969051242
        ],
        [
         [
          "butter"
         ],
         [
          "whole milk"
         ],
         0.3903225806451613,
         1.737607693848928,
         0.015347539320142059
        ]
       ],
       "datasetInfos": [],
       "dbfsResultPath": null,
       "isJsonSchema": true,
       "metadata": {},
       "overflow": false,
       "plotOptions": {
        "customPlotOptions": {},
        "displayType": "table",
        "pivotAggregation": null,
        "pivotColumns": null,
        "xColumns": null,
        "yColumns": null
       },
       "removedWidgets": [],
       "schema": [
        {
         "metadata": "{}",
         "name": "antecedent",
         "type": "{\"type\":\"array\",\"elementType\":\"string\",\"containsNull\":true}"
        },
        {
         "metadata": "{}",
         "name": "consequent",
         "type": "{\"type\":\"array\",\"elementType\":\"string\",\"containsNull\":true}"
        },
        {
         "metadata": "{}",
         "name": "confidence",
         "type": "\"double\""
        },
        {
         "metadata": "{}",
         "name": "lift",
         "type": "\"double\""
        },
        {
         "metadata": "{}",
         "name": "support",
         "type": "\"double\""
        }
       ],
       "type": "table"
      }
     },
     "output_type": "display_data"
    }
   ],
   "source": [
    "# Display generated association rules.\n",
    "display(model.associationRules)"
   ]
  },
  {
   "cell_type": "code",
   "execution_count": 0,
   "metadata": {
    "application/vnd.databricks.v1+cell": {
     "cellMetadata": {},
     "inputWidgets": {},
     "nuid": "70d2247e-5ea6-4e9b-94c0-8dc61656cbb7",
     "showTitle": false,
     "title": ""
    }
   },
   "outputs": [
    {
     "data": {
      "text/html": [
       "<style scoped>\n",
       "  .table-result-container {\n",
       "    max-height: 300px;\n",
       "    overflow: auto;\n",
       "  }\n",
       "  table, th, td {\n",
       "    border: 1px solid black;\n",
       "    border-collapse: collapse;\n",
       "  }\n",
       "  th, td {\n",
       "    padding: 5px;\n",
       "  }\n",
       "  th {\n",
       "    text-align: left;\n",
       "  }\n",
       "</style><div class='table-result-container'><table class='table-result'><thead style='background-color: white'><tr><th>id</th><th>items</th><th>prediction</th></tr></thead><tbody><tr><td>13</td><td>List(frankfurter, rolls/buns, soda)</td><td>List(other vegetables, whole milk, yogurt, sausage)</td></tr><tr><td>19</td><td>List(specialty bar)</td><td>List()</td></tr><tr><td>25</td><td>List(bottled water, canned beer)</td><td>List(whole milk)</td></tr><tr><td>37</td><td>List(canned beer)</td><td>List()</td></tr><tr><td>44</td><td>List(butter milk, yogurt, cream cheese, spread cheese)</td><td>List(citrus fruit, rolls/buns, other vegetables, tropical fruit, whole milk)</td></tr><tr><td>46</td><td>List(pastry, bottled water)</td><td>List(whole milk)</td></tr><tr><td>56</td><td>List(packaged fruit/vegetables, brown bread, canned beer)</td><td>List()</td></tr><tr><td>59</td><td>List(rolls/buns, pastry, sugar)</td><td>List(whole milk, other vegetables, soda, yogurt, sausage)</td></tr><tr><td>60</td><td>List(other vegetables, whole milk, frozen vegetables, canned fish)</td><td>List(citrus fruit, chicken, pip fruit, rolls/buns, frankfurter, tropical fruit, root vegetables, pork, hamburger meat, yogurt, sausage, beef, bottled water, whipped/sour cream, butter, curd, pastry)</td></tr><tr><td>65</td><td>List(whole milk)</td><td>List(citrus fruit, chicken, other vegetables, pip fruit, rolls/buns, bottled water, whipped/sour cream, frankfurter, butter, tropical fruit, curd, root vegetables, pork, pastry, yogurt, sausage, beef)</td></tr><tr><td>66</td><td>List(curd cheese, coffee)</td><td>List()</td></tr><tr><td>70</td><td>List(red/blush wine)</td><td>List()</td></tr><tr><td>96</td><td>List(sausage, sliced cheese, rolls/buns, brown bread)</td><td>List(other vegetables, whole milk, soda, yogurt, citrus fruit, pip fruit, root vegetables, tropical fruit)</td></tr><tr><td>103</td><td>List(sausage, whole milk, yogurt, coffee)</td><td>List(citrus fruit, rolls/buns, other vegetables, tropical fruit, pip fruit, root vegetables, chicken, bottled water, whipped/sour cream, frankfurter, butter, curd, pork, pastry, beef)</td></tr><tr><td>106</td><td>List(beef, citrus fruit, berries, root vegetables)</td><td>List(sausage, other vegetables, tropical fruit, yogurt, whole milk, pip fruit, pork)</td></tr><tr><td>110</td><td>List(frankfurter, sausage, root vegetables, other vegetables)</td><td>List(citrus fruit, chicken, whole milk, pip fruit, rolls/buns, tropical fruit, pork, hamburger meat, yogurt, beef)</td></tr><tr><td>112</td><td>List(whole milk, dessert, frozen vegetables, rolls/buns)</td><td>List(other vegetables, soda, yogurt, sausage, citrus fruit, chicken, pip fruit, bottled water, whipped/sour cream, frankfurter, butter, tropical fruit, curd, root vegetables, pork, pastry, beef)</td></tr><tr><td>120</td><td>List(frankfurter, sausage, long life bakery product, waffles)</td><td>List(citrus fruit, pip fruit, rolls/buns, root vegetables, other vegetables, tropical fruit, whole milk)</td></tr><tr><td>123</td><td>List(other vegetables, red/blush wine)</td><td>List(citrus fruit, chicken, whole milk, pip fruit, rolls/buns, frankfurter, tropical fruit, root vegetables, pork, hamburger meat, yogurt, sausage, beef)</td></tr><tr><td>134</td><td>List(curd, flour, liquor (appetizer))</td><td>List(whole milk)</td></tr><tr><td>144</td><td>List(citrus fruit, butter, cream cheese, white bread)</td><td>List(root vegetables, sausage, other vegetables, tropical fruit, yogurt, whole milk, pip fruit)</td></tr><tr><td>145</td><td>List(frankfurter, rolls/buns)</td><td>List(other vegetables, whole milk, soda, yogurt, sausage)</td></tr><tr><td>150</td><td>List(other vegetables, whole milk, meat spreads, cake bar)</td><td>List(citrus fruit, chicken, pip fruit, rolls/buns, frankfurter, tropical fruit, root vegetables, pork, hamburger meat, yogurt, sausage, beef, bottled water, whipped/sour cream, butter, curd, pastry)</td></tr><tr><td>156</td><td>List(popcorn)</td><td>List()</td></tr><tr><td>160</td><td>List(whole milk, butter, dessert, rolls/buns)</td><td>List(other vegetables, soda, yogurt, sausage, citrus fruit, chicken, pip fruit, bottled water, whipped/sour cream, frankfurter, tropical fruit, curd, root vegetables, pork, pastry, beef)</td></tr><tr><td>174</td><td>List(curd, dessert, soda, salty snack)</td><td>List(whole milk, rolls/buns)</td></tr><tr><td>180</td><td>List(ham, whole milk, rolls/buns)</td><td>List(other vegetables, soda, yogurt, sausage, citrus fruit, chicken, pip fruit, bottled water, whipped/sour cream, frankfurter, butter, tropical fruit, curd, root vegetables, pork, pastry, beef)</td></tr><tr><td>181</td><td>List(other vegetables, ice cream)</td><td>List(citrus fruit, chicken, whole milk, pip fruit, rolls/buns, frankfurter, tropical fruit, root vegetables, pork, hamburger meat, yogurt, sausage, beef)</td></tr><tr><td>184</td><td>List(herbs, candy)</td><td>List()</td></tr><tr><td>191</td><td>List(specialty bar)</td><td>List()</td></tr><tr><td>192</td><td>List(curd, salt, liquor (appetizer), detergent)</td><td>List(whole milk)</td></tr><tr><td>193</td><td>List(frankfurter, rolls/buns)</td><td>List(other vegetables, whole milk, soda, yogurt, sausage)</td></tr><tr><td>196</td><td>List(canned beer)</td><td>List()</td></tr><tr><td>215</td><td>List(beverages)</td><td>List()</td></tr><tr><td>217</td><td>List(bottled water, fruit/vegetable juice)</td><td>List(whole milk)</td></tr><tr><td>219</td><td>List(cleaner, female sanitary products)</td><td>List()</td></tr><tr><td>230</td><td>List(tropical fruit, berries, root vegetables, other vegetables)</td><td>List(citrus fruit, chicken, whole milk, pip fruit, rolls/buns, frankfurter, pork, hamburger meat, yogurt, sausage, beef)</td></tr><tr><td>239</td><td>List(citrus fruit, whole milk, curd, dessert)</td><td>List(root vegetables, sausage, other vegetables, tropical fruit, yogurt, pip fruit, chicken, rolls/buns, bottled water, whipped/sour cream, frankfurter, butter, pork, pastry, beef)</td></tr><tr><td>249</td><td>List(whole milk, beverages)</td><td>List(citrus fruit, chicken, other vegetables, pip fruit, rolls/buns, bottled water, whipped/sour cream, frankfurter, butter, tropical fruit, curd, root vegetables, pork, pastry, yogurt, sausage, beef)</td></tr><tr><td>250</td><td>List(rolls/buns, soda)</td><td>List(other vegetables, whole milk, yogurt, sausage)</td></tr><tr><td>255</td><td>List(root vegetables, other vegetables, yogurt)</td><td>List(citrus fruit, chicken, whole milk, pip fruit, rolls/buns, frankfurter, tropical fruit, pork, hamburger meat, sausage, beef)</td></tr><tr><td>258</td><td>List(sausage, citrus fruit, tropical fruit, other vegetables)</td><td>List(chicken, whole milk, pip fruit, rolls/buns, frankfurter, root vegetables, pork, hamburger meat, yogurt, beef)</td></tr><tr><td>259</td><td>List(root vegetables, whole milk, pet care, detergent)</td><td>List(citrus fruit, chicken, other vegetables, pip fruit, rolls/buns, bottled water, whipped/sour cream, frankfurter, butter, tropical fruit, curd, pork, pastry, yogurt, sausage, beef)</td></tr><tr><td>268</td><td>List(canned beer)</td><td>List()</td></tr><tr><td>275</td><td>List(hamburger meat, other vegetables, whole milk, curd)</td><td>List(citrus fruit, chicken, pip fruit, rolls/buns, frankfurter, tropical fruit, root vegetables, pork, yogurt, sausage, beef, bottled water, whipped/sour cream, butter, pastry)</td></tr><tr><td>297</td><td>List(candy)</td><td>List()</td></tr><tr><td>298</td><td>List(newspapers)</td><td>List()</td></tr><tr><td>310</td><td>List(chicken, whole milk, spices, long life bakery product)</td><td>List(other vegetables, citrus fruit, pip fruit, rolls/buns, bottled water, whipped/sour cream, frankfurter, butter, tropical fruit, curd, root vegetables, pork, pastry, yogurt, sausage, beef)</td></tr><tr><td>324</td><td>List(frankfurter, other vegetables, yogurt, brown bread)</td><td>List(citrus fruit, chicken, whole milk, pip fruit, rolls/buns, tropical fruit, root vegetables, pork, hamburger meat, sausage, beef)</td></tr><tr><td>326</td><td>List(margarine, hygiene articles)</td><td>List()</td></tr><tr><td>327</td><td>List(tropical fruit, yogurt, rolls/buns, soda)</td><td>List(citrus fruit, other vegetables, whole milk, sausage, pip fruit, root vegetables)</td></tr><tr><td>331</td><td>List(soda, specialty chocolate)</td><td>List(rolls/buns)</td></tr><tr><td>334</td><td>List(bottled water)</td><td>List(whole milk)</td></tr><tr><td>346</td><td>List(citrus fruit)</td><td>List(root vegetables, sausage, other vegetables, tropical fruit, yogurt, whole milk, pip fruit)</td></tr><tr><td>348</td><td>List(root vegetables, whole milk, butter, processed cheese)</td><td>List(citrus fruit, chicken, other vegetables, pip fruit, rolls/buns, bottled water, whipped/sour cream, frankfurter, tropical fruit, curd, pork, pastry, yogurt, sausage, beef)</td></tr><tr><td>350</td><td>List(beef, hamburger meat, pip fruit)</td><td>List(root vegetables, other vegetables, whole milk, citrus fruit, sausage, tropical fruit)</td></tr><tr><td>353</td><td>List(whipped/sour cream, canned beer, red/blush wine)</td><td>List(whole milk)</td></tr><tr><td>354</td><td>List(root vegetables, domestic eggs, margarine, chocolate marshmallow)</td><td>List(citrus fruit, pip fruit, other vegetables, tropical fruit, whole milk, pork, sausage, beef)</td></tr><tr><td>359</td><td>List(whole milk, hygiene articles)</td><td>List(citrus fruit, chicken, other vegetables, pip fruit, rolls/buns, bottled water, whipped/sour cream, frankfurter, butter, tropical fruit, curd, root vegetables, pork, pastry, yogurt, sausage, beef)</td></tr><tr><td>373</td><td>List(other vegetables, butter milk, frozen meals, bottled water)</td><td>List(citrus fruit, chicken, whole milk, pip fruit, rolls/buns, frankfurter, tropical fruit, root vegetables, pork, hamburger meat, yogurt, sausage, beef)</td></tr><tr><td>379</td><td>List(butter milk, yogurt)</td><td>List(citrus fruit, rolls/buns, other vegetables, tropical fruit, whole milk)</td></tr><tr><td>382</td><td>List(bottled beer, liquor)</td><td>List()</td></tr><tr><td>383</td><td>List(onions, butter, whipped/sour cream, hard cheese)</td><td>List(whole milk)</td></tr><tr><td>395</td><td>List(sausage, whole milk, coffee)</td><td>List(citrus fruit, pip fruit, rolls/buns, root vegetables, other vegetables, tropical fruit, chicken, bottled water, whipped/sour cream, frankfurter, butter, curd, pork, pastry, yogurt, beef)</td></tr><tr><td>396</td><td>List(yogurt, chocolate)</td><td>List(citrus fruit, rolls/buns, other vegetables, tropical fruit, whole milk)</td></tr><tr><td>401</td><td>List(other vegetables, red/blush wine)</td><td>List(citrus fruit, chicken, whole milk, pip fruit, rolls/buns, frankfurter, tropical fruit, root vegetables, pork, hamburger meat, yogurt, sausage, beef)</td></tr><tr><td>403</td><td>List(other vegetables, whole milk, rolls/buns, Instant food products)</td><td>List(citrus fruit, chicken, pip fruit, frankfurter, tropical fruit, root vegetables, pork, hamburger meat, yogurt, sausage, beef, soda, bottled water, whipped/sour cream, butter, curd, pastry)</td></tr><tr><td>412</td><td>List(citrus fruit, tropical fruit, onions, other vegetables)</td><td>List(chicken, whole milk, pip fruit, rolls/buns, frankfurter, root vegetables, pork, hamburger meat, yogurt, sausage, beef)</td></tr><tr><td>419</td><td>List(other vegetables, pet care)</td><td>List(citrus fruit, chicken, whole milk, pip fruit, rolls/buns, frankfurter, tropical fruit, root vegetables, pork, hamburger meat, yogurt, sausage, beef)</td></tr><tr><td>421</td><td>List(soda, chewing gum)</td><td>List(rolls/buns)</td></tr><tr><td>423</td><td>List(rolls/buns)</td><td>List(other vegetables, whole milk, soda, yogurt, sausage)</td></tr><tr><td>425</td><td>List(root vegetables, pastry, bottled water, male cosmetics)</td><td>List(whole milk, citrus fruit, pip fruit, other vegetables, tropical fruit, pork, sausage, beef)</td></tr><tr><td>426</td><td>List(pastry)</td><td>List(whole milk)</td></tr><tr><td>430</td><td>List(soda, misc. beverages)</td><td>List(rolls/buns)</td></tr><tr><td>431</td><td>List(bottled water, soda)</td><td>List(whole milk, rolls/buns)</td></tr><tr><td>437</td><td>List(bottled water, canned beer, male cosmetics)</td><td>List(whole milk)</td></tr><tr><td>442</td><td>List(beef, tropical fruit, root vegetables, onions)</td><td>List(citrus fruit, pip fruit, other vegetables, whole milk, yogurt, sausage, pork)</td></tr><tr><td>445</td><td>List(rolls/buns, brown bread, bottled water)</td><td>List(other vegetables, whole milk, soda, yogurt, sausage)</td></tr><tr><td>448</td><td>List(sausage, ham, other vegetables, ice cream)</td><td>List(citrus fruit, chicken, whole milk, pip fruit, rolls/buns, frankfurter, tropical fruit, root vegetables, pork, hamburger meat, yogurt, beef)</td></tr><tr><td>455</td><td>List(tropical fruit, other vegetables, packaged fruit/vegetables, whole milk)</td><td>List(citrus fruit, chicken, pip fruit, rolls/buns, frankfurter, root vegetables, pork, hamburger meat, yogurt, sausage, beef, bottled water, whipped/sour cream, butter, curd, pastry)</td></tr><tr><td>458</td><td>List(Instant food products)</td><td>List()</td></tr><tr><td>464</td><td>List(frankfurter, rolls/buns, pastry, snack products)</td><td>List(whole milk, other vegetables, soda, yogurt, sausage)</td></tr><tr><td>467</td><td>List(frankfurter, root vegetables, pickled vegetables, soda)</td><td>List(other vegetables, whole milk, rolls/buns, citrus fruit, pip fruit, tropical fruit, pork, sausage, beef)</td></tr><tr><td>468</td><td>List(whole milk, rolls/buns, newspapers)</td><td>List(other vegetables, soda, yogurt, sausage, citrus fruit, chicken, pip fruit, bottled water, whipped/sour cream, frankfurter, butter, tropical fruit, curd, root vegetables, pork, pastry, beef)</td></tr><tr><td>471</td><td>List(bottled water, shopping bags)</td><td>List(whole milk)</td></tr><tr><td>475</td><td>List(hamburger meat, whole milk, curd, pasta)</td><td>List(citrus fruit, chicken, other vegetables, pip fruit, rolls/buns, bottled water, whipped/sour cream, frankfurter, butter, tropical fruit, root vegetables, pork, pastry, yogurt, sausage, beef)</td></tr><tr><td>480</td><td>List(pastry, bottled water)</td><td>List(whole milk)</td></tr><tr><td>481</td><td>List(ham, pip fruit, whole milk, curd)</td><td>List(citrus fruit, chicken, other vegetables, rolls/buns, bottled water, whipped/sour cream, frankfurter, butter, tropical fruit, root vegetables, pork, pastry, yogurt, sausage, beef)</td></tr><tr><td>482</td><td>List(frankfurter, soda)</td><td>List(other vegetables, whole milk, rolls/buns)</td></tr><tr><td>483</td><td>List(sausage, turkey, beef, root vegetables)</td><td>List(citrus fruit, pip fruit, rolls/buns, other vegetables, tropical fruit, whole milk, pork)</td></tr><tr><td>494</td><td>List(rolls/buns, pastry, red/blush wine)</td><td>List(whole milk, other vegetables, soda, yogurt, sausage)</td></tr><tr><td>496</td><td>List(pet care, bottled beer)</td><td>List()</td></tr><tr><td>503</td><td>List(sugar, soda, bottled beer)</td><td>List(rolls/buns)</td></tr><tr><td>506</td><td>List(soda, misc. beverages)</td><td>List(rolls/buns)</td></tr><tr><td>518</td><td>List(other vegetables, yogurt)</td><td>List(citrus fruit, chicken, whole milk, pip fruit, rolls/buns, frankfurter, tropical fruit, root vegetables, pork, hamburger meat, sausage, beef)</td></tr><tr><td>524</td><td>List(packaged fruit/vegetables, seasonal products)</td><td>List()</td></tr><tr><td>528</td><td>List(herbs, yogurt)</td><td>List(citrus fruit, rolls/buns, other vegetables, tropical fruit, whole milk)</td></tr><tr><td>532</td><td>List(soda)</td><td>List(rolls/buns)</td></tr><tr><td>534</td><td>List(soda, female sanitary products)</td><td>List(rolls/buns)</td></tr><tr><td>536</td><td>List(coffee, chewing gum, chocolate marshmallow)</td><td>List()</td></tr><tr><td>562</td><td>List(whole milk)</td><td>List(citrus fruit, chicken, other vegetables, pip fruit, rolls/buns, bottled water, whipped/sour cream, frankfurter, butter, tropical fruit, curd, root vegetables, pork, pastry, yogurt, sausage, beef)</td></tr><tr><td>565</td><td>List(soda)</td><td>List(rolls/buns)</td></tr><tr><td>569</td><td>List(frozen vegetables, bottled beer, liquor (appetizer), chewing gum)</td><td>List()</td></tr><tr><td>571</td><td>List(hamburger meat, root vegetables, other vegetables, domestic eggs)</td><td>List(citrus fruit, chicken, whole milk, pip fruit, rolls/buns, frankfurter, tropical fruit, pork, yogurt, sausage, beef)</td></tr><tr><td>572</td><td>List(root vegetables, other vegetables, whole milk, yogurt)</td><td>List(citrus fruit, chicken, pip fruit, rolls/buns, frankfurter, tropical fruit, pork, hamburger meat, sausage, beef, bottled water, whipped/sour cream, butter, curd, pastry)</td></tr><tr><td>577</td><td>List(rolls/buns)</td><td>List(other vegetables, whole milk, soda, yogurt, sausage)</td></tr><tr><td>581</td><td>List(grapes, root vegetables, frozen vegetables, domestic eggs)</td><td>List(citrus fruit, pip fruit, other vegetables, tropical fruit, whole milk, pork, sausage, beef)</td></tr><tr><td>586</td><td>List(whole milk, red/blush wine)</td><td>List(citrus fruit, chicken, other vegetables, pip fruit, rolls/buns, bottled water, whipped/sour cream, frankfurter, butter, tropical fruit, curd, root vegetables, pork, pastry, yogurt, sausage, beef)</td></tr><tr><td>590</td><td>List(specialty bar)</td><td>List()</td></tr><tr><td>592</td><td>List(root vegetables, brown bread)</td><td>List(citrus fruit, pip fruit, other vegetables, tropical fruit, whole milk, pork, sausage, beef)</td></tr><tr><td>593</td><td>List(rolls/buns, soda)</td><td>List(other vegetables, whole milk, yogurt, sausage)</td></tr><tr><td>595</td><td>List(citrus fruit, tropical fruit, berries, root vegetables)</td><td>List(pip fruit, other vegetables, whole milk, yogurt, sausage, pork, beef)</td></tr><tr><td>599</td><td>List(ham, rolls/buns, white wine)</td><td>List(other vegetables, whole milk, soda, yogurt, sausage)</td></tr><tr><td>600</td><td>List(canned beer)</td><td>List()</td></tr><tr><td>603</td><td>List(pip fruit, whole milk, canned fish)</td><td>List(citrus fruit, chicken, other vegetables, rolls/buns, bottled water, whipped/sour cream, frankfurter, butter, tropical fruit, curd, root vegetables, pork, pastry, yogurt, sausage, beef)</td></tr><tr><td>606</td><td>List(pip fruit, butter, frozen meals, pasta)</td><td>List(citrus fruit, root vegetables, sausage, other vegetables, tropical fruit, whole milk)</td></tr><tr><td>624</td><td>List(citrus fruit, tropical fruit, herbs, whole milk)</td><td>List(pip fruit, other vegetables, root vegetables, yogurt, sausage, chicken, rolls/buns, bottled water, whipped/sour cream, frankfurter, butter, curd, pork, pastry, beef)</td></tr><tr><td>636</td><td>List(frankfurter, root vegetables, newspapers)</td><td>List(other vegetables, whole milk, citrus fruit, pip fruit, tropical fruit, pork, sausage, beef)</td></tr><tr><td>638</td><td>List(shopping bags)</td><td>List()</td></tr><tr><td>643</td><td>List(hamburger meat, citrus fruit, root vegetables, rolls/buns)</td><td>List(other vegetables, whole milk, soda, yogurt, sausage, tropical fruit, pip fruit, pork, beef)</td></tr><tr><td>653</td><td>List(tropical fruit, other vegetables)</td><td>List(citrus fruit, chicken, whole milk, pip fruit, rolls/buns, frankfurter, root vegetables, pork, hamburger meat, yogurt, sausage, beef)</td></tr><tr><td>661</td><td>List(ham, other vegetables, butter, whipped/sour cream)</td><td>List(citrus fruit, chicken, whole milk, pip fruit, rolls/buns, frankfurter, tropical fruit, root vegetables, pork, hamburger meat, yogurt, sausage, beef)</td></tr><tr><td>663</td><td>List(sausage, onions, curd, yogurt)</td><td>List(citrus fruit, rolls/buns, other vegetables, tropical fruit, whole milk, pip fruit, root vegetables)</td></tr><tr><td>676</td><td>List(yogurt, pastry, coffee)</td><td>List(whole milk, citrus fruit, rolls/buns, other vegetables, tropical fruit)</td></tr><tr><td>693</td><td>List(beef, berries, onions, rolls/buns)</td><td>List(other vegetables, whole milk, soda, yogurt, sausage, root vegetables)</td></tr><tr><td>709</td><td>List(sausage, other vegetables, whole milk, curd)</td><td>List(citrus fruit, chicken, pip fruit, rolls/buns, frankfurter, tropical fruit, root vegetables, pork, hamburger meat, yogurt, beef, bottled water, whipped/sour cream, butter, pastry)</td></tr><tr><td>715</td><td>List(whipped/sour cream, specialty bar)</td><td>List(whole milk)</td></tr><tr><td>725</td><td>List(domestic eggs, rolls/buns, pastry, coffee)</td><td>List(whole milk, other vegetables, soda, yogurt, sausage)</td></tr><tr><td>742</td><td>List(sausage, tropical fruit, semi-finished bread)</td><td>List(citrus fruit, pip fruit, other vegetables, whole milk, root vegetables, yogurt, rolls/buns)</td></tr><tr><td>743</td><td>List(beef, tropical fruit, root vegetables, yogurt)</td><td>List(citrus fruit, rolls/buns, other vegetables, whole milk, pip fruit, sausage, pork)</td></tr><tr><td>747</td><td>List(bottled beer)</td><td>List()</td></tr><tr><td>750</td><td>List(curd, bottled beer, pot plants)</td><td>List(whole milk)</td></tr><tr><td>751</td><td>List(ice cream, sugar, flower (seeds))</td><td>List()</td></tr><tr><td>752</td><td>List(sausage, rolls/buns, soda, canned beer)</td><td>List(other vegetables, whole milk, yogurt, citrus fruit, pip fruit, root vegetables, tropical fruit)</td></tr><tr><td>758</td><td>List(berries, other vegetables, whole milk, whipped/sour cream)</td><td>List(citrus fruit, chicken, pip fruit, rolls/buns, frankfurter, tropical fruit, root vegetables, pork, hamburger meat, yogurt, sausage, beef, bottled water, butter, curd, pastry)</td></tr><tr><td>763</td><td>List(frozen dessert, brandy)</td><td>List()</td></tr><tr><td>771</td><td>List(frankfurter, citrus fruit, whipped/sour cream, cream cheese)</td><td>List(whole milk, root vegetables, sausage, other vegetables, tropical fruit, yogurt, pip fruit)</td></tr><tr><td>774</td><td>List(tropical fruit, whole milk, rolls/buns)</td><td>List(other vegetables, soda, yogurt, sausage, citrus fruit, pip fruit, root vegetables, chicken, bottled water, whipped/sour cream, frankfurter, butter, curd, pork, pastry, beef)</td></tr><tr><td>782</td><td>List(packaged fruit/vegetables, whole milk, dessert, yogurt)</td><td>List(citrus fruit, rolls/buns, other vegetables, tropical fruit, chicken, pip fruit, bottled water, whipped/sour cream, frankfurter, butter, curd, root vegetables, pork, pastry, sausage, beef)</td></tr><tr><td>793</td><td>List(frozen dessert, semi-finished bread)</td><td>List()</td></tr><tr><td>797</td><td>List(root vegetables, whole milk, yogurt, rolls/buns)</td><td>List(citrus fruit, other vegetables, tropical fruit, soda, sausage, chicken, pip fruit, bottled water, whipped/sour cream, frankfurter, butter, curd, pork, pastry, beef)</td></tr><tr><td>798</td><td>List(bottled beer)</td><td>List()</td></tr><tr><td>801</td><td>List(berries, other vegetables, whipped/sour cream, UHT-milk)</td><td>List(citrus fruit, chicken, whole milk, pip fruit, rolls/buns, frankfurter, tropical fruit, root vegetables, pork, hamburger meat, yogurt, sausage, beef)</td></tr><tr><td>807</td><td>List(ice cream)</td><td>List()</td></tr><tr><td>809</td><td>List(whole milk, pastry, bottled water, newspapers)</td><td>List(citrus fruit, chicken, other vegetables, pip fruit, rolls/buns, whipped/sour cream, frankfurter, butter, tropical fruit, curd, root vegetables, pork, yogurt, sausage, beef)</td></tr><tr><td>814</td><td>List(root vegetables, pot plants)</td><td>List(citrus fruit, pip fruit, other vegetables, tropical fruit, whole milk, pork, sausage, beef)</td></tr><tr><td>818</td><td>List(root vegetables, dessert, yogurt, cream cheese)</td><td>List(citrus fruit, rolls/buns, other vegetables, tropical fruit, whole milk, pip fruit, pork, sausage, beef)</td></tr><tr><td>820</td><td>List(beef, root vegetables, other vegetables, whole milk)</td><td>List(citrus fruit, chicken, pip fruit, rolls/buns, frankfurter, tropical fruit, pork, hamburger meat, yogurt, sausage, bottled water, whipped/sour cream, butter, curd, pastry)</td></tr><tr><td>821</td><td>List(chicken, pork, whole milk, butter)</td><td>List(other vegetables, citrus fruit, pip fruit, rolls/buns, bottled water, whipped/sour cream, frankfurter, tropical fruit, curd, root vegetables, pastry, yogurt, sausage, beef)</td></tr><tr><td>832</td><td>List(citrus fruit, onions, whole milk, curd)</td><td>List(root vegetables, sausage, other vegetables, tropical fruit, yogurt, pip fruit, chicken, rolls/buns, bottled water, whipped/sour cream, frankfurter, butter, pork, pastry, beef)</td></tr><tr><td>834</td><td>List(newspapers)</td><td>List()</td></tr><tr><td>840</td><td>List(packaged fruit/vegetables, whole milk, rolls/buns, pastry)</td><td>List(other vegetables, soda, yogurt, sausage, citrus fruit, chicken, pip fruit, bottled water, whipped/sour cream, frankfurter, butter, tropical fruit, curd, root vegetables, pork, beef)</td></tr><tr><td>848</td><td>List(fish, berries, other vegetables, whole milk)</td><td>List(citrus fruit, chicken, pip fruit, rolls/buns, frankfurter, tropical fruit, root vegetables, pork, hamburger meat, yogurt, sausage, beef, bottled water, whipped/sour cream, butter, curd, pastry)</td></tr><tr><td>849</td><td>List(other vegetables, whole milk, curd, frozen vegetables)</td><td>List(citrus fruit, chicken, pip fruit, rolls/buns, frankfurter, tropical fruit, root vegetables, pork, hamburger meat, yogurt, sausage, beef, bottled water, whipped/sour cream, butter, pastry)</td></tr><tr><td>855</td><td>List(berries, whole milk, whipped/sour cream, margarine)</td><td>List(citrus fruit, chicken, other vegetables, pip fruit, rolls/buns, bottled water, frankfurter, butter, tropical fruit, curd, root vegetables, pork, pastry, yogurt, sausage, beef)</td></tr><tr><td>860</td><td>List(chicken, pork, hamburger meat, pip fruit)</td><td>List(other vegetables, whole milk, citrus fruit, root vegetables, sausage, tropical fruit)</td></tr><tr><td>863</td><td>List(sugar)</td><td>List()</td></tr><tr><td>865</td><td>List(berries, frozen vegetables, pet care, instant coffee)</td><td>List()</td></tr><tr><td>880</td><td>List(bottled beer, shopping bags)</td><td>List()</td></tr><tr><td>883</td><td>List(pork, berries, whipped/sour cream, beverages)</td><td>List(whole milk, root vegetables, other vegetables)</td></tr><tr><td>884</td><td>List(white bread)</td><td>List()</td></tr><tr><td>885</td><td>List(grapes, whole milk, processed cheese, rolls/buns)</td><td>List(other vegetables, soda, yogurt, sausage, citrus fruit, chicken, pip fruit, bottled water, whipped/sour cream, frankfurter, butter, tropical fruit, curd, root vegetables, pork, pastry, beef)</td></tr><tr><td>886</td><td>List(potato products, flower (seeds))</td><td>List()</td></tr><tr><td>887</td><td>List(root vegetables, onions, yogurt, rolls/buns)</td><td>List(citrus fruit, other vegetables, tropical fruit, whole milk, soda, sausage, pip fruit, pork, beef)</td></tr><tr><td>889</td><td>List(chicken, other vegetables, salt)</td><td>List(citrus fruit, whole milk, pip fruit, rolls/buns, frankfurter, tropical fruit, root vegetables, pork, hamburger meat, yogurt, sausage, beef)</td></tr><tr><td>890</td><td>List(fish, cream cheese, coffee)</td><td>List()</td></tr><tr><td>899</td><td>List(whole milk, rolls/buns, chocolate)</td><td>List(other vegetables, soda, yogurt, sausage, citrus fruit, chicken, pip fruit, bottled water, whipped/sour cream, frankfurter, butter, tropical fruit, curd, root vegetables, pork, pastry, beef)</td></tr><tr><td>909</td><td>List(whole milk, curd, cream cheese, flour)</td><td>List(citrus fruit, chicken, other vegetables, pip fruit, rolls/buns, bottled water, whipped/sour cream, frankfurter, butter, tropical fruit, root vegetables, pork, pastry, yogurt, sausage, beef)</td></tr><tr><td>912</td><td>List(curd, roll products, margarine, bottled water)</td><td>List(whole milk)</td></tr><tr><td>918</td><td>List(beverages, rolls/buns, soda, misc. beverages)</td><td>List(other vegetables, whole milk, yogurt, sausage)</td></tr><tr><td>933</td><td>List(newspapers)</td><td>List()</td></tr><tr><td>938</td><td>List(specialty chocolate, pot plants)</td><td>List()</td></tr><tr><td>940</td><td>List(citrus fruit, napkins, shopping bags)</td><td>List(root vegetables, sausage, other vegetables, tropical fruit, yogurt, whole milk, pip fruit)</td></tr><tr><td>943</td><td>List(photo/film)</td><td>List()</td></tr><tr><td>944</td><td>List(hamburger meat)</td><td>List(other vegetables)</td></tr><tr><td>953</td><td>List(rolls/buns, coffee)</td><td>List(other vegetables, whole milk, soda, yogurt, sausage)</td></tr><tr><td>954</td><td>List(hygiene articles)</td><td>List()</td></tr><tr><td>955</td><td>List(ice cream, newspapers)</td><td>List()</td></tr><tr><td>959</td><td>List(finished products, organic sausage, sliced cheese, white bread)</td><td>List()</td></tr><tr><td>963</td><td>List(chocolate)</td><td>List()</td></tr><tr><td>966</td><td>List(frankfurter, citrus fruit, whole milk, yogurt)</td><td>List(rolls/buns, other vegetables, tropical fruit, root vegetables, sausage, pip fruit, chicken, bottled water, whipped/sour cream, butter, curd, pork, pastry, beef)</td></tr><tr><td>967</td><td>List(butter, pasta, canned fish, softener)</td><td>List(whole milk)</td></tr><tr><td>968</td><td>List(other vegetables, butter milk, frozen fish, salty snack)</td><td>List(citrus fruit, chicken, whole milk, pip fruit, rolls/buns, frankfurter, tropical fruit, root vegetables, pork, hamburger meat, yogurt, sausage, beef)</td></tr><tr><td>972</td><td>List(beef)</td><td>List(root vegetables, other vegetables, whole milk)</td></tr><tr><td>973</td><td>List(curd, yogurt, spread cheese, sugar)</td><td>List(citrus fruit, rolls/buns, other vegetables, tropical fruit, whole milk)</td></tr><tr><td>980</td><td>List(frankfurter, chicken, pork, tropical fruit)</td><td>List(citrus fruit, pip fruit, other vegetables, whole milk, root vegetables, yogurt, sausage)</td></tr><tr><td>981</td><td>List(artif. sweetener, soda, photo/film)</td><td>List(rolls/buns)</td></tr><tr><td>989</td><td>List(pork, whole milk, curd, yogurt)</td><td>List(citrus fruit, rolls/buns, other vegetables, tropical fruit, chicken, pip fruit, bottled water, whipped/sour cream, frankfurter, butter, root vegetables, pastry, sausage, beef)</td></tr><tr><td>991</td><td>List(light bulbs)</td><td>List()</td></tr><tr><td>992</td><td>List(cream cheese, margarine, tea)</td><td>List()</td></tr><tr><td>993</td><td>List(sausage, curd, frozen meals, domestic eggs)</td><td>List(citrus fruit, pip fruit, rolls/buns, root vegetables, other vegetables, tropical fruit, whole milk)</td></tr><tr><td>994</td><td>List(citrus fruit, onions)</td><td>List(root vegetables, sausage, other vegetables, tropical fruit, yogurt, whole milk, pip fruit)</td></tr><tr><td>995</td><td>List(other vegetables, whipped/sour cream, roll products )</td><td>List(citrus fruit, chicken, whole milk, pip fruit, rolls/buns, frankfurter, tropical fruit, root vegetables, pork, hamburger meat, yogurt, sausage, beef)</td></tr><tr><td>1000</td><td>List(onions, domestic eggs, soda, hygiene articles)</td><td>List(rolls/buns)</td></tr><tr><td>1006</td><td>List(ice cream, long life bakery product)</td><td>List()</td></tr><tr><td>1014</td><td>List(margarine, newspapers)</td><td>List()</td></tr><tr><td>1016</td><td>List(beef, tropical fruit, onions, other vegetables)</td><td>List(citrus fruit, chicken, whole milk, pip fruit, rolls/buns, frankfurter, root vegetables, pork, hamburger meat, yogurt, sausage)</td></tr><tr><td>1017</td><td>List(bottled water)</td><td>List(whole milk)</td></tr><tr><td>1020</td><td>List(chocolate)</td><td>List()</td></tr><tr><td>1025</td><td>List(brown bread)</td><td>List()</td></tr><tr><td>1039</td><td>List(sausage, whole milk, whipped/sour cream, pasta)</td><td>List(citrus fruit, pip fruit, rolls/buns, root vegetables, other vegetables, tropical fruit, chicken, bottled water, frankfurter, butter, curd, pork, pastry, yogurt, beef)</td></tr><tr><td>1054</td><td>List(shopping bags)</td><td>List()</td></tr><tr><td>1063</td><td>List(pork, hamburger meat, pip fruit, grapes)</td><td>List(other vegetables, citrus fruit, root vegetables, sausage, tropical fruit, whole milk)</td></tr><tr><td>1070</td><td>List(chewing gum)</td><td>List()</td></tr><tr><td>1077</td><td>List(bottled water, soda, fruit/vegetable juice, long life bakery product)</td><td>List(whole milk, rolls/buns)</td></tr><tr><td>1078</td><td>List(specialty cheese)</td><td>List()</td></tr><tr><td>1096</td><td>List(pork)</td><td>List(root vegetables, other vegetables, whole milk)</td></tr><tr><td>1098</td><td>List(UHT-milk, domestic eggs, brown bread, coffee)</td><td>List()</td></tr><tr><td>1105</td><td>List(ham, chicken, citrus fruit, pip fruit)</td><td>List(other vegetables, whole milk, root vegetables, sausage, tropical fruit, yogurt)</td></tr><tr><td>1115</td><td>List(red/blush wine)</td><td>List()</td></tr><tr><td>1118</td><td>List(semi-finished bread)</td><td>List()</td></tr><tr><td>1120</td><td>List(cat food, dish cleaner, shopping bags)</td><td>List()</td></tr><tr><td>1121</td><td>List(citrus fruit, tropical fruit, pip fruit, grapes)</td><td>List(other vegetables, whole milk, root vegetables, yogurt, sausage)</td></tr><tr><td>1123</td><td>List(meat, other vegetables, packaged fruit/vegetables, cream cheese)</td><td>List(citrus fruit, chicken, whole milk, pip fruit, rolls/buns, frankfurter, tropical fruit, root vegetables, pork, hamburger meat, yogurt, sausage, beef)</td></tr><tr><td>1127</td><td>List(brown bread, oil, sugar, soda)</td><td>List(rolls/buns)</td></tr><tr><td>1130</td><td>List(ham, tropical fruit, cream cheese, processed cheese)</td><td>List(citrus fruit, pip fruit, other vegetables, whole milk, root vegetables, yogurt, sausage)</td></tr><tr><td>1131</td><td>List(root vegetables, skin care)</td><td>List(citrus fruit, pip fruit, other vegetables, tropical fruit, whole milk, pork, sausage, beef)</td></tr><tr><td>1138</td><td>List(misc. beverages)</td><td>List()</td></tr><tr><td>1148</td><td>List(pip fruit, other vegetables, butter, yogurt)</td><td>List(citrus fruit, chicken, whole milk, rolls/buns, frankfurter, tropical fruit, root vegetables, pork, hamburger meat, sausage, beef)</td></tr><tr><td>1157</td><td>List(pastry)</td><td>List(whole milk)</td></tr><tr><td>1162</td><td>List(soda)</td><td>List(rolls/buns)</td></tr><tr><td>1171</td><td>List(sausage, citrus fruit, pip fruit, mayonnaise)</td><td>List(rolls/buns, root vegetables, other vegetables, tropical fruit, whole milk, yogurt)</td></tr><tr><td>1178</td><td>List(UHT-milk, soda, dish cleaner, napkins)</td><td>List(rolls/buns)</td></tr><tr><td>1180</td><td>List(rolls/buns, canned fish, canned beer)</td><td>List(other vegetables, whole milk, soda, yogurt, sausage)</td></tr><tr><td>1181</td><td>List(specialty chocolate)</td><td>List()</td></tr><tr><td>1188</td><td>List(chicken, pork, beef, whole milk)</td><td>List(other vegetables, citrus fruit, pip fruit, rolls/buns, bottled water, whipped/sour cream, frankfurter, butter, tropical fruit, curd, root vegetables, pastry, yogurt, sausage)</td></tr><tr><td>1189</td><td>List(sausage, citrus fruit, whole milk, cream cheese)</td><td>List(pip fruit, rolls/buns, root vegetables, other vegetables, tropical fruit, yogurt, chicken, bottled water, whipped/sour cream, frankfurter, butter, curd, pork, pastry, beef)</td></tr><tr><td>1193</td><td>List(yogurt, UHT-milk, rolls/buns)</td><td>List(citrus fruit, other vegetables, tropical fruit, whole milk, soda, sausage)</td></tr><tr><td>1194</td><td>List(rolls/buns, red/blush wine, newspapers)</td><td>List(other vegetables, whole milk, soda, yogurt, sausage)</td></tr><tr><td>1196</td><td>List(whole milk, brown bread)</td><td>List(citrus fruit, chicken, other vegetables, pip fruit, rolls/buns, bottled water, whipped/sour cream, frankfurter, butter, tropical fruit, curd, root vegetables, pork, pastry, yogurt, sausage, beef)</td></tr><tr><td>1210</td><td>List(pork, whole milk, sugar, soda)</td><td>List(citrus fruit, chicken, other vegetables, pip fruit, rolls/buns, bottled water, whipped/sour cream, frankfurter, butter, tropical fruit, curd, root vegetables, pastry, yogurt, sausage, beef)</td></tr><tr><td>1211</td><td>List(chicken, pork, pip fruit, other vegetables)</td><td>List(citrus fruit, whole milk, rolls/buns, frankfurter, tropical fruit, root vegetables, hamburger meat, yogurt, sausage, beef)</td></tr><tr><td>1215</td><td>List(beef, tropical fruit, whole milk, ice cream)</td><td>List(citrus fruit, pip fruit, other vegetables, root vegetables, yogurt, sausage, chicken, rolls/buns, bottled water, whipped/sour cream, frankfurter, butter, curd, pork, pastry)</td></tr><tr><td>1228</td><td>List(pork, beef, citrus fruit, berries)</td><td>List(root vegetables, sausage, other vegetables, tropical fruit, yogurt, whole milk, pip fruit)</td></tr><tr><td>1230</td><td>List(domestic eggs, seasonal products, shopping bags)</td><td>List()</td></tr><tr><td>1232</td><td>List(bottled water, soda)</td><td>List(whole milk, rolls/buns)</td></tr><tr><td>1238</td><td>List(tropical fruit, sliced cheese, domestic eggs, zwieback)</td><td>List(citrus fruit, pip fruit, other vegetables, whole milk, root vegetables, yogurt, sausage)</td></tr><tr><td>1247</td><td>List(hamburger meat, pip fruit, whole milk, curd)</td><td>List(citrus fruit, chicken, other vegetables, rolls/buns, bottled water, whipped/sour cream, frankfurter, butter, tropical fruit, root vegetables, pork, pastry, yogurt, sausage, beef)</td></tr><tr><td>1249</td><td>List(pork)</td><td>List(root vegetables, other vegetables, whole milk)</td></tr><tr><td>1259</td><td>List(rolls/buns, brown bread)</td><td>List(other vegetables, whole milk, soda, yogurt, sausage)</td></tr><tr><td>1263</td><td>List(soda, softener)</td><td>List(rolls/buns)</td></tr><tr><td>1275</td><td>List(curd, whipped/sour cream, flour, baking powder)</td><td>List(whole milk)</td></tr><tr><td>1276</td><td>List(chicken, red/blush wine)</td><td>List(other vegetables, whole milk)</td></tr><tr><td>1277</td><td>List(whipped/sour cream)</td><td>List(whole milk)</td></tr><tr><td>1288</td><td>List(chocolate)</td><td>List()</td></tr><tr><td>1289</td><td>List(whole milk, frozen vegetables, specialty chocolate)</td><td>List(citrus fruit, chicken, other vegetables, pip fruit, rolls/buns, bottled water, whipped/sour cream, frankfurter, butter, tropical fruit, curd, root vegetables, pork, pastry, yogurt, sausage, beef)</td></tr><tr><td>1291</td><td>List(coffee, shopping bags)</td><td>List()</td></tr><tr><td>1292</td><td>List(rolls/buns, waffles)</td><td>List(other vegetables, whole milk, soda, yogurt, sausage)</td></tr><tr><td>1300</td><td>List(sausage, meat, chicken, root vegetables)</td><td>List(other vegetables, whole milk, citrus fruit, pip fruit, rolls/buns, tropical fruit, pork, beef)</td></tr><tr><td>1303</td><td>List(chicken, pork, root vegetables, onions)</td><td>List(other vegetables, whole milk, citrus fruit, pip fruit, tropical fruit, sausage, beef)</td></tr><tr><td>1318</td><td>List(pip fruit, root vegetables, other vegetables, whole milk)</td><td>List(citrus fruit, chicken, rolls/buns, frankfurter, tropical fruit, pork, hamburger meat, yogurt, sausage, beef, bottled water, whipped/sour cream, butter, curd, pastry)</td></tr><tr><td>1319</td><td>List(coffee)</td><td>List()</td></tr><tr><td>1323</td><td>List(meat, beef, tropical fruit, pip fruit)</td><td>List(citrus fruit, other vegetables, whole milk, root vegetables, yogurt, sausage)</td></tr><tr><td>1324</td><td>List(whole milk, canned fish, soda, bottled beer)</td><td>List(citrus fruit, chicken, other vegetables, pip fruit, rolls/buns, bottled water, whipped/sour cream, frankfurter, butter, tropical fruit, curd, root vegetables, pork, pastry, yogurt, sausage, beef)</td></tr><tr><td>1325</td><td>List(dessert, dishes)</td><td>List()</td></tr><tr><td>1328</td><td>List(bottled water, fruit/vegetable juice, bottled beer, prosecco)</td><td>List(whole milk)</td></tr><tr><td>1331</td><td>List(citrus fruit, pip fruit, grapes, other vegetables)</td><td>List(chicken, whole milk, rolls/buns, frankfurter, tropical fruit, root vegetables, pork, hamburger meat, yogurt, sausage, beef)</td></tr><tr><td>1332</td><td>List(tropical fruit, whole milk, hard cheese, rolls/buns)</td><td>List(other vegetables, soda, yogurt, sausage, citrus fruit, pip fruit, root vegetables, chicken, bottled water, whipped/sour cream, frankfurter, butter, curd, pork, pastry, beef)</td></tr><tr><td>1333</td><td>List(cat food, soda)</td><td>List(rolls/buns)</td></tr><tr><td>1334</td><td>List(whole milk, beverages, pastry, soda)</td><td>List(citrus fruit, chicken, other vegetables, pip fruit, rolls/buns, bottled water, whipped/sour cream, frankfurter, butter, tropical fruit, curd, root vegetables, pork, yogurt, sausage, beef)</td></tr><tr><td>1338</td><td>List(berries, other vegetables, butter milk, yogurt)</td><td>List(citrus fruit, chicken, whole milk, pip fruit, rolls/buns, frankfurter, tropical fruit, root vegetables, pork, hamburger meat, sausage, beef)</td></tr><tr><td>1344</td><td>List(sausage, hard cheese, rolls/buns, canned vegetables)</td><td>List(other vegetables, whole milk, soda, yogurt, citrus fruit, pip fruit, root vegetables, tropical fruit)</td></tr><tr><td>1352</td><td>List(root vegetables, fruit/vegetable juice, long life bakery product, pot plants)</td><td>List(citrus fruit, pip fruit, other vegetables, tropical fruit, whole milk, pork, sausage, beef)</td></tr><tr><td>1353</td><td>List(ham, tropical fruit, grapes, onions)</td><td>List(citrus fruit, pip fruit, other vegetables, whole milk, root vegetables, yogurt, sausage)</td></tr><tr><td>1357</td><td>List(other vegetables, chocolate)</td><td>List(citrus fruit, chicken, whole milk, pip fruit, rolls/buns, frankfurter, tropical fruit, root vegetables, pork, hamburger meat, yogurt, sausage, beef)</td></tr><tr><td>1362</td><td>List(ham, dessert, frozen meals, frozen dessert)</td><td>List()</td></tr><tr><td>1394</td><td>List(curd, jam, shopping bags)</td><td>List(whole milk)</td></tr><tr><td>1402</td><td>List(oil)</td><td>List()</td></tr><tr><td>1410</td><td>List(root vegetables, whole milk, brown bread, brandy)</td><td>List(citrus fruit, chicken, other vegetables, pip fruit, rolls/buns, bottled water, whipped/sour cream, frankfurter, butter, tropical fruit, curd, pork, pastry, yogurt, sausage, beef)</td></tr><tr><td>1414</td><td>List(frozen fruits, detergent)</td><td>List()</td></tr><tr><td>1418</td><td>List(grapes, butter, domestic eggs, salt)</td><td>List(whole milk)</td></tr><tr><td>1425</td><td>List(whole milk, yogurt)</td><td>List(citrus fruit, rolls/buns, other vegetables, tropical fruit, chicken, pip fruit, bottled water, whipped/sour cream, frankfurter, butter, curd, root vegetables, pork, pastry, sausage, beef)</td></tr><tr><td>1429</td><td>List(oil)</td><td>List()</td></tr><tr><td>1432</td><td>List(root vegetables, coffee, detergent)</td><td>List(citrus fruit, pip fruit, other vegetables, tropical fruit, whole milk, pork, sausage, beef)</td></tr><tr><td>1435</td><td>List(sausage, whole milk, brown bread, soda)</td><td>List(citrus fruit, pip fruit, rolls/buns, root vegetables, other vegetables, tropical fruit, chicken, bottled water, whipped/sour cream, frankfurter, butter, curd, pork, pastry, yogurt, beef)</td></tr><tr><td>1439</td><td>List(photo/film)</td><td>List()</td></tr><tr><td>1440</td><td>List(UHT-milk, coffee)</td><td>List()</td></tr><tr><td>1444</td><td>List(beef, root vegetables, other vegetables, soda)</td><td>List(citrus fruit, chicken, whole milk, pip fruit, rolls/buns, frankfurter, tropical fruit, pork, hamburger meat, yogurt, sausage)</td></tr><tr><td>1453</td><td>List(beverages, soda, chocolate)</td><td>List(rolls/buns)</td></tr><tr><td>1455</td><td>List(cream cheese, pasta, jam, sweet spreads)</td><td>List()</td></tr><tr><td>1456</td><td>List(rolls/buns, liquor, red/blush wine)</td><td>List(other vegetables, whole milk, soda, yogurt, sausage)</td></tr><tr><td>1459</td><td>List(sausage, whole milk, brown bread, pastry)</td><td>List(citrus fruit, pip fruit, rolls/buns, root vegetables, other vegetables, tropical fruit, chicken, bottled water, whipped/sour cream, frankfurter, butter, curd, pork, yogurt, beef)</td></tr><tr><td>1462</td><td>List(canned beer)</td><td>List()</td></tr><tr><td>1464</td><td>List(yogurt)</td><td>List(citrus fruit, rolls/buns, other vegetables, tropical fruit, whole milk)</td></tr><tr><td>1474</td><td>List(canned beer)</td><td>List()</td></tr><tr><td>1476</td><td>List(tropical fruit, whole milk)</td><td>List(citrus fruit, pip fruit, other vegetables, root vegetables, yogurt, sausage, chicken, rolls/buns, bottled water, whipped/sour cream, frankfurter, butter, curd, pork, pastry, beef)</td></tr><tr><td>1477</td><td>List(coffee, soda, bottled beer, liquor (appetizer))</td><td>List(rolls/buns)</td></tr><tr><td>1478</td><td>List(ham, other vegetables, whole milk, frozen vegetables)</td><td>List(citrus fruit, chicken, pip fruit, rolls/buns, frankfurter, tropical fruit, root vegetables, pork, hamburger meat, yogurt, sausage, beef, bottled water, whipped/sour cream, butter, curd, pastry)</td></tr><tr><td>1481</td><td>List(dessert, fruit/vegetable juice, newspapers)</td><td>List()</td></tr><tr><td>1484</td><td>List(rolls/buns, soda)</td><td>List(other vegetables, whole milk, yogurt, sausage)</td></tr><tr><td>1486</td><td>List(meat, other vegetables, rolls/buns, fruit/vegetable juice)</td><td>List(citrus fruit, chicken, whole milk, pip fruit, frankfurter, tropical fruit, root vegetables, pork, hamburger meat, yogurt, sausage, beef, soda)</td></tr><tr><td>1497</td><td>List(canned beer, salty snack, shopping bags)</td><td>List()</td></tr><tr><td>1502</td><td>List(yogurt)</td><td>List(citrus fruit, rolls/buns, other vegetables, tropical fruit, whole milk)</td></tr><tr><td>1507</td><td>List(chicken, other vegetables, whole milk, curd)</td><td>List(citrus fruit, pip fruit, rolls/buns, frankfurter, tropical fruit, root vegetables, pork, hamburger meat, yogurt, sausage, beef, bottled water, whipped/sour cream, butter, pastry)</td></tr><tr><td>1511</td><td>List(sausage, fish, other vegetables, brown bread)</td><td>List(citrus fruit, chicken, whole milk, pip fruit, rolls/buns, frankfurter, tropical fruit, root vegetables, pork, hamburger meat, yogurt, beef)</td></tr><tr><td>1516</td><td>List(turkey, citrus fruit, tropical fruit, grapes)</td><td>List(pip fruit, other vegetables, whole milk, root vegetables, yogurt, sausage)</td></tr><tr><td>1518</td><td>List(whole milk, curd, ice cream, Instant food products)</td><td>List(citrus fruit, chicken, other vegetables, pip fruit, rolls/buns, bottled water, whipped/sour cream, frankfurter, butter, tropical fruit, root vegetables, pork, pastry, yogurt, sausage, beef)</td></tr><tr><td>1530</td><td>List(waffles)</td><td>List()</td></tr><tr><td>1531</td><td>List(condensed milk, coffee, napkins)</td><td>List()</td></tr><tr><td>1533</td><td>List(meat, onions, other vegetables, chewing gum)</td><td>List(citrus fruit, chicken, whole milk, pip fruit, rolls/buns, frankfurter, tropical fruit, root vegetables, pork, hamburger meat, yogurt, sausage, beef)</td></tr><tr><td>1541</td><td>List(pip fruit, other vegetables)</td><td>List(citrus fruit, chicken, whole milk, rolls/buns, frankfurter, tropical fruit, root vegetables, pork, hamburger meat, yogurt, sausage, beef)</td></tr><tr><td>1544</td><td>List(pastry, long life bakery product, shopping bags)</td><td>List(whole milk)</td></tr><tr><td>1554</td><td>List(other vegetables, yogurt, whipped/sour cream, soda)</td><td>List(citrus fruit, chicken, whole milk, pip fruit, rolls/buns, frankfurter, tropical fruit, root vegetables, pork, hamburger meat, sausage, beef)</td></tr><tr><td>1562</td><td>List(rolls/buns)</td><td>List(other vegetables, whole milk, soda, yogurt, sausage)</td></tr><tr><td>1569</td><td>List(sausage, cream, cream cheese, canned beer)</td><td>List(citrus fruit, pip fruit, rolls/buns, root vegetables, other vegetables, tropical fruit, whole milk)</td></tr><tr><td>1576</td><td>List(curd, mustard, canned beer)</td><td>List(whole milk)</td></tr><tr><td>1577</td><td>List(frankfurter, sausage, berries, whole milk)</td><td>List(citrus fruit, pip fruit, rolls/buns, root vegetables, other vegetables, tropical fruit, chicken, bottled water, whipped/sour cream, butter, curd, pork, pastry, yogurt, beef)</td></tr><tr><td>1598</td><td>List(sauces, softener)</td><td>List()</td></tr><tr><td>1600</td><td>List(yogurt, condensed milk, rolls/buns, pickled vegetables)</td><td>List(citrus fruit, other vegetables, tropical fruit, whole milk, soda, sausage)</td></tr><tr><td>1602</td><td>List(other vegetables, rolls/buns, canned fish)</td><td>List(citrus fruit, chicken, whole milk, pip fruit, frankfurter, tropical fruit, root vegetables, pork, hamburger meat, yogurt, sausage, beef, soda)</td></tr><tr><td>1610</td><td>List(tropical fruit, soft cheese, rolls/buns, chocolate)</td><td>List(other vegetables, whole milk, soda, yogurt, sausage, citrus fruit, pip fruit, root vegetables)</td></tr><tr><td>1612</td><td>List(sausage, hamburger meat, tropical fruit, root vegetables)</td><td>List(citrus fruit, pip fruit, other vegetables, whole milk, yogurt, rolls/buns, pork, beef)</td></tr><tr><td>1614</td><td>List(turkey, tropical fruit, yogurt, UHT-milk)</td><td>List(citrus fruit, rolls/buns, other vegetables, whole milk, pip fruit, root vegetables, sausage)</td></tr><tr><td>1623</td><td>List(sausage, beverages, sliced cheese, rolls/buns)</td><td>List(other vegetables, whole milk, soda, yogurt, citrus fruit, pip fruit, root vegetables, tropical fruit)</td></tr><tr><td>1635</td><td>List(sausage, white bread, bottled beer)</td><td>List(citrus fruit, pip fruit, rolls/buns, root vegetables, other vegetables, tropical fruit, whole milk)</td></tr><tr><td>1636</td><td>List(oil)</td><td>List()</td></tr><tr><td>1639</td><td>List(napkins)</td><td>List()</td></tr><tr><td>1655</td><td>List(canned beer)</td><td>List()</td></tr><tr><td>1666</td><td>List(whole milk, yogurt, white bread, newspapers)</td><td>List(citrus fruit, rolls/buns, other vegetables, tropical fruit, chicken, pip fruit, bottled water, whipped/sour cream, frankfurter, butter, curd, root vegetables, pork, pastry, sausage, beef)</td></tr><tr><td>1667</td><td>List(beef, citrus fruit, pip fruit, yogurt)</td><td>List(rolls/buns, other vegetables, tropical fruit, whole milk, root vegetables, sausage)</td></tr><tr><td>1668</td><td>List(domestic eggs, rolls/buns, soda)</td><td>List(other vegetables, whole milk, yogurt, sausage)</td></tr><tr><td>1671</td><td>List(ham, pip fruit, whole milk, rolls/buns)</td><td>List(other vegetables, soda, yogurt, sausage, citrus fruit, chicken, bottled water, whipped/sour cream, frankfurter, butter, tropical fruit, curd, root vegetables, pork, pastry, beef)</td></tr><tr><td>1673</td><td>List(bottled water)</td><td>List(whole milk)</td></tr><tr><td>1684</td><td>List(tropical fruit, butter, butter milk, brown bread)</td><td>List(citrus fruit, pip fruit, other vegetables, whole milk, root vegetables, yogurt, sausage)</td></tr><tr><td>1685</td><td>List(frankfurter, pip fruit, rolls/buns, bottled water)</td><td>List(other vegetables, whole milk, soda, yogurt, sausage, citrus fruit, root vegetables, tropical fruit)</td></tr><tr><td>1703</td><td>List(meat, citrus fruit, other vegetables, canned beer)</td><td>List(chicken, whole milk, pip fruit, rolls/buns, frankfurter, tropical fruit, root vegetables, pork, hamburger meat, yogurt, sausage, beef)</td></tr><tr><td>1706</td><td>List(sausage, other vegetables)</td><td>List(citrus fruit, chicken, whole milk, pip fruit, rolls/buns, frankfurter, tropical fruit, root vegetables, pork, hamburger meat, yogurt, beef)</td></tr><tr><td>1716</td><td>List(sausage, tropical fruit, pip fruit, other vegetables)</td><td>List(citrus fruit, chicken, whole milk, rolls/buns, frankfurter, root vegetables, pork, hamburger meat, yogurt, beef)</td></tr><tr><td>1722</td><td>List(rolls/buns)</td><td>List(other vegetables, whole milk, soda, yogurt, sausage)</td></tr><tr><td>1723</td><td>List(frankfurter, rolls/buns, fruit/vegetable juice)</td><td>List(other vegetables, whole milk, soda, yogurt, sausage)</td></tr><tr><td>1732</td><td>List(fruit/vegetable juice, nut snack)</td><td>List()</td></tr><tr><td>1736</td><td>List(frankfurter, white bread, pastry, dog food)</td><td>List(whole milk, other vegetables)</td></tr><tr><td>1740</td><td>List(canned beer)</td><td>List()</td></tr><tr><td>1745</td><td>List(bags)</td><td>List()</td></tr><tr><td>1746</td><td>List(rolls/buns)</td><td>List(other vegetables, whole milk, soda, yogurt, sausage)</td></tr><tr><td>1749</td><td>List(butter, domestic eggs, pasta, fruit/vegetable juice)</td><td>List(whole milk)</td></tr><tr><td>1753</td><td>List(chicken, hamburger meat, pip fruit, onions)</td><td>List(other vegetables, whole milk, citrus fruit, root vegetables, sausage, tropical fruit)</td></tr><tr><td>1756</td><td>List(spread cheese, pastry)</td><td>List(whole milk)</td></tr><tr><td>1769</td><td>List(citrus fruit, other vegetables, butter, candy)</td><td>List(chicken, whole milk, pip fruit, rolls/buns, frankfurter, tropical fruit, root vegetables, pork, hamburger meat, yogurt, sausage, beef)</td></tr><tr><td>1776</td><td>List(pork, citrus fruit, soda, canned beer)</td><td>List(root vegetables, sausage, other vegetables, tropical fruit, yogurt, whole milk, pip fruit, rolls/buns)</td></tr><tr><td>1780</td><td>List(grapes, whole milk, white wine, dishes)</td><td>List(citrus fruit, chicken, other vegetables, pip fruit, rolls/buns, bottled water, whipped/sour cream, frankfurter, butter, tropical fruit, curd, root vegetables, pork, pastry, yogurt, sausage, beef)</td></tr><tr><td>1782</td><td>List(frozen fish, hygiene articles, shopping bags)</td><td>List()</td></tr><tr><td>1783</td><td>List(tropical fruit, pastry, soda)</td><td>List(whole milk, citrus fruit, pip fruit, other vegetables, root vegetables, yogurt, sausage, rolls/buns)</td></tr><tr><td>1791</td><td>List(pastry, soda)</td><td>List(whole milk, rolls/buns)</td></tr><tr><td>1796</td><td>List(pip fruit, whole milk)</td><td>List(citrus fruit, chicken, other vegetables, rolls/buns, bottled water, whipped/sour cream, frankfurter, butter, tropical fruit, curd, root vegetables, pork, pastry, yogurt, sausage, beef)</td></tr><tr><td>1803</td><td>List(newspapers)</td><td>List()</td></tr><tr><td>1806</td><td>List(misc. beverages)</td><td>List()</td></tr><tr><td>1810</td><td>List(photo/film)</td><td>List()</td></tr><tr><td>1812</td><td>List(sausage, meat, tropical fruit, soda)</td><td>List(citrus fruit, pip fruit, other vegetables, whole milk, root vegetables, yogurt, rolls/buns)</td></tr><tr><td>1817</td><td>List(soda, house keeping products)</td><td>List(rolls/buns)</td></tr><tr><td>1826</td><td>List(meat, citrus fruit, pip fruit, curd)</td><td>List(whole milk, root vegetables, sausage, other vegetables, tropical fruit, yogurt)</td></tr><tr><td>1835</td><td>List(whole milk, butter, yogurt, frozen meals)</td><td>List(citrus fruit, rolls/buns, other vegetables, tropical fruit, chicken, pip fruit, bottled water, whipped/sour cream, frankfurter, curd, root vegetables, pork, pastry, sausage, beef)</td></tr><tr><td>1836</td><td>List(citrus fruit, root vegetables, other vegetables, salt)</td><td>List(chicken, whole milk, pip fruit, rolls/buns, frankfurter, tropical fruit, pork, hamburger meat, yogurt, sausage, beef)</td></tr><tr><td>1837</td><td>List(pip fruit, coffee)</td><td>List(citrus fruit, root vegetables, sausage, other vegetables, tropical fruit, whole milk)</td></tr><tr><td>1841</td><td>List(tropical fruit, grapes, oil, canned vegetables)</td><td>List(citrus fruit, pip fruit, other vegetables, whole milk, root vegetables, yogurt, sausage)</td></tr><tr><td>1843</td><td>List(citrus fruit, rolls/buns, bottled water, red/blush wine)</td><td>List(other vegetables, whole milk, soda, yogurt, sausage, root vegetables, tropical fruit, pip fruit)</td></tr><tr><td>1845</td><td>List(root vegetables, other vegetables, whole milk, curd)</td><td>List(citrus fruit, chicken, pip fruit, rolls/buns, frankfurter, tropical fruit, pork, hamburger meat, yogurt, sausage, beef, bottled water, whipped/sour cream, butter, pastry)</td></tr><tr><td>1848</td><td>List(root vegetables)</td><td>List(citrus fruit, pip fruit, other vegetables, tropical fruit, whole milk, pork, sausage, beef)</td></tr><tr><td>1851</td><td>List(canned beer, newspapers)</td><td>List()</td></tr><tr><td>1866</td><td>List(tropical fruit, rolls/buns)</td><td>List(other vegetables, whole milk, soda, yogurt, sausage, citrus fruit, pip fruit, root vegetables)</td></tr><tr><td>1874</td><td>List(root vegetables, other vegetables, whipped/sour cream, canned beer)</td><td>List(citrus fruit, chicken, whole milk, pip fruit, rolls/buns, frankfurter, tropical fruit, pork, hamburger meat, yogurt, sausage, beef)</td></tr><tr><td>1880</td><td>List(rolls/buns, bottled water, soda)</td><td>List(other vegetables, whole milk, yogurt, sausage)</td></tr><tr><td>1884</td><td>List(root vegetables, other vegetables, domestic eggs, sugar)</td><td>List(citrus fruit, chicken, whole milk, pip fruit, rolls/buns, frankfurter, tropical fruit, pork, hamburger meat, yogurt, sausage, beef)</td></tr><tr><td>1894</td><td>List(curd)</td><td>List(whole milk)</td></tr><tr><td>1895</td><td>List(other vegetables, whole milk, frozen potato products, rolls/buns)</td><td>List(citrus fruit, chicken, pip fruit, frankfurter, tropical fruit, root vegetables, pork, hamburger meat, yogurt, sausage, beef, soda, bottled water, whipped/sour cream, butter, curd, pastry)</td></tr><tr><td>1900</td><td>List(margarine)</td><td>List()</td></tr><tr><td>1904</td><td>List(pork, tropical fruit, whole milk, rolls/buns)</td><td>List(other vegetables, soda, yogurt, sausage, citrus fruit, pip fruit, root vegetables, chicken, bottled water, whipped/sour cream, frankfurter, butter, curd, pastry, beef)</td></tr><tr><td>1918</td><td>List(whole milk, curd, yogurt, frozen vegetables)</td><td>List(citrus fruit, rolls/buns, other vegetables, tropical fruit, chicken, pip fruit, bottled water, whipped/sour cream, frankfurter, butter, root vegetables, pork, pastry, sausage, beef)</td></tr><tr><td>1921</td><td>List(ham, beef, tropical fruit, pip fruit)</td><td>List(citrus fruit, other vegetables, whole milk, root vegetables, yogurt, sausage)</td></tr><tr><td>1927</td><td>List(beverages, rolls/buns, long life bakery product, shopping bags)</td><td>List(other vegetables, whole milk, soda, yogurt, sausage)</td></tr><tr><td>1930</td><td>List(butter, pastry, semi-finished bread, white wine)</td><td>List(whole milk)</td></tr><tr><td>1932</td><td>List(sausage, ham, meat, pork)</td><td>List(citrus fruit, pip fruit, rolls/buns, root vegetables, other vegetables, tropical fruit, whole milk)</td></tr><tr><td>1933</td><td>List(ham, whole milk, spread cheese, rolls/buns)</td><td>List(other vegetables, soda, yogurt, sausage, citrus fruit, chicken, pip fruit, bottled water, whipped/sour cream, frankfurter, butter, tropical fruit, curd, root vegetables, pork, pastry, beef)</td></tr><tr><td>1934</td><td>List(soda, canned beer)</td><td>List(rolls/buns)</td></tr><tr><td>1939</td><td>List(root vegetables)</td><td>List(citrus fruit, pip fruit, other vegetables, tropical fruit, whole milk, pork, sausage, beef)</td></tr><tr><td>1947</td><td>List(whole milk, whipped/sour cream)</td><td>List(citrus fruit, chicken, other vegetables, pip fruit, rolls/buns, bottled water, frankfurter, butter, tropical fruit, curd, root vegetables, pork, pastry, yogurt, sausage, beef)</td></tr><tr><td>1952</td><td>List(root vegetables, whole milk, yogurt)</td><td>List(citrus fruit, rolls/buns, other vegetables, tropical fruit, chicken, pip fruit, bottled water, whipped/sour cream, frankfurter, butter, curd, pork, pastry, sausage, beef)</td></tr><tr><td>1955</td><td>List(sweet spreads, coffee, chocolate, seasonal products)</td><td>List()</td></tr><tr><td>1957</td><td>List(frozen vegetables, frozen meals)</td><td>List()</td></tr><tr><td>1958</td><td>List(bottled water, specialty chocolate)</td><td>List(whole milk)</td></tr><tr><td>1965</td><td>List(citrus fruit, pip fruit, other vegetables, whole milk)</td><td>List(chicken, rolls/buns, frankfurter, tropical fruit, root vegetables, pork, hamburger meat, yogurt, sausage, beef, bottled water, whipped/sour cream, butter, curd, pastry)</td></tr><tr><td>1973</td><td>List(onions, rolls/buns)</td><td>List(other vegetables, whole milk, soda, yogurt, sausage)</td></tr><tr><td>1974</td><td>List(ice cream, soda, fruit/vegetable juice)</td><td>List(rolls/buns)</td></tr><tr><td>1975</td><td>List(herbs)</td><td>List()</td></tr><tr><td>1983</td><td>List(canned beer)</td><td>List()</td></tr><tr><td>1984</td><td>List(cat food, chocolate, specialty chocolate)</td><td>List()</td></tr><tr><td>1985</td><td>List(whipped/sour cream)</td><td>List(whole milk)</td></tr><tr><td>1987</td><td>List(berries, other vegetables, yogurt)</td><td>List(citrus fruit, chicken, whole milk, pip fruit, rolls/buns, frankfurter, tropical fruit, root vegetables, pork, hamburger meat, sausage, beef)</td></tr><tr><td>1995</td><td>List(bottled beer, shopping bags)</td><td>List()</td></tr><tr><td>2002</td><td>List(other vegetables, pastry)</td><td>List(citrus fruit, chicken, whole milk, pip fruit, rolls/buns, frankfurter, tropical fruit, root vegetables, pork, hamburger meat, yogurt, sausage, beef)</td></tr><tr><td>2008</td><td>List(citrus fruit, tropical fruit, whole milk, domestic eggs)</td><td>List(pip fruit, other vegetables, root vegetables, yogurt, sausage, chicken, rolls/buns, bottled water, whipped/sour cream, frankfurter, butter, curd, pork, pastry, beef)</td></tr><tr><td>2011</td><td>List(whole milk)</td><td>List(citrus fruit, chicken, other vegetables, pip fruit, rolls/buns, bottled water, whipped/sour cream, frankfurter, butter, tropical fruit, curd, root vegetables, pork, pastry, yogurt, sausage, beef)</td></tr><tr><td>2018</td><td>List(pip fruit, vinegar, bottled water, shopping bags)</td><td>List(whole milk, citrus fruit, root vegetables, sausage, other vegetables, tropical fruit)</td></tr><tr><td>2022</td><td>List(mustard, soda, fruit/vegetable juice)</td><td>List(rolls/buns)</td></tr><tr><td>2031</td><td>List(bottled beer)</td><td>List()</td></tr><tr><td>2032</td><td>List(beef, grapes, fruit/vegetable juice)</td><td>List(root vegetables, other vegetables, whole milk)</td></tr><tr><td>2033</td><td>List(pip fruit, sugar)</td><td>List(citrus fruit, root vegetables, sausage, other vegetables, tropical fruit, whole milk)</td></tr><tr><td>2039</td><td>List(whole milk, pastry, fruit/vegetable juice, canned beer)</td><td>List(citrus fruit, chicken, other vegetables, pip fruit, rolls/buns, bottled water, whipped/sour cream, frankfurter, butter, tropical fruit, curd, root vegetables, pork, yogurt, sausage, beef)</td></tr><tr><td>2042</td><td>List(whole milk, cream cheese, oil, bottled water)</td><td>List(citrus fruit, chicken, other vegetables, pip fruit, rolls/buns, whipped/sour cream, frankfurter, butter, tropical fruit, curd, root vegetables, pork, pastry, yogurt, sausage, beef)</td></tr><tr><td>2044</td><td>List(butter milk, specialty chocolate)</td><td>List()</td></tr><tr><td>2047</td><td>List(whole milk, ice cream, pastry, coffee)</td><td>List(citrus fruit, chicken, other vegetables, pip fruit, rolls/buns, bottled water, whipped/sour cream, frankfurter, butter, tropical fruit, curd, root vegetables, pork, yogurt, sausage, beef)</td></tr><tr><td>2048</td><td>List(canned beer, liquor)</td><td>List()</td></tr><tr><td>2049</td><td>List(salty snack)</td><td>List()</td></tr><tr><td>2056</td><td>List(domestic eggs, cat food, bottled water)</td><td>List(whole milk)</td></tr><tr><td>2066</td><td>List(berries, chewing gum, seasonal products, newspapers)</td><td>List()</td></tr><tr><td>2068</td><td>List(chicken, canned beer, shopping bags)</td><td>List(other vegetables, whole milk)</td></tr><tr><td>2070</td><td>List(whole milk, specialty fat, soda)</td><td>List(citrus fruit, chicken, other vegetables, pip fruit, rolls/buns, bottled water, whipped/sour cream, frankfurter, butter, tropical fruit, curd, root vegetables, pork, pastry, yogurt, sausage, beef)</td></tr><tr><td>2071</td><td>List(pork, tropical fruit, berries, whole milk)</td><td>List(citrus fruit, pip fruit, other vegetables, root vegetables, yogurt, sausage, chicken, rolls/buns, bottled water, whipped/sour cream, frankfurter, butter, curd, pastry, beef)</td></tr><tr><td>2077</td><td>List(fish, brown bread, pet care, napkins)</td><td>List()</td></tr><tr><td>2080</td><td>List(whole milk, yogurt, spread cheese, semi-finished bread)</td><td>List(citrus fruit, rolls/buns, other vegetables, tropical fruit, chicken, pip fruit, bottled water, whipped/sour cream, frankfurter, butter, curd, root vegetables, pork, pastry, sausage, beef)</td></tr><tr><td>2082</td><td>List(whole milk, brown bread)</td><td>List(citrus fruit, chicken, other vegetables, pip fruit, rolls/buns, bottled water, whipped/sour cream, frankfurter, butter, tropical fruit, curd, root vegetables, pork, pastry, yogurt, sausage, beef)</td></tr><tr><td>2107</td><td>List(tropical fruit, other vegetables, whole milk, frozen vegetables)</td><td>List(citrus fruit, chicken, pip fruit, rolls/buns, frankfurter, root vegetables, pork, hamburger meat, yogurt, sausage, beef, bottled water, whipped/sour cream, butter, curd, pastry)</td></tr><tr><td>2114</td><td>List(frankfurter, pip fruit, newspapers)</td><td>List(other vegetables, whole milk, citrus fruit, root vegetables, sausage, tropical fruit)</td></tr><tr><td>2118</td><td>List(rolls/buns, bottled beer)</td><td>List(other vegetables, whole milk, soda, yogurt, sausage)</td></tr><tr><td>2119</td><td>List(rolls/buns, white bread, dish cleaner, shopping bags)</td><td>List(other vegetables, whole milk, soda, yogurt, sausage)</td></tr><tr><td>2124</td><td>List(citrus fruit, pip fruit)</td><td>List(root vegetables, sausage, other vegetables, tropical fruit, yogurt, whole milk)</td></tr><tr><td>2127</td><td>List(soda)</td><td>List(rolls/buns)</td></tr><tr><td>2129</td><td>List(root vegetables)</td><td>List(citrus fruit, pip fruit, other vegetables, tropical fruit, whole milk, pork, sausage, beef)</td></tr><tr><td>2133</td><td>List(citrus fruit, whole milk, whipped/sour cream, rolls/buns)</td><td>List(other vegetables, soda, yogurt, sausage, root vegetables, tropical fruit, pip fruit, chicken, bottled water, frankfurter, butter, curd, pork, pastry, beef)</td></tr><tr><td>2134</td><td>List(frankfurter, beef, other vegetables, rolls/buns)</td><td>List(citrus fruit, chicken, whole milk, pip fruit, tropical fruit, root vegetables, pork, hamburger meat, yogurt, sausage, soda)</td></tr><tr><td>2138</td><td>List(pork, beef, other vegetables, hard cheese)</td><td>List(citrus fruit, chicken, whole milk, pip fruit, rolls/buns, frankfurter, tropical fruit, root vegetables, hamburger meat, yogurt, sausage)</td></tr><tr><td>2143</td><td>List(liver loaf, whole milk, yogurt)</td><td>List(citrus fruit, rolls/buns, other vegetables, tropical fruit, chicken, pip fruit, bottled water, whipped/sour cream, frankfurter, butter, curd, root vegetables, pork, pastry, sausage, beef)</td></tr><tr><td>2148</td><td>List(onions, whole milk, curd, yogurt)</td><td>List(citrus fruit, rolls/buns, other vegetables, tropical fruit, chicken, pip fruit, bottled water, whipped/sour cream, frankfurter, butter, root vegetables, pork, pastry, sausage, beef)</td></tr><tr><td>2150</td><td>List(soda, bottled beer)</td><td>List(rolls/buns)</td></tr><tr><td>2151</td><td>List(chicken, citrus fruit, yogurt, UHT-milk)</td><td>List(rolls/buns, other vegetables, tropical fruit, whole milk, root vegetables, sausage, pip fruit)</td></tr><tr><td>2156</td><td>List(whole milk, soda, canned beer, liquor (appetizer))</td><td>List(citrus fruit, chicken, other vegetables, pip fruit, rolls/buns, bottled water, whipped/sour cream, frankfurter, butter, tropical fruit, curd, root vegetables, pork, pastry, yogurt, sausage, beef)</td></tr><tr><td>2159</td><td>List(onions, spread cheese)</td><td>List()</td></tr><tr><td>2162</td><td>List(pastry)</td><td>List(whole milk)</td></tr><tr><td>2163</td><td>List(hamburger meat, semi-finished bread, Instant food products)</td><td>List(other vegetables)</td></tr><tr><td>2164</td><td>List(frankfurter)</td><td>List(other vegetables, whole milk)</td></tr><tr><td>2166</td><td>List(butter)</td><td>List(whole milk)</td></tr><tr><td>2172</td><td>List(whole milk)</td><td>List(citrus fruit, chicken, other vegetables, pip fruit, rolls/buns, bottled water, whipped/sour cream, frankfurter, butter, tropical fruit, curd, root vegetables, pork, pastry, yogurt, sausage, beef)</td></tr><tr><td>2174</td><td>List(frankfurter, frozen potato products)</td><td>List(other vegetables, whole milk)</td></tr><tr><td>2175</td><td>List(sausage, beef, citrus fruit, sweet spreads)</td><td>List(pip fruit, rolls/buns, root vegetables, other vegetables, tropical fruit, whole milk, yogurt)</td></tr><tr><td>2176</td><td>List(other vegetables, bottled beer)</td><td>List(citrus fruit, chicken, whole milk, pip fruit, rolls/buns, frankfurter, tropical fruit, root vegetables, pork, hamburger meat, yogurt, sausage, beef)</td></tr><tr><td>2183</td><td>List(frankfurter, sausage, other vegetables, hard cheese)</td><td>List(citrus fruit, chicken, whole milk, pip fruit, rolls/buns, tropical fruit, root vegetables, pork, hamburger meat, yogurt, beef)</td></tr><tr><td>2184</td><td>List(rolls/buns, rum)</td><td>List(other vegetables, whole milk, soda, yogurt, sausage)</td></tr><tr><td>2186</td><td>List(tropical fruit, cream cheese, chocolate)</td><td>List(citrus fruit, pip fruit, other vegetables, whole milk, root vegetables, yogurt, sausage)</td></tr><tr><td>2195</td><td>List(domestic eggs, rolls/buns)</td><td>List(other vegetables, whole milk, soda, yogurt, sausage)</td></tr><tr><td>2203</td><td>List(root vegetables, herbs, frozen vegetables, bottled water)</td><td>List(whole milk, citrus fruit, pip fruit, other vegetables, tropical fruit, pork, sausage, beef)</td></tr><tr><td>2209</td><td>List(dessert, rolls/buns, bottled water, specialty bar)</td><td>List(other vegetables, whole milk, soda, yogurt, sausage)</td></tr><tr><td>2214</td><td>List(brown bread, fruit/vegetable juice, newspapers, shopping bags)</td><td>List()</td></tr><tr><td>2217</td><td>List(pork, root vegetables, onions, other vegetables)</td><td>List(citrus fruit, chicken, whole milk, pip fruit, rolls/buns, frankfurter, tropical fruit, hamburger meat, yogurt, sausage, beef)</td></tr><tr><td>2229</td><td>List(pork, root vegetables, sliced cheese, frozen vegetables)</td><td>List(citrus fruit, pip fruit, other vegetables, tropical fruit, whole milk, sausage, beef)</td></tr><tr><td>2230</td><td>List(pip fruit, onions, whole milk)</td><td>List(citrus fruit, chicken, other vegetables, rolls/buns, bottled water, whipped/sour cream, frankfurter, butter, tropical fruit, curd, root vegetables, pork, pastry, yogurt, sausage, beef)</td></tr><tr><td>2237</td><td>List(salty snack)</td><td>List()</td></tr><tr><td>2239</td><td>List(pork, hamburger meat, herbs, yogurt)</td><td>List(citrus fruit, rolls/buns, other vegetables, tropical fruit, whole milk, root vegetables)</td></tr><tr><td>2255</td><td>List(tropical fruit, other vegetables, whole milk, fruit/vegetable juice)</td><td>List(citrus fruit, chicken, pip fruit, rolls/buns, frankfurter, root vegetables, pork, hamburger meat, yogurt, sausage, beef, bottled water, whipped/sour cream, butter, curd, pastry)</td></tr><tr><td>2260</td><td>List(soda, chocolate, specialty chocolate)</td><td>List(rolls/buns)</td></tr><tr><td>2265</td><td>List(pork, cat food)</td><td>List(root vegetables, other vegetables, whole milk)</td></tr><tr><td>2268</td><td>List(citrus fruit, pip fruit)</td><td>List(root vegetables, sausage, other vegetables, tropical fruit, yogurt, whole milk)</td></tr><tr><td>2270</td><td>List(frankfurter, other vegetables, yogurt, beverages)</td><td>List(citrus fruit, chicken, whole milk, pip fruit, rolls/buns, tropical fruit, root vegetables, pork, hamburger meat, sausage, beef)</td></tr><tr><td>2274</td><td>List(dish cleaner, napkins)</td><td>List()</td></tr><tr><td>2289</td><td>List(whole milk, butter milk, yogurt)</td><td>List(citrus fruit, rolls/buns, other vegetables, tropical fruit, chicken, pip fruit, bottled water, whipped/sour cream, frankfurter, butter, curd, root vegetables, pork, pastry, sausage, beef)</td></tr><tr><td>2295</td><td>List(butter, sliced cheese, misc. beverages, fruit/vegetable juice)</td><td>List(whole milk)</td></tr><tr><td>2296</td><td>List(beverages, waffles)</td><td>List()</td></tr><tr><td>2310</td><td>List(beverages)</td><td>List()</td></tr><tr><td>2313</td><td>List(other vegetables)</td><td>List(citrus fruit, chicken, whole milk, pip fruit, rolls/buns, frankfurter, tropical fruit, root vegetables, pork, hamburger meat, yogurt, sausage, beef)</td></tr><tr><td>2321</td><td>List(canned beer)</td><td>List()</td></tr><tr><td>2328</td><td>List(whole milk, beverages, bottled water, cake bar)</td><td>List(citrus fruit, chicken, other vegetables, pip fruit, rolls/buns, whipped/sour cream, frankfurter, butter, tropical fruit, curd, root vegetables, pork, pastry, yogurt, sausage, beef)</td></tr><tr><td>2331</td><td>List(hygiene articles)</td><td>List()</td></tr><tr><td>2333</td><td>List(meat, beef, root vegetables, butter)</td><td>List(other vegetables, whole milk, citrus fruit, pip fruit, tropical fruit, pork, sausage)</td></tr><tr><td>2337</td><td>List(hamburger meat, yogurt, rolls/buns, artif. sweetener)</td><td>List(citrus fruit, other vegetables, tropical fruit, whole milk, soda, sausage)</td></tr><tr><td>2339</td><td>List(instant coffee)</td><td>List()</td></tr><tr><td>2342</td><td>List(pork, beverages, flour, margarine)</td><td>List(root vegetables, other vegetables, whole milk)</td></tr><tr><td>2343</td><td>List(tropical fruit, berries, root vegetables, whole milk)</td><td>List(citrus fruit, pip fruit, other vegetables, yogurt, sausage, chicken, rolls/buns, bottled water, whipped/sour cream, frankfurter, butter, curd, pork, pastry, beef)</td></tr><tr><td>2345</td><td>List(frankfurter, meat, berries, root vegetables)</td><td>List(other vegetables, whole milk, citrus fruit, pip fruit, tropical fruit, pork, sausage, beef)</td></tr><tr><td>2347</td><td>List(pip fruit, rolls/buns, sugar, sauces)</td><td>List(other vegetables, whole milk, soda, yogurt, sausage, citrus fruit, root vegetables, tropical fruit)</td></tr><tr><td>2348</td><td>List(pip fruit, root vegetables, other vegetables, whole milk)</td><td>List(citrus fruit, chicken, rolls/buns, frankfurter, tropical fruit, pork, hamburger meat, yogurt, sausage, beef, bottled water, whipped/sour cream, butter, curd, pastry)</td></tr><tr><td>2350</td><td>List(sausage, pip fruit, bottled water)</td><td>List(whole milk, citrus fruit, rolls/buns, root vegetables, other vegetables, tropical fruit)</td></tr><tr><td>2354</td><td>List(domestic eggs, dish cleaner, hygiene articles)</td><td>List()</td></tr><tr><td>2361</td><td>List(sausage, rolls/buns, shopping bags)</td><td>List(other vegetables, whole milk, soda, yogurt, citrus fruit, pip fruit, root vegetables, tropical fruit)</td></tr><tr><td>2362</td><td>List(pastry, candles)</td><td>List(whole milk)</td></tr><tr><td>2365</td><td>List(whole milk, yogurt, whipped/sour cream, sugar)</td><td>List(citrus fruit, rolls/buns, other vegetables, tropical fruit, chicken, pip fruit, bottled water, frankfurter, butter, curd, root vegetables, pork, pastry, sausage, beef)</td></tr><tr><td>2379</td><td>List(frankfurter, butter, rolls/buns, semi-finished bread)</td><td>List(other vegetables, whole milk, soda, yogurt, sausage)</td></tr><tr><td>2380</td><td>List(rolls/buns, pastry, soda)</td><td>List(whole milk, other vegetables, yogurt, sausage)</td></tr><tr><td>2383</td><td>List(UHT-milk, margarine, bottled water, soda)</td><td>List(whole milk, rolls/buns)</td></tr><tr><td>2386</td><td>List(processed cheese)</td><td>List()</td></tr><tr><td>2392</td><td>List(tropical fruit, butter, brown bread)</td><td>List(citrus fruit, pip fruit, other vegetables, whole milk, root vegetables, yogurt, sausage)</td></tr><tr><td>2394</td><td>List(sausage)</td><td>List(citrus fruit, pip fruit, rolls/buns, root vegetables, other vegetables, tropical fruit, whole milk)</td></tr><tr><td>2398</td><td>List(sausage)</td><td>List(citrus fruit, pip fruit, rolls/buns, root vegetables, other vegetables, tropical fruit, whole milk)</td></tr><tr><td>2399</td><td>List(pastry, fruit/vegetable juice)</td><td>List(whole milk)</td></tr><tr><td>2404</td><td>List(ham, beef, citrus fruit, tropical fruit)</td><td>List(pip fruit, other vegetables, whole milk, root vegetables, yogurt, sausage)</td></tr><tr><td>2408</td><td>List(other vegetables)</td><td>List(citrus fruit, chicken, whole milk, pip fruit, rolls/buns, frankfurter, tropical fruit, root vegetables, pork, hamburger meat, yogurt, sausage, beef)</td></tr><tr><td>2409</td><td>List(onions, whole milk, butter, frozen fish)</td><td>List(citrus fruit, chicken, other vegetables, pip fruit, rolls/buns, bottled water, whipped/sour cream, frankfurter, tropical fruit, curd, root vegetables, pork, pastry, yogurt, sausage, beef)</td></tr><tr><td>2410</td><td>List(tropical fruit, rolls/buns, bottled water)</td><td>List(other vegetables, whole milk, soda, yogurt, sausage, citrus fruit, pip fruit, root vegetables)</td></tr><tr><td>2420</td><td>List(rolls/buns)</td><td>List(other vegetables, whole milk, soda, yogurt, sausage)</td></tr><tr><td>2427</td><td>List(sausage, citrus fruit, other vegetables, yogurt)</td><td>List(chicken, whole milk, pip fruit, rolls/buns, frankfurter, tropical fruit, root vegetables, pork, hamburger meat, beef)</td></tr><tr><td>2435</td><td>List(citrus fruit, tropical fruit, other vegetables, whole milk)</td><td>List(chicken, pip fruit, rolls/buns, frankfurter, root vegetables, pork, hamburger meat, yogurt, sausage, beef, bottled water, whipped/sour cream, butter, curd, pastry)</td></tr><tr><td>2436</td><td>List(pip fruit, root vegetables, butter milk, frozen vegetables)</td><td>List(citrus fruit, sausage, other vegetables, tropical fruit, whole milk, pork, beef)</td></tr><tr><td>2439</td><td>List(shopping bags)</td><td>List()</td></tr><tr><td>2443</td><td>List(soda, hygiene articles, napkins)</td><td>List(rolls/buns)</td></tr><tr><td>2446</td><td>List(sausage)</td><td>List(citrus fruit, pip fruit, rolls/buns, root vegetables, other vegetables, tropical fruit, whole milk)</td></tr><tr><td>2450</td><td>List(yogurt, pastry, canned beer, red/blush wine)</td><td>List(whole milk, citrus fruit, rolls/buns, other vegetables, tropical fruit)</td></tr><tr><td>2454</td><td>List(frankfurter, pip fruit, other vegetables, whole milk)</td><td>List(citrus fruit, chicken, rolls/buns, tropical fruit, root vegetables, pork, hamburger meat, yogurt, sausage, beef, bottled water, whipped/sour cream, butter, curd, pastry)</td></tr><tr><td>2457</td><td>List(chicken, soda, canned beer, liquor (appetizer))</td><td>List(other vegetables, whole milk, rolls/buns)</td></tr><tr><td>2460</td><td>List(whipped/sour cream, candy)</td><td>List(whole milk)</td></tr><tr><td>2465</td><td>List(citrus fruit, tropical fruit, whipped/sour cream, rolls/buns)</td><td>List(whole milk, other vegetables, soda, yogurt, sausage, pip fruit, root vegetables)</td></tr><tr><td>2474</td><td>List(butter, oil, cling film/bags)</td><td>List(whole milk)</td></tr><tr><td>2479</td><td>List(whole milk, yogurt, pastry, soda)</td><td>List(citrus fruit, rolls/buns, other vegetables, tropical fruit, chicken, pip fruit, bottled water, whipped/sour cream, frankfurter, butter, curd, root vegetables, pork, sausage, beef)</td></tr><tr><td>2482</td><td>List(whipped/sour cream, sliced cheese, frozen dessert, hygiene articles)</td><td>List(whole milk)</td></tr><tr><td>2483</td><td>List(yogurt, frozen fish, ice cream)</td><td>List(citrus fruit, rolls/buns, other vegetables, tropical fruit, whole milk)</td></tr><tr><td>2484</td><td>List(butter milk, tea, fruit/vegetable juice, bottled beer)</td><td>List()</td></tr><tr><td>2492</td><td>List(other vegetables, oil)</td><td>List(citrus fruit, chicken, whole milk, pip fruit, rolls/buns, frankfurter, tropical fruit, root vegetables, pork, hamburger meat, yogurt, sausage, beef)</td></tr><tr><td>2495</td><td>List(sausage)</td><td>List(citrus fruit, pip fruit, rolls/buns, root vegetables, other vegetables, tropical fruit, whole milk)</td></tr><tr><td>2499</td><td>List(root vegetables, yogurt, beverages, flour)</td><td>List(citrus fruit, rolls/buns, other vegetables, tropical fruit, whole milk, pip fruit, pork, sausage, beef)</td></tr><tr><td>2501</td><td>List(sausage, beef, hamburger meat, yogurt)</td><td>List(citrus fruit, rolls/buns, other vegetables, tropical fruit, whole milk, pip fruit, root vegetables)</td></tr><tr><td>2508</td><td>List(UHT-milk, domestic eggs, sugar, fruit/vegetable juice)</td><td>List()</td></tr><tr><td>2516</td><td>List(frankfurter, other vegetables, whole milk, yogurt)</td><td>List(citrus fruit, chicken, pip fruit, rolls/buns, tropical fruit, root vegetables, pork, hamburger meat, sausage, beef, bottled water, whipped/sour cream, butter, curd, pastry)</td></tr><tr><td>2517</td><td>List(bottled beer)</td><td>List()</td></tr><tr><td>2522</td><td>List(meat, beef, onions, white wine)</td><td>List(root vegetables, other vegetables, whole milk)</td></tr><tr><td>2528</td><td>List(meat, other vegetables)</td><td>List(citrus fruit, chicken, whole milk, pip fruit, rolls/buns, frankfurter, tropical fruit, root vegetables, pork, hamburger meat, yogurt, sausage, beef)</td></tr><tr><td>2533</td><td>List(long life bakery product)</td><td>List()</td></tr><tr><td>2536</td><td>List(bottled beer)</td><td>List()</td></tr><tr><td>2537</td><td>List(pork, tropical fruit, root vegetables, onions)</td><td>List(citrus fruit, pip fruit, other vegetables, whole milk, yogurt, sausage, beef)</td></tr><tr><td>2539</td><td>List(whole milk, domestic eggs, brown bread, photo/film)</td><td>List(citrus fruit, chicken, other vegetables, pip fruit, rolls/buns, bottled water, whipped/sour cream, frankfurter, butter, tropical fruit, curd, root vegetables, pork, pastry, yogurt, sausage, beef)</td></tr><tr><td>2542</td><td>List(pip fruit, other vegetables, whole milk, yogurt)</td><td>List(citrus fruit, chicken, rolls/buns, frankfurter, tropical fruit, root vegetables, pork, hamburger meat, sausage, beef, bottled water, whipped/sour cream, butter, curd, pastry)</td></tr><tr><td>2544</td><td>List(whole milk, newspapers)</td><td>List(citrus fruit, chicken, other vegetables, pip fruit, rolls/buns, bottled water, whipped/sour cream, frankfurter, butter, tropical fruit, curd, root vegetables, pork, pastry, yogurt, sausage, beef)</td></tr><tr><td>2546</td><td>List(canned beer)</td><td>List()</td></tr><tr><td>2549</td><td>List(root vegetables, other vegetables, frozen vegetables)</td><td>List(citrus fruit, chicken, whole milk, pip fruit, rolls/buns, frankfurter, tropical fruit, pork, hamburger meat, yogurt, sausage, beef)</td></tr><tr><td>2563</td><td>List(curd, yogurt)</td><td>List(citrus fruit, rolls/buns, other vegetables, tropical fruit, whole milk)</td></tr><tr><td>2568</td><td>List(bottled beer)</td><td>List()</td></tr><tr><td>2572</td><td>List(pork, citrus fruit)</td><td>List(root vegetables, sausage, other vegetables, tropical fruit, yogurt, whole milk, pip fruit)</td></tr><tr><td>2576</td><td>List(frankfurter, root vegetables, whole milk, frozen vegetables)</td><td>List(citrus fruit, chicken, other vegetables, pip fruit, rolls/buns, bottled water, whipped/sour cream, butter, tropical fruit, curd, pork, pastry, yogurt, sausage, beef)</td></tr><tr><td>2577</td><td>List(beef, citrus fruit, whole milk)</td><td>List(root vegetables, sausage, other vegetables, tropical fruit, yogurt, pip fruit, chicken, rolls/buns, bottled water, whipped/sour cream, frankfurter, butter, curd, pork, pastry)</td></tr><tr><td>2583</td><td>List(canned beer)</td><td>List()</td></tr><tr><td>2584</td><td>List(sausage, citrus fruit, other vegetables, hard cheese)</td><td>List(chicken, whole milk, pip fruit, rolls/buns, frankfurter, tropical fruit, root vegetables, pork, hamburger meat, yogurt, beef)</td></tr><tr><td>2592</td><td>List(bottled beer)</td><td>List()</td></tr><tr><td>2607</td><td>List(frozen meals, rolls/buns, bottled beer)</td><td>List(other vegetables, whole milk, soda, yogurt, sausage)</td></tr><tr><td>2610</td><td>List(hamburger meat, pip fruit, whole milk, hard cheese)</td><td>List(citrus fruit, chicken, other vegetables, rolls/buns, bottled water, whipped/sour cream, frankfurter, butter, tropical fruit, curd, root vegetables, pork, pastry, yogurt, sausage, beef)</td></tr><tr><td>2615</td><td>List(pastry, soda)</td><td>List(whole milk, rolls/buns)</td></tr><tr><td>2618</td><td>List(dessert, rolls/buns, sugar, bottled water)</td><td>List(other vegetables, whole milk, soda, yogurt, sausage)</td></tr><tr><td>2623</td><td>List(other vegetables, rolls/buns, soda)</td><td>List(citrus fruit, chicken, whole milk, pip fruit, frankfurter, tropical fruit, root vegetables, pork, hamburger meat, yogurt, sausage, beef)</td></tr><tr><td>2625</td><td>List(rolls/buns)</td><td>List(other vegetables, whole milk, soda, yogurt, sausage)</td></tr><tr><td>2635</td><td>List(tropical fruit, whole milk, cat food, popcorn)</td><td>List(citrus fruit, pip fruit, other vegetables, root vegetables, yogurt, sausage, chicken, rolls/buns, bottled water, whipped/sour cream, frankfurter, butter, curd, pork, pastry, beef)</td></tr><tr><td>2638</td><td>List(canned beer)</td><td>List()</td></tr><tr><td>2644</td><td>List(pork, tropical fruit, whole milk, curd)</td><td>List(citrus fruit, pip fruit, other vegetables, root vegetables, yogurt, sausage, chicken, rolls/buns, bottled water, whipped/sour cream, frankfurter, butter, pastry, beef)</td></tr><tr><td>2648</td><td>List(mayonnaise, rolls/buns)</td><td>List(other vegetables, whole milk, soda, yogurt, sausage)</td></tr><tr><td>2650</td><td>List(pork, frozen vegetables, pastry, misc. beverages)</td><td>List(whole milk, root vegetables, other vegetables)</td></tr><tr><td>2651</td><td>List(citrus fruit, other vegetables, whole milk, flour)</td><td>List(chicken, pip fruit, rolls/buns, frankfurter, tropical fruit, root vegetables, pork, hamburger meat, yogurt, sausage, beef, bottled water, whipped/sour cream, butter, curd, pastry)</td></tr><tr><td>2658</td><td>List(sausage, bottled beer, dish cleaner)</td><td>List(citrus fruit, pip fruit, rolls/buns, root vegetables, other vegetables, tropical fruit, whole milk)</td></tr><tr><td>2669</td><td>List(hamburger meat, fruit/vegetable juice, canned beer, white wine)</td><td>List(other vegetables)</td></tr><tr><td>2670</td><td>List(meat, whole milk, yogurt, soda)</td><td>List(citrus fruit, rolls/buns, other vegetables, tropical fruit, chicken, pip fruit, bottled water, whipped/sour cream, frankfurter, butter, curd, root vegetables, pork, pastry, sausage, beef)</td></tr><tr><td>2674</td><td>List(whole milk, fruit/vegetable juice)</td><td>List(citrus fruit, chicken, other vegetables, pip fruit, rolls/buns, bottled water, whipped/sour cream, frankfurter, butter, tropical fruit, curd, root vegetables, pork, pastry, yogurt, sausage, beef)</td></tr><tr><td>2679</td><td>List(ham, citrus fruit, tropical fruit, whole milk)</td><td>List(pip fruit, other vegetables, root vegetables, yogurt, sausage, chicken, rolls/buns, bottled water, whipped/sour cream, frankfurter, butter, curd, pork, pastry, beef)</td></tr><tr><td>2681</td><td>List(pork, root vegetables, onions, other vegetables)</td><td>List(citrus fruit, chicken, whole milk, pip fruit, rolls/buns, frankfurter, tropical fruit, hamburger meat, yogurt, sausage, beef)</td></tr><tr><td>2704</td><td>List(frankfurter, sausage, citrus fruit, root vegetables)</td><td>List(pip fruit, rolls/buns, other vegetables, tropical fruit, whole milk, yogurt, pork, beef)</td></tr><tr><td>2709</td><td>List(beef, root vegetables, other vegetables, whole milk)</td><td>List(citrus fruit, chicken, pip fruit, rolls/buns, frankfurter, tropical fruit, pork, hamburger meat, yogurt, sausage, bottled water, whipped/sour cream, butter, curd, pastry)</td></tr><tr><td>2715</td><td>List(beef, tropical fruit, root vegetables, whole milk)</td><td>List(citrus fruit, pip fruit, other vegetables, yogurt, sausage, chicken, rolls/buns, bottled water, whipped/sour cream, frankfurter, butter, curd, pork, pastry)</td></tr><tr><td>2717</td><td>List(finished products, chicken, pork, beef)</td><td>List(other vegetables, whole milk, root vegetables)</td></tr><tr><td>2732</td><td>List(citrus fruit, tropical fruit, pip fruit, grapes)</td><td>List(other vegetables, whole milk, root vegetables, yogurt, sausage)</td></tr><tr><td>2734</td><td>List(canned beer)</td><td>List()</td></tr><tr><td>2739</td><td>List(canned beer)</td><td>List()</td></tr><tr><td>2744</td><td>List(frankfurter, sausage, other vegetables, whole milk)</td><td>List(citrus fruit, chicken, pip fruit, rolls/buns, tropical fruit, root vegetables, pork, hamburger meat, yogurt, beef, bottled water, whipped/sour cream, butter, curd, pastry)</td></tr><tr><td>2747</td><td>List(candy)</td><td>List()</td></tr><tr><td>2748</td><td>List(frankfurter, rolls/buns)</td><td>List(other vegetables, whole milk, soda, yogurt, sausage)</td></tr><tr><td>2752</td><td>List(pip fruit, other vegetables, whole milk, whipped/sour cream)</td><td>List(citrus fruit, chicken, rolls/buns, frankfurter, tropical fruit, root vegetables, pork, hamburger meat, yogurt, sausage, beef, bottled water, butter, curd, pastry)</td></tr><tr><td>2753</td><td>List(bottled water, long life bakery product)</td><td>List(whole milk)</td></tr><tr><td>2756</td><td>List(chicken, pork, butter, candles)</td><td>List(other vegetables, whole milk, root vegetables)</td></tr><tr><td>2758</td><td>List(ham, rolls/buns, soda, shopping bags)</td><td>List(other vegetables, whole milk, yogurt, sausage)</td></tr><tr><td>2765</td><td>List(pork, tropical fruit, root vegetables, whipped/sour cream)</td><td>List(whole milk, citrus fruit, pip fruit, other vegetables, yogurt, sausage, beef)</td></tr><tr><td>2768</td><td>List(rolls/buns, soda)</td><td>List(other vegetables, whole milk, yogurt, sausage)</td></tr><tr><td>2769</td><td>List(berries, cookware, flower (seeds))</td><td>List()</td></tr><tr><td>2772</td><td>List(whole milk, butter, curd, frozen vegetables)</td><td>List(citrus fruit, chicken, other vegetables, pip fruit, rolls/buns, bottled water, whipped/sour cream, frankfurter, tropical fruit, root vegetables, pork, pastry, yogurt, sausage, beef)</td></tr><tr><td>2778</td><td>List(chicken, whole milk, frozen vegetables, brown bread)</td><td>List(other vegetables, citrus fruit, pip fruit, rolls/buns, bottled water, whipped/sour cream, frankfurter, butter, tropical fruit, curd, root vegetables, pork, pastry, yogurt, sausage, beef)</td></tr><tr><td>2779</td><td>List(ice cream, chewing gum)</td><td>List()</td></tr><tr><td>2780</td><td>List(pork, tropical fruit, root vegetables, herbs)</td><td>List(citrus fruit, pip fruit, other vegetables, whole milk, yogurt, sausage, beef)</td></tr><tr><td>2785</td><td>List(soda, misc. beverages, sparkling wine, chewing gum)</td><td>List(rolls/buns)</td></tr><tr><td>2786</td><td>List(frankfurter, root vegetables)</td><td>List(other vegetables, whole milk, citrus fruit, pip fruit, tropical fruit, pork, sausage, beef)</td></tr><tr><td>2793</td><td>List(sausage, onions)</td><td>List(citrus fruit, pip fruit, rolls/buns, root vegetables, other vegetables, tropical fruit, whole milk)</td></tr><tr><td>2794</td><td>List(canned beer, male cosmetics)</td><td>List()</td></tr><tr><td>2796</td><td>List(pastry, soda)</td><td>List(whole milk, rolls/buns)</td></tr><tr><td>2800</td><td>List(canned beer, newspapers)</td><td>List()</td></tr><tr><td>2803</td><td>List(bottled water, soda)</td><td>List(whole milk, rolls/buns)</td></tr><tr><td>2809</td><td>List(pastry, soda)</td><td>List(whole milk, rolls/buns)</td></tr><tr><td>2812</td><td>List(yogurt)</td><td>List(citrus fruit, rolls/buns, other vegetables, tropical fruit, whole milk)</td></tr><tr><td>2814</td><td>List(pip fruit, whole milk, rolls/buns, pickled vegetables)</td><td>List(other vegetables, soda, yogurt, sausage, citrus fruit, chicken, bottled water, whipped/sour cream, frankfurter, butter, tropical fruit, curd, root vegetables, pork, pastry, beef)</td></tr><tr><td>2824</td><td>List(brown bread, bottled water, soda, fruit/vegetable juice)</td><td>List(whole milk, rolls/buns)</td></tr><tr><td>2825</td><td>List(beef, root vegetables, other vegetables, margarine)</td><td>List(citrus fruit, chicken, whole milk, pip fruit, rolls/buns, frankfurter, tropical fruit, pork, hamburger meat, yogurt, sausage)</td></tr><tr><td>2830</td><td>List(whole milk, canned fish, newspapers)</td><td>List(citrus fruit, chicken, other vegetables, pip fruit, rolls/buns, bottled water, whipped/sour cream, frankfurter, butter, tropical fruit, curd, root vegetables, pork, pastry, yogurt, sausage, beef)</td></tr><tr><td>2833</td><td>List(citrus fruit, tropical fruit, frozen meals, frozen dessert)</td><td>List(pip fruit, other vegetables, whole milk, root vegetables, yogurt, sausage)</td></tr><tr><td>2835</td><td>List(whole milk, newspapers)</td><td>List(citrus fruit, chicken, other vegetables, pip fruit, rolls/buns, bottled water, whipped/sour cream, frankfurter, butter, tropical fruit, curd, root vegetables, pork, pastry, yogurt, sausage, beef)</td></tr><tr><td>2841</td><td>List(chocolate, napkins)</td><td>List()</td></tr><tr><td>2842</td><td>List(ham, tropical fruit, pip fruit, grapes)</td><td>List(citrus fruit, other vegetables, whole milk, root vegetables, yogurt, sausage)</td></tr><tr><td>2845</td><td>List(rolls/buns, white bread, waffles)</td><td>List(other vegetables, whole milk, soda, yogurt, sausage)</td></tr><tr><td>2846</td><td>List(pip fruit, zwieback, salty snack, cake bar)</td><td>List(citrus fruit, root vegetables, sausage, other vegetables, tropical fruit, whole milk)</td></tr><tr><td>2848</td><td>List(root vegetables, whole milk, rolls/buns)</td><td>List(other vegetables, soda, yogurt, sausage, citrus fruit, chicken, pip fruit, bottled water, whipped/sour cream, frankfurter, butter, tropical fruit, curd, pork, pastry, beef)</td></tr><tr><td>2850</td><td>List(whole milk, yogurt, rolls/buns, waffles)</td><td>List(citrus fruit, other vegetables, tropical fruit, soda, sausage, chicken, pip fruit, bottled water, whipped/sour cream, frankfurter, butter, curd, root vegetables, pork, pastry, beef)</td></tr><tr><td>2852</td><td>List(tropical fruit, domestic eggs, newspapers)</td><td>List(citrus fruit, pip fruit, other vegetables, whole milk, root vegetables, yogurt, sausage)</td></tr><tr><td>2861</td><td>List(salty snack)</td><td>List()</td></tr><tr><td>2869</td><td>List(beef)</td><td>List(root vegetables, other vegetables, whole milk)</td></tr><tr><td>2885</td><td>List(whole milk, napkins)</td><td>List(citrus fruit, chicken, other vegetables, pip fruit, rolls/buns, bottled water, whipped/sour cream, frankfurter, butter, tropical fruit, curd, root vegetables, pork, pastry, yogurt, sausage, beef)</td></tr><tr><td>2886</td><td>List(whole milk)</td><td>List(citrus fruit, chicken, other vegetables, pip fruit, rolls/buns, bottled water, whipped/sour cream, frankfurter, butter, tropical fruit, curd, root vegetables, pork, pastry, yogurt, sausage, beef)</td></tr><tr><td>2891</td><td>List(waffles)</td><td>List()</td></tr><tr><td>2904</td><td>List(finished products, pip fruit, frozen potato products, soda)</td><td>List(rolls/buns, citrus fruit, root vegetables, sausage, other vegetables, tropical fruit, whole milk)</td></tr><tr><td>2906</td><td>List(margarine, coffee, instant coffee, soda)</td><td>List(rolls/buns)</td></tr><tr><td>2916</td><td>List(pot plants)</td><td>List()</td></tr><tr><td>2919</td><td>List(fruit/vegetable juice)</td><td>List()</td></tr><tr><td>2930</td><td>List(whole milk, beverages)</td><td>List(citrus fruit, chicken, other vegetables, pip fruit, rolls/buns, bottled water, whipped/sour cream, frankfurter, butter, tropical fruit, curd, root vegetables, pork, pastry, yogurt, sausage, beef)</td></tr><tr><td>2940</td><td>List(butter milk, pastry)</td><td>List(whole milk)</td></tr><tr><td>2945</td><td>List(sausage, UHT-milk)</td><td>List(citrus fruit, pip fruit, rolls/buns, root vegetables, other vegetables, tropical fruit, whole milk)</td></tr><tr><td>2956</td><td>List(frankfurter, tropical fruit, root vegetables, whole milk)</td><td>List(citrus fruit, pip fruit, other vegetables, yogurt, sausage, chicken, rolls/buns, bottled water, whipped/sour cream, butter, curd, pork, pastry, beef)</td></tr><tr><td>2957</td><td>List(meat)</td><td>List()</td></tr><tr><td>2958</td><td>List(canned beer)</td><td>List()</td></tr><tr><td>2960</td><td>List(other vegetables, hard cheese, processed cheese, cereals)</td><td>List(citrus fruit, chicken, whole milk, pip fruit, rolls/buns, frankfurter, tropical fruit, root vegetables, pork, hamburger meat, yogurt, sausage, beef)</td></tr><tr><td>2963</td><td>List(yogurt, frozen vegetables)</td><td>List(citrus fruit, rolls/buns, other vegetables, tropical fruit, whole milk)</td></tr><tr><td>2966</td><td>List(UHT-milk, bottled water, soda)</td><td>List(whole milk, rolls/buns)</td></tr><tr><td>2979</td><td>List(soda, skin care)</td><td>List(rolls/buns)</td></tr><tr><td>2980</td><td>List(bottled water)</td><td>List(whole milk)</td></tr><tr><td>2982</td><td>List(tropical fruit, other vegetables, whole milk, yogurt)</td><td>List(citrus fruit, chicken, pip fruit, rolls/buns, frankfurter, root vegetables, pork, hamburger meat, sausage, beef, bottled water, whipped/sour cream, butter, curd, pastry)</td></tr><tr><td>2986</td><td>List(curd)</td><td>List(whole milk)</td></tr><tr><td>2987</td><td>List(citrus fruit, tropical fruit, other vegetables, whole milk)</td><td>List(chicken, pip fruit, rolls/buns, frankfurter, root vegetables, pork, hamburger meat, yogurt, sausage, beef, bottled water, whipped/sour cream, butter, curd, pastry)</td></tr><tr><td>2990</td><td>List(bottled water, soda, waffles)</td><td>List(whole milk, rolls/buns)</td></tr><tr><td>2996</td><td>List(frankfurter, hamburger meat, whole milk, cream cheese)</td><td>List(citrus fruit, chicken, other vegetables, pip fruit, rolls/buns, bottled water, whipped/sour cream, butter, tropical fruit, curd, root vegetables, pork, pastry, yogurt, sausage, beef)</td></tr><tr><td>3004</td><td>List(other vegetables, butter milk, rolls/buns, oil)</td><td>List(citrus fruit, chicken, whole milk, pip fruit, frankfurter, tropical fruit, root vegetables, pork, hamburger meat, yogurt, sausage, beef, soda)</td></tr><tr><td>3005</td><td>List(frankfurter, beef, pip fruit, whole milk)</td><td>List(citrus fruit, chicken, other vegetables, rolls/buns, bottled water, whipped/sour cream, butter, tropical fruit, curd, root vegetables, pork, pastry, yogurt, sausage)</td></tr><tr><td>3018</td><td>List(root vegetables, other vegetables, yogurt, rolls/buns)</td><td>List(citrus fruit, chicken, whole milk, pip fruit, frankfurter, tropical fruit, pork, hamburger meat, sausage, beef, soda)</td></tr><tr><td>3040</td><td>List(other vegetables)</td><td>List(citrus fruit, chicken, whole milk, pip fruit, rolls/buns, frankfurter, tropical fruit, root vegetables, pork, hamburger meat, yogurt, sausage, beef)</td></tr><tr><td>3042</td><td>List(frankfurter, pip fruit, nuts/prunes, onions)</td><td>List(other vegetables, whole milk, citrus fruit, root vegetables, sausage, tropical fruit)</td></tr><tr><td>3043</td><td>List(citrus fruit, whole milk, soft cheese, rice)</td><td>List(root vegetables, sausage, other vegetables, tropical fruit, yogurt, pip fruit, chicken, rolls/buns, bottled water, whipped/sour cream, frankfurter, butter, curd, pork, pastry, beef)</td></tr><tr><td>3044</td><td>List(chicken, pork, frozen vegetables, soda)</td><td>List(other vegetables, whole milk, rolls/buns, root vegetables)</td></tr><tr><td>3045</td><td>List(citrus fruit, tropical fruit, other vegetables, whole milk)</td><td>List(chicken, pip fruit, rolls/buns, frankfurter, root vegetables, pork, hamburger meat, yogurt, sausage, beef, bottled water, whipped/sour cream, butter, curd, pastry)</td></tr><tr><td>3046</td><td>List(flour, sugar, cat food, misc. beverages)</td><td>List()</td></tr><tr><td>3050</td><td>List(chicken, curd, UHT-milk, cream cheese)</td><td>List(other vegetables, whole milk)</td></tr><tr><td>3053</td><td>List(beef, other vegetables, margarine, soda)</td><td>List(citrus fruit, chicken, whole milk, pip fruit, rolls/buns, frankfurter, tropical fruit, root vegetables, pork, hamburger meat, yogurt, sausage)</td></tr><tr><td>3062</td><td>List(frankfurter, curd cheese)</td><td>List(other vegetables, whole milk)</td></tr><tr><td>3064</td><td>List(frozen fish, brandy)</td><td>List()</td></tr><tr><td>3067</td><td>List(onions, yogurt, ice cream)</td><td>List(citrus fruit, rolls/buns, other vegetables, tropical fruit, whole milk)</td></tr><tr><td>3071</td><td>List(whole milk, soft cheese, rum)</td><td>List(citrus fruit, chicken, other vegetables, pip fruit, rolls/buns, bottled water, whipped/sour cream, frankfurter, butter, tropical fruit, curd, root vegetables, pork, pastry, yogurt, sausage, beef)</td></tr><tr><td>3072</td><td>List(citrus fruit, butter, dessert, processed cheese)</td><td>List(root vegetables, sausage, other vegetables, tropical fruit, yogurt, whole milk, pip fruit)</td></tr><tr><td>3074</td><td>List(sparkling wine)</td><td>List()</td></tr><tr><td>3078</td><td>List(whole milk, processed cheese, mayonnaise, margarine)</td><td>List(citrus fruit, chicken, other vegetables, pip fruit, rolls/buns, bottled water, whipped/sour cream, frankfurter, butter, tropical fruit, curd, root vegetables, pork, pastry, yogurt, sausage, beef)</td></tr><tr><td>3082</td><td>List(coffee)</td><td>List()</td></tr><tr><td>3089</td><td>List(frankfurter, sausage, butter, dessert)</td><td>List(citrus fruit, pip fruit, rolls/buns, root vegetables, other vegetables, tropical fruit, whole milk)</td></tr><tr><td>3098</td><td>List(bottled beer)</td><td>List()</td></tr><tr><td>3112</td><td>List(citrus fruit, pip fruit, root vegetables, other vegetables)</td><td>List(chicken, whole milk, rolls/buns, frankfurter, tropical fruit, pork, hamburger meat, yogurt, sausage, beef)</td></tr><tr><td>3113</td><td>List(rolls/buns, soda, canned beer)</td><td>List(other vegetables, whole milk, yogurt, sausage)</td></tr><tr><td>3124</td><td>List(citrus fruit)</td><td>List(root vegetables, sausage, other vegetables, tropical fruit, yogurt, whole milk, pip fruit)</td></tr><tr><td>3131</td><td>List(fruit/vegetable juice, chewing gum)</td><td>List()</td></tr><tr><td>3153</td><td>List(pork, other vegetables, rolls/buns, canned fish)</td><td>List(citrus fruit, chicken, whole milk, pip fruit, frankfurter, tropical fruit, root vegetables, hamburger meat, yogurt, sausage, beef, soda)</td></tr><tr><td>3157</td><td>List(yogurt, condensed milk, pet care, house keeping products)</td><td>List(citrus fruit, rolls/buns, other vegetables, tropical fruit, whole milk)</td></tr><tr><td>3178</td><td>List(sausage, packaged fruit/vegetables, whole milk, brown bread)</td><td>List(citrus fruit, pip fruit, rolls/buns, root vegetables, other vegetables, tropical fruit, chicken, bottled water, whipped/sour cream, frankfurter, butter, curd, pork, pastry, yogurt, beef)</td></tr><tr><td>3188</td><td>List(canned beer)</td><td>List()</td></tr><tr><td>3196</td><td>List(frankfurter, chicken, hamburger meat, pip fruit)</td><td>List(other vegetables, whole milk, citrus fruit, root vegetables, sausage, tropical fruit)</td></tr><tr><td>3201</td><td>List(frozen chicken, salty snack)</td><td>List()</td></tr><tr><td>3209</td><td>List(other vegetables, salty snack, dishes, house keeping products)</td><td>List(citrus fruit, chicken, whole milk, pip fruit, rolls/buns, frankfurter, tropical fruit, root vegetables, pork, hamburger meat, yogurt, sausage, beef)</td></tr><tr><td>3210</td><td>List(beef, root vegetables)</td><td>List(other vegetables, whole milk, citrus fruit, pip fruit, tropical fruit, pork, sausage)</td></tr><tr><td>3213</td><td>List(tropical fruit, other vegetables, whipped/sour cream, beverages)</td><td>List(citrus fruit, chicken, whole milk, pip fruit, rolls/buns, frankfurter, root vegetables, pork, hamburger meat, yogurt, sausage, beef)</td></tr><tr><td>3225</td><td>List(frankfurter, sausage, packaged fruit/vegetables, condensed milk)</td><td>List(citrus fruit, pip fruit, rolls/buns, root vegetables, other vegetables, tropical fruit, whole milk)</td></tr><tr><td>3231</td><td>List(butter milk, rolls/buns, long life bakery product)</td><td>List(other vegetables, whole milk, soda, yogurt, sausage)</td></tr><tr><td>3240</td><td>List(pork, whole milk, sliced cheese)</td><td>List(citrus fruit, chicken, other vegetables, pip fruit, rolls/buns, bottled water, whipped/sour cream, frankfurter, butter, tropical fruit, curd, root vegetables, pastry, yogurt, sausage, beef)</td></tr><tr><td>3241</td><td>List(tropical fruit, berries, other vegetables, whole milk)</td><td>List(citrus fruit, chicken, pip fruit, rolls/buns, frankfurter, root vegetables, pork, hamburger meat, yogurt, sausage, beef, bottled water, whipped/sour cream, butter, curd, pastry)</td></tr><tr><td>3246</td><td>List(frozen fish, canned beer, waffles)</td><td>List()</td></tr><tr><td>3248</td><td>List(pork, other vegetables, yogurt, white bread)</td><td>List(citrus fruit, chicken, whole milk, pip fruit, rolls/buns, frankfurter, tropical fruit, root vegetables, hamburger meat, sausage, beef)</td></tr><tr><td>3261</td><td>List(rolls/buns, rice, canned fish, cocoa drinks)</td><td>List(other vegetables, whole milk, soda, yogurt, sausage)</td></tr><tr><td>3268</td><td>List(pip fruit, root vegetables, other vegetables, dessert)</td><td>List(citrus fruit, chicken, whole milk, rolls/buns, frankfurter, tropical fruit, pork, hamburger meat, yogurt, sausage, beef)</td></tr><tr><td>3269</td><td>List(citrus fruit, soft cheese, domestic eggs, pastry)</td><td>List(whole milk, root vegetables, sausage, other vegetables, tropical fruit, yogurt, pip fruit)</td></tr><tr><td>3272</td><td>List(canned beer)</td><td>List()</td></tr><tr><td>3276</td><td>List(soda)</td><td>List(rolls/buns)</td></tr><tr><td>3278</td><td>List(ham, frozen potato products, white bread, pastry)</td><td>List(whole milk)</td></tr><tr><td>3284</td><td>List(root vegetables, other vegetables, whole milk, specialty bar)</td><td>List(citrus fruit, chicken, pip fruit, rolls/buns, frankfurter, tropical fruit, pork, hamburger meat, yogurt, sausage, beef, bottled water, whipped/sour cream, butter, curd, pastry)</td></tr><tr><td>3287</td><td>List(bottled beer, chocolate, specialty bar)</td><td>List()</td></tr><tr><td>3295</td><td>List(pork, pip fruit, other vegetables, butter)</td><td>List(citrus fruit, chicken, whole milk, rolls/buns, frankfurter, tropical fruit, root vegetables, hamburger meat, yogurt, sausage, beef)</td></tr><tr><td>3308</td><td>List(meat, whipped/sour cream, coffee, chewing gum)</td><td>List(whole milk)</td></tr><tr><td>3315</td><td>List(organic sausage, citrus fruit, whole milk, whipped/sour cream)</td><td>List(root vegetables, sausage, other vegetables, tropical fruit, yogurt, pip fruit, chicken, rolls/buns, bottled water, frankfurter, butter, curd, pork, pastry, beef)</td></tr><tr><td>3317</td><td>List(organic sausage, pip fruit, root vegetables, other vegetables)</td><td>List(citrus fruit, chicken, whole milk, rolls/buns, frankfurter, tropical fruit, pork, hamburger meat, yogurt, sausage, beef)</td></tr><tr><td>3327</td><td>List(newspapers)</td><td>List()</td></tr><tr><td>3332</td><td>List(citrus fruit, specialty bar)</td><td>List(root vegetables, sausage, other vegetables, tropical fruit, yogurt, whole milk, pip fruit)</td></tr><tr><td>3333</td><td>List(bottled beer)</td><td>List()</td></tr><tr><td>3360</td><td>List(bottled beer, liquor)</td><td>List()</td></tr><tr><td>3364</td><td>List(canned beer, white wine)</td><td>List()</td></tr><tr><td>3366</td><td>List(beverages, frozen vegetables, coffee, soda)</td><td>List(rolls/buns)</td></tr><tr><td>3367</td><td>List(sausage, beef, tropical fruit, onions)</td><td>List(citrus fruit, pip fruit, other vegetables, whole milk, root vegetables, yogurt, rolls/buns)</td></tr><tr><td>3369</td><td>List(UHT-milk)</td><td>List()</td></tr><tr><td>3370</td><td>List(soda, salty snack, specialty bar, candy)</td><td>List(rolls/buns)</td></tr><tr><td>3372</td><td>List(white wine, specialty bar)</td><td>List()</td></tr><tr><td>3375</td><td>List(whisky, chewing gum)</td><td>List()</td></tr><tr><td>3381</td><td>List(chicken, root vegetables, whole milk, butter milk)</td><td>List(other vegetables, citrus fruit, pip fruit, rolls/buns, bottled water, whipped/sour cream, frankfurter, butter, tropical fruit, curd, pork, pastry, yogurt, sausage, beef)</td></tr><tr><td>3382</td><td>List(other vegetables, coffee, bottled water, salty snack)</td><td>List(citrus fruit, chicken, whole milk, pip fruit, rolls/buns, frankfurter, tropical fruit, root vegetables, pork, hamburger meat, yogurt, sausage, beef)</td></tr><tr><td>3391</td><td>List(pip fruit, berries, whole milk, yogurt)</td><td>List(citrus fruit, rolls/buns, other vegetables, tropical fruit, chicken, bottled water, whipped/sour cream, frankfurter, butter, curd, root vegetables, pork, pastry, sausage, beef)</td></tr><tr><td>3397</td><td>List(liquor)</td><td>List()</td></tr><tr><td>3399</td><td>List(beef, bottled beer, cake bar)</td><td>List(root vegetables, other vegetables, whole milk)</td></tr><tr><td>3404</td><td>List(pork, whole milk, dessert, frozen vegetables)</td><td>List(citrus fruit, chicken, other vegetables, pip fruit, rolls/buns, bottled water, whipped/sour cream, frankfurter, butter, tropical fruit, curd, root vegetables, pastry, yogurt, sausage, beef)</td></tr><tr><td>3414</td><td>List(whole milk, dessert, yogurt, whipped/sour cream)</td><td>List(citrus fruit, rolls/buns, other vegetables, tropical fruit, chicken, pip fruit, bottled water, frankfurter, butter, curd, root vegetables, pork, pastry, sausage, beef)</td></tr><tr><td>3419</td><td>List(beef, other vegetables, canned fish)</td><td>List(citrus fruit, chicken, whole milk, pip fruit, rolls/buns, frankfurter, tropical fruit, root vegetables, pork, hamburger meat, yogurt, sausage)</td></tr><tr><td>3421</td><td>List(meat, whole milk, specialty cheese, domestic eggs)</td><td>List(citrus fruit, chicken, other vegetables, pip fruit, rolls/buns, bottled water, whipped/sour cream, frankfurter, butter, tropical fruit, curd, root vegetables, pork, pastry, yogurt, sausage, beef)</td></tr><tr><td>3424</td><td>List(tidbits, canned beer, red/blush wine)</td><td>List()</td></tr><tr><td>3426</td><td>List(waffles, specialty chocolate)</td><td>List()</td></tr><tr><td>3428</td><td>List(whole milk, whipped/sour cream, fruit/vegetable juice, canned beer)</td><td>List(citrus fruit, chicken, other vegetables, pip fruit, rolls/buns, bottled water, frankfurter, butter, tropical fruit, curd, root vegetables, pork, pastry, yogurt, sausage, beef)</td></tr><tr><td>3430</td><td>List(soda, canned beer)</td><td>List(rolls/buns)</td></tr><tr><td>3433</td><td>List(rolls/buns)</td><td>List(other vegetables, whole milk, soda, yogurt, sausage)</td></tr><tr><td>3438</td><td>List(onions, mayonnaise, rolls/buns, mustard)</td><td>List(other vegetables, whole milk, soda, yogurt, sausage)</td></tr><tr><td>3439</td><td>List(whole milk, fruit/vegetable juice)</td><td>List(citrus fruit, chicken, other vegetables, pip fruit, rolls/buns, bottled water, whipped/sour cream, frankfurter, butter, tropical fruit, curd, root vegetables, pork, pastry, yogurt, sausage, beef)</td></tr><tr><td>3441</td><td>List(ham, chicken, citrus fruit, tropical fruit)</td><td>List(pip fruit, other vegetables, whole milk, root vegetables, yogurt, sausage)</td></tr><tr><td>3443</td><td>List(photo/film)</td><td>List()</td></tr><tr><td>3444</td><td>List(bottled beer, chocolate)</td><td>List()</td></tr><tr><td>3451</td><td>List(soda)</td><td>List(rolls/buns)</td></tr><tr><td>3453</td><td>List(citrus fruit, whole milk, yogurt, sliced cheese)</td><td>List(rolls/buns, other vegetables, tropical fruit, root vegetables, sausage, pip fruit, chicken, bottled water, whipped/sour cream, frankfurter, butter, curd, pork, pastry, beef)</td></tr><tr><td>3454</td><td>List(soda, bottled beer, liquor, red/blush wine)</td><td>List(rolls/buns)</td></tr><tr><td>3455</td><td>List(frankfurter, berries, whipped/sour cream, domestic eggs)</td><td>List(whole milk, other vegetables)</td></tr><tr><td>3457</td><td>List(brown bread)</td><td>List()</td></tr><tr><td>3459</td><td>List(other vegetables, newspapers)</td><td>List(citrus fruit, chicken, whole milk, pip fruit, rolls/buns, frankfurter, tropical fruit, root vegetables, pork, hamburger meat, yogurt, sausage, beef)</td></tr><tr><td>3460</td><td>List(newspapers, photo/film)</td><td>List()</td></tr><tr><td>3464</td><td>List(chicken, brown bread, bottled water, newspapers)</td><td>List(other vegetables, whole milk)</td></tr><tr><td>3482</td><td>List(canned beer, shopping bags)</td><td>List()</td></tr><tr><td>3484</td><td>List(sausage, butter milk, pet care, coffee)</td><td>List(citrus fruit, pip fruit, rolls/buns, root vegetables, other vegetables, tropical fruit, whole milk)</td></tr><tr><td>3485</td><td>List(pip fruit, yogurt, frozen vegetables, domestic eggs)</td><td>List(citrus fruit, rolls/buns, other vegetables, tropical fruit, whole milk, root vegetables, sausage)</td></tr><tr><td>3486</td><td>List(whole milk, sugar)</td><td>List(citrus fruit, chicken, other vegetables, pip fruit, rolls/buns, bottled water, whipped/sour cream, frankfurter, butter, tropical fruit, curd, root vegetables, pork, pastry, yogurt, sausage, beef)</td></tr><tr><td>3494</td><td>List(tropical fruit, nuts/prunes, root vegetables, whole milk)</td><td>List(citrus fruit, pip fruit, other vegetables, yogurt, sausage, chicken, rolls/buns, bottled water, whipped/sour cream, frankfurter, butter, curd, pork, pastry, beef)</td></tr><tr><td>3497</td><td>List(sausage, margarine, newspapers)</td><td>List(citrus fruit, pip fruit, rolls/buns, root vegetables, other vegetables, tropical fruit, whole milk)</td></tr><tr><td>3498</td><td>List(beverages)</td><td>List()</td></tr><tr><td>3507</td><td>List(tropical fruit, nuts/prunes, whole milk, cream cheese)</td><td>List(citrus fruit, pip fruit, other vegetables, root vegetables, yogurt, sausage, chicken, rolls/buns, bottled water, whipped/sour cream, frankfurter, butter, curd, pork, pastry, beef)</td></tr><tr><td>3517</td><td>List(curd, meat spreads)</td><td>List(whole milk)</td></tr><tr><td>3519</td><td>List(curd, UHT-milk, spread cheese, pasta)</td><td>List(whole milk)</td></tr><tr><td>3522</td><td>List(chocolate, dishes)</td><td>List()</td></tr><tr><td>3541</td><td>List(bottled water)</td><td>List(whole milk)</td></tr><tr><td>3544</td><td>List(tidbits, rolls/buns, coffee, salty snack)</td><td>List(other vegetables, whole milk, soda, yogurt, sausage)</td></tr><tr><td>3548</td><td>List(chicken, tropical fruit, brown bread, pickled vegetables)</td><td>List(citrus fruit, pip fruit, other vegetables, whole milk, root vegetables, yogurt, sausage)</td></tr><tr><td>3557</td><td>List(sausage, chicken, pork, beef)</td><td>List(other vegetables, whole milk, citrus fruit, pip fruit, rolls/buns, root vegetables, tropical fruit)</td></tr><tr><td>3567</td><td>List(whole milk, zwieback, salty snack)</td><td>List(citrus fruit, chicken, other vegetables, pip fruit, rolls/buns, bottled water, whipped/sour cream, frankfurter, butter, tropical fruit, curd, root vegetables, pork, pastry, yogurt, sausage, beef)</td></tr><tr><td>3572</td><td>List(UHT-milk, artif. sweetener, bottled water)</td><td>List(whole milk)</td></tr><tr><td>3575</td><td>List(pork, tropical fruit, onions, herbs)</td><td>List(citrus fruit, pip fruit, other vegetables, whole milk, root vegetables, yogurt, sausage)</td></tr><tr><td>3576</td><td>List(other vegetables, UHT-milk, sauces, fruit/vegetable juice)</td><td>List(citrus fruit, chicken, whole milk, pip fruit, rolls/buns, frankfurter, tropical fruit, root vegetables, pork, hamburger meat, yogurt, sausage, beef)</td></tr><tr><td>3577</td><td>List(berries)</td><td>List()</td></tr><tr><td>3583</td><td>List(pastry, canned beer)</td><td>List(whole milk)</td></tr><tr><td>3591</td><td>List(domestic eggs)</td><td>List()</td></tr><tr><td>3596</td><td>List(frankfurter, sausage, processed cheese, rolls/buns)</td><td>List(other vegetables, whole milk, soda, yogurt, citrus fruit, pip fruit, root vegetables, tropical fruit)</td></tr><tr><td>3608</td><td>List(frankfurter, other vegetables, frozen vegetables, waffles)</td><td>List(citrus fruit, chicken, whole milk, pip fruit, rolls/buns, tropical fruit, root vegetables, pork, hamburger meat, yogurt, sausage, beef)</td></tr><tr><td>3614</td><td>List(whole milk, rolls/buns, hygiene articles, napkins)</td><td>List(other vegetables, soda, yogurt, sausage, citrus fruit, chicken, pip fruit, bottled water, whipped/sour cream, frankfurter, butter, tropical fruit, curd, root vegetables, pork, pastry, beef)</td></tr><tr><td>3620</td><td>List(napkins)</td><td>List()</td></tr><tr><td>3624</td><td>List(other vegetables, frozen vegetables, domestic eggs, rolls/buns)</td><td>List(citrus fruit, chicken, whole milk, pip fruit, frankfurter, tropical fruit, root vegetables, pork, hamburger meat, yogurt, sausage, beef, soda)</td></tr><tr><td>3629</td><td>List(other vegetables, frozen vegetables, frozen fish, rolls/buns)</td><td>List(citrus fruit, chicken, whole milk, pip fruit, frankfurter, tropical fruit, root vegetables, pork, hamburger meat, yogurt, sausage, beef, soda)</td></tr><tr><td>3632</td><td>List(cat food, bottled water, soda, white wine)</td><td>List(whole milk, rolls/buns)</td></tr><tr><td>3635</td><td>List(frankfurter, rolls/buns)</td><td>List(other vegetables, whole milk, soda, yogurt, sausage)</td></tr><tr><td>3637</td><td>List(soda, chocolate marshmallow)</td><td>List(rolls/buns)</td></tr><tr><td>3648</td><td>List(canned beer)</td><td>List()</td></tr><tr><td>3659</td><td>List(rolls/buns)</td><td>List(other vegetables, whole milk, soda, yogurt, sausage)</td></tr><tr><td>3668</td><td>List(ham, chicken, citrus fruit, tropical fruit)</td><td>List(pip fruit, other vegetables, whole milk, root vegetables, yogurt, sausage)</td></tr><tr><td>3675</td><td>List(pork, grapes, berries, other vegetables)</td><td>List(citrus fruit, chicken, whole milk, pip fruit, rolls/buns, frankfurter, tropical fruit, root vegetables, hamburger meat, yogurt, sausage, beef)</td></tr><tr><td>3686</td><td>List(tropical fruit, grapes, other vegetables, whole milk)</td><td>List(citrus fruit, chicken, pip fruit, rolls/buns, frankfurter, root vegetables, pork, hamburger meat, yogurt, sausage, beef, bottled water, whipped/sour cream, butter, curd, pastry)</td></tr><tr><td>3688</td><td>List(ham, citrus fruit, butter milk, yogurt)</td><td>List(rolls/buns, other vegetables, tropical fruit, whole milk, root vegetables, sausage, pip fruit)</td></tr><tr><td>3698</td><td>List(newspapers)</td><td>List()</td></tr><tr><td>3702</td><td>List(citrus fruit, frozen vegetables, domestic eggs, brown bread)</td><td>List(root vegetables, sausage, other vegetables, tropical fruit, yogurt, whole milk, pip fruit)</td></tr><tr><td>3703</td><td>List(pork, UHT-milk, bottled water, soda)</td><td>List(whole milk, rolls/buns, root vegetables, other vegetables)</td></tr><tr><td>3712</td><td>List(misc. beverages, fruit/vegetable juice)</td><td>List()</td></tr><tr><td>3725</td><td>List(chicken, beef, yogurt, rolls/buns)</td><td>List(citrus fruit, other vegetables, tropical fruit, whole milk, soda, sausage, root vegetables)</td></tr><tr><td>3727</td><td>List(sausage, tropical fruit, semi-finished bread, soda)</td><td>List(citrus fruit, pip fruit, other vegetables, whole milk, root vegetables, yogurt, rolls/buns)</td></tr><tr><td>3732</td><td>List(pasta)</td><td>List()</td></tr><tr><td>3733</td><td>List(soda)</td><td>List(rolls/buns)</td></tr><tr><td>3736</td><td>List(canned beer, newspapers)</td><td>List()</td></tr><tr><td>3742</td><td>List(tropical fruit)</td><td>List(citrus fruit, pip fruit, other vegetables, whole milk, root vegetables, yogurt, sausage)</td></tr><tr><td>3743</td><td>List(whole milk, butter, yogurt, rolls/buns)</td><td>List(citrus fruit, other vegetables, tropical fruit, soda, sausage, chicken, pip fruit, bottled water, whipped/sour cream, frankfurter, curd, root vegetables, pork, pastry, beef)</td></tr><tr><td>3748</td><td>List(pet care, bottled water)</td><td>List(whole milk)</td></tr><tr><td>3753</td><td>List(soda)</td><td>List(rolls/buns)</td></tr><tr><td>3755</td><td>List(root vegetables, brown bread, baking powder, napkins)</td><td>List(citrus fruit, pip fruit, other vegetables, tropical fruit, whole milk, pork, sausage, beef)</td></tr><tr><td>3756</td><td>List(root vegetables, curd, mayonnaise, domestic eggs)</td><td>List(whole milk, citrus fruit, pip fruit, other vegetables, tropical fruit, pork, sausage, beef)</td></tr><tr><td>3765</td><td>List(bottled beer, liquor, red/blush wine)</td><td>List()</td></tr><tr><td>3767</td><td>List(whole milk, rolls/buns, coffee, fruit/vegetable juice)</td><td>List(other vegetables, soda, yogurt, sausage, citrus fruit, chicken, pip fruit, bottled water, whipped/sour cream, frankfurter, butter, tropical fruit, curd, root vegetables, pork, pastry, beef)</td></tr><tr><td>3773</td><td>List(liqueur)</td><td>List()</td></tr><tr><td>3775</td><td>List(canned beer)</td><td>List()</td></tr><tr><td>3779</td><td>List(sausage, salty snack, seasonal products)</td><td>List(citrus fruit, pip fruit, rolls/buns, root vegetables, other vegetables, tropical fruit, whole milk)</td></tr><tr><td>3781</td><td>List(specialty chocolate)</td><td>List()</td></tr><tr><td>3789</td><td>List(pork, whole milk, dessert)</td><td>List(citrus fruit, chicken, other vegetables, pip fruit, rolls/buns, bottled water, whipped/sour cream, frankfurter, butter, tropical fruit, curd, root vegetables, pastry, yogurt, sausage, beef)</td></tr><tr><td>3792</td><td>List(misc. beverages)</td><td>List()</td></tr><tr><td>3793</td><td>List(canned beer)</td><td>List()</td></tr><tr><td>3797</td><td>List(yogurt)</td><td>List(citrus fruit, rolls/buns, other vegetables, tropical fruit, whole milk)</td></tr><tr><td>3817</td><td>List(root vegetables, other vegetables)</td><td>List(citrus fruit, chicken, whole milk, pip fruit, rolls/buns, frankfurter, tropical fruit, pork, hamburger meat, yogurt, sausage, beef)</td></tr><tr><td>3819</td><td>List(butter)</td><td>List(whole milk)</td></tr><tr><td>3821</td><td>List(whole milk, soft cheese, rolls/buns, brown bread)</td><td>List(other vegetables, soda, yogurt, sausage, citrus fruit, chicken, pip fruit, bottled water, whipped/sour cream, frankfurter, butter, tropical fruit, curd, root vegetables, pork, pastry, beef)</td></tr><tr><td>3823</td><td>List(bottled water, white wine)</td><td>List(whole milk)</td></tr><tr><td>3824</td><td>List(pip fruit, rolls/buns, prosecco, seasonal products)</td><td>List(other vegetables, whole milk, soda, yogurt, sausage, citrus fruit, root vegetables, tropical fruit)</td></tr><tr><td>3829</td><td>List(bottled beer, liquor)</td><td>List()</td></tr><tr><td>3830</td><td>List(pet care, soda, bottled beer, snack products)</td><td>List(rolls/buns)</td></tr><tr><td>3842</td><td>List(popcorn, specialty bar, candy)</td><td>List()</td></tr><tr><td>3843</td><td>List(canned beer)</td><td>List()</td></tr><tr><td>3846</td><td>List(UHT-milk)</td><td>List()</td></tr><tr><td>3852</td><td>List(bottled beer, napkins)</td><td>List()</td></tr><tr><td>3856</td><td>List(yogurt)</td><td>List(citrus fruit, rolls/buns, other vegetables, tropical fruit, whole milk)</td></tr><tr><td>3861</td><td>List(canned beer)</td><td>List()</td></tr><tr><td>3865</td><td>List(pork, citrus fruit, tropical fruit, spread cheese)</td><td>List(pip fruit, other vegetables, whole milk, root vegetables, yogurt, sausage)</td></tr><tr><td>3873</td><td>List(pork, beef)</td><td>List(root vegetables, other vegetables, whole milk)</td></tr><tr><td>3874</td><td>List(frozen meals, soda)</td><td>List(rolls/buns)</td></tr><tr><td>3880</td><td>List(soda)</td><td>List(rolls/buns)</td></tr><tr><td>3888</td><td>List(sausage, yogurt, rolls/buns, bottled water)</td><td>List(citrus fruit, other vegetables, tropical fruit, whole milk, soda, pip fruit, root vegetables)</td></tr><tr><td>3890</td><td>List(sausage, beef, tropical fruit, pip fruit)</td><td>List(citrus fruit, other vegetables, whole milk, root vegetables, yogurt, rolls/buns)</td></tr><tr><td>3891</td><td>List(beef, other vegetables, rolls/buns, bottled beer)</td><td>List(citrus fruit, chicken, whole milk, pip fruit, frankfurter, tropical fruit, root vegetables, pork, hamburger meat, yogurt, sausage, soda)</td></tr><tr><td>3892</td><td>List(baking powder, coffee, photo/film)</td><td>List()</td></tr><tr><td>3902</td><td>List(tropical fruit, other vegetables, whole milk, curd)</td><td>List(citrus fruit, chicken, pip fruit, rolls/buns, frankfurter, root vegetables, pork, hamburger meat, yogurt, sausage, beef, bottled water, whipped/sour cream, butter, pastry)</td></tr><tr><td>3903</td><td>List(citrus fruit, tropical fruit, pip fruit, whole milk)</td><td>List(other vegetables, root vegetables, yogurt, sausage, chicken, rolls/buns, bottled water, whipped/sour cream, frankfurter, butter, curd, pork, pastry, beef)</td></tr><tr><td>3904</td><td>List(chicken, hamburger meat, citrus fruit, other vegetables)</td><td>List(whole milk, pip fruit, rolls/buns, frankfurter, tropical fruit, root vegetables, pork, yogurt, sausage, beef)</td></tr><tr><td>3906</td><td>List(other vegetables, yogurt)</td><td>List(citrus fruit, chicken, whole milk, pip fruit, rolls/buns, frankfurter, tropical fruit, root vegetables, pork, hamburger meat, sausage, beef)</td></tr><tr><td>3909</td><td>List(frozen vegetables, margarine, pickled vegetables)</td><td>List()</td></tr><tr><td>3920</td><td>List(butter milk, UHT-milk, cream cheese, spread cheese)</td><td>List()</td></tr><tr><td>3925</td><td>List(yogurt, rolls/buns)</td><td>List(citrus fruit, other vegetables, tropical fruit, whole milk, soda, sausage)</td></tr><tr><td>3926</td><td>List(berries, root vegetables, yogurt, whipped/sour cream)</td><td>List(whole milk, citrus fruit, rolls/buns, other vegetables, tropical fruit, pip fruit, pork, sausage, beef)</td></tr><tr><td>3933</td><td>List(pip fruit, other vegetables, whole milk)</td><td>List(citrus fruit, chicken, rolls/buns, frankfurter, tropical fruit, root vegetables, pork, hamburger meat, yogurt, sausage, beef, bottled water, whipped/sour cream, butter, curd, pastry)</td></tr><tr><td>3938</td><td>List(oil, bottled water, long life bakery product)</td><td>List(whole milk)</td></tr><tr><td>3941</td><td>List(sausage, root vegetables, curd, yogurt)</td><td>List(citrus fruit, rolls/buns, other vegetables, tropical fruit, whole milk, pip fruit, pork, beef)</td></tr><tr><td>3944</td><td>List(frankfurter, meat)</td><td>List(other vegetables, whole milk)</td></tr><tr><td>3947</td><td>List(pork, root vegetables, other vegetables, mayonnaise)</td><td>List(citrus fruit, chicken, whole milk, pip fruit, rolls/buns, frankfurter, tropical fruit, hamburger meat, yogurt, sausage, beef)</td></tr><tr><td>3963</td><td>List(whole milk, rolls/buns, bottled beer)</td><td>List(other vegetables, soda, yogurt, sausage, citrus fruit, chicken, pip fruit, bottled water, whipped/sour cream, frankfurter, butter, tropical fruit, curd, root vegetables, pork, pastry, beef)</td></tr><tr><td>3965</td><td>List(coffee, soda)</td><td>List(rolls/buns)</td></tr><tr><td>3979</td><td>List(tropical fruit, root vegetables, sliced cheese, processed cheese)</td><td>List(citrus fruit, pip fruit, other vegetables, whole milk, yogurt, sausage, pork, beef)</td></tr><tr><td>3986</td><td>List(canned beer)</td><td>List()</td></tr><tr><td>3993</td><td>List(chicken, other vegetables, whole milk, curd)</td><td>List(citrus fruit, pip fruit, rolls/buns, frankfurter, tropical fruit, root vegetables, pork, hamburger meat, yogurt, sausage, beef, bottled water, whipped/sour cream, butter, pastry)</td></tr><tr><td>3994</td><td>List(shopping bags)</td><td>List()</td></tr><tr><td>3998</td><td>List(root vegetables, butter, margarine)</td><td>List(citrus fruit, pip fruit, other vegetables, tropical fruit, whole milk, pork, sausage, beef)</td></tr><tr><td>4000</td><td>List(sausage, turkey, citrus fruit, other vegetables)</td><td>List(chicken, whole milk, pip fruit, rolls/buns, frankfurter, tropical fruit, root vegetables, pork, hamburger meat, yogurt, beef)</td></tr><tr><td>4005</td><td>List(photo/film)</td><td>List()</td></tr><tr><td>4007</td><td>List(frankfurter, rolls/buns)</td><td>List(other vegetables, whole milk, soda, yogurt, sausage)</td></tr><tr><td>4009</td><td>List(beef, pip fruit, onions, whole milk)</td><td>List(citrus fruit, chicken, other vegetables, rolls/buns, bottled water, whipped/sour cream, frankfurter, butter, tropical fruit, curd, root vegetables, pork, pastry, yogurt, sausage)</td></tr><tr><td>4019</td><td>List(other vegetables)</td><td>List(citrus fruit, chicken, whole milk, pip fruit, rolls/buns, frankfurter, tropical fruit, root vegetables, pork, hamburger meat, yogurt, sausage, beef)</td></tr><tr><td>4021</td><td>List(canned beer)</td><td>List()</td></tr><tr><td>4026</td><td>List(specialty chocolate, light bulbs)</td><td>List()</td></tr><tr><td>4030</td><td>List(tropical fruit, shopping bags)</td><td>List(citrus fruit, pip fruit, other vegetables, whole milk, root vegetables, yogurt, sausage)</td></tr><tr><td>4041</td><td>List(pork, other vegetables, pot plants)</td><td>List(citrus fruit, chicken, whole milk, pip fruit, rolls/buns, frankfurter, tropical fruit, root vegetables, hamburger meat, yogurt, sausage, beef)</td></tr><tr><td>4042</td><td>List(rolls/buns, chewing gum)</td><td>List(other vegetables, whole milk, soda, yogurt, sausage)</td></tr><tr><td>4043</td><td>List(margarine, soda)</td><td>List(rolls/buns)</td></tr><tr><td>4049</td><td>List(whole milk, butter, newspapers)</td><td>List(citrus fruit, chicken, other vegetables, pip fruit, rolls/buns, bottled water, whipped/sour cream, frankfurter, tropical fruit, curd, root vegetables, pork, pastry, yogurt, sausage, beef)</td></tr><tr><td>4067</td><td>List(root vegetables, other vegetables, whole milk, hard cheese)</td><td>List(citrus fruit, chicken, pip fruit, rolls/buns, frankfurter, tropical fruit, pork, hamburger meat, yogurt, sausage, beef, bottled water, whipped/sour cream, butter, curd, pastry)</td></tr><tr><td>4068</td><td>List(rolls/buns, sugar, coffee, canned beer)</td><td>List(other vegetables, whole milk, soda, yogurt, sausage)</td></tr><tr><td>4070</td><td>List(rolls/buns)</td><td>List(other vegetables, whole milk, soda, yogurt, sausage)</td></tr><tr><td>4074</td><td>List(rolls/buns)</td><td>List(other vegetables, whole milk, soda, yogurt, sausage)</td></tr><tr><td>4077</td><td>List(butter milk, pastry)</td><td>List(whole milk)</td></tr><tr><td>4088</td><td>List(whole milk, whipped/sour cream, hard cheese, rolls/buns)</td><td>List(other vegetables, soda, yogurt, sausage, citrus fruit, chicken, pip fruit, bottled water, frankfurter, butter, tropical fruit, curd, root vegetables, pork, pastry, beef)</td></tr><tr><td>4090</td><td>List(ham, beef, whole milk, yogurt)</td><td>List(citrus fruit, rolls/buns, other vegetables, tropical fruit, chicken, pip fruit, bottled water, whipped/sour cream, frankfurter, butter, curd, root vegetables, pork, pastry, sausage)</td></tr><tr><td>4095</td><td>List(meat, pip fruit, root vegetables, whole milk)</td><td>List(citrus fruit, chicken, other vegetables, rolls/buns, bottled water, whipped/sour cream, frankfurter, butter, tropical fruit, curd, pork, pastry, yogurt, sausage, beef)</td></tr><tr><td>4103</td><td>List(whole milk, semi-finished bread)</td><td>List(citrus fruit, chicken, other vegetables, pip fruit, rolls/buns, bottled water, whipped/sour cream, frankfurter, butter, tropical fruit, curd, root vegetables, pork, pastry, yogurt, sausage, beef)</td></tr><tr><td>4105</td><td>List(fruit/vegetable juice)</td><td>List()</td></tr><tr><td>4107</td><td>List(other vegetables, yogurt, pastry, vinegar)</td><td>List(citrus fruit, chicken, whole milk, pip fruit, rolls/buns, frankfurter, tropical fruit, root vegetables, pork, hamburger meat, sausage, beef)</td></tr><tr><td>4111</td><td>List(chicken, citrus fruit, whole milk, yogurt)</td><td>List(rolls/buns, other vegetables, tropical fruit, root vegetables, sausage, pip fruit, bottled water, whipped/sour cream, frankfurter, butter, curd, pork, pastry, beef)</td></tr><tr><td>4121</td><td>List(whole milk, curd, rolls/buns)</td><td>List(other vegetables, soda, yogurt, sausage, citrus fruit, chicken, pip fruit, bottled water, whipped/sour cream, frankfurter, butter, tropical fruit, root vegetables, pork, pastry, beef)</td></tr><tr><td>4123</td><td>List(pork, whole milk, butter, yogurt)</td><td>List(citrus fruit, rolls/buns, other vegetables, tropical fruit, chicken, pip fruit, bottled water, whipped/sour cream, frankfurter, curd, root vegetables, pastry, sausage, beef)</td></tr><tr><td>4128</td><td>List(soda)</td><td>List(rolls/buns)</td></tr><tr><td>4132</td><td>List(whole milk, cream cheese, salty snack)</td><td>List(citrus fruit, chicken, other vegetables, pip fruit, rolls/buns, bottled water, whipped/sour cream, frankfurter, butter, tropical fruit, curd, root vegetables, pork, pastry, yogurt, sausage, beef)</td></tr><tr><td>4134</td><td>List(tropical fruit, other vegetables)</td><td>List(citrus fruit, chicken, whole milk, pip fruit, rolls/buns, frankfurter, root vegetables, pork, hamburger meat, yogurt, sausage, beef)</td></tr><tr><td>4136</td><td>List(ham, onions, other vegetables, whole milk)</td><td>List(citrus fruit, chicken, pip fruit, rolls/buns, frankfurter, tropical fruit, root vegetables, pork, hamburger meat, yogurt, sausage, beef, bottled water, whipped/sour cream, butter, curd, pastry)</td></tr><tr><td>4143</td><td>List(beef, root vegetables, jam, toilet cleaner)</td><td>List(other vegetables, whole milk, citrus fruit, pip fruit, tropical fruit, pork, sausage)</td></tr><tr><td>4157</td><td>List(tropical fruit, pip fruit, yogurt, frozen vegetables)</td><td>List(citrus fruit, rolls/buns, other vegetables, whole milk, root vegetables, sausage)</td></tr><tr><td>4162</td><td>List(chicken, other vegetables, whipped/sour cream, sliced cheese)</td><td>List(citrus fruit, whole milk, pip fruit, rolls/buns, frankfurter, tropical fruit, root vegetables, pork, hamburger meat, yogurt, sausage, beef)</td></tr><tr><td>4165</td><td>List(sausage, hamburger meat, other vegetables, yogurt)</td><td>List(citrus fruit, chicken, whole milk, pip fruit, rolls/buns, frankfurter, tropical fruit, root vegetables, pork, beef)</td></tr><tr><td>4169</td><td>List(butter milk, ice cream, long life bakery product, chewing gum)</td><td>List()</td></tr><tr><td>4170</td><td>List(soda, candy)</td><td>List(rolls/buns)</td></tr><tr><td>4171</td><td>List(chicken, citrus fruit, berries, root vegetables)</td><td>List(other vegetables, whole milk, sausage, tropical fruit, yogurt, pip fruit, pork, beef)</td></tr><tr><td>4176</td><td>List(beverages, cream cheese, rolls/buns, candy)</td><td>List(other vegetables, whole milk, soda, yogurt, sausage)</td></tr><tr><td>4195</td><td>List(baking powder, rum)</td><td>List()</td></tr><tr><td>4197</td><td>List(sugar)</td><td>List()</td></tr><tr><td>4200</td><td>List(berries, whipped/sour cream, oil, dog food)</td><td>List(whole milk)</td></tr><tr><td>4210</td><td>List(herbs, whole milk, sliced cheese, rolls/buns)</td><td>List(other vegetables, soda, yogurt, sausage, citrus fruit, chicken, pip fruit, bottled water, whipped/sour cream, frankfurter, butter, tropical fruit, curd, root vegetables, pork, pastry, beef)</td></tr><tr><td>4217</td><td>List(canned beer)</td><td>List()</td></tr><tr><td>4218</td><td>List(chicken, citrus fruit, onions, other vegetables)</td><td>List(whole milk, pip fruit, rolls/buns, frankfurter, tropical fruit, root vegetables, pork, hamburger meat, yogurt, sausage, beef)</td></tr><tr><td>4221</td><td>List(berries, root vegetables, other vegetables, butter milk)</td><td>List(citrus fruit, chicken, whole milk, pip fruit, rolls/buns, frankfurter, tropical fruit, pork, hamburger meat, yogurt, sausage, beef)</td></tr><tr><td>4223</td><td>List(frankfurter, bottled beer, liquor)</td><td>List(other vegetables, whole milk)</td></tr><tr><td>4228</td><td>List(other vegetables)</td><td>List(citrus fruit, chicken, whole milk, pip fruit, rolls/buns, frankfurter, tropical fruit, root vegetables, pork, hamburger meat, yogurt, sausage, beef)</td></tr><tr><td>4233</td><td>List(pork, whole milk, yogurt, UHT-milk)</td><td>List(citrus fruit, rolls/buns, other vegetables, tropical fruit, chicken, pip fruit, bottled water, whipped/sour cream, frankfurter, butter, curd, root vegetables, pastry, sausage, beef)</td></tr><tr><td>4234</td><td>List(root vegetables, onions, other vegetables, whole milk)</td><td>List(citrus fruit, chicken, pip fruit, rolls/buns, frankfurter, tropical fruit, pork, hamburger meat, yogurt, sausage, beef, bottled water, whipped/sour cream, butter, curd, pastry)</td></tr><tr><td>4240</td><td>List(sausage, citrus fruit, canned fish, waffles)</td><td>List(pip fruit, rolls/buns, root vegetables, other vegetables, tropical fruit, whole milk, yogurt)</td></tr><tr><td>4241</td><td>List(soda)</td><td>List(rolls/buns)</td></tr><tr><td>4246</td><td>List(liver loaf, chicken, turkey, berries)</td><td>List(other vegetables, whole milk)</td></tr><tr><td>4249</td><td>List(other vegetables, canned fish, soda, shopping bags)</td><td>List(citrus fruit, chicken, whole milk, pip fruit, rolls/buns, frankfurter, tropical fruit, root vegetables, pork, hamburger meat, yogurt, sausage, beef)</td></tr><tr><td>4254</td><td>List(berries)</td><td>List()</td></tr><tr><td>4255</td><td>List(other vegetables, whole milk, fruit/vegetable juice, chocolate)</td><td>List(citrus fruit, chicken, pip fruit, rolls/buns, frankfurter, tropical fruit, root vegetables, pork, hamburger meat, yogurt, sausage, beef, bottled water, whipped/sour cream, butter, curd, pastry)</td></tr><tr><td>4256</td><td>List(chicken, beef, root vegetables, whole milk)</td><td>List(other vegetables, citrus fruit, pip fruit, rolls/buns, bottled water, whipped/sour cream, frankfurter, butter, tropical fruit, curd, pork, pastry, yogurt, sausage)</td></tr><tr><td>4270</td><td>List(frankfurter, root vegetables, onions, canned beer)</td><td>List(other vegetables, whole milk, citrus fruit, pip fruit, tropical fruit, pork, sausage, beef)</td></tr><tr><td>4276</td><td>List(whole milk, rolls/buns)</td><td>List(other vegetables, soda, yogurt, sausage, citrus fruit, chicken, pip fruit, bottled water, whipped/sour cream, frankfurter, butter, tropical fruit, curd, root vegetables, pork, pastry, beef)</td></tr><tr><td>4278</td><td>List(chocolate marshmallow)</td><td>List()</td></tr><tr><td>4283</td><td>List(frankfurter)</td><td>List(other vegetables, whole milk)</td></tr><tr><td>4287</td><td>List(ham, tropical fruit, whole milk, dessert)</td><td>List(citrus fruit, pip fruit, other vegetables, root vegetables, yogurt, sausage, chicken, rolls/buns, bottled water, whipped/sour cream, frankfurter, butter, curd, pork, pastry, beef)</td></tr><tr><td>4290</td><td>List(whole milk, curd, pastry, fruit/vegetable juice)</td><td>List(citrus fruit, chicken, other vegetables, pip fruit, rolls/buns, bottled water, whipped/sour cream, frankfurter, butter, tropical fruit, root vegetables, pork, yogurt, sausage, beef)</td></tr><tr><td>4292</td><td>List(finished products, fruit/vegetable juice, white wine, chocolate)</td><td>List()</td></tr><tr><td>4298</td><td>List(berries, fruit/vegetable juice, waffles, specialty bar)</td><td>List()</td></tr><tr><td>4310</td><td>List(ham, pork, whole milk, pastry)</td><td>List(citrus fruit, chicken, other vegetables, pip fruit, rolls/buns, bottled water, whipped/sour cream, frankfurter, butter, tropical fruit, curd, root vegetables, yogurt, sausage, beef)</td></tr><tr><td>4327</td><td>List(root vegetables, other vegetables)</td><td>List(citrus fruit, chicken, whole milk, pip fruit, rolls/buns, frankfurter, tropical fruit, pork, hamburger meat, yogurt, sausage, beef)</td></tr><tr><td>4337</td><td>List(citrus fruit, whole milk)</td><td>List(root vegetables, sausage, other vegetables, tropical fruit, yogurt, pip fruit, chicken, rolls/buns, bottled water, whipped/sour cream, frankfurter, butter, curd, pork, pastry, beef)</td></tr><tr><td>4349</td><td>List(root vegetables, soda, liquor)</td><td>List(rolls/buns, citrus fruit, pip fruit, other vegetables, tropical fruit, whole milk, pork, sausage, beef)</td></tr><tr><td>4376</td><td>List(pastry)</td><td>List(whole milk)</td></tr><tr><td>4381</td><td>List(citrus fruit, whole milk, yogurt, whipped/sour cream)</td><td>List(rolls/buns, other vegetables, tropical fruit, root vegetables, sausage, pip fruit, chicken, bottled water, frankfurter, butter, curd, pork, pastry, beef)</td></tr><tr><td>4385</td><td>List(other vegetables, salt, sweet spreads)</td><td>List(citrus fruit, chicken, whole milk, pip fruit, rolls/buns, frankfurter, tropical fruit, root vegetables, pork, hamburger meat, yogurt, sausage, beef)</td></tr><tr><td>4394</td><td>List(onions, other vegetables, whole milk, butter)</td><td>List(citrus fruit, chicken, pip fruit, rolls/buns, frankfurter, tropical fruit, root vegetables, pork, hamburger meat, yogurt, sausage, beef, bottled water, whipped/sour cream, curd, pastry)</td></tr><tr><td>4403</td><td>List(canned vegetables, white wine, newspapers, flower soil/fertilizer)</td><td>List()</td></tr><tr><td>4406</td><td>List(frankfurter, rolls/buns, dishes, shopping bags)</td><td>List(other vegetables, whole milk, soda, yogurt, sausage)</td></tr><tr><td>4407</td><td>List(rolls/buns)</td><td>List(other vegetables, whole milk, soda, yogurt, sausage)</td></tr><tr><td>4412</td><td>List(sausage, UHT-milk, pastry, margarine)</td><td>List(whole milk, citrus fruit, pip fruit, rolls/buns, root vegetables, other vegetables, tropical fruit)</td></tr><tr><td>4413</td><td>List(white wine, red/blush wine)</td><td>List()</td></tr><tr><td>4422</td><td>List(root vegetables, whole milk, honey, pudding powder)</td><td>List(citrus fruit, chicken, other vegetables, pip fruit, rolls/buns, bottled water, whipped/sour cream, frankfurter, butter, tropical fruit, curd, pork, pastry, yogurt, sausage, beef)</td></tr><tr><td>4426</td><td>List(tropical fruit, whole milk, curd, yogurt)</td><td>List(citrus fruit, rolls/buns, other vegetables, pip fruit, root vegetables, sausage, chicken, bottled water, whipped/sour cream, frankfurter, butter, pork, pastry, beef)</td></tr><tr><td>4428</td><td>List(sausage, ham, pork, other vegetables)</td><td>List(citrus fruit, chicken, whole milk, pip fruit, rolls/buns, frankfurter, tropical fruit, root vegetables, hamburger meat, yogurt, beef)</td></tr><tr><td>4430</td><td>List(frankfurter, sausage, liver loaf, beef)</td><td>List(citrus fruit, pip fruit, rolls/buns, root vegetables, other vegetables, tropical fruit, whole milk)</td></tr><tr><td>4433</td><td>List(chicken, pork, citrus fruit, berries)</td><td>List(other vegetables, whole milk, root vegetables, sausage, tropical fruit, yogurt, pip fruit)</td></tr><tr><td>4438</td><td>List(canned beer)</td><td>List()</td></tr><tr><td>4439</td><td>List(tropical fruit, whole milk, domestic eggs, pastry)</td><td>List(citrus fruit, pip fruit, other vegetables, root vegetables, yogurt, sausage, chicken, rolls/buns, bottled water, whipped/sour cream, frankfurter, butter, curd, pork, beef)</td></tr><tr><td>4443</td><td>List(pork, pip fruit, root vegetables, other vegetables)</td><td>List(citrus fruit, chicken, whole milk, rolls/buns, frankfurter, tropical fruit, hamburger meat, yogurt, sausage, beef)</td></tr><tr><td>4450</td><td>List(root vegetables, other vegetables, whole milk, sliced cheese)</td><td>List(citrus fruit, chicken, pip fruit, rolls/buns, frankfurter, tropical fruit, pork, hamburger meat, yogurt, sausage, beef, bottled water, whipped/sour cream, butter, curd, pastry)</td></tr><tr><td>4458</td><td>List(root vegetables, other vegetables, UHT-milk, hard cheese)</td><td>List(citrus fruit, chicken, whole milk, pip fruit, rolls/buns, frankfurter, tropical fruit, pork, hamburger meat, yogurt, sausage, beef)</td></tr><tr><td>4467</td><td>List(whole milk, domestic eggs, oil)</td><td>List(citrus fruit, chicken, other vegetables, pip fruit, rolls/buns, bottled water, whipped/sour cream, frankfurter, butter, tropical fruit, curd, root vegetables, pork, pastry, yogurt, sausage, beef)</td></tr><tr><td>4476</td><td>List(soft cheese, rolls/buns, brown bread, syrup)</td><td>List(other vegetables, whole milk, soda, yogurt, sausage)</td></tr><tr><td>4478</td><td>List(tropical fruit, pip fruit, grapes, whole milk)</td><td>List(citrus fruit, other vegetables, root vegetables, yogurt, sausage, chicken, rolls/buns, bottled water, whipped/sour cream, frankfurter, butter, curd, pork, pastry, beef)</td></tr><tr><td>4484</td><td>List(whole milk, butter, yogurt, rolls/buns)</td><td>List(citrus fruit, other vegetables, tropical fruit, soda, sausage, chicken, pip fruit, bottled water, whipped/sour cream, frankfurter, curd, root vegetables, pork, pastry, beef)</td></tr><tr><td>4487</td><td>List(frankfurter, other vegetables, cream cheese, sweet spreads)</td><td>List(citrus fruit, chicken, whole milk, pip fruit, rolls/buns, tropical fruit, root vegetables, pork, hamburger meat, yogurt, sausage, beef)</td></tr><tr><td>4497</td><td>List(chicken)</td><td>List(other vegetables, whole milk)</td></tr><tr><td>4505</td><td>List(root vegetables, packaged fruit/vegetables, rolls/buns, sugar)</td><td>List(other vegetables, whole milk, soda, yogurt, sausage, citrus fruit, pip fruit, tropical fruit, pork, beef)</td></tr><tr><td>4507</td><td>List(yogurt, canned vegetables, pot plants)</td><td>List(citrus fruit, rolls/buns, other vegetables, tropical fruit, whole milk)</td></tr><tr><td>4513</td><td>List(other vegetables, yogurt, whipped/sour cream, newspapers)</td><td>List(citrus fruit, chicken, whole milk, pip fruit, rolls/buns, frankfurter, tropical fruit, root vegetables, pork, hamburger meat, sausage, beef)</td></tr><tr><td>4517</td><td>List(pip fruit, beverages, frozen vegetables, frozen meals)</td><td>List(citrus fruit, root vegetables, sausage, other vegetables, tropical fruit, whole milk)</td></tr><tr><td>4521</td><td>List(pork, onions, other vegetables, whole milk)</td><td>List(citrus fruit, chicken, pip fruit, rolls/buns, frankfurter, tropical fruit, root vegetables, hamburger meat, yogurt, sausage, beef, bottled water, whipped/sour cream, butter, curd, pastry)</td></tr><tr><td>4522</td><td>List(sausage, pip fruit, root vegetables, whole milk)</td><td>List(citrus fruit, rolls/buns, other vegetables, tropical fruit, chicken, bottled water, whipped/sour cream, frankfurter, butter, curd, pork, pastry, yogurt, beef)</td></tr><tr><td>4524</td><td>List(bottled water)</td><td>List(whole milk)</td></tr><tr><td>4538</td><td>List(chicken, root vegetables, whole milk, butter)</td><td>List(other vegetables, citrus fruit, pip fruit, rolls/buns, bottled water, whipped/sour cream, frankfurter, tropical fruit, curd, pork, pastry, yogurt, sausage, beef)</td></tr><tr><td>4540</td><td>List(citrus fruit, berries, butter, butter milk)</td><td>List(root vegetables, sausage, other vegetables, tropical fruit, yogurt, whole milk, pip fruit)</td></tr><tr><td>4544</td><td>List(bottled beer)</td><td>List()</td></tr><tr><td>4549</td><td>List(tropical fruit, other vegetables, rolls/buns, salt)</td><td>List(citrus fruit, chicken, whole milk, pip fruit, frankfurter, root vegetables, pork, hamburger meat, yogurt, sausage, beef, soda)</td></tr><tr><td>4550</td><td>List(sausage, hamburger meat, citrus fruit, whole milk)</td><td>List(pip fruit, rolls/buns, root vegetables, other vegetables, tropical fruit, yogurt, chicken, bottled water, whipped/sour cream, frankfurter, butter, curd, pork, pastry, beef)</td></tr><tr><td>4562</td><td>List(tropical fruit, pip fruit, yogurt, frozen vegetables)</td><td>List(citrus fruit, rolls/buns, other vegetables, whole milk, root vegetables, sausage)</td></tr><tr><td>4564</td><td>List(whole milk, dessert, whipped/sour cream, ice cream)</td><td>List(citrus fruit, chicken, other vegetables, pip fruit, rolls/buns, bottled water, frankfurter, butter, tropical fruit, curd, root vegetables, pork, pastry, yogurt, sausage, beef)</td></tr><tr><td>4571</td><td>List(salty snack, candy)</td><td>List()</td></tr><tr><td>4577</td><td>List(canned beer)</td><td>List()</td></tr><tr><td>4582</td><td>List(bottled beer)</td><td>List()</td></tr><tr><td>4583</td><td>List(domestic eggs, canned beer, shopping bags)</td><td>List()</td></tr><tr><td>4589</td><td>List(hard cheese)</td><td>List()</td></tr><tr><td>4593</td><td>List(misc. beverages)</td><td>List()</td></tr><tr><td>4600</td><td>List(bottled beer, liquor (appetizer), dishes)</td><td>List()</td></tr><tr><td>4601</td><td>List(tropical fruit, yogurt, cream cheese )</td><td>List(citrus fruit, rolls/buns, other vegetables, whole milk, pip fruit, root vegetables, sausage)</td></tr><tr><td>4602</td><td>List(UHT-milk, brown bread, newspapers)</td><td>List()</td></tr><tr><td>4610</td><td>List(pastry, soda)</td><td>List(whole milk, rolls/buns)</td></tr><tr><td>4618</td><td>List(soda, long life bakery product)</td><td>List(rolls/buns)</td></tr><tr><td>4620</td><td>List(canned beer)</td><td>List()</td></tr><tr><td>4623</td><td>List(yogurt, soda, waffles)</td><td>List(citrus fruit, rolls/buns, other vegetables, tropical fruit, whole milk)</td></tr><tr><td>4638</td><td>List(whole milk, butter, yogurt, beverages)</td><td>List(citrus fruit, rolls/buns, other vegetables, tropical fruit, chicken, pip fruit, bottled water, whipped/sour cream, frankfurter, curd, root vegetables, pork, pastry, sausage, beef)</td></tr><tr><td>4639</td><td>List(rolls/buns, soda)</td><td>List(other vegetables, whole milk, yogurt, sausage)</td></tr><tr><td>4654</td><td>List(sausage, liquor (appetizer))</td><td>List(citrus fruit, pip fruit, rolls/buns, root vegetables, other vegetables, tropical fruit, whole milk)</td></tr><tr><td>4657</td><td>List(yogurt, bottled water)</td><td>List(citrus fruit, rolls/buns, other vegetables, tropical fruit, whole milk)</td></tr><tr><td>4672</td><td>List(meat, other vegetables, whole milk, rolls/buns)</td><td>List(citrus fruit, chicken, pip fruit, frankfurter, tropical fruit, root vegetables, pork, hamburger meat, yogurt, sausage, beef, soda, bottled water, whipped/sour cream, butter, curd, pastry)</td></tr><tr><td>4675</td><td>List(pork, root vegetables, pasta)</td><td>List(citrus fruit, pip fruit, other vegetables, tropical fruit, whole milk, sausage, beef)</td></tr><tr><td>4676</td><td>List(other vegetables, cake bar)</td><td>List(citrus fruit, chicken, whole milk, pip fruit, rolls/buns, frankfurter, tropical fruit, root vegetables, pork, hamburger meat, yogurt, sausage, beef)</td></tr><tr><td>4677</td><td>List(whole milk, shopping bags)</td><td>List(citrus fruit, chicken, other vegetables, pip fruit, rolls/buns, bottled water, whipped/sour cream, frankfurter, butter, tropical fruit, curd, root vegetables, pork, pastry, yogurt, sausage, beef)</td></tr><tr><td>4679</td><td>List(sausage, citrus fruit, other vegetables, whipped/sour cream)</td><td>List(chicken, whole milk, pip fruit, rolls/buns, frankfurter, tropical fruit, root vegetables, pork, hamburger meat, yogurt, beef)</td></tr><tr><td>4681</td><td>List(organic sausage, turkey, tropical fruit, pip fruit)</td><td>List(citrus fruit, other vegetables, whole milk, root vegetables, yogurt, sausage)</td></tr><tr><td>4684</td><td>List(yogurt)</td><td>List(citrus fruit, rolls/buns, other vegetables, tropical fruit, whole milk)</td></tr><tr><td>4685</td><td>List(meat, pip fruit, dessert, processed cheese)</td><td>List(citrus fruit, root vegetables, sausage, other vegetables, tropical fruit, whole milk)</td></tr><tr><td>4692</td><td>List(sausage, hamburger meat, citrus fruit, whole milk)</td><td>List(pip fruit, rolls/buns, root vegetables, other vegetables, tropical fruit, yogurt, chicken, bottled water, whipped/sour cream, frankfurter, butter, curd, pork, pastry, beef)</td></tr><tr><td>4693</td><td>List(frankfurter, sausage, rolls/buns, soda)</td><td>List(other vegetables, whole milk, yogurt, citrus fruit, pip fruit, root vegetables, tropical fruit)</td></tr><tr><td>4697</td><td>List(long life bakery product, house keeping products)</td><td>List()</td></tr><tr><td>4700</td><td>List(citrus fruit, onions, beverages, margarine)</td><td>List(root vegetables, sausage, other vegetables, tropical fruit, yogurt, whole milk, pip fruit)</td></tr><tr><td>4702</td><td>List(sausage, hard cheese, rolls/buns, specialty fat)</td><td>List(other vegetables, whole milk, soda, yogurt, citrus fruit, pip fruit, root vegetables, tropical fruit)</td></tr><tr><td>4707</td><td>List(canned beer)</td><td>List()</td></tr><tr><td>4710</td><td>List(canned beer)</td><td>List()</td></tr><tr><td>4715</td><td>List(frankfurter, sausage, tropical fruit, root vegetables)</td><td>List(citrus fruit, pip fruit, other vegetables, whole milk, yogurt, rolls/buns, pork, beef)</td></tr><tr><td>4729</td><td>List(hamburger meat, margarine, soda, bathroom cleaner)</td><td>List(rolls/buns, other vegetables)</td></tr><tr><td>4730</td><td>List(pork, other vegetables, whole milk, frozen potato products)</td><td>List(citrus fruit, chicken, pip fruit, rolls/buns, frankfurter, tropical fruit, root vegetables, hamburger meat, yogurt, sausage, beef, bottled water, whipped/sour cream, butter, curd, pastry)</td></tr><tr><td>4731</td><td>List(nuts/prunes, other vegetables, rum)</td><td>List(citrus fruit, chicken, whole milk, pip fruit, rolls/buns, frankfurter, tropical fruit, root vegetables, pork, hamburger meat, yogurt, sausage, beef)</td></tr><tr><td>4734</td><td>List(rolls/buns, canned beer)</td><td>List(other vegetables, whole milk, soda, yogurt, sausage)</td></tr><tr><td>4735</td><td>List(sausage, soda, specialty chocolate)</td><td>List(citrus fruit, pip fruit, rolls/buns, root vegetables, other vegetables, tropical fruit, whole milk)</td></tr><tr><td>4749</td><td>List(sausage, yogurt, pastry, cat food)</td><td>List(whole milk, citrus fruit, rolls/buns, other vegetables, tropical fruit, pip fruit, root vegetables)</td></tr><tr><td>4754</td><td>List(bottled beer, white wine)</td><td>List()</td></tr><tr><td>4765</td><td>List(soda, bottled beer, liquor, red/blush wine)</td><td>List(rolls/buns)</td></tr><tr><td>4766</td><td>List(whole milk, butter, cat food)</td><td>List(citrus fruit, chicken, other vegetables, pip fruit, rolls/buns, bottled water, whipped/sour cream, frankfurter, tropical fruit, curd, root vegetables, pork, pastry, yogurt, sausage, beef)</td></tr><tr><td>4773</td><td>List(hamburger meat, tropical fruit, other vegetables, whole milk)</td><td>List(citrus fruit, chicken, pip fruit, rolls/buns, frankfurter, root vegetables, pork, yogurt, sausage, beef, bottled water, whipped/sour cream, butter, curd, pastry)</td></tr><tr><td>4785</td><td>List(canned beer)</td><td>List()</td></tr><tr><td>4810</td><td>List(frozen meals)</td><td>List()</td></tr><tr><td>4813</td><td>List(soda, bottled beer, liquor, red/blush wine)</td><td>List(rolls/buns)</td></tr><tr><td>4819</td><td>List(soda)</td><td>List(rolls/buns)</td></tr><tr><td>4821</td><td>List(curd, yogurt)</td><td>List(citrus fruit, rolls/buns, other vegetables, tropical fruit, whole milk)</td></tr><tr><td>4826</td><td>List(curd, UHT-milk, bottled water)</td><td>List(whole milk)</td></tr><tr><td>4828</td><td>List(citrus fruit, root vegetables, onions, whole milk)</td><td>List(sausage, other vegetables, tropical fruit, yogurt, pip fruit, chicken, rolls/buns, bottled water, whipped/sour cream, frankfurter, butter, curd, pork, pastry, beef)</td></tr><tr><td>4832</td><td>List(cream cheese, ice cream, pastry, specialty chocolate)</td><td>List(whole milk)</td></tr><tr><td>4833</td><td>List(tropical fruit, pip fruit, whole milk, pastry)</td><td>List(citrus fruit, other vegetables, root vegetables, yogurt, sausage, chicken, rolls/buns, bottled water, whipped/sour cream, frankfurter, butter, curd, pork, beef)</td></tr><tr><td>4834</td><td>List(beverages)</td><td>List()</td></tr><tr><td>4859</td><td>List(meat, citrus fruit, pip fruit, root vegetables)</td><td>List(sausage, other vegetables, tropical fruit, yogurt, whole milk, pork, beef)</td></tr><tr><td>4863</td><td>List(frozen meals, white bread, fruit/vegetable juice)</td><td>List()</td></tr><tr><td>4868</td><td>List(sausage, beverages, rolls/buns)</td><td>List(other vegetables, whole milk, soda, yogurt, citrus fruit, pip fruit, root vegetables, tropical fruit)</td></tr><tr><td>4869</td><td>List(butter, napkins)</td><td>List(whole milk)</td></tr><tr><td>4870</td><td>List(chicken, fruit/vegetable juice, long life bakery product)</td><td>List(other vegetables, whole milk)</td></tr><tr><td>4874</td><td>List(citrus fruit, berries, yogurt, bottled water)</td><td>List(rolls/buns, other vegetables, tropical fruit, whole milk, root vegetables, sausage, pip fruit)</td></tr><tr><td>4883</td><td>List(beef, spread cheese, domestic eggs, cat food)</td><td>List(root vegetables, other vegetables, whole milk)</td></tr><tr><td>4888</td><td>List(bottled beer)</td><td>List()</td></tr><tr><td>4889</td><td>List(yogurt, frozen dessert)</td><td>List(citrus fruit, rolls/buns, other vegetables, tropical fruit, whole milk)</td></tr><tr><td>4890</td><td>List(whole milk, coffee, cooking chocolate, newspapers)</td><td>List(citrus fruit, chicken, other vegetables, pip fruit, rolls/buns, bottled water, whipped/sour cream, frankfurter, butter, tropical fruit, curd, root vegetables, pork, pastry, yogurt, sausage, beef)</td></tr><tr><td>4896</td><td>List(frankfurter, pork, other vegetables, whole milk)</td><td>List(citrus fruit, chicken, pip fruit, rolls/buns, tropical fruit, root vegetables, hamburger meat, yogurt, sausage, beef, bottled water, whipped/sour cream, butter, curd, pastry)</td></tr><tr><td>4898</td><td>List(pip fruit, whole milk, beverages, domestic eggs)</td><td>List(citrus fruit, chicken, other vegetables, rolls/buns, bottled water, whipped/sour cream, frankfurter, butter, tropical fruit, curd, root vegetables, pork, pastry, yogurt, sausage, beef)</td></tr><tr><td>4904</td><td>List(bottled beer)</td><td>List()</td></tr><tr><td>4905</td><td>List(bottled water)</td><td>List(whole milk)</td></tr><tr><td>4906</td><td>List(specialty bar, house keeping products)</td><td>List()</td></tr><tr><td>4922</td><td>List(whole milk)</td><td>List(citrus fruit, chicken, other vegetables, pip fruit, rolls/buns, bottled water, whipped/sour cream, frankfurter, butter, tropical fruit, curd, root vegetables, pork, pastry, yogurt, sausage, beef)</td></tr><tr><td>4926</td><td>List(misc. beverages, napkins)</td><td>List()</td></tr><tr><td>4940</td><td>List(whole milk)</td><td>List(citrus fruit, chicken, other vegetables, pip fruit, rolls/buns, bottled water, whipped/sour cream, frankfurter, butter, tropical fruit, curd, root vegetables, pork, pastry, yogurt, sausage, beef)</td></tr><tr><td>4942</td><td>List(pip fruit, whipped/sour cream)</td><td>List(whole milk, citrus fruit, root vegetables, sausage, other vegetables, tropical fruit)</td></tr><tr><td>4943</td><td>List(other vegetables, whole milk, mustard, prosecco)</td><td>List(citrus fruit, chicken, pip fruit, rolls/buns, frankfurter, tropical fruit, root vegetables, pork, hamburger meat, yogurt, sausage, beef, bottled water, whipped/sour cream, butter, curd, pastry)</td></tr><tr><td>4946</td><td>List(margarine, candy)</td><td>List()</td></tr><tr><td>4947</td><td>List(whole milk, rolls/buns, salt)</td><td>List(other vegetables, soda, yogurt, sausage, citrus fruit, chicken, pip fruit, bottled water, whipped/sour cream, frankfurter, butter, tropical fruit, curd, root vegetables, pork, pastry, beef)</td></tr><tr><td>4948</td><td>List(frankfurter, sausage, other vegetables, white bread)</td><td>List(citrus fruit, chicken, whole milk, pip fruit, rolls/buns, tropical fruit, root vegetables, pork, hamburger meat, yogurt, beef)</td></tr><tr><td>4951</td><td>List(brown bread, soda, canned beer, napkins)</td><td>List(rolls/buns)</td></tr><tr><td>4973</td><td>List(citrus fruit, pip fruit, root vegetables, UHT-milk)</td><td>List(sausage, other vegetables, tropical fruit, yogurt, whole milk, pork, beef)</td></tr><tr><td>5002</td><td>List(pork, beef, pip fruit, root vegetables)</td><td>List(other vegetables, whole milk, citrus fruit, sausage, tropical fruit)</td></tr><tr><td>5005</td><td>List(tropical fruit, rolls/buns, misc. beverages)</td><td>List(other vegetables, whole milk, soda, yogurt, sausage, citrus fruit, pip fruit, root vegetables)</td></tr><tr><td>5007</td><td>List(bottled beer)</td><td>List()</td></tr><tr><td>5013</td><td>List(misc. beverages)</td><td>List()</td></tr><tr><td>5018</td><td>List(frankfurter, chicken, hamburger meat, other vegetables)</td><td>List(citrus fruit, whole milk, pip fruit, rolls/buns, tropical fruit, root vegetables, pork, yogurt, sausage, beef)</td></tr><tr><td>5031</td><td>List(beverages, photo/film)</td><td>List()</td></tr><tr><td>5034</td><td>List(salty snack)</td><td>List()</td></tr><tr><td>5035</td><td>List(pip fruit, canned beer, shopping bags)</td><td>List(citrus fruit, root vegetables, sausage, other vegetables, tropical fruit, whole milk)</td></tr></tbody></table>Showing the first 1000 rows.</div>"
      ]
     },
     "metadata": {
      "application/vnd.databricks.v1+output": {
       "addedWidgets": {},
       "aggData": [],
       "aggError": "",
       "aggOverflow": false,
       "aggSchema": [],
       "aggSeriesLimitReached": false,
       "aggType": "",
       "arguments": {},
       "columnCustomDisplayInfos": {},
       "data": [
        [
         13,
         [
          "frankfurter",
          "rolls/buns",
          "soda"
         ],
         [
          "other vegetables",
          "whole milk",
          "yogurt",
          "sausage"
         ]
        ],
        [
         19,
         [
          "specialty bar"
         ],
         []
        ],
        [
         25,
         [
          "bottled water",
          "canned beer"
         ],
         [
          "whole milk"
         ]
        ],
        [
         37,
         [
          "canned beer"
         ],
         []
        ],
        [
         44,
         [
          "butter milk",
          "yogurt",
          "cream cheese",
          "spread cheese"
         ],
         [
          "citrus fruit",
          "rolls/buns",
          "other vegetables",
          "tropical fruit",
          "whole milk"
         ]
        ],
        [
         46,
         [
          "pastry",
          "bottled water"
         ],
         [
          "whole milk"
         ]
        ],
        [
         56,
         [
          "packaged fruit/vegetables",
          "brown bread",
          "canned beer"
         ],
         []
        ],
        [
         59,
         [
          "rolls/buns",
          "pastry",
          "sugar"
         ],
         [
          "whole milk",
          "other vegetables",
          "soda",
          "yogurt",
          "sausage"
         ]
        ],
        [
         60,
         [
          "other vegetables",
          "whole milk",
          "frozen vegetables",
          "canned fish"
         ],
         [
          "citrus fruit",
          "chicken",
          "pip fruit",
          "rolls/buns",
          "frankfurter",
          "tropical fruit",
          "root vegetables",
          "pork",
          "hamburger meat",
          "yogurt",
          "sausage",
          "beef",
          "bottled water",
          "whipped/sour cream",
          "butter",
          "curd",
          "pastry"
         ]
        ],
        [
         65,
         [
          "whole milk"
         ],
         [
          "citrus fruit",
          "chicken",
          "other vegetables",
          "pip fruit",
          "rolls/buns",
          "bottled water",
          "whipped/sour cream",
          "frankfurter",
          "butter",
          "tropical fruit",
          "curd",
          "root vegetables",
          "pork",
          "pastry",
          "yogurt",
          "sausage",
          "beef"
         ]
        ],
        [
         66,
         [
          "curd cheese",
          "coffee"
         ],
         []
        ],
        [
         70,
         [
          "red/blush wine"
         ],
         []
        ],
        [
         96,
         [
          "sausage",
          "sliced cheese",
          "rolls/buns",
          "brown bread"
         ],
         [
          "other vegetables",
          "whole milk",
          "soda",
          "yogurt",
          "citrus fruit",
          "pip fruit",
          "root vegetables",
          "tropical fruit"
         ]
        ],
        [
         103,
         [
          "sausage",
          "whole milk",
          "yogurt",
          "coffee"
         ],
         [
          "citrus fruit",
          "rolls/buns",
          "other vegetables",
          "tropical fruit",
          "pip fruit",
          "root vegetables",
          "chicken",
          "bottled water",
          "whipped/sour cream",
          "frankfurter",
          "butter",
          "curd",
          "pork",
          "pastry",
          "beef"
         ]
        ],
        [
         106,
         [
          "beef",
          "citrus fruit",
          "berries",
          "root vegetables"
         ],
         [
          "sausage",
          "other vegetables",
          "tropical fruit",
          "yogurt",
          "whole milk",
          "pip fruit",
          "pork"
         ]
        ],
        [
         110,
         [
          "frankfurter",
          "sausage",
          "root vegetables",
          "other vegetables"
         ],
         [
          "citrus fruit",
          "chicken",
          "whole milk",
          "pip fruit",
          "rolls/buns",
          "tropical fruit",
          "pork",
          "hamburger meat",
          "yogurt",
          "beef"
         ]
        ],
        [
         112,
         [
          "whole milk",
          "dessert",
          "frozen vegetables",
          "rolls/buns"
         ],
         [
          "other vegetables",
          "soda",
          "yogurt",
          "sausage",
          "citrus fruit",
          "chicken",
          "pip fruit",
          "bottled water",
          "whipped/sour cream",
          "frankfurter",
          "butter",
          "tropical fruit",
          "curd",
          "root vegetables",
          "pork",
          "pastry",
          "beef"
         ]
        ],
        [
         120,
         [
          "frankfurter",
          "sausage",
          "long life bakery product",
          "waffles"
         ],
         [
          "citrus fruit",
          "pip fruit",
          "rolls/buns",
          "root vegetables",
          "other vegetables",
          "tropical fruit",
          "whole milk"
         ]
        ],
        [
         123,
         [
          "other vegetables",
          "red/blush wine"
         ],
         [
          "citrus fruit",
          "chicken",
          "whole milk",
          "pip fruit",
          "rolls/buns",
          "frankfurter",
          "tropical fruit",
          "root vegetables",
          "pork",
          "hamburger meat",
          "yogurt",
          "sausage",
          "beef"
         ]
        ],
        [
         134,
         [
          "curd",
          "flour",
          "liquor (appetizer)"
         ],
         [
          "whole milk"
         ]
        ],
        [
         144,
         [
          "citrus fruit",
          "butter",
          "cream cheese",
          "white bread"
         ],
         [
          "root vegetables",
          "sausage",
          "other vegetables",
          "tropical fruit",
          "yogurt",
          "whole milk",
          "pip fruit"
         ]
        ],
        [
         145,
         [
          "frankfurter",
          "rolls/buns"
         ],
         [
          "other vegetables",
          "whole milk",
          "soda",
          "yogurt",
          "sausage"
         ]
        ],
        [
         150,
         [
          "other vegetables",
          "whole milk",
          "meat spreads",
          "cake bar"
         ],
         [
          "citrus fruit",
          "chicken",
          "pip fruit",
          "rolls/buns",
          "frankfurter",
          "tropical fruit",
          "root vegetables",
          "pork",
          "hamburger meat",
          "yogurt",
          "sausage",
          "beef",
          "bottled water",
          "whipped/sour cream",
          "butter",
          "curd",
          "pastry"
         ]
        ],
        [
         156,
         [
          "popcorn"
         ],
         []
        ],
        [
         160,
         [
          "whole milk",
          "butter",
          "dessert",
          "rolls/buns"
         ],
         [
          "other vegetables",
          "soda",
          "yogurt",
          "sausage",
          "citrus fruit",
          "chicken",
          "pip fruit",
          "bottled water",
          "whipped/sour cream",
          "frankfurter",
          "tropical fruit",
          "curd",
          "root vegetables",
          "pork",
          "pastry",
          "beef"
         ]
        ],
        [
         174,
         [
          "curd",
          "dessert",
          "soda",
          "salty snack"
         ],
         [
          "whole milk",
          "rolls/buns"
         ]
        ],
        [
         180,
         [
          "ham",
          "whole milk",
          "rolls/buns"
         ],
         [
          "other vegetables",
          "soda",
          "yogurt",
          "sausage",
          "citrus fruit",
          "chicken",
          "pip fruit",
          "bottled water",
          "whipped/sour cream",
          "frankfurter",
          "butter",
          "tropical fruit",
          "curd",
          "root vegetables",
          "pork",
          "pastry",
          "beef"
         ]
        ],
        [
         181,
         [
          "other vegetables",
          "ice cream"
         ],
         [
          "citrus fruit",
          "chicken",
          "whole milk",
          "pip fruit",
          "rolls/buns",
          "frankfurter",
          "tropical fruit",
          "root vegetables",
          "pork",
          "hamburger meat",
          "yogurt",
          "sausage",
          "beef"
         ]
        ],
        [
         184,
         [
          "herbs",
          "candy"
         ],
         []
        ],
        [
         191,
         [
          "specialty bar"
         ],
         []
        ],
        [
         192,
         [
          "curd",
          "salt",
          "liquor (appetizer)",
          "detergent"
         ],
         [
          "whole milk"
         ]
        ],
        [
         193,
         [
          "frankfurter",
          "rolls/buns"
         ],
         [
          "other vegetables",
          "whole milk",
          "soda",
          "yogurt",
          "sausage"
         ]
        ],
        [
         196,
         [
          "canned beer"
         ],
         []
        ],
        [
         215,
         [
          "beverages"
         ],
         []
        ],
        [
         217,
         [
          "bottled water",
          "fruit/vegetable juice"
         ],
         [
          "whole milk"
         ]
        ],
        [
         219,
         [
          "cleaner",
          "female sanitary products"
         ],
         []
        ],
        [
         230,
         [
          "tropical fruit",
          "berries",
          "root vegetables",
          "other vegetables"
         ],
         [
          "citrus fruit",
          "chicken",
          "whole milk",
          "pip fruit",
          "rolls/buns",
          "frankfurter",
          "pork",
          "hamburger meat",
          "yogurt",
          "sausage",
          "beef"
         ]
        ],
        [
         239,
         [
          "citrus fruit",
          "whole milk",
          "curd",
          "dessert"
         ],
         [
          "root vegetables",
          "sausage",
          "other vegetables",
          "tropical fruit",
          "yogurt",
          "pip fruit",
          "chicken",
          "rolls/buns",
          "bottled water",
          "whipped/sour cream",
          "frankfurter",
          "butter",
          "pork",
          "pastry",
          "beef"
         ]
        ],
        [
         249,
         [
          "whole milk",
          "beverages"
         ],
         [
          "citrus fruit",
          "chicken",
          "other vegetables",
          "pip fruit",
          "rolls/buns",
          "bottled water",
          "whipped/sour cream",
          "frankfurter",
          "butter",
          "tropical fruit",
          "curd",
          "root vegetables",
          "pork",
          "pastry",
          "yogurt",
          "sausage",
          "beef"
         ]
        ],
        [
         250,
         [
          "rolls/buns",
          "soda"
         ],
         [
          "other vegetables",
          "whole milk",
          "yogurt",
          "sausage"
         ]
        ],
        [
         255,
         [
          "root vegetables",
          "other vegetables",
          "yogurt"
         ],
         [
          "citrus fruit",
          "chicken",
          "whole milk",
          "pip fruit",
          "rolls/buns",
          "frankfurter",
          "tropical fruit",
          "pork",
          "hamburger meat",
          "sausage",
          "beef"
         ]
        ],
        [
         258,
         [
          "sausage",
          "citrus fruit",
          "tropical fruit",
          "other vegetables"
         ],
         [
          "chicken",
          "whole milk",
          "pip fruit",
          "rolls/buns",
          "frankfurter",
          "root vegetables",
          "pork",
          "hamburger meat",
          "yogurt",
          "beef"
         ]
        ],
        [
         259,
         [
          "root vegetables",
          "whole milk",
          "pet care",
          "detergent"
         ],
         [
          "citrus fruit",
          "chicken",
          "other vegetables",
          "pip fruit",
          "rolls/buns",
          "bottled water",
          "whipped/sour cream",
          "frankfurter",
          "butter",
          "tropical fruit",
          "curd",
          "pork",
          "pastry",
          "yogurt",
          "sausage",
          "beef"
         ]
        ],
        [
         268,
         [
          "canned beer"
         ],
         []
        ],
        [
         275,
         [
          "hamburger meat",
          "other vegetables",
          "whole milk",
          "curd"
         ],
         [
          "citrus fruit",
          "chicken",
          "pip fruit",
          "rolls/buns",
          "frankfurter",
          "tropical fruit",
          "root vegetables",
          "pork",
          "yogurt",
          "sausage",
          "beef",
          "bottled water",
          "whipped/sour cream",
          "butter",
          "pastry"
         ]
        ],
        [
         297,
         [
          "candy"
         ],
         []
        ],
        [
         298,
         [
          "newspapers"
         ],
         []
        ],
        [
         310,
         [
          "chicken",
          "whole milk",
          "spices",
          "long life bakery product"
         ],
         [
          "other vegetables",
          "citrus fruit",
          "pip fruit",
          "rolls/buns",
          "bottled water",
          "whipped/sour cream",
          "frankfurter",
          "butter",
          "tropical fruit",
          "curd",
          "root vegetables",
          "pork",
          "pastry",
          "yogurt",
          "sausage",
          "beef"
         ]
        ],
        [
         324,
         [
          "frankfurter",
          "other vegetables",
          "yogurt",
          "brown bread"
         ],
         [
          "citrus fruit",
          "chicken",
          "whole milk",
          "pip fruit",
          "rolls/buns",
          "tropical fruit",
          "root vegetables",
          "pork",
          "hamburger meat",
          "sausage",
          "beef"
         ]
        ],
        [
         326,
         [
          "margarine",
          "hygiene articles"
         ],
         []
        ],
        [
         327,
         [
          "tropical fruit",
          "yogurt",
          "rolls/buns",
          "soda"
         ],
         [
          "citrus fruit",
          "other vegetables",
          "whole milk",
          "sausage",
          "pip fruit",
          "root vegetables"
         ]
        ],
        [
         331,
         [
          "soda",
          "specialty chocolate"
         ],
         [
          "rolls/buns"
         ]
        ],
        [
         334,
         [
          "bottled water"
         ],
         [
          "whole milk"
         ]
        ],
        [
         346,
         [
          "citrus fruit"
         ],
         [
          "root vegetables",
          "sausage",
          "other vegetables",
          "tropical fruit",
          "yogurt",
          "whole milk",
          "pip fruit"
         ]
        ],
        [
         348,
         [
          "root vegetables",
          "whole milk",
          "butter",
          "processed cheese"
         ],
         [
          "citrus fruit",
          "chicken",
          "other vegetables",
          "pip fruit",
          "rolls/buns",
          "bottled water",
          "whipped/sour cream",
          "frankfurter",
          "tropical fruit",
          "curd",
          "pork",
          "pastry",
          "yogurt",
          "sausage",
          "beef"
         ]
        ],
        [
         350,
         [
          "beef",
          "hamburger meat",
          "pip fruit"
         ],
         [
          "root vegetables",
          "other vegetables",
          "whole milk",
          "citrus fruit",
          "sausage",
          "tropical fruit"
         ]
        ],
        [
         353,
         [
          "whipped/sour cream",
          "canned beer",
          "red/blush wine"
         ],
         [
          "whole milk"
         ]
        ],
        [
         354,
         [
          "root vegetables",
          "domestic eggs",
          "margarine",
          "chocolate marshmallow"
         ],
         [
          "citrus fruit",
          "pip fruit",
          "other vegetables",
          "tropical fruit",
          "whole milk",
          "pork",
          "sausage",
          "beef"
         ]
        ],
        [
         359,
         [
          "whole milk",
          "hygiene articles"
         ],
         [
          "citrus fruit",
          "chicken",
          "other vegetables",
          "pip fruit",
          "rolls/buns",
          "bottled water",
          "whipped/sour cream",
          "frankfurter",
          "butter",
          "tropical fruit",
          "curd",
          "root vegetables",
          "pork",
          "pastry",
          "yogurt",
          "sausage",
          "beef"
         ]
        ],
        [
         373,
         [
          "other vegetables",
          "butter milk",
          "frozen meals",
          "bottled water"
         ],
         [
          "citrus fruit",
          "chicken",
          "whole milk",
          "pip fruit",
          "rolls/buns",
          "frankfurter",
          "tropical fruit",
          "root vegetables",
          "pork",
          "hamburger meat",
          "yogurt",
          "sausage",
          "beef"
         ]
        ],
        [
         379,
         [
          "butter milk",
          "yogurt"
         ],
         [
          "citrus fruit",
          "rolls/buns",
          "other vegetables",
          "tropical fruit",
          "whole milk"
         ]
        ],
        [
         382,
         [
          "bottled beer",
          "liquor"
         ],
         []
        ],
        [
         383,
         [
          "onions",
          "butter",
          "whipped/sour cream",
          "hard cheese"
         ],
         [
          "whole milk"
         ]
        ],
        [
         395,
         [
          "sausage",
          "whole milk",
          "coffee"
         ],
         [
          "citrus fruit",
          "pip fruit",
          "rolls/buns",
          "root vegetables",
          "other vegetables",
          "tropical fruit",
          "chicken",
          "bottled water",
          "whipped/sour cream",
          "frankfurter",
          "butter",
          "curd",
          "pork",
          "pastry",
          "yogurt",
          "beef"
         ]
        ],
        [
         396,
         [
          "yogurt",
          "chocolate"
         ],
         [
          "citrus fruit",
          "rolls/buns",
          "other vegetables",
          "tropical fruit",
          "whole milk"
         ]
        ],
        [
         401,
         [
          "other vegetables",
          "red/blush wine"
         ],
         [
          "citrus fruit",
          "chicken",
          "whole milk",
          "pip fruit",
          "rolls/buns",
          "frankfurter",
          "tropical fruit",
          "root vegetables",
          "pork",
          "hamburger meat",
          "yogurt",
          "sausage",
          "beef"
         ]
        ],
        [
         403,
         [
          "other vegetables",
          "whole milk",
          "rolls/buns",
          "Instant food products"
         ],
         [
          "citrus fruit",
          "chicken",
          "pip fruit",
          "frankfurter",
          "tropical fruit",
          "root vegetables",
          "pork",
          "hamburger meat",
          "yogurt",
          "sausage",
          "beef",
          "soda",
          "bottled water",
          "whipped/sour cream",
          "butter",
          "curd",
          "pastry"
         ]
        ],
        [
         412,
         [
          "citrus fruit",
          "tropical fruit",
          "onions",
          "other vegetables"
         ],
         [
          "chicken",
          "whole milk",
          "pip fruit",
          "rolls/buns",
          "frankfurter",
          "root vegetables",
          "pork",
          "hamburger meat",
          "yogurt",
          "sausage",
          "beef"
         ]
        ],
        [
         419,
         [
          "other vegetables",
          "pet care"
         ],
         [
          "citrus fruit",
          "chicken",
          "whole milk",
          "pip fruit",
          "rolls/buns",
          "frankfurter",
          "tropical fruit",
          "root vegetables",
          "pork",
          "hamburger meat",
          "yogurt",
          "sausage",
          "beef"
         ]
        ],
        [
         421,
         [
          "soda",
          "chewing gum"
         ],
         [
          "rolls/buns"
         ]
        ],
        [
         423,
         [
          "rolls/buns"
         ],
         [
          "other vegetables",
          "whole milk",
          "soda",
          "yogurt",
          "sausage"
         ]
        ],
        [
         425,
         [
          "root vegetables",
          "pastry",
          "bottled water",
          "male cosmetics"
         ],
         [
          "whole milk",
          "citrus fruit",
          "pip fruit",
          "other vegetables",
          "tropical fruit",
          "pork",
          "sausage",
          "beef"
         ]
        ],
        [
         426,
         [
          "pastry"
         ],
         [
          "whole milk"
         ]
        ],
        [
         430,
         [
          "soda",
          "misc. beverages"
         ],
         [
          "rolls/buns"
         ]
        ],
        [
         431,
         [
          "bottled water",
          "soda"
         ],
         [
          "whole milk",
          "rolls/buns"
         ]
        ],
        [
         437,
         [
          "bottled water",
          "canned beer",
          "male cosmetics"
         ],
         [
          "whole milk"
         ]
        ],
        [
         442,
         [
          "beef",
          "tropical fruit",
          "root vegetables",
          "onions"
         ],
         [
          "citrus fruit",
          "pip fruit",
          "other vegetables",
          "whole milk",
          "yogurt",
          "sausage",
          "pork"
         ]
        ],
        [
         445,
         [
          "rolls/buns",
          "brown bread",
          "bottled water"
         ],
         [
          "other vegetables",
          "whole milk",
          "soda",
          "yogurt",
          "sausage"
         ]
        ],
        [
         448,
         [
          "sausage",
          "ham",
          "other vegetables",
          "ice cream"
         ],
         [
          "citrus fruit",
          "chicken",
          "whole milk",
          "pip fruit",
          "rolls/buns",
          "frankfurter",
          "tropical fruit",
          "root vegetables",
          "pork",
          "hamburger meat",
          "yogurt",
          "beef"
         ]
        ],
        [
         455,
         [
          "tropical fruit",
          "other vegetables",
          "packaged fruit/vegetables",
          "whole milk"
         ],
         [
          "citrus fruit",
          "chicken",
          "pip fruit",
          "rolls/buns",
          "frankfurter",
          "root vegetables",
          "pork",
          "hamburger meat",
          "yogurt",
          "sausage",
          "beef",
          "bottled water",
          "whipped/sour cream",
          "butter",
          "curd",
          "pastry"
         ]
        ],
        [
         458,
         [
          "Instant food products"
         ],
         []
        ],
        [
         464,
         [
          "frankfurter",
          "rolls/buns",
          "pastry",
          "snack products"
         ],
         [
          "whole milk",
          "other vegetables",
          "soda",
          "yogurt",
          "sausage"
         ]
        ],
        [
         467,
         [
          "frankfurter",
          "root vegetables",
          "pickled vegetables",
          "soda"
         ],
         [
          "other vegetables",
          "whole milk",
          "rolls/buns",
          "citrus fruit",
          "pip fruit",
          "tropical fruit",
          "pork",
          "sausage",
          "beef"
         ]
        ],
        [
         468,
         [
          "whole milk",
          "rolls/buns",
          "newspapers"
         ],
         [
          "other vegetables",
          "soda",
          "yogurt",
          "sausage",
          "citrus fruit",
          "chicken",
          "pip fruit",
          "bottled water",
          "whipped/sour cream",
          "frankfurter",
          "butter",
          "tropical fruit",
          "curd",
          "root vegetables",
          "pork",
          "pastry",
          "beef"
         ]
        ],
        [
         471,
         [
          "bottled water",
          "shopping bags"
         ],
         [
          "whole milk"
         ]
        ],
        [
         475,
         [
          "hamburger meat",
          "whole milk",
          "curd",
          "pasta"
         ],
         [
          "citrus fruit",
          "chicken",
          "other vegetables",
          "pip fruit",
          "rolls/buns",
          "bottled water",
          "whipped/sour cream",
          "frankfurter",
          "butter",
          "tropical fruit",
          "root vegetables",
          "pork",
          "pastry",
          "yogurt",
          "sausage",
          "beef"
         ]
        ],
        [
         480,
         [
          "pastry",
          "bottled water"
         ],
         [
          "whole milk"
         ]
        ],
        [
         481,
         [
          "ham",
          "pip fruit",
          "whole milk",
          "curd"
         ],
         [
          "citrus fruit",
          "chicken",
          "other vegetables",
          "rolls/buns",
          "bottled water",
          "whipped/sour cream",
          "frankfurter",
          "butter",
          "tropical fruit",
          "root vegetables",
          "pork",
          "pastry",
          "yogurt",
          "sausage",
          "beef"
         ]
        ],
        [
         482,
         [
          "frankfurter",
          "soda"
         ],
         [
          "other vegetables",
          "whole milk",
          "rolls/buns"
         ]
        ],
        [
         483,
         [
          "sausage",
          "turkey",
          "beef",
          "root vegetables"
         ],
         [
          "citrus fruit",
          "pip fruit",
          "rolls/buns",
          "other vegetables",
          "tropical fruit",
          "whole milk",
          "pork"
         ]
        ],
        [
         494,
         [
          "rolls/buns",
          "pastry",
          "red/blush wine"
         ],
         [
          "whole milk",
          "other vegetables",
          "soda",
          "yogurt",
          "sausage"
         ]
        ],
        [
         496,
         [
          "pet care",
          "bottled beer"
         ],
         []
        ],
        [
         503,
         [
          "sugar",
          "soda",
          "bottled beer"
         ],
         [
          "rolls/buns"
         ]
        ],
        [
         506,
         [
          "soda",
          "misc. beverages"
         ],
         [
          "rolls/buns"
         ]
        ],
        [
         518,
         [
          "other vegetables",
          "yogurt"
         ],
         [
          "citrus fruit",
          "chicken",
          "whole milk",
          "pip fruit",
          "rolls/buns",
          "frankfurter",
          "tropical fruit",
          "root vegetables",
          "pork",
          "hamburger meat",
          "sausage",
          "beef"
         ]
        ],
        [
         524,
         [
          "packaged fruit/vegetables",
          "seasonal products"
         ],
         []
        ],
        [
         528,
         [
          "herbs",
          "yogurt"
         ],
         [
          "citrus fruit",
          "rolls/buns",
          "other vegetables",
          "tropical fruit",
          "whole milk"
         ]
        ],
        [
         532,
         [
          "soda"
         ],
         [
          "rolls/buns"
         ]
        ],
        [
         534,
         [
          "soda",
          "female sanitary products"
         ],
         [
          "rolls/buns"
         ]
        ],
        [
         536,
         [
          "coffee",
          "chewing gum",
          "chocolate marshmallow"
         ],
         []
        ],
        [
         562,
         [
          "whole milk"
         ],
         [
          "citrus fruit",
          "chicken",
          "other vegetables",
          "pip fruit",
          "rolls/buns",
          "bottled water",
          "whipped/sour cream",
          "frankfurter",
          "butter",
          "tropical fruit",
          "curd",
          "root vegetables",
          "pork",
          "pastry",
          "yogurt",
          "sausage",
          "beef"
         ]
        ],
        [
         565,
         [
          "soda"
         ],
         [
          "rolls/buns"
         ]
        ],
        [
         569,
         [
          "frozen vegetables",
          "bottled beer",
          "liquor (appetizer)",
          "chewing gum"
         ],
         []
        ],
        [
         571,
         [
          "hamburger meat",
          "root vegetables",
          "other vegetables",
          "domestic eggs"
         ],
         [
          "citrus fruit",
          "chicken",
          "whole milk",
          "pip fruit",
          "rolls/buns",
          "frankfurter",
          "tropical fruit",
          "pork",
          "yogurt",
          "sausage",
          "beef"
         ]
        ],
        [
         572,
         [
          "root vegetables",
          "other vegetables",
          "whole milk",
          "yogurt"
         ],
         [
          "citrus fruit",
          "chicken",
          "pip fruit",
          "rolls/buns",
          "frankfurter",
          "tropical fruit",
          "pork",
          "hamburger meat",
          "sausage",
          "beef",
          "bottled water",
          "whipped/sour cream",
          "butter",
          "curd",
          "pastry"
         ]
        ],
        [
         577,
         [
          "rolls/buns"
         ],
         [
          "other vegetables",
          "whole milk",
          "soda",
          "yogurt",
          "sausage"
         ]
        ],
        [
         581,
         [
          "grapes",
          "root vegetables",
          "frozen vegetables",
          "domestic eggs"
         ],
         [
          "citrus fruit",
          "pip fruit",
          "other vegetables",
          "tropical fruit",
          "whole milk",
          "pork",
          "sausage",
          "beef"
         ]
        ],
        [
         586,
         [
          "whole milk",
          "red/blush wine"
         ],
         [
          "citrus fruit",
          "chicken",
          "other vegetables",
          "pip fruit",
          "rolls/buns",
          "bottled water",
          "whipped/sour cream",
          "frankfurter",
          "butter",
          "tropical fruit",
          "curd",
          "root vegetables",
          "pork",
          "pastry",
          "yogurt",
          "sausage",
          "beef"
         ]
        ],
        [
         590,
         [
          "specialty bar"
         ],
         []
        ],
        [
         592,
         [
          "root vegetables",
          "brown bread"
         ],
         [
          "citrus fruit",
          "pip fruit",
          "other vegetables",
          "tropical fruit",
          "whole milk",
          "pork",
          "sausage",
          "beef"
         ]
        ],
        [
         593,
         [
          "rolls/buns",
          "soda"
         ],
         [
          "other vegetables",
          "whole milk",
          "yogurt",
          "sausage"
         ]
        ],
        [
         595,
         [
          "citrus fruit",
          "tropical fruit",
          "berries",
          "root vegetables"
         ],
         [
          "pip fruit",
          "other vegetables",
          "whole milk",
          "yogurt",
          "sausage",
          "pork",
          "beef"
         ]
        ],
        [
         599,
         [
          "ham",
          "rolls/buns",
          "white wine"
         ],
         [
          "other vegetables",
          "whole milk",
          "soda",
          "yogurt",
          "sausage"
         ]
        ],
        [
         600,
         [
          "canned beer"
         ],
         []
        ],
        [
         603,
         [
          "pip fruit",
          "whole milk",
          "canned fish"
         ],
         [
          "citrus fruit",
          "chicken",
          "other vegetables",
          "rolls/buns",
          "bottled water",
          "whipped/sour cream",
          "frankfurter",
          "butter",
          "tropical fruit",
          "curd",
          "root vegetables",
          "pork",
          "pastry",
          "yogurt",
          "sausage",
          "beef"
         ]
        ],
        [
         606,
         [
          "pip fruit",
          "butter",
          "frozen meals",
          "pasta"
         ],
         [
          "citrus fruit",
          "root vegetables",
          "sausage",
          "other vegetables",
          "tropical fruit",
          "whole milk"
         ]
        ],
        [
         624,
         [
          "citrus fruit",
          "tropical fruit",
          "herbs",
          "whole milk"
         ],
         [
          "pip fruit",
          "other vegetables",
          "root vegetables",
          "yogurt",
          "sausage",
          "chicken",
          "rolls/buns",
          "bottled water",
          "whipped/sour cream",
          "frankfurter",
          "butter",
          "curd",
          "pork",
          "pastry",
          "beef"
         ]
        ],
        [
         636,
         [
          "frankfurter",
          "root vegetables",
          "newspapers"
         ],
         [
          "other vegetables",
          "whole milk",
          "citrus fruit",
          "pip fruit",
          "tropical fruit",
          "pork",
          "sausage",
          "beef"
         ]
        ],
        [
         638,
         [
          "shopping bags"
         ],
         []
        ],
        [
         643,
         [
          "hamburger meat",
          "citrus fruit",
          "root vegetables",
          "rolls/buns"
         ],
         [
          "other vegetables",
          "whole milk",
          "soda",
          "yogurt",
          "sausage",
          "tropical fruit",
          "pip fruit",
          "pork",
          "beef"
         ]
        ],
        [
         653,
         [
          "tropical fruit",
          "other vegetables"
         ],
         [
          "citrus fruit",
          "chicken",
          "whole milk",
          "pip fruit",
          "rolls/buns",
          "frankfurter",
          "root vegetables",
          "pork",
          "hamburger meat",
          "yogurt",
          "sausage",
          "beef"
         ]
        ],
        [
         661,
         [
          "ham",
          "other vegetables",
          "butter",
          "whipped/sour cream"
         ],
         [
          "citrus fruit",
          "chicken",
          "whole milk",
          "pip fruit",
          "rolls/buns",
          "frankfurter",
          "tropical fruit",
          "root vegetables",
          "pork",
          "hamburger meat",
          "yogurt",
          "sausage",
          "beef"
         ]
        ],
        [
         663,
         [
          "sausage",
          "onions",
          "curd",
          "yogurt"
         ],
         [
          "citrus fruit",
          "rolls/buns",
          "other vegetables",
          "tropical fruit",
          "whole milk",
          "pip fruit",
          "root vegetables"
         ]
        ],
        [
         676,
         [
          "yogurt",
          "pastry",
          "coffee"
         ],
         [
          "whole milk",
          "citrus fruit",
          "rolls/buns",
          "other vegetables",
          "tropical fruit"
         ]
        ],
        [
         693,
         [
          "beef",
          "berries",
          "onions",
          "rolls/buns"
         ],
         [
          "other vegetables",
          "whole milk",
          "soda",
          "yogurt",
          "sausage",
          "root vegetables"
         ]
        ],
        [
         709,
         [
          "sausage",
          "other vegetables",
          "whole milk",
          "curd"
         ],
         [
          "citrus fruit",
          "chicken",
          "pip fruit",
          "rolls/buns",
          "frankfurter",
          "tropical fruit",
          "root vegetables",
          "pork",
          "hamburger meat",
          "yogurt",
          "beef",
          "bottled water",
          "whipped/sour cream",
          "butter",
          "pastry"
         ]
        ],
        [
         715,
         [
          "whipped/sour cream",
          "specialty bar"
         ],
         [
          "whole milk"
         ]
        ],
        [
         725,
         [
          "domestic eggs",
          "rolls/buns",
          "pastry",
          "coffee"
         ],
         [
          "whole milk",
          "other vegetables",
          "soda",
          "yogurt",
          "sausage"
         ]
        ],
        [
         742,
         [
          "sausage",
          "tropical fruit",
          "semi-finished bread"
         ],
         [
          "citrus fruit",
          "pip fruit",
          "other vegetables",
          "whole milk",
          "root vegetables",
          "yogurt",
          "rolls/buns"
         ]
        ],
        [
         743,
         [
          "beef",
          "tropical fruit",
          "root vegetables",
          "yogurt"
         ],
         [
          "citrus fruit",
          "rolls/buns",
          "other vegetables",
          "whole milk",
          "pip fruit",
          "sausage",
          "pork"
         ]
        ],
        [
         747,
         [
          "bottled beer"
         ],
         []
        ],
        [
         750,
         [
          "curd",
          "bottled beer",
          "pot plants"
         ],
         [
          "whole milk"
         ]
        ],
        [
         751,
         [
          "ice cream",
          "sugar",
          "flower (seeds)"
         ],
         []
        ],
        [
         752,
         [
          "sausage",
          "rolls/buns",
          "soda",
          "canned beer"
         ],
         [
          "other vegetables",
          "whole milk",
          "yogurt",
          "citrus fruit",
          "pip fruit",
          "root vegetables",
          "tropical fruit"
         ]
        ],
        [
         758,
         [
          "berries",
          "other vegetables",
          "whole milk",
          "whipped/sour cream"
         ],
         [
          "citrus fruit",
          "chicken",
          "pip fruit",
          "rolls/buns",
          "frankfurter",
          "tropical fruit",
          "root vegetables",
          "pork",
          "hamburger meat",
          "yogurt",
          "sausage",
          "beef",
          "bottled water",
          "butter",
          "curd",
          "pastry"
         ]
        ],
        [
         763,
         [
          "frozen dessert",
          "brandy"
         ],
         []
        ],
        [
         771,
         [
          "frankfurter",
          "citrus fruit",
          "whipped/sour cream",
          "cream cheese"
         ],
         [
          "whole milk",
          "root vegetables",
          "sausage",
          "other vegetables",
          "tropical fruit",
          "yogurt",
          "pip fruit"
         ]
        ],
        [
         774,
         [
          "tropical fruit",
          "whole milk",
          "rolls/buns"
         ],
         [
          "other vegetables",
          "soda",
          "yogurt",
          "sausage",
          "citrus fruit",
          "pip fruit",
          "root vegetables",
          "chicken",
          "bottled water",
          "whipped/sour cream",
          "frankfurter",
          "butter",
          "curd",
          "pork",
          "pastry",
          "beef"
         ]
        ],
        [
         782,
         [
          "packaged fruit/vegetables",
          "whole milk",
          "dessert",
          "yogurt"
         ],
         [
          "citrus fruit",
          "rolls/buns",
          "other vegetables",
          "tropical fruit",
          "chicken",
          "pip fruit",
          "bottled water",
          "whipped/sour cream",
          "frankfurter",
          "butter",
          "curd",
          "root vegetables",
          "pork",
          "pastry",
          "sausage",
          "beef"
         ]
        ],
        [
         793,
         [
          "frozen dessert",
          "semi-finished bread"
         ],
         []
        ],
        [
         797,
         [
          "root vegetables",
          "whole milk",
          "yogurt",
          "rolls/buns"
         ],
         [
          "citrus fruit",
          "other vegetables",
          "tropical fruit",
          "soda",
          "sausage",
          "chicken",
          "pip fruit",
          "bottled water",
          "whipped/sour cream",
          "frankfurter",
          "butter",
          "curd",
          "pork",
          "pastry",
          "beef"
         ]
        ],
        [
         798,
         [
          "bottled beer"
         ],
         []
        ],
        [
         801,
         [
          "berries",
          "other vegetables",
          "whipped/sour cream",
          "UHT-milk"
         ],
         [
          "citrus fruit",
          "chicken",
          "whole milk",
          "pip fruit",
          "rolls/buns",
          "frankfurter",
          "tropical fruit",
          "root vegetables",
          "pork",
          "hamburger meat",
          "yogurt",
          "sausage",
          "beef"
         ]
        ],
        [
         807,
         [
          "ice cream"
         ],
         []
        ],
        [
         809,
         [
          "whole milk",
          "pastry",
          "bottled water",
          "newspapers"
         ],
         [
          "citrus fruit",
          "chicken",
          "other vegetables",
          "pip fruit",
          "rolls/buns",
          "whipped/sour cream",
          "frankfurter",
          "butter",
          "tropical fruit",
          "curd",
          "root vegetables",
          "pork",
          "yogurt",
          "sausage",
          "beef"
         ]
        ],
        [
         814,
         [
          "root vegetables",
          "pot plants"
         ],
         [
          "citrus fruit",
          "pip fruit",
          "other vegetables",
          "tropical fruit",
          "whole milk",
          "pork",
          "sausage",
          "beef"
         ]
        ],
        [
         818,
         [
          "root vegetables",
          "dessert",
          "yogurt",
          "cream cheese"
         ],
         [
          "citrus fruit",
          "rolls/buns",
          "other vegetables",
          "tropical fruit",
          "whole milk",
          "pip fruit",
          "pork",
          "sausage",
          "beef"
         ]
        ],
        [
         820,
         [
          "beef",
          "root vegetables",
          "other vegetables",
          "whole milk"
         ],
         [
          "citrus fruit",
          "chicken",
          "pip fruit",
          "rolls/buns",
          "frankfurter",
          "tropical fruit",
          "pork",
          "hamburger meat",
          "yogurt",
          "sausage",
          "bottled water",
          "whipped/sour cream",
          "butter",
          "curd",
          "pastry"
         ]
        ],
        [
         821,
         [
          "chicken",
          "pork",
          "whole milk",
          "butter"
         ],
         [
          "other vegetables",
          "citrus fruit",
          "pip fruit",
          "rolls/buns",
          "bottled water",
          "whipped/sour cream",
          "frankfurter",
          "tropical fruit",
          "curd",
          "root vegetables",
          "pastry",
          "yogurt",
          "sausage",
          "beef"
         ]
        ],
        [
         832,
         [
          "citrus fruit",
          "onions",
          "whole milk",
          "curd"
         ],
         [
          "root vegetables",
          "sausage",
          "other vegetables",
          "tropical fruit",
          "yogurt",
          "pip fruit",
          "chicken",
          "rolls/buns",
          "bottled water",
          "whipped/sour cream",
          "frankfurter",
          "butter",
          "pork",
          "pastry",
          "beef"
         ]
        ],
        [
         834,
         [
          "newspapers"
         ],
         []
        ],
        [
         840,
         [
          "packaged fruit/vegetables",
          "whole milk",
          "rolls/buns",
          "pastry"
         ],
         [
          "other vegetables",
          "soda",
          "yogurt",
          "sausage",
          "citrus fruit",
          "chicken",
          "pip fruit",
          "bottled water",
          "whipped/sour cream",
          "frankfurter",
          "butter",
          "tropical fruit",
          "curd",
          "root vegetables",
          "pork",
          "beef"
         ]
        ],
        [
         848,
         [
          "fish",
          "berries",
          "other vegetables",
          "whole milk"
         ],
         [
          "citrus fruit",
          "chicken",
          "pip fruit",
          "rolls/buns",
          "frankfurter",
          "tropical fruit",
          "root vegetables",
          "pork",
          "hamburger meat",
          "yogurt",
          "sausage",
          "beef",
          "bottled water",
          "whipped/sour cream",
          "butter",
          "curd",
          "pastry"
         ]
        ],
        [
         849,
         [
          "other vegetables",
          "whole milk",
          "curd",
          "frozen vegetables"
         ],
         [
          "citrus fruit",
          "chicken",
          "pip fruit",
          "rolls/buns",
          "frankfurter",
          "tropical fruit",
          "root vegetables",
          "pork",
          "hamburger meat",
          "yogurt",
          "sausage",
          "beef",
          "bottled water",
          "whipped/sour cream",
          "butter",
          "pastry"
         ]
        ],
        [
         855,
         [
          "berries",
          "whole milk",
          "whipped/sour cream",
          "margarine"
         ],
         [
          "citrus fruit",
          "chicken",
          "other vegetables",
          "pip fruit",
          "rolls/buns",
          "bottled water",
          "frankfurter",
          "butter",
          "tropical fruit",
          "curd",
          "root vegetables",
          "pork",
          "pastry",
          "yogurt",
          "sausage",
          "beef"
         ]
        ],
        [
         860,
         [
          "chicken",
          "pork",
          "hamburger meat",
          "pip fruit"
         ],
         [
          "other vegetables",
          "whole milk",
          "citrus fruit",
          "root vegetables",
          "sausage",
          "tropical fruit"
         ]
        ],
        [
         863,
         [
          "sugar"
         ],
         []
        ],
        [
         865,
         [
          "berries",
          "frozen vegetables",
          "pet care",
          "instant coffee"
         ],
         []
        ],
        [
         880,
         [
          "bottled beer",
          "shopping bags"
         ],
         []
        ],
        [
         883,
         [
          "pork",
          "berries",
          "whipped/sour cream",
          "beverages"
         ],
         [
          "whole milk",
          "root vegetables",
          "other vegetables"
         ]
        ],
        [
         884,
         [
          "white bread"
         ],
         []
        ],
        [
         885,
         [
          "grapes",
          "whole milk",
          "processed cheese",
          "rolls/buns"
         ],
         [
          "other vegetables",
          "soda",
          "yogurt",
          "sausage",
          "citrus fruit",
          "chicken",
          "pip fruit",
          "bottled water",
          "whipped/sour cream",
          "frankfurter",
          "butter",
          "tropical fruit",
          "curd",
          "root vegetables",
          "pork",
          "pastry",
          "beef"
         ]
        ],
        [
         886,
         [
          "potato products",
          "flower (seeds)"
         ],
         []
        ],
        [
         887,
         [
          "root vegetables",
          "onions",
          "yogurt",
          "rolls/buns"
         ],
         [
          "citrus fruit",
          "other vegetables",
          "tropical fruit",
          "whole milk",
          "soda",
          "sausage",
          "pip fruit",
          "pork",
          "beef"
         ]
        ],
        [
         889,
         [
          "chicken",
          "other vegetables",
          "salt"
         ],
         [
          "citrus fruit",
          "whole milk",
          "pip fruit",
          "rolls/buns",
          "frankfurter",
          "tropical fruit",
          "root vegetables",
          "pork",
          "hamburger meat",
          "yogurt",
          "sausage",
          "beef"
         ]
        ],
        [
         890,
         [
          "fish",
          "cream cheese",
          "coffee"
         ],
         []
        ],
        [
         899,
         [
          "whole milk",
          "rolls/buns",
          "chocolate"
         ],
         [
          "other vegetables",
          "soda",
          "yogurt",
          "sausage",
          "citrus fruit",
          "chicken",
          "pip fruit",
          "bottled water",
          "whipped/sour cream",
          "frankfurter",
          "butter",
          "tropical fruit",
          "curd",
          "root vegetables",
          "pork",
          "pastry",
          "beef"
         ]
        ],
        [
         909,
         [
          "whole milk",
          "curd",
          "cream cheese",
          "flour"
         ],
         [
          "citrus fruit",
          "chicken",
          "other vegetables",
          "pip fruit",
          "rolls/buns",
          "bottled water",
          "whipped/sour cream",
          "frankfurter",
          "butter",
          "tropical fruit",
          "root vegetables",
          "pork",
          "pastry",
          "yogurt",
          "sausage",
          "beef"
         ]
        ],
        [
         912,
         [
          "curd",
          "roll products",
          "margarine",
          "bottled water"
         ],
         [
          "whole milk"
         ]
        ],
        [
         918,
         [
          "beverages",
          "rolls/buns",
          "soda",
          "misc. beverages"
         ],
         [
          "other vegetables",
          "whole milk",
          "yogurt",
          "sausage"
         ]
        ],
        [
         933,
         [
          "newspapers"
         ],
         []
        ],
        [
         938,
         [
          "specialty chocolate",
          "pot plants"
         ],
         []
        ],
        [
         940,
         [
          "citrus fruit",
          "napkins",
          "shopping bags"
         ],
         [
          "root vegetables",
          "sausage",
          "other vegetables",
          "tropical fruit",
          "yogurt",
          "whole milk",
          "pip fruit"
         ]
        ],
        [
         943,
         [
          "photo/film"
         ],
         []
        ],
        [
         944,
         [
          "hamburger meat"
         ],
         [
          "other vegetables"
         ]
        ],
        [
         953,
         [
          "rolls/buns",
          "coffee"
         ],
         [
          "other vegetables",
          "whole milk",
          "soda",
          "yogurt",
          "sausage"
         ]
        ],
        [
         954,
         [
          "hygiene articles"
         ],
         []
        ],
        [
         955,
         [
          "ice cream",
          "newspapers"
         ],
         []
        ],
        [
         959,
         [
          "finished products",
          "organic sausage",
          "sliced cheese",
          "white bread"
         ],
         []
        ],
        [
         963,
         [
          "chocolate"
         ],
         []
        ],
        [
         966,
         [
          "frankfurter",
          "citrus fruit",
          "whole milk",
          "yogurt"
         ],
         [
          "rolls/buns",
          "other vegetables",
          "tropical fruit",
          "root vegetables",
          "sausage",
          "pip fruit",
          "chicken",
          "bottled water",
          "whipped/sour cream",
          "butter",
          "curd",
          "pork",
          "pastry",
          "beef"
         ]
        ],
        [
         967,
         [
          "butter",
          "pasta",
          "canned fish",
          "softener"
         ],
         [
          "whole milk"
         ]
        ],
        [
         968,
         [
          "other vegetables",
          "butter milk",
          "frozen fish",
          "salty snack"
         ],
         [
          "citrus fruit",
          "chicken",
          "whole milk",
          "pip fruit",
          "rolls/buns",
          "frankfurter",
          "tropical fruit",
          "root vegetables",
          "pork",
          "hamburger meat",
          "yogurt",
          "sausage",
          "beef"
         ]
        ],
        [
         972,
         [
          "beef"
         ],
         [
          "root vegetables",
          "other vegetables",
          "whole milk"
         ]
        ],
        [
         973,
         [
          "curd",
          "yogurt",
          "spread cheese",
          "sugar"
         ],
         [
          "citrus fruit",
          "rolls/buns",
          "other vegetables",
          "tropical fruit",
          "whole milk"
         ]
        ],
        [
         980,
         [
          "frankfurter",
          "chicken",
          "pork",
          "tropical fruit"
         ],
         [
          "citrus fruit",
          "pip fruit",
          "other vegetables",
          "whole milk",
          "root vegetables",
          "yogurt",
          "sausage"
         ]
        ],
        [
         981,
         [
          "artif. sweetener",
          "soda",
          "photo/film"
         ],
         [
          "rolls/buns"
         ]
        ],
        [
         989,
         [
          "pork",
          "whole milk",
          "curd",
          "yogurt"
         ],
         [
          "citrus fruit",
          "rolls/buns",
          "other vegetables",
          "tropical fruit",
          "chicken",
          "pip fruit",
          "bottled water",
          "whipped/sour cream",
          "frankfurter",
          "butter",
          "root vegetables",
          "pastry",
          "sausage",
          "beef"
         ]
        ],
        [
         991,
         [
          "light bulbs"
         ],
         []
        ],
        [
         992,
         [
          "cream cheese",
          "margarine",
          "tea"
         ],
         []
        ],
        [
         993,
         [
          "sausage",
          "curd",
          "frozen meals",
          "domestic eggs"
         ],
         [
          "citrus fruit",
          "pip fruit",
          "rolls/buns",
          "root vegetables",
          "other vegetables",
          "tropical fruit",
          "whole milk"
         ]
        ],
        [
         994,
         [
          "citrus fruit",
          "onions"
         ],
         [
          "root vegetables",
          "sausage",
          "other vegetables",
          "tropical fruit",
          "yogurt",
          "whole milk",
          "pip fruit"
         ]
        ],
        [
         995,
         [
          "other vegetables",
          "whipped/sour cream",
          "roll products "
         ],
         [
          "citrus fruit",
          "chicken",
          "whole milk",
          "pip fruit",
          "rolls/buns",
          "frankfurter",
          "tropical fruit",
          "root vegetables",
          "pork",
          "hamburger meat",
          "yogurt",
          "sausage",
          "beef"
         ]
        ],
        [
         1000,
         [
          "onions",
          "domestic eggs",
          "soda",
          "hygiene articles"
         ],
         [
          "rolls/buns"
         ]
        ],
        [
         1006,
         [
          "ice cream",
          "long life bakery product"
         ],
         []
        ],
        [
         1014,
         [
          "margarine",
          "newspapers"
         ],
         []
        ],
        [
         1016,
         [
          "beef",
          "tropical fruit",
          "onions",
          "other vegetables"
         ],
         [
          "citrus fruit",
          "chicken",
          "whole milk",
          "pip fruit",
          "rolls/buns",
          "frankfurter",
          "root vegetables",
          "pork",
          "hamburger meat",
          "yogurt",
          "sausage"
         ]
        ],
        [
         1017,
         [
          "bottled water"
         ],
         [
          "whole milk"
         ]
        ],
        [
         1020,
         [
          "chocolate"
         ],
         []
        ],
        [
         1025,
         [
          "brown bread"
         ],
         []
        ],
        [
         1039,
         [
          "sausage",
          "whole milk",
          "whipped/sour cream",
          "pasta"
         ],
         [
          "citrus fruit",
          "pip fruit",
          "rolls/buns",
          "root vegetables",
          "other vegetables",
          "tropical fruit",
          "chicken",
          "bottled water",
          "frankfurter",
          "butter",
          "curd",
          "pork",
          "pastry",
          "yogurt",
          "beef"
         ]
        ],
        [
         1054,
         [
          "shopping bags"
         ],
         []
        ],
        [
         1063,
         [
          "pork",
          "hamburger meat",
          "pip fruit",
          "grapes"
         ],
         [
          "other vegetables",
          "citrus fruit",
          "root vegetables",
          "sausage",
          "tropical fruit",
          "whole milk"
         ]
        ],
        [
         1070,
         [
          "chewing gum"
         ],
         []
        ],
        [
         1077,
         [
          "bottled water",
          "soda",
          "fruit/vegetable juice",
          "long life bakery product"
         ],
         [
          "whole milk",
          "rolls/buns"
         ]
        ],
        [
         1078,
         [
          "specialty cheese"
         ],
         []
        ],
        [
         1096,
         [
          "pork"
         ],
         [
          "root vegetables",
          "other vegetables",
          "whole milk"
         ]
        ],
        [
         1098,
         [
          "UHT-milk",
          "domestic eggs",
          "brown bread",
          "coffee"
         ],
         []
        ],
        [
         1105,
         [
          "ham",
          "chicken",
          "citrus fruit",
          "pip fruit"
         ],
         [
          "other vegetables",
          "whole milk",
          "root vegetables",
          "sausage",
          "tropical fruit",
          "yogurt"
         ]
        ],
        [
         1115,
         [
          "red/blush wine"
         ],
         []
        ],
        [
         1118,
         [
          "semi-finished bread"
         ],
         []
        ],
        [
         1120,
         [
          "cat food",
          "dish cleaner",
          "shopping bags"
         ],
         []
        ],
        [
         1121,
         [
          "citrus fruit",
          "tropical fruit",
          "pip fruit",
          "grapes"
         ],
         [
          "other vegetables",
          "whole milk",
          "root vegetables",
          "yogurt",
          "sausage"
         ]
        ],
        [
         1123,
         [
          "meat",
          "other vegetables",
          "packaged fruit/vegetables",
          "cream cheese"
         ],
         [
          "citrus fruit",
          "chicken",
          "whole milk",
          "pip fruit",
          "rolls/buns",
          "frankfurter",
          "tropical fruit",
          "root vegetables",
          "pork",
          "hamburger meat",
          "yogurt",
          "sausage",
          "beef"
         ]
        ],
        [
         1127,
         [
          "brown bread",
          "oil",
          "sugar",
          "soda"
         ],
         [
          "rolls/buns"
         ]
        ],
        [
         1130,
         [
          "ham",
          "tropical fruit",
          "cream cheese",
          "processed cheese"
         ],
         [
          "citrus fruit",
          "pip fruit",
          "other vegetables",
          "whole milk",
          "root vegetables",
          "yogurt",
          "sausage"
         ]
        ],
        [
         1131,
         [
          "root vegetables",
          "skin care"
         ],
         [
          "citrus fruit",
          "pip fruit",
          "other vegetables",
          "tropical fruit",
          "whole milk",
          "pork",
          "sausage",
          "beef"
         ]
        ],
        [
         1138,
         [
          "misc. beverages"
         ],
         []
        ],
        [
         1148,
         [
          "pip fruit",
          "other vegetables",
          "butter",
          "yogurt"
         ],
         [
          "citrus fruit",
          "chicken",
          "whole milk",
          "rolls/buns",
          "frankfurter",
          "tropical fruit",
          "root vegetables",
          "pork",
          "hamburger meat",
          "sausage",
          "beef"
         ]
        ],
        [
         1157,
         [
          "pastry"
         ],
         [
          "whole milk"
         ]
        ],
        [
         1162,
         [
          "soda"
         ],
         [
          "rolls/buns"
         ]
        ],
        [
         1171,
         [
          "sausage",
          "citrus fruit",
          "pip fruit",
          "mayonnaise"
         ],
         [
          "rolls/buns",
          "root vegetables",
          "other vegetables",
          "tropical fruit",
          "whole milk",
          "yogurt"
         ]
        ],
        [
         1178,
         [
          "UHT-milk",
          "soda",
          "dish cleaner",
          "napkins"
         ],
         [
          "rolls/buns"
         ]
        ],
        [
         1180,
         [
          "rolls/buns",
          "canned fish",
          "canned beer"
         ],
         [
          "other vegetables",
          "whole milk",
          "soda",
          "yogurt",
          "sausage"
         ]
        ],
        [
         1181,
         [
          "specialty chocolate"
         ],
         []
        ],
        [
         1188,
         [
          "chicken",
          "pork",
          "beef",
          "whole milk"
         ],
         [
          "other vegetables",
          "citrus fruit",
          "pip fruit",
          "rolls/buns",
          "bottled water",
          "whipped/sour cream",
          "frankfurter",
          "butter",
          "tropical fruit",
          "curd",
          "root vegetables",
          "pastry",
          "yogurt",
          "sausage"
         ]
        ],
        [
         1189,
         [
          "sausage",
          "citrus fruit",
          "whole milk",
          "cream cheese"
         ],
         [
          "pip fruit",
          "rolls/buns",
          "root vegetables",
          "other vegetables",
          "tropical fruit",
          "yogurt",
          "chicken",
          "bottled water",
          "whipped/sour cream",
          "frankfurter",
          "butter",
          "curd",
          "pork",
          "pastry",
          "beef"
         ]
        ],
        [
         1193,
         [
          "yogurt",
          "UHT-milk",
          "rolls/buns"
         ],
         [
          "citrus fruit",
          "other vegetables",
          "tropical fruit",
          "whole milk",
          "soda",
          "sausage"
         ]
        ],
        [
         1194,
         [
          "rolls/buns",
          "red/blush wine",
          "newspapers"
         ],
         [
          "other vegetables",
          "whole milk",
          "soda",
          "yogurt",
          "sausage"
         ]
        ],
        [
         1196,
         [
          "whole milk",
          "brown bread"
         ],
         [
          "citrus fruit",
          "chicken",
          "other vegetables",
          "pip fruit",
          "rolls/buns",
          "bottled water",
          "whipped/sour cream",
          "frankfurter",
          "butter",
          "tropical fruit",
          "curd",
          "root vegetables",
          "pork",
          "pastry",
          "yogurt",
          "sausage",
          "beef"
         ]
        ],
        [
         1210,
         [
          "pork",
          "whole milk",
          "sugar",
          "soda"
         ],
         [
          "citrus fruit",
          "chicken",
          "other vegetables",
          "pip fruit",
          "rolls/buns",
          "bottled water",
          "whipped/sour cream",
          "frankfurter",
          "butter",
          "tropical fruit",
          "curd",
          "root vegetables",
          "pastry",
          "yogurt",
          "sausage",
          "beef"
         ]
        ],
        [
         1211,
         [
          "chicken",
          "pork",
          "pip fruit",
          "other vegetables"
         ],
         [
          "citrus fruit",
          "whole milk",
          "rolls/buns",
          "frankfurter",
          "tropical fruit",
          "root vegetables",
          "hamburger meat",
          "yogurt",
          "sausage",
          "beef"
         ]
        ],
        [
         1215,
         [
          "beef",
          "tropical fruit",
          "whole milk",
          "ice cream"
         ],
         [
          "citrus fruit",
          "pip fruit",
          "other vegetables",
          "root vegetables",
          "yogurt",
          "sausage",
          "chicken",
          "rolls/buns",
          "bottled water",
          "whipped/sour cream",
          "frankfurter",
          "butter",
          "curd",
          "pork",
          "pastry"
         ]
        ],
        [
         1228,
         [
          "pork",
          "beef",
          "citrus fruit",
          "berries"
         ],
         [
          "root vegetables",
          "sausage",
          "other vegetables",
          "tropical fruit",
          "yogurt",
          "whole milk",
          "pip fruit"
         ]
        ],
        [
         1230,
         [
          "domestic eggs",
          "seasonal products",
          "shopping bags"
         ],
         []
        ],
        [
         1232,
         [
          "bottled water",
          "soda"
         ],
         [
          "whole milk",
          "rolls/buns"
         ]
        ],
        [
         1238,
         [
          "tropical fruit",
          "sliced cheese",
          "domestic eggs",
          "zwieback"
         ],
         [
          "citrus fruit",
          "pip fruit",
          "other vegetables",
          "whole milk",
          "root vegetables",
          "yogurt",
          "sausage"
         ]
        ],
        [
         1247,
         [
          "hamburger meat",
          "pip fruit",
          "whole milk",
          "curd"
         ],
         [
          "citrus fruit",
          "chicken",
          "other vegetables",
          "rolls/buns",
          "bottled water",
          "whipped/sour cream",
          "frankfurter",
          "butter",
          "tropical fruit",
          "root vegetables",
          "pork",
          "pastry",
          "yogurt",
          "sausage",
          "beef"
         ]
        ],
        [
         1249,
         [
          "pork"
         ],
         [
          "root vegetables",
          "other vegetables",
          "whole milk"
         ]
        ],
        [
         1259,
         [
          "rolls/buns",
          "brown bread"
         ],
         [
          "other vegetables",
          "whole milk",
          "soda",
          "yogurt",
          "sausage"
         ]
        ],
        [
         1263,
         [
          "soda",
          "softener"
         ],
         [
          "rolls/buns"
         ]
        ],
        [
         1275,
         [
          "curd",
          "whipped/sour cream",
          "flour",
          "baking powder"
         ],
         [
          "whole milk"
         ]
        ],
        [
         1276,
         [
          "chicken",
          "red/blush wine"
         ],
         [
          "other vegetables",
          "whole milk"
         ]
        ],
        [
         1277,
         [
          "whipped/sour cream"
         ],
         [
          "whole milk"
         ]
        ],
        [
         1288,
         [
          "chocolate"
         ],
         []
        ],
        [
         1289,
         [
          "whole milk",
          "frozen vegetables",
          "specialty chocolate"
         ],
         [
          "citrus fruit",
          "chicken",
          "other vegetables",
          "pip fruit",
          "rolls/buns",
          "bottled water",
          "whipped/sour cream",
          "frankfurter",
          "butter",
          "tropical fruit",
          "curd",
          "root vegetables",
          "pork",
          "pastry",
          "yogurt",
          "sausage",
          "beef"
         ]
        ],
        [
         1291,
         [
          "coffee",
          "shopping bags"
         ],
         []
        ],
        [
         1292,
         [
          "rolls/buns",
          "waffles"
         ],
         [
          "other vegetables",
          "whole milk",
          "soda",
          "yogurt",
          "sausage"
         ]
        ],
        [
         1300,
         [
          "sausage",
          "meat",
          "chicken",
          "root vegetables"
         ],
         [
          "other vegetables",
          "whole milk",
          "citrus fruit",
          "pip fruit",
          "rolls/buns",
          "tropical fruit",
          "pork",
          "beef"
         ]
        ],
        [
         1303,
         [
          "chicken",
          "pork",
          "root vegetables",
          "onions"
         ],
         [
          "other vegetables",
          "whole milk",
          "citrus fruit",
          "pip fruit",
          "tropical fruit",
          "sausage",
          "beef"
         ]
        ],
        [
         1318,
         [
          "pip fruit",
          "root vegetables",
          "other vegetables",
          "whole milk"
         ],
         [
          "citrus fruit",
          "chicken",
          "rolls/buns",
          "frankfurter",
          "tropical fruit",
          "pork",
          "hamburger meat",
          "yogurt",
          "sausage",
          "beef",
          "bottled water",
          "whipped/sour cream",
          "butter",
          "curd",
          "pastry"
         ]
        ],
        [
         1319,
         [
          "coffee"
         ],
         []
        ],
        [
         1323,
         [
          "meat",
          "beef",
          "tropical fruit",
          "pip fruit"
         ],
         [
          "citrus fruit",
          "other vegetables",
          "whole milk",
          "root vegetables",
          "yogurt",
          "sausage"
         ]
        ],
        [
         1324,
         [
          "whole milk",
          "canned fish",
          "soda",
          "bottled beer"
         ],
         [
          "citrus fruit",
          "chicken",
          "other vegetables",
          "pip fruit",
          "rolls/buns",
          "bottled water",
          "whipped/sour cream",
          "frankfurter",
          "butter",
          "tropical fruit",
          "curd",
          "root vegetables",
          "pork",
          "pastry",
          "yogurt",
          "sausage",
          "beef"
         ]
        ],
        [
         1325,
         [
          "dessert",
          "dishes"
         ],
         []
        ],
        [
         1328,
         [
          "bottled water",
          "fruit/vegetable juice",
          "bottled beer",
          "prosecco"
         ],
         [
          "whole milk"
         ]
        ],
        [
         1331,
         [
          "citrus fruit",
          "pip fruit",
          "grapes",
          "other vegetables"
         ],
         [
          "chicken",
          "whole milk",
          "rolls/buns",
          "frankfurter",
          "tropical fruit",
          "root vegetables",
          "pork",
          "hamburger meat",
          "yogurt",
          "sausage",
          "beef"
         ]
        ],
        [
         1332,
         [
          "tropical fruit",
          "whole milk",
          "hard cheese",
          "rolls/buns"
         ],
         [
          "other vegetables",
          "soda",
          "yogurt",
          "sausage",
          "citrus fruit",
          "pip fruit",
          "root vegetables",
          "chicken",
          "bottled water",
          "whipped/sour cream",
          "frankfurter",
          "butter",
          "curd",
          "pork",
          "pastry",
          "beef"
         ]
        ],
        [
         1333,
         [
          "cat food",
          "soda"
         ],
         [
          "rolls/buns"
         ]
        ],
        [
         1334,
         [
          "whole milk",
          "beverages",
          "pastry",
          "soda"
         ],
         [
          "citrus fruit",
          "chicken",
          "other vegetables",
          "pip fruit",
          "rolls/buns",
          "bottled water",
          "whipped/sour cream",
          "frankfurter",
          "butter",
          "tropical fruit",
          "curd",
          "root vegetables",
          "pork",
          "yogurt",
          "sausage",
          "beef"
         ]
        ],
        [
         1338,
         [
          "berries",
          "other vegetables",
          "butter milk",
          "yogurt"
         ],
         [
          "citrus fruit",
          "chicken",
          "whole milk",
          "pip fruit",
          "rolls/buns",
          "frankfurter",
          "tropical fruit",
          "root vegetables",
          "pork",
          "hamburger meat",
          "sausage",
          "beef"
         ]
        ],
        [
         1344,
         [
          "sausage",
          "hard cheese",
          "rolls/buns",
          "canned vegetables"
         ],
         [
          "other vegetables",
          "whole milk",
          "soda",
          "yogurt",
          "citrus fruit",
          "pip fruit",
          "root vegetables",
          "tropical fruit"
         ]
        ],
        [
         1352,
         [
          "root vegetables",
          "fruit/vegetable juice",
          "long life bakery product",
          "pot plants"
         ],
         [
          "citrus fruit",
          "pip fruit",
          "other vegetables",
          "tropical fruit",
          "whole milk",
          "pork",
          "sausage",
          "beef"
         ]
        ],
        [
         1353,
         [
          "ham",
          "tropical fruit",
          "grapes",
          "onions"
         ],
         [
          "citrus fruit",
          "pip fruit",
          "other vegetables",
          "whole milk",
          "root vegetables",
          "yogurt",
          "sausage"
         ]
        ],
        [
         1357,
         [
          "other vegetables",
          "chocolate"
         ],
         [
          "citrus fruit",
          "chicken",
          "whole milk",
          "pip fruit",
          "rolls/buns",
          "frankfurter",
          "tropical fruit",
          "root vegetables",
          "pork",
          "hamburger meat",
          "yogurt",
          "sausage",
          "beef"
         ]
        ],
        [
         1362,
         [
          "ham",
          "dessert",
          "frozen meals",
          "frozen dessert"
         ],
         []
        ],
        [
         1394,
         [
          "curd",
          "jam",
          "shopping bags"
         ],
         [
          "whole milk"
         ]
        ],
        [
         1402,
         [
          "oil"
         ],
         []
        ],
        [
         1410,
         [
          "root vegetables",
          "whole milk",
          "brown bread",
          "brandy"
         ],
         [
          "citrus fruit",
          "chicken",
          "other vegetables",
          "pip fruit",
          "rolls/buns",
          "bottled water",
          "whipped/sour cream",
          "frankfurter",
          "butter",
          "tropical fruit",
          "curd",
          "pork",
          "pastry",
          "yogurt",
          "sausage",
          "beef"
         ]
        ],
        [
         1414,
         [
          "frozen fruits",
          "detergent"
         ],
         []
        ],
        [
         1418,
         [
          "grapes",
          "butter",
          "domestic eggs",
          "salt"
         ],
         [
          "whole milk"
         ]
        ],
        [
         1425,
         [
          "whole milk",
          "yogurt"
         ],
         [
          "citrus fruit",
          "rolls/buns",
          "other vegetables",
          "tropical fruit",
          "chicken",
          "pip fruit",
          "bottled water",
          "whipped/sour cream",
          "frankfurter",
          "butter",
          "curd",
          "root vegetables",
          "pork",
          "pastry",
          "sausage",
          "beef"
         ]
        ],
        [
         1429,
         [
          "oil"
         ],
         []
        ],
        [
         1432,
         [
          "root vegetables",
          "coffee",
          "detergent"
         ],
         [
          "citrus fruit",
          "pip fruit",
          "other vegetables",
          "tropical fruit",
          "whole milk",
          "pork",
          "sausage",
          "beef"
         ]
        ],
        [
         1435,
         [
          "sausage",
          "whole milk",
          "brown bread",
          "soda"
         ],
         [
          "citrus fruit",
          "pip fruit",
          "rolls/buns",
          "root vegetables",
          "other vegetables",
          "tropical fruit",
          "chicken",
          "bottled water",
          "whipped/sour cream",
          "frankfurter",
          "butter",
          "curd",
          "pork",
          "pastry",
          "yogurt",
          "beef"
         ]
        ],
        [
         1439,
         [
          "photo/film"
         ],
         []
        ],
        [
         1440,
         [
          "UHT-milk",
          "coffee"
         ],
         []
        ],
        [
         1444,
         [
          "beef",
          "root vegetables",
          "other vegetables",
          "soda"
         ],
         [
          "citrus fruit",
          "chicken",
          "whole milk",
          "pip fruit",
          "rolls/buns",
          "frankfurter",
          "tropical fruit",
          "pork",
          "hamburger meat",
          "yogurt",
          "sausage"
         ]
        ],
        [
         1453,
         [
          "beverages",
          "soda",
          "chocolate"
         ],
         [
          "rolls/buns"
         ]
        ],
        [
         1455,
         [
          "cream cheese",
          "pasta",
          "jam",
          "sweet spreads"
         ],
         []
        ],
        [
         1456,
         [
          "rolls/buns",
          "liquor",
          "red/blush wine"
         ],
         [
          "other vegetables",
          "whole milk",
          "soda",
          "yogurt",
          "sausage"
         ]
        ],
        [
         1459,
         [
          "sausage",
          "whole milk",
          "brown bread",
          "pastry"
         ],
         [
          "citrus fruit",
          "pip fruit",
          "rolls/buns",
          "root vegetables",
          "other vegetables",
          "tropical fruit",
          "chicken",
          "bottled water",
          "whipped/sour cream",
          "frankfurter",
          "butter",
          "curd",
          "pork",
          "yogurt",
          "beef"
         ]
        ],
        [
         1462,
         [
          "canned beer"
         ],
         []
        ],
        [
         1464,
         [
          "yogurt"
         ],
         [
          "citrus fruit",
          "rolls/buns",
          "other vegetables",
          "tropical fruit",
          "whole milk"
         ]
        ],
        [
         1474,
         [
          "canned beer"
         ],
         []
        ],
        [
         1476,
         [
          "tropical fruit",
          "whole milk"
         ],
         [
          "citrus fruit",
          "pip fruit",
          "other vegetables",
          "root vegetables",
          "yogurt",
          "sausage",
          "chicken",
          "rolls/buns",
          "bottled water",
          "whipped/sour cream",
          "frankfurter",
          "butter",
          "curd",
          "pork",
          "pastry",
          "beef"
         ]
        ],
        [
         1477,
         [
          "coffee",
          "soda",
          "bottled beer",
          "liquor (appetizer)"
         ],
         [
          "rolls/buns"
         ]
        ],
        [
         1478,
         [
          "ham",
          "other vegetables",
          "whole milk",
          "frozen vegetables"
         ],
         [
          "citrus fruit",
          "chicken",
          "pip fruit",
          "rolls/buns",
          "frankfurter",
          "tropical fruit",
          "root vegetables",
          "pork",
          "hamburger meat",
          "yogurt",
          "sausage",
          "beef",
          "bottled water",
          "whipped/sour cream",
          "butter",
          "curd",
          "pastry"
         ]
        ],
        [
         1481,
         [
          "dessert",
          "fruit/vegetable juice",
          "newspapers"
         ],
         []
        ],
        [
         1484,
         [
          "rolls/buns",
          "soda"
         ],
         [
          "other vegetables",
          "whole milk",
          "yogurt",
          "sausage"
         ]
        ],
        [
         1486,
         [
          "meat",
          "other vegetables",
          "rolls/buns",
          "fruit/vegetable juice"
         ],
         [
          "citrus fruit",
          "chicken",
          "whole milk",
          "pip fruit",
          "frankfurter",
          "tropical fruit",
          "root vegetables",
          "pork",
          "hamburger meat",
          "yogurt",
          "sausage",
          "beef",
          "soda"
         ]
        ],
        [
         1497,
         [
          "canned beer",
          "salty snack",
          "shopping bags"
         ],
         []
        ],
        [
         1502,
         [
          "yogurt"
         ],
         [
          "citrus fruit",
          "rolls/buns",
          "other vegetables",
          "tropical fruit",
          "whole milk"
         ]
        ],
        [
         1507,
         [
          "chicken",
          "other vegetables",
          "whole milk",
          "curd"
         ],
         [
          "citrus fruit",
          "pip fruit",
          "rolls/buns",
          "frankfurter",
          "tropical fruit",
          "root vegetables",
          "pork",
          "hamburger meat",
          "yogurt",
          "sausage",
          "beef",
          "bottled water",
          "whipped/sour cream",
          "butter",
          "pastry"
         ]
        ],
        [
         1511,
         [
          "sausage",
          "fish",
          "other vegetables",
          "brown bread"
         ],
         [
          "citrus fruit",
          "chicken",
          "whole milk",
          "pip fruit",
          "rolls/buns",
          "frankfurter",
          "tropical fruit",
          "root vegetables",
          "pork",
          "hamburger meat",
          "yogurt",
          "beef"
         ]
        ],
        [
         1516,
         [
          "turkey",
          "citrus fruit",
          "tropical fruit",
          "grapes"
         ],
         [
          "pip fruit",
          "other vegetables",
          "whole milk",
          "root vegetables",
          "yogurt",
          "sausage"
         ]
        ],
        [
         1518,
         [
          "whole milk",
          "curd",
          "ice cream",
          "Instant food products"
         ],
         [
          "citrus fruit",
          "chicken",
          "other vegetables",
          "pip fruit",
          "rolls/buns",
          "bottled water",
          "whipped/sour cream",
          "frankfurter",
          "butter",
          "tropical fruit",
          "root vegetables",
          "pork",
          "pastry",
          "yogurt",
          "sausage",
          "beef"
         ]
        ],
        [
         1530,
         [
          "waffles"
         ],
         []
        ],
        [
         1531,
         [
          "condensed milk",
          "coffee",
          "napkins"
         ],
         []
        ],
        [
         1533,
         [
          "meat",
          "onions",
          "other vegetables",
          "chewing gum"
         ],
         [
          "citrus fruit",
          "chicken",
          "whole milk",
          "pip fruit",
          "rolls/buns",
          "frankfurter",
          "tropical fruit",
          "root vegetables",
          "pork",
          "hamburger meat",
          "yogurt",
          "sausage",
          "beef"
         ]
        ],
        [
         1541,
         [
          "pip fruit",
          "other vegetables"
         ],
         [
          "citrus fruit",
          "chicken",
          "whole milk",
          "rolls/buns",
          "frankfurter",
          "tropical fruit",
          "root vegetables",
          "pork",
          "hamburger meat",
          "yogurt",
          "sausage",
          "beef"
         ]
        ],
        [
         1544,
         [
          "pastry",
          "long life bakery product",
          "shopping bags"
         ],
         [
          "whole milk"
         ]
        ],
        [
         1554,
         [
          "other vegetables",
          "yogurt",
          "whipped/sour cream",
          "soda"
         ],
         [
          "citrus fruit",
          "chicken",
          "whole milk",
          "pip fruit",
          "rolls/buns",
          "frankfurter",
          "tropical fruit",
          "root vegetables",
          "pork",
          "hamburger meat",
          "sausage",
          "beef"
         ]
        ],
        [
         1562,
         [
          "rolls/buns"
         ],
         [
          "other vegetables",
          "whole milk",
          "soda",
          "yogurt",
          "sausage"
         ]
        ],
        [
         1569,
         [
          "sausage",
          "cream",
          "cream cheese",
          "canned beer"
         ],
         [
          "citrus fruit",
          "pip fruit",
          "rolls/buns",
          "root vegetables",
          "other vegetables",
          "tropical fruit",
          "whole milk"
         ]
        ],
        [
         1576,
         [
          "curd",
          "mustard",
          "canned beer"
         ],
         [
          "whole milk"
         ]
        ],
        [
         1577,
         [
          "frankfurter",
          "sausage",
          "berries",
          "whole milk"
         ],
         [
          "citrus fruit",
          "pip fruit",
          "rolls/buns",
          "root vegetables",
          "other vegetables",
          "tropical fruit",
          "chicken",
          "bottled water",
          "whipped/sour cream",
          "butter",
          "curd",
          "pork",
          "pastry",
          "yogurt",
          "beef"
         ]
        ],
        [
         1598,
         [
          "sauces",
          "softener"
         ],
         []
        ],
        [
         1600,
         [
          "yogurt",
          "condensed milk",
          "rolls/buns",
          "pickled vegetables"
         ],
         [
          "citrus fruit",
          "other vegetables",
          "tropical fruit",
          "whole milk",
          "soda",
          "sausage"
         ]
        ],
        [
         1602,
         [
          "other vegetables",
          "rolls/buns",
          "canned fish"
         ],
         [
          "citrus fruit",
          "chicken",
          "whole milk",
          "pip fruit",
          "frankfurter",
          "tropical fruit",
          "root vegetables",
          "pork",
          "hamburger meat",
          "yogurt",
          "sausage",
          "beef",
          "soda"
         ]
        ],
        [
         1610,
         [
          "tropical fruit",
          "soft cheese",
          "rolls/buns",
          "chocolate"
         ],
         [
          "other vegetables",
          "whole milk",
          "soda",
          "yogurt",
          "sausage",
          "citrus fruit",
          "pip fruit",
          "root vegetables"
         ]
        ],
        [
         1612,
         [
          "sausage",
          "hamburger meat",
          "tropical fruit",
          "root vegetables"
         ],
         [
          "citrus fruit",
          "pip fruit",
          "other vegetables",
          "whole milk",
          "yogurt",
          "rolls/buns",
          "pork",
          "beef"
         ]
        ],
        [
         1614,
         [
          "turkey",
          "tropical fruit",
          "yogurt",
          "UHT-milk"
         ],
         [
          "citrus fruit",
          "rolls/buns",
          "other vegetables",
          "whole milk",
          "pip fruit",
          "root vegetables",
          "sausage"
         ]
        ],
        [
         1623,
         [
          "sausage",
          "beverages",
          "sliced cheese",
          "rolls/buns"
         ],
         [
          "other vegetables",
          "whole milk",
          "soda",
          "yogurt",
          "citrus fruit",
          "pip fruit",
          "root vegetables",
          "tropical fruit"
         ]
        ],
        [
         1635,
         [
          "sausage",
          "white bread",
          "bottled beer"
         ],
         [
          "citrus fruit",
          "pip fruit",
          "rolls/buns",
          "root vegetables",
          "other vegetables",
          "tropical fruit",
          "whole milk"
         ]
        ],
        [
         1636,
         [
          "oil"
         ],
         []
        ],
        [
         1639,
         [
          "napkins"
         ],
         []
        ],
        [
         1655,
         [
          "canned beer"
         ],
         []
        ],
        [
         1666,
         [
          "whole milk",
          "yogurt",
          "white bread",
          "newspapers"
         ],
         [
          "citrus fruit",
          "rolls/buns",
          "other vegetables",
          "tropical fruit",
          "chicken",
          "pip fruit",
          "bottled water",
          "whipped/sour cream",
          "frankfurter",
          "butter",
          "curd",
          "root vegetables",
          "pork",
          "pastry",
          "sausage",
          "beef"
         ]
        ],
        [
         1667,
         [
          "beef",
          "citrus fruit",
          "pip fruit",
          "yogurt"
         ],
         [
          "rolls/buns",
          "other vegetables",
          "tropical fruit",
          "whole milk",
          "root vegetables",
          "sausage"
         ]
        ],
        [
         1668,
         [
          "domestic eggs",
          "rolls/buns",
          "soda"
         ],
         [
          "other vegetables",
          "whole milk",
          "yogurt",
          "sausage"
         ]
        ],
        [
         1671,
         [
          "ham",
          "pip fruit",
          "whole milk",
          "rolls/buns"
         ],
         [
          "other vegetables",
          "soda",
          "yogurt",
          "sausage",
          "citrus fruit",
          "chicken",
          "bottled water",
          "whipped/sour cream",
          "frankfurter",
          "butter",
          "tropical fruit",
          "curd",
          "root vegetables",
          "pork",
          "pastry",
          "beef"
         ]
        ],
        [
         1673,
         [
          "bottled water"
         ],
         [
          "whole milk"
         ]
        ],
        [
         1684,
         [
          "tropical fruit",
          "butter",
          "butter milk",
          "brown bread"
         ],
         [
          "citrus fruit",
          "pip fruit",
          "other vegetables",
          "whole milk",
          "root vegetables",
          "yogurt",
          "sausage"
         ]
        ],
        [
         1685,
         [
          "frankfurter",
          "pip fruit",
          "rolls/buns",
          "bottled water"
         ],
         [
          "other vegetables",
          "whole milk",
          "soda",
          "yogurt",
          "sausage",
          "citrus fruit",
          "root vegetables",
          "tropical fruit"
         ]
        ],
        [
         1703,
         [
          "meat",
          "citrus fruit",
          "other vegetables",
          "canned beer"
         ],
         [
          "chicken",
          "whole milk",
          "pip fruit",
          "rolls/buns",
          "frankfurter",
          "tropical fruit",
          "root vegetables",
          "pork",
          "hamburger meat",
          "yogurt",
          "sausage",
          "beef"
         ]
        ],
        [
         1706,
         [
          "sausage",
          "other vegetables"
         ],
         [
          "citrus fruit",
          "chicken",
          "whole milk",
          "pip fruit",
          "rolls/buns",
          "frankfurter",
          "tropical fruit",
          "root vegetables",
          "pork",
          "hamburger meat",
          "yogurt",
          "beef"
         ]
        ],
        [
         1716,
         [
          "sausage",
          "tropical fruit",
          "pip fruit",
          "other vegetables"
         ],
         [
          "citrus fruit",
          "chicken",
          "whole milk",
          "rolls/buns",
          "frankfurter",
          "root vegetables",
          "pork",
          "hamburger meat",
          "yogurt",
          "beef"
         ]
        ],
        [
         1722,
         [
          "rolls/buns"
         ],
         [
          "other vegetables",
          "whole milk",
          "soda",
          "yogurt",
          "sausage"
         ]
        ],
        [
         1723,
         [
          "frankfurter",
          "rolls/buns",
          "fruit/vegetable juice"
         ],
         [
          "other vegetables",
          "whole milk",
          "soda",
          "yogurt",
          "sausage"
         ]
        ],
        [
         1732,
         [
          "fruit/vegetable juice",
          "nut snack"
         ],
         []
        ],
        [
         1736,
         [
          "frankfurter",
          "white bread",
          "pastry",
          "dog food"
         ],
         [
          "whole milk",
          "other vegetables"
         ]
        ],
        [
         1740,
         [
          "canned beer"
         ],
         []
        ],
        [
         1745,
         [
          "bags"
         ],
         []
        ],
        [
         1746,
         [
          "rolls/buns"
         ],
         [
          "other vegetables",
          "whole milk",
          "soda",
          "yogurt",
          "sausage"
         ]
        ],
        [
         1749,
         [
          "butter",
          "domestic eggs",
          "pasta",
          "fruit/vegetable juice"
         ],
         [
          "whole milk"
         ]
        ],
        [
         1753,
         [
          "chicken",
          "hamburger meat",
          "pip fruit",
          "onions"
         ],
         [
          "other vegetables",
          "whole milk",
          "citrus fruit",
          "root vegetables",
          "sausage",
          "tropical fruit"
         ]
        ],
        [
         1756,
         [
          "spread cheese",
          "pastry"
         ],
         [
          "whole milk"
         ]
        ],
        [
         1769,
         [
          "citrus fruit",
          "other vegetables",
          "butter",
          "candy"
         ],
         [
          "chicken",
          "whole milk",
          "pip fruit",
          "rolls/buns",
          "frankfurter",
          "tropical fruit",
          "root vegetables",
          "pork",
          "hamburger meat",
          "yogurt",
          "sausage",
          "beef"
         ]
        ],
        [
         1776,
         [
          "pork",
          "citrus fruit",
          "soda",
          "canned beer"
         ],
         [
          "root vegetables",
          "sausage",
          "other vegetables",
          "tropical fruit",
          "yogurt",
          "whole milk",
          "pip fruit",
          "rolls/buns"
         ]
        ],
        [
         1780,
         [
          "grapes",
          "whole milk",
          "white wine",
          "dishes"
         ],
         [
          "citrus fruit",
          "chicken",
          "other vegetables",
          "pip fruit",
          "rolls/buns",
          "bottled water",
          "whipped/sour cream",
          "frankfurter",
          "butter",
          "tropical fruit",
          "curd",
          "root vegetables",
          "pork",
          "pastry",
          "yogurt",
          "sausage",
          "beef"
         ]
        ],
        [
         1782,
         [
          "frozen fish",
          "hygiene articles",
          "shopping bags"
         ],
         []
        ],
        [
         1783,
         [
          "tropical fruit",
          "pastry",
          "soda"
         ],
         [
          "whole milk",
          "citrus fruit",
          "pip fruit",
          "other vegetables",
          "root vegetables",
          "yogurt",
          "sausage",
          "rolls/buns"
         ]
        ],
        [
         1791,
         [
          "pastry",
          "soda"
         ],
         [
          "whole milk",
          "rolls/buns"
         ]
        ],
        [
         1796,
         [
          "pip fruit",
          "whole milk"
         ],
         [
          "citrus fruit",
          "chicken",
          "other vegetables",
          "rolls/buns",
          "bottled water",
          "whipped/sour cream",
          "frankfurter",
          "butter",
          "tropical fruit",
          "curd",
          "root vegetables",
          "pork",
          "pastry",
          "yogurt",
          "sausage",
          "beef"
         ]
        ],
        [
         1803,
         [
          "newspapers"
         ],
         []
        ],
        [
         1806,
         [
          "misc. beverages"
         ],
         []
        ],
        [
         1810,
         [
          "photo/film"
         ],
         []
        ],
        [
         1812,
         [
          "sausage",
          "meat",
          "tropical fruit",
          "soda"
         ],
         [
          "citrus fruit",
          "pip fruit",
          "other vegetables",
          "whole milk",
          "root vegetables",
          "yogurt",
          "rolls/buns"
         ]
        ],
        [
         1817,
         [
          "soda",
          "house keeping products"
         ],
         [
          "rolls/buns"
         ]
        ],
        [
         1826,
         [
          "meat",
          "citrus fruit",
          "pip fruit",
          "curd"
         ],
         [
          "whole milk",
          "root vegetables",
          "sausage",
          "other vegetables",
          "tropical fruit",
          "yogurt"
         ]
        ],
        [
         1835,
         [
          "whole milk",
          "butter",
          "yogurt",
          "frozen meals"
         ],
         [
          "citrus fruit",
          "rolls/buns",
          "other vegetables",
          "tropical fruit",
          "chicken",
          "pip fruit",
          "bottled water",
          "whipped/sour cream",
          "frankfurter",
          "curd",
          "root vegetables",
          "pork",
          "pastry",
          "sausage",
          "beef"
         ]
        ],
        [
         1836,
         [
          "citrus fruit",
          "root vegetables",
          "other vegetables",
          "salt"
         ],
         [
          "chicken",
          "whole milk",
          "pip fruit",
          "rolls/buns",
          "frankfurter",
          "tropical fruit",
          "pork",
          "hamburger meat",
          "yogurt",
          "sausage",
          "beef"
         ]
        ],
        [
         1837,
         [
          "pip fruit",
          "coffee"
         ],
         [
          "citrus fruit",
          "root vegetables",
          "sausage",
          "other vegetables",
          "tropical fruit",
          "whole milk"
         ]
        ],
        [
         1841,
         [
          "tropical fruit",
          "grapes",
          "oil",
          "canned vegetables"
         ],
         [
          "citrus fruit",
          "pip fruit",
          "other vegetables",
          "whole milk",
          "root vegetables",
          "yogurt",
          "sausage"
         ]
        ],
        [
         1843,
         [
          "citrus fruit",
          "rolls/buns",
          "bottled water",
          "red/blush wine"
         ],
         [
          "other vegetables",
          "whole milk",
          "soda",
          "yogurt",
          "sausage",
          "root vegetables",
          "tropical fruit",
          "pip fruit"
         ]
        ],
        [
         1845,
         [
          "root vegetables",
          "other vegetables",
          "whole milk",
          "curd"
         ],
         [
          "citrus fruit",
          "chicken",
          "pip fruit",
          "rolls/buns",
          "frankfurter",
          "tropical fruit",
          "pork",
          "hamburger meat",
          "yogurt",
          "sausage",
          "beef",
          "bottled water",
          "whipped/sour cream",
          "butter",
          "pastry"
         ]
        ],
        [
         1848,
         [
          "root vegetables"
         ],
         [
          "citrus fruit",
          "pip fruit",
          "other vegetables",
          "tropical fruit",
          "whole milk",
          "pork",
          "sausage",
          "beef"
         ]
        ],
        [
         1851,
         [
          "canned beer",
          "newspapers"
         ],
         []
        ],
        [
         1866,
         [
          "tropical fruit",
          "rolls/buns"
         ],
         [
          "other vegetables",
          "whole milk",
          "soda",
          "yogurt",
          "sausage",
          "citrus fruit",
          "pip fruit",
          "root vegetables"
         ]
        ],
        [
         1874,
         [
          "root vegetables",
          "other vegetables",
          "whipped/sour cream",
          "canned beer"
         ],
         [
          "citrus fruit",
          "chicken",
          "whole milk",
          "pip fruit",
          "rolls/buns",
          "frankfurter",
          "tropical fruit",
          "pork",
          "hamburger meat",
          "yogurt",
          "sausage",
          "beef"
         ]
        ],
        [
         1880,
         [
          "rolls/buns",
          "bottled water",
          "soda"
         ],
         [
          "other vegetables",
          "whole milk",
          "yogurt",
          "sausage"
         ]
        ],
        [
         1884,
         [
          "root vegetables",
          "other vegetables",
          "domestic eggs",
          "sugar"
         ],
         [
          "citrus fruit",
          "chicken",
          "whole milk",
          "pip fruit",
          "rolls/buns",
          "frankfurter",
          "tropical fruit",
          "pork",
          "hamburger meat",
          "yogurt",
          "sausage",
          "beef"
         ]
        ],
        [
         1894,
         [
          "curd"
         ],
         [
          "whole milk"
         ]
        ],
        [
         1895,
         [
          "other vegetables",
          "whole milk",
          "frozen potato products",
          "rolls/buns"
         ],
         [
          "citrus fruit",
          "chicken",
          "pip fruit",
          "frankfurter",
          "tropical fruit",
          "root vegetables",
          "pork",
          "hamburger meat",
          "yogurt",
          "sausage",
          "beef",
          "soda",
          "bottled water",
          "whipped/sour cream",
          "butter",
          "curd",
          "pastry"
         ]
        ],
        [
         1900,
         [
          "margarine"
         ],
         []
        ],
        [
         1904,
         [
          "pork",
          "tropical fruit",
          "whole milk",
          "rolls/buns"
         ],
         [
          "other vegetables",
          "soda",
          "yogurt",
          "sausage",
          "citrus fruit",
          "pip fruit",
          "root vegetables",
          "chicken",
          "bottled water",
          "whipped/sour cream",
          "frankfurter",
          "butter",
          "curd",
          "pastry",
          "beef"
         ]
        ],
        [
         1918,
         [
          "whole milk",
          "curd",
          "yogurt",
          "frozen vegetables"
         ],
         [
          "citrus fruit",
          "rolls/buns",
          "other vegetables",
          "tropical fruit",
          "chicken",
          "pip fruit",
          "bottled water",
          "whipped/sour cream",
          "frankfurter",
          "butter",
          "root vegetables",
          "pork",
          "pastry",
          "sausage",
          "beef"
         ]
        ],
        [
         1921,
         [
          "ham",
          "beef",
          "tropical fruit",
          "pip fruit"
         ],
         [
          "citrus fruit",
          "other vegetables",
          "whole milk",
          "root vegetables",
          "yogurt",
          "sausage"
         ]
        ],
        [
         1927,
         [
          "beverages",
          "rolls/buns",
          "long life bakery product",
          "shopping bags"
         ],
         [
          "other vegetables",
          "whole milk",
          "soda",
          "yogurt",
          "sausage"
         ]
        ],
        [
         1930,
         [
          "butter",
          "pastry",
          "semi-finished bread",
          "white wine"
         ],
         [
          "whole milk"
         ]
        ],
        [
         1932,
         [
          "sausage",
          "ham",
          "meat",
          "pork"
         ],
         [
          "citrus fruit",
          "pip fruit",
          "rolls/buns",
          "root vegetables",
          "other vegetables",
          "tropical fruit",
          "whole milk"
         ]
        ],
        [
         1933,
         [
          "ham",
          "whole milk",
          "spread cheese",
          "rolls/buns"
         ],
         [
          "other vegetables",
          "soda",
          "yogurt",
          "sausage",
          "citrus fruit",
          "chicken",
          "pip fruit",
          "bottled water",
          "whipped/sour cream",
          "frankfurter",
          "butter",
          "tropical fruit",
          "curd",
          "root vegetables",
          "pork",
          "pastry",
          "beef"
         ]
        ],
        [
         1934,
         [
          "soda",
          "canned beer"
         ],
         [
          "rolls/buns"
         ]
        ],
        [
         1939,
         [
          "root vegetables"
         ],
         [
          "citrus fruit",
          "pip fruit",
          "other vegetables",
          "tropical fruit",
          "whole milk",
          "pork",
          "sausage",
          "beef"
         ]
        ],
        [
         1947,
         [
          "whole milk",
          "whipped/sour cream"
         ],
         [
          "citrus fruit",
          "chicken",
          "other vegetables",
          "pip fruit",
          "rolls/buns",
          "bottled water",
          "frankfurter",
          "butter",
          "tropical fruit",
          "curd",
          "root vegetables",
          "pork",
          "pastry",
          "yogurt",
          "sausage",
          "beef"
         ]
        ],
        [
         1952,
         [
          "root vegetables",
          "whole milk",
          "yogurt"
         ],
         [
          "citrus fruit",
          "rolls/buns",
          "other vegetables",
          "tropical fruit",
          "chicken",
          "pip fruit",
          "bottled water",
          "whipped/sour cream",
          "frankfurter",
          "butter",
          "curd",
          "pork",
          "pastry",
          "sausage",
          "beef"
         ]
        ],
        [
         1955,
         [
          "sweet spreads",
          "coffee",
          "chocolate",
          "seasonal products"
         ],
         []
        ],
        [
         1957,
         [
          "frozen vegetables",
          "frozen meals"
         ],
         []
        ],
        [
         1958,
         [
          "bottled water",
          "specialty chocolate"
         ],
         [
          "whole milk"
         ]
        ],
        [
         1965,
         [
          "citrus fruit",
          "pip fruit",
          "other vegetables",
          "whole milk"
         ],
         [
          "chicken",
          "rolls/buns",
          "frankfurter",
          "tropical fruit",
          "root vegetables",
          "pork",
          "hamburger meat",
          "yogurt",
          "sausage",
          "beef",
          "bottled water",
          "whipped/sour cream",
          "butter",
          "curd",
          "pastry"
         ]
        ],
        [
         1973,
         [
          "onions",
          "rolls/buns"
         ],
         [
          "other vegetables",
          "whole milk",
          "soda",
          "yogurt",
          "sausage"
         ]
        ],
        [
         1974,
         [
          "ice cream",
          "soda",
          "fruit/vegetable juice"
         ],
         [
          "rolls/buns"
         ]
        ],
        [
         1975,
         [
          "herbs"
         ],
         []
        ],
        [
         1983,
         [
          "canned beer"
         ],
         []
        ],
        [
         1984,
         [
          "cat food",
          "chocolate",
          "specialty chocolate"
         ],
         []
        ],
        [
         1985,
         [
          "whipped/sour cream"
         ],
         [
          "whole milk"
         ]
        ],
        [
         1987,
         [
          "berries",
          "other vegetables",
          "yogurt"
         ],
         [
          "citrus fruit",
          "chicken",
          "whole milk",
          "pip fruit",
          "rolls/buns",
          "frankfurter",
          "tropical fruit",
          "root vegetables",
          "pork",
          "hamburger meat",
          "sausage",
          "beef"
         ]
        ],
        [
         1995,
         [
          "bottled beer",
          "shopping bags"
         ],
         []
        ],
        [
         2002,
         [
          "other vegetables",
          "pastry"
         ],
         [
          "citrus fruit",
          "chicken",
          "whole milk",
          "pip fruit",
          "rolls/buns",
          "frankfurter",
          "tropical fruit",
          "root vegetables",
          "pork",
          "hamburger meat",
          "yogurt",
          "sausage",
          "beef"
         ]
        ],
        [
         2008,
         [
          "citrus fruit",
          "tropical fruit",
          "whole milk",
          "domestic eggs"
         ],
         [
          "pip fruit",
          "other vegetables",
          "root vegetables",
          "yogurt",
          "sausage",
          "chicken",
          "rolls/buns",
          "bottled water",
          "whipped/sour cream",
          "frankfurter",
          "butter",
          "curd",
          "pork",
          "pastry",
          "beef"
         ]
        ],
        [
         2011,
         [
          "whole milk"
         ],
         [
          "citrus fruit",
          "chicken",
          "other vegetables",
          "pip fruit",
          "rolls/buns",
          "bottled water",
          "whipped/sour cream",
          "frankfurter",
          "butter",
          "tropical fruit",
          "curd",
          "root vegetables",
          "pork",
          "pastry",
          "yogurt",
          "sausage",
          "beef"
         ]
        ],
        [
         2018,
         [
          "pip fruit",
          "vinegar",
          "bottled water",
          "shopping bags"
         ],
         [
          "whole milk",
          "citrus fruit",
          "root vegetables",
          "sausage",
          "other vegetables",
          "tropical fruit"
         ]
        ],
        [
         2022,
         [
          "mustard",
          "soda",
          "fruit/vegetable juice"
         ],
         [
          "rolls/buns"
         ]
        ],
        [
         2031,
         [
          "bottled beer"
         ],
         []
        ],
        [
         2032,
         [
          "beef",
          "grapes",
          "fruit/vegetable juice"
         ],
         [
          "root vegetables",
          "other vegetables",
          "whole milk"
         ]
        ],
        [
         2033,
         [
          "pip fruit",
          "sugar"
         ],
         [
          "citrus fruit",
          "root vegetables",
          "sausage",
          "other vegetables",
          "tropical fruit",
          "whole milk"
         ]
        ],
        [
         2039,
         [
          "whole milk",
          "pastry",
          "fruit/vegetable juice",
          "canned beer"
         ],
         [
          "citrus fruit",
          "chicken",
          "other vegetables",
          "pip fruit",
          "rolls/buns",
          "bottled water",
          "whipped/sour cream",
          "frankfurter",
          "butter",
          "tropical fruit",
          "curd",
          "root vegetables",
          "pork",
          "yogurt",
          "sausage",
          "beef"
         ]
        ],
        [
         2042,
         [
          "whole milk",
          "cream cheese",
          "oil",
          "bottled water"
         ],
         [
          "citrus fruit",
          "chicken",
          "other vegetables",
          "pip fruit",
          "rolls/buns",
          "whipped/sour cream",
          "frankfurter",
          "butter",
          "tropical fruit",
          "curd",
          "root vegetables",
          "pork",
          "pastry",
          "yogurt",
          "sausage",
          "beef"
         ]
        ],
        [
         2044,
         [
          "butter milk",
          "specialty chocolate"
         ],
         []
        ],
        [
         2047,
         [
          "whole milk",
          "ice cream",
          "pastry",
          "coffee"
         ],
         [
          "citrus fruit",
          "chicken",
          "other vegetables",
          "pip fruit",
          "rolls/buns",
          "bottled water",
          "whipped/sour cream",
          "frankfurter",
          "butter",
          "tropical fruit",
          "curd",
          "root vegetables",
          "pork",
          "yogurt",
          "sausage",
          "beef"
         ]
        ],
        [
         2048,
         [
          "canned beer",
          "liquor"
         ],
         []
        ],
        [
         2049,
         [
          "salty snack"
         ],
         []
        ],
        [
         2056,
         [
          "domestic eggs",
          "cat food",
          "bottled water"
         ],
         [
          "whole milk"
         ]
        ],
        [
         2066,
         [
          "berries",
          "chewing gum",
          "seasonal products",
          "newspapers"
         ],
         []
        ],
        [
         2068,
         [
          "chicken",
          "canned beer",
          "shopping bags"
         ],
         [
          "other vegetables",
          "whole milk"
         ]
        ],
        [
         2070,
         [
          "whole milk",
          "specialty fat",
          "soda"
         ],
         [
          "citrus fruit",
          "chicken",
          "other vegetables",
          "pip fruit",
          "rolls/buns",
          "bottled water",
          "whipped/sour cream",
          "frankfurter",
          "butter",
          "tropical fruit",
          "curd",
          "root vegetables",
          "pork",
          "pastry",
          "yogurt",
          "sausage",
          "beef"
         ]
        ],
        [
         2071,
         [
          "pork",
          "tropical fruit",
          "berries",
          "whole milk"
         ],
         [
          "citrus fruit",
          "pip fruit",
          "other vegetables",
          "root vegetables",
          "yogurt",
          "sausage",
          "chicken",
          "rolls/buns",
          "bottled water",
          "whipped/sour cream",
          "frankfurter",
          "butter",
          "curd",
          "pastry",
          "beef"
         ]
        ],
        [
         2077,
         [
          "fish",
          "brown bread",
          "pet care",
          "napkins"
         ],
         []
        ],
        [
         2080,
         [
          "whole milk",
          "yogurt",
          "spread cheese",
          "semi-finished bread"
         ],
         [
          "citrus fruit",
          "rolls/buns",
          "other vegetables",
          "tropical fruit",
          "chicken",
          "pip fruit",
          "bottled water",
          "whipped/sour cream",
          "frankfurter",
          "butter",
          "curd",
          "root vegetables",
          "pork",
          "pastry",
          "sausage",
          "beef"
         ]
        ],
        [
         2082,
         [
          "whole milk",
          "brown bread"
         ],
         [
          "citrus fruit",
          "chicken",
          "other vegetables",
          "pip fruit",
          "rolls/buns",
          "bottled water",
          "whipped/sour cream",
          "frankfurter",
          "butter",
          "tropical fruit",
          "curd",
          "root vegetables",
          "pork",
          "pastry",
          "yogurt",
          "sausage",
          "beef"
         ]
        ],
        [
         2107,
         [
          "tropical fruit",
          "other vegetables",
          "whole milk",
          "frozen vegetables"
         ],
         [
          "citrus fruit",
          "chicken",
          "pip fruit",
          "rolls/buns",
          "frankfurter",
          "root vegetables",
          "pork",
          "hamburger meat",
          "yogurt",
          "sausage",
          "beef",
          "bottled water",
          "whipped/sour cream",
          "butter",
          "curd",
          "pastry"
         ]
        ],
        [
         2114,
         [
          "frankfurter",
          "pip fruit",
          "newspapers"
         ],
         [
          "other vegetables",
          "whole milk",
          "citrus fruit",
          "root vegetables",
          "sausage",
          "tropical fruit"
         ]
        ],
        [
         2118,
         [
          "rolls/buns",
          "bottled beer"
         ],
         [
          "other vegetables",
          "whole milk",
          "soda",
          "yogurt",
          "sausage"
         ]
        ],
        [
         2119,
         [
          "rolls/buns",
          "white bread",
          "dish cleaner",
          "shopping bags"
         ],
         [
          "other vegetables",
          "whole milk",
          "soda",
          "yogurt",
          "sausage"
         ]
        ],
        [
         2124,
         [
          "citrus fruit",
          "pip fruit"
         ],
         [
          "root vegetables",
          "sausage",
          "other vegetables",
          "tropical fruit",
          "yogurt",
          "whole milk"
         ]
        ],
        [
         2127,
         [
          "soda"
         ],
         [
          "rolls/buns"
         ]
        ],
        [
         2129,
         [
          "root vegetables"
         ],
         [
          "citrus fruit",
          "pip fruit",
          "other vegetables",
          "tropical fruit",
          "whole milk",
          "pork",
          "sausage",
          "beef"
         ]
        ],
        [
         2133,
         [
          "citrus fruit",
          "whole milk",
          "whipped/sour cream",
          "rolls/buns"
         ],
         [
          "other vegetables",
          "soda",
          "yogurt",
          "sausage",
          "root vegetables",
          "tropical fruit",
          "pip fruit",
          "chicken",
          "bottled water",
          "frankfurter",
          "butter",
          "curd",
          "pork",
          "pastry",
          "beef"
         ]
        ],
        [
         2134,
         [
          "frankfurter",
          "beef",
          "other vegetables",
          "rolls/buns"
         ],
         [
          "citrus fruit",
          "chicken",
          "whole milk",
          "pip fruit",
          "tropical fruit",
          "root vegetables",
          "pork",
          "hamburger meat",
          "yogurt",
          "sausage",
          "soda"
         ]
        ],
        [
         2138,
         [
          "pork",
          "beef",
          "other vegetables",
          "hard cheese"
         ],
         [
          "citrus fruit",
          "chicken",
          "whole milk",
          "pip fruit",
          "rolls/buns",
          "frankfurter",
          "tropical fruit",
          "root vegetables",
          "hamburger meat",
          "yogurt",
          "sausage"
         ]
        ],
        [
         2143,
         [
          "liver loaf",
          "whole milk",
          "yogurt"
         ],
         [
          "citrus fruit",
          "rolls/buns",
          "other vegetables",
          "tropical fruit",
          "chicken",
          "pip fruit",
          "bottled water",
          "whipped/sour cream",
          "frankfurter",
          "butter",
          "curd",
          "root vegetables",
          "pork",
          "pastry",
          "sausage",
          "beef"
         ]
        ],
        [
         2148,
         [
          "onions",
          "whole milk",
          "curd",
          "yogurt"
         ],
         [
          "citrus fruit",
          "rolls/buns",
          "other vegetables",
          "tropical fruit",
          "chicken",
          "pip fruit",
          "bottled water",
          "whipped/sour cream",
          "frankfurter",
          "butter",
          "root vegetables",
          "pork",
          "pastry",
          "sausage",
          "beef"
         ]
        ],
        [
         2150,
         [
          "soda",
          "bottled beer"
         ],
         [
          "rolls/buns"
         ]
        ],
        [
         2151,
         [
          "chicken",
          "citrus fruit",
          "yogurt",
          "UHT-milk"
         ],
         [
          "rolls/buns",
          "other vegetables",
          "tropical fruit",
          "whole milk",
          "root vegetables",
          "sausage",
          "pip fruit"
         ]
        ],
        [
         2156,
         [
          "whole milk",
          "soda",
          "canned beer",
          "liquor (appetizer)"
         ],
         [
          "citrus fruit",
          "chicken",
          "other vegetables",
          "pip fruit",
          "rolls/buns",
          "bottled water",
          "whipped/sour cream",
          "frankfurter",
          "butter",
          "tropical fruit",
          "curd",
          "root vegetables",
          "pork",
          "pastry",
          "yogurt",
          "sausage",
          "beef"
         ]
        ],
        [
         2159,
         [
          "onions",
          "spread cheese"
         ],
         []
        ],
        [
         2162,
         [
          "pastry"
         ],
         [
          "whole milk"
         ]
        ],
        [
         2163,
         [
          "hamburger meat",
          "semi-finished bread",
          "Instant food products"
         ],
         [
          "other vegetables"
         ]
        ],
        [
         2164,
         [
          "frankfurter"
         ],
         [
          "other vegetables",
          "whole milk"
         ]
        ],
        [
         2166,
         [
          "butter"
         ],
         [
          "whole milk"
         ]
        ],
        [
         2172,
         [
          "whole milk"
         ],
         [
          "citrus fruit",
          "chicken",
          "other vegetables",
          "pip fruit",
          "rolls/buns",
          "bottled water",
          "whipped/sour cream",
          "frankfurter",
          "butter",
          "tropical fruit",
          "curd",
          "root vegetables",
          "pork",
          "pastry",
          "yogurt",
          "sausage",
          "beef"
         ]
        ],
        [
         2174,
         [
          "frankfurter",
          "frozen potato products"
         ],
         [
          "other vegetables",
          "whole milk"
         ]
        ],
        [
         2175,
         [
          "sausage",
          "beef",
          "citrus fruit",
          "sweet spreads"
         ],
         [
          "pip fruit",
          "rolls/buns",
          "root vegetables",
          "other vegetables",
          "tropical fruit",
          "whole milk",
          "yogurt"
         ]
        ],
        [
         2176,
         [
          "other vegetables",
          "bottled beer"
         ],
         [
          "citrus fruit",
          "chicken",
          "whole milk",
          "pip fruit",
          "rolls/buns",
          "frankfurter",
          "tropical fruit",
          "root vegetables",
          "pork",
          "hamburger meat",
          "yogurt",
          "sausage",
          "beef"
         ]
        ],
        [
         2183,
         [
          "frankfurter",
          "sausage",
          "other vegetables",
          "hard cheese"
         ],
         [
          "citrus fruit",
          "chicken",
          "whole milk",
          "pip fruit",
          "rolls/buns",
          "tropical fruit",
          "root vegetables",
          "pork",
          "hamburger meat",
          "yogurt",
          "beef"
         ]
        ],
        [
         2184,
         [
          "rolls/buns",
          "rum"
         ],
         [
          "other vegetables",
          "whole milk",
          "soda",
          "yogurt",
          "sausage"
         ]
        ],
        [
         2186,
         [
          "tropical fruit",
          "cream cheese",
          "chocolate"
         ],
         [
          "citrus fruit",
          "pip fruit",
          "other vegetables",
          "whole milk",
          "root vegetables",
          "yogurt",
          "sausage"
         ]
        ],
        [
         2195,
         [
          "domestic eggs",
          "rolls/buns"
         ],
         [
          "other vegetables",
          "whole milk",
          "soda",
          "yogurt",
          "sausage"
         ]
        ],
        [
         2203,
         [
          "root vegetables",
          "herbs",
          "frozen vegetables",
          "bottled water"
         ],
         [
          "whole milk",
          "citrus fruit",
          "pip fruit",
          "other vegetables",
          "tropical fruit",
          "pork",
          "sausage",
          "beef"
         ]
        ],
        [
         2209,
         [
          "dessert",
          "rolls/buns",
          "bottled water",
          "specialty bar"
         ],
         [
          "other vegetables",
          "whole milk",
          "soda",
          "yogurt",
          "sausage"
         ]
        ],
        [
         2214,
         [
          "brown bread",
          "fruit/vegetable juice",
          "newspapers",
          "shopping bags"
         ],
         []
        ],
        [
         2217,
         [
          "pork",
          "root vegetables",
          "onions",
          "other vegetables"
         ],
         [
          "citrus fruit",
          "chicken",
          "whole milk",
          "pip fruit",
          "rolls/buns",
          "frankfurter",
          "tropical fruit",
          "hamburger meat",
          "yogurt",
          "sausage",
          "beef"
         ]
        ],
        [
         2229,
         [
          "pork",
          "root vegetables",
          "sliced cheese",
          "frozen vegetables"
         ],
         [
          "citrus fruit",
          "pip fruit",
          "other vegetables",
          "tropical fruit",
          "whole milk",
          "sausage",
          "beef"
         ]
        ],
        [
         2230,
         [
          "pip fruit",
          "onions",
          "whole milk"
         ],
         [
          "citrus fruit",
          "chicken",
          "other vegetables",
          "rolls/buns",
          "bottled water",
          "whipped/sour cream",
          "frankfurter",
          "butter",
          "tropical fruit",
          "curd",
          "root vegetables",
          "pork",
          "pastry",
          "yogurt",
          "sausage",
          "beef"
         ]
        ],
        [
         2237,
         [
          "salty snack"
         ],
         []
        ],
        [
         2239,
         [
          "pork",
          "hamburger meat",
          "herbs",
          "yogurt"
         ],
         [
          "citrus fruit",
          "rolls/buns",
          "other vegetables",
          "tropical fruit",
          "whole milk",
          "root vegetables"
         ]
        ],
        [
         2255,
         [
          "tropical fruit",
          "other vegetables",
          "whole milk",
          "fruit/vegetable juice"
         ],
         [
          "citrus fruit",
          "chicken",
          "pip fruit",
          "rolls/buns",
          "frankfurter",
          "root vegetables",
          "pork",
          "hamburger meat",
          "yogurt",
          "sausage",
          "beef",
          "bottled water",
          "whipped/sour cream",
          "butter",
          "curd",
          "pastry"
         ]
        ],
        [
         2260,
         [
          "soda",
          "chocolate",
          "specialty chocolate"
         ],
         [
          "rolls/buns"
         ]
        ],
        [
         2265,
         [
          "pork",
          "cat food"
         ],
         [
          "root vegetables",
          "other vegetables",
          "whole milk"
         ]
        ],
        [
         2268,
         [
          "citrus fruit",
          "pip fruit"
         ],
         [
          "root vegetables",
          "sausage",
          "other vegetables",
          "tropical fruit",
          "yogurt",
          "whole milk"
         ]
        ],
        [
         2270,
         [
          "frankfurter",
          "other vegetables",
          "yogurt",
          "beverages"
         ],
         [
          "citrus fruit",
          "chicken",
          "whole milk",
          "pip fruit",
          "rolls/buns",
          "tropical fruit",
          "root vegetables",
          "pork",
          "hamburger meat",
          "sausage",
          "beef"
         ]
        ],
        [
         2274,
         [
          "dish cleaner",
          "napkins"
         ],
         []
        ],
        [
         2289,
         [
          "whole milk",
          "butter milk",
          "yogurt"
         ],
         [
          "citrus fruit",
          "rolls/buns",
          "other vegetables",
          "tropical fruit",
          "chicken",
          "pip fruit",
          "bottled water",
          "whipped/sour cream",
          "frankfurter",
          "butter",
          "curd",
          "root vegetables",
          "pork",
          "pastry",
          "sausage",
          "beef"
         ]
        ],
        [
         2295,
         [
          "butter",
          "sliced cheese",
          "misc. beverages",
          "fruit/vegetable juice"
         ],
         [
          "whole milk"
         ]
        ],
        [
         2296,
         [
          "beverages",
          "waffles"
         ],
         []
        ],
        [
         2310,
         [
          "beverages"
         ],
         []
        ],
        [
         2313,
         [
          "other vegetables"
         ],
         [
          "citrus fruit",
          "chicken",
          "whole milk",
          "pip fruit",
          "rolls/buns",
          "frankfurter",
          "tropical fruit",
          "root vegetables",
          "pork",
          "hamburger meat",
          "yogurt",
          "sausage",
          "beef"
         ]
        ],
        [
         2321,
         [
          "canned beer"
         ],
         []
        ],
        [
         2328,
         [
          "whole milk",
          "beverages",
          "bottled water",
          "cake bar"
         ],
         [
          "citrus fruit",
          "chicken",
          "other vegetables",
          "pip fruit",
          "rolls/buns",
          "whipped/sour cream",
          "frankfurter",
          "butter",
          "tropical fruit",
          "curd",
          "root vegetables",
          "pork",
          "pastry",
          "yogurt",
          "sausage",
          "beef"
         ]
        ],
        [
         2331,
         [
          "hygiene articles"
         ],
         []
        ],
        [
         2333,
         [
          "meat",
          "beef",
          "root vegetables",
          "butter"
         ],
         [
          "other vegetables",
          "whole milk",
          "citrus fruit",
          "pip fruit",
          "tropical fruit",
          "pork",
          "sausage"
         ]
        ],
        [
         2337,
         [
          "hamburger meat",
          "yogurt",
          "rolls/buns",
          "artif. sweetener"
         ],
         [
          "citrus fruit",
          "other vegetables",
          "tropical fruit",
          "whole milk",
          "soda",
          "sausage"
         ]
        ],
        [
         2339,
         [
          "instant coffee"
         ],
         []
        ],
        [
         2342,
         [
          "pork",
          "beverages",
          "flour",
          "margarine"
         ],
         [
          "root vegetables",
          "other vegetables",
          "whole milk"
         ]
        ],
        [
         2343,
         [
          "tropical fruit",
          "berries",
          "root vegetables",
          "whole milk"
         ],
         [
          "citrus fruit",
          "pip fruit",
          "other vegetables",
          "yogurt",
          "sausage",
          "chicken",
          "rolls/buns",
          "bottled water",
          "whipped/sour cream",
          "frankfurter",
          "butter",
          "curd",
          "pork",
          "pastry",
          "beef"
         ]
        ],
        [
         2345,
         [
          "frankfurter",
          "meat",
          "berries",
          "root vegetables"
         ],
         [
          "other vegetables",
          "whole milk",
          "citrus fruit",
          "pip fruit",
          "tropical fruit",
          "pork",
          "sausage",
          "beef"
         ]
        ],
        [
         2347,
         [
          "pip fruit",
          "rolls/buns",
          "sugar",
          "sauces"
         ],
         [
          "other vegetables",
          "whole milk",
          "soda",
          "yogurt",
          "sausage",
          "citrus fruit",
          "root vegetables",
          "tropical fruit"
         ]
        ],
        [
         2348,
         [
          "pip fruit",
          "root vegetables",
          "other vegetables",
          "whole milk"
         ],
         [
          "citrus fruit",
          "chicken",
          "rolls/buns",
          "frankfurter",
          "tropical fruit",
          "pork",
          "hamburger meat",
          "yogurt",
          "sausage",
          "beef",
          "bottled water",
          "whipped/sour cream",
          "butter",
          "curd",
          "pastry"
         ]
        ],
        [
         2350,
         [
          "sausage",
          "pip fruit",
          "bottled water"
         ],
         [
          "whole milk",
          "citrus fruit",
          "rolls/buns",
          "root vegetables",
          "other vegetables",
          "tropical fruit"
         ]
        ],
        [
         2354,
         [
          "domestic eggs",
          "dish cleaner",
          "hygiene articles"
         ],
         []
        ],
        [
         2361,
         [
          "sausage",
          "rolls/buns",
          "shopping bags"
         ],
         [
          "other vegetables",
          "whole milk",
          "soda",
          "yogurt",
          "citrus fruit",
          "pip fruit",
          "root vegetables",
          "tropical fruit"
         ]
        ],
        [
         2362,
         [
          "pastry",
          "candles"
         ],
         [
          "whole milk"
         ]
        ],
        [
         2365,
         [
          "whole milk",
          "yogurt",
          "whipped/sour cream",
          "sugar"
         ],
         [
          "citrus fruit",
          "rolls/buns",
          "other vegetables",
          "tropical fruit",
          "chicken",
          "pip fruit",
          "bottled water",
          "frankfurter",
          "butter",
          "curd",
          "root vegetables",
          "pork",
          "pastry",
          "sausage",
          "beef"
         ]
        ],
        [
         2379,
         [
          "frankfurter",
          "butter",
          "rolls/buns",
          "semi-finished bread"
         ],
         [
          "other vegetables",
          "whole milk",
          "soda",
          "yogurt",
          "sausage"
         ]
        ],
        [
         2380,
         [
          "rolls/buns",
          "pastry",
          "soda"
         ],
         [
          "whole milk",
          "other vegetables",
          "yogurt",
          "sausage"
         ]
        ],
        [
         2383,
         [
          "UHT-milk",
          "margarine",
          "bottled water",
          "soda"
         ],
         [
          "whole milk",
          "rolls/buns"
         ]
        ],
        [
         2386,
         [
          "processed cheese"
         ],
         []
        ],
        [
         2392,
         [
          "tropical fruit",
          "butter",
          "brown bread"
         ],
         [
          "citrus fruit",
          "pip fruit",
          "other vegetables",
          "whole milk",
          "root vegetables",
          "yogurt",
          "sausage"
         ]
        ],
        [
         2394,
         [
          "sausage"
         ],
         [
          "citrus fruit",
          "pip fruit",
          "rolls/buns",
          "root vegetables",
          "other vegetables",
          "tropical fruit",
          "whole milk"
         ]
        ],
        [
         2398,
         [
          "sausage"
         ],
         [
          "citrus fruit",
          "pip fruit",
          "rolls/buns",
          "root vegetables",
          "other vegetables",
          "tropical fruit",
          "whole milk"
         ]
        ],
        [
         2399,
         [
          "pastry",
          "fruit/vegetable juice"
         ],
         [
          "whole milk"
         ]
        ],
        [
         2404,
         [
          "ham",
          "beef",
          "citrus fruit",
          "tropical fruit"
         ],
         [
          "pip fruit",
          "other vegetables",
          "whole milk",
          "root vegetables",
          "yogurt",
          "sausage"
         ]
        ],
        [
         2408,
         [
          "other vegetables"
         ],
         [
          "citrus fruit",
          "chicken",
          "whole milk",
          "pip fruit",
          "rolls/buns",
          "frankfurter",
          "tropical fruit",
          "root vegetables",
          "pork",
          "hamburger meat",
          "yogurt",
          "sausage",
          "beef"
         ]
        ],
        [
         2409,
         [
          "onions",
          "whole milk",
          "butter",
          "frozen fish"
         ],
         [
          "citrus fruit",
          "chicken",
          "other vegetables",
          "pip fruit",
          "rolls/buns",
          "bottled water",
          "whipped/sour cream",
          "frankfurter",
          "tropical fruit",
          "curd",
          "root vegetables",
          "pork",
          "pastry",
          "yogurt",
          "sausage",
          "beef"
         ]
        ],
        [
         2410,
         [
          "tropical fruit",
          "rolls/buns",
          "bottled water"
         ],
         [
          "other vegetables",
          "whole milk",
          "soda",
          "yogurt",
          "sausage",
          "citrus fruit",
          "pip fruit",
          "root vegetables"
         ]
        ],
        [
         2420,
         [
          "rolls/buns"
         ],
         [
          "other vegetables",
          "whole milk",
          "soda",
          "yogurt",
          "sausage"
         ]
        ],
        [
         2427,
         [
          "sausage",
          "citrus fruit",
          "other vegetables",
          "yogurt"
         ],
         [
          "chicken",
          "whole milk",
          "pip fruit",
          "rolls/buns",
          "frankfurter",
          "tropical fruit",
          "root vegetables",
          "pork",
          "hamburger meat",
          "beef"
         ]
        ],
        [
         2435,
         [
          "citrus fruit",
          "tropical fruit",
          "other vegetables",
          "whole milk"
         ],
         [
          "chicken",
          "pip fruit",
          "rolls/buns",
          "frankfurter",
          "root vegetables",
          "pork",
          "hamburger meat",
          "yogurt",
          "sausage",
          "beef",
          "bottled water",
          "whipped/sour cream",
          "butter",
          "curd",
          "pastry"
         ]
        ],
        [
         2436,
         [
          "pip fruit",
          "root vegetables",
          "butter milk",
          "frozen vegetables"
         ],
         [
          "citrus fruit",
          "sausage",
          "other vegetables",
          "tropical fruit",
          "whole milk",
          "pork",
          "beef"
         ]
        ],
        [
         2439,
         [
          "shopping bags"
         ],
         []
        ],
        [
         2443,
         [
          "soda",
          "hygiene articles",
          "napkins"
         ],
         [
          "rolls/buns"
         ]
        ],
        [
         2446,
         [
          "sausage"
         ],
         [
          "citrus fruit",
          "pip fruit",
          "rolls/buns",
          "root vegetables",
          "other vegetables",
          "tropical fruit",
          "whole milk"
         ]
        ],
        [
         2450,
         [
          "yogurt",
          "pastry",
          "canned beer",
          "red/blush wine"
         ],
         [
          "whole milk",
          "citrus fruit",
          "rolls/buns",
          "other vegetables",
          "tropical fruit"
         ]
        ],
        [
         2454,
         [
          "frankfurter",
          "pip fruit",
          "other vegetables",
          "whole milk"
         ],
         [
          "citrus fruit",
          "chicken",
          "rolls/buns",
          "tropical fruit",
          "root vegetables",
          "pork",
          "hamburger meat",
          "yogurt",
          "sausage",
          "beef",
          "bottled water",
          "whipped/sour cream",
          "butter",
          "curd",
          "pastry"
         ]
        ],
        [
         2457,
         [
          "chicken",
          "soda",
          "canned beer",
          "liquor (appetizer)"
         ],
         [
          "other vegetables",
          "whole milk",
          "rolls/buns"
         ]
        ],
        [
         2460,
         [
          "whipped/sour cream",
          "candy"
         ],
         [
          "whole milk"
         ]
        ],
        [
         2465,
         [
          "citrus fruit",
          "tropical fruit",
          "whipped/sour cream",
          "rolls/buns"
         ],
         [
          "whole milk",
          "other vegetables",
          "soda",
          "yogurt",
          "sausage",
          "pip fruit",
          "root vegetables"
         ]
        ],
        [
         2474,
         [
          "butter",
          "oil",
          "cling film/bags"
         ],
         [
          "whole milk"
         ]
        ],
        [
         2479,
         [
          "whole milk",
          "yogurt",
          "pastry",
          "soda"
         ],
         [
          "citrus fruit",
          "rolls/buns",
          "other vegetables",
          "tropical fruit",
          "chicken",
          "pip fruit",
          "bottled water",
          "whipped/sour cream",
          "frankfurter",
          "butter",
          "curd",
          "root vegetables",
          "pork",
          "sausage",
          "beef"
         ]
        ],
        [
         2482,
         [
          "whipped/sour cream",
          "sliced cheese",
          "frozen dessert",
          "hygiene articles"
         ],
         [
          "whole milk"
         ]
        ],
        [
         2483,
         [
          "yogurt",
          "frozen fish",
          "ice cream"
         ],
         [
          "citrus fruit",
          "rolls/buns",
          "other vegetables",
          "tropical fruit",
          "whole milk"
         ]
        ],
        [
         2484,
         [
          "butter milk",
          "tea",
          "fruit/vegetable juice",
          "bottled beer"
         ],
         []
        ],
        [
         2492,
         [
          "other vegetables",
          "oil"
         ],
         [
          "citrus fruit",
          "chicken",
          "whole milk",
          "pip fruit",
          "rolls/buns",
          "frankfurter",
          "tropical fruit",
          "root vegetables",
          "pork",
          "hamburger meat",
          "yogurt",
          "sausage",
          "beef"
         ]
        ],
        [
         2495,
         [
          "sausage"
         ],
         [
          "citrus fruit",
          "pip fruit",
          "rolls/buns",
          "root vegetables",
          "other vegetables",
          "tropical fruit",
          "whole milk"
         ]
        ],
        [
         2499,
         [
          "root vegetables",
          "yogurt",
          "beverages",
          "flour"
         ],
         [
          "citrus fruit",
          "rolls/buns",
          "other vegetables",
          "tropical fruit",
          "whole milk",
          "pip fruit",
          "pork",
          "sausage",
          "beef"
         ]
        ],
        [
         2501,
         [
          "sausage",
          "beef",
          "hamburger meat",
          "yogurt"
         ],
         [
          "citrus fruit",
          "rolls/buns",
          "other vegetables",
          "tropical fruit",
          "whole milk",
          "pip fruit",
          "root vegetables"
         ]
        ],
        [
         2508,
         [
          "UHT-milk",
          "domestic eggs",
          "sugar",
          "fruit/vegetable juice"
         ],
         []
        ],
        [
         2516,
         [
          "frankfurter",
          "other vegetables",
          "whole milk",
          "yogurt"
         ],
         [
          "citrus fruit",
          "chicken",
          "pip fruit",
          "rolls/buns",
          "tropical fruit",
          "root vegetables",
          "pork",
          "hamburger meat",
          "sausage",
          "beef",
          "bottled water",
          "whipped/sour cream",
          "butter",
          "curd",
          "pastry"
         ]
        ],
        [
         2517,
         [
          "bottled beer"
         ],
         []
        ],
        [
         2522,
         [
          "meat",
          "beef",
          "onions",
          "white wine"
         ],
         [
          "root vegetables",
          "other vegetables",
          "whole milk"
         ]
        ],
        [
         2528,
         [
          "meat",
          "other vegetables"
         ],
         [
          "citrus fruit",
          "chicken",
          "whole milk",
          "pip fruit",
          "rolls/buns",
          "frankfurter",
          "tropical fruit",
          "root vegetables",
          "pork",
          "hamburger meat",
          "yogurt",
          "sausage",
          "beef"
         ]
        ],
        [
         2533,
         [
          "long life bakery product"
         ],
         []
        ],
        [
         2536,
         [
          "bottled beer"
         ],
         []
        ],
        [
         2537,
         [
          "pork",
          "tropical fruit",
          "root vegetables",
          "onions"
         ],
         [
          "citrus fruit",
          "pip fruit",
          "other vegetables",
          "whole milk",
          "yogurt",
          "sausage",
          "beef"
         ]
        ],
        [
         2539,
         [
          "whole milk",
          "domestic eggs",
          "brown bread",
          "photo/film"
         ],
         [
          "citrus fruit",
          "chicken",
          "other vegetables",
          "pip fruit",
          "rolls/buns",
          "bottled water",
          "whipped/sour cream",
          "frankfurter",
          "butter",
          "tropical fruit",
          "curd",
          "root vegetables",
          "pork",
          "pastry",
          "yogurt",
          "sausage",
          "beef"
         ]
        ],
        [
         2542,
         [
          "pip fruit",
          "other vegetables",
          "whole milk",
          "yogurt"
         ],
         [
          "citrus fruit",
          "chicken",
          "rolls/buns",
          "frankfurter",
          "tropical fruit",
          "root vegetables",
          "pork",
          "hamburger meat",
          "sausage",
          "beef",
          "bottled water",
          "whipped/sour cream",
          "butter",
          "curd",
          "pastry"
         ]
        ],
        [
         2544,
         [
          "whole milk",
          "newspapers"
         ],
         [
          "citrus fruit",
          "chicken",
          "other vegetables",
          "pip fruit",
          "rolls/buns",
          "bottled water",
          "whipped/sour cream",
          "frankfurter",
          "butter",
          "tropical fruit",
          "curd",
          "root vegetables",
          "pork",
          "pastry",
          "yogurt",
          "sausage",
          "beef"
         ]
        ],
        [
         2546,
         [
          "canned beer"
         ],
         []
        ],
        [
         2549,
         [
          "root vegetables",
          "other vegetables",
          "frozen vegetables"
         ],
         [
          "citrus fruit",
          "chicken",
          "whole milk",
          "pip fruit",
          "rolls/buns",
          "frankfurter",
          "tropical fruit",
          "pork",
          "hamburger meat",
          "yogurt",
          "sausage",
          "beef"
         ]
        ],
        [
         2563,
         [
          "curd",
          "yogurt"
         ],
         [
          "citrus fruit",
          "rolls/buns",
          "other vegetables",
          "tropical fruit",
          "whole milk"
         ]
        ],
        [
         2568,
         [
          "bottled beer"
         ],
         []
        ],
        [
         2572,
         [
          "pork",
          "citrus fruit"
         ],
         [
          "root vegetables",
          "sausage",
          "other vegetables",
          "tropical fruit",
          "yogurt",
          "whole milk",
          "pip fruit"
         ]
        ],
        [
         2576,
         [
          "frankfurter",
          "root vegetables",
          "whole milk",
          "frozen vegetables"
         ],
         [
          "citrus fruit",
          "chicken",
          "other vegetables",
          "pip fruit",
          "rolls/buns",
          "bottled water",
          "whipped/sour cream",
          "butter",
          "tropical fruit",
          "curd",
          "pork",
          "pastry",
          "yogurt",
          "sausage",
          "beef"
         ]
        ],
        [
         2577,
         [
          "beef",
          "citrus fruit",
          "whole milk"
         ],
         [
          "root vegetables",
          "sausage",
          "other vegetables",
          "tropical fruit",
          "yogurt",
          "pip fruit",
          "chicken",
          "rolls/buns",
          "bottled water",
          "whipped/sour cream",
          "frankfurter",
          "butter",
          "curd",
          "pork",
          "pastry"
         ]
        ],
        [
         2583,
         [
          "canned beer"
         ],
         []
        ],
        [
         2584,
         [
          "sausage",
          "citrus fruit",
          "other vegetables",
          "hard cheese"
         ],
         [
          "chicken",
          "whole milk",
          "pip fruit",
          "rolls/buns",
          "frankfurter",
          "tropical fruit",
          "root vegetables",
          "pork",
          "hamburger meat",
          "yogurt",
          "beef"
         ]
        ],
        [
         2592,
         [
          "bottled beer"
         ],
         []
        ],
        [
         2607,
         [
          "frozen meals",
          "rolls/buns",
          "bottled beer"
         ],
         [
          "other vegetables",
          "whole milk",
          "soda",
          "yogurt",
          "sausage"
         ]
        ],
        [
         2610,
         [
          "hamburger meat",
          "pip fruit",
          "whole milk",
          "hard cheese"
         ],
         [
          "citrus fruit",
          "chicken",
          "other vegetables",
          "rolls/buns",
          "bottled water",
          "whipped/sour cream",
          "frankfurter",
          "butter",
          "tropical fruit",
          "curd",
          "root vegetables",
          "pork",
          "pastry",
          "yogurt",
          "sausage",
          "beef"
         ]
        ],
        [
         2615,
         [
          "pastry",
          "soda"
         ],
         [
          "whole milk",
          "rolls/buns"
         ]
        ],
        [
         2618,
         [
          "dessert",
          "rolls/buns",
          "sugar",
          "bottled water"
         ],
         [
          "other vegetables",
          "whole milk",
          "soda",
          "yogurt",
          "sausage"
         ]
        ],
        [
         2623,
         [
          "other vegetables",
          "rolls/buns",
          "soda"
         ],
         [
          "citrus fruit",
          "chicken",
          "whole milk",
          "pip fruit",
          "frankfurter",
          "tropical fruit",
          "root vegetables",
          "pork",
          "hamburger meat",
          "yogurt",
          "sausage",
          "beef"
         ]
        ],
        [
         2625,
         [
          "rolls/buns"
         ],
         [
          "other vegetables",
          "whole milk",
          "soda",
          "yogurt",
          "sausage"
         ]
        ],
        [
         2635,
         [
          "tropical fruit",
          "whole milk",
          "cat food",
          "popcorn"
         ],
         [
          "citrus fruit",
          "pip fruit",
          "other vegetables",
          "root vegetables",
          "yogurt",
          "sausage",
          "chicken",
          "rolls/buns",
          "bottled water",
          "whipped/sour cream",
          "frankfurter",
          "butter",
          "curd",
          "pork",
          "pastry",
          "beef"
         ]
        ],
        [
         2638,
         [
          "canned beer"
         ],
         []
        ],
        [
         2644,
         [
          "pork",
          "tropical fruit",
          "whole milk",
          "curd"
         ],
         [
          "citrus fruit",
          "pip fruit",
          "other vegetables",
          "root vegetables",
          "yogurt",
          "sausage",
          "chicken",
          "rolls/buns",
          "bottled water",
          "whipped/sour cream",
          "frankfurter",
          "butter",
          "pastry",
          "beef"
         ]
        ],
        [
         2648,
         [
          "mayonnaise",
          "rolls/buns"
         ],
         [
          "other vegetables",
          "whole milk",
          "soda",
          "yogurt",
          "sausage"
         ]
        ],
        [
         2650,
         [
          "pork",
          "frozen vegetables",
          "pastry",
          "misc. beverages"
         ],
         [
          "whole milk",
          "root vegetables",
          "other vegetables"
         ]
        ],
        [
         2651,
         [
          "citrus fruit",
          "other vegetables",
          "whole milk",
          "flour"
         ],
         [
          "chicken",
          "pip fruit",
          "rolls/buns",
          "frankfurter",
          "tropical fruit",
          "root vegetables",
          "pork",
          "hamburger meat",
          "yogurt",
          "sausage",
          "beef",
          "bottled water",
          "whipped/sour cream",
          "butter",
          "curd",
          "pastry"
         ]
        ],
        [
         2658,
         [
          "sausage",
          "bottled beer",
          "dish cleaner"
         ],
         [
          "citrus fruit",
          "pip fruit",
          "rolls/buns",
          "root vegetables",
          "other vegetables",
          "tropical fruit",
          "whole milk"
         ]
        ],
        [
         2669,
         [
          "hamburger meat",
          "fruit/vegetable juice",
          "canned beer",
          "white wine"
         ],
         [
          "other vegetables"
         ]
        ],
        [
         2670,
         [
          "meat",
          "whole milk",
          "yogurt",
          "soda"
         ],
         [
          "citrus fruit",
          "rolls/buns",
          "other vegetables",
          "tropical fruit",
          "chicken",
          "pip fruit",
          "bottled water",
          "whipped/sour cream",
          "frankfurter",
          "butter",
          "curd",
          "root vegetables",
          "pork",
          "pastry",
          "sausage",
          "beef"
         ]
        ],
        [
         2674,
         [
          "whole milk",
          "fruit/vegetable juice"
         ],
         [
          "citrus fruit",
          "chicken",
          "other vegetables",
          "pip fruit",
          "rolls/buns",
          "bottled water",
          "whipped/sour cream",
          "frankfurter",
          "butter",
          "tropical fruit",
          "curd",
          "root vegetables",
          "pork",
          "pastry",
          "yogurt",
          "sausage",
          "beef"
         ]
        ],
        [
         2679,
         [
          "ham",
          "citrus fruit",
          "tropical fruit",
          "whole milk"
         ],
         [
          "pip fruit",
          "other vegetables",
          "root vegetables",
          "yogurt",
          "sausage",
          "chicken",
          "rolls/buns",
          "bottled water",
          "whipped/sour cream",
          "frankfurter",
          "butter",
          "curd",
          "pork",
          "pastry",
          "beef"
         ]
        ],
        [
         2681,
         [
          "pork",
          "root vegetables",
          "onions",
          "other vegetables"
         ],
         [
          "citrus fruit",
          "chicken",
          "whole milk",
          "pip fruit",
          "rolls/buns",
          "frankfurter",
          "tropical fruit",
          "hamburger meat",
          "yogurt",
          "sausage",
          "beef"
         ]
        ],
        [
         2704,
         [
          "frankfurter",
          "sausage",
          "citrus fruit",
          "root vegetables"
         ],
         [
          "pip fruit",
          "rolls/buns",
          "other vegetables",
          "tropical fruit",
          "whole milk",
          "yogurt",
          "pork",
          "beef"
         ]
        ],
        [
         2709,
         [
          "beef",
          "root vegetables",
          "other vegetables",
          "whole milk"
         ],
         [
          "citrus fruit",
          "chicken",
          "pip fruit",
          "rolls/buns",
          "frankfurter",
          "tropical fruit",
          "pork",
          "hamburger meat",
          "yogurt",
          "sausage",
          "bottled water",
          "whipped/sour cream",
          "butter",
          "curd",
          "pastry"
         ]
        ],
        [
         2715,
         [
          "beef",
          "tropical fruit",
          "root vegetables",
          "whole milk"
         ],
         [
          "citrus fruit",
          "pip fruit",
          "other vegetables",
          "yogurt",
          "sausage",
          "chicken",
          "rolls/buns",
          "bottled water",
          "whipped/sour cream",
          "frankfurter",
          "butter",
          "curd",
          "pork",
          "pastry"
         ]
        ],
        [
         2717,
         [
          "finished products",
          "chicken",
          "pork",
          "beef"
         ],
         [
          "other vegetables",
          "whole milk",
          "root vegetables"
         ]
        ],
        [
         2732,
         [
          "citrus fruit",
          "tropical fruit",
          "pip fruit",
          "grapes"
         ],
         [
          "other vegetables",
          "whole milk",
          "root vegetables",
          "yogurt",
          "sausage"
         ]
        ],
        [
         2734,
         [
          "canned beer"
         ],
         []
        ],
        [
         2739,
         [
          "canned beer"
         ],
         []
        ],
        [
         2744,
         [
          "frankfurter",
          "sausage",
          "other vegetables",
          "whole milk"
         ],
         [
          "citrus fruit",
          "chicken",
          "pip fruit",
          "rolls/buns",
          "tropical fruit",
          "root vegetables",
          "pork",
          "hamburger meat",
          "yogurt",
          "beef",
          "bottled water",
          "whipped/sour cream",
          "butter",
          "curd",
          "pastry"
         ]
        ],
        [
         2747,
         [
          "candy"
         ],
         []
        ],
        [
         2748,
         [
          "frankfurter",
          "rolls/buns"
         ],
         [
          "other vegetables",
          "whole milk",
          "soda",
          "yogurt",
          "sausage"
         ]
        ],
        [
         2752,
         [
          "pip fruit",
          "other vegetables",
          "whole milk",
          "whipped/sour cream"
         ],
         [
          "citrus fruit",
          "chicken",
          "rolls/buns",
          "frankfurter",
          "tropical fruit",
          "root vegetables",
          "pork",
          "hamburger meat",
          "yogurt",
          "sausage",
          "beef",
          "bottled water",
          "butter",
          "curd",
          "pastry"
         ]
        ],
        [
         2753,
         [
          "bottled water",
          "long life bakery product"
         ],
         [
          "whole milk"
         ]
        ],
        [
         2756,
         [
          "chicken",
          "pork",
          "butter",
          "candles"
         ],
         [
          "other vegetables",
          "whole milk",
          "root vegetables"
         ]
        ],
        [
         2758,
         [
          "ham",
          "rolls/buns",
          "soda",
          "shopping bags"
         ],
         [
          "other vegetables",
          "whole milk",
          "yogurt",
          "sausage"
         ]
        ],
        [
         2765,
         [
          "pork",
          "tropical fruit",
          "root vegetables",
          "whipped/sour cream"
         ],
         [
          "whole milk",
          "citrus fruit",
          "pip fruit",
          "other vegetables",
          "yogurt",
          "sausage",
          "beef"
         ]
        ],
        [
         2768,
         [
          "rolls/buns",
          "soda"
         ],
         [
          "other vegetables",
          "whole milk",
          "yogurt",
          "sausage"
         ]
        ],
        [
         2769,
         [
          "berries",
          "cookware",
          "flower (seeds)"
         ],
         []
        ],
        [
         2772,
         [
          "whole milk",
          "butter",
          "curd",
          "frozen vegetables"
         ],
         [
          "citrus fruit",
          "chicken",
          "other vegetables",
          "pip fruit",
          "rolls/buns",
          "bottled water",
          "whipped/sour cream",
          "frankfurter",
          "tropical fruit",
          "root vegetables",
          "pork",
          "pastry",
          "yogurt",
          "sausage",
          "beef"
         ]
        ],
        [
         2778,
         [
          "chicken",
          "whole milk",
          "frozen vegetables",
          "brown bread"
         ],
         [
          "other vegetables",
          "citrus fruit",
          "pip fruit",
          "rolls/buns",
          "bottled water",
          "whipped/sour cream",
          "frankfurter",
          "butter",
          "tropical fruit",
          "curd",
          "root vegetables",
          "pork",
          "pastry",
          "yogurt",
          "sausage",
          "beef"
         ]
        ],
        [
         2779,
         [
          "ice cream",
          "chewing gum"
         ],
         []
        ],
        [
         2780,
         [
          "pork",
          "tropical fruit",
          "root vegetables",
          "herbs"
         ],
         [
          "citrus fruit",
          "pip fruit",
          "other vegetables",
          "whole milk",
          "yogurt",
          "sausage",
          "beef"
         ]
        ],
        [
         2785,
         [
          "soda",
          "misc. beverages",
          "sparkling wine",
          "chewing gum"
         ],
         [
          "rolls/buns"
         ]
        ],
        [
         2786,
         [
          "frankfurter",
          "root vegetables"
         ],
         [
          "other vegetables",
          "whole milk",
          "citrus fruit",
          "pip fruit",
          "tropical fruit",
          "pork",
          "sausage",
          "beef"
         ]
        ],
        [
         2793,
         [
          "sausage",
          "onions"
         ],
         [
          "citrus fruit",
          "pip fruit",
          "rolls/buns",
          "root vegetables",
          "other vegetables",
          "tropical fruit",
          "whole milk"
         ]
        ],
        [
         2794,
         [
          "canned beer",
          "male cosmetics"
         ],
         []
        ],
        [
         2796,
         [
          "pastry",
          "soda"
         ],
         [
          "whole milk",
          "rolls/buns"
         ]
        ],
        [
         2800,
         [
          "canned beer",
          "newspapers"
         ],
         []
        ],
        [
         2803,
         [
          "bottled water",
          "soda"
         ],
         [
          "whole milk",
          "rolls/buns"
         ]
        ],
        [
         2809,
         [
          "pastry",
          "soda"
         ],
         [
          "whole milk",
          "rolls/buns"
         ]
        ],
        [
         2812,
         [
          "yogurt"
         ],
         [
          "citrus fruit",
          "rolls/buns",
          "other vegetables",
          "tropical fruit",
          "whole milk"
         ]
        ],
        [
         2814,
         [
          "pip fruit",
          "whole milk",
          "rolls/buns",
          "pickled vegetables"
         ],
         [
          "other vegetables",
          "soda",
          "yogurt",
          "sausage",
          "citrus fruit",
          "chicken",
          "bottled water",
          "whipped/sour cream",
          "frankfurter",
          "butter",
          "tropical fruit",
          "curd",
          "root vegetables",
          "pork",
          "pastry",
          "beef"
         ]
        ],
        [
         2824,
         [
          "brown bread",
          "bottled water",
          "soda",
          "fruit/vegetable juice"
         ],
         [
          "whole milk",
          "rolls/buns"
         ]
        ],
        [
         2825,
         [
          "beef",
          "root vegetables",
          "other vegetables",
          "margarine"
         ],
         [
          "citrus fruit",
          "chicken",
          "whole milk",
          "pip fruit",
          "rolls/buns",
          "frankfurter",
          "tropical fruit",
          "pork",
          "hamburger meat",
          "yogurt",
          "sausage"
         ]
        ],
        [
         2830,
         [
          "whole milk",
          "canned fish",
          "newspapers"
         ],
         [
          "citrus fruit",
          "chicken",
          "other vegetables",
          "pip fruit",
          "rolls/buns",
          "bottled water",
          "whipped/sour cream",
          "frankfurter",
          "butter",
          "tropical fruit",
          "curd",
          "root vegetables",
          "pork",
          "pastry",
          "yogurt",
          "sausage",
          "beef"
         ]
        ],
        [
         2833,
         [
          "citrus fruit",
          "tropical fruit",
          "frozen meals",
          "frozen dessert"
         ],
         [
          "pip fruit",
          "other vegetables",
          "whole milk",
          "root vegetables",
          "yogurt",
          "sausage"
         ]
        ],
        [
         2835,
         [
          "whole milk",
          "newspapers"
         ],
         [
          "citrus fruit",
          "chicken",
          "other vegetables",
          "pip fruit",
          "rolls/buns",
          "bottled water",
          "whipped/sour cream",
          "frankfurter",
          "butter",
          "tropical fruit",
          "curd",
          "root vegetables",
          "pork",
          "pastry",
          "yogurt",
          "sausage",
          "beef"
         ]
        ],
        [
         2841,
         [
          "chocolate",
          "napkins"
         ],
         []
        ],
        [
         2842,
         [
          "ham",
          "tropical fruit",
          "pip fruit",
          "grapes"
         ],
         [
          "citrus fruit",
          "other vegetables",
          "whole milk",
          "root vegetables",
          "yogurt",
          "sausage"
         ]
        ],
        [
         2845,
         [
          "rolls/buns",
          "white bread",
          "waffles"
         ],
         [
          "other vegetables",
          "whole milk",
          "soda",
          "yogurt",
          "sausage"
         ]
        ],
        [
         2846,
         [
          "pip fruit",
          "zwieback",
          "salty snack",
          "cake bar"
         ],
         [
          "citrus fruit",
          "root vegetables",
          "sausage",
          "other vegetables",
          "tropical fruit",
          "whole milk"
         ]
        ],
        [
         2848,
         [
          "root vegetables",
          "whole milk",
          "rolls/buns"
         ],
         [
          "other vegetables",
          "soda",
          "yogurt",
          "sausage",
          "citrus fruit",
          "chicken",
          "pip fruit",
          "bottled water",
          "whipped/sour cream",
          "frankfurter",
          "butter",
          "tropical fruit",
          "curd",
          "pork",
          "pastry",
          "beef"
         ]
        ],
        [
         2850,
         [
          "whole milk",
          "yogurt",
          "rolls/buns",
          "waffles"
         ],
         [
          "citrus fruit",
          "other vegetables",
          "tropical fruit",
          "soda",
          "sausage",
          "chicken",
          "pip fruit",
          "bottled water",
          "whipped/sour cream",
          "frankfurter",
          "butter",
          "curd",
          "root vegetables",
          "pork",
          "pastry",
          "beef"
         ]
        ],
        [
         2852,
         [
          "tropical fruit",
          "domestic eggs",
          "newspapers"
         ],
         [
          "citrus fruit",
          "pip fruit",
          "other vegetables",
          "whole milk",
          "root vegetables",
          "yogurt",
          "sausage"
         ]
        ],
        [
         2861,
         [
          "salty snack"
         ],
         []
        ],
        [
         2869,
         [
          "beef"
         ],
         [
          "root vegetables",
          "other vegetables",
          "whole milk"
         ]
        ],
        [
         2885,
         [
          "whole milk",
          "napkins"
         ],
         [
          "citrus fruit",
          "chicken",
          "other vegetables",
          "pip fruit",
          "rolls/buns",
          "bottled water",
          "whipped/sour cream",
          "frankfurter",
          "butter",
          "tropical fruit",
          "curd",
          "root vegetables",
          "pork",
          "pastry",
          "yogurt",
          "sausage",
          "beef"
         ]
        ],
        [
         2886,
         [
          "whole milk"
         ],
         [
          "citrus fruit",
          "chicken",
          "other vegetables",
          "pip fruit",
          "rolls/buns",
          "bottled water",
          "whipped/sour cream",
          "frankfurter",
          "butter",
          "tropical fruit",
          "curd",
          "root vegetables",
          "pork",
          "pastry",
          "yogurt",
          "sausage",
          "beef"
         ]
        ],
        [
         2891,
         [
          "waffles"
         ],
         []
        ],
        [
         2904,
         [
          "finished products",
          "pip fruit",
          "frozen potato products",
          "soda"
         ],
         [
          "rolls/buns",
          "citrus fruit",
          "root vegetables",
          "sausage",
          "other vegetables",
          "tropical fruit",
          "whole milk"
         ]
        ],
        [
         2906,
         [
          "margarine",
          "coffee",
          "instant coffee",
          "soda"
         ],
         [
          "rolls/buns"
         ]
        ],
        [
         2916,
         [
          "pot plants"
         ],
         []
        ],
        [
         2919,
         [
          "fruit/vegetable juice"
         ],
         []
        ],
        [
         2930,
         [
          "whole milk",
          "beverages"
         ],
         [
          "citrus fruit",
          "chicken",
          "other vegetables",
          "pip fruit",
          "rolls/buns",
          "bottled water",
          "whipped/sour cream",
          "frankfurter",
          "butter",
          "tropical fruit",
          "curd",
          "root vegetables",
          "pork",
          "pastry",
          "yogurt",
          "sausage",
          "beef"
         ]
        ],
        [
         2940,
         [
          "butter milk",
          "pastry"
         ],
         [
          "whole milk"
         ]
        ],
        [
         2945,
         [
          "sausage",
          "UHT-milk"
         ],
         [
          "citrus fruit",
          "pip fruit",
          "rolls/buns",
          "root vegetables",
          "other vegetables",
          "tropical fruit",
          "whole milk"
         ]
        ],
        [
         2956,
         [
          "frankfurter",
          "tropical fruit",
          "root vegetables",
          "whole milk"
         ],
         [
          "citrus fruit",
          "pip fruit",
          "other vegetables",
          "yogurt",
          "sausage",
          "chicken",
          "rolls/buns",
          "bottled water",
          "whipped/sour cream",
          "butter",
          "curd",
          "pork",
          "pastry",
          "beef"
         ]
        ],
        [
         2957,
         [
          "meat"
         ],
         []
        ],
        [
         2958,
         [
          "canned beer"
         ],
         []
        ],
        [
         2960,
         [
          "other vegetables",
          "hard cheese",
          "processed cheese",
          "cereals"
         ],
         [
          "citrus fruit",
          "chicken",
          "whole milk",
          "pip fruit",
          "rolls/buns",
          "frankfurter",
          "tropical fruit",
          "root vegetables",
          "pork",
          "hamburger meat",
          "yogurt",
          "sausage",
          "beef"
         ]
        ],
        [
         2963,
         [
          "yogurt",
          "frozen vegetables"
         ],
         [
          "citrus fruit",
          "rolls/buns",
          "other vegetables",
          "tropical fruit",
          "whole milk"
         ]
        ],
        [
         2966,
         [
          "UHT-milk",
          "bottled water",
          "soda"
         ],
         [
          "whole milk",
          "rolls/buns"
         ]
        ],
        [
         2979,
         [
          "soda",
          "skin care"
         ],
         [
          "rolls/buns"
         ]
        ],
        [
         2980,
         [
          "bottled water"
         ],
         [
          "whole milk"
         ]
        ],
        [
         2982,
         [
          "tropical fruit",
          "other vegetables",
          "whole milk",
          "yogurt"
         ],
         [
          "citrus fruit",
          "chicken",
          "pip fruit",
          "rolls/buns",
          "frankfurter",
          "root vegetables",
          "pork",
          "hamburger meat",
          "sausage",
          "beef",
          "bottled water",
          "whipped/sour cream",
          "butter",
          "curd",
          "pastry"
         ]
        ],
        [
         2986,
         [
          "curd"
         ],
         [
          "whole milk"
         ]
        ],
        [
         2987,
         [
          "citrus fruit",
          "tropical fruit",
          "other vegetables",
          "whole milk"
         ],
         [
          "chicken",
          "pip fruit",
          "rolls/buns",
          "frankfurter",
          "root vegetables",
          "pork",
          "hamburger meat",
          "yogurt",
          "sausage",
          "beef",
          "bottled water",
          "whipped/sour cream",
          "butter",
          "curd",
          "pastry"
         ]
        ],
        [
         2990,
         [
          "bottled water",
          "soda",
          "waffles"
         ],
         [
          "whole milk",
          "rolls/buns"
         ]
        ],
        [
         2996,
         [
          "frankfurter",
          "hamburger meat",
          "whole milk",
          "cream cheese"
         ],
         [
          "citrus fruit",
          "chicken",
          "other vegetables",
          "pip fruit",
          "rolls/buns",
          "bottled water",
          "whipped/sour cream",
          "butter",
          "tropical fruit",
          "curd",
          "root vegetables",
          "pork",
          "pastry",
          "yogurt",
          "sausage",
          "beef"
         ]
        ],
        [
         3004,
         [
          "other vegetables",
          "butter milk",
          "rolls/buns",
          "oil"
         ],
         [
          "citrus fruit",
          "chicken",
          "whole milk",
          "pip fruit",
          "frankfurter",
          "tropical fruit",
          "root vegetables",
          "pork",
          "hamburger meat",
          "yogurt",
          "sausage",
          "beef",
          "soda"
         ]
        ],
        [
         3005,
         [
          "frankfurter",
          "beef",
          "pip fruit",
          "whole milk"
         ],
         [
          "citrus fruit",
          "chicken",
          "other vegetables",
          "rolls/buns",
          "bottled water",
          "whipped/sour cream",
          "butter",
          "tropical fruit",
          "curd",
          "root vegetables",
          "pork",
          "pastry",
          "yogurt",
          "sausage"
         ]
        ],
        [
         3018,
         [
          "root vegetables",
          "other vegetables",
          "yogurt",
          "rolls/buns"
         ],
         [
          "citrus fruit",
          "chicken",
          "whole milk",
          "pip fruit",
          "frankfurter",
          "tropical fruit",
          "pork",
          "hamburger meat",
          "sausage",
          "beef",
          "soda"
         ]
        ],
        [
         3040,
         [
          "other vegetables"
         ],
         [
          "citrus fruit",
          "chicken",
          "whole milk",
          "pip fruit",
          "rolls/buns",
          "frankfurter",
          "tropical fruit",
          "root vegetables",
          "pork",
          "hamburger meat",
          "yogurt",
          "sausage",
          "beef"
         ]
        ],
        [
         3042,
         [
          "frankfurter",
          "pip fruit",
          "nuts/prunes",
          "onions"
         ],
         [
          "other vegetables",
          "whole milk",
          "citrus fruit",
          "root vegetables",
          "sausage",
          "tropical fruit"
         ]
        ],
        [
         3043,
         [
          "citrus fruit",
          "whole milk",
          "soft cheese",
          "rice"
         ],
         [
          "root vegetables",
          "sausage",
          "other vegetables",
          "tropical fruit",
          "yogurt",
          "pip fruit",
          "chicken",
          "rolls/buns",
          "bottled water",
          "whipped/sour cream",
          "frankfurter",
          "butter",
          "curd",
          "pork",
          "pastry",
          "beef"
         ]
        ],
        [
         3044,
         [
          "chicken",
          "pork",
          "frozen vegetables",
          "soda"
         ],
         [
          "other vegetables",
          "whole milk",
          "rolls/buns",
          "root vegetables"
         ]
        ],
        [
         3045,
         [
          "citrus fruit",
          "tropical fruit",
          "other vegetables",
          "whole milk"
         ],
         [
          "chicken",
          "pip fruit",
          "rolls/buns",
          "frankfurter",
          "root vegetables",
          "pork",
          "hamburger meat",
          "yogurt",
          "sausage",
          "beef",
          "bottled water",
          "whipped/sour cream",
          "butter",
          "curd",
          "pastry"
         ]
        ],
        [
         3046,
         [
          "flour",
          "sugar",
          "cat food",
          "misc. beverages"
         ],
         []
        ],
        [
         3050,
         [
          "chicken",
          "curd",
          "UHT-milk",
          "cream cheese"
         ],
         [
          "other vegetables",
          "whole milk"
         ]
        ],
        [
         3053,
         [
          "beef",
          "other vegetables",
          "margarine",
          "soda"
         ],
         [
          "citrus fruit",
          "chicken",
          "whole milk",
          "pip fruit",
          "rolls/buns",
          "frankfurter",
          "tropical fruit",
          "root vegetables",
          "pork",
          "hamburger meat",
          "yogurt",
          "sausage"
         ]
        ],
        [
         3062,
         [
          "frankfurter",
          "curd cheese"
         ],
         [
          "other vegetables",
          "whole milk"
         ]
        ],
        [
         3064,
         [
          "frozen fish",
          "brandy"
         ],
         []
        ],
        [
         3067,
         [
          "onions",
          "yogurt",
          "ice cream"
         ],
         [
          "citrus fruit",
          "rolls/buns",
          "other vegetables",
          "tropical fruit",
          "whole milk"
         ]
        ],
        [
         3071,
         [
          "whole milk",
          "soft cheese",
          "rum"
         ],
         [
          "citrus fruit",
          "chicken",
          "other vegetables",
          "pip fruit",
          "rolls/buns",
          "bottled water",
          "whipped/sour cream",
          "frankfurter",
          "butter",
          "tropical fruit",
          "curd",
          "root vegetables",
          "pork",
          "pastry",
          "yogurt",
          "sausage",
          "beef"
         ]
        ],
        [
         3072,
         [
          "citrus fruit",
          "butter",
          "dessert",
          "processed cheese"
         ],
         [
          "root vegetables",
          "sausage",
          "other vegetables",
          "tropical fruit",
          "yogurt",
          "whole milk",
          "pip fruit"
         ]
        ],
        [
         3074,
         [
          "sparkling wine"
         ],
         []
        ],
        [
         3078,
         [
          "whole milk",
          "processed cheese",
          "mayonnaise",
          "margarine"
         ],
         [
          "citrus fruit",
          "chicken",
          "other vegetables",
          "pip fruit",
          "rolls/buns",
          "bottled water",
          "whipped/sour cream",
          "frankfurter",
          "butter",
          "tropical fruit",
          "curd",
          "root vegetables",
          "pork",
          "pastry",
          "yogurt",
          "sausage",
          "beef"
         ]
        ],
        [
         3082,
         [
          "coffee"
         ],
         []
        ],
        [
         3089,
         [
          "frankfurter",
          "sausage",
          "butter",
          "dessert"
         ],
         [
          "citrus fruit",
          "pip fruit",
          "rolls/buns",
          "root vegetables",
          "other vegetables",
          "tropical fruit",
          "whole milk"
         ]
        ],
        [
         3098,
         [
          "bottled beer"
         ],
         []
        ],
        [
         3112,
         [
          "citrus fruit",
          "pip fruit",
          "root vegetables",
          "other vegetables"
         ],
         [
          "chicken",
          "whole milk",
          "rolls/buns",
          "frankfurter",
          "tropical fruit",
          "pork",
          "hamburger meat",
          "yogurt",
          "sausage",
          "beef"
         ]
        ],
        [
         3113,
         [
          "rolls/buns",
          "soda",
          "canned beer"
         ],
         [
          "other vegetables",
          "whole milk",
          "yogurt",
          "sausage"
         ]
        ],
        [
         3124,
         [
          "citrus fruit"
         ],
         [
          "root vegetables",
          "sausage",
          "other vegetables",
          "tropical fruit",
          "yogurt",
          "whole milk",
          "pip fruit"
         ]
        ],
        [
         3131,
         [
          "fruit/vegetable juice",
          "chewing gum"
         ],
         []
        ],
        [
         3153,
         [
          "pork",
          "other vegetables",
          "rolls/buns",
          "canned fish"
         ],
         [
          "citrus fruit",
          "chicken",
          "whole milk",
          "pip fruit",
          "frankfurter",
          "tropical fruit",
          "root vegetables",
          "hamburger meat",
          "yogurt",
          "sausage",
          "beef",
          "soda"
         ]
        ],
        [
         3157,
         [
          "yogurt",
          "condensed milk",
          "pet care",
          "house keeping products"
         ],
         [
          "citrus fruit",
          "rolls/buns",
          "other vegetables",
          "tropical fruit",
          "whole milk"
         ]
        ],
        [
         3178,
         [
          "sausage",
          "packaged fruit/vegetables",
          "whole milk",
          "brown bread"
         ],
         [
          "citrus fruit",
          "pip fruit",
          "rolls/buns",
          "root vegetables",
          "other vegetables",
          "tropical fruit",
          "chicken",
          "bottled water",
          "whipped/sour cream",
          "frankfurter",
          "butter",
          "curd",
          "pork",
          "pastry",
          "yogurt",
          "beef"
         ]
        ],
        [
         3188,
         [
          "canned beer"
         ],
         []
        ],
        [
         3196,
         [
          "frankfurter",
          "chicken",
          "hamburger meat",
          "pip fruit"
         ],
         [
          "other vegetables",
          "whole milk",
          "citrus fruit",
          "root vegetables",
          "sausage",
          "tropical fruit"
         ]
        ],
        [
         3201,
         [
          "frozen chicken",
          "salty snack"
         ],
         []
        ],
        [
         3209,
         [
          "other vegetables",
          "salty snack",
          "dishes",
          "house keeping products"
         ],
         [
          "citrus fruit",
          "chicken",
          "whole milk",
          "pip fruit",
          "rolls/buns",
          "frankfurter",
          "tropical fruit",
          "root vegetables",
          "pork",
          "hamburger meat",
          "yogurt",
          "sausage",
          "beef"
         ]
        ],
        [
         3210,
         [
          "beef",
          "root vegetables"
         ],
         [
          "other vegetables",
          "whole milk",
          "citrus fruit",
          "pip fruit",
          "tropical fruit",
          "pork",
          "sausage"
         ]
        ],
        [
         3213,
         [
          "tropical fruit",
          "other vegetables",
          "whipped/sour cream",
          "beverages"
         ],
         [
          "citrus fruit",
          "chicken",
          "whole milk",
          "pip fruit",
          "rolls/buns",
          "frankfurter",
          "root vegetables",
          "pork",
          "hamburger meat",
          "yogurt",
          "sausage",
          "beef"
         ]
        ],
        [
         3225,
         [
          "frankfurter",
          "sausage",
          "packaged fruit/vegetables",
          "condensed milk"
         ],
         [
          "citrus fruit",
          "pip fruit",
          "rolls/buns",
          "root vegetables",
          "other vegetables",
          "tropical fruit",
          "whole milk"
         ]
        ],
        [
         3231,
         [
          "butter milk",
          "rolls/buns",
          "long life bakery product"
         ],
         [
          "other vegetables",
          "whole milk",
          "soda",
          "yogurt",
          "sausage"
         ]
        ],
        [
         3240,
         [
          "pork",
          "whole milk",
          "sliced cheese"
         ],
         [
          "citrus fruit",
          "chicken",
          "other vegetables",
          "pip fruit",
          "rolls/buns",
          "bottled water",
          "whipped/sour cream",
          "frankfurter",
          "butter",
          "tropical fruit",
          "curd",
          "root vegetables",
          "pastry",
          "yogurt",
          "sausage",
          "beef"
         ]
        ],
        [
         3241,
         [
          "tropical fruit",
          "berries",
          "other vegetables",
          "whole milk"
         ],
         [
          "citrus fruit",
          "chicken",
          "pip fruit",
          "rolls/buns",
          "frankfurter",
          "root vegetables",
          "pork",
          "hamburger meat",
          "yogurt",
          "sausage",
          "beef",
          "bottled water",
          "whipped/sour cream",
          "butter",
          "curd",
          "pastry"
         ]
        ],
        [
         3246,
         [
          "frozen fish",
          "canned beer",
          "waffles"
         ],
         []
        ],
        [
         3248,
         [
          "pork",
          "other vegetables",
          "yogurt",
          "white bread"
         ],
         [
          "citrus fruit",
          "chicken",
          "whole milk",
          "pip fruit",
          "rolls/buns",
          "frankfurter",
          "tropical fruit",
          "root vegetables",
          "hamburger meat",
          "sausage",
          "beef"
         ]
        ],
        [
         3261,
         [
          "rolls/buns",
          "rice",
          "canned fish",
          "cocoa drinks"
         ],
         [
          "other vegetables",
          "whole milk",
          "soda",
          "yogurt",
          "sausage"
         ]
        ],
        [
         3268,
         [
          "pip fruit",
          "root vegetables",
          "other vegetables",
          "dessert"
         ],
         [
          "citrus fruit",
          "chicken",
          "whole milk",
          "rolls/buns",
          "frankfurter",
          "tropical fruit",
          "pork",
          "hamburger meat",
          "yogurt",
          "sausage",
          "beef"
         ]
        ],
        [
         3269,
         [
          "citrus fruit",
          "soft cheese",
          "domestic eggs",
          "pastry"
         ],
         [
          "whole milk",
          "root vegetables",
          "sausage",
          "other vegetables",
          "tropical fruit",
          "yogurt",
          "pip fruit"
         ]
        ],
        [
         3272,
         [
          "canned beer"
         ],
         []
        ],
        [
         3276,
         [
          "soda"
         ],
         [
          "rolls/buns"
         ]
        ],
        [
         3278,
         [
          "ham",
          "frozen potato products",
          "white bread",
          "pastry"
         ],
         [
          "whole milk"
         ]
        ],
        [
         3284,
         [
          "root vegetables",
          "other vegetables",
          "whole milk",
          "specialty bar"
         ],
         [
          "citrus fruit",
          "chicken",
          "pip fruit",
          "rolls/buns",
          "frankfurter",
          "tropical fruit",
          "pork",
          "hamburger meat",
          "yogurt",
          "sausage",
          "beef",
          "bottled water",
          "whipped/sour cream",
          "butter",
          "curd",
          "pastry"
         ]
        ],
        [
         3287,
         [
          "bottled beer",
          "chocolate",
          "specialty bar"
         ],
         []
        ],
        [
         3295,
         [
          "pork",
          "pip fruit",
          "other vegetables",
          "butter"
         ],
         [
          "citrus fruit",
          "chicken",
          "whole milk",
          "rolls/buns",
          "frankfurter",
          "tropical fruit",
          "root vegetables",
          "hamburger meat",
          "yogurt",
          "sausage",
          "beef"
         ]
        ],
        [
         3308,
         [
          "meat",
          "whipped/sour cream",
          "coffee",
          "chewing gum"
         ],
         [
          "whole milk"
         ]
        ],
        [
         3315,
         [
          "organic sausage",
          "citrus fruit",
          "whole milk",
          "whipped/sour cream"
         ],
         [
          "root vegetables",
          "sausage",
          "other vegetables",
          "tropical fruit",
          "yogurt",
          "pip fruit",
          "chicken",
          "rolls/buns",
          "bottled water",
          "frankfurter",
          "butter",
          "curd",
          "pork",
          "pastry",
          "beef"
         ]
        ],
        [
         3317,
         [
          "organic sausage",
          "pip fruit",
          "root vegetables",
          "other vegetables"
         ],
         [
          "citrus fruit",
          "chicken",
          "whole milk",
          "rolls/buns",
          "frankfurter",
          "tropical fruit",
          "pork",
          "hamburger meat",
          "yogurt",
          "sausage",
          "beef"
         ]
        ],
        [
         3327,
         [
          "newspapers"
         ],
         []
        ],
        [
         3332,
         [
          "citrus fruit",
          "specialty bar"
         ],
         [
          "root vegetables",
          "sausage",
          "other vegetables",
          "tropical fruit",
          "yogurt",
          "whole milk",
          "pip fruit"
         ]
        ],
        [
         3333,
         [
          "bottled beer"
         ],
         []
        ],
        [
         3360,
         [
          "bottled beer",
          "liquor"
         ],
         []
        ],
        [
         3364,
         [
          "canned beer",
          "white wine"
         ],
         []
        ],
        [
         3366,
         [
          "beverages",
          "frozen vegetables",
          "coffee",
          "soda"
         ],
         [
          "rolls/buns"
         ]
        ],
        [
         3367,
         [
          "sausage",
          "beef",
          "tropical fruit",
          "onions"
         ],
         [
          "citrus fruit",
          "pip fruit",
          "other vegetables",
          "whole milk",
          "root vegetables",
          "yogurt",
          "rolls/buns"
         ]
        ],
        [
         3369,
         [
          "UHT-milk"
         ],
         []
        ],
        [
         3370,
         [
          "soda",
          "salty snack",
          "specialty bar",
          "candy"
         ],
         [
          "rolls/buns"
         ]
        ],
        [
         3372,
         [
          "white wine",
          "specialty bar"
         ],
         []
        ],
        [
         3375,
         [
          "whisky",
          "chewing gum"
         ],
         []
        ],
        [
         3381,
         [
          "chicken",
          "root vegetables",
          "whole milk",
          "butter milk"
         ],
         [
          "other vegetables",
          "citrus fruit",
          "pip fruit",
          "rolls/buns",
          "bottled water",
          "whipped/sour cream",
          "frankfurter",
          "butter",
          "tropical fruit",
          "curd",
          "pork",
          "pastry",
          "yogurt",
          "sausage",
          "beef"
         ]
        ],
        [
         3382,
         [
          "other vegetables",
          "coffee",
          "bottled water",
          "salty snack"
         ],
         [
          "citrus fruit",
          "chicken",
          "whole milk",
          "pip fruit",
          "rolls/buns",
          "frankfurter",
          "tropical fruit",
          "root vegetables",
          "pork",
          "hamburger meat",
          "yogurt",
          "sausage",
          "beef"
         ]
        ],
        [
         3391,
         [
          "pip fruit",
          "berries",
          "whole milk",
          "yogurt"
         ],
         [
          "citrus fruit",
          "rolls/buns",
          "other vegetables",
          "tropical fruit",
          "chicken",
          "bottled water",
          "whipped/sour cream",
          "frankfurter",
          "butter",
          "curd",
          "root vegetables",
          "pork",
          "pastry",
          "sausage",
          "beef"
         ]
        ],
        [
         3397,
         [
          "liquor"
         ],
         []
        ],
        [
         3399,
         [
          "beef",
          "bottled beer",
          "cake bar"
         ],
         [
          "root vegetables",
          "other vegetables",
          "whole milk"
         ]
        ],
        [
         3404,
         [
          "pork",
          "whole milk",
          "dessert",
          "frozen vegetables"
         ],
         [
          "citrus fruit",
          "chicken",
          "other vegetables",
          "pip fruit",
          "rolls/buns",
          "bottled water",
          "whipped/sour cream",
          "frankfurter",
          "butter",
          "tropical fruit",
          "curd",
          "root vegetables",
          "pastry",
          "yogurt",
          "sausage",
          "beef"
         ]
        ],
        [
         3414,
         [
          "whole milk",
          "dessert",
          "yogurt",
          "whipped/sour cream"
         ],
         [
          "citrus fruit",
          "rolls/buns",
          "other vegetables",
          "tropical fruit",
          "chicken",
          "pip fruit",
          "bottled water",
          "frankfurter",
          "butter",
          "curd",
          "root vegetables",
          "pork",
          "pastry",
          "sausage",
          "beef"
         ]
        ],
        [
         3419,
         [
          "beef",
          "other vegetables",
          "canned fish"
         ],
         [
          "citrus fruit",
          "chicken",
          "whole milk",
          "pip fruit",
          "rolls/buns",
          "frankfurter",
          "tropical fruit",
          "root vegetables",
          "pork",
          "hamburger meat",
          "yogurt",
          "sausage"
         ]
        ],
        [
         3421,
         [
          "meat",
          "whole milk",
          "specialty cheese",
          "domestic eggs"
         ],
         [
          "citrus fruit",
          "chicken",
          "other vegetables",
          "pip fruit",
          "rolls/buns",
          "bottled water",
          "whipped/sour cream",
          "frankfurter",
          "butter",
          "tropical fruit",
          "curd",
          "root vegetables",
          "pork",
          "pastry",
          "yogurt",
          "sausage",
          "beef"
         ]
        ],
        [
         3424,
         [
          "tidbits",
          "canned beer",
          "red/blush wine"
         ],
         []
        ],
        [
         3426,
         [
          "waffles",
          "specialty chocolate"
         ],
         []
        ],
        [
         3428,
         [
          "whole milk",
          "whipped/sour cream",
          "fruit/vegetable juice",
          "canned beer"
         ],
         [
          "citrus fruit",
          "chicken",
          "other vegetables",
          "pip fruit",
          "rolls/buns",
          "bottled water",
          "frankfurter",
          "butter",
          "tropical fruit",
          "curd",
          "root vegetables",
          "pork",
          "pastry",
          "yogurt",
          "sausage",
          "beef"
         ]
        ],
        [
         3430,
         [
          "soda",
          "canned beer"
         ],
         [
          "rolls/buns"
         ]
        ],
        [
         3433,
         [
          "rolls/buns"
         ],
         [
          "other vegetables",
          "whole milk",
          "soda",
          "yogurt",
          "sausage"
         ]
        ],
        [
         3438,
         [
          "onions",
          "mayonnaise",
          "rolls/buns",
          "mustard"
         ],
         [
          "other vegetables",
          "whole milk",
          "soda",
          "yogurt",
          "sausage"
         ]
        ],
        [
         3439,
         [
          "whole milk",
          "fruit/vegetable juice"
         ],
         [
          "citrus fruit",
          "chicken",
          "other vegetables",
          "pip fruit",
          "rolls/buns",
          "bottled water",
          "whipped/sour cream",
          "frankfurter",
          "butter",
          "tropical fruit",
          "curd",
          "root vegetables",
          "pork",
          "pastry",
          "yogurt",
          "sausage",
          "beef"
         ]
        ],
        [
         3441,
         [
          "ham",
          "chicken",
          "citrus fruit",
          "tropical fruit"
         ],
         [
          "pip fruit",
          "other vegetables",
          "whole milk",
          "root vegetables",
          "yogurt",
          "sausage"
         ]
        ],
        [
         3443,
         [
          "photo/film"
         ],
         []
        ],
        [
         3444,
         [
          "bottled beer",
          "chocolate"
         ],
         []
        ],
        [
         3451,
         [
          "soda"
         ],
         [
          "rolls/buns"
         ]
        ],
        [
         3453,
         [
          "citrus fruit",
          "whole milk",
          "yogurt",
          "sliced cheese"
         ],
         [
          "rolls/buns",
          "other vegetables",
          "tropical fruit",
          "root vegetables",
          "sausage",
          "pip fruit",
          "chicken",
          "bottled water",
          "whipped/sour cream",
          "frankfurter",
          "butter",
          "curd",
          "pork",
          "pastry",
          "beef"
         ]
        ],
        [
         3454,
         [
          "soda",
          "bottled beer",
          "liquor",
          "red/blush wine"
         ],
         [
          "rolls/buns"
         ]
        ],
        [
         3455,
         [
          "frankfurter",
          "berries",
          "whipped/sour cream",
          "domestic eggs"
         ],
         [
          "whole milk",
          "other vegetables"
         ]
        ],
        [
         3457,
         [
          "brown bread"
         ],
         []
        ],
        [
         3459,
         [
          "other vegetables",
          "newspapers"
         ],
         [
          "citrus fruit",
          "chicken",
          "whole milk",
          "pip fruit",
          "rolls/buns",
          "frankfurter",
          "tropical fruit",
          "root vegetables",
          "pork",
          "hamburger meat",
          "yogurt",
          "sausage",
          "beef"
         ]
        ],
        [
         3460,
         [
          "newspapers",
          "photo/film"
         ],
         []
        ],
        [
         3464,
         [
          "chicken",
          "brown bread",
          "bottled water",
          "newspapers"
         ],
         [
          "other vegetables",
          "whole milk"
         ]
        ],
        [
         3482,
         [
          "canned beer",
          "shopping bags"
         ],
         []
        ],
        [
         3484,
         [
          "sausage",
          "butter milk",
          "pet care",
          "coffee"
         ],
         [
          "citrus fruit",
          "pip fruit",
          "rolls/buns",
          "root vegetables",
          "other vegetables",
          "tropical fruit",
          "whole milk"
         ]
        ],
        [
         3485,
         [
          "pip fruit",
          "yogurt",
          "frozen vegetables",
          "domestic eggs"
         ],
         [
          "citrus fruit",
          "rolls/buns",
          "other vegetables",
          "tropical fruit",
          "whole milk",
          "root vegetables",
          "sausage"
         ]
        ],
        [
         3486,
         [
          "whole milk",
          "sugar"
         ],
         [
          "citrus fruit",
          "chicken",
          "other vegetables",
          "pip fruit",
          "rolls/buns",
          "bottled water",
          "whipped/sour cream",
          "frankfurter",
          "butter",
          "tropical fruit",
          "curd",
          "root vegetables",
          "pork",
          "pastry",
          "yogurt",
          "sausage",
          "beef"
         ]
        ],
        [
         3494,
         [
          "tropical fruit",
          "nuts/prunes",
          "root vegetables",
          "whole milk"
         ],
         [
          "citrus fruit",
          "pip fruit",
          "other vegetables",
          "yogurt",
          "sausage",
          "chicken",
          "rolls/buns",
          "bottled water",
          "whipped/sour cream",
          "frankfurter",
          "butter",
          "curd",
          "pork",
          "pastry",
          "beef"
         ]
        ],
        [
         3497,
         [
          "sausage",
          "margarine",
          "newspapers"
         ],
         [
          "citrus fruit",
          "pip fruit",
          "rolls/buns",
          "root vegetables",
          "other vegetables",
          "tropical fruit",
          "whole milk"
         ]
        ],
        [
         3498,
         [
          "beverages"
         ],
         []
        ],
        [
         3507,
         [
          "tropical fruit",
          "nuts/prunes",
          "whole milk",
          "cream cheese"
         ],
         [
          "citrus fruit",
          "pip fruit",
          "other vegetables",
          "root vegetables",
          "yogurt",
          "sausage",
          "chicken",
          "rolls/buns",
          "bottled water",
          "whipped/sour cream",
          "frankfurter",
          "butter",
          "curd",
          "pork",
          "pastry",
          "beef"
         ]
        ],
        [
         3517,
         [
          "curd",
          "meat spreads"
         ],
         [
          "whole milk"
         ]
        ],
        [
         3519,
         [
          "curd",
          "UHT-milk",
          "spread cheese",
          "pasta"
         ],
         [
          "whole milk"
         ]
        ],
        [
         3522,
         [
          "chocolate",
          "dishes"
         ],
         []
        ],
        [
         3541,
         [
          "bottled water"
         ],
         [
          "whole milk"
         ]
        ],
        [
         3544,
         [
          "tidbits",
          "rolls/buns",
          "coffee",
          "salty snack"
         ],
         [
          "other vegetables",
          "whole milk",
          "soda",
          "yogurt",
          "sausage"
         ]
        ],
        [
         3548,
         [
          "chicken",
          "tropical fruit",
          "brown bread",
          "pickled vegetables"
         ],
         [
          "citrus fruit",
          "pip fruit",
          "other vegetables",
          "whole milk",
          "root vegetables",
          "yogurt",
          "sausage"
         ]
        ],
        [
         3557,
         [
          "sausage",
          "chicken",
          "pork",
          "beef"
         ],
         [
          "other vegetables",
          "whole milk",
          "citrus fruit",
          "pip fruit",
          "rolls/buns",
          "root vegetables",
          "tropical fruit"
         ]
        ],
        [
         3567,
         [
          "whole milk",
          "zwieback",
          "salty snack"
         ],
         [
          "citrus fruit",
          "chicken",
          "other vegetables",
          "pip fruit",
          "rolls/buns",
          "bottled water",
          "whipped/sour cream",
          "frankfurter",
          "butter",
          "tropical fruit",
          "curd",
          "root vegetables",
          "pork",
          "pastry",
          "yogurt",
          "sausage",
          "beef"
         ]
        ],
        [
         3572,
         [
          "UHT-milk",
          "artif. sweetener",
          "bottled water"
         ],
         [
          "whole milk"
         ]
        ],
        [
         3575,
         [
          "pork",
          "tropical fruit",
          "onions",
          "herbs"
         ],
         [
          "citrus fruit",
          "pip fruit",
          "other vegetables",
          "whole milk",
          "root vegetables",
          "yogurt",
          "sausage"
         ]
        ],
        [
         3576,
         [
          "other vegetables",
          "UHT-milk",
          "sauces",
          "fruit/vegetable juice"
         ],
         [
          "citrus fruit",
          "chicken",
          "whole milk",
          "pip fruit",
          "rolls/buns",
          "frankfurter",
          "tropical fruit",
          "root vegetables",
          "pork",
          "hamburger meat",
          "yogurt",
          "sausage",
          "beef"
         ]
        ],
        [
         3577,
         [
          "berries"
         ],
         []
        ],
        [
         3583,
         [
          "pastry",
          "canned beer"
         ],
         [
          "whole milk"
         ]
        ],
        [
         3591,
         [
          "domestic eggs"
         ],
         []
        ],
        [
         3596,
         [
          "frankfurter",
          "sausage",
          "processed cheese",
          "rolls/buns"
         ],
         [
          "other vegetables",
          "whole milk",
          "soda",
          "yogurt",
          "citrus fruit",
          "pip fruit",
          "root vegetables",
          "tropical fruit"
         ]
        ],
        [
         3608,
         [
          "frankfurter",
          "other vegetables",
          "frozen vegetables",
          "waffles"
         ],
         [
          "citrus fruit",
          "chicken",
          "whole milk",
          "pip fruit",
          "rolls/buns",
          "tropical fruit",
          "root vegetables",
          "pork",
          "hamburger meat",
          "yogurt",
          "sausage",
          "beef"
         ]
        ],
        [
         3614,
         [
          "whole milk",
          "rolls/buns",
          "hygiene articles",
          "napkins"
         ],
         [
          "other vegetables",
          "soda",
          "yogurt",
          "sausage",
          "citrus fruit",
          "chicken",
          "pip fruit",
          "bottled water",
          "whipped/sour cream",
          "frankfurter",
          "butter",
          "tropical fruit",
          "curd",
          "root vegetables",
          "pork",
          "pastry",
          "beef"
         ]
        ],
        [
         3620,
         [
          "napkins"
         ],
         []
        ],
        [
         3624,
         [
          "other vegetables",
          "frozen vegetables",
          "domestic eggs",
          "rolls/buns"
         ],
         [
          "citrus fruit",
          "chicken",
          "whole milk",
          "pip fruit",
          "frankfurter",
          "tropical fruit",
          "root vegetables",
          "pork",
          "hamburger meat",
          "yogurt",
          "sausage",
          "beef",
          "soda"
         ]
        ],
        [
         3629,
         [
          "other vegetables",
          "frozen vegetables",
          "frozen fish",
          "rolls/buns"
         ],
         [
          "citrus fruit",
          "chicken",
          "whole milk",
          "pip fruit",
          "frankfurter",
          "tropical fruit",
          "root vegetables",
          "pork",
          "hamburger meat",
          "yogurt",
          "sausage",
          "beef",
          "soda"
         ]
        ],
        [
         3632,
         [
          "cat food",
          "bottled water",
          "soda",
          "white wine"
         ],
         [
          "whole milk",
          "rolls/buns"
         ]
        ],
        [
         3635,
         [
          "frankfurter",
          "rolls/buns"
         ],
         [
          "other vegetables",
          "whole milk",
          "soda",
          "yogurt",
          "sausage"
         ]
        ],
        [
         3637,
         [
          "soda",
          "chocolate marshmallow"
         ],
         [
          "rolls/buns"
         ]
        ],
        [
         3648,
         [
          "canned beer"
         ],
         []
        ],
        [
         3659,
         [
          "rolls/buns"
         ],
         [
          "other vegetables",
          "whole milk",
          "soda",
          "yogurt",
          "sausage"
         ]
        ],
        [
         3668,
         [
          "ham",
          "chicken",
          "citrus fruit",
          "tropical fruit"
         ],
         [
          "pip fruit",
          "other vegetables",
          "whole milk",
          "root vegetables",
          "yogurt",
          "sausage"
         ]
        ],
        [
         3675,
         [
          "pork",
          "grapes",
          "berries",
          "other vegetables"
         ],
         [
          "citrus fruit",
          "chicken",
          "whole milk",
          "pip fruit",
          "rolls/buns",
          "frankfurter",
          "tropical fruit",
          "root vegetables",
          "hamburger meat",
          "yogurt",
          "sausage",
          "beef"
         ]
        ],
        [
         3686,
         [
          "tropical fruit",
          "grapes",
          "other vegetables",
          "whole milk"
         ],
         [
          "citrus fruit",
          "chicken",
          "pip fruit",
          "rolls/buns",
          "frankfurter",
          "root vegetables",
          "pork",
          "hamburger meat",
          "yogurt",
          "sausage",
          "beef",
          "bottled water",
          "whipped/sour cream",
          "butter",
          "curd",
          "pastry"
         ]
        ],
        [
         3688,
         [
          "ham",
          "citrus fruit",
          "butter milk",
          "yogurt"
         ],
         [
          "rolls/buns",
          "other vegetables",
          "tropical fruit",
          "whole milk",
          "root vegetables",
          "sausage",
          "pip fruit"
         ]
        ],
        [
         3698,
         [
          "newspapers"
         ],
         []
        ],
        [
         3702,
         [
          "citrus fruit",
          "frozen vegetables",
          "domestic eggs",
          "brown bread"
         ],
         [
          "root vegetables",
          "sausage",
          "other vegetables",
          "tropical fruit",
          "yogurt",
          "whole milk",
          "pip fruit"
         ]
        ],
        [
         3703,
         [
          "pork",
          "UHT-milk",
          "bottled water",
          "soda"
         ],
         [
          "whole milk",
          "rolls/buns",
          "root vegetables",
          "other vegetables"
         ]
        ],
        [
         3712,
         [
          "misc. beverages",
          "fruit/vegetable juice"
         ],
         []
        ],
        [
         3725,
         [
          "chicken",
          "beef",
          "yogurt",
          "rolls/buns"
         ],
         [
          "citrus fruit",
          "other vegetables",
          "tropical fruit",
          "whole milk",
          "soda",
          "sausage",
          "root vegetables"
         ]
        ],
        [
         3727,
         [
          "sausage",
          "tropical fruit",
          "semi-finished bread",
          "soda"
         ],
         [
          "citrus fruit",
          "pip fruit",
          "other vegetables",
          "whole milk",
          "root vegetables",
          "yogurt",
          "rolls/buns"
         ]
        ],
        [
         3732,
         [
          "pasta"
         ],
         []
        ],
        [
         3733,
         [
          "soda"
         ],
         [
          "rolls/buns"
         ]
        ],
        [
         3736,
         [
          "canned beer",
          "newspapers"
         ],
         []
        ],
        [
         3742,
         [
          "tropical fruit"
         ],
         [
          "citrus fruit",
          "pip fruit",
          "other vegetables",
          "whole milk",
          "root vegetables",
          "yogurt",
          "sausage"
         ]
        ],
        [
         3743,
         [
          "whole milk",
          "butter",
          "yogurt",
          "rolls/buns"
         ],
         [
          "citrus fruit",
          "other vegetables",
          "tropical fruit",
          "soda",
          "sausage",
          "chicken",
          "pip fruit",
          "bottled water",
          "whipped/sour cream",
          "frankfurter",
          "curd",
          "root vegetables",
          "pork",
          "pastry",
          "beef"
         ]
        ],
        [
         3748,
         [
          "pet care",
          "bottled water"
         ],
         [
          "whole milk"
         ]
        ],
        [
         3753,
         [
          "soda"
         ],
         [
          "rolls/buns"
         ]
        ],
        [
         3755,
         [
          "root vegetables",
          "brown bread",
          "baking powder",
          "napkins"
         ],
         [
          "citrus fruit",
          "pip fruit",
          "other vegetables",
          "tropical fruit",
          "whole milk",
          "pork",
          "sausage",
          "beef"
         ]
        ],
        [
         3756,
         [
          "root vegetables",
          "curd",
          "mayonnaise",
          "domestic eggs"
         ],
         [
          "whole milk",
          "citrus fruit",
          "pip fruit",
          "other vegetables",
          "tropical fruit",
          "pork",
          "sausage",
          "beef"
         ]
        ],
        [
         3765,
         [
          "bottled beer",
          "liquor",
          "red/blush wine"
         ],
         []
        ],
        [
         3767,
         [
          "whole milk",
          "rolls/buns",
          "coffee",
          "fruit/vegetable juice"
         ],
         [
          "other vegetables",
          "soda",
          "yogurt",
          "sausage",
          "citrus fruit",
          "chicken",
          "pip fruit",
          "bottled water",
          "whipped/sour cream",
          "frankfurter",
          "butter",
          "tropical fruit",
          "curd",
          "root vegetables",
          "pork",
          "pastry",
          "beef"
         ]
        ],
        [
         3773,
         [
          "liqueur"
         ],
         []
        ],
        [
         3775,
         [
          "canned beer"
         ],
         []
        ],
        [
         3779,
         [
          "sausage",
          "salty snack",
          "seasonal products"
         ],
         [
          "citrus fruit",
          "pip fruit",
          "rolls/buns",
          "root vegetables",
          "other vegetables",
          "tropical fruit",
          "whole milk"
         ]
        ],
        [
         3781,
         [
          "specialty chocolate"
         ],
         []
        ],
        [
         3789,
         [
          "pork",
          "whole milk",
          "dessert"
         ],
         [
          "citrus fruit",
          "chicken",
          "other vegetables",
          "pip fruit",
          "rolls/buns",
          "bottled water",
          "whipped/sour cream",
          "frankfurter",
          "butter",
          "tropical fruit",
          "curd",
          "root vegetables",
          "pastry",
          "yogurt",
          "sausage",
          "beef"
         ]
        ],
        [
         3792,
         [
          "misc. beverages"
         ],
         []
        ],
        [
         3793,
         [
          "canned beer"
         ],
         []
        ],
        [
         3797,
         [
          "yogurt"
         ],
         [
          "citrus fruit",
          "rolls/buns",
          "other vegetables",
          "tropical fruit",
          "whole milk"
         ]
        ],
        [
         3817,
         [
          "root vegetables",
          "other vegetables"
         ],
         [
          "citrus fruit",
          "chicken",
          "whole milk",
          "pip fruit",
          "rolls/buns",
          "frankfurter",
          "tropical fruit",
          "pork",
          "hamburger meat",
          "yogurt",
          "sausage",
          "beef"
         ]
        ],
        [
         3819,
         [
          "butter"
         ],
         [
          "whole milk"
         ]
        ],
        [
         3821,
         [
          "whole milk",
          "soft cheese",
          "rolls/buns",
          "brown bread"
         ],
         [
          "other vegetables",
          "soda",
          "yogurt",
          "sausage",
          "citrus fruit",
          "chicken",
          "pip fruit",
          "bottled water",
          "whipped/sour cream",
          "frankfurter",
          "butter",
          "tropical fruit",
          "curd",
          "root vegetables",
          "pork",
          "pastry",
          "beef"
         ]
        ],
        [
         3823,
         [
          "bottled water",
          "white wine"
         ],
         [
          "whole milk"
         ]
        ],
        [
         3824,
         [
          "pip fruit",
          "rolls/buns",
          "prosecco",
          "seasonal products"
         ],
         [
          "other vegetables",
          "whole milk",
          "soda",
          "yogurt",
          "sausage",
          "citrus fruit",
          "root vegetables",
          "tropical fruit"
         ]
        ],
        [
         3829,
         [
          "bottled beer",
          "liquor"
         ],
         []
        ],
        [
         3830,
         [
          "pet care",
          "soda",
          "bottled beer",
          "snack products"
         ],
         [
          "rolls/buns"
         ]
        ],
        [
         3842,
         [
          "popcorn",
          "specialty bar",
          "candy"
         ],
         []
        ],
        [
         3843,
         [
          "canned beer"
         ],
         []
        ],
        [
         3846,
         [
          "UHT-milk"
         ],
         []
        ],
        [
         3852,
         [
          "bottled beer",
          "napkins"
         ],
         []
        ],
        [
         3856,
         [
          "yogurt"
         ],
         [
          "citrus fruit",
          "rolls/buns",
          "other vegetables",
          "tropical fruit",
          "whole milk"
         ]
        ],
        [
         3861,
         [
          "canned beer"
         ],
         []
        ],
        [
         3865,
         [
          "pork",
          "citrus fruit",
          "tropical fruit",
          "spread cheese"
         ],
         [
          "pip fruit",
          "other vegetables",
          "whole milk",
          "root vegetables",
          "yogurt",
          "sausage"
         ]
        ],
        [
         3873,
         [
          "pork",
          "beef"
         ],
         [
          "root vegetables",
          "other vegetables",
          "whole milk"
         ]
        ],
        [
         3874,
         [
          "frozen meals",
          "soda"
         ],
         [
          "rolls/buns"
         ]
        ],
        [
         3880,
         [
          "soda"
         ],
         [
          "rolls/buns"
         ]
        ],
        [
         3888,
         [
          "sausage",
          "yogurt",
          "rolls/buns",
          "bottled water"
         ],
         [
          "citrus fruit",
          "other vegetables",
          "tropical fruit",
          "whole milk",
          "soda",
          "pip fruit",
          "root vegetables"
         ]
        ],
        [
         3890,
         [
          "sausage",
          "beef",
          "tropical fruit",
          "pip fruit"
         ],
         [
          "citrus fruit",
          "other vegetables",
          "whole milk",
          "root vegetables",
          "yogurt",
          "rolls/buns"
         ]
        ],
        [
         3891,
         [
          "beef",
          "other vegetables",
          "rolls/buns",
          "bottled beer"
         ],
         [
          "citrus fruit",
          "chicken",
          "whole milk",
          "pip fruit",
          "frankfurter",
          "tropical fruit",
          "root vegetables",
          "pork",
          "hamburger meat",
          "yogurt",
          "sausage",
          "soda"
         ]
        ],
        [
         3892,
         [
          "baking powder",
          "coffee",
          "photo/film"
         ],
         []
        ],
        [
         3902,
         [
          "tropical fruit",
          "other vegetables",
          "whole milk",
          "curd"
         ],
         [
          "citrus fruit",
          "chicken",
          "pip fruit",
          "rolls/buns",
          "frankfurter",
          "root vegetables",
          "pork",
          "hamburger meat",
          "yogurt",
          "sausage",
          "beef",
          "bottled water",
          "whipped/sour cream",
          "butter",
          "pastry"
         ]
        ],
        [
         3903,
         [
          "citrus fruit",
          "tropical fruit",
          "pip fruit",
          "whole milk"
         ],
         [
          "other vegetables",
          "root vegetables",
          "yogurt",
          "sausage",
          "chicken",
          "rolls/buns",
          "bottled water",
          "whipped/sour cream",
          "frankfurter",
          "butter",
          "curd",
          "pork",
          "pastry",
          "beef"
         ]
        ],
        [
         3904,
         [
          "chicken",
          "hamburger meat",
          "citrus fruit",
          "other vegetables"
         ],
         [
          "whole milk",
          "pip fruit",
          "rolls/buns",
          "frankfurter",
          "tropical fruit",
          "root vegetables",
          "pork",
          "yogurt",
          "sausage",
          "beef"
         ]
        ],
        [
         3906,
         [
          "other vegetables",
          "yogurt"
         ],
         [
          "citrus fruit",
          "chicken",
          "whole milk",
          "pip fruit",
          "rolls/buns",
          "frankfurter",
          "tropical fruit",
          "root vegetables",
          "pork",
          "hamburger meat",
          "sausage",
          "beef"
         ]
        ],
        [
         3909,
         [
          "frozen vegetables",
          "margarine",
          "pickled vegetables"
         ],
         []
        ],
        [
         3920,
         [
          "butter milk",
          "UHT-milk",
          "cream cheese",
          "spread cheese"
         ],
         []
        ],
        [
         3925,
         [
          "yogurt",
          "rolls/buns"
         ],
         [
          "citrus fruit",
          "other vegetables",
          "tropical fruit",
          "whole milk",
          "soda",
          "sausage"
         ]
        ],
        [
         3926,
         [
          "berries",
          "root vegetables",
          "yogurt",
          "whipped/sour cream"
         ],
         [
          "whole milk",
          "citrus fruit",
          "rolls/buns",
          "other vegetables",
          "tropical fruit",
          "pip fruit",
          "pork",
          "sausage",
          "beef"
         ]
        ],
        [
         3933,
         [
          "pip fruit",
          "other vegetables",
          "whole milk"
         ],
         [
          "citrus fruit",
          "chicken",
          "rolls/buns",
          "frankfurter",
          "tropical fruit",
          "root vegetables",
          "pork",
          "hamburger meat",
          "yogurt",
          "sausage",
          "beef",
          "bottled water",
          "whipped/sour cream",
          "butter",
          "curd",
          "pastry"
         ]
        ],
        [
         3938,
         [
          "oil",
          "bottled water",
          "long life bakery product"
         ],
         [
          "whole milk"
         ]
        ],
        [
         3941,
         [
          "sausage",
          "root vegetables",
          "curd",
          "yogurt"
         ],
         [
          "citrus fruit",
          "rolls/buns",
          "other vegetables",
          "tropical fruit",
          "whole milk",
          "pip fruit",
          "pork",
          "beef"
         ]
        ],
        [
         3944,
         [
          "frankfurter",
          "meat"
         ],
         [
          "other vegetables",
          "whole milk"
         ]
        ],
        [
         3947,
         [
          "pork",
          "root vegetables",
          "other vegetables",
          "mayonnaise"
         ],
         [
          "citrus fruit",
          "chicken",
          "whole milk",
          "pip fruit",
          "rolls/buns",
          "frankfurter",
          "tropical fruit",
          "hamburger meat",
          "yogurt",
          "sausage",
          "beef"
         ]
        ],
        [
         3963,
         [
          "whole milk",
          "rolls/buns",
          "bottled beer"
         ],
         [
          "other vegetables",
          "soda",
          "yogurt",
          "sausage",
          "citrus fruit",
          "chicken",
          "pip fruit",
          "bottled water",
          "whipped/sour cream",
          "frankfurter",
          "butter",
          "tropical fruit",
          "curd",
          "root vegetables",
          "pork",
          "pastry",
          "beef"
         ]
        ],
        [
         3965,
         [
          "coffee",
          "soda"
         ],
         [
          "rolls/buns"
         ]
        ],
        [
         3979,
         [
          "tropical fruit",
          "root vegetables",
          "sliced cheese",
          "processed cheese"
         ],
         [
          "citrus fruit",
          "pip fruit",
          "other vegetables",
          "whole milk",
          "yogurt",
          "sausage",
          "pork",
          "beef"
         ]
        ],
        [
         3986,
         [
          "canned beer"
         ],
         []
        ],
        [
         3993,
         [
          "chicken",
          "other vegetables",
          "whole milk",
          "curd"
         ],
         [
          "citrus fruit",
          "pip fruit",
          "rolls/buns",
          "frankfurter",
          "tropical fruit",
          "root vegetables",
          "pork",
          "hamburger meat",
          "yogurt",
          "sausage",
          "beef",
          "bottled water",
          "whipped/sour cream",
          "butter",
          "pastry"
         ]
        ],
        [
         3994,
         [
          "shopping bags"
         ],
         []
        ],
        [
         3998,
         [
          "root vegetables",
          "butter",
          "margarine"
         ],
         [
          "citrus fruit",
          "pip fruit",
          "other vegetables",
          "tropical fruit",
          "whole milk",
          "pork",
          "sausage",
          "beef"
         ]
        ],
        [
         4000,
         [
          "sausage",
          "turkey",
          "citrus fruit",
          "other vegetables"
         ],
         [
          "chicken",
          "whole milk",
          "pip fruit",
          "rolls/buns",
          "frankfurter",
          "tropical fruit",
          "root vegetables",
          "pork",
          "hamburger meat",
          "yogurt",
          "beef"
         ]
        ],
        [
         4005,
         [
          "photo/film"
         ],
         []
        ],
        [
         4007,
         [
          "frankfurter",
          "rolls/buns"
         ],
         [
          "other vegetables",
          "whole milk",
          "soda",
          "yogurt",
          "sausage"
         ]
        ],
        [
         4009,
         [
          "beef",
          "pip fruit",
          "onions",
          "whole milk"
         ],
         [
          "citrus fruit",
          "chicken",
          "other vegetables",
          "rolls/buns",
          "bottled water",
          "whipped/sour cream",
          "frankfurter",
          "butter",
          "tropical fruit",
          "curd",
          "root vegetables",
          "pork",
          "pastry",
          "yogurt",
          "sausage"
         ]
        ],
        [
         4019,
         [
          "other vegetables"
         ],
         [
          "citrus fruit",
          "chicken",
          "whole milk",
          "pip fruit",
          "rolls/buns",
          "frankfurter",
          "tropical fruit",
          "root vegetables",
          "pork",
          "hamburger meat",
          "yogurt",
          "sausage",
          "beef"
         ]
        ],
        [
         4021,
         [
          "canned beer"
         ],
         []
        ],
        [
         4026,
         [
          "specialty chocolate",
          "light bulbs"
         ],
         []
        ],
        [
         4030,
         [
          "tropical fruit",
          "shopping bags"
         ],
         [
          "citrus fruit",
          "pip fruit",
          "other vegetables",
          "whole milk",
          "root vegetables",
          "yogurt",
          "sausage"
         ]
        ],
        [
         4041,
         [
          "pork",
          "other vegetables",
          "pot plants"
         ],
         [
          "citrus fruit",
          "chicken",
          "whole milk",
          "pip fruit",
          "rolls/buns",
          "frankfurter",
          "tropical fruit",
          "root vegetables",
          "hamburger meat",
          "yogurt",
          "sausage",
          "beef"
         ]
        ],
        [
         4042,
         [
          "rolls/buns",
          "chewing gum"
         ],
         [
          "other vegetables",
          "whole milk",
          "soda",
          "yogurt",
          "sausage"
         ]
        ],
        [
         4043,
         [
          "margarine",
          "soda"
         ],
         [
          "rolls/buns"
         ]
        ],
        [
         4049,
         [
          "whole milk",
          "butter",
          "newspapers"
         ],
         [
          "citrus fruit",
          "chicken",
          "other vegetables",
          "pip fruit",
          "rolls/buns",
          "bottled water",
          "whipped/sour cream",
          "frankfurter",
          "tropical fruit",
          "curd",
          "root vegetables",
          "pork",
          "pastry",
          "yogurt",
          "sausage",
          "beef"
         ]
        ],
        [
         4067,
         [
          "root vegetables",
          "other vegetables",
          "whole milk",
          "hard cheese"
         ],
         [
          "citrus fruit",
          "chicken",
          "pip fruit",
          "rolls/buns",
          "frankfurter",
          "tropical fruit",
          "pork",
          "hamburger meat",
          "yogurt",
          "sausage",
          "beef",
          "bottled water",
          "whipped/sour cream",
          "butter",
          "curd",
          "pastry"
         ]
        ],
        [
         4068,
         [
          "rolls/buns",
          "sugar",
          "coffee",
          "canned beer"
         ],
         [
          "other vegetables",
          "whole milk",
          "soda",
          "yogurt",
          "sausage"
         ]
        ],
        [
         4070,
         [
          "rolls/buns"
         ],
         [
          "other vegetables",
          "whole milk",
          "soda",
          "yogurt",
          "sausage"
         ]
        ],
        [
         4074,
         [
          "rolls/buns"
         ],
         [
          "other vegetables",
          "whole milk",
          "soda",
          "yogurt",
          "sausage"
         ]
        ],
        [
         4077,
         [
          "butter milk",
          "pastry"
         ],
         [
          "whole milk"
         ]
        ],
        [
         4088,
         [
          "whole milk",
          "whipped/sour cream",
          "hard cheese",
          "rolls/buns"
         ],
         [
          "other vegetables",
          "soda",
          "yogurt",
          "sausage",
          "citrus fruit",
          "chicken",
          "pip fruit",
          "bottled water",
          "frankfurter",
          "butter",
          "tropical fruit",
          "curd",
          "root vegetables",
          "pork",
          "pastry",
          "beef"
         ]
        ],
        [
         4090,
         [
          "ham",
          "beef",
          "whole milk",
          "yogurt"
         ],
         [
          "citrus fruit",
          "rolls/buns",
          "other vegetables",
          "tropical fruit",
          "chicken",
          "pip fruit",
          "bottled water",
          "whipped/sour cream",
          "frankfurter",
          "butter",
          "curd",
          "root vegetables",
          "pork",
          "pastry",
          "sausage"
         ]
        ],
        [
         4095,
         [
          "meat",
          "pip fruit",
          "root vegetables",
          "whole milk"
         ],
         [
          "citrus fruit",
          "chicken",
          "other vegetables",
          "rolls/buns",
          "bottled water",
          "whipped/sour cream",
          "frankfurter",
          "butter",
          "tropical fruit",
          "curd",
          "pork",
          "pastry",
          "yogurt",
          "sausage",
          "beef"
         ]
        ],
        [
         4103,
         [
          "whole milk",
          "semi-finished bread"
         ],
         [
          "citrus fruit",
          "chicken",
          "other vegetables",
          "pip fruit",
          "rolls/buns",
          "bottled water",
          "whipped/sour cream",
          "frankfurter",
          "butter",
          "tropical fruit",
          "curd",
          "root vegetables",
          "pork",
          "pastry",
          "yogurt",
          "sausage",
          "beef"
         ]
        ],
        [
         4105,
         [
          "fruit/vegetable juice"
         ],
         []
        ],
        [
         4107,
         [
          "other vegetables",
          "yogurt",
          "pastry",
          "vinegar"
         ],
         [
          "citrus fruit",
          "chicken",
          "whole milk",
          "pip fruit",
          "rolls/buns",
          "frankfurter",
          "tropical fruit",
          "root vegetables",
          "pork",
          "hamburger meat",
          "sausage",
          "beef"
         ]
        ],
        [
         4111,
         [
          "chicken",
          "citrus fruit",
          "whole milk",
          "yogurt"
         ],
         [
          "rolls/buns",
          "other vegetables",
          "tropical fruit",
          "root vegetables",
          "sausage",
          "pip fruit",
          "bottled water",
          "whipped/sour cream",
          "frankfurter",
          "butter",
          "curd",
          "pork",
          "pastry",
          "beef"
         ]
        ],
        [
         4121,
         [
          "whole milk",
          "curd",
          "rolls/buns"
         ],
         [
          "other vegetables",
          "soda",
          "yogurt",
          "sausage",
          "citrus fruit",
          "chicken",
          "pip fruit",
          "bottled water",
          "whipped/sour cream",
          "frankfurter",
          "butter",
          "tropical fruit",
          "root vegetables",
          "pork",
          "pastry",
          "beef"
         ]
        ],
        [
         4123,
         [
          "pork",
          "whole milk",
          "butter",
          "yogurt"
         ],
         [
          "citrus fruit",
          "rolls/buns",
          "other vegetables",
          "tropical fruit",
          "chicken",
          "pip fruit",
          "bottled water",
          "whipped/sour cream",
          "frankfurter",
          "curd",
          "root vegetables",
          "pastry",
          "sausage",
          "beef"
         ]
        ],
        [
         4128,
         [
          "soda"
         ],
         [
          "rolls/buns"
         ]
        ],
        [
         4132,
         [
          "whole milk",
          "cream cheese",
          "salty snack"
         ],
         [
          "citrus fruit",
          "chicken",
          "other vegetables",
          "pip fruit",
          "rolls/buns",
          "bottled water",
          "whipped/sour cream",
          "frankfurter",
          "butter",
          "tropical fruit",
          "curd",
          "root vegetables",
          "pork",
          "pastry",
          "yogurt",
          "sausage",
          "beef"
         ]
        ],
        [
         4134,
         [
          "tropical fruit",
          "other vegetables"
         ],
         [
          "citrus fruit",
          "chicken",
          "whole milk",
          "pip fruit",
          "rolls/buns",
          "frankfurter",
          "root vegetables",
          "pork",
          "hamburger meat",
          "yogurt",
          "sausage",
          "beef"
         ]
        ],
        [
         4136,
         [
          "ham",
          "onions",
          "other vegetables",
          "whole milk"
         ],
         [
          "citrus fruit",
          "chicken",
          "pip fruit",
          "rolls/buns",
          "frankfurter",
          "tropical fruit",
          "root vegetables",
          "pork",
          "hamburger meat",
          "yogurt",
          "sausage",
          "beef",
          "bottled water",
          "whipped/sour cream",
          "butter",
          "curd",
          "pastry"
         ]
        ],
        [
         4143,
         [
          "beef",
          "root vegetables",
          "jam",
          "toilet cleaner"
         ],
         [
          "other vegetables",
          "whole milk",
          "citrus fruit",
          "pip fruit",
          "tropical fruit",
          "pork",
          "sausage"
         ]
        ],
        [
         4157,
         [
          "tropical fruit",
          "pip fruit",
          "yogurt",
          "frozen vegetables"
         ],
         [
          "citrus fruit",
          "rolls/buns",
          "other vegetables",
          "whole milk",
          "root vegetables",
          "sausage"
         ]
        ],
        [
         4162,
         [
          "chicken",
          "other vegetables",
          "whipped/sour cream",
          "sliced cheese"
         ],
         [
          "citrus fruit",
          "whole milk",
          "pip fruit",
          "rolls/buns",
          "frankfurter",
          "tropical fruit",
          "root vegetables",
          "pork",
          "hamburger meat",
          "yogurt",
          "sausage",
          "beef"
         ]
        ],
        [
         4165,
         [
          "sausage",
          "hamburger meat",
          "other vegetables",
          "yogurt"
         ],
         [
          "citrus fruit",
          "chicken",
          "whole milk",
          "pip fruit",
          "rolls/buns",
          "frankfurter",
          "tropical fruit",
          "root vegetables",
          "pork",
          "beef"
         ]
        ],
        [
         4169,
         [
          "butter milk",
          "ice cream",
          "long life bakery product",
          "chewing gum"
         ],
         []
        ],
        [
         4170,
         [
          "soda",
          "candy"
         ],
         [
          "rolls/buns"
         ]
        ],
        [
         4171,
         [
          "chicken",
          "citrus fruit",
          "berries",
          "root vegetables"
         ],
         [
          "other vegetables",
          "whole milk",
          "sausage",
          "tropical fruit",
          "yogurt",
          "pip fruit",
          "pork",
          "beef"
         ]
        ],
        [
         4176,
         [
          "beverages",
          "cream cheese",
          "rolls/buns",
          "candy"
         ],
         [
          "other vegetables",
          "whole milk",
          "soda",
          "yogurt",
          "sausage"
         ]
        ],
        [
         4195,
         [
          "baking powder",
          "rum"
         ],
         []
        ],
        [
         4197,
         [
          "sugar"
         ],
         []
        ],
        [
         4200,
         [
          "berries",
          "whipped/sour cream",
          "oil",
          "dog food"
         ],
         [
          "whole milk"
         ]
        ],
        [
         4210,
         [
          "herbs",
          "whole milk",
          "sliced cheese",
          "rolls/buns"
         ],
         [
          "other vegetables",
          "soda",
          "yogurt",
          "sausage",
          "citrus fruit",
          "chicken",
          "pip fruit",
          "bottled water",
          "whipped/sour cream",
          "frankfurter",
          "butter",
          "tropical fruit",
          "curd",
          "root vegetables",
          "pork",
          "pastry",
          "beef"
         ]
        ],
        [
         4217,
         [
          "canned beer"
         ],
         []
        ],
        [
         4218,
         [
          "chicken",
          "citrus fruit",
          "onions",
          "other vegetables"
         ],
         [
          "whole milk",
          "pip fruit",
          "rolls/buns",
          "frankfurter",
          "tropical fruit",
          "root vegetables",
          "pork",
          "hamburger meat",
          "yogurt",
          "sausage",
          "beef"
         ]
        ],
        [
         4221,
         [
          "berries",
          "root vegetables",
          "other vegetables",
          "butter milk"
         ],
         [
          "citrus fruit",
          "chicken",
          "whole milk",
          "pip fruit",
          "rolls/buns",
          "frankfurter",
          "tropical fruit",
          "pork",
          "hamburger meat",
          "yogurt",
          "sausage",
          "beef"
         ]
        ],
        [
         4223,
         [
          "frankfurter",
          "bottled beer",
          "liquor"
         ],
         [
          "other vegetables",
          "whole milk"
         ]
        ],
        [
         4228,
         [
          "other vegetables"
         ],
         [
          "citrus fruit",
          "chicken",
          "whole milk",
          "pip fruit",
          "rolls/buns",
          "frankfurter",
          "tropical fruit",
          "root vegetables",
          "pork",
          "hamburger meat",
          "yogurt",
          "sausage",
          "beef"
         ]
        ],
        [
         4233,
         [
          "pork",
          "whole milk",
          "yogurt",
          "UHT-milk"
         ],
         [
          "citrus fruit",
          "rolls/buns",
          "other vegetables",
          "tropical fruit",
          "chicken",
          "pip fruit",
          "bottled water",
          "whipped/sour cream",
          "frankfurter",
          "butter",
          "curd",
          "root vegetables",
          "pastry",
          "sausage",
          "beef"
         ]
        ],
        [
         4234,
         [
          "root vegetables",
          "onions",
          "other vegetables",
          "whole milk"
         ],
         [
          "citrus fruit",
          "chicken",
          "pip fruit",
          "rolls/buns",
          "frankfurter",
          "tropical fruit",
          "pork",
          "hamburger meat",
          "yogurt",
          "sausage",
          "beef",
          "bottled water",
          "whipped/sour cream",
          "butter",
          "curd",
          "pastry"
         ]
        ],
        [
         4240,
         [
          "sausage",
          "citrus fruit",
          "canned fish",
          "waffles"
         ],
         [
          "pip fruit",
          "rolls/buns",
          "root vegetables",
          "other vegetables",
          "tropical fruit",
          "whole milk",
          "yogurt"
         ]
        ],
        [
         4241,
         [
          "soda"
         ],
         [
          "rolls/buns"
         ]
        ],
        [
         4246,
         [
          "liver loaf",
          "chicken",
          "turkey",
          "berries"
         ],
         [
          "other vegetables",
          "whole milk"
         ]
        ],
        [
         4249,
         [
          "other vegetables",
          "canned fish",
          "soda",
          "shopping bags"
         ],
         [
          "citrus fruit",
          "chicken",
          "whole milk",
          "pip fruit",
          "rolls/buns",
          "frankfurter",
          "tropical fruit",
          "root vegetables",
          "pork",
          "hamburger meat",
          "yogurt",
          "sausage",
          "beef"
         ]
        ],
        [
         4254,
         [
          "berries"
         ],
         []
        ],
        [
         4255,
         [
          "other vegetables",
          "whole milk",
          "fruit/vegetable juice",
          "chocolate"
         ],
         [
          "citrus fruit",
          "chicken",
          "pip fruit",
          "rolls/buns",
          "frankfurter",
          "tropical fruit",
          "root vegetables",
          "pork",
          "hamburger meat",
          "yogurt",
          "sausage",
          "beef",
          "bottled water",
          "whipped/sour cream",
          "butter",
          "curd",
          "pastry"
         ]
        ],
        [
         4256,
         [
          "chicken",
          "beef",
          "root vegetables",
          "whole milk"
         ],
         [
          "other vegetables",
          "citrus fruit",
          "pip fruit",
          "rolls/buns",
          "bottled water",
          "whipped/sour cream",
          "frankfurter",
          "butter",
          "tropical fruit",
          "curd",
          "pork",
          "pastry",
          "yogurt",
          "sausage"
         ]
        ],
        [
         4270,
         [
          "frankfurter",
          "root vegetables",
          "onions",
          "canned beer"
         ],
         [
          "other vegetables",
          "whole milk",
          "citrus fruit",
          "pip fruit",
          "tropical fruit",
          "pork",
          "sausage",
          "beef"
         ]
        ],
        [
         4276,
         [
          "whole milk",
          "rolls/buns"
         ],
         [
          "other vegetables",
          "soda",
          "yogurt",
          "sausage",
          "citrus fruit",
          "chicken",
          "pip fruit",
          "bottled water",
          "whipped/sour cream",
          "frankfurter",
          "butter",
          "tropical fruit",
          "curd",
          "root vegetables",
          "pork",
          "pastry",
          "beef"
         ]
        ],
        [
         4278,
         [
          "chocolate marshmallow"
         ],
         []
        ],
        [
         4283,
         [
          "frankfurter"
         ],
         [
          "other vegetables",
          "whole milk"
         ]
        ],
        [
         4287,
         [
          "ham",
          "tropical fruit",
          "whole milk",
          "dessert"
         ],
         [
          "citrus fruit",
          "pip fruit",
          "other vegetables",
          "root vegetables",
          "yogurt",
          "sausage",
          "chicken",
          "rolls/buns",
          "bottled water",
          "whipped/sour cream",
          "frankfurter",
          "butter",
          "curd",
          "pork",
          "pastry",
          "beef"
         ]
        ],
        [
         4290,
         [
          "whole milk",
          "curd",
          "pastry",
          "fruit/vegetable juice"
         ],
         [
          "citrus fruit",
          "chicken",
          "other vegetables",
          "pip fruit",
          "rolls/buns",
          "bottled water",
          "whipped/sour cream",
          "frankfurter",
          "butter",
          "tropical fruit",
          "root vegetables",
          "pork",
          "yogurt",
          "sausage",
          "beef"
         ]
        ],
        [
         4292,
         [
          "finished products",
          "fruit/vegetable juice",
          "white wine",
          "chocolate"
         ],
         []
        ],
        [
         4298,
         [
          "berries",
          "fruit/vegetable juice",
          "waffles",
          "specialty bar"
         ],
         []
        ],
        [
         4310,
         [
          "ham",
          "pork",
          "whole milk",
          "pastry"
         ],
         [
          "citrus fruit",
          "chicken",
          "other vegetables",
          "pip fruit",
          "rolls/buns",
          "bottled water",
          "whipped/sour cream",
          "frankfurter",
          "butter",
          "tropical fruit",
          "curd",
          "root vegetables",
          "yogurt",
          "sausage",
          "beef"
         ]
        ],
        [
         4327,
         [
          "root vegetables",
          "other vegetables"
         ],
         [
          "citrus fruit",
          "chicken",
          "whole milk",
          "pip fruit",
          "rolls/buns",
          "frankfurter",
          "tropical fruit",
          "pork",
          "hamburger meat",
          "yogurt",
          "sausage",
          "beef"
         ]
        ],
        [
         4337,
         [
          "citrus fruit",
          "whole milk"
         ],
         [
          "root vegetables",
          "sausage",
          "other vegetables",
          "tropical fruit",
          "yogurt",
          "pip fruit",
          "chicken",
          "rolls/buns",
          "bottled water",
          "whipped/sour cream",
          "frankfurter",
          "butter",
          "curd",
          "pork",
          "pastry",
          "beef"
         ]
        ],
        [
         4349,
         [
          "root vegetables",
          "soda",
          "liquor"
         ],
         [
          "rolls/buns",
          "citrus fruit",
          "pip fruit",
          "other vegetables",
          "tropical fruit",
          "whole milk",
          "pork",
          "sausage",
          "beef"
         ]
        ],
        [
         4376,
         [
          "pastry"
         ],
         [
          "whole milk"
         ]
        ],
        [
         4381,
         [
          "citrus fruit",
          "whole milk",
          "yogurt",
          "whipped/sour cream"
         ],
         [
          "rolls/buns",
          "other vegetables",
          "tropical fruit",
          "root vegetables",
          "sausage",
          "pip fruit",
          "chicken",
          "bottled water",
          "frankfurter",
          "butter",
          "curd",
          "pork",
          "pastry",
          "beef"
         ]
        ],
        [
         4385,
         [
          "other vegetables",
          "salt",
          "sweet spreads"
         ],
         [
          "citrus fruit",
          "chicken",
          "whole milk",
          "pip fruit",
          "rolls/buns",
          "frankfurter",
          "tropical fruit",
          "root vegetables",
          "pork",
          "hamburger meat",
          "yogurt",
          "sausage",
          "beef"
         ]
        ],
        [
         4394,
         [
          "onions",
          "other vegetables",
          "whole milk",
          "butter"
         ],
         [
          "citrus fruit",
          "chicken",
          "pip fruit",
          "rolls/buns",
          "frankfurter",
          "tropical fruit",
          "root vegetables",
          "pork",
          "hamburger meat",
          "yogurt",
          "sausage",
          "beef",
          "bottled water",
          "whipped/sour cream",
          "curd",
          "pastry"
         ]
        ],
        [
         4403,
         [
          "canned vegetables",
          "white wine",
          "newspapers",
          "flower soil/fertilizer"
         ],
         []
        ],
        [
         4406,
         [
          "frankfurter",
          "rolls/buns",
          "dishes",
          "shopping bags"
         ],
         [
          "other vegetables",
          "whole milk",
          "soda",
          "yogurt",
          "sausage"
         ]
        ],
        [
         4407,
         [
          "rolls/buns"
         ],
         [
          "other vegetables",
          "whole milk",
          "soda",
          "yogurt",
          "sausage"
         ]
        ],
        [
         4412,
         [
          "sausage",
          "UHT-milk",
          "pastry",
          "margarine"
         ],
         [
          "whole milk",
          "citrus fruit",
          "pip fruit",
          "rolls/buns",
          "root vegetables",
          "other vegetables",
          "tropical fruit"
         ]
        ],
        [
         4413,
         [
          "white wine",
          "red/blush wine"
         ],
         []
        ],
        [
         4422,
         [
          "root vegetables",
          "whole milk",
          "honey",
          "pudding powder"
         ],
         [
          "citrus fruit",
          "chicken",
          "other vegetables",
          "pip fruit",
          "rolls/buns",
          "bottled water",
          "whipped/sour cream",
          "frankfurter",
          "butter",
          "tropical fruit",
          "curd",
          "pork",
          "pastry",
          "yogurt",
          "sausage",
          "beef"
         ]
        ],
        [
         4426,
         [
          "tropical fruit",
          "whole milk",
          "curd",
          "yogurt"
         ],
         [
          "citrus fruit",
          "rolls/buns",
          "other vegetables",
          "pip fruit",
          "root vegetables",
          "sausage",
          "chicken",
          "bottled water",
          "whipped/sour cream",
          "frankfurter",
          "butter",
          "pork",
          "pastry",
          "beef"
         ]
        ],
        [
         4428,
         [
          "sausage",
          "ham",
          "pork",
          "other vegetables"
         ],
         [
          "citrus fruit",
          "chicken",
          "whole milk",
          "pip fruit",
          "rolls/buns",
          "frankfurter",
          "tropical fruit",
          "root vegetables",
          "hamburger meat",
          "yogurt",
          "beef"
         ]
        ],
        [
         4430,
         [
          "frankfurter",
          "sausage",
          "liver loaf",
          "beef"
         ],
         [
          "citrus fruit",
          "pip fruit",
          "rolls/buns",
          "root vegetables",
          "other vegetables",
          "tropical fruit",
          "whole milk"
         ]
        ],
        [
         4433,
         [
          "chicken",
          "pork",
          "citrus fruit",
          "berries"
         ],
         [
          "other vegetables",
          "whole milk",
          "root vegetables",
          "sausage",
          "tropical fruit",
          "yogurt",
          "pip fruit"
         ]
        ],
        [
         4438,
         [
          "canned beer"
         ],
         []
        ],
        [
         4439,
         [
          "tropical fruit",
          "whole milk",
          "domestic eggs",
          "pastry"
         ],
         [
          "citrus fruit",
          "pip fruit",
          "other vegetables",
          "root vegetables",
          "yogurt",
          "sausage",
          "chicken",
          "rolls/buns",
          "bottled water",
          "whipped/sour cream",
          "frankfurter",
          "butter",
          "curd",
          "pork",
          "beef"
         ]
        ],
        [
         4443,
         [
          "pork",
          "pip fruit",
          "root vegetables",
          "other vegetables"
         ],
         [
          "citrus fruit",
          "chicken",
          "whole milk",
          "rolls/buns",
          "frankfurter",
          "tropical fruit",
          "hamburger meat",
          "yogurt",
          "sausage",
          "beef"
         ]
        ],
        [
         4450,
         [
          "root vegetables",
          "other vegetables",
          "whole milk",
          "sliced cheese"
         ],
         [
          "citrus fruit",
          "chicken",
          "pip fruit",
          "rolls/buns",
          "frankfurter",
          "tropical fruit",
          "pork",
          "hamburger meat",
          "yogurt",
          "sausage",
          "beef",
          "bottled water",
          "whipped/sour cream",
          "butter",
          "curd",
          "pastry"
         ]
        ],
        [
         4458,
         [
          "root vegetables",
          "other vegetables",
          "UHT-milk",
          "hard cheese"
         ],
         [
          "citrus fruit",
          "chicken",
          "whole milk",
          "pip fruit",
          "rolls/buns",
          "frankfurter",
          "tropical fruit",
          "pork",
          "hamburger meat",
          "yogurt",
          "sausage",
          "beef"
         ]
        ],
        [
         4467,
         [
          "whole milk",
          "domestic eggs",
          "oil"
         ],
         [
          "citrus fruit",
          "chicken",
          "other vegetables",
          "pip fruit",
          "rolls/buns",
          "bottled water",
          "whipped/sour cream",
          "frankfurter",
          "butter",
          "tropical fruit",
          "curd",
          "root vegetables",
          "pork",
          "pastry",
          "yogurt",
          "sausage",
          "beef"
         ]
        ],
        [
         4476,
         [
          "soft cheese",
          "rolls/buns",
          "brown bread",
          "syrup"
         ],
         [
          "other vegetables",
          "whole milk",
          "soda",
          "yogurt",
          "sausage"
         ]
        ],
        [
         4478,
         [
          "tropical fruit",
          "pip fruit",
          "grapes",
          "whole milk"
         ],
         [
          "citrus fruit",
          "other vegetables",
          "root vegetables",
          "yogurt",
          "sausage",
          "chicken",
          "rolls/buns",
          "bottled water",
          "whipped/sour cream",
          "frankfurter",
          "butter",
          "curd",
          "pork",
          "pastry",
          "beef"
         ]
        ],
        [
         4484,
         [
          "whole milk",
          "butter",
          "yogurt",
          "rolls/buns"
         ],
         [
          "citrus fruit",
          "other vegetables",
          "tropical fruit",
          "soda",
          "sausage",
          "chicken",
          "pip fruit",
          "bottled water",
          "whipped/sour cream",
          "frankfurter",
          "curd",
          "root vegetables",
          "pork",
          "pastry",
          "beef"
         ]
        ],
        [
         4487,
         [
          "frankfurter",
          "other vegetables",
          "cream cheese",
          "sweet spreads"
         ],
         [
          "citrus fruit",
          "chicken",
          "whole milk",
          "pip fruit",
          "rolls/buns",
          "tropical fruit",
          "root vegetables",
          "pork",
          "hamburger meat",
          "yogurt",
          "sausage",
          "beef"
         ]
        ],
        [
         4497,
         [
          "chicken"
         ],
         [
          "other vegetables",
          "whole milk"
         ]
        ],
        [
         4505,
         [
          "root vegetables",
          "packaged fruit/vegetables",
          "rolls/buns",
          "sugar"
         ],
         [
          "other vegetables",
          "whole milk",
          "soda",
          "yogurt",
          "sausage",
          "citrus fruit",
          "pip fruit",
          "tropical fruit",
          "pork",
          "beef"
         ]
        ],
        [
         4507,
         [
          "yogurt",
          "canned vegetables",
          "pot plants"
         ],
         [
          "citrus fruit",
          "rolls/buns",
          "other vegetables",
          "tropical fruit",
          "whole milk"
         ]
        ],
        [
         4513,
         [
          "other vegetables",
          "yogurt",
          "whipped/sour cream",
          "newspapers"
         ],
         [
          "citrus fruit",
          "chicken",
          "whole milk",
          "pip fruit",
          "rolls/buns",
          "frankfurter",
          "tropical fruit",
          "root vegetables",
          "pork",
          "hamburger meat",
          "sausage",
          "beef"
         ]
        ],
        [
         4517,
         [
          "pip fruit",
          "beverages",
          "frozen vegetables",
          "frozen meals"
         ],
         [
          "citrus fruit",
          "root vegetables",
          "sausage",
          "other vegetables",
          "tropical fruit",
          "whole milk"
         ]
        ],
        [
         4521,
         [
          "pork",
          "onions",
          "other vegetables",
          "whole milk"
         ],
         [
          "citrus fruit",
          "chicken",
          "pip fruit",
          "rolls/buns",
          "frankfurter",
          "tropical fruit",
          "root vegetables",
          "hamburger meat",
          "yogurt",
          "sausage",
          "beef",
          "bottled water",
          "whipped/sour cream",
          "butter",
          "curd",
          "pastry"
         ]
        ],
        [
         4522,
         [
          "sausage",
          "pip fruit",
          "root vegetables",
          "whole milk"
         ],
         [
          "citrus fruit",
          "rolls/buns",
          "other vegetables",
          "tropical fruit",
          "chicken",
          "bottled water",
          "whipped/sour cream",
          "frankfurter",
          "butter",
          "curd",
          "pork",
          "pastry",
          "yogurt",
          "beef"
         ]
        ],
        [
         4524,
         [
          "bottled water"
         ],
         [
          "whole milk"
         ]
        ],
        [
         4538,
         [
          "chicken",
          "root vegetables",
          "whole milk",
          "butter"
         ],
         [
          "other vegetables",
          "citrus fruit",
          "pip fruit",
          "rolls/buns",
          "bottled water",
          "whipped/sour cream",
          "frankfurter",
          "tropical fruit",
          "curd",
          "pork",
          "pastry",
          "yogurt",
          "sausage",
          "beef"
         ]
        ],
        [
         4540,
         [
          "citrus fruit",
          "berries",
          "butter",
          "butter milk"
         ],
         [
          "root vegetables",
          "sausage",
          "other vegetables",
          "tropical fruit",
          "yogurt",
          "whole milk",
          "pip fruit"
         ]
        ],
        [
         4544,
         [
          "bottled beer"
         ],
         []
        ],
        [
         4549,
         [
          "tropical fruit",
          "other vegetables",
          "rolls/buns",
          "salt"
         ],
         [
          "citrus fruit",
          "chicken",
          "whole milk",
          "pip fruit",
          "frankfurter",
          "root vegetables",
          "pork",
          "hamburger meat",
          "yogurt",
          "sausage",
          "beef",
          "soda"
         ]
        ],
        [
         4550,
         [
          "sausage",
          "hamburger meat",
          "citrus fruit",
          "whole milk"
         ],
         [
          "pip fruit",
          "rolls/buns",
          "root vegetables",
          "other vegetables",
          "tropical fruit",
          "yogurt",
          "chicken",
          "bottled water",
          "whipped/sour cream",
          "frankfurter",
          "butter",
          "curd",
          "pork",
          "pastry",
          "beef"
         ]
        ],
        [
         4562,
         [
          "tropical fruit",
          "pip fruit",
          "yogurt",
          "frozen vegetables"
         ],
         [
          "citrus fruit",
          "rolls/buns",
          "other vegetables",
          "whole milk",
          "root vegetables",
          "sausage"
         ]
        ],
        [
         4564,
         [
          "whole milk",
          "dessert",
          "whipped/sour cream",
          "ice cream"
         ],
         [
          "citrus fruit",
          "chicken",
          "other vegetables",
          "pip fruit",
          "rolls/buns",
          "bottled water",
          "frankfurter",
          "butter",
          "tropical fruit",
          "curd",
          "root vegetables",
          "pork",
          "pastry",
          "yogurt",
          "sausage",
          "beef"
         ]
        ],
        [
         4571,
         [
          "salty snack",
          "candy"
         ],
         []
        ],
        [
         4577,
         [
          "canned beer"
         ],
         []
        ],
        [
         4582,
         [
          "bottled beer"
         ],
         []
        ],
        [
         4583,
         [
          "domestic eggs",
          "canned beer",
          "shopping bags"
         ],
         []
        ],
        [
         4589,
         [
          "hard cheese"
         ],
         []
        ],
        [
         4593,
         [
          "misc. beverages"
         ],
         []
        ],
        [
         4600,
         [
          "bottled beer",
          "liquor (appetizer)",
          "dishes"
         ],
         []
        ],
        [
         4601,
         [
          "tropical fruit",
          "yogurt",
          "cream cheese "
         ],
         [
          "citrus fruit",
          "rolls/buns",
          "other vegetables",
          "whole milk",
          "pip fruit",
          "root vegetables",
          "sausage"
         ]
        ],
        [
         4602,
         [
          "UHT-milk",
          "brown bread",
          "newspapers"
         ],
         []
        ],
        [
         4610,
         [
          "pastry",
          "soda"
         ],
         [
          "whole milk",
          "rolls/buns"
         ]
        ],
        [
         4618,
         [
          "soda",
          "long life bakery product"
         ],
         [
          "rolls/buns"
         ]
        ],
        [
         4620,
         [
          "canned beer"
         ],
         []
        ],
        [
         4623,
         [
          "yogurt",
          "soda",
          "waffles"
         ],
         [
          "citrus fruit",
          "rolls/buns",
          "other vegetables",
          "tropical fruit",
          "whole milk"
         ]
        ],
        [
         4638,
         [
          "whole milk",
          "butter",
          "yogurt",
          "beverages"
         ],
         [
          "citrus fruit",
          "rolls/buns",
          "other vegetables",
          "tropical fruit",
          "chicken",
          "pip fruit",
          "bottled water",
          "whipped/sour cream",
          "frankfurter",
          "curd",
          "root vegetables",
          "pork",
          "pastry",
          "sausage",
          "beef"
         ]
        ],
        [
         4639,
         [
          "rolls/buns",
          "soda"
         ],
         [
          "other vegetables",
          "whole milk",
          "yogurt",
          "sausage"
         ]
        ],
        [
         4654,
         [
          "sausage",
          "liquor (appetizer)"
         ],
         [
          "citrus fruit",
          "pip fruit",
          "rolls/buns",
          "root vegetables",
          "other vegetables",
          "tropical fruit",
          "whole milk"
         ]
        ],
        [
         4657,
         [
          "yogurt",
          "bottled water"
         ],
         [
          "citrus fruit",
          "rolls/buns",
          "other vegetables",
          "tropical fruit",
          "whole milk"
         ]
        ],
        [
         4672,
         [
          "meat",
          "other vegetables",
          "whole milk",
          "rolls/buns"
         ],
         [
          "citrus fruit",
          "chicken",
          "pip fruit",
          "frankfurter",
          "tropical fruit",
          "root vegetables",
          "pork",
          "hamburger meat",
          "yogurt",
          "sausage",
          "beef",
          "soda",
          "bottled water",
          "whipped/sour cream",
          "butter",
          "curd",
          "pastry"
         ]
        ],
        [
         4675,
         [
          "pork",
          "root vegetables",
          "pasta"
         ],
         [
          "citrus fruit",
          "pip fruit",
          "other vegetables",
          "tropical fruit",
          "whole milk",
          "sausage",
          "beef"
         ]
        ],
        [
         4676,
         [
          "other vegetables",
          "cake bar"
         ],
         [
          "citrus fruit",
          "chicken",
          "whole milk",
          "pip fruit",
          "rolls/buns",
          "frankfurter",
          "tropical fruit",
          "root vegetables",
          "pork",
          "hamburger meat",
          "yogurt",
          "sausage",
          "beef"
         ]
        ],
        [
         4677,
         [
          "whole milk",
          "shopping bags"
         ],
         [
          "citrus fruit",
          "chicken",
          "other vegetables",
          "pip fruit",
          "rolls/buns",
          "bottled water",
          "whipped/sour cream",
          "frankfurter",
          "butter",
          "tropical fruit",
          "curd",
          "root vegetables",
          "pork",
          "pastry",
          "yogurt",
          "sausage",
          "beef"
         ]
        ],
        [
         4679,
         [
          "sausage",
          "citrus fruit",
          "other vegetables",
          "whipped/sour cream"
         ],
         [
          "chicken",
          "whole milk",
          "pip fruit",
          "rolls/buns",
          "frankfurter",
          "tropical fruit",
          "root vegetables",
          "pork",
          "hamburger meat",
          "yogurt",
          "beef"
         ]
        ],
        [
         4681,
         [
          "organic sausage",
          "turkey",
          "tropical fruit",
          "pip fruit"
         ],
         [
          "citrus fruit",
          "other vegetables",
          "whole milk",
          "root vegetables",
          "yogurt",
          "sausage"
         ]
        ],
        [
         4684,
         [
          "yogurt"
         ],
         [
          "citrus fruit",
          "rolls/buns",
          "other vegetables",
          "tropical fruit",
          "whole milk"
         ]
        ],
        [
         4685,
         [
          "meat",
          "pip fruit",
          "dessert",
          "processed cheese"
         ],
         [
          "citrus fruit",
          "root vegetables",
          "sausage",
          "other vegetables",
          "tropical fruit",
          "whole milk"
         ]
        ],
        [
         4692,
         [
          "sausage",
          "hamburger meat",
          "citrus fruit",
          "whole milk"
         ],
         [
          "pip fruit",
          "rolls/buns",
          "root vegetables",
          "other vegetables",
          "tropical fruit",
          "yogurt",
          "chicken",
          "bottled water",
          "whipped/sour cream",
          "frankfurter",
          "butter",
          "curd",
          "pork",
          "pastry",
          "beef"
         ]
        ],
        [
         4693,
         [
          "frankfurter",
          "sausage",
          "rolls/buns",
          "soda"
         ],
         [
          "other vegetables",
          "whole milk",
          "yogurt",
          "citrus fruit",
          "pip fruit",
          "root vegetables",
          "tropical fruit"
         ]
        ],
        [
         4697,
         [
          "long life bakery product",
          "house keeping products"
         ],
         []
        ],
        [
         4700,
         [
          "citrus fruit",
          "onions",
          "beverages",
          "margarine"
         ],
         [
          "root vegetables",
          "sausage",
          "other vegetables",
          "tropical fruit",
          "yogurt",
          "whole milk",
          "pip fruit"
         ]
        ],
        [
         4702,
         [
          "sausage",
          "hard cheese",
          "rolls/buns",
          "specialty fat"
         ],
         [
          "other vegetables",
          "whole milk",
          "soda",
          "yogurt",
          "citrus fruit",
          "pip fruit",
          "root vegetables",
          "tropical fruit"
         ]
        ],
        [
         4707,
         [
          "canned beer"
         ],
         []
        ],
        [
         4710,
         [
          "canned beer"
         ],
         []
        ],
        [
         4715,
         [
          "frankfurter",
          "sausage",
          "tropical fruit",
          "root vegetables"
         ],
         [
          "citrus fruit",
          "pip fruit",
          "other vegetables",
          "whole milk",
          "yogurt",
          "rolls/buns",
          "pork",
          "beef"
         ]
        ],
        [
         4729,
         [
          "hamburger meat",
          "margarine",
          "soda",
          "bathroom cleaner"
         ],
         [
          "rolls/buns",
          "other vegetables"
         ]
        ],
        [
         4730,
         [
          "pork",
          "other vegetables",
          "whole milk",
          "frozen potato products"
         ],
         [
          "citrus fruit",
          "chicken",
          "pip fruit",
          "rolls/buns",
          "frankfurter",
          "tropical fruit",
          "root vegetables",
          "hamburger meat",
          "yogurt",
          "sausage",
          "beef",
          "bottled water",
          "whipped/sour cream",
          "butter",
          "curd",
          "pastry"
         ]
        ],
        [
         4731,
         [
          "nuts/prunes",
          "other vegetables",
          "rum"
         ],
         [
          "citrus fruit",
          "chicken",
          "whole milk",
          "pip fruit",
          "rolls/buns",
          "frankfurter",
          "tropical fruit",
          "root vegetables",
          "pork",
          "hamburger meat",
          "yogurt",
          "sausage",
          "beef"
         ]
        ],
        [
         4734,
         [
          "rolls/buns",
          "canned beer"
         ],
         [
          "other vegetables",
          "whole milk",
          "soda",
          "yogurt",
          "sausage"
         ]
        ],
        [
         4735,
         [
          "sausage",
          "soda",
          "specialty chocolate"
         ],
         [
          "citrus fruit",
          "pip fruit",
          "rolls/buns",
          "root vegetables",
          "other vegetables",
          "tropical fruit",
          "whole milk"
         ]
        ],
        [
         4749,
         [
          "sausage",
          "yogurt",
          "pastry",
          "cat food"
         ],
         [
          "whole milk",
          "citrus fruit",
          "rolls/buns",
          "other vegetables",
          "tropical fruit",
          "pip fruit",
          "root vegetables"
         ]
        ],
        [
         4754,
         [
          "bottled beer",
          "white wine"
         ],
         []
        ],
        [
         4765,
         [
          "soda",
          "bottled beer",
          "liquor",
          "red/blush wine"
         ],
         [
          "rolls/buns"
         ]
        ],
        [
         4766,
         [
          "whole milk",
          "butter",
          "cat food"
         ],
         [
          "citrus fruit",
          "chicken",
          "other vegetables",
          "pip fruit",
          "rolls/buns",
          "bottled water",
          "whipped/sour cream",
          "frankfurter",
          "tropical fruit",
          "curd",
          "root vegetables",
          "pork",
          "pastry",
          "yogurt",
          "sausage",
          "beef"
         ]
        ],
        [
         4773,
         [
          "hamburger meat",
          "tropical fruit",
          "other vegetables",
          "whole milk"
         ],
         [
          "citrus fruit",
          "chicken",
          "pip fruit",
          "rolls/buns",
          "frankfurter",
          "root vegetables",
          "pork",
          "yogurt",
          "sausage",
          "beef",
          "bottled water",
          "whipped/sour cream",
          "butter",
          "curd",
          "pastry"
         ]
        ],
        [
         4785,
         [
          "canned beer"
         ],
         []
        ],
        [
         4810,
         [
          "frozen meals"
         ],
         []
        ],
        [
         4813,
         [
          "soda",
          "bottled beer",
          "liquor",
          "red/blush wine"
         ],
         [
          "rolls/buns"
         ]
        ],
        [
         4819,
         [
          "soda"
         ],
         [
          "rolls/buns"
         ]
        ],
        [
         4821,
         [
          "curd",
          "yogurt"
         ],
         [
          "citrus fruit",
          "rolls/buns",
          "other vegetables",
          "tropical fruit",
          "whole milk"
         ]
        ],
        [
         4826,
         [
          "curd",
          "UHT-milk",
          "bottled water"
         ],
         [
          "whole milk"
         ]
        ],
        [
         4828,
         [
          "citrus fruit",
          "root vegetables",
          "onions",
          "whole milk"
         ],
         [
          "sausage",
          "other vegetables",
          "tropical fruit",
          "yogurt",
          "pip fruit",
          "chicken",
          "rolls/buns",
          "bottled water",
          "whipped/sour cream",
          "frankfurter",
          "butter",
          "curd",
          "pork",
          "pastry",
          "beef"
         ]
        ],
        [
         4832,
         [
          "cream cheese",
          "ice cream",
          "pastry",
          "specialty chocolate"
         ],
         [
          "whole milk"
         ]
        ],
        [
         4833,
         [
          "tropical fruit",
          "pip fruit",
          "whole milk",
          "pastry"
         ],
         [
          "citrus fruit",
          "other vegetables",
          "root vegetables",
          "yogurt",
          "sausage",
          "chicken",
          "rolls/buns",
          "bottled water",
          "whipped/sour cream",
          "frankfurter",
          "butter",
          "curd",
          "pork",
          "beef"
         ]
        ],
        [
         4834,
         [
          "beverages"
         ],
         []
        ],
        [
         4859,
         [
          "meat",
          "citrus fruit",
          "pip fruit",
          "root vegetables"
         ],
         [
          "sausage",
          "other vegetables",
          "tropical fruit",
          "yogurt",
          "whole milk",
          "pork",
          "beef"
         ]
        ],
        [
         4863,
         [
          "frozen meals",
          "white bread",
          "fruit/vegetable juice"
         ],
         []
        ],
        [
         4868,
         [
          "sausage",
          "beverages",
          "rolls/buns"
         ],
         [
          "other vegetables",
          "whole milk",
          "soda",
          "yogurt",
          "citrus fruit",
          "pip fruit",
          "root vegetables",
          "tropical fruit"
         ]
        ],
        [
         4869,
         [
          "butter",
          "napkins"
         ],
         [
          "whole milk"
         ]
        ],
        [
         4870,
         [
          "chicken",
          "fruit/vegetable juice",
          "long life bakery product"
         ],
         [
          "other vegetables",
          "whole milk"
         ]
        ],
        [
         4874,
         [
          "citrus fruit",
          "berries",
          "yogurt",
          "bottled water"
         ],
         [
          "rolls/buns",
          "other vegetables",
          "tropical fruit",
          "whole milk",
          "root vegetables",
          "sausage",
          "pip fruit"
         ]
        ],
        [
         4883,
         [
          "beef",
          "spread cheese",
          "domestic eggs",
          "cat food"
         ],
         [
          "root vegetables",
          "other vegetables",
          "whole milk"
         ]
        ],
        [
         4888,
         [
          "bottled beer"
         ],
         []
        ],
        [
         4889,
         [
          "yogurt",
          "frozen dessert"
         ],
         [
          "citrus fruit",
          "rolls/buns",
          "other vegetables",
          "tropical fruit",
          "whole milk"
         ]
        ],
        [
         4890,
         [
          "whole milk",
          "coffee",
          "cooking chocolate",
          "newspapers"
         ],
         [
          "citrus fruit",
          "chicken",
          "other vegetables",
          "pip fruit",
          "rolls/buns",
          "bottled water",
          "whipped/sour cream",
          "frankfurter",
          "butter",
          "tropical fruit",
          "curd",
          "root vegetables",
          "pork",
          "pastry",
          "yogurt",
          "sausage",
          "beef"
         ]
        ],
        [
         4896,
         [
          "frankfurter",
          "pork",
          "other vegetables",
          "whole milk"
         ],
         [
          "citrus fruit",
          "chicken",
          "pip fruit",
          "rolls/buns",
          "tropical fruit",
          "root vegetables",
          "hamburger meat",
          "yogurt",
          "sausage",
          "beef",
          "bottled water",
          "whipped/sour cream",
          "butter",
          "curd",
          "pastry"
         ]
        ],
        [
         4898,
         [
          "pip fruit",
          "whole milk",
          "beverages",
          "domestic eggs"
         ],
         [
          "citrus fruit",
          "chicken",
          "other vegetables",
          "rolls/buns",
          "bottled water",
          "whipped/sour cream",
          "frankfurter",
          "butter",
          "tropical fruit",
          "curd",
          "root vegetables",
          "pork",
          "pastry",
          "yogurt",
          "sausage",
          "beef"
         ]
        ],
        [
         4904,
         [
          "bottled beer"
         ],
         []
        ],
        [
         4905,
         [
          "bottled water"
         ],
         [
          "whole milk"
         ]
        ],
        [
         4906,
         [
          "specialty bar",
          "house keeping products"
         ],
         []
        ],
        [
         4922,
         [
          "whole milk"
         ],
         [
          "citrus fruit",
          "chicken",
          "other vegetables",
          "pip fruit",
          "rolls/buns",
          "bottled water",
          "whipped/sour cream",
          "frankfurter",
          "butter",
          "tropical fruit",
          "curd",
          "root vegetables",
          "pork",
          "pastry",
          "yogurt",
          "sausage",
          "beef"
         ]
        ],
        [
         4926,
         [
          "misc. beverages",
          "napkins"
         ],
         []
        ],
        [
         4940,
         [
          "whole milk"
         ],
         [
          "citrus fruit",
          "chicken",
          "other vegetables",
          "pip fruit",
          "rolls/buns",
          "bottled water",
          "whipped/sour cream",
          "frankfurter",
          "butter",
          "tropical fruit",
          "curd",
          "root vegetables",
          "pork",
          "pastry",
          "yogurt",
          "sausage",
          "beef"
         ]
        ],
        [
         4942,
         [
          "pip fruit",
          "whipped/sour cream"
         ],
         [
          "whole milk",
          "citrus fruit",
          "root vegetables",
          "sausage",
          "other vegetables",
          "tropical fruit"
         ]
        ],
        [
         4943,
         [
          "other vegetables",
          "whole milk",
          "mustard",
          "prosecco"
         ],
         [
          "citrus fruit",
          "chicken",
          "pip fruit",
          "rolls/buns",
          "frankfurter",
          "tropical fruit",
          "root vegetables",
          "pork",
          "hamburger meat",
          "yogurt",
          "sausage",
          "beef",
          "bottled water",
          "whipped/sour cream",
          "butter",
          "curd",
          "pastry"
         ]
        ],
        [
         4946,
         [
          "margarine",
          "candy"
         ],
         []
        ],
        [
         4947,
         [
          "whole milk",
          "rolls/buns",
          "salt"
         ],
         [
          "other vegetables",
          "soda",
          "yogurt",
          "sausage",
          "citrus fruit",
          "chicken",
          "pip fruit",
          "bottled water",
          "whipped/sour cream",
          "frankfurter",
          "butter",
          "tropical fruit",
          "curd",
          "root vegetables",
          "pork",
          "pastry",
          "beef"
         ]
        ],
        [
         4948,
         [
          "frankfurter",
          "sausage",
          "other vegetables",
          "white bread"
         ],
         [
          "citrus fruit",
          "chicken",
          "whole milk",
          "pip fruit",
          "rolls/buns",
          "tropical fruit",
          "root vegetables",
          "pork",
          "hamburger meat",
          "yogurt",
          "beef"
         ]
        ],
        [
         4951,
         [
          "brown bread",
          "soda",
          "canned beer",
          "napkins"
         ],
         [
          "rolls/buns"
         ]
        ],
        [
         4973,
         [
          "citrus fruit",
          "pip fruit",
          "root vegetables",
          "UHT-milk"
         ],
         [
          "sausage",
          "other vegetables",
          "tropical fruit",
          "yogurt",
          "whole milk",
          "pork",
          "beef"
         ]
        ],
        [
         5002,
         [
          "pork",
          "beef",
          "pip fruit",
          "root vegetables"
         ],
         [
          "other vegetables",
          "whole milk",
          "citrus fruit",
          "sausage",
          "tropical fruit"
         ]
        ],
        [
         5005,
         [
          "tropical fruit",
          "rolls/buns",
          "misc. beverages"
         ],
         [
          "other vegetables",
          "whole milk",
          "soda",
          "yogurt",
          "sausage",
          "citrus fruit",
          "pip fruit",
          "root vegetables"
         ]
        ],
        [
         5007,
         [
          "bottled beer"
         ],
         []
        ],
        [
         5013,
         [
          "misc. beverages"
         ],
         []
        ],
        [
         5018,
         [
          "frankfurter",
          "chicken",
          "hamburger meat",
          "other vegetables"
         ],
         [
          "citrus fruit",
          "whole milk",
          "pip fruit",
          "rolls/buns",
          "tropical fruit",
          "root vegetables",
          "pork",
          "yogurt",
          "sausage",
          "beef"
         ]
        ],
        [
         5031,
         [
          "beverages",
          "photo/film"
         ],
         []
        ],
        [
         5034,
         [
          "salty snack"
         ],
         []
        ],
        [
         5035,
         [
          "pip fruit",
          "canned beer",
          "shopping bags"
         ],
         [
          "citrus fruit",
          "root vegetables",
          "sausage",
          "other vegetables",
          "tropical fruit",
          "whole milk"
         ]
        ]
       ],
       "datasetInfos": [],
       "dbfsResultPath": null,
       "isJsonSchema": true,
       "metadata": {},
       "overflow": true,
       "plotOptions": {
        "customPlotOptions": {},
        "displayType": "table",
        "pivotAggregation": null,
        "pivotColumns": null,
        "xColumns": null,
        "yColumns": null
       },
       "removedWidgets": [],
       "schema": [
        {
         "metadata": "{}",
         "name": "id",
         "type": "\"long\""
        },
        {
         "metadata": "{}",
         "name": "items",
         "type": "{\"type\":\"array\",\"elementType\":\"string\",\"containsNull\":true}"
        },
        {
         "metadata": "{}",
         "name": "prediction",
         "type": "{\"type\":\"array\",\"elementType\":\"string\",\"containsNull\":true}"
        }
       ],
       "type": "table"
      }
     },
     "output_type": "display_data"
    }
   ],
   "source": [
    "# transform examines the input items against all the association rules and summarize the\n",
    "# consequents as prediction\n",
    "display(model.transform(testDF))"
   ]
  },
  {
   "cell_type": "markdown",
   "metadata": {
    "application/vnd.databricks.v1+cell": {
     "cellMetadata": {},
     "inputWidgets": {},
     "nuid": "c69786fd-8664-4cb3-aaa8-47f7b85f02a3",
     "showTitle": false,
     "title": ""
    }
   },
   "source": [
    "<h3> 1.9 References: </h3>\n",
    "\n",
    "<p>\n",
    "  <b>1.</b>  Dr. Liao’s Code Examples & Tutorials: Blackboard/Liao_PySpark_basic_databricks.html\n",
    "  <br>\n",
    "  <b>2.</b> PySpark: https://spark.apache.org/docs/2.4.0/api/python/pyspark.html  \n",
    "  <br>\n",
    "  <b>3.</b> Frequent Pattern Mining : https://spark.apache.org/docs/latest/ml-frequent-pattern-mining.html\n",
    "</p>"
   ]
  }
 ],
 "metadata": {
  "application/vnd.databricks.v1+notebook": {
   "dashboards": [],
   "language": "python",
   "notebookMetadata": {
    "pythonIndentUnit": 4
   },
   "notebookName": "AIT614-Sec005_Lab5.1_RashmikaCalve",
   "notebookOrigID": 62294157701699,
   "widgets": {}
  },
  "kernelspec": {
   "display_name": "Python 3 (ipykernel)",
   "language": "python",
   "name": "python3"
  },
  "language_info": {
   "codemirror_mode": {
    "name": "ipython",
    "version": 3
   },
   "file_extension": ".py",
   "mimetype": "text/x-python",
   "name": "python",
   "nbconvert_exporter": "python",
   "pygments_lexer": "ipython3",
   "version": "3.9.7"
  }
 },
 "nbformat": 4,
 "nbformat_minor": 1
}
