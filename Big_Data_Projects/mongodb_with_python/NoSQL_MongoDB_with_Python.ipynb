{
 "cells": [
  {
   "cell_type": "markdown",
   "id": "57820d03",
   "metadata": {},
   "source": [
    "# Course Section : AIT614-005\n",
    "## Lab 2 : NoSQL MongoDB with Python\n",
    "### Student's Name : Rashmika Calve"
   ]
  },
  {
   "cell_type": "code",
   "execution_count": 1,
   "id": "cd1d7da0",
   "metadata": {},
   "outputs": [
    {
     "name": "stdout",
     "output_type": "stream",
     "text": [
      "Requirement already satisfied: pymongo in c:\\users\\rashmika\\anaconda3\\lib\\site-packages (4.3.3)\n",
      "Requirement already satisfied: dnspython<3.0.0,>=1.16.0 in c:\\users\\rashmika\\anaconda3\\lib\\site-packages (from pymongo) (2.3.0)\n"
     ]
    }
   ],
   "source": [
    "!pip install pymongo"
   ]
  },
  {
   "cell_type": "markdown",
   "id": "d70e52ee",
   "metadata": {},
   "source": [
    "#### Importing the required libraries"
   ]
  },
  {
   "cell_type": "code",
   "execution_count": 2,
   "id": "2b2e2fcd",
   "metadata": {},
   "outputs": [],
   "source": [
    "import pymongo\n",
    "import pandas as pd\n",
    "import json"
   ]
  },
  {
   "cell_type": "markdown",
   "id": "07e470ca",
   "metadata": {},
   "source": [
    "#### Connect to MongoDB"
   ]
  },
  {
   "cell_type": "code",
   "execution_count": 3,
   "id": "206d2ff2",
   "metadata": {},
   "outputs": [],
   "source": [
    "client = pymongo.MongoClient(\"mongodb://localhost:27017/\")"
   ]
  },
  {
   "cell_type": "markdown",
   "id": "f733ffdc",
   "metadata": {},
   "source": [
    "#### Load the csv file"
   ]
  },
  {
   "cell_type": "code",
   "execution_count": 4,
   "id": "5dfa74d6",
   "metadata": {},
   "outputs": [
    {
     "data": {
      "text/html": [
       "<div>\n",
       "<style scoped>\n",
       "    .dataframe tbody tr th:only-of-type {\n",
       "        vertical-align: middle;\n",
       "    }\n",
       "\n",
       "    .dataframe tbody tr th {\n",
       "        vertical-align: top;\n",
       "    }\n",
       "\n",
       "    .dataframe thead th {\n",
       "        text-align: right;\n",
       "    }\n",
       "</style>\n",
       "<table border=\"1\" class=\"dataframe\">\n",
       "  <thead>\n",
       "    <tr style=\"text-align: right;\">\n",
       "      <th></th>\n",
       "      <th>Age</th>\n",
       "      <th>Attrition</th>\n",
       "      <th>BusinessTravel</th>\n",
       "      <th>DailyRate</th>\n",
       "      <th>Department</th>\n",
       "      <th>DistanceFromHome</th>\n",
       "      <th>Education</th>\n",
       "      <th>EducationField</th>\n",
       "      <th>EmployeeCount</th>\n",
       "      <th>EmployeeNumber</th>\n",
       "      <th>...</th>\n",
       "      <th>RelationshipSatisfaction</th>\n",
       "      <th>StandardHours</th>\n",
       "      <th>StockOptionLevel</th>\n",
       "      <th>TotalWorkingYears</th>\n",
       "      <th>TrainingTimesLastYear</th>\n",
       "      <th>WorkLifeBalance</th>\n",
       "      <th>YearsAtCompany</th>\n",
       "      <th>YearsInCurrentRole</th>\n",
       "      <th>YearsSinceLastPromotion</th>\n",
       "      <th>YearsWithCurrManager</th>\n",
       "    </tr>\n",
       "  </thead>\n",
       "  <tbody>\n",
       "    <tr>\n",
       "      <th>0</th>\n",
       "      <td>41</td>\n",
       "      <td>Yes</td>\n",
       "      <td>Travel_Rarely</td>\n",
       "      <td>1102</td>\n",
       "      <td>Sales</td>\n",
       "      <td>1</td>\n",
       "      <td>2</td>\n",
       "      <td>Life Sciences</td>\n",
       "      <td>1</td>\n",
       "      <td>1</td>\n",
       "      <td>...</td>\n",
       "      <td>1</td>\n",
       "      <td>80</td>\n",
       "      <td>0</td>\n",
       "      <td>8</td>\n",
       "      <td>0</td>\n",
       "      <td>1</td>\n",
       "      <td>6</td>\n",
       "      <td>4</td>\n",
       "      <td>0</td>\n",
       "      <td>5</td>\n",
       "    </tr>\n",
       "    <tr>\n",
       "      <th>1</th>\n",
       "      <td>49</td>\n",
       "      <td>No</td>\n",
       "      <td>Travel_Frequently</td>\n",
       "      <td>279</td>\n",
       "      <td>Research &amp; Development</td>\n",
       "      <td>8</td>\n",
       "      <td>1</td>\n",
       "      <td>Life Sciences</td>\n",
       "      <td>1</td>\n",
       "      <td>2</td>\n",
       "      <td>...</td>\n",
       "      <td>4</td>\n",
       "      <td>80</td>\n",
       "      <td>1</td>\n",
       "      <td>10</td>\n",
       "      <td>3</td>\n",
       "      <td>3</td>\n",
       "      <td>10</td>\n",
       "      <td>7</td>\n",
       "      <td>1</td>\n",
       "      <td>7</td>\n",
       "    </tr>\n",
       "    <tr>\n",
       "      <th>2</th>\n",
       "      <td>37</td>\n",
       "      <td>Yes</td>\n",
       "      <td>Travel_Rarely</td>\n",
       "      <td>1373</td>\n",
       "      <td>Research &amp; Development</td>\n",
       "      <td>2</td>\n",
       "      <td>2</td>\n",
       "      <td>Other</td>\n",
       "      <td>1</td>\n",
       "      <td>4</td>\n",
       "      <td>...</td>\n",
       "      <td>2</td>\n",
       "      <td>80</td>\n",
       "      <td>0</td>\n",
       "      <td>7</td>\n",
       "      <td>3</td>\n",
       "      <td>3</td>\n",
       "      <td>0</td>\n",
       "      <td>0</td>\n",
       "      <td>0</td>\n",
       "      <td>0</td>\n",
       "    </tr>\n",
       "    <tr>\n",
       "      <th>3</th>\n",
       "      <td>33</td>\n",
       "      <td>No</td>\n",
       "      <td>Travel_Frequently</td>\n",
       "      <td>1392</td>\n",
       "      <td>Research &amp; Development</td>\n",
       "      <td>3</td>\n",
       "      <td>4</td>\n",
       "      <td>Life Sciences</td>\n",
       "      <td>1</td>\n",
       "      <td>5</td>\n",
       "      <td>...</td>\n",
       "      <td>3</td>\n",
       "      <td>80</td>\n",
       "      <td>0</td>\n",
       "      <td>8</td>\n",
       "      <td>3</td>\n",
       "      <td>3</td>\n",
       "      <td>8</td>\n",
       "      <td>7</td>\n",
       "      <td>3</td>\n",
       "      <td>0</td>\n",
       "    </tr>\n",
       "    <tr>\n",
       "      <th>4</th>\n",
       "      <td>27</td>\n",
       "      <td>No</td>\n",
       "      <td>Travel_Rarely</td>\n",
       "      <td>591</td>\n",
       "      <td>Research &amp; Development</td>\n",
       "      <td>2</td>\n",
       "      <td>1</td>\n",
       "      <td>Medical</td>\n",
       "      <td>1</td>\n",
       "      <td>7</td>\n",
       "      <td>...</td>\n",
       "      <td>4</td>\n",
       "      <td>80</td>\n",
       "      <td>1</td>\n",
       "      <td>6</td>\n",
       "      <td>3</td>\n",
       "      <td>3</td>\n",
       "      <td>2</td>\n",
       "      <td>2</td>\n",
       "      <td>2</td>\n",
       "      <td>2</td>\n",
       "    </tr>\n",
       "    <tr>\n",
       "      <th>5</th>\n",
       "      <td>32</td>\n",
       "      <td>No</td>\n",
       "      <td>Travel_Frequently</td>\n",
       "      <td>1005</td>\n",
       "      <td>Research &amp; Development</td>\n",
       "      <td>2</td>\n",
       "      <td>2</td>\n",
       "      <td>Life Sciences</td>\n",
       "      <td>1</td>\n",
       "      <td>8</td>\n",
       "      <td>...</td>\n",
       "      <td>3</td>\n",
       "      <td>80</td>\n",
       "      <td>0</td>\n",
       "      <td>8</td>\n",
       "      <td>2</td>\n",
       "      <td>2</td>\n",
       "      <td>7</td>\n",
       "      <td>7</td>\n",
       "      <td>3</td>\n",
       "      <td>6</td>\n",
       "    </tr>\n",
       "    <tr>\n",
       "      <th>6</th>\n",
       "      <td>59</td>\n",
       "      <td>No</td>\n",
       "      <td>Travel_Rarely</td>\n",
       "      <td>1324</td>\n",
       "      <td>Research &amp; Development</td>\n",
       "      <td>3</td>\n",
       "      <td>3</td>\n",
       "      <td>Medical</td>\n",
       "      <td>1</td>\n",
       "      <td>10</td>\n",
       "      <td>...</td>\n",
       "      <td>1</td>\n",
       "      <td>80</td>\n",
       "      <td>3</td>\n",
       "      <td>12</td>\n",
       "      <td>3</td>\n",
       "      <td>2</td>\n",
       "      <td>1</td>\n",
       "      <td>0</td>\n",
       "      <td>0</td>\n",
       "      <td>0</td>\n",
       "    </tr>\n",
       "    <tr>\n",
       "      <th>7</th>\n",
       "      <td>30</td>\n",
       "      <td>No</td>\n",
       "      <td>Travel_Rarely</td>\n",
       "      <td>1358</td>\n",
       "      <td>Research &amp; Development</td>\n",
       "      <td>24</td>\n",
       "      <td>1</td>\n",
       "      <td>Life Sciences</td>\n",
       "      <td>1</td>\n",
       "      <td>11</td>\n",
       "      <td>...</td>\n",
       "      <td>2</td>\n",
       "      <td>80</td>\n",
       "      <td>1</td>\n",
       "      <td>1</td>\n",
       "      <td>2</td>\n",
       "      <td>3</td>\n",
       "      <td>1</td>\n",
       "      <td>0</td>\n",
       "      <td>0</td>\n",
       "      <td>0</td>\n",
       "    </tr>\n",
       "    <tr>\n",
       "      <th>8</th>\n",
       "      <td>38</td>\n",
       "      <td>No</td>\n",
       "      <td>Travel_Frequently</td>\n",
       "      <td>216</td>\n",
       "      <td>Research &amp; Development</td>\n",
       "      <td>23</td>\n",
       "      <td>3</td>\n",
       "      <td>Life Sciences</td>\n",
       "      <td>1</td>\n",
       "      <td>12</td>\n",
       "      <td>...</td>\n",
       "      <td>2</td>\n",
       "      <td>80</td>\n",
       "      <td>0</td>\n",
       "      <td>10</td>\n",
       "      <td>2</td>\n",
       "      <td>3</td>\n",
       "      <td>9</td>\n",
       "      <td>7</td>\n",
       "      <td>1</td>\n",
       "      <td>8</td>\n",
       "    </tr>\n",
       "    <tr>\n",
       "      <th>9</th>\n",
       "      <td>36</td>\n",
       "      <td>No</td>\n",
       "      <td>Travel_Rarely</td>\n",
       "      <td>1299</td>\n",
       "      <td>Research &amp; Development</td>\n",
       "      <td>27</td>\n",
       "      <td>3</td>\n",
       "      <td>Medical</td>\n",
       "      <td>1</td>\n",
       "      <td>13</td>\n",
       "      <td>...</td>\n",
       "      <td>2</td>\n",
       "      <td>80</td>\n",
       "      <td>2</td>\n",
       "      <td>17</td>\n",
       "      <td>3</td>\n",
       "      <td>2</td>\n",
       "      <td>7</td>\n",
       "      <td>7</td>\n",
       "      <td>7</td>\n",
       "      <td>7</td>\n",
       "    </tr>\n",
       "  </tbody>\n",
       "</table>\n",
       "<p>10 rows × 35 columns</p>\n",
       "</div>"
      ],
      "text/plain": [
       "   Age Attrition     BusinessTravel  DailyRate              Department  \\\n",
       "0   41       Yes      Travel_Rarely       1102                   Sales   \n",
       "1   49        No  Travel_Frequently        279  Research & Development   \n",
       "2   37       Yes      Travel_Rarely       1373  Research & Development   \n",
       "3   33        No  Travel_Frequently       1392  Research & Development   \n",
       "4   27        No      Travel_Rarely        591  Research & Development   \n",
       "5   32        No  Travel_Frequently       1005  Research & Development   \n",
       "6   59        No      Travel_Rarely       1324  Research & Development   \n",
       "7   30        No      Travel_Rarely       1358  Research & Development   \n",
       "8   38        No  Travel_Frequently        216  Research & Development   \n",
       "9   36        No      Travel_Rarely       1299  Research & Development   \n",
       "\n",
       "   DistanceFromHome  Education EducationField  EmployeeCount  EmployeeNumber  \\\n",
       "0                 1          2  Life Sciences              1               1   \n",
       "1                 8          1  Life Sciences              1               2   \n",
       "2                 2          2          Other              1               4   \n",
       "3                 3          4  Life Sciences              1               5   \n",
       "4                 2          1        Medical              1               7   \n",
       "5                 2          2  Life Sciences              1               8   \n",
       "6                 3          3        Medical              1              10   \n",
       "7                24          1  Life Sciences              1              11   \n",
       "8                23          3  Life Sciences              1              12   \n",
       "9                27          3        Medical              1              13   \n",
       "\n",
       "   ...  RelationshipSatisfaction StandardHours  StockOptionLevel  \\\n",
       "0  ...                         1            80                 0   \n",
       "1  ...                         4            80                 1   \n",
       "2  ...                         2            80                 0   \n",
       "3  ...                         3            80                 0   \n",
       "4  ...                         4            80                 1   \n",
       "5  ...                         3            80                 0   \n",
       "6  ...                         1            80                 3   \n",
       "7  ...                         2            80                 1   \n",
       "8  ...                         2            80                 0   \n",
       "9  ...                         2            80                 2   \n",
       "\n",
       "   TotalWorkingYears  TrainingTimesLastYear WorkLifeBalance  YearsAtCompany  \\\n",
       "0                  8                      0               1               6   \n",
       "1                 10                      3               3              10   \n",
       "2                  7                      3               3               0   \n",
       "3                  8                      3               3               8   \n",
       "4                  6                      3               3               2   \n",
       "5                  8                      2               2               7   \n",
       "6                 12                      3               2               1   \n",
       "7                  1                      2               3               1   \n",
       "8                 10                      2               3               9   \n",
       "9                 17                      3               2               7   \n",
       "\n",
       "  YearsInCurrentRole  YearsSinceLastPromotion  YearsWithCurrManager  \n",
       "0                  4                        0                     5  \n",
       "1                  7                        1                     7  \n",
       "2                  0                        0                     0  \n",
       "3                  7                        3                     0  \n",
       "4                  2                        2                     2  \n",
       "5                  7                        3                     6  \n",
       "6                  0                        0                     0  \n",
       "7                  0                        0                     0  \n",
       "8                  7                        1                     8  \n",
       "9                  7                        7                     7  \n",
       "\n",
       "[10 rows x 35 columns]"
      ]
     },
     "execution_count": 4,
     "metadata": {},
     "output_type": "execute_result"
    }
   ],
   "source": [
    "df = pd.read_csv(\"EmployeeAttrition.csv\")\n",
    "df.head(10)"
   ]
  },
  {
   "cell_type": "code",
   "execution_count": 5,
   "id": "22846868",
   "metadata": {},
   "outputs": [
    {
     "data": {
      "text/plain": [
       "(1470, 35)"
      ]
     },
     "execution_count": 5,
     "metadata": {},
     "output_type": "execute_result"
    }
   ],
   "source": [
    "df.shape"
   ]
  },
  {
   "cell_type": "markdown",
   "id": "c70d3cef",
   "metadata": {},
   "source": [
    "#### Converting the dataframe to JSON format and Loading to MongoDB"
   ]
  },
  {
   "cell_type": "code",
   "execution_count": 6,
   "id": "67153fdd",
   "metadata": {},
   "outputs": [],
   "source": [
    "# Converting the df to json \n",
    "emp_data = json.loads(df.to_json(orient='records'))"
   ]
  },
  {
   "cell_type": "markdown",
   "id": "10fea611",
   "metadata": {},
   "source": [
    "#### Creating a Database"
   ]
  },
  {
   "cell_type": "code",
   "execution_count": 7,
   "id": "47de4696",
   "metadata": {},
   "outputs": [
    {
     "data": {
      "text/plain": [
       "Database(MongoClient(host=['localhost:27017'], document_class=dict, tz_aware=False, connect=True), 'myDB')"
      ]
     },
     "execution_count": 7,
     "metadata": {},
     "output_type": "execute_result"
    }
   ],
   "source": [
    "mongo_db = client[\"myDB\"]\n",
    "mongo_db"
   ]
  },
  {
   "cell_type": "markdown",
   "id": "415d2bf0",
   "metadata": {},
   "source": [
    "#### Creating a collection"
   ]
  },
  {
   "cell_type": "code",
   "execution_count": 8,
   "id": "86b50e2d",
   "metadata": {},
   "outputs": [],
   "source": [
    "collection_nm = \"Empl_Attrition\""
   ]
  },
  {
   "cell_type": "code",
   "execution_count": 9,
   "id": "a399961f",
   "metadata": {},
   "outputs": [],
   "source": [
    "collection_nm = mongo_db[collection_nm]"
   ]
  },
  {
   "cell_type": "markdown",
   "id": "0e949798",
   "metadata": {},
   "source": [
    "#### Insert the data into MongoDB Collection"
   ]
  },
  {
   "cell_type": "code",
   "execution_count": 10,
   "id": "dc601458",
   "metadata": {},
   "outputs": [
    {
     "data": {
      "text/plain": [
       "<pymongo.results.InsertManyResult at 0x2285f173100>"
      ]
     },
     "execution_count": 10,
     "metadata": {},
     "output_type": "execute_result"
    }
   ],
   "source": [
    "collection_nm.insert_many(emp_data)"
   ]
  },
  {
   "cell_type": "markdown",
   "id": "f1fd6ca0",
   "metadata": {},
   "source": [
    "#### Query MongoDB"
   ]
  },
  {
   "cell_type": "markdown",
   "id": "ee8a9f71",
   "metadata": {},
   "source": [
    "##### Count the total no of documents in the collection"
   ]
  },
  {
   "cell_type": "code",
   "execution_count": 11,
   "id": "bb6a82ee",
   "metadata": {},
   "outputs": [
    {
     "data": {
      "text/plain": [
       "1470"
      ]
     },
     "execution_count": 11,
     "metadata": {},
     "output_type": "execute_result"
    }
   ],
   "source": [
    "collection_nm.count_documents({})"
   ]
  },
  {
   "cell_type": "markdown",
   "id": "582c4c42",
   "metadata": {},
   "source": [
    "##### 1. Count the no of employees whose TotalWorkingYears are greater than 20."
   ]
  },
  {
   "cell_type": "code",
   "execution_count": 12,
   "id": "89f3f021",
   "metadata": {},
   "outputs": [
    {
     "data": {
      "text/plain": [
       "207"
      ]
     },
     "execution_count": 12,
     "metadata": {},
     "output_type": "execute_result"
    }
   ],
   "source": [
    "collection_nm.count_documents({\n",
    "    \"TotalWorkingYears\" : {\"$gt\" : 20}  })"
   ]
  },
  {
   "cell_type": "markdown",
   "id": "6613347b",
   "metadata": {},
   "source": [
    "##### 2. Find EmployeeNumber, EducationField, JobRole for all the employees whose Age is between 25 and 30 and Education is 5. Display only EmployeeNumber, EducationField, and JobRobe in the output."
   ]
  },
  {
   "cell_type": "code",
   "execution_count": 13,
   "id": "61620830",
   "metadata": {},
   "outputs": [
    {
     "name": "stdout",
     "output_type": "stream",
     "text": [
      "EmployeeNumber \t EducationField \t\t JobRole\n",
      "--------------------------------------------------------\n",
      "455 \t\t Laboratory Technician \t\t Other\n",
      "565 \t\t Research Scientist \t\t Technical Degree\n",
      "747 \t\t Sales Executive \t\t Marketing\n",
      "1094 \t\t Laboratory Technician \t\t Life Sciences\n"
     ]
    }
   ],
   "source": [
    "res = collection_nm.find({'Age' : {'$gte' : 25, '$lte' : 30},\n",
    "                         \"Education\" : 5},\n",
    "                         {'EmployeeNumber', 'EducationField','JobRole'}\n",
    "                        )\n",
    "print('EmployeeNumber', '\\t', 'EducationField', '\\t\\t', 'JobRole')\n",
    "print('--------------------------------------------------------')\n",
    "for r in res:\n",
    "    print(r['EmployeeNumber'], '\\t\\t', r['JobRole'], '\\t\\t', r['EducationField'])\n",
    "\n"
   ]
  },
  {
   "cell_type": "markdown",
   "id": "8ee38aac",
   "metadata": {},
   "source": [
    "##### 3. For all the women employees having Age between 35 and 40 and TotalWorkingYears < 5, sort EmployeeNumber in an ascending order. Print only Department and EmployeeNumber in the output."
   ]
  },
  {
   "cell_type": "code",
   "execution_count": 14,
   "id": "4e94e2c9",
   "metadata": {},
   "outputs": [],
   "source": [
    "# Adding conditions to the find function\n",
    "emp_res= collection_nm.find(\n",
    "    {\"$and\": [\n",
    "        {\"Gender\" : 'Female'},\n",
    "        {'Age' : {'$gte' : 35}},\n",
    "        {'Age' : {'$lte' : 40}},\n",
    "        {'TotalWorkingYears' : {'$lt':5}}\n",
    "    ]},\n",
    "    {'EmployeeNumber','Department'}    \n",
    ").sort('EmployeeNumber',1)"
   ]
  },
  {
   "cell_type": "code",
   "execution_count": 15,
   "id": "5c0e3a5c",
   "metadata": {},
   "outputs": [],
   "source": [
    "# Converting the cursor to a list\n",
    "emp_res_list = list(emp_res)"
   ]
  },
  {
   "cell_type": "code",
   "execution_count": 16,
   "id": "4a1c9092",
   "metadata": {},
   "outputs": [
    {
     "data": {
      "text/plain": [
       "(9, 3)"
      ]
     },
     "execution_count": 16,
     "metadata": {},
     "output_type": "execute_result"
    }
   ],
   "source": [
    "# Converting the list to a dataframe\n",
    "emp_df_3 = pd.DataFrame(emp_res_list)\n",
    "emp_df_3.shape"
   ]
  },
  {
   "cell_type": "code",
   "execution_count": 17,
   "id": "e65f8e74",
   "metadata": {},
   "outputs": [
    {
     "data": {
      "text/html": [
       "<div>\n",
       "<style scoped>\n",
       "    .dataframe tbody tr th:only-of-type {\n",
       "        vertical-align: middle;\n",
       "    }\n",
       "\n",
       "    .dataframe tbody tr th {\n",
       "        vertical-align: top;\n",
       "    }\n",
       "\n",
       "    .dataframe thead th {\n",
       "        text-align: right;\n",
       "    }\n",
       "</style>\n",
       "<table border=\"1\" class=\"dataframe\">\n",
       "  <thead>\n",
       "    <tr style=\"text-align: right;\">\n",
       "      <th></th>\n",
       "      <th>EmployeeNumber</th>\n",
       "      <th>Department</th>\n",
       "    </tr>\n",
       "  </thead>\n",
       "  <tbody>\n",
       "    <tr>\n",
       "      <th>0</th>\n",
       "      <td>49</td>\n",
       "      <td>Sales</td>\n",
       "    </tr>\n",
       "    <tr>\n",
       "      <th>1</th>\n",
       "      <td>75</td>\n",
       "      <td>Research &amp; Development</td>\n",
       "    </tr>\n",
       "    <tr>\n",
       "      <th>2</th>\n",
       "      <td>245</td>\n",
       "      <td>Research &amp; Development</td>\n",
       "    </tr>\n",
       "    <tr>\n",
       "      <th>3</th>\n",
       "      <td>805</td>\n",
       "      <td>Sales</td>\n",
       "    </tr>\n",
       "    <tr>\n",
       "      <th>4</th>\n",
       "      <td>1569</td>\n",
       "      <td>Research &amp; Development</td>\n",
       "    </tr>\n",
       "    <tr>\n",
       "      <th>5</th>\n",
       "      <td>1662</td>\n",
       "      <td>Research &amp; Development</td>\n",
       "    </tr>\n",
       "    <tr>\n",
       "      <th>6</th>\n",
       "      <td>1675</td>\n",
       "      <td>Research &amp; Development</td>\n",
       "    </tr>\n",
       "    <tr>\n",
       "      <th>7</th>\n",
       "      <td>1886</td>\n",
       "      <td>Research &amp; Development</td>\n",
       "    </tr>\n",
       "    <tr>\n",
       "      <th>8</th>\n",
       "      <td>2052</td>\n",
       "      <td>Research &amp; Development</td>\n",
       "    </tr>\n",
       "  </tbody>\n",
       "</table>\n",
       "</div>"
      ],
      "text/plain": [
       "   EmployeeNumber              Department\n",
       "0              49                   Sales\n",
       "1              75  Research & Development\n",
       "2             245  Research & Development\n",
       "3             805                   Sales\n",
       "4            1569  Research & Development\n",
       "5            1662  Research & Development\n",
       "6            1675  Research & Development\n",
       "7            1886  Research & Development\n",
       "8            2052  Research & Development"
      ]
     },
     "execution_count": 17,
     "metadata": {},
     "output_type": "execute_result"
    }
   ],
   "source": [
    "#Displaying the results\n",
    "emp_df_3[['EmployeeNumber','Department']]"
   ]
  },
  {
   "cell_type": "markdown",
   "id": "13f26d8c",
   "metadata": {},
   "source": [
    "##### 4. Find employees whose HourlyRate is greater than or equal to 100 or DailyRate is greater than 1490. Display Age, HourlyRate, DailyRate, and Department only and sort DailyRate in an ascending order."
   ]
  },
  {
   "cell_type": "code",
   "execution_count": 18,
   "id": "e154deb6",
   "metadata": {},
   "outputs": [],
   "source": [
    "# Adding conditions to the find function\n",
    "emp_res4 = collection_nm.find(\n",
    "    {'$or': [\n",
    "        {'HourlyRate' : {'$gte':100}},\n",
    "        {'DailyRate': {'$gt':1490}}\n",
    "    ]},\n",
    "    {'Age','HourlyRate','DailyRate','Department'}\n",
    ").sort('DailyRate',1) # 1 means ascending order\n"
   ]
  },
  {
   "cell_type": "code",
   "execution_count": 19,
   "id": "2c689db8",
   "metadata": {},
   "outputs": [
    {
     "data": {
      "text/plain": [
       "[{'_id': ObjectId('63f5348794ccd61cbfa4e495'),\n",
       "  'Age': 31,\n",
       "  'DailyRate': 218,\n",
       "  'Department': 'Sales',\n",
       "  'HourlyRate': 100},\n",
       " {'_id': ObjectId('63f5348794ccd61cbfa4e79b'),\n",
       "  'Age': 29,\n",
       "  'DailyRate': 224,\n",
       "  'Department': 'Research & Development',\n",
       "  'HourlyRate': 100},\n",
       " {'_id': ObjectId('63f5348794ccd61cbfa4e55e'),\n",
       "  'Age': 45,\n",
       "  'DailyRate': 306,\n",
       "  'Department': 'Sales',\n",
       "  'HourlyRate': 100},\n",
       " {'_id': ObjectId('63f5348794ccd61cbfa4e911'),\n",
       "  'Age': 38,\n",
       "  'DailyRate': 345,\n",
       "  'Department': 'Sales',\n",
       "  'HourlyRate': 100},\n",
       " {'_id': ObjectId('63f5348794ccd61cbfa4e6a9'),\n",
       "  'Age': 35,\n",
       "  'DailyRate': 528,\n",
       "  'Department': 'Human Resources',\n",
       "  'HourlyRate': 100},\n",
       " {'_id': ObjectId('63f5348794ccd61cbfa4e3e6'),\n",
       "  'Age': 22,\n",
       "  'DailyRate': 594,\n",
       "  'Department': 'Research & Development',\n",
       "  'HourlyRate': 100},\n",
       " {'_id': ObjectId('63f5348794ccd61cbfa4e411'),\n",
       "  'Age': 19,\n",
       "  'DailyRate': 602,\n",
       "  'Department': 'Sales',\n",
       "  'HourlyRate': 100},\n",
       " {'_id': ObjectId('63f5348794ccd61cbfa4e752'),\n",
       "  'Age': 26,\n",
       "  'DailyRate': 652,\n",
       "  'Department': 'Research & Development',\n",
       "  'HourlyRate': 100},\n",
       " {'_id': ObjectId('63f5348794ccd61cbfa4e5c4'),\n",
       "  'Age': 34,\n",
       "  'DailyRate': 702,\n",
       "  'Department': 'Research & Development',\n",
       "  'HourlyRate': 100},\n",
       " {'_id': ObjectId('63f5348794ccd61cbfa4e457'),\n",
       "  'Age': 32,\n",
       "  'DailyRate': 976,\n",
       "  'Department': 'Sales',\n",
       "  'HourlyRate': 100},\n",
       " {'_id': ObjectId('63f5348794ccd61cbfa4e478'),\n",
       "  'Age': 21,\n",
       "  'DailyRate': 996,\n",
       "  'Department': 'Research & Development',\n",
       "  'HourlyRate': 100},\n",
       " {'_id': ObjectId('63f5348794ccd61cbfa4e3ce'),\n",
       "  'Age': 37,\n",
       "  'DailyRate': 1040,\n",
       "  'Department': 'Research & Development',\n",
       "  'HourlyRate': 100},\n",
       " {'_id': ObjectId('63f5348794ccd61cbfa4e4d5'),\n",
       "  'Age': 50,\n",
       "  'DailyRate': 1046,\n",
       "  'Department': 'Research & Development',\n",
       "  'HourlyRate': 100},\n",
       " {'_id': ObjectId('63f5348794ccd61cbfa4e913'),\n",
       "  'Age': 36,\n",
       "  'DailyRate': 1120,\n",
       "  'Department': 'Sales',\n",
       "  'HourlyRate': 100},\n",
       " {'_id': ObjectId('63f5348794ccd61cbfa4e607'),\n",
       "  'Age': 33,\n",
       "  'DailyRate': 1198,\n",
       "  'Department': 'Research & Development',\n",
       "  'HourlyRate': 100},\n",
       " {'_id': ObjectId('63f5348794ccd61cbfa4e46a'),\n",
       "  'Age': 32,\n",
       "  'DailyRate': 1311,\n",
       "  'Department': 'Research & Development',\n",
       "  'HourlyRate': 100},\n",
       " {'_id': ObjectId('63f5348794ccd61cbfa4e86f'),\n",
       "  'Age': 38,\n",
       "  'DailyRate': 1336,\n",
       "  'Department': 'Human Resources',\n",
       "  'HourlyRate': 100},\n",
       " {'_id': ObjectId('63f5348794ccd61cbfa4e76f'),\n",
       "  'Age': 31,\n",
       "  'DailyRate': 1445,\n",
       "  'Department': 'Research & Development',\n",
       "  'HourlyRate': 100},\n",
       " {'_id': ObjectId('63f5348794ccd61cbfa4e628'),\n",
       "  'Age': 40,\n",
       "  'DailyRate': 1479,\n",
       "  'Department': 'Sales',\n",
       "  'HourlyRate': 100},\n",
       " {'_id': ObjectId('63f5348794ccd61cbfa4e677'),\n",
       "  'Age': 40,\n",
       "  'DailyRate': 1492,\n",
       "  'Department': 'Research & Development',\n",
       "  'HourlyRate': 61},\n",
       " {'_id': ObjectId('63f5348794ccd61cbfa4e53d'),\n",
       "  'Age': 38,\n",
       "  'DailyRate': 1495,\n",
       "  'Department': 'Research & Development',\n",
       "  'HourlyRate': 76},\n",
       " {'_id': ObjectId('63f5348794ccd61cbfa4e77a'),\n",
       "  'Age': 49,\n",
       "  'DailyRate': 1495,\n",
       "  'Department': 'Research & Development',\n",
       "  'HourlyRate': 96},\n",
       " {'_id': ObjectId('63f5348794ccd61cbfa4e818'),\n",
       "  'Age': 38,\n",
       "  'DailyRate': 1495,\n",
       "  'Department': 'Research & Development',\n",
       "  'HourlyRate': 87},\n",
       " {'_id': ObjectId('63f5348794ccd61cbfa4e401'),\n",
       "  'Age': 29,\n",
       "  'DailyRate': 1496,\n",
       "  'Department': 'Research & Development',\n",
       "  'HourlyRate': 41},\n",
       " {'_id': ObjectId('63f5348794ccd61cbfa4e786'),\n",
       "  'Age': 28,\n",
       "  'DailyRate': 1496,\n",
       "  'Department': 'Sales',\n",
       "  'HourlyRate': 92},\n",
       " {'_id': ObjectId('63f5348794ccd61cbfa4e740'),\n",
       "  'Age': 39,\n",
       "  'DailyRate': 1498,\n",
       "  'Department': 'Sales',\n",
       "  'HourlyRate': 44},\n",
       " {'_id': ObjectId('63f5348794ccd61cbfa4e511'),\n",
       "  'Age': 60,\n",
       "  'DailyRate': 1499,\n",
       "  'Department': 'Sales',\n",
       "  'HourlyRate': 80}]"
      ]
     },
     "execution_count": 19,
     "metadata": {},
     "output_type": "execute_result"
    }
   ],
   "source": [
    "# Converting the cursor to a list\n",
    "emp_res_list4 = list(emp_res4)\n",
    "emp_res_list4"
   ]
  },
  {
   "cell_type": "code",
   "execution_count": 20,
   "id": "c920af50",
   "metadata": {},
   "outputs": [
    {
     "data": {
      "text/plain": [
       "(27, 5)"
      ]
     },
     "execution_count": 20,
     "metadata": {},
     "output_type": "execute_result"
    }
   ],
   "source": [
    "# Converting the list to a dataframe\n",
    "emp_df_4 = pd.DataFrame(emp_res_list4)\n",
    "emp_df_4.shape"
   ]
  },
  {
   "cell_type": "code",
   "execution_count": 21,
   "id": "a5530b4a",
   "metadata": {
    "scrolled": true
   },
   "outputs": [
    {
     "data": {
      "text/html": [
       "<div>\n",
       "<style scoped>\n",
       "    .dataframe tbody tr th:only-of-type {\n",
       "        vertical-align: middle;\n",
       "    }\n",
       "\n",
       "    .dataframe tbody tr th {\n",
       "        vertical-align: top;\n",
       "    }\n",
       "\n",
       "    .dataframe thead th {\n",
       "        text-align: right;\n",
       "    }\n",
       "</style>\n",
       "<table border=\"1\" class=\"dataframe\">\n",
       "  <thead>\n",
       "    <tr style=\"text-align: right;\">\n",
       "      <th></th>\n",
       "      <th>Age</th>\n",
       "      <th>DailyRate</th>\n",
       "      <th>Department</th>\n",
       "      <th>HourlyRate</th>\n",
       "    </tr>\n",
       "  </thead>\n",
       "  <tbody>\n",
       "    <tr>\n",
       "      <th>0</th>\n",
       "      <td>31</td>\n",
       "      <td>218</td>\n",
       "      <td>Sales</td>\n",
       "      <td>100</td>\n",
       "    </tr>\n",
       "    <tr>\n",
       "      <th>1</th>\n",
       "      <td>29</td>\n",
       "      <td>224</td>\n",
       "      <td>Research &amp; Development</td>\n",
       "      <td>100</td>\n",
       "    </tr>\n",
       "    <tr>\n",
       "      <th>2</th>\n",
       "      <td>45</td>\n",
       "      <td>306</td>\n",
       "      <td>Sales</td>\n",
       "      <td>100</td>\n",
       "    </tr>\n",
       "    <tr>\n",
       "      <th>3</th>\n",
       "      <td>38</td>\n",
       "      <td>345</td>\n",
       "      <td>Sales</td>\n",
       "      <td>100</td>\n",
       "    </tr>\n",
       "    <tr>\n",
       "      <th>4</th>\n",
       "      <td>35</td>\n",
       "      <td>528</td>\n",
       "      <td>Human Resources</td>\n",
       "      <td>100</td>\n",
       "    </tr>\n",
       "    <tr>\n",
       "      <th>5</th>\n",
       "      <td>22</td>\n",
       "      <td>594</td>\n",
       "      <td>Research &amp; Development</td>\n",
       "      <td>100</td>\n",
       "    </tr>\n",
       "    <tr>\n",
       "      <th>6</th>\n",
       "      <td>19</td>\n",
       "      <td>602</td>\n",
       "      <td>Sales</td>\n",
       "      <td>100</td>\n",
       "    </tr>\n",
       "    <tr>\n",
       "      <th>7</th>\n",
       "      <td>26</td>\n",
       "      <td>652</td>\n",
       "      <td>Research &amp; Development</td>\n",
       "      <td>100</td>\n",
       "    </tr>\n",
       "    <tr>\n",
       "      <th>8</th>\n",
       "      <td>34</td>\n",
       "      <td>702</td>\n",
       "      <td>Research &amp; Development</td>\n",
       "      <td>100</td>\n",
       "    </tr>\n",
       "    <tr>\n",
       "      <th>9</th>\n",
       "      <td>32</td>\n",
       "      <td>976</td>\n",
       "      <td>Sales</td>\n",
       "      <td>100</td>\n",
       "    </tr>\n",
       "    <tr>\n",
       "      <th>10</th>\n",
       "      <td>21</td>\n",
       "      <td>996</td>\n",
       "      <td>Research &amp; Development</td>\n",
       "      <td>100</td>\n",
       "    </tr>\n",
       "    <tr>\n",
       "      <th>11</th>\n",
       "      <td>37</td>\n",
       "      <td>1040</td>\n",
       "      <td>Research &amp; Development</td>\n",
       "      <td>100</td>\n",
       "    </tr>\n",
       "    <tr>\n",
       "      <th>12</th>\n",
       "      <td>50</td>\n",
       "      <td>1046</td>\n",
       "      <td>Research &amp; Development</td>\n",
       "      <td>100</td>\n",
       "    </tr>\n",
       "    <tr>\n",
       "      <th>13</th>\n",
       "      <td>36</td>\n",
       "      <td>1120</td>\n",
       "      <td>Sales</td>\n",
       "      <td>100</td>\n",
       "    </tr>\n",
       "    <tr>\n",
       "      <th>14</th>\n",
       "      <td>33</td>\n",
       "      <td>1198</td>\n",
       "      <td>Research &amp; Development</td>\n",
       "      <td>100</td>\n",
       "    </tr>\n",
       "    <tr>\n",
       "      <th>15</th>\n",
       "      <td>32</td>\n",
       "      <td>1311</td>\n",
       "      <td>Research &amp; Development</td>\n",
       "      <td>100</td>\n",
       "    </tr>\n",
       "    <tr>\n",
       "      <th>16</th>\n",
       "      <td>38</td>\n",
       "      <td>1336</td>\n",
       "      <td>Human Resources</td>\n",
       "      <td>100</td>\n",
       "    </tr>\n",
       "    <tr>\n",
       "      <th>17</th>\n",
       "      <td>31</td>\n",
       "      <td>1445</td>\n",
       "      <td>Research &amp; Development</td>\n",
       "      <td>100</td>\n",
       "    </tr>\n",
       "    <tr>\n",
       "      <th>18</th>\n",
       "      <td>40</td>\n",
       "      <td>1479</td>\n",
       "      <td>Sales</td>\n",
       "      <td>100</td>\n",
       "    </tr>\n",
       "    <tr>\n",
       "      <th>19</th>\n",
       "      <td>40</td>\n",
       "      <td>1492</td>\n",
       "      <td>Research &amp; Development</td>\n",
       "      <td>61</td>\n",
       "    </tr>\n",
       "    <tr>\n",
       "      <th>20</th>\n",
       "      <td>38</td>\n",
       "      <td>1495</td>\n",
       "      <td>Research &amp; Development</td>\n",
       "      <td>76</td>\n",
       "    </tr>\n",
       "    <tr>\n",
       "      <th>21</th>\n",
       "      <td>49</td>\n",
       "      <td>1495</td>\n",
       "      <td>Research &amp; Development</td>\n",
       "      <td>96</td>\n",
       "    </tr>\n",
       "    <tr>\n",
       "      <th>22</th>\n",
       "      <td>38</td>\n",
       "      <td>1495</td>\n",
       "      <td>Research &amp; Development</td>\n",
       "      <td>87</td>\n",
       "    </tr>\n",
       "    <tr>\n",
       "      <th>23</th>\n",
       "      <td>29</td>\n",
       "      <td>1496</td>\n",
       "      <td>Research &amp; Development</td>\n",
       "      <td>41</td>\n",
       "    </tr>\n",
       "    <tr>\n",
       "      <th>24</th>\n",
       "      <td>28</td>\n",
       "      <td>1496</td>\n",
       "      <td>Sales</td>\n",
       "      <td>92</td>\n",
       "    </tr>\n",
       "    <tr>\n",
       "      <th>25</th>\n",
       "      <td>39</td>\n",
       "      <td>1498</td>\n",
       "      <td>Sales</td>\n",
       "      <td>44</td>\n",
       "    </tr>\n",
       "    <tr>\n",
       "      <th>26</th>\n",
       "      <td>60</td>\n",
       "      <td>1499</td>\n",
       "      <td>Sales</td>\n",
       "      <td>80</td>\n",
       "    </tr>\n",
       "  </tbody>\n",
       "</table>\n",
       "</div>"
      ],
      "text/plain": [
       "    Age  DailyRate              Department  HourlyRate\n",
       "0    31        218                   Sales         100\n",
       "1    29        224  Research & Development         100\n",
       "2    45        306                   Sales         100\n",
       "3    38        345                   Sales         100\n",
       "4    35        528         Human Resources         100\n",
       "5    22        594  Research & Development         100\n",
       "6    19        602                   Sales         100\n",
       "7    26        652  Research & Development         100\n",
       "8    34        702  Research & Development         100\n",
       "9    32        976                   Sales         100\n",
       "10   21        996  Research & Development         100\n",
       "11   37       1040  Research & Development         100\n",
       "12   50       1046  Research & Development         100\n",
       "13   36       1120                   Sales         100\n",
       "14   33       1198  Research & Development         100\n",
       "15   32       1311  Research & Development         100\n",
       "16   38       1336         Human Resources         100\n",
       "17   31       1445  Research & Development         100\n",
       "18   40       1479                   Sales         100\n",
       "19   40       1492  Research & Development          61\n",
       "20   38       1495  Research & Development          76\n",
       "21   49       1495  Research & Development          96\n",
       "22   38       1495  Research & Development          87\n",
       "23   29       1496  Research & Development          41\n",
       "24   28       1496                   Sales          92\n",
       "25   39       1498                   Sales          44\n",
       "26   60       1499                   Sales          80"
      ]
     },
     "execution_count": 21,
     "metadata": {},
     "output_type": "execute_result"
    }
   ],
   "source": [
    "#Displaying the results\n",
    "emp_df_4.loc[ : , emp_df_4.columns != '_id']"
   ]
  },
  {
   "cell_type": "markdown",
   "id": "da32107d",
   "metadata": {},
   "source": [
    "##### 5. For each JobRole, find the average MonthlyIncome. Print out the formatted monthly incomes in hundredth and arrange them in descending order."
   ]
  },
  {
   "cell_type": "code",
   "execution_count": 22,
   "id": "1bb5d697",
   "metadata": {},
   "outputs": [
    {
     "name": "stdout",
     "output_type": "stream",
     "text": [
      "Job Role \t\t\t\t Average Monthly Income\n",
      "-----------------------------------------------------------------\n",
      "Manager                                          17181.68\n",
      "Research Director                                16033.55\n",
      "Healthcare Representative                        7528.76\n",
      "Manufacturing Director                           7295.14\n",
      "Sales Executive                                  6924.28\n",
      "Human Resources                                  4235.75\n",
      "Research Scientist                               3239.97\n",
      "Laboratory Technician                            3237.17\n",
      "Sales Representative                             2626.00\n"
     ]
    }
   ],
   "source": [
    "emp_res5 = collection_nm.aggregate([\n",
    "    {\"$group\": {\n",
    "        \"_id\" : \"$JobRole\",\n",
    "        \"avg_monthly_income\" : {\"$avg\" : '$MonthlyIncome'}\n",
    "    }},\n",
    "    {\"$sort\" : {\n",
    "        \"avg_monthly_income\" : -1 }\n",
    "    }\n",
    "])\n",
    "\n",
    "\n",
    "#Printing the results\n",
    "print('Job Role', '\\t\\t\\t\\t', 'Average Monthly Income')\n",
    "print('-----------------------------------------------------------------')\n",
    "for r in emp_res5:\n",
    "    print(f\"{r['_id'] : <25}{'{:.2f}' : >30}\".format(r['avg_monthly_income']))"
   ]
  },
  {
   "cell_type": "markdown",
   "id": "478310a1",
   "metadata": {},
   "source": [
    "##### 6. Count the different MaritalStatus when Attrition is YES and AGE is greater than 35 in the dataset. Arrange the count in descending order."
   ]
  },
  {
   "cell_type": "code",
   "execution_count": 23,
   "id": "ecffe6cf",
   "metadata": {},
   "outputs": [],
   "source": [
    "emp_res6 = collection_nm.aggregate([\n",
    "    {\n",
    "        '$match' : {\n",
    "            '$and': [\n",
    "                {\"Attrition\":'Yes'},\n",
    "                {'Age': {'$gt' : 35}}\n",
    "            ]\n",
    "        }\n",
    "    },\n",
    "    {\n",
    "        \"$group\" : {\n",
    "            \"_id\" : \"$MaritalStatus\",\n",
    "            \"count_emp\" : {\"$sum\" : 1}\n",
    "        }\n",
    "    },\n",
    "    {\"$sort\" : {\n",
    "        \"count_emp\" : -1 }\n",
    "    }\n",
    "])"
   ]
  },
  {
   "cell_type": "code",
   "execution_count": 24,
   "id": "8b9178e5",
   "metadata": {},
   "outputs": [
    {
     "data": {
      "text/plain": [
       "[{'_id': 'Married', 'count_emp': 33},\n",
       " {'_id': 'Single', 'count_emp': 30},\n",
       " {'_id': 'Divorced', 'count_emp': 14}]"
      ]
     },
     "execution_count": 24,
     "metadata": {},
     "output_type": "execute_result"
    }
   ],
   "source": [
    "list(emp_res6)"
   ]
  },
  {
   "cell_type": "markdown",
   "id": "404ba419",
   "metadata": {},
   "source": [
    "##### Delete All Documents in a Collection"
   ]
  },
  {
   "cell_type": "code",
   "execution_count": 25,
   "id": "28cf7466",
   "metadata": {},
   "outputs": [],
   "source": [
    "collection_del = collection_nm.delete_many({})"
   ]
  },
  {
   "cell_type": "markdown",
   "id": "77c46d6c",
   "metadata": {},
   "source": [
    "##### Delete the Collection"
   ]
  },
  {
   "cell_type": "code",
   "execution_count": 26,
   "id": "8adff23f",
   "metadata": {},
   "outputs": [],
   "source": [
    "collection_nm.drop()"
   ]
  },
  {
   "cell_type": "markdown",
   "id": "3e14d9a9",
   "metadata": {},
   "source": [
    "#### References"
   ]
  },
  {
   "cell_type": "markdown",
   "id": "55b45d10",
   "metadata": {},
   "source": [
    "###### [1] Dr. Liao’s lab tutorials and code examples: Blackboard/Liao_PyMongo.html  \n",
    "###### [2] Python MongoDB - https://www.w3schools.com/python/python_mongodb_getstarted.asp\n",
    "###### [3] PyMongoDB Documentation - https://pymongo.readthedocs.io/en/stable/"
   ]
  }
 ],
 "metadata": {
  "kernelspec": {
   "display_name": "Python 3 (ipykernel)",
   "language": "python",
   "name": "python3"
  },
  "language_info": {
   "codemirror_mode": {
    "name": "ipython",
    "version": 3
   },
   "file_extension": ".py",
   "mimetype": "text/x-python",
   "name": "python",
   "nbconvert_exporter": "python",
   "pygments_lexer": "ipython3",
   "version": "3.9.7"
  }
 },
 "nbformat": 4,
 "nbformat_minor": 5
}
