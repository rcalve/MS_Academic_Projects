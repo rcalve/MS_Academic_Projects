{
 "cells": [
  {
   "cell_type": "markdown",
   "metadata": {
    "application/vnd.databricks.v1+cell": {
     "cellMetadata": {},
     "inputWidgets": {},
     "nuid": "cbb72766-38c3-47ab-bc9a-f7c4e3973b20",
     "showTitle": false,
     "title": ""
    }
   },
   "source": [
    "### AIT 614 - Big Data Essentials <br>\n",
    "#### Lab 4: Spark with Python in Databricks\n",
    "<hr>\n",
    "<b>Purpose for helping students to learn PySpark for Data Science in Databricks</b><br>\n",
    "\n",
    "Creatd by Dr. Liao <br>\n",
    " <hr>\n",
    "<b>Please type into your course section # and your full name:</b><br><br>\n",
    "\n",
    "Course Section #: 005 <br>\n",
    "Student's Full Name: Rashmika Calve <br>\n",
    "\n",
    "<hr>\n",
    "<b>Please follow Dr. Liao's code examples/tutorials to complete these tasks:</b>"
   ]
  },
  {
   "cell_type": "markdown",
   "metadata": {
    "application/vnd.databricks.v1+cell": {
     "cellMetadata": {},
     "inputWidgets": {},
     "nuid": "1e89d004-de7d-4e34-a457-944938defbcb",
     "showTitle": false,
     "title": ""
    }
   },
   "source": [
    "#### Load a data file"
   ]
  },
  {
   "cell_type": "code",
   "execution_count": 0,
   "metadata": {
    "application/vnd.databricks.v1+cell": {
     "cellMetadata": {},
     "inputWidgets": {},
     "nuid": "3f488a72-73ed-405c-9f73-4cb289837f54",
     "showTitle": false,
     "title": ""
    }
   },
   "outputs": [],
   "source": [
    "df1 = spark.read.format(\"csv\").option(\"header\", \"true\").load(\"dbfs:/FileStore/shared_uploads/rcalve@gmu.edu/EmployeeAttrition.csv\")"
   ]
  },
  {
   "cell_type": "markdown",
   "metadata": {
    "application/vnd.databricks.v1+cell": {
     "cellMetadata": {},
     "inputWidgets": {},
     "nuid": "b9d718f2-7c67-4a9a-9162-a21f0f594529",
     "showTitle": false,
     "title": ""
    }
   },
   "source": [
    "##### (5 points) 1. Count the employees whose TotalWorkingYears are greater than 20."
   ]
  },
  {
   "cell_type": "code",
   "execution_count": 0,
   "metadata": {
    "application/vnd.databricks.v1+cell": {
     "cellMetadata": {},
     "inputWidgets": {},
     "nuid": "ba39c641-d1b1-449e-b8c3-8efd1ff81fa5",
     "showTitle": false,
     "title": ""
    }
   },
   "outputs": [
    {
     "name": "stdout",
     "output_type": "stream",
     "text": [
      "Out[14]: 207"
     ]
    }
   ],
   "source": [
    "df1.filter(df1.TotalWorkingYears > 20).count()"
   ]
  },
  {
   "cell_type": "markdown",
   "metadata": {
    "application/vnd.databricks.v1+cell": {
     "cellMetadata": {},
     "inputWidgets": {},
     "nuid": "6478e1fc-5239-4c59-898f-b6f1458ba764",
     "showTitle": false,
     "title": ""
    }
   },
   "source": [
    "##### (15 points) 2. Find EmployeeNumber, EducationField, JobRole for all the employees whose Age is between 25 and 30 and Education is 5. Use display() to display EmployeeNumber, EducationField, and JobRobe only."
   ]
  },
  {
   "cell_type": "code",
   "execution_count": 0,
   "metadata": {
    "application/vnd.databricks.v1+cell": {
     "cellMetadata": {},
     "inputWidgets": {},
     "nuid": "3f2156e3-6b74-40f3-a6ae-3a7a12c48ec9",
     "showTitle": false,
     "title": ""
    }
   },
   "outputs": [
    {
     "data": {
      "text/html": [
       "<style scoped>\n",
       "  .table-result-container {\n",
       "    max-height: 300px;\n",
       "    overflow: auto;\n",
       "  }\n",
       "  table, th, td {\n",
       "    border: 1px solid black;\n",
       "    border-collapse: collapse;\n",
       "  }\n",
       "  th, td {\n",
       "    padding: 5px;\n",
       "  }\n",
       "  th {\n",
       "    text-align: left;\n",
       "  }\n",
       "</style><div class='table-result-container'><table class='table-result'><thead style='background-color: white'><tr><th>EmployeeNumber</th><th>EducationField</th><th>JobRole</th></tr></thead><tbody><tr><td>455</td><td>Other</td><td>Laboratory Technician</td></tr><tr><td>565</td><td>Technical Degree</td><td>Research Scientist</td></tr><tr><td>747</td><td>Marketing</td><td>Sales Executive</td></tr><tr><td>1094</td><td>Life Sciences</td><td>Laboratory Technician</td></tr></tbody></table></div>"
      ]
     },
     "metadata": {
      "application/vnd.databricks.v1+output": {
       "addedWidgets": {},
       "aggData": [],
       "aggError": "",
       "aggOverflow": false,
       "aggSchema": [],
       "aggSeriesLimitReached": false,
       "aggType": "",
       "arguments": {},
       "columnCustomDisplayInfos": {},
       "data": [
        [
         "455",
         "Other",
         "Laboratory Technician"
        ],
        [
         "565",
         "Technical Degree",
         "Research Scientist"
        ],
        [
         "747",
         "Marketing",
         "Sales Executive"
        ],
        [
         "1094",
         "Life Sciences",
         "Laboratory Technician"
        ]
       ],
       "datasetInfos": [],
       "dbfsResultPath": null,
       "isJsonSchema": true,
       "metadata": {},
       "overflow": false,
       "plotOptions": {
        "customPlotOptions": {},
        "displayType": "table",
        "pivotAggregation": null,
        "pivotColumns": null,
        "xColumns": null,
        "yColumns": null
       },
       "removedWidgets": [],
       "schema": [
        {
         "metadata": "{}",
         "name": "EmployeeNumber",
         "type": "\"string\""
        },
        {
         "metadata": "{}",
         "name": "EducationField",
         "type": "\"string\""
        },
        {
         "metadata": "{}",
         "name": "JobRole",
         "type": "\"string\""
        }
       ],
       "type": "table"
      }
     },
     "output_type": "display_data"
    }
   ],
   "source": [
    "df_2 = df1.filter((df1.Age.between(25,30)) & (df1.Education == 5)).select('EmployeeNumber', 'EducationField', 'JobRole')\n",
    "display(df_2)"
   ]
  },
  {
   "cell_type": "markdown",
   "metadata": {
    "application/vnd.databricks.v1+cell": {
     "cellMetadata": {},
     "inputWidgets": {},
     "nuid": "351512e0-687b-499b-97d7-7ab6409e3bb0",
     "showTitle": false,
     "title": ""
    }
   },
   "source": [
    "##### (15 points) 3. For all the women employees having Age between 35 and 40 and TotalWorkingYears < 5, sort EmployeeNumber in an ascending order. Use display() to show EmployeeNumber and Department in the output."
   ]
  },
  {
   "cell_type": "code",
   "execution_count": 0,
   "metadata": {
    "application/vnd.databricks.v1+cell": {
     "cellMetadata": {},
     "inputWidgets": {},
     "nuid": "887ded8f-5a1b-4e34-ba57-88e3bea7b661",
     "showTitle": false,
     "title": ""
    }
   },
   "outputs": [
    {
     "data": {
      "text/html": [
       "<style scoped>\n",
       "  .table-result-container {\n",
       "    max-height: 300px;\n",
       "    overflow: auto;\n",
       "  }\n",
       "  table, th, td {\n",
       "    border: 1px solid black;\n",
       "    border-collapse: collapse;\n",
       "  }\n",
       "  th, td {\n",
       "    padding: 5px;\n",
       "  }\n",
       "  th {\n",
       "    text-align: left;\n",
       "  }\n",
       "</style><div class='table-result-container'><table class='table-result'><thead style='background-color: white'><tr><th>EmployeeNumber</th><th>Department</th></tr></thead><tbody><tr><td>49</td><td>Sales</td></tr><tr><td>75</td><td>Research & Development</td></tr><tr><td>245</td><td>Research & Development</td></tr><tr><td>805</td><td>Sales</td></tr><tr><td>1569</td><td>Research & Development</td></tr><tr><td>1662</td><td>Research & Development</td></tr><tr><td>1675</td><td>Research & Development</td></tr><tr><td>1886</td><td>Research & Development</td></tr><tr><td>2052</td><td>Research & Development</td></tr></tbody></table></div>"
      ]
     },
     "metadata": {
      "application/vnd.databricks.v1+output": {
       "addedWidgets": {},
       "aggData": [],
       "aggError": "",
       "aggOverflow": false,
       "aggSchema": [],
       "aggSeriesLimitReached": false,
       "aggType": "",
       "arguments": {},
       "columnCustomDisplayInfos": {},
       "data": [
        [
         "49",
         "Sales"
        ],
        [
         "75",
         "Research & Development"
        ],
        [
         "245",
         "Research & Development"
        ],
        [
         "805",
         "Sales"
        ],
        [
         "1569",
         "Research & Development"
        ],
        [
         "1662",
         "Research & Development"
        ],
        [
         "1675",
         "Research & Development"
        ],
        [
         "1886",
         "Research & Development"
        ],
        [
         "2052",
         "Research & Development"
        ]
       ],
       "datasetInfos": [],
       "dbfsResultPath": null,
       "isJsonSchema": true,
       "metadata": {},
       "overflow": false,
       "plotOptions": {
        "customPlotOptions": {},
        "displayType": "table",
        "pivotAggregation": null,
        "pivotColumns": null,
        "xColumns": null,
        "yColumns": null
       },
       "removedWidgets": [],
       "schema": [
        {
         "metadata": "{}",
         "name": "EmployeeNumber",
         "type": "\"string\""
        },
        {
         "metadata": "{}",
         "name": "Department",
         "type": "\"string\""
        }
       ],
       "type": "table"
      }
     },
     "output_type": "display_data"
    }
   ],
   "source": [
    "df_3 = df1.filter((df1.Age.between(35,40)) & (df1.TotalWorkingYears < 5) & (df1.Gender == \"Female\")).select('EmployeeNumber', 'Department').sort(df1.EmployeeNumber.cast('int').asc())\n",
    "# we are changing the datatype of Employee Number from string to integer with the\n",
    "#help of cast()\n",
    "display(df_3)"
   ]
  },
  {
   "cell_type": "markdown",
   "metadata": {
    "application/vnd.databricks.v1+cell": {
     "cellMetadata": {},
     "inputWidgets": {},
     "nuid": "369f4e4a-f08e-4232-b449-b0224f6614a8",
     "showTitle": false,
     "title": ""
    }
   },
   "source": [
    "##### (15 points) 4. Find employees whose HourlyRate is greater than 100 or DailyRate is greater than 1490. Display Age, HourlyRate, DailyRate, and Department only and sort DailyRate in a descending order."
   ]
  },
  {
   "cell_type": "code",
   "execution_count": 0,
   "metadata": {
    "application/vnd.databricks.v1+cell": {
     "cellMetadata": {},
     "inputWidgets": {},
     "nuid": "6a8810be-d5b5-4e00-9de2-334e55a73fb9",
     "showTitle": false,
     "title": ""
    }
   },
   "outputs": [
    {
     "data": {
      "text/html": [
       "<style scoped>\n",
       "  .table-result-container {\n",
       "    max-height: 300px;\n",
       "    overflow: auto;\n",
       "  }\n",
       "  table, th, td {\n",
       "    border: 1px solid black;\n",
       "    border-collapse: collapse;\n",
       "  }\n",
       "  th, td {\n",
       "    padding: 5px;\n",
       "  }\n",
       "  th {\n",
       "    text-align: left;\n",
       "  }\n",
       "</style><div class='table-result-container'><table class='table-result'><thead style='background-color: white'><tr><th>Age</th><th>HourlyRate</th><th>DailyRate</th><th>Department</th></tr></thead><tbody><tr><td>60</td><td>80</td><td>1499</td><td>Sales</td></tr><tr><td>39</td><td>44</td><td>1498</td><td>Sales</td></tr><tr><td>29</td><td>41</td><td>1496</td><td>Research & Development</td></tr><tr><td>28</td><td>92</td><td>1496</td><td>Sales</td></tr><tr><td>38</td><td>76</td><td>1495</td><td>Research & Development</td></tr><tr><td>49</td><td>96</td><td>1495</td><td>Research & Development</td></tr><tr><td>38</td><td>87</td><td>1495</td><td>Research & Development</td></tr><tr><td>40</td><td>61</td><td>1492</td><td>Research & Development</td></tr></tbody></table></div>"
      ]
     },
     "metadata": {
      "application/vnd.databricks.v1+output": {
       "addedWidgets": {},
       "aggData": [],
       "aggError": "",
       "aggOverflow": false,
       "aggSchema": [],
       "aggSeriesLimitReached": false,
       "aggType": "",
       "arguments": {},
       "columnCustomDisplayInfos": {},
       "data": [
        [
         "60",
         "80",
         "1499",
         "Sales"
        ],
        [
         "39",
         "44",
         "1498",
         "Sales"
        ],
        [
         "29",
         "41",
         "1496",
         "Research & Development"
        ],
        [
         "28",
         "92",
         "1496",
         "Sales"
        ],
        [
         "38",
         "76",
         "1495",
         "Research & Development"
        ],
        [
         "49",
         "96",
         "1495",
         "Research & Development"
        ],
        [
         "38",
         "87",
         "1495",
         "Research & Development"
        ],
        [
         "40",
         "61",
         "1492",
         "Research & Development"
        ]
       ],
       "datasetInfos": [],
       "dbfsResultPath": null,
       "isJsonSchema": true,
       "metadata": {},
       "overflow": false,
       "plotOptions": {
        "customPlotOptions": {},
        "displayType": "table",
        "pivotAggregation": null,
        "pivotColumns": null,
        "xColumns": null,
        "yColumns": null
       },
       "removedWidgets": [],
       "schema": [
        {
         "metadata": "{}",
         "name": "Age",
         "type": "\"string\""
        },
        {
         "metadata": "{}",
         "name": "HourlyRate",
         "type": "\"string\""
        },
        {
         "metadata": "{}",
         "name": "DailyRate",
         "type": "\"string\""
        },
        {
         "metadata": "{}",
         "name": "Department",
         "type": "\"string\""
        }
       ],
       "type": "table"
      }
     },
     "output_type": "display_data"
    }
   ],
   "source": [
    "df_4 = df1.filter((df1.HourlyRate > 100) | (df1.DailyRate > 1490)).select('Age', 'HourlyRate', 'DailyRate', 'Department').sort('DailyRate', ascending = False)\n",
    "display(df_4)"
   ]
  },
  {
   "cell_type": "markdown",
   "metadata": {
    "application/vnd.databricks.v1+cell": {
     "cellMetadata": {},
     "inputWidgets": {},
     "nuid": "209e4f6f-1499-4665-8deb-79f4ac0a44e7",
     "showTitle": false,
     "title": ""
    }
   },
   "source": [
    "##### (20 points) 5. For each JobRole, find the average MonthlyIncome. Print out the formatted monthly incomes in hundredth and arrange them in descending order?"
   ]
  },
  {
   "cell_type": "code",
   "execution_count": 0,
   "metadata": {
    "application/vnd.databricks.v1+cell": {
     "cellMetadata": {},
     "inputWidgets": {},
     "nuid": "1c0fc783-488a-4464-99d2-862133ea36c3",
     "showTitle": false,
     "title": ""
    }
   },
   "outputs": [
    {
     "data": {
      "text/html": [
       "<style scoped>\n",
       "  .table-result-container {\n",
       "    max-height: 300px;\n",
       "    overflow: auto;\n",
       "  }\n",
       "  table, th, td {\n",
       "    border: 1px solid black;\n",
       "    border-collapse: collapse;\n",
       "  }\n",
       "  th, td {\n",
       "    padding: 5px;\n",
       "  }\n",
       "  th {\n",
       "    text-align: left;\n",
       "  }\n",
       "</style><div class='table-result-container'><table class='table-result'><thead style='background-color: white'><tr><th>JobRole</th><th>Avg_Monthly_Income</th></tr></thead><tbody><tr><td>Manager</td><td>17181.68</td></tr><tr><td>Research Director</td><td>16033.55</td></tr><tr><td>Healthcare Representative</td><td>7528.76</td></tr><tr><td>Manufacturing Director</td><td>7295.14</td></tr><tr><td>Sales Executive</td><td>6924.28</td></tr><tr><td>Human Resources</td><td>4235.75</td></tr><tr><td>Research Scientist</td><td>3239.97</td></tr><tr><td>Laboratory Technician</td><td>3237.17</td></tr><tr><td>Sales Representative</td><td>2626.0</td></tr></tbody></table></div>"
      ]
     },
     "metadata": {
      "application/vnd.databricks.v1+output": {
       "addedWidgets": {},
       "aggData": [],
       "aggError": "",
       "aggOverflow": false,
       "aggSchema": [],
       "aggSeriesLimitReached": false,
       "aggType": "",
       "arguments": {},
       "columnCustomDisplayInfos": {},
       "data": [
        [
         "Manager",
         17181.68
        ],
        [
         "Research Director",
         16033.55
        ],
        [
         "Healthcare Representative",
         7528.76
        ],
        [
         "Manufacturing Director",
         7295.14
        ],
        [
         "Sales Executive",
         6924.28
        ],
        [
         "Human Resources",
         4235.75
        ],
        [
         "Research Scientist",
         3239.97
        ],
        [
         "Laboratory Technician",
         3237.17
        ],
        [
         "Sales Representative",
         2626
        ]
       ],
       "datasetInfos": [],
       "dbfsResultPath": null,
       "isJsonSchema": true,
       "metadata": {},
       "overflow": false,
       "plotOptions": {
        "customPlotOptions": {},
        "displayType": "table",
        "pivotAggregation": null,
        "pivotColumns": null,
        "xColumns": null,
        "yColumns": null
       },
       "removedWidgets": [],
       "schema": [
        {
         "metadata": "{}",
         "name": "JobRole",
         "type": "\"string\""
        },
        {
         "metadata": "{}",
         "name": "Avg_Monthly_Income",
         "type": "\"double\""
        }
       ],
       "type": "table"
      }
     },
     "output_type": "display_data"
    }
   ],
   "source": [
    "from pyspark.sql.functions import avg, round\n",
    "df_5 = df1.groupBy('JobRole').agg(round(avg('MonthlyIncome'),2).alias('Avg_Monthly_Income')).sort('Avg_Monthly_Income', ascending = False)\n",
    "display(df_5)"
   ]
  },
  {
   "cell_type": "code",
   "execution_count": 0,
   "metadata": {
    "application/vnd.databricks.v1+cell": {
     "cellMetadata": {},
     "inputWidgets": {},
     "nuid": "10a49fc2-ec77-47f2-bc45-d1261de5a75c",
     "showTitle": false,
     "title": ""
    }
   },
   "outputs": [
    {
     "data": {
      "text/html": [
       "<style scoped>\n",
       "  .table-result-container {\n",
       "    max-height: 300px;\n",
       "    overflow: auto;\n",
       "  }\n",
       "  table, th, td {\n",
       "    border: 1px solid black;\n",
       "    border-collapse: collapse;\n",
       "  }\n",
       "  th, td {\n",
       "    padding: 5px;\n",
       "  }\n",
       "  th {\n",
       "    text-align: left;\n",
       "  }\n",
       "</style><div class='table-result-container'><table class='table-result'><thead style='background-color: white'><tr><th>JobRole</th><th>Avg_Monthly_Income</th></tr></thead><tbody><tr><td>Manager</td><td>17181.68</td></tr><tr><td>Research Director</td><td>16033.55</td></tr><tr><td>Healthcare Representative</td><td>7528.76</td></tr><tr><td>Manufacturing Director</td><td>7295.14</td></tr><tr><td>Sales Executive</td><td>6924.28</td></tr><tr><td>Human Resources</td><td>4235.75</td></tr><tr><td>Research Scientist</td><td>3239.97</td></tr><tr><td>Laboratory Technician</td><td>3237.17</td></tr><tr><td>Sales Representative</td><td>2626.0</td></tr></tbody></table></div>"
      ]
     },
     "metadata": {
      "application/vnd.databricks.v1+output": {
       "addedWidgets": {},
       "aggData": [],
       "aggError": "",
       "aggOverflow": false,
       "aggSchema": [],
       "aggSeriesLimitReached": false,
       "aggType": "",
       "arguments": {},
       "columnCustomDisplayInfos": {},
       "data": [
        [
         "Manager",
         17181.68
        ],
        [
         "Research Director",
         16033.55
        ],
        [
         "Healthcare Representative",
         7528.76
        ],
        [
         "Manufacturing Director",
         7295.14
        ],
        [
         "Sales Executive",
         6924.28
        ],
        [
         "Human Resources",
         4235.75
        ],
        [
         "Research Scientist",
         3239.97
        ],
        [
         "Laboratory Technician",
         3237.17
        ],
        [
         "Sales Representative",
         2626
        ]
       ],
       "datasetInfos": [],
       "dbfsResultPath": null,
       "isJsonSchema": true,
       "metadata": {},
       "overflow": false,
       "plotOptions": {
        "customPlotOptions": {},
        "displayType": "table",
        "pivotAggregation": null,
        "pivotColumns": null,
        "xColumns": null,
        "yColumns": null
       },
       "removedWidgets": [],
       "schema": [
        {
         "metadata": "{}",
         "name": "JobRole",
         "type": "\"string\""
        },
        {
         "metadata": "{}",
         "name": "Avg_Monthly_Income",
         "type": "\"double\""
        }
       ],
       "type": "table"
      }
     },
     "output_type": "display_data"
    },
    {
     "data": {
      "text/plain": [
       "Output can only be rendered in Databricks"
      ]
     },
     "metadata": {
      "application/vnd.databricks.v1.subcommand+json": {
       "bindings": {},
       "collapsed": false,
       "command": "%python\n__backend_agg_display_orig = display\n__backend_agg_dfs = []\ndef __backend_agg_display_new(df):\n    __backend_agg_df_modules = [\"pandas.core.frame\", \"databricks.koalas.frame\", \"pyspark.sql.dataframe\", \"pyspark.pandas.frame\"]\n    if (type(df).__module__ in __backend_agg_df_modules and type(df).__name__ == 'DataFrame') or isinstance(df, list):\n        __backend_agg_dfs.append(df)\n\ndisplay = __backend_agg_display_new\n\ndef __backend_agg_user_code_fn():\n    import base64\n    exec(base64.standard_b64decode(\"IyBEaXNwbGF5aW5nIHRoZSBvdXRwdXQgYXMgYSBiYXIgY2hhcnQKZGZfNS5kaXNwbGF5KCk=\").decode())\n\ntry:\n    # run user code\n    __backend_agg_user_code_fn()\n\n    #reset display function\n    display = __backend_agg_display_orig\n\n    if len(__backend_agg_dfs) > 0:\n        # create a temp view\n        if hasattr(__backend_agg_dfs[0], \"to_spark\"):\n            # koalas dataframe\n            __backend_agg_dfs[0].to_spark().createOrReplaceTempView(\"DatabricksView88364fd\")\n        elif type(__backend_agg_dfs[0]).__module__ == \"pandas.core.frame\" or isinstance(__backend_agg_dfs[0], list):\n            # pandas dataframe\n            spark.createDataFrame(__backend_agg_dfs[0]).createOrReplaceTempView(\"DatabricksView88364fd\")\n        else:\n            __backend_agg_dfs[0].createOrReplaceTempView(\"DatabricksView88364fd\")\n        #run backend agg\n        display(spark.sql(\"\"\"WITH q AS (select * from DatabricksView88364fd) SELECT `JobRole`,SUM(`Avg_Monthly_Income`) `column_596cf5f52` FROM q GROUP BY `JobRole`\"\"\"))\n    else:\n        displayHTML(\"dataframe no longer exists. If you're using dataframe.display(), use display(dataframe) instead.\")\n\n\nfinally:\n    spark.sql(\"drop view if exists DatabricksView88364fd\")\n    display = __backend_agg_display_orig\n    del __backend_agg_display_new\n    del __backend_agg_display_orig\n    del __backend_agg_dfs\n    del __backend_agg_user_code_fn\n\n",
       "commandTitle": "Visualization 1",
       "commandType": "auto",
       "commandVersion": 0,
       "commentThread": [],
       "commentsVisible": false,
       "contentSha256Hex": null,
       "customPlotOptions": {
        "redashChart": [
         {
          "key": "type",
          "value": "CHART"
         },
         {
          "key": "options",
          "value": {
           "alignYAxesAtZero": true,
           "coefficient": 1,
           "columnConfigurationMap": {
            "x": {
             "column": "JobRole",
             "id": "column_596cf5f51"
            },
            "y": [
             {
              "column": "Avg_Monthly_Income",
              "id": "column_596cf5f52",
              "transform": "SUM"
             }
            ]
           },
           "dateTimeFormat": "DD/MM/YYYY HH:mm",
           "direction": {
            "type": "counterclockwise"
           },
           "error_y": {
            "type": "data",
            "visible": true
           },
           "globalSeriesType": "column",
           "isAggregationOn": true,
           "legend": {
            "traceorder": "normal"
           },
           "missingValuesAsZero": true,
           "numberFormat": "'0.a'",
           "percentFormat": "0[.]00%",
           "series": {
            "error_y": {
             "type": "data",
             "visible": true
            },
            "stacking": null
           },
           "seriesOptions": {
            "column_596cf5f52": {
             "color": "#002FB4",
             "name": "Avg_Monthly_Income",
             "yAxis": 0
            }
           },
           "showDataLabels": true,
           "sizemode": "diameter",
           "sortX": true,
           "sortY": true,
           "swappedAxes": false,
           "textFormat": "",
           "useAggregationsUi": true,
           "valuesOptions": {},
           "version": 2,
           "xAxis": {
            "labels": {
             "enabled": true
            },
            "type": "-"
           },
           "yAxis": [
            {
             "type": "-"
            },
            {
             "opposite": true,
             "type": "-"
            }
           ]
          }
         }
        ]
       },
       "datasetPreviewNameToCmdIdMap": {},
       "diffDeletes": [],
       "diffInserts": [],
       "displayType": "redashChart",
       "error": null,
       "errorSummary": null,
       "errorTraceType": null,
       "finishTime": 0,
       "globalVars": {},
       "guid": "7c05dee0-ae4e-4908-b15b-2ee1aeadfc36",
       "height": "auto",
       "hideCommandCode": false,
       "hideCommandResult": false,
       "iPythonMetadata": null,
       "inputWidgets": {},
       "isLockedInExamMode": false,
       "latestUser": "a user",
       "latestUserId": null,
       "listResultMetadata": null,
       "metadata": {},
       "nuid": "e99f8676-1bdc-475e-8e87-0fe700ae4a6b",
       "origId": 1916027048525705,
       "parentHierarchy": [
        "c07f331e-848c-4767-8c3b-88945d8b1df0"
       ],
       "pivotAggregation": null,
       "pivotColumns": null,
       "position": 14.5,
       "resultDbfsErrorMessage": null,
       "resultDbfsStatus": "INLINED_IN_TREE",
       "results": null,
       "showCommandTitle": false,
       "startTime": 0,
       "state": "finished",
       "streamStates": {},
       "subcommandOptions": {
        "queryPlan": {
         "groups": [
          {
           "column": "JobRole",
           "type": "column"
          }
         ],
         "selects": [
          {
           "column": "JobRole",
           "type": "column"
          },
          {
           "alias": "column_596cf5f52",
           "args": [
            {
             "column": "Avg_Monthly_Income",
             "type": "column"
            }
           ],
           "function": "SUM",
           "type": "function"
          }
         ]
        }
       },
       "submitTime": 0,
       "subtype": "tableResultSubCmd.visualization",
       "tableResultIndex": 0,
       "useConsistentColors": false,
       "version": "CommandV1",
       "width": "auto",
       "workflows": [],
       "xColumns": null,
       "yColumns": null
      }
     },
     "output_type": "display_data"
    }
   ],
   "source": [
    "# Displaying the output as a bar chart\n",
    "df_5.display()"
   ]
  },
  {
   "cell_type": "markdown",
   "metadata": {
    "application/vnd.databricks.v1+cell": {
     "cellMetadata": {},
     "inputWidgets": {},
     "nuid": "93bcff31-3da0-454d-b2d7-05a2ea97ed6f",
     "showTitle": false,
     "title": ""
    }
   },
   "source": [
    "##### (20 points) 6. Count the different MaritalStatus when Attrition is Yes and Age is greater than 35 in the dataset. Arrange the count in descending order."
   ]
  },
  {
   "cell_type": "code",
   "execution_count": 0,
   "metadata": {
    "application/vnd.databricks.v1+cell": {
     "cellMetadata": {},
     "inputWidgets": {},
     "nuid": "32eeede6-bb0e-47b8-936e-0def8b81aaff",
     "showTitle": false,
     "title": ""
    }
   },
   "outputs": [
    {
     "data": {
      "text/html": [
       "<style scoped>\n",
       "  .table-result-container {\n",
       "    max-height: 300px;\n",
       "    overflow: auto;\n",
       "  }\n",
       "  table, th, td {\n",
       "    border: 1px solid black;\n",
       "    border-collapse: collapse;\n",
       "  }\n",
       "  th, td {\n",
       "    padding: 5px;\n",
       "  }\n",
       "  th {\n",
       "    text-align: left;\n",
       "  }\n",
       "</style><div class='table-result-container'><table class='table-result'><thead style='background-color: white'><tr><th>MaritalStatus</th><th>count</th></tr></thead><tbody><tr><td>Married</td><td>33</td></tr><tr><td>Single</td><td>30</td></tr><tr><td>Divorced</td><td>14</td></tr></tbody></table></div>"
      ]
     },
     "metadata": {
      "application/vnd.databricks.v1+output": {
       "addedWidgets": {},
       "aggData": [],
       "aggError": "",
       "aggOverflow": false,
       "aggSchema": [],
       "aggSeriesLimitReached": false,
       "aggType": "",
       "arguments": {},
       "columnCustomDisplayInfos": {},
       "data": [
        [
         "Married",
         33
        ],
        [
         "Single",
         30
        ],
        [
         "Divorced",
         14
        ]
       ],
       "datasetInfos": [],
       "dbfsResultPath": null,
       "isJsonSchema": true,
       "metadata": {},
       "overflow": false,
       "plotOptions": {
        "customPlotOptions": {},
        "displayType": "table",
        "pivotAggregation": null,
        "pivotColumns": null,
        "xColumns": null,
        "yColumns": null
       },
       "removedWidgets": [],
       "schema": [
        {
         "metadata": "{}",
         "name": "MaritalStatus",
         "type": "\"string\""
        },
        {
         "metadata": "{}",
         "name": "count",
         "type": "\"long\""
        }
       ],
       "type": "table"
      }
     },
     "output_type": "display_data"
    }
   ],
   "source": [
    "df_6 = df1.filter((df1.Attrition == 'Yes') & (df1.Age > 35)).groupBy('MaritalStatus').count().sort(\"count\", ascending = False)\n",
    "display(df_6)"
   ]
  },
  {
   "cell_type": "code",
   "execution_count": 0,
   "metadata": {
    "application/vnd.databricks.v1+cell": {
     "cellMetadata": {},
     "inputWidgets": {},
     "nuid": "3328df09-f0b4-4639-90bc-d28bccc39bc6",
     "showTitle": false,
     "title": ""
    }
   },
   "outputs": [
    {
     "data": {
      "text/html": [
       "<style scoped>\n",
       "  .table-result-container {\n",
       "    max-height: 300px;\n",
       "    overflow: auto;\n",
       "  }\n",
       "  table, th, td {\n",
       "    border: 1px solid black;\n",
       "    border-collapse: collapse;\n",
       "  }\n",
       "  th, td {\n",
       "    padding: 5px;\n",
       "  }\n",
       "  th {\n",
       "    text-align: left;\n",
       "  }\n",
       "</style><div class='table-result-container'><table class='table-result'><thead style='background-color: white'><tr><th>MaritalStatus</th><th>count</th></tr></thead><tbody><tr><td>Married</td><td>33</td></tr><tr><td>Single</td><td>30</td></tr><tr><td>Divorced</td><td>14</td></tr></tbody></table></div>"
      ]
     },
     "metadata": {
      "application/vnd.databricks.v1+output": {
       "addedWidgets": {},
       "aggData": [],
       "aggError": "",
       "aggOverflow": false,
       "aggSchema": [],
       "aggSeriesLimitReached": false,
       "aggType": "",
       "arguments": {},
       "columnCustomDisplayInfos": {},
       "data": [
        [
         "Married",
         33
        ],
        [
         "Single",
         30
        ],
        [
         "Divorced",
         14
        ]
       ],
       "datasetInfos": [],
       "dbfsResultPath": null,
       "isJsonSchema": true,
       "metadata": {},
       "overflow": false,
       "plotOptions": {
        "customPlotOptions": {},
        "displayType": "table",
        "pivotAggregation": null,
        "pivotColumns": null,
        "xColumns": null,
        "yColumns": null
       },
       "removedWidgets": [],
       "schema": [
        {
         "metadata": "{}",
         "name": "MaritalStatus",
         "type": "\"string\""
        },
        {
         "metadata": "{}",
         "name": "count",
         "type": "\"long\""
        }
       ],
       "type": "table"
      }
     },
     "output_type": "display_data"
    },
    {
     "data": {
      "text/plain": [
       "Output can only be rendered in Databricks"
      ]
     },
     "metadata": {
      "application/vnd.databricks.v1.subcommand+json": {
       "bindings": {},
       "collapsed": false,
       "command": "%python\n__backend_agg_display_orig = display\n__backend_agg_dfs = []\ndef __backend_agg_display_new(df):\n    __backend_agg_df_modules = [\"pandas.core.frame\", \"databricks.koalas.frame\", \"pyspark.sql.dataframe\", \"pyspark.pandas.frame\"]\n    if (type(df).__module__ in __backend_agg_df_modules and type(df).__name__ == 'DataFrame') or isinstance(df, list):\n        __backend_agg_dfs.append(df)\n\ndisplay = __backend_agg_display_new\n\ndef __backend_agg_user_code_fn():\n    import base64\n    exec(base64.standard_b64decode(\"I0Rpc3BsYXlpbmcgdGhlIG91dHB1dCBhcyBhIHBpZSBjaGFydApkZl82LmRpc3BsYXkoKQ==\").decode())\n\ntry:\n    # run user code\n    __backend_agg_user_code_fn()\n\n    #reset display function\n    display = __backend_agg_display_orig\n\n    if len(__backend_agg_dfs) > 0:\n        # create a temp view\n        if hasattr(__backend_agg_dfs[0], \"to_spark\"):\n            # koalas dataframe\n            __backend_agg_dfs[0].to_spark().createOrReplaceTempView(\"DatabricksView0650f75\")\n        elif type(__backend_agg_dfs[0]).__module__ == \"pandas.core.frame\" or isinstance(__backend_agg_dfs[0], list):\n            # pandas dataframe\n            spark.createDataFrame(__backend_agg_dfs[0]).createOrReplaceTempView(\"DatabricksView0650f75\")\n        else:\n            __backend_agg_dfs[0].createOrReplaceTempView(\"DatabricksView0650f75\")\n        #run backend agg\n        display(spark.sql(\"\"\"WITH q AS (select * from DatabricksView0650f75) SELECT `MaritalStatus`,SUM(`count`) `column_596cf5f55` FROM q GROUP BY `MaritalStatus`\"\"\"))\n    else:\n        displayHTML(\"dataframe no longer exists. If you're using dataframe.display(), use display(dataframe) instead.\")\n\n\nfinally:\n    spark.sql(\"drop view if exists DatabricksView0650f75\")\n    display = __backend_agg_display_orig\n    del __backend_agg_display_new\n    del __backend_agg_display_orig\n    del __backend_agg_dfs\n    del __backend_agg_user_code_fn\n\n",
       "commandTitle": "Visualization 1",
       "commandType": "auto",
       "commandVersion": 0,
       "commentThread": [],
       "commentsVisible": false,
       "contentSha256Hex": null,
       "customPlotOptions": {
        "redashChart": [
         {
          "key": "type",
          "value": "CHART"
         },
         {
          "key": "options",
          "value": {
           "alignYAxesAtZero": true,
           "coefficient": 1,
           "columnConfigurationMap": {
            "x": {
             "column": "MaritalStatus",
             "id": "column_596cf5f54"
            },
            "y": [
             {
              "column": "count",
              "id": "column_596cf5f55",
              "transform": "SUM"
             }
            ]
           },
           "dateTimeFormat": "DD/MM/YYYY HH:mm",
           "direction": {
            "type": "clockwise"
           },
           "error_y": {
            "type": "data",
            "visible": true
           },
           "globalSeriesType": "pie",
           "isAggregationOn": true,
           "legend": {
            "traceorder": "normal"
           },
           "missingValuesAsZero": true,
           "numberFormat": "",
           "percentFormat": "'0%'",
           "series": {
            "error_y": {
             "type": "data",
             "visible": true
            },
            "stacking": null
           },
           "seriesOptions": {
            "column_596cf5f55": {
             "name": "Marital Status Count",
             "type": "pie",
             "yAxis": 0
            }
           },
           "showDataLabels": true,
           "sizemode": "diameter",
           "sortX": true,
           "sortY": true,
           "swappedAxes": false,
           "textFormat": "",
           "useAggregationsUi": true,
           "valuesOptions": {
            "Divorced": {
             "color": "#356AFF"
            },
            "Married": {
             "color": "#049235"
            },
            "Single": {
             "color": "#FB8D3D"
            }
           },
           "version": 2,
           "xAxis": {
            "labels": {
             "enabled": true
            },
            "type": "-"
           },
           "yAxis": [
            {
             "type": "-"
            },
            {
             "opposite": true,
             "type": "-"
            }
           ]
          }
         }
        ]
       },
       "datasetPreviewNameToCmdIdMap": {},
       "diffDeletes": [],
       "diffInserts": [],
       "displayType": "redashChart",
       "error": null,
       "errorSummary": null,
       "errorTraceType": null,
       "finishTime": 0,
       "globalVars": {},
       "guid": "b578ff0b-7799-4242-9c57-b4c43a7ff862",
       "height": "auto",
       "hideCommandCode": false,
       "hideCommandResult": false,
       "iPythonMetadata": null,
       "inputWidgets": {},
       "isLockedInExamMode": false,
       "latestUser": "a user",
       "latestUserId": null,
       "listResultMetadata": null,
       "metadata": {},
       "nuid": "467634a8-6231-4c30-84ec-8721c62b1e38",
       "origId": 1916027048525707,
       "parentHierarchy": [
        "3cd39fc5-ca93-419b-8e2d-db5953786d04"
       ],
       "pivotAggregation": null,
       "pivotColumns": null,
       "position": 16.5,
       "resultDbfsErrorMessage": null,
       "resultDbfsStatus": "INLINED_IN_TREE",
       "results": null,
       "showCommandTitle": false,
       "startTime": 0,
       "state": "finished",
       "streamStates": {},
       "subcommandOptions": {
        "queryPlan": {
         "groups": [
          {
           "column": "MaritalStatus",
           "type": "column"
          }
         ],
         "selects": [
          {
           "column": "MaritalStatus",
           "type": "column"
          },
          {
           "alias": "column_596cf5f55",
           "args": [
            {
             "column": "count",
             "type": "column"
            }
           ],
           "function": "SUM",
           "type": "function"
          }
         ]
        }
       },
       "submitTime": 0,
       "subtype": "tableResultSubCmd.visualization",
       "tableResultIndex": 0,
       "useConsistentColors": false,
       "version": "CommandV1",
       "width": "auto",
       "workflows": [],
       "xColumns": null,
       "yColumns": null
      }
     },
     "output_type": "display_data"
    }
   ],
   "source": [
    "#Displaying the output as a pie chart\n",
    "df_6.display()"
   ]
  },
  {
   "cell_type": "markdown",
   "metadata": {
    "application/vnd.databricks.v1+cell": {
     "cellMetadata": {},
     "inputWidgets": {},
     "nuid": "ff203823-5190-4e00-9407-ea541c624d3f",
     "showTitle": false,
     "title": ""
    }
   },
   "source": [
    "##### (10 points) References: <br>\n",
    "1) Dr. Liao's Code Examples and Tutorials Series - Spark with Python for Data Queries and Basic Analysis in Databricks ( Blackboard )\n",
    "2) Databricks Visualizations :\n",
    "https://docs.databricks.com/notebooks/visualizations/index.html\n",
    "3) PySpark Dataframe :\n",
    "https://spark.apache.org/docs/latest/api/python/reference/api/pyspark.sql.DataFrame.html\n",
    "4) PySpark :\n",
    "https://spark.apache.org/docs/2.4.0/api/python/pyspark.html"
   ]
  },
  {
   "cell_type": "code",
   "execution_count": 0,
   "metadata": {
    "application/vnd.databricks.v1+cell": {
     "cellMetadata": {},
     "inputWidgets": {},
     "nuid": "46d55032-868e-4c58-a82f-51c04071ec90",
     "showTitle": false,
     "title": ""
    }
   },
   "outputs": [],
   "source": []
  }
 ],
 "metadata": {
  "application/vnd.databricks.v1+notebook": {
   "dashboards": [],
   "language": "python",
   "notebookMetadata": {
    "pythonIndentUnit": 2
   },
   "notebookName": "AIT-Sec005_Lab4_RashmikaCalve",
   "notebookOrigID": 1916027048525680,
   "widgets": {}
  },
  "kernelspec": {
   "display_name": "Python 3 (ipykernel)",
   "language": "python",
   "name": "python3"
  },
  "language_info": {
   "codemirror_mode": {
    "name": "ipython",
    "version": 3
   },
   "file_extension": ".py",
   "mimetype": "text/x-python",
   "name": "python",
   "nbconvert_exporter": "python",
   "pygments_lexer": "ipython3",
   "version": "3.9.7"
  }
 },
 "nbformat": 4,
 "nbformat_minor": 1
}
